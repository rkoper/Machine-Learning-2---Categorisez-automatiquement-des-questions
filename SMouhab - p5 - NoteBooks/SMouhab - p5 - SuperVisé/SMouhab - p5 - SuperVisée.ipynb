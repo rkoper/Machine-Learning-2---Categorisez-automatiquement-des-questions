{
 "cells": [
  {
   "cell_type": "code",
   "execution_count": 1,
   "id": "d3a1fd20",
   "metadata": {},
   "outputs": [
    {
     "name": "stdout",
     "output_type": "stream",
     "text": [
      "time: 751 µs (started: 2022-01-02 17:55:20 +01:00)\n"
     ]
    }
   ],
   "source": [
    "%load_ext autotime"
   ]
  },
  {
   "cell_type": "code",
   "execution_count": 2,
   "id": "c917f9f8",
   "metadata": {},
   "outputs": [
    {
     "name": "stdout",
     "output_type": "stream",
     "text": [
      "time: 9.8 s (started: 2022-01-02 17:55:20 +01:00)\n"
     ]
    }
   ],
   "source": [
    "import numpy as np\n",
    "import pandas as pd\n",
    "import seaborn as sns\n",
    "import os\n",
    "from bs4 import BeautifulSoup\n",
    "from sklearn.multiclass import OneVsOneClassifier\n",
    "from sklearn.metrics import accuracy_score, classification_report\n",
    "import warnings\n",
    "from sklearn.metrics import confusion_matrix\n",
    "warnings.simplefilter(action='ignore', category=Warning)\n",
    "from sklearn.feature_extraction.text import CountVectorizer\n",
    "from tqdm import tqdm\n",
    "import matplotlib.pyplot as plt\n",
    "from sklearn.feature_extraction.text import TfidfVectorizer\n",
    "from sklearn.multiclass import OneVsRestClassifier\n",
    "from sklearn.linear_model import SGDClassifier\n",
    "from sklearn import metrics\n",
    "from sklearn.metrics import f1_score,precision_score,recall_score\n",
    "from sklearn import svm\n",
    "from sklearn.linear_model import LogisticRegression\n",
    "from sklearn.metrics import f1_score\n",
    "from sklearn.decomposition import LatentDirichletAllocation\n",
    "from sklearn.preprocessing import MultiLabelBinarizer\n",
    "from sklearn.model_selection import train_test_split\n",
    "from sklearn.metrics import hamming_loss\n",
    "from sklearn.ensemble import RandomForestClassifier\n",
    "from sklearn.ensemble import ExtraTreesClassifier\n",
    "from sklearn.naive_bayes import GaussianNB\n",
    "from sklearn.feature_extraction.text import CountVectorizer\n",
    "import nltk\n",
    "from nltk.tokenize import ToktokTokenizer\n",
    "from nltk.stem.wordnet import WordNetLemmatizer\n",
    "from nltk.corpus import stopwords\n",
    "from string import punctuation\n",
    "from sklearn.decomposition import TruncatedSVD\n",
    "from lightgbm import LGBMClassifier\n",
    "from sklearn.svm import LinearSVC\n",
    "from datetime import datetime\n"
   ]
  },
  {
   "cell_type": "markdown",
   "id": "a73a7daa",
   "metadata": {},
   "source": [
    "# 1 - Import ----------------------------------------"
   ]
  },
  {
   "cell_type": "code",
   "execution_count": 3,
   "metadata": {},
   "outputs": [
    {
     "name": "stdout",
     "output_type": "stream",
     "text": [
      "time: 9.8 s (started: 2022-01-02 17:55:29 +01:00)\n"
     ]
    }
   ],
   "source": [
    "lst = []\n",
    "for i in range (1,11):\n",
    "#for i in range (1,3):\n",
    "    path = 'Data/Query_'+ str(i) + '.csv'\n",
    "    mDf = pd.read_csv(path, dtype=str) \n",
    "    lst.append(mDf)"
   ]
  },
  {
   "cell_type": "code",
   "execution_count": 4,
   "metadata": {},
   "outputs": [
    {
     "data": {
      "text/html": [
       "<div>\n",
       "<style scoped>\n",
       "    .dataframe tbody tr th:only-of-type {\n",
       "        vertical-align: middle;\n",
       "    }\n",
       "\n",
       "    .dataframe tbody tr th {\n",
       "        vertical-align: top;\n",
       "    }\n",
       "\n",
       "    .dataframe thead th {\n",
       "        text-align: right;\n",
       "    }\n",
       "</style>\n",
       "<table border=\"1\" class=\"dataframe\">\n",
       "  <thead>\n",
       "    <tr style=\"text-align: right;\">\n",
       "      <th></th>\n",
       "      <th>Id</th>\n",
       "      <th>PostTypeId</th>\n",
       "      <th>AcceptedAnswerId</th>\n",
       "      <th>ParentId</th>\n",
       "      <th>CreationDate</th>\n",
       "      <th>DeletionDate</th>\n",
       "      <th>Score</th>\n",
       "      <th>ViewCount</th>\n",
       "      <th>Body</th>\n",
       "      <th>OwnerUserId</th>\n",
       "      <th>...</th>\n",
       "      <th>LastEditDate</th>\n",
       "      <th>LastActivityDate</th>\n",
       "      <th>Title</th>\n",
       "      <th>Tags</th>\n",
       "      <th>AnswerCount</th>\n",
       "      <th>CommentCount</th>\n",
       "      <th>FavoriteCount</th>\n",
       "      <th>ClosedDate</th>\n",
       "      <th>CommunityOwnedDate</th>\n",
       "      <th>ContentLicense</th>\n",
       "    </tr>\n",
       "  </thead>\n",
       "  <tbody>\n",
       "    <tr>\n",
       "      <th>0</th>\n",
       "      <td>100001</td>\n",
       "      <td>1</td>\n",
       "      <td>NaN</td>\n",
       "      <td>NaN</td>\n",
       "      <td>2008-09-19 06:10:16</td>\n",
       "      <td>NaN</td>\n",
       "      <td>5</td>\n",
       "      <td>6715</td>\n",
       "      <td>&lt;p&gt;This question intends to be technology-agno...</td>\n",
       "      <td>18552</td>\n",
       "      <td>...</td>\n",
       "      <td>NaN</td>\n",
       "      <td>2009-02-27 00:27:14</td>\n",
       "      <td>MVC or event-driven component-oriented web fra...</td>\n",
       "      <td>&lt;web-frameworks&gt;</td>\n",
       "      <td>6</td>\n",
       "      <td>0</td>\n",
       "      <td>1</td>\n",
       "      <td>2012-08-15 13:39:14</td>\n",
       "      <td>NaN</td>\n",
       "      <td>CC BY-SA 2.5</td>\n",
       "    </tr>\n",
       "    <tr>\n",
       "      <th>1</th>\n",
       "      <td>100003</td>\n",
       "      <td>1</td>\n",
       "      <td>100146</td>\n",
       "      <td>NaN</td>\n",
       "      <td>2008-09-19 06:10:46</td>\n",
       "      <td>NaN</td>\n",
       "      <td>6435</td>\n",
       "      <td>939655</td>\n",
       "      <td>&lt;p&gt;In Python, what are metaclasses and what do...</td>\n",
       "      <td>9951</td>\n",
       "      <td>...</td>\n",
       "      <td>2021-01-13 03:43:24</td>\n",
       "      <td>2021-10-03 16:06:40</td>\n",
       "      <td>What are metaclasses in Python?</td>\n",
       "      <td>&lt;python&gt;&lt;oop&gt;&lt;metaclass&gt;&lt;python-class&gt;&lt;python-...</td>\n",
       "      <td>24</td>\n",
       "      <td>0</td>\n",
       "      <td>4115</td>\n",
       "      <td>NaN</td>\n",
       "      <td>NaN</td>\n",
       "      <td>CC BY-SA 4.0</td>\n",
       "    </tr>\n",
       "    <tr>\n",
       "      <th>2</th>\n",
       "      <td>100004</td>\n",
       "      <td>2</td>\n",
       "      <td>NaN</td>\n",
       "      <td>99830</td>\n",
       "      <td>2008-09-19 06:11:42</td>\n",
       "      <td>NaN</td>\n",
       "      <td>5</td>\n",
       "      <td>NaN</td>\n",
       "      <td>&lt;p&gt;Yes, that's actually very annoying.  We use...</td>\n",
       "      <td>14860</td>\n",
       "      <td>...</td>\n",
       "      <td>NaN</td>\n",
       "      <td>2008-09-19 06:11:42</td>\n",
       "      <td>NaN</td>\n",
       "      <td>NaN</td>\n",
       "      <td>NaN</td>\n",
       "      <td>0</td>\n",
       "      <td>NaN</td>\n",
       "      <td>NaN</td>\n",
       "      <td>NaN</td>\n",
       "      <td>CC BY-SA 2.5</td>\n",
       "    </tr>\n",
       "    <tr>\n",
       "      <th>3</th>\n",
       "      <td>100007</td>\n",
       "      <td>1</td>\n",
       "      <td>100961</td>\n",
       "      <td>NaN</td>\n",
       "      <td>2008-09-19 06:12:37</td>\n",
       "      <td>NaN</td>\n",
       "      <td>2</td>\n",
       "      <td>1899</td>\n",
       "      <td>&lt;p&gt;When logging with Log4Net it's very easy to...</td>\n",
       "      <td>11908</td>\n",
       "      <td>...</td>\n",
       "      <td>2014-12-04 10:01:14</td>\n",
       "      <td>2014-12-04 10:01:14</td>\n",
       "      <td>Logging Application Block - Logging the caller</td>\n",
       "      <td>&lt;c#&gt;&lt;logging&gt;&lt;enterprise-library&gt;&lt;application-...</td>\n",
       "      <td>2</td>\n",
       "      <td>0</td>\n",
       "      <td>NaN</td>\n",
       "      <td>NaN</td>\n",
       "      <td>NaN</td>\n",
       "      <td>CC BY-SA 3.0</td>\n",
       "    </tr>\n",
       "    <tr>\n",
       "      <th>4</th>\n",
       "      <td>100008</td>\n",
       "      <td>2</td>\n",
       "      <td>NaN</td>\n",
       "      <td>99743</td>\n",
       "      <td>2008-09-19 06:12:48</td>\n",
       "      <td>NaN</td>\n",
       "      <td>0</td>\n",
       "      <td>NaN</td>\n",
       "      <td>&lt;p&gt;I use &lt;a href=\"http://devguard.com/\" rel=\"n...</td>\n",
       "      <td>16549</td>\n",
       "      <td>...</td>\n",
       "      <td>NaN</td>\n",
       "      <td>2008-09-19 06:12:48</td>\n",
       "      <td>NaN</td>\n",
       "      <td>NaN</td>\n",
       "      <td>NaN</td>\n",
       "      <td>0</td>\n",
       "      <td>NaN</td>\n",
       "      <td>NaN</td>\n",
       "      <td>NaN</td>\n",
       "      <td>CC BY-SA 2.5</td>\n",
       "    </tr>\n",
       "    <tr>\n",
       "      <th>...</th>\n",
       "      <td>...</td>\n",
       "      <td>...</td>\n",
       "      <td>...</td>\n",
       "      <td>...</td>\n",
       "      <td>...</td>\n",
       "      <td>...</td>\n",
       "      <td>...</td>\n",
       "      <td>...</td>\n",
       "      <td>...</td>\n",
       "      <td>...</td>\n",
       "      <td>...</td>\n",
       "      <td>...</td>\n",
       "      <td>...</td>\n",
       "      <td>...</td>\n",
       "      <td>...</td>\n",
       "      <td>...</td>\n",
       "      <td>...</td>\n",
       "      <td>...</td>\n",
       "      <td>...</td>\n",
       "      <td>...</td>\n",
       "      <td>...</td>\n",
       "    </tr>\n",
       "    <tr>\n",
       "      <th>499995</th>\n",
       "      <td>69847370</td>\n",
       "      <td>2</td>\n",
       "      <td>NaN</td>\n",
       "      <td>69846609</td>\n",
       "      <td>2021-11-05 00:28:43</td>\n",
       "      <td>NaN</td>\n",
       "      <td>2</td>\n",
       "      <td>NaN</td>\n",
       "      <td>&lt;p&gt;You can use &lt;code&gt;tf.gather&lt;/code&gt; with the...</td>\n",
       "      <td>17289463</td>\n",
       "      <td>...</td>\n",
       "      <td>NaN</td>\n",
       "      <td>2021-11-05 00:28:43</td>\n",
       "      <td>NaN</td>\n",
       "      <td>NaN</td>\n",
       "      <td>NaN</td>\n",
       "      <td>1</td>\n",
       "      <td>NaN</td>\n",
       "      <td>NaN</td>\n",
       "      <td>NaN</td>\n",
       "      <td>CC BY-SA 4.0</td>\n",
       "    </tr>\n",
       "    <tr>\n",
       "      <th>499996</th>\n",
       "      <td>69850769</td>\n",
       "      <td>2</td>\n",
       "      <td>NaN</td>\n",
       "      <td>69849359</td>\n",
       "      <td>2021-11-05 09:04:35</td>\n",
       "      <td>NaN</td>\n",
       "      <td>0</td>\n",
       "      <td>NaN</td>\n",
       "      <td>&lt;pre&gt;&lt;code&gt;std::vector&amp;lt;T&amp;gt; v(100, t);\\nf(...</td>\n",
       "      <td>2684539</td>\n",
       "      <td>...</td>\n",
       "      <td>NaN</td>\n",
       "      <td>2021-11-05 09:04:35</td>\n",
       "      <td>NaN</td>\n",
       "      <td>NaN</td>\n",
       "      <td>NaN</td>\n",
       "      <td>0</td>\n",
       "      <td>NaN</td>\n",
       "      <td>NaN</td>\n",
       "      <td>NaN</td>\n",
       "      <td>CC BY-SA 4.0</td>\n",
       "    </tr>\n",
       "    <tr>\n",
       "      <th>499997</th>\n",
       "      <td>69850770</td>\n",
       "      <td>2</td>\n",
       "      <td>NaN</td>\n",
       "      <td>69849405</td>\n",
       "      <td>2021-11-05 09:04:36</td>\n",
       "      <td>NaN</td>\n",
       "      <td>0</td>\n",
       "      <td>NaN</td>\n",
       "      <td>&lt;p&gt;I was able to solve it by changing the arro...</td>\n",
       "      <td>14212342</td>\n",
       "      <td>...</td>\n",
       "      <td>2021-11-05 10:38:44</td>\n",
       "      <td>2021-11-05 10:38:44</td>\n",
       "      <td>NaN</td>\n",
       "      <td>NaN</td>\n",
       "      <td>NaN</td>\n",
       "      <td>1</td>\n",
       "      <td>NaN</td>\n",
       "      <td>NaN</td>\n",
       "      <td>NaN</td>\n",
       "      <td>CC BY-SA 4.0</td>\n",
       "    </tr>\n",
       "    <tr>\n",
       "      <th>499998</th>\n",
       "      <td>69850771</td>\n",
       "      <td>2</td>\n",
       "      <td>NaN</td>\n",
       "      <td>69828586</td>\n",
       "      <td>2021-11-05 09:04:39</td>\n",
       "      <td>NaN</td>\n",
       "      <td>0</td>\n",
       "      <td>NaN</td>\n",
       "      <td>&lt;p&gt;After some traces, I did some changes and i...</td>\n",
       "      <td>6587821</td>\n",
       "      <td>...</td>\n",
       "      <td>2021-11-05 09:15:51</td>\n",
       "      <td>2021-11-05 09:15:51</td>\n",
       "      <td>NaN</td>\n",
       "      <td>NaN</td>\n",
       "      <td>NaN</td>\n",
       "      <td>0</td>\n",
       "      <td>NaN</td>\n",
       "      <td>NaN</td>\n",
       "      <td>NaN</td>\n",
       "      <td>CC BY-SA 4.0</td>\n",
       "    </tr>\n",
       "    <tr>\n",
       "      <th>499999</th>\n",
       "      <td>69850772</td>\n",
       "      <td>2</td>\n",
       "      <td>NaN</td>\n",
       "      <td>69850749</td>\n",
       "      <td>2021-11-05 09:04:44</td>\n",
       "      <td>NaN</td>\n",
       "      <td>0</td>\n",
       "      <td>NaN</td>\n",
       "      <td>&lt;p&gt;Try this&lt;/p&gt;\\n&lt;pre&gt;&lt;code&gt;UIView.animate(wit...</td>\n",
       "      <td>17304430</td>\n",
       "      <td>...</td>\n",
       "      <td>NaN</td>\n",
       "      <td>2021-11-05 09:04:44</td>\n",
       "      <td>NaN</td>\n",
       "      <td>NaN</td>\n",
       "      <td>NaN</td>\n",
       "      <td>0</td>\n",
       "      <td>NaN</td>\n",
       "      <td>NaN</td>\n",
       "      <td>NaN</td>\n",
       "      <td>CC BY-SA 4.0</td>\n",
       "    </tr>\n",
       "  </tbody>\n",
       "</table>\n",
       "<p>500000 rows × 23 columns</p>\n",
       "</div>"
      ],
      "text/plain": [
       "              Id PostTypeId AcceptedAnswerId  ParentId         CreationDate  \\\n",
       "0         100001          1              NaN       NaN  2008-09-19 06:10:16   \n",
       "1         100003          1           100146       NaN  2008-09-19 06:10:46   \n",
       "2         100004          2              NaN     99830  2008-09-19 06:11:42   \n",
       "3         100007          1           100961       NaN  2008-09-19 06:12:37   \n",
       "4         100008          2              NaN     99743  2008-09-19 06:12:48   \n",
       "...          ...        ...              ...       ...                  ...   \n",
       "499995  69847370          2              NaN  69846609  2021-11-05 00:28:43   \n",
       "499996  69850769          2              NaN  69849359  2021-11-05 09:04:35   \n",
       "499997  69850770          2              NaN  69849405  2021-11-05 09:04:36   \n",
       "499998  69850771          2              NaN  69828586  2021-11-05 09:04:39   \n",
       "499999  69850772          2              NaN  69850749  2021-11-05 09:04:44   \n",
       "\n",
       "       DeletionDate Score ViewCount  \\\n",
       "0               NaN     5      6715   \n",
       "1               NaN  6435    939655   \n",
       "2               NaN     5       NaN   \n",
       "3               NaN     2      1899   \n",
       "4               NaN     0       NaN   \n",
       "...             ...   ...       ...   \n",
       "499995          NaN     2       NaN   \n",
       "499996          NaN     0       NaN   \n",
       "499997          NaN     0       NaN   \n",
       "499998          NaN     0       NaN   \n",
       "499999          NaN     0       NaN   \n",
       "\n",
       "                                                     Body OwnerUserId  ...  \\\n",
       "0       <p>This question intends to be technology-agno...       18552  ...   \n",
       "1       <p>In Python, what are metaclasses and what do...        9951  ...   \n",
       "2       <p>Yes, that's actually very annoying.  We use...       14860  ...   \n",
       "3       <p>When logging with Log4Net it's very easy to...       11908  ...   \n",
       "4       <p>I use <a href=\"http://devguard.com/\" rel=\"n...       16549  ...   \n",
       "...                                                   ...         ...  ...   \n",
       "499995  <p>You can use <code>tf.gather</code> with the...    17289463  ...   \n",
       "499996  <pre><code>std::vector&lt;T&gt; v(100, t);\\nf(...     2684539  ...   \n",
       "499997  <p>I was able to solve it by changing the arro...    14212342  ...   \n",
       "499998  <p>After some traces, I did some changes and i...     6587821  ...   \n",
       "499999  <p>Try this</p>\\n<pre><code>UIView.animate(wit...    17304430  ...   \n",
       "\n",
       "               LastEditDate     LastActivityDate  \\\n",
       "0                       NaN  2009-02-27 00:27:14   \n",
       "1       2021-01-13 03:43:24  2021-10-03 16:06:40   \n",
       "2                       NaN  2008-09-19 06:11:42   \n",
       "3       2014-12-04 10:01:14  2014-12-04 10:01:14   \n",
       "4                       NaN  2008-09-19 06:12:48   \n",
       "...                     ...                  ...   \n",
       "499995                  NaN  2021-11-05 00:28:43   \n",
       "499996                  NaN  2021-11-05 09:04:35   \n",
       "499997  2021-11-05 10:38:44  2021-11-05 10:38:44   \n",
       "499998  2021-11-05 09:15:51  2021-11-05 09:15:51   \n",
       "499999                  NaN  2021-11-05 09:04:44   \n",
       "\n",
       "                                                    Title  \\\n",
       "0       MVC or event-driven component-oriented web fra...   \n",
       "1                         What are metaclasses in Python?   \n",
       "2                                                     NaN   \n",
       "3          Logging Application Block - Logging the caller   \n",
       "4                                                     NaN   \n",
       "...                                                   ...   \n",
       "499995                                                NaN   \n",
       "499996                                                NaN   \n",
       "499997                                                NaN   \n",
       "499998                                                NaN   \n",
       "499999                                                NaN   \n",
       "\n",
       "                                                     Tags AnswerCount  \\\n",
       "0                                        <web-frameworks>           6   \n",
       "1       <python><oop><metaclass><python-class><python-...          24   \n",
       "2                                                     NaN         NaN   \n",
       "3       <c#><logging><enterprise-library><application-...           2   \n",
       "4                                                     NaN         NaN   \n",
       "...                                                   ...         ...   \n",
       "499995                                                NaN         NaN   \n",
       "499996                                                NaN         NaN   \n",
       "499997                                                NaN         NaN   \n",
       "499998                                                NaN         NaN   \n",
       "499999                                                NaN         NaN   \n",
       "\n",
       "       CommentCount FavoriteCount           ClosedDate CommunityOwnedDate  \\\n",
       "0                 0             1  2012-08-15 13:39:14                NaN   \n",
       "1                 0          4115                  NaN                NaN   \n",
       "2                 0           NaN                  NaN                NaN   \n",
       "3                 0           NaN                  NaN                NaN   \n",
       "4                 0           NaN                  NaN                NaN   \n",
       "...             ...           ...                  ...                ...   \n",
       "499995            1           NaN                  NaN                NaN   \n",
       "499996            0           NaN                  NaN                NaN   \n",
       "499997            1           NaN                  NaN                NaN   \n",
       "499998            0           NaN                  NaN                NaN   \n",
       "499999            0           NaN                  NaN                NaN   \n",
       "\n",
       "       ContentLicense  \n",
       "0        CC BY-SA 2.5  \n",
       "1        CC BY-SA 4.0  \n",
       "2        CC BY-SA 2.5  \n",
       "3        CC BY-SA 3.0  \n",
       "4        CC BY-SA 2.5  \n",
       "...               ...  \n",
       "499995   CC BY-SA 4.0  \n",
       "499996   CC BY-SA 4.0  \n",
       "499997   CC BY-SA 4.0  \n",
       "499998   CC BY-SA 4.0  \n",
       "499999   CC BY-SA 4.0  \n",
       "\n",
       "[500000 rows x 23 columns]"
      ]
     },
     "execution_count": 4,
     "metadata": {},
     "output_type": "execute_result"
    },
    {
     "name": "stdout",
     "output_type": "stream",
     "text": [
      "time: 698 ms (started: 2022-01-02 17:55:39 +01:00)\n"
     ]
    }
   ],
   "source": [
    "mDataBrut  = pd.concat(lst, ignore_index=True)\n",
    "mDataBrut"
   ]
  },
  {
   "cell_type": "code",
   "execution_count": 5,
   "metadata": {},
   "outputs": [
    {
     "data": {
      "text/plain": [
       "(500000, 4)"
      ]
     },
     "execution_count": 5,
     "metadata": {},
     "output_type": "execute_result"
    },
    {
     "name": "stdout",
     "output_type": "stream",
     "text": [
      "time: 34.8 ms (started: 2022-01-02 17:55:40 +01:00)\n"
     ]
    }
   ],
   "source": [
    "mDataBrut_1 = mDataBrut[['Tags', 'Body', 'Title', 'Score']]\n",
    "mDataBrut_1.shape"
   ]
  },
  {
   "cell_type": "code",
   "execution_count": 6,
   "metadata": {},
   "outputs": [
    {
     "data": {
      "text/plain": [
       "(129665, 4)"
      ]
     },
     "execution_count": 6,
     "metadata": {},
     "output_type": "execute_result"
    },
    {
     "name": "stdout",
     "output_type": "stream",
     "text": [
      "time: 196 ms (started: 2022-01-02 17:55:40 +01:00)\n"
     ]
    }
   ],
   "source": [
    "mDataBrut_2 = mDataBrut_1.copy()\n",
    "mDataBrut_2 = mDataBrut_2.dropna()\n",
    "mDataBrut_2.shape"
   ]
  },
  {
   "cell_type": "code",
   "execution_count": 7,
   "metadata": {},
   "outputs": [
    {
     "data": {
      "text/plain": [
       "(38902, 4)"
      ]
     },
     "execution_count": 7,
     "metadata": {},
     "output_type": "execute_result"
    },
    {
     "name": "stdout",
     "output_type": "stream",
     "text": [
      "time: 53.5 ms (started: 2022-01-02 17:55:40 +01:00)\n"
     ]
    }
   ],
   "source": [
    "mDataBrut_3 = mDataBrut_2.copy()\n",
    "mDataBrut_3.Score = mDataBrut_3.Score.astype(int)\n",
    "mDataBrut_3 =  mDataBrut_3[mDataBrut_3['Score']>5]\n",
    "mDataBrut_3.shape"
   ]
  },
  {
   "cell_type": "code",
   "execution_count": 8,
   "metadata": {},
   "outputs": [
    {
     "data": {
      "text/html": [
       "<div>\n",
       "<style scoped>\n",
       "    .dataframe tbody tr th:only-of-type {\n",
       "        vertical-align: middle;\n",
       "    }\n",
       "\n",
       "    .dataframe tbody tr th {\n",
       "        vertical-align: top;\n",
       "    }\n",
       "\n",
       "    .dataframe thead th {\n",
       "        text-align: right;\n",
       "    }\n",
       "</style>\n",
       "<table border=\"1\" class=\"dataframe\">\n",
       "  <thead>\n",
       "    <tr style=\"text-align: right;\">\n",
       "      <th></th>\n",
       "      <th>Tags</th>\n",
       "      <th>Body</th>\n",
       "      <th>Title</th>\n",
       "    </tr>\n",
       "  </thead>\n",
       "  <tbody>\n",
       "    <tr>\n",
       "      <th>1</th>\n",
       "      <td>&lt;python&gt;&lt;oop&gt;&lt;metaclass&gt;&lt;python-class&gt;&lt;python-...</td>\n",
       "      <td>&lt;p&gt;In Python, what are metaclasses and what do...</td>\n",
       "      <td>What are metaclasses in Python?</td>\n",
       "    </tr>\n",
       "    <tr>\n",
       "      <th>22</th>\n",
       "      <td>&lt;c#&gt;&lt;regex&gt;</td>\n",
       "      <td>&lt;p&gt;What is a good regular expression that can ...</td>\n",
       "      <td>Regular expressions in C# for file name valida...</td>\n",
       "    </tr>\n",
       "    <tr>\n",
       "      <th>25</th>\n",
       "      <td>&lt;algorithm&gt;&lt;sorting&gt;&lt;lisp&gt;&lt;list&gt;</td>\n",
       "      <td>&lt;p&gt;I have two unsorted lists and I need to pro...</td>\n",
       "      <td>I need to join two lists, sort them and remove...</td>\n",
       "    </tr>\n",
       "    <tr>\n",
       "      <th>32</th>\n",
       "      <td>&lt;testing&gt;&lt;browser&gt;&lt;user-interface&gt;</td>\n",
       "      <td>&lt;p&gt;Tools like Selenium are good for testing us...</td>\n",
       "      <td>How do you test your web UI to see if it rende...</td>\n",
       "    </tr>\n",
       "    <tr>\n",
       "      <th>38</th>\n",
       "      <td>&lt;c#&gt;&lt;linq-to-sql&gt;</td>\n",
       "      <td>&lt;p&gt;I'd like to know if there's an easier way t...</td>\n",
       "      <td>LINQ to SQL insert-if-non-existent</td>\n",
       "    </tr>\n",
       "    <tr>\n",
       "      <th>...</th>\n",
       "      <td>...</td>\n",
       "      <td>...</td>\n",
       "      <td>...</td>\n",
       "    </tr>\n",
       "    <tr>\n",
       "      <th>488894</th>\n",
       "      <td>&lt;mysql&gt;&lt;perl&gt;&lt;mariadb&gt;&lt;dbi&gt;</td>\n",
       "      <td>&lt;p&gt;My company has a Perl application in server...</td>\n",
       "      <td>Perl How to change account host using DBI module?</td>\n",
       "    </tr>\n",
       "    <tr>\n",
       "      <th>492219</th>\n",
       "      <td>&lt;typescript&gt;&lt;language-design&gt;</td>\n",
       "      <td>&lt;p&gt;Why does the TypeScript compiler compile it...</td>\n",
       "      <td>Why does the TypeScript compiler compile its o...</td>\n",
       "    </tr>\n",
       "    <tr>\n",
       "      <th>492437</th>\n",
       "      <td>&lt;kotlin&gt;&lt;mockk&gt;</td>\n",
       "      <td>&lt;p&gt;When using Mockk to spy a Kotlin or Java cl...</td>\n",
       "      <td>Mockk spied class with anonymous class field r...</td>\n",
       "    </tr>\n",
       "    <tr>\n",
       "      <th>495331</th>\n",
       "      <td>&lt;raku&gt;&lt;cro&gt;</td>\n",
       "      <td>&lt;p&gt;I'm hoping to try out the Cro library in Ra...</td>\n",
       "      <td>Difficulties installing Cro: \"Failed to find d...</td>\n",
       "    </tr>\n",
       "    <tr>\n",
       "      <th>498449</th>\n",
       "      <td>&lt;python&gt;&lt;pandas&gt;&lt;indexing&gt;</td>\n",
       "      <td>&lt;p&gt;I have a dataframe where the indexes are no...</td>\n",
       "      <td>How do I find the row # of a string index?</td>\n",
       "    </tr>\n",
       "  </tbody>\n",
       "</table>\n",
       "<p>38902 rows × 3 columns</p>\n",
       "</div>"
      ],
      "text/plain": [
       "                                                     Tags  \\\n",
       "1       <python><oop><metaclass><python-class><python-...   \n",
       "22                                            <c#><regex>   \n",
       "25                       <algorithm><sorting><lisp><list>   \n",
       "32                     <testing><browser><user-interface>   \n",
       "38                                      <c#><linq-to-sql>   \n",
       "...                                                   ...   \n",
       "488894                        <mysql><perl><mariadb><dbi>   \n",
       "492219                      <typescript><language-design>   \n",
       "492437                                    <kotlin><mockk>   \n",
       "495331                                        <raku><cro>   \n",
       "498449                         <python><pandas><indexing>   \n",
       "\n",
       "                                                     Body  \\\n",
       "1       <p>In Python, what are metaclasses and what do...   \n",
       "22      <p>What is a good regular expression that can ...   \n",
       "25      <p>I have two unsorted lists and I need to pro...   \n",
       "32      <p>Tools like Selenium are good for testing us...   \n",
       "38      <p>I'd like to know if there's an easier way t...   \n",
       "...                                                   ...   \n",
       "488894  <p>My company has a Perl application in server...   \n",
       "492219  <p>Why does the TypeScript compiler compile it...   \n",
       "492437  <p>When using Mockk to spy a Kotlin or Java cl...   \n",
       "495331  <p>I'm hoping to try out the Cro library in Ra...   \n",
       "498449  <p>I have a dataframe where the indexes are no...   \n",
       "\n",
       "                                                    Title  \n",
       "1                         What are metaclasses in Python?  \n",
       "22      Regular expressions in C# for file name valida...  \n",
       "25      I need to join two lists, sort them and remove...  \n",
       "32      How do you test your web UI to see if it rende...  \n",
       "38                     LINQ to SQL insert-if-non-existent  \n",
       "...                                                   ...  \n",
       "488894  Perl How to change account host using DBI module?  \n",
       "492219  Why does the TypeScript compiler compile its o...  \n",
       "492437  Mockk spied class with anonymous class field r...  \n",
       "495331  Difficulties installing Cro: \"Failed to find d...  \n",
       "498449         How do I find the row # of a string index?  \n",
       "\n",
       "[38902 rows x 3 columns]"
      ]
     },
     "execution_count": 8,
     "metadata": {},
     "output_type": "execute_result"
    },
    {
     "name": "stdout",
     "output_type": "stream",
     "text": [
      "time: 15.6 ms (started: 2022-01-02 17:55:40 +01:00)\n"
     ]
    }
   ],
   "source": [
    "mDataBrut_4 = mDataBrut_3.copy()\n",
    "mDataBrut_4.pop('Score')\n",
    "mDataBrut_4"
   ]
  },
  {
   "cell_type": "code",
   "execution_count": 9,
   "id": "65d66c4c",
   "metadata": {},
   "outputs": [
    {
     "data": {
      "text/html": [
       "<div>\n",
       "<style scoped>\n",
       "    .dataframe tbody tr th:only-of-type {\n",
       "        vertical-align: middle;\n",
       "    }\n",
       "\n",
       "    .dataframe tbody tr th {\n",
       "        vertical-align: top;\n",
       "    }\n",
       "\n",
       "    .dataframe thead th {\n",
       "        text-align: right;\n",
       "    }\n",
       "</style>\n",
       "<table border=\"1\" class=\"dataframe\">\n",
       "  <thead>\n",
       "    <tr style=\"text-align: right;\">\n",
       "      <th></th>\n",
       "      <th>Tags</th>\n",
       "      <th>Txt</th>\n",
       "      <th>Title</th>\n",
       "      <th>Body</th>\n",
       "    </tr>\n",
       "  </thead>\n",
       "  <tbody>\n",
       "    <tr>\n",
       "      <th>1</th>\n",
       "      <td>&lt;python&gt;&lt;oop&gt;&lt;metaclass&gt;&lt;python-class&gt;&lt;python-...</td>\n",
       "      <td>&lt;p&gt;In Python, what are metaclasses and what do...</td>\n",
       "      <td>What are metaclasses in Python?</td>\n",
       "      <td>&lt;p&gt;In Python, what are metaclasses and what do...</td>\n",
       "    </tr>\n",
       "    <tr>\n",
       "      <th>22</th>\n",
       "      <td>&lt;c#&gt;&lt;regex&gt;</td>\n",
       "      <td>&lt;p&gt;What is a good regular expression that can ...</td>\n",
       "      <td>Regular expressions in C# for file name valida...</td>\n",
       "      <td>&lt;p&gt;What is a good regular expression that can ...</td>\n",
       "    </tr>\n",
       "    <tr>\n",
       "      <th>25</th>\n",
       "      <td>&lt;algorithm&gt;&lt;sorting&gt;&lt;lisp&gt;&lt;list&gt;</td>\n",
       "      <td>&lt;p&gt;I have two unsorted lists and I need to pro...</td>\n",
       "      <td>I need to join two lists, sort them and remove...</td>\n",
       "      <td>&lt;p&gt;I have two unsorted lists and I need to pro...</td>\n",
       "    </tr>\n",
       "    <tr>\n",
       "      <th>32</th>\n",
       "      <td>&lt;testing&gt;&lt;browser&gt;&lt;user-interface&gt;</td>\n",
       "      <td>&lt;p&gt;Tools like Selenium are good for testing us...</td>\n",
       "      <td>How do you test your web UI to see if it rende...</td>\n",
       "      <td>&lt;p&gt;Tools like Selenium are good for testing us...</td>\n",
       "    </tr>\n",
       "    <tr>\n",
       "      <th>38</th>\n",
       "      <td>&lt;c#&gt;&lt;linq-to-sql&gt;</td>\n",
       "      <td>&lt;p&gt;I'd like to know if there's an easier way t...</td>\n",
       "      <td>LINQ to SQL insert-if-non-existent</td>\n",
       "      <td>&lt;p&gt;I'd like to know if there's an easier way t...</td>\n",
       "    </tr>\n",
       "    <tr>\n",
       "      <th>...</th>\n",
       "      <td>...</td>\n",
       "      <td>...</td>\n",
       "      <td>...</td>\n",
       "      <td>...</td>\n",
       "    </tr>\n",
       "    <tr>\n",
       "      <th>488894</th>\n",
       "      <td>&lt;mysql&gt;&lt;perl&gt;&lt;mariadb&gt;&lt;dbi&gt;</td>\n",
       "      <td>&lt;p&gt;My company has a Perl application in server...</td>\n",
       "      <td>Perl How to change account host using DBI module?</td>\n",
       "      <td>&lt;p&gt;My company has a Perl application in server...</td>\n",
       "    </tr>\n",
       "    <tr>\n",
       "      <th>492219</th>\n",
       "      <td>&lt;typescript&gt;&lt;language-design&gt;</td>\n",
       "      <td>&lt;p&gt;Why does the TypeScript compiler compile it...</td>\n",
       "      <td>Why does the TypeScript compiler compile its o...</td>\n",
       "      <td>&lt;p&gt;Why does the TypeScript compiler compile it...</td>\n",
       "    </tr>\n",
       "    <tr>\n",
       "      <th>492437</th>\n",
       "      <td>&lt;kotlin&gt;&lt;mockk&gt;</td>\n",
       "      <td>&lt;p&gt;When using Mockk to spy a Kotlin or Java cl...</td>\n",
       "      <td>Mockk spied class with anonymous class field r...</td>\n",
       "      <td>&lt;p&gt;When using Mockk to spy a Kotlin or Java cl...</td>\n",
       "    </tr>\n",
       "    <tr>\n",
       "      <th>495331</th>\n",
       "      <td>&lt;raku&gt;&lt;cro&gt;</td>\n",
       "      <td>&lt;p&gt;I'm hoping to try out the Cro library in Ra...</td>\n",
       "      <td>Difficulties installing Cro: \"Failed to find d...</td>\n",
       "      <td>&lt;p&gt;I'm hoping to try out the Cro library in Ra...</td>\n",
       "    </tr>\n",
       "    <tr>\n",
       "      <th>498449</th>\n",
       "      <td>&lt;python&gt;&lt;pandas&gt;&lt;indexing&gt;</td>\n",
       "      <td>&lt;p&gt;I have a dataframe where the indexes are no...</td>\n",
       "      <td>How do I find the row # of a string index?</td>\n",
       "      <td>&lt;p&gt;I have a dataframe where the indexes are no...</td>\n",
       "    </tr>\n",
       "  </tbody>\n",
       "</table>\n",
       "<p>38902 rows × 4 columns</p>\n",
       "</div>"
      ],
      "text/plain": [
       "                                                     Tags  \\\n",
       "1       <python><oop><metaclass><python-class><python-...   \n",
       "22                                            <c#><regex>   \n",
       "25                       <algorithm><sorting><lisp><list>   \n",
       "32                     <testing><browser><user-interface>   \n",
       "38                                      <c#><linq-to-sql>   \n",
       "...                                                   ...   \n",
       "488894                        <mysql><perl><mariadb><dbi>   \n",
       "492219                      <typescript><language-design>   \n",
       "492437                                    <kotlin><mockk>   \n",
       "495331                                        <raku><cro>   \n",
       "498449                         <python><pandas><indexing>   \n",
       "\n",
       "                                                      Txt  \\\n",
       "1       <p>In Python, what are metaclasses and what do...   \n",
       "22      <p>What is a good regular expression that can ...   \n",
       "25      <p>I have two unsorted lists and I need to pro...   \n",
       "32      <p>Tools like Selenium are good for testing us...   \n",
       "38      <p>I'd like to know if there's an easier way t...   \n",
       "...                                                   ...   \n",
       "488894  <p>My company has a Perl application in server...   \n",
       "492219  <p>Why does the TypeScript compiler compile it...   \n",
       "492437  <p>When using Mockk to spy a Kotlin or Java cl...   \n",
       "495331  <p>I'm hoping to try out the Cro library in Ra...   \n",
       "498449  <p>I have a dataframe where the indexes are no...   \n",
       "\n",
       "                                                    Title  \\\n",
       "1                         What are metaclasses in Python?   \n",
       "22      Regular expressions in C# for file name valida...   \n",
       "25      I need to join two lists, sort them and remove...   \n",
       "32      How do you test your web UI to see if it rende...   \n",
       "38                     LINQ to SQL insert-if-non-existent   \n",
       "...                                                   ...   \n",
       "488894  Perl How to change account host using DBI module?   \n",
       "492219  Why does the TypeScript compiler compile its o...   \n",
       "492437  Mockk spied class with anonymous class field r...   \n",
       "495331  Difficulties installing Cro: \"Failed to find d...   \n",
       "498449         How do I find the row # of a string index?   \n",
       "\n",
       "                                                     Body  \n",
       "1       <p>In Python, what are metaclasses and what do...  \n",
       "22      <p>What is a good regular expression that can ...  \n",
       "25      <p>I have two unsorted lists and I need to pro...  \n",
       "32      <p>Tools like Selenium are good for testing us...  \n",
       "38      <p>I'd like to know if there's an easier way t...  \n",
       "...                                                   ...  \n",
       "488894  <p>My company has a Perl application in server...  \n",
       "492219  <p>Why does the TypeScript compiler compile it...  \n",
       "492437  <p>When using Mockk to spy a Kotlin or Java cl...  \n",
       "495331  <p>I'm hoping to try out the Cro library in Ra...  \n",
       "498449  <p>I have a dataframe where the indexes are no...  \n",
       "\n",
       "[38902 rows x 4 columns]"
      ]
     },
     "execution_count": 9,
     "metadata": {},
     "output_type": "execute_result"
    },
    {
     "name": "stdout",
     "output_type": "stream",
     "text": [
      "time: 83.3 ms (started: 2022-01-02 17:55:40 +01:00)\n"
     ]
    }
   ],
   "source": [
    "mDf = mDataBrut_4.copy()\n",
    "mDf = mDf[mDf['Tags'].notna()]\n",
    "mDf = mDf[mDf['Title'].notna()]\n",
    "mDf = mDf.rename(columns={'Body': \"Txt\"})\n",
    "mDf['Body'] = mDf[\"Txt\"] + mDf[\"Title\"]\n",
    "mDf"
   ]
  },
  {
   "cell_type": "code",
   "execution_count": 10,
   "id": "43ccb1f7",
   "metadata": {},
   "outputs": [
    {
     "name": "stdout",
     "output_type": "stream",
     "text": [
      "time: 6.36 ms (started: 2022-01-02 17:55:40 +01:00)\n"
     ]
    }
   ],
   "source": [
    "mDf_Body = pd.DataFrame(mDf['Body'])\n",
    "mDf_Tags = pd.DataFrame(mDf['Tags'])"
   ]
  },
  {
   "cell_type": "markdown",
   "id": "2396f64a",
   "metadata": {},
   "source": [
    "# 2 - Cleaning ----------------------------------------"
   ]
  },
  {
   "cell_type": "markdown",
   "id": "bc325bdf",
   "metadata": {},
   "source": [
    "## 2.1 Body\n",
    "#### 2.1.1 HTML -> String / 2.1.2 Minus / 2.1.3 - Caract pb / 2.1.4 - Chiffre /  2.1.5 - Ponct / 2.1.6 - Lem /  2.1.7 -StopWord\n"
   ]
  },
  {
   "cell_type": "code",
   "execution_count": 11,
   "id": "ed98f295",
   "metadata": {},
   "outputs": [
    {
     "data": {
      "text/html": [
       "<div>\n",
       "<style scoped>\n",
       "    .dataframe tbody tr th:only-of-type {\n",
       "        vertical-align: middle;\n",
       "    }\n",
       "\n",
       "    .dataframe tbody tr th {\n",
       "        vertical-align: top;\n",
       "    }\n",
       "\n",
       "    .dataframe thead th {\n",
       "        text-align: right;\n",
       "    }\n",
       "</style>\n",
       "<table border=\"1\" class=\"dataframe\">\n",
       "  <thead>\n",
       "    <tr style=\"text-align: right;\">\n",
       "      <th></th>\n",
       "      <th>string_in_HTML</th>\n",
       "    </tr>\n",
       "  </thead>\n",
       "  <tbody>\n",
       "    <tr>\n",
       "      <th>1</th>\n",
       "      <td>In Python, what are metaclasses and what do we...</td>\n",
       "    </tr>\n",
       "    <tr>\n",
       "      <th>22</th>\n",
       "      <td>What is a good regular expression that can val...</td>\n",
       "    </tr>\n",
       "  </tbody>\n",
       "</table>\n",
       "</div>"
      ],
      "text/plain": [
       "                                       string_in_HTML\n",
       "1   In Python, what are metaclasses and what do we...\n",
       "22  What is a good regular expression that can val..."
      ]
     },
     "execution_count": 11,
     "metadata": {},
     "output_type": "execute_result"
    },
    {
     "name": "stdout",
     "output_type": "stream",
     "text": [
      "time: 25 s (started: 2022-01-02 17:55:40 +01:00)\n"
     ]
    }
   ],
   "source": [
    "mDf_Body['string_in_HTML']=mDf_Body.apply(lambda x: BeautifulSoup(x['Body']).get_text().replace('\\n',' '),axis=1)\n",
    "mDf_Body = pd.DataFrame(mDf_Body['string_in_HTML'])\n",
    "mDf_Body.head(2)"
   ]
  },
  {
   "cell_type": "code",
   "execution_count": 12,
   "id": "c51a8e74",
   "metadata": {},
   "outputs": [
    {
     "name": "stdout",
     "output_type": "stream",
     "text": [
      "time: 4.58 ms (started: 2022-01-02 17:56:05 +01:00)\n"
     ]
    }
   ],
   "source": [
    "import pandas as pd\n",
    "import numpy as np\n",
    "import string\n",
    "\n",
    "import sys\n",
    "import re\n",
    "from nltk.corpus import stopwords\n",
    "from nltk.stem import WordNetLemmatizer\n",
    "import nltk\n",
    "\n",
    "def data_preprocess(dataframe,xXx, lower=True, ascii_chars=True, no_numbers=True, no_punctuation=True, remove_stopwords=True, lemmatize=True, custom_blank_text='non ascii symbols punctuations numbers'):\n",
    "    # Minuscule\n",
    "    if lower == True:\n",
    "        dataframe['Query_Modified'] = dataframe[xXx].str.lower()\n",
    "    \n",
    "    # Caractere non viable\n",
    "    if ascii_chars == True:                            \n",
    "        dataframe[\"Query_Modified\"] = dataframe[\"Query_Modified\"].apply(lambda x: ''.join([\" \" if i not in string.printable else i for i in x]))\n",
    "    \n",
    "    # Retire chiffre\n",
    "    if no_numbers == True:\n",
    "        dataframe['Query_Modified'] = dataframe['Query_Modified'].str.replace(r'\\d', '')\n",
    "    \n",
    "    #Ponctuation\n",
    "    if no_punctuation == True:\n",
    "        dataframe['Query_Modified'] = dataframe['Query_Modified'].str.replace(r'[^\\w\\s]+', ' ')\n",
    "    \n",
    "    # Retire Stopwords\n",
    "    if remove_stopwords == True:\n",
    "        stop = stopwords.words('english')\n",
    "        \n",
    "        dataframe['Query_Modified'] = dataframe['Query_Modified'].apply(lambda x: ' '.join([word for word in x.split() if word not in (stop)]))\n",
    "\n",
    "    \n",
    "    #Replacing blanks from ascii characters, punctuations and numbers with custom text\n",
    "    dataframe['Query_Modified'].replace(r'^\\s*$', custom_blank_text, regex=True, inplace = True)\n",
    "    \n",
    "    #Extra Spaces\n",
    "    dataframe['Query_Modified'] = dataframe['Query_Modified'].apply(lambda x: re.sub(\"\\s\\s+\", \" \", str(x.strip())))\n",
    "    \n",
    "    print('Done')\n",
    "    \n",
    "    return dataframe\n"
   ]
  },
  {
   "cell_type": "code",
   "execution_count": 13,
   "id": "9a406387",
   "metadata": {},
   "outputs": [
    {
     "name": "stdout",
     "output_type": "stream",
     "text": [
      "Done\n"
     ]
    },
    {
     "data": {
      "text/html": [
       "<div>\n",
       "<style scoped>\n",
       "    .dataframe tbody tr th:only-of-type {\n",
       "        vertical-align: middle;\n",
       "    }\n",
       "\n",
       "    .dataframe tbody tr th {\n",
       "        vertical-align: top;\n",
       "    }\n",
       "\n",
       "    .dataframe thead th {\n",
       "        text-align: right;\n",
       "    }\n",
       "</style>\n",
       "<table border=\"1\" class=\"dataframe\">\n",
       "  <thead>\n",
       "    <tr style=\"text-align: right;\">\n",
       "      <th></th>\n",
       "      <th>string_in_HTML</th>\n",
       "      <th>Query_Modified</th>\n",
       "    </tr>\n",
       "  </thead>\n",
       "  <tbody>\n",
       "    <tr>\n",
       "      <th>1</th>\n",
       "      <td>In Python, what are metaclasses and what do we...</td>\n",
       "      <td>python metaclasses use metaclasses python</td>\n",
       "    </tr>\n",
       "    <tr>\n",
       "      <th>22</th>\n",
       "      <td>What is a good regular expression that can val...</td>\n",
       "      <td>good regular expression validate text string m...</td>\n",
       "    </tr>\n",
       "    <tr>\n",
       "      <th>25</th>\n",
       "      <td>I have two unsorted lists and I need to produc...</td>\n",
       "      <td>two unsorted lists need produce another list s...</td>\n",
       "    </tr>\n",
       "    <tr>\n",
       "      <th>32</th>\n",
       "      <td>Tools like Selenium are good for testing user ...</td>\n",
       "      <td>tools like selenium good testing user interact...</td>\n",
       "    </tr>\n",
       "    <tr>\n",
       "      <th>38</th>\n",
       "      <td>I'd like to know if there's an easier way to i...</td>\n",
       "      <td>like know easier way insert record already exi...</td>\n",
       "    </tr>\n",
       "    <tr>\n",
       "      <th>...</th>\n",
       "      <td>...</td>\n",
       "      <td>...</td>\n",
       "    </tr>\n",
       "    <tr>\n",
       "      <th>488894</th>\n",
       "      <td>My company has a Perl application in server wi...</td>\n",
       "      <td>company perl application server ip new rule im...</td>\n",
       "    </tr>\n",
       "    <tr>\n",
       "      <th>492219</th>\n",
       "      <td>Why does the TypeScript compiler compile its o...</td>\n",
       "      <td>typescript compiler compile optional chaining ...</td>\n",
       "    </tr>\n",
       "    <tr>\n",
       "      <th>492437</th>\n",
       "      <td>When using Mockk to spy a Kotlin or Java class...</td>\n",
       "      <td>using mockk spy kotlin java class class field ...</td>\n",
       "    </tr>\n",
       "    <tr>\n",
       "      <th>495331</th>\n",
       "      <td>I'm hoping to try out the Cro library in Raku:...</td>\n",
       "      <td>hoping try cro library raku https cro services...</td>\n",
       "    </tr>\n",
       "    <tr>\n",
       "      <th>498449</th>\n",
       "      <td>I have a dataframe where the indexes are not n...</td>\n",
       "      <td>dataframe indexes numbers strings specifically...</td>\n",
       "    </tr>\n",
       "  </tbody>\n",
       "</table>\n",
       "<p>38902 rows × 2 columns</p>\n",
       "</div>"
      ],
      "text/plain": [
       "                                           string_in_HTML  \\\n",
       "1       In Python, what are metaclasses and what do we...   \n",
       "22      What is a good regular expression that can val...   \n",
       "25      I have two unsorted lists and I need to produc...   \n",
       "32      Tools like Selenium are good for testing user ...   \n",
       "38      I'd like to know if there's an easier way to i...   \n",
       "...                                                   ...   \n",
       "488894  My company has a Perl application in server wi...   \n",
       "492219  Why does the TypeScript compiler compile its o...   \n",
       "492437  When using Mockk to spy a Kotlin or Java class...   \n",
       "495331  I'm hoping to try out the Cro library in Raku:...   \n",
       "498449  I have a dataframe where the indexes are not n...   \n",
       "\n",
       "                                           Query_Modified  \n",
       "1               python metaclasses use metaclasses python  \n",
       "22      good regular expression validate text string m...  \n",
       "25      two unsorted lists need produce another list s...  \n",
       "32      tools like selenium good testing user interact...  \n",
       "38      like know easier way insert record already exi...  \n",
       "...                                                   ...  \n",
       "488894  company perl application server ip new rule im...  \n",
       "492219  typescript compiler compile optional chaining ...  \n",
       "492437  using mockk spy kotlin java class class field ...  \n",
       "495331  hoping try cro library raku https cro services...  \n",
       "498449  dataframe indexes numbers strings specifically...  \n",
       "\n",
       "[38902 rows x 2 columns]"
      ]
     },
     "execution_count": 13,
     "metadata": {},
     "output_type": "execute_result"
    },
    {
     "name": "stdout",
     "output_type": "stream",
     "text": [
      "time: 16.8 s (started: 2022-01-02 17:56:05 +01:00)\n"
     ]
    }
   ],
   "source": [
    "data = data_preprocess(mDf_Body, 'string_in_HTML', lower=True, ascii_chars=True, no_numbers=True, no_punctuation=True, remove_stopwords=True, lemmatize=False, custom_blank_text='non ascii symbols punctuations numbers')\n",
    "data"
   ]
  },
  {
   "cell_type": "code",
   "execution_count": 14,
   "metadata": {},
   "outputs": [
    {
     "data": {
      "text/html": [
       "<div>\n",
       "<style scoped>\n",
       "    .dataframe tbody tr th:only-of-type {\n",
       "        vertical-align: middle;\n",
       "    }\n",
       "\n",
       "    .dataframe tbody tr th {\n",
       "        vertical-align: top;\n",
       "    }\n",
       "\n",
       "    .dataframe thead th {\n",
       "        text-align: right;\n",
       "    }\n",
       "</style>\n",
       "<table border=\"1\" class=\"dataframe\">\n",
       "  <thead>\n",
       "    <tr style=\"text-align: right;\">\n",
       "      <th></th>\n",
       "      <th>Query_Modified</th>\n",
       "    </tr>\n",
       "  </thead>\n",
       "  <tbody>\n",
       "    <tr>\n",
       "      <th>1</th>\n",
       "      <td>python metaclasses use metaclasses python</td>\n",
       "    </tr>\n",
       "    <tr>\n",
       "      <th>22</th>\n",
       "      <td>good regular expression validate text string m...</td>\n",
       "    </tr>\n",
       "    <tr>\n",
       "      <th>25</th>\n",
       "      <td>two unsorted lists need produce another list s...</td>\n",
       "    </tr>\n",
       "    <tr>\n",
       "      <th>32</th>\n",
       "      <td>tools like selenium good testing user interact...</td>\n",
       "    </tr>\n",
       "    <tr>\n",
       "      <th>38</th>\n",
       "      <td>like know easier way insert record already exi...</td>\n",
       "    </tr>\n",
       "    <tr>\n",
       "      <th>...</th>\n",
       "      <td>...</td>\n",
       "    </tr>\n",
       "    <tr>\n",
       "      <th>488894</th>\n",
       "      <td>company perl application server ip new rule im...</td>\n",
       "    </tr>\n",
       "    <tr>\n",
       "      <th>492219</th>\n",
       "      <td>typescript compiler compile optional chaining ...</td>\n",
       "    </tr>\n",
       "    <tr>\n",
       "      <th>492437</th>\n",
       "      <td>using mockk spy kotlin java class class field ...</td>\n",
       "    </tr>\n",
       "    <tr>\n",
       "      <th>495331</th>\n",
       "      <td>hoping try cro library raku https cro services...</td>\n",
       "    </tr>\n",
       "    <tr>\n",
       "      <th>498449</th>\n",
       "      <td>dataframe indexes numbers strings specifically...</td>\n",
       "    </tr>\n",
       "  </tbody>\n",
       "</table>\n",
       "<p>38902 rows × 1 columns</p>\n",
       "</div>"
      ],
      "text/plain": [
       "                                           Query_Modified\n",
       "1               python metaclasses use metaclasses python\n",
       "22      good regular expression validate text string m...\n",
       "25      two unsorted lists need produce another list s...\n",
       "32      tools like selenium good testing user interact...\n",
       "38      like know easier way insert record already exi...\n",
       "...                                                   ...\n",
       "488894  company perl application server ip new rule im...\n",
       "492219  typescript compiler compile optional chaining ...\n",
       "492437  using mockk spy kotlin java class class field ...\n",
       "495331  hoping try cro library raku https cro services...\n",
       "498449  dataframe indexes numbers strings specifically...\n",
       "\n",
       "[38902 rows x 1 columns]"
      ]
     },
     "execution_count": 14,
     "metadata": {},
     "output_type": "execute_result"
    },
    {
     "name": "stdout",
     "output_type": "stream",
     "text": [
      "time: 18.7 ms (started: 2022-01-02 17:56:22 +01:00)\n"
     ]
    }
   ],
   "source": [
    "data_ = data.copy()\n",
    "data_ = data_.Query_Modified\n",
    "df = pd.DataFrame(data_)\n",
    "df"
   ]
  },
  {
   "cell_type": "code",
   "execution_count": 15,
   "metadata": {},
   "outputs": [
    {
     "data": {
      "text/html": [
       "<div>\n",
       "<style scoped>\n",
       "    .dataframe tbody tr th:only-of-type {\n",
       "        vertical-align: middle;\n",
       "    }\n",
       "\n",
       "    .dataframe tbody tr th {\n",
       "        vertical-align: top;\n",
       "    }\n",
       "\n",
       "    .dataframe thead th {\n",
       "        text-align: right;\n",
       "    }\n",
       "</style>\n",
       "<table border=\"1\" class=\"dataframe\">\n",
       "  <thead>\n",
       "    <tr style=\"text-align: right;\">\n",
       "      <th></th>\n",
       "      <th>Query_Modified</th>\n",
       "      <th>unstemmed</th>\n",
       "      <th>stemmed</th>\n",
       "    </tr>\n",
       "  </thead>\n",
       "  <tbody>\n",
       "    <tr>\n",
       "      <th>1</th>\n",
       "      <td>python metaclasses use metaclasses python</td>\n",
       "      <td>[python, metaclasses, use, metaclasses, python]</td>\n",
       "      <td>[python, metaclass, use, metaclass, python]</td>\n",
       "    </tr>\n",
       "    <tr>\n",
       "      <th>22</th>\n",
       "      <td>good regular expression validate text string m...</td>\n",
       "      <td>[good, regular, expression, validate, text, st...</td>\n",
       "      <td>[good, regular, express, valid, text, string, ...</td>\n",
       "    </tr>\n",
       "    <tr>\n",
       "      <th>25</th>\n",
       "      <td>two unsorted lists need produce another list s...</td>\n",
       "      <td>[two, unsorted, lists, need, produce, another,...</td>\n",
       "      <td>[two, unsort, list, need, produc, anoth, list,...</td>\n",
       "    </tr>\n",
       "    <tr>\n",
       "      <th>32</th>\n",
       "      <td>tools like selenium good testing user interact...</td>\n",
       "      <td>[tools, like, selenium, good, testing, user, i...</td>\n",
       "      <td>[tool, like, selenium, good, test, user, inter...</td>\n",
       "    </tr>\n",
       "    <tr>\n",
       "      <th>38</th>\n",
       "      <td>like know easier way insert record already exi...</td>\n",
       "      <td>[like, know, easier, way, insert, record, alre...</td>\n",
       "      <td>[like, know, easier, way, insert, record, alre...</td>\n",
       "    </tr>\n",
       "    <tr>\n",
       "      <th>...</th>\n",
       "      <td>...</td>\n",
       "      <td>...</td>\n",
       "      <td>...</td>\n",
       "    </tr>\n",
       "    <tr>\n",
       "      <th>488894</th>\n",
       "      <td>company perl application server ip new rule im...</td>\n",
       "      <td>[company, perl, application, server, ip, new, ...</td>\n",
       "      <td>[compani, perl, applic, server, ip, new, rule,...</td>\n",
       "    </tr>\n",
       "    <tr>\n",
       "      <th>492219</th>\n",
       "      <td>typescript compiler compile optional chaining ...</td>\n",
       "      <td>[typescript, compiler, compile, optional, chai...</td>\n",
       "      <td>[typescript, compil, compil, option, chain, nu...</td>\n",
       "    </tr>\n",
       "    <tr>\n",
       "      <th>492437</th>\n",
       "      <td>using mockk spy kotlin java class class field ...</td>\n",
       "      <td>[using, mockk, spy, kotlin, java, class, class...</td>\n",
       "      <td>[use, mockk, spi, kotlin, java, class, class, ...</td>\n",
       "    </tr>\n",
       "    <tr>\n",
       "      <th>495331</th>\n",
       "      <td>hoping try cro library raku https cro services...</td>\n",
       "      <td>[hoping, try, cro, library, raku, https, cro, ...</td>\n",
       "      <td>[hope, tri, cro, librari, raku, https, cro, se...</td>\n",
       "    </tr>\n",
       "    <tr>\n",
       "      <th>498449</th>\n",
       "      <td>dataframe indexes numbers strings specifically...</td>\n",
       "      <td>[dataframe, indexes, numbers, strings, specifi...</td>\n",
       "      <td>[datafram, index, number, string, specif, name...</td>\n",
       "    </tr>\n",
       "  </tbody>\n",
       "</table>\n",
       "<p>38902 rows × 3 columns</p>\n",
       "</div>"
      ],
      "text/plain": [
       "                                           Query_Modified  \\\n",
       "1               python metaclasses use metaclasses python   \n",
       "22      good regular expression validate text string m...   \n",
       "25      two unsorted lists need produce another list s...   \n",
       "32      tools like selenium good testing user interact...   \n",
       "38      like know easier way insert record already exi...   \n",
       "...                                                   ...   \n",
       "488894  company perl application server ip new rule im...   \n",
       "492219  typescript compiler compile optional chaining ...   \n",
       "492437  using mockk spy kotlin java class class field ...   \n",
       "495331  hoping try cro library raku https cro services...   \n",
       "498449  dataframe indexes numbers strings specifically...   \n",
       "\n",
       "                                                unstemmed  \\\n",
       "1         [python, metaclasses, use, metaclasses, python]   \n",
       "22      [good, regular, expression, validate, text, st...   \n",
       "25      [two, unsorted, lists, need, produce, another,...   \n",
       "32      [tools, like, selenium, good, testing, user, i...   \n",
       "38      [like, know, easier, way, insert, record, alre...   \n",
       "...                                                   ...   \n",
       "488894  [company, perl, application, server, ip, new, ...   \n",
       "492219  [typescript, compiler, compile, optional, chai...   \n",
       "492437  [using, mockk, spy, kotlin, java, class, class...   \n",
       "495331  [hoping, try, cro, library, raku, https, cro, ...   \n",
       "498449  [dataframe, indexes, numbers, strings, specifi...   \n",
       "\n",
       "                                                  stemmed  \n",
       "1             [python, metaclass, use, metaclass, python]  \n",
       "22      [good, regular, express, valid, text, string, ...  \n",
       "25      [two, unsort, list, need, produc, anoth, list,...  \n",
       "32      [tool, like, selenium, good, test, user, inter...  \n",
       "38      [like, know, easier, way, insert, record, alre...  \n",
       "...                                                   ...  \n",
       "488894  [compani, perl, applic, server, ip, new, rule,...  \n",
       "492219  [typescript, compil, compil, option, chain, nu...  \n",
       "492437  [use, mockk, spi, kotlin, java, class, class, ...  \n",
       "495331  [hope, tri, cro, librari, raku, https, cro, se...  \n",
       "498449  [datafram, index, number, string, specif, name...  \n",
       "\n",
       "[38902 rows x 3 columns]"
      ]
     },
     "execution_count": 15,
     "metadata": {},
     "output_type": "execute_result"
    },
    {
     "name": "stdout",
     "output_type": "stream",
     "text": [
      "time: 51.8 s (started: 2022-01-02 17:56:22 +01:00)\n"
     ]
    }
   ],
   "source": [
    "import pandas as pd\n",
    "from nltk.stem.snowball import SnowballStemmer\n",
    "\n",
    "# Use English stemmer.\n",
    "stemmer = SnowballStemmer(\"english\")\n",
    "\n",
    "df['unstemmed'] = df['Query_Modified'].str.split()\n",
    "\n",
    "df['stemmed'] = df['unstemmed'].apply(lambda x: [stemmer.stem(y) for y in x]) # Stem every word.\n",
    "\n",
    "df # Print dataframe."
   ]
  },
  {
   "cell_type": "code",
   "execution_count": 16,
   "metadata": {},
   "outputs": [
    {
     "data": {
      "text/html": [
       "<div>\n",
       "<style scoped>\n",
       "    .dataframe tbody tr th:only-of-type {\n",
       "        vertical-align: middle;\n",
       "    }\n",
       "\n",
       "    .dataframe tbody tr th {\n",
       "        vertical-align: top;\n",
       "    }\n",
       "\n",
       "    .dataframe thead th {\n",
       "        text-align: right;\n",
       "    }\n",
       "</style>\n",
       "<table border=\"1\" class=\"dataframe\">\n",
       "  <thead>\n",
       "    <tr style=\"text-align: right;\">\n",
       "      <th></th>\n",
       "      <th>stemmed</th>\n",
       "      <th>liststring</th>\n",
       "    </tr>\n",
       "  </thead>\n",
       "  <tbody>\n",
       "    <tr>\n",
       "      <th>1</th>\n",
       "      <td>[python, metaclass, use, metaclass, python]</td>\n",
       "      <td>python,metaclass,use,metaclass,python</td>\n",
       "    </tr>\n",
       "    <tr>\n",
       "      <th>22</th>\n",
       "      <td>[good, regular, express, valid, text, string, ...</td>\n",
       "      <td>good,regular,express,valid,text,string,make,su...</td>\n",
       "    </tr>\n",
       "    <tr>\n",
       "      <th>25</th>\n",
       "      <td>[two, unsort, list, need, produc, anoth, list,...</td>\n",
       "      <td>two,unsort,list,need,produc,anoth,list,sort,el...</td>\n",
       "    </tr>\n",
       "    <tr>\n",
       "      <th>32</th>\n",
       "      <td>[tool, like, selenium, good, test, user, inter...</td>\n",
       "      <td>tool,like,selenium,good,test,user,interact,web...</td>\n",
       "    </tr>\n",
       "    <tr>\n",
       "      <th>38</th>\n",
       "      <td>[like, know, easier, way, insert, record, alre...</td>\n",
       "      <td>like,know,easier,way,insert,record,alreadi,exi...</td>\n",
       "    </tr>\n",
       "    <tr>\n",
       "      <th>...</th>\n",
       "      <td>...</td>\n",
       "      <td>...</td>\n",
       "    </tr>\n",
       "    <tr>\n",
       "      <th>488894</th>\n",
       "      <td>[compani, perl, applic, server, ip, new, rule,...</td>\n",
       "      <td>compani,perl,applic,server,ip,new,rule,impleme...</td>\n",
       "    </tr>\n",
       "    <tr>\n",
       "      <th>492219</th>\n",
       "      <td>[typescript, compil, compil, option, chain, nu...</td>\n",
       "      <td>typescript,compil,compil,option,chain,null,coa...</td>\n",
       "    </tr>\n",
       "    <tr>\n",
       "      <th>492437</th>\n",
       "      <td>[use, mockk, spi, kotlin, java, class, class, ...</td>\n",
       "      <td>use,mockk,spi,kotlin,java,class,class,field,an...</td>\n",
       "    </tr>\n",
       "    <tr>\n",
       "      <th>495331</th>\n",
       "      <td>[hope, tri, cro, librari, raku, https, cro, se...</td>\n",
       "      <td>hope,tri,cro,librari,raku,https,cro,servic,doc...</td>\n",
       "    </tr>\n",
       "    <tr>\n",
       "      <th>498449</th>\n",
       "      <td>[datafram, index, number, string, specif, name...</td>\n",
       "      <td>datafram,index,number,string,specif,name,count...</td>\n",
       "    </tr>\n",
       "  </tbody>\n",
       "</table>\n",
       "<p>38902 rows × 2 columns</p>\n",
       "</div>"
      ],
      "text/plain": [
       "                                                  stemmed  \\\n",
       "1             [python, metaclass, use, metaclass, python]   \n",
       "22      [good, regular, express, valid, text, string, ...   \n",
       "25      [two, unsort, list, need, produc, anoth, list,...   \n",
       "32      [tool, like, selenium, good, test, user, inter...   \n",
       "38      [like, know, easier, way, insert, record, alre...   \n",
       "...                                                   ...   \n",
       "488894  [compani, perl, applic, server, ip, new, rule,...   \n",
       "492219  [typescript, compil, compil, option, chain, nu...   \n",
       "492437  [use, mockk, spi, kotlin, java, class, class, ...   \n",
       "495331  [hope, tri, cro, librari, raku, https, cro, se...   \n",
       "498449  [datafram, index, number, string, specif, name...   \n",
       "\n",
       "                                               liststring  \n",
       "1                   python,metaclass,use,metaclass,python  \n",
       "22      good,regular,express,valid,text,string,make,su...  \n",
       "25      two,unsort,list,need,produc,anoth,list,sort,el...  \n",
       "32      tool,like,selenium,good,test,user,interact,web...  \n",
       "38      like,know,easier,way,insert,record,alreadi,exi...  \n",
       "...                                                   ...  \n",
       "488894  compani,perl,applic,server,ip,new,rule,impleme...  \n",
       "492219  typescript,compil,compil,option,chain,null,coa...  \n",
       "492437  use,mockk,spi,kotlin,java,class,class,field,an...  \n",
       "495331  hope,tri,cro,librari,raku,https,cro,servic,doc...  \n",
       "498449  datafram,index,number,string,specif,name,count...  \n",
       "\n",
       "[38902 rows x 2 columns]"
      ]
     },
     "execution_count": 16,
     "metadata": {},
     "output_type": "execute_result"
    },
    {
     "name": "stdout",
     "output_type": "stream",
     "text": [
      "time: 445 ms (started: 2022-01-02 17:57:14 +01:00)\n"
     ]
    }
   ],
   "source": [
    "df = pd.DataFrame(df.stemmed)\n",
    "df['liststring'] = [','.join(map(str, l)) for l in df['stemmed']]\n",
    "df"
   ]
  },
  {
   "cell_type": "code",
   "execution_count": 17,
   "metadata": {},
   "outputs": [
    {
     "data": {
      "text/html": [
       "<div>\n",
       "<style scoped>\n",
       "    .dataframe tbody tr th:only-of-type {\n",
       "        vertical-align: middle;\n",
       "    }\n",
       "\n",
       "    .dataframe tbody tr th {\n",
       "        vertical-align: top;\n",
       "    }\n",
       "\n",
       "    .dataframe thead th {\n",
       "        text-align: right;\n",
       "    }\n",
       "</style>\n",
       "<table border=\"1\" class=\"dataframe\">\n",
       "  <thead>\n",
       "    <tr style=\"text-align: right;\">\n",
       "      <th></th>\n",
       "      <th>liststring</th>\n",
       "    </tr>\n",
       "  </thead>\n",
       "  <tbody>\n",
       "    <tr>\n",
       "      <th>1</th>\n",
       "      <td>python,metaclass,use,metaclass,python</td>\n",
       "    </tr>\n",
       "    <tr>\n",
       "      <th>22</th>\n",
       "      <td>good,regular,express,valid,text,string,make,su...</td>\n",
       "    </tr>\n",
       "    <tr>\n",
       "      <th>25</th>\n",
       "      <td>two,unsort,list,need,produc,anoth,list,sort,el...</td>\n",
       "    </tr>\n",
       "    <tr>\n",
       "      <th>32</th>\n",
       "      <td>tool,like,selenium,good,test,user,interact,web...</td>\n",
       "    </tr>\n",
       "    <tr>\n",
       "      <th>38</th>\n",
       "      <td>like,know,easier,way,insert,record,alreadi,exi...</td>\n",
       "    </tr>\n",
       "    <tr>\n",
       "      <th>...</th>\n",
       "      <td>...</td>\n",
       "    </tr>\n",
       "    <tr>\n",
       "      <th>488894</th>\n",
       "      <td>compani,perl,applic,server,ip,new,rule,impleme...</td>\n",
       "    </tr>\n",
       "    <tr>\n",
       "      <th>492219</th>\n",
       "      <td>typescript,compil,compil,option,chain,null,coa...</td>\n",
       "    </tr>\n",
       "    <tr>\n",
       "      <th>492437</th>\n",
       "      <td>use,mockk,spi,kotlin,java,class,class,field,an...</td>\n",
       "    </tr>\n",
       "    <tr>\n",
       "      <th>495331</th>\n",
       "      <td>hope,tri,cro,librari,raku,https,cro,servic,doc...</td>\n",
       "    </tr>\n",
       "    <tr>\n",
       "      <th>498449</th>\n",
       "      <td>datafram,index,number,string,specif,name,count...</td>\n",
       "    </tr>\n",
       "  </tbody>\n",
       "</table>\n",
       "<p>38902 rows × 1 columns</p>\n",
       "</div>"
      ],
      "text/plain": [
       "                                               liststring\n",
       "1                   python,metaclass,use,metaclass,python\n",
       "22      good,regular,express,valid,text,string,make,su...\n",
       "25      two,unsort,list,need,produc,anoth,list,sort,el...\n",
       "32      tool,like,selenium,good,test,user,interact,web...\n",
       "38      like,know,easier,way,insert,record,alreadi,exi...\n",
       "...                                                   ...\n",
       "488894  compani,perl,applic,server,ip,new,rule,impleme...\n",
       "492219  typescript,compil,compil,option,chain,null,coa...\n",
       "492437  use,mockk,spi,kotlin,java,class,class,field,an...\n",
       "495331  hope,tri,cro,librari,raku,https,cro,servic,doc...\n",
       "498449  datafram,index,number,string,specif,name,count...\n",
       "\n",
       "[38902 rows x 1 columns]"
      ]
     },
     "execution_count": 17,
     "metadata": {},
     "output_type": "execute_result"
    },
    {
     "name": "stdout",
     "output_type": "stream",
     "text": [
      "time: 24.8 ms (started: 2022-01-02 17:57:15 +01:00)\n"
     ]
    }
   ],
   "source": [
    "df = pd.DataFrame(df.liststring, dtype=str)\n",
    "df "
   ]
  },
  {
   "cell_type": "code",
   "execution_count": 18,
   "metadata": {},
   "outputs": [
    {
     "name": "stdout",
     "output_type": "stream",
     "text": [
      "time: 2.58 ms (started: 2022-01-02 17:57:15 +01:00)\n"
     ]
    }
   ],
   "source": [
    "def clean_text(text):\n",
    "    text = text.lower()\n",
    "    text = re.sub(r\"what's\", \"what is \", text)\n",
    "    text = re.sub(r\",\", \" \", text)\n",
    "    text = re.sub(r\"\\'s\", \" \", text)\n",
    "    text = re.sub(r\"\\'ve\", \" have \", text)\n",
    "    text = re.sub(r\"can't\", \"can not \", text)\n",
    "    text = re.sub(r\"n't\", \" not \", text)\n",
    "    text = re.sub(r\"i'm\", \"i am \", text)\n",
    "    text = re.sub(r\"\\'re\", \" are \", text)\n",
    "    text = re.sub(r\"\\'d\", \" would \", text)\n",
    "    text = re.sub(r\"\\'ll\", \" will \", text)\n",
    "    text = re.sub(r\"\\'scuse\", \" excuse \", text)\n",
    "    text = re.sub(r\"\\'\\n\", \" \", text)\n",
    "    text = re.sub(r\"\\'\\xa0\", \" \", text)\n",
    "    text = re.sub('\\s+', ' ', text)\n",
    "    text = text.strip(' ')\n",
    "    return text"
   ]
  },
  {
   "cell_type": "code",
   "execution_count": 19,
   "metadata": {},
   "outputs": [
    {
     "data": {
      "text/html": [
       "<div>\n",
       "<style scoped>\n",
       "    .dataframe tbody tr th:only-of-type {\n",
       "        vertical-align: middle;\n",
       "    }\n",
       "\n",
       "    .dataframe tbody tr th {\n",
       "        vertical-align: top;\n",
       "    }\n",
       "\n",
       "    .dataframe thead th {\n",
       "        text-align: right;\n",
       "    }\n",
       "</style>\n",
       "<table border=\"1\" class=\"dataframe\">\n",
       "  <thead>\n",
       "    <tr style=\"text-align: right;\">\n",
       "      <th></th>\n",
       "      <th>liststring</th>\n",
       "      <th>Body</th>\n",
       "    </tr>\n",
       "  </thead>\n",
       "  <tbody>\n",
       "    <tr>\n",
       "      <th>1</th>\n",
       "      <td>python,metaclass,use,metaclass,python</td>\n",
       "      <td>python metaclass use metaclass python</td>\n",
       "    </tr>\n",
       "    <tr>\n",
       "      <th>22</th>\n",
       "      <td>good,regular,express,valid,text,string,make,su...</td>\n",
       "      <td>good regular express valid text string make su...</td>\n",
       "    </tr>\n",
       "    <tr>\n",
       "      <th>25</th>\n",
       "      <td>two,unsort,list,need,produc,anoth,list,sort,el...</td>\n",
       "      <td>two unsort list need produc anoth list sort el...</td>\n",
       "    </tr>\n",
       "    <tr>\n",
       "      <th>32</th>\n",
       "      <td>tool,like,selenium,good,test,user,interact,web...</td>\n",
       "      <td>tool like selenium good test user interact web...</td>\n",
       "    </tr>\n",
       "    <tr>\n",
       "      <th>38</th>\n",
       "      <td>like,know,easier,way,insert,record,alreadi,exi...</td>\n",
       "      <td>like know easier way insert record alreadi exi...</td>\n",
       "    </tr>\n",
       "    <tr>\n",
       "      <th>...</th>\n",
       "      <td>...</td>\n",
       "      <td>...</td>\n",
       "    </tr>\n",
       "    <tr>\n",
       "      <th>488894</th>\n",
       "      <td>compani,perl,applic,server,ip,new,rule,impleme...</td>\n",
       "      <td>compani perl applic server ip new rule impleme...</td>\n",
       "    </tr>\n",
       "    <tr>\n",
       "      <th>492219</th>\n",
       "      <td>typescript,compil,compil,option,chain,null,coa...</td>\n",
       "      <td>typescript compil compil option chain null coa...</td>\n",
       "    </tr>\n",
       "    <tr>\n",
       "      <th>492437</th>\n",
       "      <td>use,mockk,spi,kotlin,java,class,class,field,an...</td>\n",
       "      <td>use mockk spi kotlin java class class field an...</td>\n",
       "    </tr>\n",
       "    <tr>\n",
       "      <th>495331</th>\n",
       "      <td>hope,tri,cro,librari,raku,https,cro,servic,doc...</td>\n",
       "      <td>hope tri cro librari raku https cro servic doc...</td>\n",
       "    </tr>\n",
       "    <tr>\n",
       "      <th>498449</th>\n",
       "      <td>datafram,index,number,string,specif,name,count...</td>\n",
       "      <td>datafram index number string specif name count...</td>\n",
       "    </tr>\n",
       "  </tbody>\n",
       "</table>\n",
       "<p>38902 rows × 2 columns</p>\n",
       "</div>"
      ],
      "text/plain": [
       "                                               liststring  \\\n",
       "1                   python,metaclass,use,metaclass,python   \n",
       "22      good,regular,express,valid,text,string,make,su...   \n",
       "25      two,unsort,list,need,produc,anoth,list,sort,el...   \n",
       "32      tool,like,selenium,good,test,user,interact,web...   \n",
       "38      like,know,easier,way,insert,record,alreadi,exi...   \n",
       "...                                                   ...   \n",
       "488894  compani,perl,applic,server,ip,new,rule,impleme...   \n",
       "492219  typescript,compil,compil,option,chain,null,coa...   \n",
       "492437  use,mockk,spi,kotlin,java,class,class,field,an...   \n",
       "495331  hope,tri,cro,librari,raku,https,cro,servic,doc...   \n",
       "498449  datafram,index,number,string,specif,name,count...   \n",
       "\n",
       "                                                     Body  \n",
       "1                   python metaclass use metaclass python  \n",
       "22      good regular express valid text string make su...  \n",
       "25      two unsort list need produc anoth list sort el...  \n",
       "32      tool like selenium good test user interact web...  \n",
       "38      like know easier way insert record alreadi exi...  \n",
       "...                                                   ...  \n",
       "488894  compani perl applic server ip new rule impleme...  \n",
       "492219  typescript compil compil option chain null coa...  \n",
       "492437  use mockk spi kotlin java class class field an...  \n",
       "495331  hope tri cro librari raku https cro servic doc...  \n",
       "498449  datafram index number string specif name count...  \n",
       "\n",
       "[38902 rows x 2 columns]"
      ]
     },
     "execution_count": 19,
     "metadata": {},
     "output_type": "execute_result"
    },
    {
     "name": "stdout",
     "output_type": "stream",
     "text": [
      "time: 3.16 s (started: 2022-01-02 17:57:15 +01:00)\n"
     ]
    }
   ],
   "source": [
    "df['Body'] = df['liststring'].apply(lambda x: clean_text(x)) \n",
    "data = df.copy()\n",
    "data"
   ]
  },
  {
   "cell_type": "code",
   "execution_count": 20,
   "metadata": {},
   "outputs": [
    {
     "name": "stdout",
     "output_type": "stream",
     "text": [
      "time: 1.4 ms (started: 2022-01-02 17:57:18 +01:00)\n"
     ]
    }
   ],
   "source": [
    "token=ToktokTokenizer()\n",
    "punct = '!\"#$%&\\'()*+,./:;<=>?@[\\\\]^_`{|}~'\n",
    "\n",
    "def strip_list_noempty(mylist):\n",
    "    newlist = (item.strip() if hasattr(item, 'strip') else item for item in mylist)\n",
    "    return [item for item in newlist if item != '']\n",
    "\n",
    "\n",
    "def clean_punct(text): \n",
    "    words=token.tokenize(text)\n",
    "    punctuation_filtered = []\n",
    "    regex = re.compile('[%s]' % re.escape(punct))\n",
    "    remove_punctuation = str.maketrans(' ', ' ', punct)\n",
    "    for w in words:\n",
    "        punctuation_filtered.append(regex.sub('', w))\n",
    "  \n",
    "    filtered_list = strip_list_noempty(punctuation_filtered)\n",
    "        \n",
    "    return ' '.join(map(str, filtered_list))"
   ]
  },
  {
   "cell_type": "code",
   "execution_count": 21,
   "metadata": {},
   "outputs": [
    {
     "data": {
      "text/html": [
       "<div>\n",
       "<style scoped>\n",
       "    .dataframe tbody tr th:only-of-type {\n",
       "        vertical-align: middle;\n",
       "    }\n",
       "\n",
       "    .dataframe tbody tr th {\n",
       "        vertical-align: top;\n",
       "    }\n",
       "\n",
       "    .dataframe thead th {\n",
       "        text-align: right;\n",
       "    }\n",
       "</style>\n",
       "<table border=\"1\" class=\"dataframe\">\n",
       "  <thead>\n",
       "    <tr style=\"text-align: right;\">\n",
       "      <th></th>\n",
       "      <th>liststring</th>\n",
       "      <th>Body</th>\n",
       "    </tr>\n",
       "  </thead>\n",
       "  <tbody>\n",
       "    <tr>\n",
       "      <th>1</th>\n",
       "      <td>python,metaclass,use,metaclass,python</td>\n",
       "      <td>python metaclass use metaclass python</td>\n",
       "    </tr>\n",
       "    <tr>\n",
       "      <th>22</th>\n",
       "      <td>good,regular,express,valid,text,string,make,su...</td>\n",
       "      <td>good regular express valid text string make su...</td>\n",
       "    </tr>\n",
       "    <tr>\n",
       "      <th>25</th>\n",
       "      <td>two,unsort,list,need,produc,anoth,list,sort,el...</td>\n",
       "      <td>two unsort list need produc anoth list sort el...</td>\n",
       "    </tr>\n",
       "    <tr>\n",
       "      <th>32</th>\n",
       "      <td>tool,like,selenium,good,test,user,interact,web...</td>\n",
       "      <td>tool like selenium good test user interact web...</td>\n",
       "    </tr>\n",
       "    <tr>\n",
       "      <th>38</th>\n",
       "      <td>like,know,easier,way,insert,record,alreadi,exi...</td>\n",
       "      <td>like know easier way insert record alreadi exi...</td>\n",
       "    </tr>\n",
       "    <tr>\n",
       "      <th>...</th>\n",
       "      <td>...</td>\n",
       "      <td>...</td>\n",
       "    </tr>\n",
       "    <tr>\n",
       "      <th>488894</th>\n",
       "      <td>compani,perl,applic,server,ip,new,rule,impleme...</td>\n",
       "      <td>compani perl applic server ip new rule impleme...</td>\n",
       "    </tr>\n",
       "    <tr>\n",
       "      <th>492219</th>\n",
       "      <td>typescript,compil,compil,option,chain,null,coa...</td>\n",
       "      <td>typescript compil compil option chain null coa...</td>\n",
       "    </tr>\n",
       "    <tr>\n",
       "      <th>492437</th>\n",
       "      <td>use,mockk,spi,kotlin,java,class,class,field,an...</td>\n",
       "      <td>use mockk spi kotlin java class class field an...</td>\n",
       "    </tr>\n",
       "    <tr>\n",
       "      <th>495331</th>\n",
       "      <td>hope,tri,cro,librari,raku,https,cro,servic,doc...</td>\n",
       "      <td>hope tri cro librari raku https cro servic doc...</td>\n",
       "    </tr>\n",
       "    <tr>\n",
       "      <th>498449</th>\n",
       "      <td>datafram,index,number,string,specif,name,count...</td>\n",
       "      <td>datafram index number string specif name count...</td>\n",
       "    </tr>\n",
       "  </tbody>\n",
       "</table>\n",
       "<p>38902 rows × 2 columns</p>\n",
       "</div>"
      ],
      "text/plain": [
       "                                               liststring  \\\n",
       "1                   python,metaclass,use,metaclass,python   \n",
       "22      good,regular,express,valid,text,string,make,su...   \n",
       "25      two,unsort,list,need,produc,anoth,list,sort,el...   \n",
       "32      tool,like,selenium,good,test,user,interact,web...   \n",
       "38      like,know,easier,way,insert,record,alreadi,exi...   \n",
       "...                                                   ...   \n",
       "488894  compani,perl,applic,server,ip,new,rule,impleme...   \n",
       "492219  typescript,compil,compil,option,chain,null,coa...   \n",
       "492437  use,mockk,spi,kotlin,java,class,class,field,an...   \n",
       "495331  hope,tri,cro,librari,raku,https,cro,servic,doc...   \n",
       "498449  datafram,index,number,string,specif,name,count...   \n",
       "\n",
       "                                                     Body  \n",
       "1                   python metaclass use metaclass python  \n",
       "22      good regular express valid text string make su...  \n",
       "25      two unsort list need produc anoth list sort el...  \n",
       "32      tool like selenium good test user interact web...  \n",
       "38      like know easier way insert record alreadi exi...  \n",
       "...                                                   ...  \n",
       "488894  compani perl applic server ip new rule impleme...  \n",
       "492219  typescript compil compil option chain null coa...  \n",
       "492437  use mockk spi kotlin java class class field an...  \n",
       "495331  hope tri cro librari raku https cro servic doc...  \n",
       "498449  datafram index number string specif name count...  \n",
       "\n",
       "[38902 rows x 2 columns]"
      ]
     },
     "execution_count": 21,
     "metadata": {},
     "output_type": "execute_result"
    },
    {
     "name": "stdout",
     "output_type": "stream",
     "text": [
      "time: 9.88 s (started: 2022-01-02 17:57:18 +01:00)\n"
     ]
    }
   ],
   "source": [
    "data['Body'] = data['Body'].apply(lambda x: clean_punct(x)) \n",
    "data"
   ]
  },
  {
   "cell_type": "code",
   "execution_count": 22,
   "metadata": {},
   "outputs": [
    {
     "name": "stdout",
     "output_type": "stream",
     "text": [
      "time: 1.92 ms (started: 2022-01-02 17:57:28 +01:00)\n"
     ]
    }
   ],
   "source": [
    "def stopWordsRemove(text):\n",
    "    stop_words = set(stopwords.words(\"english\"))\n",
    "    words=token.tokenize(text)\n",
    "    filtered = [w for w in words if not w in stop_words]\n",
    "    return ' '.join(map(str, filtered))"
   ]
  },
  {
   "cell_type": "code",
   "execution_count": 23,
   "metadata": {},
   "outputs": [
    {
     "data": {
      "text/html": [
       "<div>\n",
       "<style scoped>\n",
       "    .dataframe tbody tr th:only-of-type {\n",
       "        vertical-align: middle;\n",
       "    }\n",
       "\n",
       "    .dataframe tbody tr th {\n",
       "        vertical-align: top;\n",
       "    }\n",
       "\n",
       "    .dataframe thead th {\n",
       "        text-align: right;\n",
       "    }\n",
       "</style>\n",
       "<table border=\"1\" class=\"dataframe\">\n",
       "  <thead>\n",
       "    <tr style=\"text-align: right;\">\n",
       "      <th></th>\n",
       "      <th>liststring</th>\n",
       "      <th>Body</th>\n",
       "    </tr>\n",
       "  </thead>\n",
       "  <tbody>\n",
       "    <tr>\n",
       "      <th>1</th>\n",
       "      <td>python,metaclass,use,metaclass,python</td>\n",
       "      <td>python metaclass use metaclass python</td>\n",
       "    </tr>\n",
       "    <tr>\n",
       "      <th>22</th>\n",
       "      <td>good,regular,express,valid,text,string,make,su...</td>\n",
       "      <td>good regular express valid text string make su...</td>\n",
       "    </tr>\n",
       "    <tr>\n",
       "      <th>25</th>\n",
       "      <td>two,unsort,list,need,produc,anoth,list,sort,el...</td>\n",
       "      <td>two unsort list need produc anoth list sort el...</td>\n",
       "    </tr>\n",
       "    <tr>\n",
       "      <th>32</th>\n",
       "      <td>tool,like,selenium,good,test,user,interact,web...</td>\n",
       "      <td>tool like selenium good test user interact web...</td>\n",
       "    </tr>\n",
       "    <tr>\n",
       "      <th>38</th>\n",
       "      <td>like,know,easier,way,insert,record,alreadi,exi...</td>\n",
       "      <td>like know easier way insert record alreadi exi...</td>\n",
       "    </tr>\n",
       "    <tr>\n",
       "      <th>...</th>\n",
       "      <td>...</td>\n",
       "      <td>...</td>\n",
       "    </tr>\n",
       "    <tr>\n",
       "      <th>488894</th>\n",
       "      <td>compani,perl,applic,server,ip,new,rule,impleme...</td>\n",
       "      <td>compani perl applic server ip new rule impleme...</td>\n",
       "    </tr>\n",
       "    <tr>\n",
       "      <th>492219</th>\n",
       "      <td>typescript,compil,compil,option,chain,null,coa...</td>\n",
       "      <td>typescript compil compil option chain null coa...</td>\n",
       "    </tr>\n",
       "    <tr>\n",
       "      <th>492437</th>\n",
       "      <td>use,mockk,spi,kotlin,java,class,class,field,an...</td>\n",
       "      <td>use mockk spi kotlin java class class field an...</td>\n",
       "    </tr>\n",
       "    <tr>\n",
       "      <th>495331</th>\n",
       "      <td>hope,tri,cro,librari,raku,https,cro,servic,doc...</td>\n",
       "      <td>hope tri cro librari raku https cro servic doc...</td>\n",
       "    </tr>\n",
       "    <tr>\n",
       "      <th>498449</th>\n",
       "      <td>datafram,index,number,string,specif,name,count...</td>\n",
       "      <td>datafram index number string specif name count...</td>\n",
       "    </tr>\n",
       "  </tbody>\n",
       "</table>\n",
       "<p>38902 rows × 2 columns</p>\n",
       "</div>"
      ],
      "text/plain": [
       "                                               liststring  \\\n",
       "1                   python,metaclass,use,metaclass,python   \n",
       "22      good,regular,express,valid,text,string,make,su...   \n",
       "25      two,unsort,list,need,produc,anoth,list,sort,el...   \n",
       "32      tool,like,selenium,good,test,user,interact,web...   \n",
       "38      like,know,easier,way,insert,record,alreadi,exi...   \n",
       "...                                                   ...   \n",
       "488894  compani,perl,applic,server,ip,new,rule,impleme...   \n",
       "492219  typescript,compil,compil,option,chain,null,coa...   \n",
       "492437  use,mockk,spi,kotlin,java,class,class,field,an...   \n",
       "495331  hope,tri,cro,librari,raku,https,cro,servic,doc...   \n",
       "498449  datafram,index,number,string,specif,name,count...   \n",
       "\n",
       "                                                     Body  \n",
       "1                   python metaclass use metaclass python  \n",
       "22      good regular express valid text string make su...  \n",
       "25      two unsort list need produc anoth list sort el...  \n",
       "32      tool like selenium good test user interact web...  \n",
       "38      like know easier way insert record alreadi exi...  \n",
       "...                                                   ...  \n",
       "488894  compani perl applic server ip new rule impleme...  \n",
       "492219  typescript compil compil option chain null coa...  \n",
       "492437  use mockk spi kotlin java class class field an...  \n",
       "495331  hope tri cro librari raku https cro servic doc...  \n",
       "498449  datafram index number string specif name count...  \n",
       "\n",
       "[38902 rows x 2 columns]"
      ]
     },
     "execution_count": 23,
     "metadata": {},
     "output_type": "execute_result"
    },
    {
     "name": "stdout",
     "output_type": "stream",
     "text": [
      "time: 19.8 s (started: 2022-01-02 17:57:28 +01:00)\n"
     ]
    }
   ],
   "source": [
    "data['Body'] = data['Body'].apply(lambda x: stopWordsRemove(x)) \n",
    "data"
   ]
  },
  {
   "cell_type": "code",
   "execution_count": 24,
   "metadata": {},
   "outputs": [
    {
     "data": {
      "text/html": [
       "<div>\n",
       "<style scoped>\n",
       "    .dataframe tbody tr th:only-of-type {\n",
       "        vertical-align: middle;\n",
       "    }\n",
       "\n",
       "    .dataframe tbody tr th {\n",
       "        vertical-align: top;\n",
       "    }\n",
       "\n",
       "    .dataframe thead th {\n",
       "        text-align: right;\n",
       "    }\n",
       "</style>\n",
       "<table border=\"1\" class=\"dataframe\">\n",
       "  <thead>\n",
       "    <tr style=\"text-align: right;\">\n",
       "      <th></th>\n",
       "      <th>Body</th>\n",
       "    </tr>\n",
       "  </thead>\n",
       "  <tbody>\n",
       "    <tr>\n",
       "      <th>1</th>\n",
       "      <td>python metaclass use metaclass python</td>\n",
       "    </tr>\n",
       "    <tr>\n",
       "      <th>22</th>\n",
       "      <td>good regular express valid text string make su...</td>\n",
       "    </tr>\n",
       "    <tr>\n",
       "      <th>25</th>\n",
       "      <td>two unsort list need produc anoth list sort el...</td>\n",
       "    </tr>\n",
       "    <tr>\n",
       "      <th>32</th>\n",
       "      <td>tool like selenium good test user interact web...</td>\n",
       "    </tr>\n",
       "    <tr>\n",
       "      <th>38</th>\n",
       "      <td>like know easier way insert record alreadi exi...</td>\n",
       "    </tr>\n",
       "    <tr>\n",
       "      <th>...</th>\n",
       "      <td>...</td>\n",
       "    </tr>\n",
       "    <tr>\n",
       "      <th>488894</th>\n",
       "      <td>compani perl applic server ip new rule impleme...</td>\n",
       "    </tr>\n",
       "    <tr>\n",
       "      <th>492219</th>\n",
       "      <td>typescript compil compil option chain null coa...</td>\n",
       "    </tr>\n",
       "    <tr>\n",
       "      <th>492437</th>\n",
       "      <td>use mockk spi kotlin java class class field an...</td>\n",
       "    </tr>\n",
       "    <tr>\n",
       "      <th>495331</th>\n",
       "      <td>hope tri cro librari raku https cro servic doc...</td>\n",
       "    </tr>\n",
       "    <tr>\n",
       "      <th>498449</th>\n",
       "      <td>datafram index number string specif name count...</td>\n",
       "    </tr>\n",
       "  </tbody>\n",
       "</table>\n",
       "<p>38902 rows × 1 columns</p>\n",
       "</div>"
      ],
      "text/plain": [
       "                                                     Body\n",
       "1                   python metaclass use metaclass python\n",
       "22      good regular express valid text string make su...\n",
       "25      two unsort list need produc anoth list sort el...\n",
       "32      tool like selenium good test user interact web...\n",
       "38      like know easier way insert record alreadi exi...\n",
       "...                                                   ...\n",
       "488894  compani perl applic server ip new rule impleme...\n",
       "492219  typescript compil compil option chain null coa...\n",
       "492437  use mockk spi kotlin java class class field an...\n",
       "495331  hope tri cro librari raku https cro servic doc...\n",
       "498449  datafram index number string specif name count...\n",
       "\n",
       "[38902 rows x 1 columns]"
      ]
     },
     "execution_count": 24,
     "metadata": {},
     "output_type": "execute_result"
    },
    {
     "name": "stdout",
     "output_type": "stream",
     "text": [
      "time: 45.1 ms (started: 2022-01-02 17:57:48 +01:00)\n"
     ]
    }
   ],
   "source": [
    "X_new = pd.DataFrame(data['Body'])\n",
    "X_new"
   ]
  },
  {
   "cell_type": "code",
   "execution_count": 25,
   "metadata": {},
   "outputs": [
    {
     "name": "stderr",
     "output_type": "stream",
     "text": [
      "100%|███████████████████████████████████| 38902/38902 [00:04<00:00, 8199.05it/s]\n"
     ]
    },
    {
     "data": {
      "text/html": [
       "<div>\n",
       "<style scoped>\n",
       "    .dataframe tbody tr th:only-of-type {\n",
       "        vertical-align: middle;\n",
       "    }\n",
       "\n",
       "    .dataframe tbody tr th {\n",
       "        vertical-align: top;\n",
       "    }\n",
       "\n",
       "    .dataframe thead th {\n",
       "        text-align: right;\n",
       "    }\n",
       "</style>\n",
       "<table border=\"1\" class=\"dataframe\">\n",
       "  <thead>\n",
       "    <tr style=\"text-align: right;\">\n",
       "      <th></th>\n",
       "      <th>Text_Clean</th>\n",
       "    </tr>\n",
       "  </thead>\n",
       "  <tbody>\n",
       "    <tr>\n",
       "      <th>0</th>\n",
       "      <td>python metaclass use</td>\n",
       "    </tr>\n",
       "    <tr>\n",
       "      <th>1</th>\n",
       "      <td>good regular express valid text string make su...</td>\n",
       "    </tr>\n",
       "    <tr>\n",
       "      <th>2</th>\n",
       "      <td>two unsort list need produc anoth sort element...</td>\n",
       "    </tr>\n",
       "    <tr>\n",
       "      <th>3</th>\n",
       "      <td>tool like selenium good test user interact web...</td>\n",
       "    </tr>\n",
       "    <tr>\n",
       "      <th>4</th>\n",
       "      <td>like know easier way insert record alreadi exi...</td>\n",
       "    </tr>\n",
       "    <tr>\n",
       "      <th>...</th>\n",
       "      <td>...</td>\n",
       "    </tr>\n",
       "    <tr>\n",
       "      <th>38897</th>\n",
       "      <td>compani perl applic server ip new rule impleme...</td>\n",
       "    </tr>\n",
       "    <tr>\n",
       "      <th>38898</th>\n",
       "      <td>typescript compil option chain null coalesc op...</td>\n",
       "    </tr>\n",
       "    <tr>\n",
       "      <th>38899</th>\n",
       "      <td>use mockk spi kotlin java class field anonym l...</td>\n",
       "    </tr>\n",
       "    <tr>\n",
       "      <th>38900</th>\n",
       "      <td>hope tri cro librari raku https servic doc how...</td>\n",
       "    </tr>\n",
       "    <tr>\n",
       "      <th>38901</th>\n",
       "      <td>datafram index number string specif name count...</td>\n",
       "    </tr>\n",
       "  </tbody>\n",
       "</table>\n",
       "<p>38902 rows × 1 columns</p>\n",
       "</div>"
      ],
      "text/plain": [
       "                                              Text_Clean\n",
       "0                                   python metaclass use\n",
       "1      good regular express valid text string make su...\n",
       "2      two unsort list need produc anoth sort element...\n",
       "3      tool like selenium good test user interact web...\n",
       "4      like know easier way insert record alreadi exi...\n",
       "...                                                  ...\n",
       "38897  compani perl applic server ip new rule impleme...\n",
       "38898  typescript compil option chain null coalesc op...\n",
       "38899  use mockk spi kotlin java class field anonym l...\n",
       "38900  hope tri cro librari raku https servic doc how...\n",
       "38901  datafram index number string specif name count...\n",
       "\n",
       "[38902 rows x 1 columns]"
      ]
     },
     "execution_count": 25,
     "metadata": {},
     "output_type": "execute_result"
    },
    {
     "name": "stdout",
     "output_type": "stream",
     "text": [
      "time: 6.41 s (started: 2022-01-02 17:57:48 +01:00)\n"
     ]
    }
   ],
   "source": [
    "df_lab = pd.DataFrame(X_new['Body'])\n",
    "df_lab = df_lab.T\n",
    "\n",
    "from collections import OrderedDict\n",
    "\n",
    "new_r = []\n",
    "for i in tqdm(df_lab.columns):\n",
    "    s = df_lab[i].values[0]\n",
    "    t = ' '.join(OrderedDict((w,w) for w in s.split()).keys())\n",
    "    new_r.append(t)\n",
    "    \n",
    "    \n",
    "X_new = pd.DataFrame(new_r)\n",
    "\n",
    "X_new = X_new.rename(columns={0: \"Text_Clean\"})\n",
    "X_new"
   ]
  },
  {
   "cell_type": "markdown",
   "id": "14f46c58",
   "metadata": {},
   "source": [
    "## 2.2 -  Tags\n",
    "#### 2.2.1 HTML -> String / 2.2.2 Minus / 2.2.3 - Caract pb / 2.2.4 - Chiffre /  2.2.5 - Ponct / 2.2.6 - Lem /  2.2.7 -StopWord\n"
   ]
  },
  {
   "cell_type": "code",
   "execution_count": 26,
   "id": "6d4587b7",
   "metadata": {},
   "outputs": [
    {
     "name": "stdout",
     "output_type": "stream",
     "text": [
      "Done\n"
     ]
    },
    {
     "data": {
      "text/plain": [
       "(38902, 1)"
      ]
     },
     "execution_count": 26,
     "metadata": {},
     "output_type": "execute_result"
    },
    {
     "name": "stdout",
     "output_type": "stream",
     "text": [
      "time: 1.06 s (started: 2022-01-02 17:57:54 +01:00)\n"
     ]
    }
   ],
   "source": [
    "mDf_Tags_1 = mDf_Tags.copy()\n",
    "mDf_Tags_1['Tags'] = mDf_Tags_1['Tags'].str.replace(r'><', ' ')\n",
    "mDf_Tags_1['Tags'] = mDf_Tags_1['Tags'].str.replace(r'<', '')\n",
    "mDf_Tags_1['Tags'] = mDf_Tags_1['Tags'].str.replace(r'>', '')\n",
    "mDf_Tags_2 = data_preprocess(mDf_Tags_1, 'Tags', lower=True, ascii_chars=True, no_numbers=True, no_punctuation=True, remove_stopwords=True, lemmatize=True, custom_blank_text='non ascii symbols punctuations numbers')\n",
    "mDf_Tags_2.pop('Tags')\n",
    "mDf_Tags_2= mDf_Tags_2.rename(columns={'Query_Modified': \"Tags\"})\n",
    "mDf_Tags_2 = mDf_Tags_2.reset_index()\n",
    "mDf_Tags_2.pop('index')\n",
    "mDf_Tags_2.shape\n",
    "\n",
    "\n"
   ]
  },
  {
   "cell_type": "code",
   "execution_count": 27,
   "metadata": {},
   "outputs": [
    {
     "name": "stderr",
     "output_type": "stream",
     "text": [
      "100%|██████████████████████████████████| 38902/38902 [00:02<00:00, 13359.90it/s]\n"
     ]
    },
    {
     "data": {
      "text/html": [
       "<div>\n",
       "<style scoped>\n",
       "    .dataframe tbody tr th:only-of-type {\n",
       "        vertical-align: middle;\n",
       "    }\n",
       "\n",
       "    .dataframe tbody tr th {\n",
       "        vertical-align: top;\n",
       "    }\n",
       "\n",
       "    .dataframe thead th {\n",
       "        text-align: right;\n",
       "    }\n",
       "</style>\n",
       "<table border=\"1\" class=\"dataframe\">\n",
       "  <thead>\n",
       "    <tr style=\"text-align: right;\">\n",
       "      <th></th>\n",
       "      <th>Tags_Clean</th>\n",
       "    </tr>\n",
       "  </thead>\n",
       "  <tbody>\n",
       "    <tr>\n",
       "      <th>0</th>\n",
       "      <td>python oop metaclass class datamodel</td>\n",
       "    </tr>\n",
       "    <tr>\n",
       "      <th>1</th>\n",
       "      <td>c regex</td>\n",
       "    </tr>\n",
       "    <tr>\n",
       "      <th>2</th>\n",
       "      <td>algorithm sorting lisp list</td>\n",
       "    </tr>\n",
       "    <tr>\n",
       "      <th>3</th>\n",
       "      <td>testing browser user interface</td>\n",
       "    </tr>\n",
       "    <tr>\n",
       "      <th>4</th>\n",
       "      <td>c linq sql</td>\n",
       "    </tr>\n",
       "    <tr>\n",
       "      <th>...</th>\n",
       "      <td>...</td>\n",
       "    </tr>\n",
       "    <tr>\n",
       "      <th>38897</th>\n",
       "      <td>mysql perl mariadb dbi</td>\n",
       "    </tr>\n",
       "    <tr>\n",
       "      <th>38898</th>\n",
       "      <td>typescript language design</td>\n",
       "    </tr>\n",
       "    <tr>\n",
       "      <th>38899</th>\n",
       "      <td>kotlin mockk</td>\n",
       "    </tr>\n",
       "    <tr>\n",
       "      <th>38900</th>\n",
       "      <td>raku cro</td>\n",
       "    </tr>\n",
       "    <tr>\n",
       "      <th>38901</th>\n",
       "      <td>python pandas indexing</td>\n",
       "    </tr>\n",
       "  </tbody>\n",
       "</table>\n",
       "<p>38902 rows × 1 columns</p>\n",
       "</div>"
      ],
      "text/plain": [
       "                                 Tags_Clean\n",
       "0      python oop metaclass class datamodel\n",
       "1                                   c regex\n",
       "2               algorithm sorting lisp list\n",
       "3            testing browser user interface\n",
       "4                                c linq sql\n",
       "...                                     ...\n",
       "38897                mysql perl mariadb dbi\n",
       "38898            typescript language design\n",
       "38899                          kotlin mockk\n",
       "38900                              raku cro\n",
       "38901                python pandas indexing\n",
       "\n",
       "[38902 rows x 1 columns]"
      ]
     },
     "execution_count": 27,
     "metadata": {},
     "output_type": "execute_result"
    },
    {
     "name": "stdout",
     "output_type": "stream",
     "text": [
      "time: 4.34 s (started: 2022-01-02 17:57:55 +01:00)\n"
     ]
    }
   ],
   "source": [
    "df_lab = pd.DataFrame(mDf_Tags_2['Tags'])\n",
    "df_lab = df_lab.T\n",
    "\n",
    "from collections import OrderedDict\n",
    "\n",
    "new_r = []\n",
    "for i in tqdm(df_lab.columns):\n",
    "    s = df_lab[i].values[0]\n",
    "    t = ' '.join(OrderedDict((w,w) for w in s.split()).keys())\n",
    "    new_r.append(t)\n",
    "    \n",
    "    \n",
    "y_new = pd.DataFrame(new_r)\n",
    "\n",
    "y_new = y_new.rename(columns={0: \"Tags_Clean\"})\n",
    "y_new"
   ]
  },
  {
   "cell_type": "markdown",
   "id": "0a3cc316",
   "metadata": {},
   "source": [
    "## 2.3 -  Concat Body + Tags"
   ]
  },
  {
   "cell_type": "code",
   "execution_count": 28,
   "id": "6720436c",
   "metadata": {},
   "outputs": [
    {
     "data": {
      "text/html": [
       "<div>\n",
       "<style scoped>\n",
       "    .dataframe tbody tr th:only-of-type {\n",
       "        vertical-align: middle;\n",
       "    }\n",
       "\n",
       "    .dataframe tbody tr th {\n",
       "        vertical-align: top;\n",
       "    }\n",
       "\n",
       "    .dataframe thead th {\n",
       "        text-align: right;\n",
       "    }\n",
       "</style>\n",
       "<table border=\"1\" class=\"dataframe\">\n",
       "  <thead>\n",
       "    <tr style=\"text-align: right;\">\n",
       "      <th></th>\n",
       "      <th>Txt_Clean</th>\n",
       "      <th>Tags_Clean</th>\n",
       "    </tr>\n",
       "  </thead>\n",
       "  <tbody>\n",
       "    <tr>\n",
       "      <th>0</th>\n",
       "      <td>python metaclass use</td>\n",
       "      <td>python oop metaclass class datamodel</td>\n",
       "    </tr>\n",
       "    <tr>\n",
       "      <th>1</th>\n",
       "      <td>good regular express valid text string make su...</td>\n",
       "      <td>c regex</td>\n",
       "    </tr>\n",
       "    <tr>\n",
       "      <th>2</th>\n",
       "      <td>two unsort list need produc anoth sort element...</td>\n",
       "      <td>algorithm sorting lisp list</td>\n",
       "    </tr>\n",
       "    <tr>\n",
       "      <th>3</th>\n",
       "      <td>tool like selenium good test user interact web...</td>\n",
       "      <td>testing browser user interface</td>\n",
       "    </tr>\n",
       "    <tr>\n",
       "      <th>4</th>\n",
       "      <td>like know easier way insert record alreadi exi...</td>\n",
       "      <td>c linq sql</td>\n",
       "    </tr>\n",
       "    <tr>\n",
       "      <th>...</th>\n",
       "      <td>...</td>\n",
       "      <td>...</td>\n",
       "    </tr>\n",
       "    <tr>\n",
       "      <th>38897</th>\n",
       "      <td>compani perl applic server ip new rule impleme...</td>\n",
       "      <td>mysql perl mariadb dbi</td>\n",
       "    </tr>\n",
       "    <tr>\n",
       "      <th>38898</th>\n",
       "      <td>typescript compil option chain null coalesc op...</td>\n",
       "      <td>typescript language design</td>\n",
       "    </tr>\n",
       "    <tr>\n",
       "      <th>38899</th>\n",
       "      <td>use mockk spi kotlin java class field anonym l...</td>\n",
       "      <td>kotlin mockk</td>\n",
       "    </tr>\n",
       "    <tr>\n",
       "      <th>38900</th>\n",
       "      <td>hope tri cro librari raku https servic doc how...</td>\n",
       "      <td>raku cro</td>\n",
       "    </tr>\n",
       "    <tr>\n",
       "      <th>38901</th>\n",
       "      <td>datafram index number string specif name count...</td>\n",
       "      <td>python pandas indexing</td>\n",
       "    </tr>\n",
       "  </tbody>\n",
       "</table>\n",
       "<p>38902 rows × 2 columns</p>\n",
       "</div>"
      ],
      "text/plain": [
       "                                               Txt_Clean  \\\n",
       "0                                   python metaclass use   \n",
       "1      good regular express valid text string make su...   \n",
       "2      two unsort list need produc anoth sort element...   \n",
       "3      tool like selenium good test user interact web...   \n",
       "4      like know easier way insert record alreadi exi...   \n",
       "...                                                  ...   \n",
       "38897  compani perl applic server ip new rule impleme...   \n",
       "38898  typescript compil option chain null coalesc op...   \n",
       "38899  use mockk spi kotlin java class field anonym l...   \n",
       "38900  hope tri cro librari raku https servic doc how...   \n",
       "38901  datafram index number string specif name count...   \n",
       "\n",
       "                                 Tags_Clean  \n",
       "0      python oop metaclass class datamodel  \n",
       "1                                   c regex  \n",
       "2               algorithm sorting lisp list  \n",
       "3            testing browser user interface  \n",
       "4                                c linq sql  \n",
       "...                                     ...  \n",
       "38897                mysql perl mariadb dbi  \n",
       "38898            typescript language design  \n",
       "38899                          kotlin mockk  \n",
       "38900                              raku cro  \n",
       "38901                python pandas indexing  \n",
       "\n",
       "[38902 rows x 2 columns]"
      ]
     },
     "execution_count": 28,
     "metadata": {},
     "output_type": "execute_result"
    },
    {
     "name": "stdout",
     "output_type": "stream",
     "text": [
      "time: 33.8 ms (started: 2022-01-02 17:58:00 +01:00)\n"
     ]
    }
   ],
   "source": [
    "result = pd.concat([X_new, y_new], axis=1, ignore_index=True)\n",
    "result = result.rename(columns={0: \"Txt_Clean\", 1:'Tags_Clean'})\n",
    "new_df = result.copy()\n",
    "new_df"
   ]
  },
  {
   "cell_type": "markdown",
   "metadata": {},
   "source": [
    "# X"
   ]
  },
  {
   "cell_type": "code",
   "execution_count": 29,
   "id": "a3f195ec",
   "metadata": {},
   "outputs": [
    {
     "name": "stdout",
     "output_type": "stream",
     "text": [
      "281 tags couvrent 50% des questions\n",
      "894 tags couvrent 75% des questions\n",
      "1203 tags couvrent 80% des questions\n",
      "1737 tags couvrent 85% des questions\n",
      "2951 tags couvrent 90% des questions\n"
     ]
    },
    {
     "data": {
      "image/png": "[encoded data removed]",
      "text/plain": [
       "<Figure size 720x360 with 1 Axes>"
      ]
     },
     "metadata": {
      "needs_background": "light"
     },
     "output_type": "display_data"
    },
    {
     "name": "stdout",
     "output_type": "stream",
     "text": [
      "time: 3.33 s (started: 2022-01-02 17:58:00 +01:00)\n"
     ]
    }
   ],
   "source": [
    "df1 = pd.DataFrame(new_df.Txt_Clean)\n",
    "df1[\"Txt_Count\"] = df1[\"Txt_Clean\"].apply(lambda x : len(x.split()))\n",
    "\n",
    "txt_val = df1['Txt_Clean']\n",
    "vectorizer = CountVectorizer(tokenizer = lambda x: x.split())\n",
    "tag_bow = vectorizer.fit_transform(txt_val)\n",
    "tags = vectorizer.get_feature_names()\n",
    "freq = tag_bow.sum(axis=0).A1\n",
    "tag_to_count_map = dict(zip(tags, freq))\n",
    "\n",
    "list = []\n",
    "for key, value in tag_to_count_map.items():\n",
    "    list.append([key, value]) \n",
    "    \n",
    "tag_df = pd.DataFrame(list, columns=['Tags', 'Counts'])\n",
    "tag_df_sorted = tag_df.sort_values(['Counts'], ascending=False)\n",
    "tag_df_sorted\n",
    "\n",
    "tag_df_sorted_1 = tag_df_sorted.copy()\n",
    "_sum_ = tag_df_sorted_1['Counts'].sum()\n",
    "tag_df_sorted_1['_sum_'] = _sum_\n",
    "tag_df_sorted_1['Perc'] = tag_df_sorted_1['Counts'] / tag_df_sorted_1['_sum_']*100\n",
    "tag_df_sorted_1['Perc_cumsum'] = tag_df_sorted_1['Perc'].cumsum()\n",
    "tag_df_sorted_1 = tag_df_sorted_1.reset_index()\n",
    "tag_df_sorted_1.pop('index')\n",
    "\n",
    "tag_df_sorted_05 = tag_df_sorted_1[tag_df_sorted_1.Perc_cumsum < 5]\n",
    "tag_df_sorted_10 = tag_df_sorted_1[tag_df_sorted_1.Perc_cumsum < 10]\n",
    "tag_df_sorted_15 = tag_df_sorted_1[tag_df_sorted_1.Perc_cumsum < 15]\n",
    "tag_df_sorted_20 = tag_df_sorted_1[tag_df_sorted_1.Perc_cumsum < 20]\n",
    "tag_df_sorted_25 = tag_df_sorted_1[tag_df_sorted_1.Perc_cumsum < 25]\n",
    "tag_df_sorted_30 = tag_df_sorted_1[tag_df_sorted_1.Perc_cumsum < 30]\n",
    "tag_df_sorted_35 = tag_df_sorted_1[tag_df_sorted_1.Perc_cumsum < 35]\n",
    "tag_df_sorted_40 = tag_df_sorted_1[tag_df_sorted_1.Perc_cumsum < 40]\n",
    "tag_df_sorted_45 = tag_df_sorted_1[tag_df_sorted_1.Perc_cumsum < 45]\n",
    "tag_df_sorted_50 = tag_df_sorted_1[tag_df_sorted_1.Perc_cumsum < 50]\n",
    "tag_df_sorted_55 = tag_df_sorted_1[tag_df_sorted_1.Perc_cumsum < 55]\n",
    "tag_df_sorted_60 = tag_df_sorted_1[tag_df_sorted_1.Perc_cumsum < 60]\n",
    "tag_df_sorted_65 = tag_df_sorted_1[tag_df_sorted_1.Perc_cumsum < 65]\n",
    "tag_df_sorted_70 = tag_df_sorted_1[tag_df_sorted_1.Perc_cumsum < 70]\n",
    "tag_df_sorted_75 = tag_df_sorted_1[tag_df_sorted_1.Perc_cumsum < 75]\n",
    "tag_df_sorted_80 = tag_df_sorted_1[tag_df_sorted_1.Perc_cumsum < 80]\n",
    "tag_df_sorted_85 = tag_df_sorted_1[tag_df_sorted_1.Perc_cumsum < 85]\n",
    "tag_df_sorted_90 = tag_df_sorted_1[tag_df_sorted_1.Perc_cumsum < 90]\n",
    "tag_df_sorted_95 = tag_df_sorted_1[tag_df_sorted_1.Perc_cumsum < 95]\n",
    "\n",
    "lst = [[5,  tag_df_sorted_05.shape[0]],\n",
    "[10, tag_df_sorted_10.shape[0]],\n",
    "[15, tag_df_sorted_15.shape[0]],\n",
    "[20, tag_df_sorted_20.shape[0]],\n",
    "[25, tag_df_sorted_25.shape[0]],\n",
    "[30, tag_df_sorted_30.shape[0]],\n",
    "[35, tag_df_sorted_35.shape[0]],\n",
    "[40, tag_df_sorted_40.shape[0]],\n",
    "[45, tag_df_sorted_45.shape[0]],\n",
    "[50, tag_df_sorted_50.shape[0]],\n",
    "[55, tag_df_sorted_55.shape[0]],\n",
    "[60, tag_df_sorted_60.shape[0]],\n",
    "[65, tag_df_sorted_65.shape[0]],\n",
    "[70, tag_df_sorted_70.shape[0]],\n",
    "[75, tag_df_sorted_75.shape[0]],\n",
    "[80, tag_df_sorted_80.shape[0]],\n",
    "[85, tag_df_sorted_85.shape[0]],\n",
    "[90, tag_df_sorted_90.shape[0]],\n",
    "[95, tag_df_sorted_95.shape[0]]]\n",
    "       \n",
    "lst_df_ = pd.DataFrame(lst)\n",
    "lst_df_ = lst_df_.rename(columns={0: \"perc\", 1: \"nb_tags\"})\n",
    "lst_df_ = lst_df_.set_index('perc')\n",
    "\n",
    "plt.figure(figsize=(10, 5))\n",
    "plt.plot(lst_df_)\n",
    "plt.grid()\n",
    "plt.title(\"Variance\")\n",
    "plt.xlabel(\"Percentage % \")\n",
    "plt.ylabel(\"Nb Words\")\n",
    "\n",
    "_50_most_important = tag_df_sorted_50.shape[0]\n",
    "_75_most_important = tag_df_sorted_75.shape[0]\n",
    "_80_most_important = tag_df_sorted_80.shape[0]\n",
    "_85_most_important = tag_df_sorted_85.shape[0]\n",
    "_90_most_important = tag_df_sorted_90.shape[0]\n",
    "\n",
    "print(_50_most_important, \"tags couvrent 50% des questions\")\n",
    "print(_75_most_important, \"tags couvrent 75% des questions\")\n",
    "print(_80_most_important, \"tags couvrent 80% des questions\")\n",
    "print(_85_most_important, \"tags couvrent 85% des questions\")\n",
    "print(_90_most_important, \"tags couvrent 90% des questions\")"
   ]
  },
  {
   "cell_type": "markdown",
   "metadata": {},
   "source": [
    "# y"
   ]
  },
  {
   "cell_type": "code",
   "execution_count": 30,
   "id": "677aae32",
   "metadata": {},
   "outputs": [
    {
     "name": "stdout",
     "output_type": "stream",
     "text": [
      "85 tags couvrent 50% des questions\n",
      "398 tags couvrent 75% des questions\n",
      "554 tags couvrent 80% des questions\n",
      "801 tags couvrent 85% des questions\n",
      "1240 tags couvrent 90% des questions\n"
     ]
    },
    {
     "data": {
      "image/png": "[encoded data removed]",
      "text/plain": [
       "<Figure size 720x360 with 1 Axes>"
      ]
     },
     "metadata": {
      "needs_background": "light"
     },
     "output_type": "display_data"
    },
    {
     "name": "stdout",
     "output_type": "stream",
     "text": [
      "time: 612 ms (started: 2022-01-02 17:58:03 +01:00)\n"
     ]
    }
   ],
   "source": [
    "df1 = pd.DataFrame(new_df.Tags_Clean)\n",
    "df1[\"Tags_Count\"] = df1[\"Tags_Clean\"].apply(lambda x : len(x.split()))\n",
    "\n",
    "txt_val = df1['Tags_Clean']\n",
    "vectorizer = CountVectorizer(tokenizer = lambda x: x.split())\n",
    "tag_bow = vectorizer.fit_transform(txt_val)\n",
    "tags = vectorizer.get_feature_names()\n",
    "freq = tag_bow.sum(axis=0).A1\n",
    "tag_to_count_map = dict(zip(tags, freq))\n",
    "\n",
    "list = []\n",
    "for key, value in tag_to_count_map.items():\n",
    "    list.append([key, value]) \n",
    "    \n",
    "tag_df = pd.DataFrame(list, columns=['Tags', 'Counts'])\n",
    "tag_df_sorted = tag_df.sort_values(['Counts'], ascending=False)\n",
    "tag_df_sorted\n",
    "\n",
    "tag_df_sorted_1 = tag_df_sorted.copy()\n",
    "_sum_ = tag_df_sorted_1['Counts'].sum()\n",
    "tag_df_sorted_1['_sum_'] = _sum_\n",
    "tag_df_sorted_1['Perc'] = tag_df_sorted_1['Counts'] / tag_df_sorted_1['_sum_']*100\n",
    "tag_df_sorted_1['Perc_cumsum'] = tag_df_sorted_1['Perc'].cumsum()\n",
    "tag_df_sorted_1 = tag_df_sorted_1.reset_index()\n",
    "tag_df_sorted_1.pop('index')\n",
    "\n",
    "tag_df_sorted_05 = tag_df_sorted_1[tag_df_sorted_1.Perc_cumsum < 5]\n",
    "tag_df_sorted_10 = tag_df_sorted_1[tag_df_sorted_1.Perc_cumsum < 10]\n",
    "tag_df_sorted_15 = tag_df_sorted_1[tag_df_sorted_1.Perc_cumsum < 15]\n",
    "tag_df_sorted_20 = tag_df_sorted_1[tag_df_sorted_1.Perc_cumsum < 20]\n",
    "tag_df_sorted_25 = tag_df_sorted_1[tag_df_sorted_1.Perc_cumsum < 25]\n",
    "tag_df_sorted_30 = tag_df_sorted_1[tag_df_sorted_1.Perc_cumsum < 30]\n",
    "tag_df_sorted_35 = tag_df_sorted_1[tag_df_sorted_1.Perc_cumsum < 35]\n",
    "tag_df_sorted_40 = tag_df_sorted_1[tag_df_sorted_1.Perc_cumsum < 40]\n",
    "tag_df_sorted_45 = tag_df_sorted_1[tag_df_sorted_1.Perc_cumsum < 45]\n",
    "tag_df_sorted_50 = tag_df_sorted_1[tag_df_sorted_1.Perc_cumsum < 50]\n",
    "tag_df_sorted_55 = tag_df_sorted_1[tag_df_sorted_1.Perc_cumsum < 55]\n",
    "tag_df_sorted_60 = tag_df_sorted_1[tag_df_sorted_1.Perc_cumsum < 60]\n",
    "tag_df_sorted_65 = tag_df_sorted_1[tag_df_sorted_1.Perc_cumsum < 65]\n",
    "tag_df_sorted_70 = tag_df_sorted_1[tag_df_sorted_1.Perc_cumsum < 70]\n",
    "tag_df_sorted_75 = tag_df_sorted_1[tag_df_sorted_1.Perc_cumsum < 75]\n",
    "tag_df_sorted_80 = tag_df_sorted_1[tag_df_sorted_1.Perc_cumsum < 80]\n",
    "tag_df_sorted_85 = tag_df_sorted_1[tag_df_sorted_1.Perc_cumsum < 85]\n",
    "tag_df_sorted_90 = tag_df_sorted_1[tag_df_sorted_1.Perc_cumsum < 90]\n",
    "tag_df_sorted_95 = tag_df_sorted_1[tag_df_sorted_1.Perc_cumsum < 95]\n",
    "\n",
    "lst = [[5,  tag_df_sorted_05.shape[0]],\n",
    "[10, tag_df_sorted_10.shape[0]],\n",
    "[15, tag_df_sorted_15.shape[0]],\n",
    "[20, tag_df_sorted_20.shape[0]],\n",
    "[25, tag_df_sorted_25.shape[0]],\n",
    "[30, tag_df_sorted_30.shape[0]],\n",
    "[35, tag_df_sorted_35.shape[0]],\n",
    "[40, tag_df_sorted_40.shape[0]],\n",
    "[45, tag_df_sorted_45.shape[0]],\n",
    "[50, tag_df_sorted_50.shape[0]],\n",
    "[55, tag_df_sorted_55.shape[0]],\n",
    "[60, tag_df_sorted_60.shape[0]],\n",
    "[65, tag_df_sorted_65.shape[0]],\n",
    "[70, tag_df_sorted_70.shape[0]],\n",
    "[75, tag_df_sorted_75.shape[0]],\n",
    "[80, tag_df_sorted_80.shape[0]],\n",
    "[85, tag_df_sorted_85.shape[0]],\n",
    "[90, tag_df_sorted_90.shape[0]],\n",
    "[95, tag_df_sorted_95.shape[0]]]\n",
    "       \n",
    "lst_df_ = pd.DataFrame(lst)\n",
    "lst_df_ = lst_df_.rename(columns={0: \"perc\", 1: \"nb_tags\"})\n",
    "lst_df_ = lst_df_.set_index('perc')\n",
    "\n",
    "plt.figure(figsize=(10, 5))\n",
    "plt.plot(lst_df_)\n",
    "plt.grid()\n",
    "plt.title(\"Variance\")\n",
    "plt.xlabel(\"Percentage % \")\n",
    "plt.ylabel(\"Nb Words\")\n",
    "\n",
    "_50_most_important = tag_df_sorted_50.shape[0]\n",
    "_75_most_important = tag_df_sorted_75.shape[0]\n",
    "_80_most_important = tag_df_sorted_80.shape[0]\n",
    "_85_most_important = tag_df_sorted_85.shape[0]\n",
    "_90_most_important = tag_df_sorted_90.shape[0]\n",
    "\n",
    "print(_50_most_important, \"tags couvrent 50% des questions\")\n",
    "print(_75_most_important, \"tags couvrent 75% des questions\")\n",
    "print(_80_most_important, \"tags couvrent 80% des questions\")\n",
    "print(_85_most_important, \"tags couvrent 85% des questions\")\n",
    "print(_90_most_important, \"tags couvrent 90% des questions\")"
   ]
  },
  {
   "cell_type": "markdown",
   "metadata": {},
   "source": [
    "# ----"
   ]
  },
  {
   "cell_type": "code",
   "execution_count": 31,
   "metadata": {},
   "outputs": [
    {
     "data": {
      "text/html": [
       "<div>\n",
       "<style scoped>\n",
       "    .dataframe tbody tr th:only-of-type {\n",
       "        vertical-align: middle;\n",
       "    }\n",
       "\n",
       "    .dataframe tbody tr th {\n",
       "        vertical-align: top;\n",
       "    }\n",
       "\n",
       "    .dataframe thead th {\n",
       "        text-align: right;\n",
       "    }\n",
       "</style>\n",
       "<table border=\"1\" class=\"dataframe\">\n",
       "  <thead>\n",
       "    <tr style=\"text-align: right;\">\n",
       "      <th></th>\n",
       "      <th>Txt_Clean</th>\n",
       "      <th>Tags_Clean</th>\n",
       "    </tr>\n",
       "  </thead>\n",
       "  <tbody>\n",
       "    <tr>\n",
       "      <th>0</th>\n",
       "      <td>python metaclass use</td>\n",
       "      <td>python oop metaclass class datamodel</td>\n",
       "    </tr>\n",
       "    <tr>\n",
       "      <th>1</th>\n",
       "      <td>good regular express valid text string make su...</td>\n",
       "      <td>c regex</td>\n",
       "    </tr>\n",
       "    <tr>\n",
       "      <th>2</th>\n",
       "      <td>two unsort list need produc anoth sort element...</td>\n",
       "      <td>algorithm sorting lisp list</td>\n",
       "    </tr>\n",
       "    <tr>\n",
       "      <th>3</th>\n",
       "      <td>tool like selenium good test user interact web...</td>\n",
       "      <td>testing browser user interface</td>\n",
       "    </tr>\n",
       "    <tr>\n",
       "      <th>4</th>\n",
       "      <td>like know easier way insert record alreadi exi...</td>\n",
       "      <td>c linq sql</td>\n",
       "    </tr>\n",
       "    <tr>\n",
       "      <th>...</th>\n",
       "      <td>...</td>\n",
       "      <td>...</td>\n",
       "    </tr>\n",
       "    <tr>\n",
       "      <th>38897</th>\n",
       "      <td>compani perl applic server ip new rule impleme...</td>\n",
       "      <td>mysql perl mariadb dbi</td>\n",
       "    </tr>\n",
       "    <tr>\n",
       "      <th>38898</th>\n",
       "      <td>typescript compil option chain null coalesc op...</td>\n",
       "      <td>typescript language design</td>\n",
       "    </tr>\n",
       "    <tr>\n",
       "      <th>38899</th>\n",
       "      <td>use mockk spi kotlin java class field anonym l...</td>\n",
       "      <td>kotlin mockk</td>\n",
       "    </tr>\n",
       "    <tr>\n",
       "      <th>38900</th>\n",
       "      <td>hope tri cro librari raku https servic doc how...</td>\n",
       "      <td>raku cro</td>\n",
       "    </tr>\n",
       "    <tr>\n",
       "      <th>38901</th>\n",
       "      <td>datafram index number string specif name count...</td>\n",
       "      <td>python pandas indexing</td>\n",
       "    </tr>\n",
       "  </tbody>\n",
       "</table>\n",
       "<p>38902 rows × 2 columns</p>\n",
       "</div>"
      ],
      "text/plain": [
       "                                               Txt_Clean  \\\n",
       "0                                   python metaclass use   \n",
       "1      good regular express valid text string make su...   \n",
       "2      two unsort list need produc anoth sort element...   \n",
       "3      tool like selenium good test user interact web...   \n",
       "4      like know easier way insert record alreadi exi...   \n",
       "...                                                  ...   \n",
       "38897  compani perl applic server ip new rule impleme...   \n",
       "38898  typescript compil option chain null coalesc op...   \n",
       "38899  use mockk spi kotlin java class field anonym l...   \n",
       "38900  hope tri cro librari raku https servic doc how...   \n",
       "38901  datafram index number string specif name count...   \n",
       "\n",
       "                                 Tags_Clean  \n",
       "0      python oop metaclass class datamodel  \n",
       "1                                   c regex  \n",
       "2               algorithm sorting lisp list  \n",
       "3            testing browser user interface  \n",
       "4                                c linq sql  \n",
       "...                                     ...  \n",
       "38897                mysql perl mariadb dbi  \n",
       "38898            typescript language design  \n",
       "38899                          kotlin mockk  \n",
       "38900                              raku cro  \n",
       "38901                python pandas indexing  \n",
       "\n",
       "[38902 rows x 2 columns]"
      ]
     },
     "execution_count": 31,
     "metadata": {},
     "output_type": "execute_result"
    },
    {
     "name": "stdout",
     "output_type": "stream",
     "text": [
      "time: 20.2 ms (started: 2022-01-02 17:58:04 +01:00)\n"
     ]
    }
   ],
   "source": [
    "new_df"
   ]
  },
  {
   "cell_type": "markdown",
   "metadata": {},
   "source": [
    "# Vetoriz"
   ]
  },
  {
   "cell_type": "markdown",
   "metadata": {},
   "source": [
    "# Vect - y"
   ]
  },
  {
   "cell_type": "code",
   "execution_count": 34,
   "metadata": {},
   "outputs": [
    {
     "name": "stdout",
     "output_type": "stream",
     "text": [
      "(38902, 100)\n"
     ]
    },
    {
     "data": {
      "text/html": [
       "<div>\n",
       "<style scoped>\n",
       "    .dataframe tbody tr th:only-of-type {\n",
       "        vertical-align: middle;\n",
       "    }\n",
       "\n",
       "    .dataframe tbody tr th {\n",
       "        vertical-align: top;\n",
       "    }\n",
       "\n",
       "    .dataframe thead th {\n",
       "        text-align: right;\n",
       "    }\n",
       "</style>\n",
       "<table border=\"1\" class=\"dataframe\">\n",
       "  <thead>\n",
       "    <tr style=\"text-align: right;\">\n",
       "      <th></th>\n",
       "      <th>agnostic</th>\n",
       "      <th>ajax</th>\n",
       "      <th>algorithm</th>\n",
       "      <th>apache</th>\n",
       "      <th>arrays</th>\n",
       "      <th>asp</th>\n",
       "      <th>bash</th>\n",
       "      <th>binding</th>\n",
       "      <th>browser</th>\n",
       "      <th>build</th>\n",
       "      <th>...</th>\n",
       "      <th>version</th>\n",
       "      <th>vim</th>\n",
       "      <th>visual</th>\n",
       "      <th>wcf</th>\n",
       "      <th>web</th>\n",
       "      <th>winapi</th>\n",
       "      <th>windows</th>\n",
       "      <th>winforms</th>\n",
       "      <th>wpf</th>\n",
       "      <th>xml</th>\n",
       "    </tr>\n",
       "  </thead>\n",
       "  <tbody>\n",
       "    <tr>\n",
       "      <th>0</th>\n",
       "      <td>0</td>\n",
       "      <td>0</td>\n",
       "      <td>0</td>\n",
       "      <td>0</td>\n",
       "      <td>0</td>\n",
       "      <td>0</td>\n",
       "      <td>0</td>\n",
       "      <td>0</td>\n",
       "      <td>0</td>\n",
       "      <td>0</td>\n",
       "      <td>...</td>\n",
       "      <td>0</td>\n",
       "      <td>0</td>\n",
       "      <td>0</td>\n",
       "      <td>0</td>\n",
       "      <td>0</td>\n",
       "      <td>0</td>\n",
       "      <td>0</td>\n",
       "      <td>0</td>\n",
       "      <td>0</td>\n",
       "      <td>0</td>\n",
       "    </tr>\n",
       "    <tr>\n",
       "      <th>1</th>\n",
       "      <td>0</td>\n",
       "      <td>0</td>\n",
       "      <td>0</td>\n",
       "      <td>0</td>\n",
       "      <td>0</td>\n",
       "      <td>0</td>\n",
       "      <td>0</td>\n",
       "      <td>0</td>\n",
       "      <td>0</td>\n",
       "      <td>0</td>\n",
       "      <td>...</td>\n",
       "      <td>0</td>\n",
       "      <td>0</td>\n",
       "      <td>0</td>\n",
       "      <td>0</td>\n",
       "      <td>0</td>\n",
       "      <td>0</td>\n",
       "      <td>0</td>\n",
       "      <td>0</td>\n",
       "      <td>0</td>\n",
       "      <td>0</td>\n",
       "    </tr>\n",
       "    <tr>\n",
       "      <th>2</th>\n",
       "      <td>0</td>\n",
       "      <td>0</td>\n",
       "      <td>1</td>\n",
       "      <td>0</td>\n",
       "      <td>0</td>\n",
       "      <td>0</td>\n",
       "      <td>0</td>\n",
       "      <td>0</td>\n",
       "      <td>0</td>\n",
       "      <td>0</td>\n",
       "      <td>...</td>\n",
       "      <td>0</td>\n",
       "      <td>0</td>\n",
       "      <td>0</td>\n",
       "      <td>0</td>\n",
       "      <td>0</td>\n",
       "      <td>0</td>\n",
       "      <td>0</td>\n",
       "      <td>0</td>\n",
       "      <td>0</td>\n",
       "      <td>0</td>\n",
       "    </tr>\n",
       "    <tr>\n",
       "      <th>3</th>\n",
       "      <td>0</td>\n",
       "      <td>0</td>\n",
       "      <td>0</td>\n",
       "      <td>0</td>\n",
       "      <td>0</td>\n",
       "      <td>0</td>\n",
       "      <td>0</td>\n",
       "      <td>0</td>\n",
       "      <td>1</td>\n",
       "      <td>0</td>\n",
       "      <td>...</td>\n",
       "      <td>0</td>\n",
       "      <td>0</td>\n",
       "      <td>0</td>\n",
       "      <td>0</td>\n",
       "      <td>0</td>\n",
       "      <td>0</td>\n",
       "      <td>0</td>\n",
       "      <td>0</td>\n",
       "      <td>0</td>\n",
       "      <td>0</td>\n",
       "    </tr>\n",
       "    <tr>\n",
       "      <th>4</th>\n",
       "      <td>0</td>\n",
       "      <td>0</td>\n",
       "      <td>0</td>\n",
       "      <td>0</td>\n",
       "      <td>0</td>\n",
       "      <td>0</td>\n",
       "      <td>0</td>\n",
       "      <td>0</td>\n",
       "      <td>0</td>\n",
       "      <td>0</td>\n",
       "      <td>...</td>\n",
       "      <td>0</td>\n",
       "      <td>0</td>\n",
       "      <td>0</td>\n",
       "      <td>0</td>\n",
       "      <td>0</td>\n",
       "      <td>0</td>\n",
       "      <td>0</td>\n",
       "      <td>0</td>\n",
       "      <td>0</td>\n",
       "      <td>0</td>\n",
       "    </tr>\n",
       "    <tr>\n",
       "      <th>...</th>\n",
       "      <td>...</td>\n",
       "      <td>...</td>\n",
       "      <td>...</td>\n",
       "      <td>...</td>\n",
       "      <td>...</td>\n",
       "      <td>...</td>\n",
       "      <td>...</td>\n",
       "      <td>...</td>\n",
       "      <td>...</td>\n",
       "      <td>...</td>\n",
       "      <td>...</td>\n",
       "      <td>...</td>\n",
       "      <td>...</td>\n",
       "      <td>...</td>\n",
       "      <td>...</td>\n",
       "      <td>...</td>\n",
       "      <td>...</td>\n",
       "      <td>...</td>\n",
       "      <td>...</td>\n",
       "      <td>...</td>\n",
       "      <td>...</td>\n",
       "    </tr>\n",
       "    <tr>\n",
       "      <th>38895</th>\n",
       "      <td>0</td>\n",
       "      <td>0</td>\n",
       "      <td>0</td>\n",
       "      <td>0</td>\n",
       "      <td>0</td>\n",
       "      <td>0</td>\n",
       "      <td>0</td>\n",
       "      <td>0</td>\n",
       "      <td>0</td>\n",
       "      <td>0</td>\n",
       "      <td>...</td>\n",
       "      <td>0</td>\n",
       "      <td>0</td>\n",
       "      <td>0</td>\n",
       "      <td>0</td>\n",
       "      <td>0</td>\n",
       "      <td>0</td>\n",
       "      <td>0</td>\n",
       "      <td>0</td>\n",
       "      <td>0</td>\n",
       "      <td>0</td>\n",
       "    </tr>\n",
       "    <tr>\n",
       "      <th>38896</th>\n",
       "      <td>0</td>\n",
       "      <td>0</td>\n",
       "      <td>0</td>\n",
       "      <td>0</td>\n",
       "      <td>0</td>\n",
       "      <td>0</td>\n",
       "      <td>0</td>\n",
       "      <td>0</td>\n",
       "      <td>0</td>\n",
       "      <td>0</td>\n",
       "      <td>...</td>\n",
       "      <td>0</td>\n",
       "      <td>0</td>\n",
       "      <td>0</td>\n",
       "      <td>0</td>\n",
       "      <td>0</td>\n",
       "      <td>0</td>\n",
       "      <td>0</td>\n",
       "      <td>0</td>\n",
       "      <td>0</td>\n",
       "      <td>0</td>\n",
       "    </tr>\n",
       "    <tr>\n",
       "      <th>38897</th>\n",
       "      <td>0</td>\n",
       "      <td>0</td>\n",
       "      <td>0</td>\n",
       "      <td>0</td>\n",
       "      <td>0</td>\n",
       "      <td>0</td>\n",
       "      <td>0</td>\n",
       "      <td>0</td>\n",
       "      <td>0</td>\n",
       "      <td>0</td>\n",
       "      <td>...</td>\n",
       "      <td>0</td>\n",
       "      <td>0</td>\n",
       "      <td>0</td>\n",
       "      <td>0</td>\n",
       "      <td>0</td>\n",
       "      <td>0</td>\n",
       "      <td>0</td>\n",
       "      <td>0</td>\n",
       "      <td>0</td>\n",
       "      <td>0</td>\n",
       "    </tr>\n",
       "    <tr>\n",
       "      <th>38898</th>\n",
       "      <td>0</td>\n",
       "      <td>0</td>\n",
       "      <td>0</td>\n",
       "      <td>0</td>\n",
       "      <td>0</td>\n",
       "      <td>0</td>\n",
       "      <td>0</td>\n",
       "      <td>0</td>\n",
       "      <td>0</td>\n",
       "      <td>0</td>\n",
       "      <td>...</td>\n",
       "      <td>0</td>\n",
       "      <td>0</td>\n",
       "      <td>0</td>\n",
       "      <td>0</td>\n",
       "      <td>0</td>\n",
       "      <td>0</td>\n",
       "      <td>0</td>\n",
       "      <td>0</td>\n",
       "      <td>0</td>\n",
       "      <td>0</td>\n",
       "    </tr>\n",
       "    <tr>\n",
       "      <th>38901</th>\n",
       "      <td>0</td>\n",
       "      <td>0</td>\n",
       "      <td>0</td>\n",
       "      <td>0</td>\n",
       "      <td>0</td>\n",
       "      <td>0</td>\n",
       "      <td>0</td>\n",
       "      <td>0</td>\n",
       "      <td>0</td>\n",
       "      <td>0</td>\n",
       "      <td>...</td>\n",
       "      <td>0</td>\n",
       "      <td>0</td>\n",
       "      <td>0</td>\n",
       "      <td>0</td>\n",
       "      <td>0</td>\n",
       "      <td>0</td>\n",
       "      <td>0</td>\n",
       "      <td>0</td>\n",
       "      <td>0</td>\n",
       "      <td>0</td>\n",
       "    </tr>\n",
       "  </tbody>\n",
       "</table>\n",
       "<p>32455 rows × 100 columns</p>\n",
       "</div>"
      ],
      "text/plain": [
       "       agnostic  ajax  algorithm  apache  arrays  asp  bash  binding  browser  \\\n",
       "0             0     0          0       0       0    0     0        0        0   \n",
       "1             0     0          0       0       0    0     0        0        0   \n",
       "2             0     0          1       0       0    0     0        0        0   \n",
       "3             0     0          0       0       0    0     0        0        1   \n",
       "4             0     0          0       0       0    0     0        0        0   \n",
       "...         ...   ...        ...     ...     ...  ...   ...      ...      ...   \n",
       "38895         0     0          0       0       0    0     0        0        0   \n",
       "38896         0     0          0       0       0    0     0        0        0   \n",
       "38897         0     0          0       0       0    0     0        0        0   \n",
       "38898         0     0          0       0       0    0     0        0        0   \n",
       "38901         0     0          0       0       0    0     0        0        0   \n",
       "\n",
       "       build  ...  version  vim  visual  wcf  web  winapi  windows  winforms  \\\n",
       "0          0  ...        0    0       0    0    0       0        0         0   \n",
       "1          0  ...        0    0       0    0    0       0        0         0   \n",
       "2          0  ...        0    0       0    0    0       0        0         0   \n",
       "3          0  ...        0    0       0    0    0       0        0         0   \n",
       "4          0  ...        0    0       0    0    0       0        0         0   \n",
       "...      ...  ...      ...  ...     ...  ...  ...     ...      ...       ...   \n",
       "38895      0  ...        0    0       0    0    0       0        0         0   \n",
       "38896      0  ...        0    0       0    0    0       0        0         0   \n",
       "38897      0  ...        0    0       0    0    0       0        0         0   \n",
       "38898      0  ...        0    0       0    0    0       0        0         0   \n",
       "38901      0  ...        0    0       0    0    0       0        0         0   \n",
       "\n",
       "       wpf  xml  \n",
       "0        0    0  \n",
       "1        0    0  \n",
       "2        0    0  \n",
       "3        0    0  \n",
       "4        0    0  \n",
       "...    ...  ...  \n",
       "38895    0    0  \n",
       "38896    0    0  \n",
       "38897    0    0  \n",
       "38898    0    0  \n",
       "38901    0    0  \n",
       "\n",
       "[32455 rows x 100 columns]"
      ]
     },
     "execution_count": 34,
     "metadata": {},
     "output_type": "execute_result"
    },
    {
     "name": "stdout",
     "output_type": "stream",
     "text": [
      "time: 516 ms (started: 2022-01-02 18:01:16 +01:00)\n"
     ]
    }
   ],
   "source": [
    "y_feat = 100\n",
    "vectorizer = CountVectorizer(max_features=y_feat)\n",
    "y = pd.DataFrame(vectorizer.fit_transform(new_df.Tags_Clean).toarray(), columns=vectorizer.get_feature_names())\n",
    "print(y.shape)\n",
    "\n",
    "y[\"sum\"] = y.sum(axis=1)\n",
    "mask = y[y[\"sum\"] < 1]\n",
    "y = y[y[\"sum\"] >= 1]\n",
    "y.pop('sum')\n",
    "\n",
    "\n",
    "mask = mask.reset_index()\n",
    "mask = mask['index']\n",
    "mask = mask.tolist()\n",
    "y"
   ]
  },
  {
   "cell_type": "markdown",
   "metadata": {},
   "source": [
    "# X"
   ]
  },
  {
   "cell_type": "code",
   "execution_count": 35,
   "metadata": {},
   "outputs": [
    {
     "name": "stdout",
     "output_type": "stream",
     "text": [
      "(38902, 3439)\n"
     ]
    },
    {
     "data": {
      "text/html": [
       "<div>\n",
       "<style scoped>\n",
       "    .dataframe tbody tr th:only-of-type {\n",
       "        vertical-align: middle;\n",
       "    }\n",
       "\n",
       "    .dataframe tbody tr th {\n",
       "        vertical-align: top;\n",
       "    }\n",
       "\n",
       "    .dataframe thead th {\n",
       "        text-align: right;\n",
       "    }\n",
       "</style>\n",
       "<table border=\"1\" class=\"dataframe\">\n",
       "  <thead>\n",
       "    <tr style=\"text-align: right;\">\n",
       "      <th></th>\n",
       "      <th>0</th>\n",
       "      <th>1</th>\n",
       "      <th>2</th>\n",
       "      <th>3</th>\n",
       "      <th>4</th>\n",
       "      <th>5</th>\n",
       "      <th>6</th>\n",
       "      <th>7</th>\n",
       "      <th>8</th>\n",
       "      <th>9</th>\n",
       "      <th>...</th>\n",
       "      <th>3429</th>\n",
       "      <th>3430</th>\n",
       "      <th>3431</th>\n",
       "      <th>3432</th>\n",
       "      <th>3433</th>\n",
       "      <th>3434</th>\n",
       "      <th>3435</th>\n",
       "      <th>3436</th>\n",
       "      <th>3437</th>\n",
       "      <th>3438</th>\n",
       "    </tr>\n",
       "  </thead>\n",
       "  <tbody>\n",
       "    <tr>\n",
       "      <th>0</th>\n",
       "      <td>0.0</td>\n",
       "      <td>0.000000</td>\n",
       "      <td>0.0</td>\n",
       "      <td>0.0</td>\n",
       "      <td>0.0</td>\n",
       "      <td>0.0</td>\n",
       "      <td>0.0</td>\n",
       "      <td>0.0</td>\n",
       "      <td>0.0</td>\n",
       "      <td>0.0</td>\n",
       "      <td>...</td>\n",
       "      <td>0.0</td>\n",
       "      <td>0.0</td>\n",
       "      <td>0.0</td>\n",
       "      <td>0.0</td>\n",
       "      <td>0.0</td>\n",
       "      <td>0.0</td>\n",
       "      <td>0.0</td>\n",
       "      <td>0.0</td>\n",
       "      <td>0.0</td>\n",
       "      <td>0.0</td>\n",
       "    </tr>\n",
       "    <tr>\n",
       "      <th>1</th>\n",
       "      <td>0.0</td>\n",
       "      <td>0.000000</td>\n",
       "      <td>0.0</td>\n",
       "      <td>0.0</td>\n",
       "      <td>0.0</td>\n",
       "      <td>0.0</td>\n",
       "      <td>0.0</td>\n",
       "      <td>0.0</td>\n",
       "      <td>0.0</td>\n",
       "      <td>0.0</td>\n",
       "      <td>...</td>\n",
       "      <td>0.0</td>\n",
       "      <td>0.0</td>\n",
       "      <td>0.0</td>\n",
       "      <td>0.0</td>\n",
       "      <td>0.0</td>\n",
       "      <td>0.0</td>\n",
       "      <td>0.0</td>\n",
       "      <td>0.0</td>\n",
       "      <td>0.0</td>\n",
       "      <td>0.0</td>\n",
       "    </tr>\n",
       "    <tr>\n",
       "      <th>2</th>\n",
       "      <td>0.0</td>\n",
       "      <td>0.000000</td>\n",
       "      <td>0.0</td>\n",
       "      <td>0.0</td>\n",
       "      <td>0.0</td>\n",
       "      <td>0.0</td>\n",
       "      <td>0.0</td>\n",
       "      <td>0.0</td>\n",
       "      <td>0.0</td>\n",
       "      <td>0.0</td>\n",
       "      <td>...</td>\n",
       "      <td>0.0</td>\n",
       "      <td>0.0</td>\n",
       "      <td>0.0</td>\n",
       "      <td>0.0</td>\n",
       "      <td>0.0</td>\n",
       "      <td>0.0</td>\n",
       "      <td>0.0</td>\n",
       "      <td>0.0</td>\n",
       "      <td>0.0</td>\n",
       "      <td>0.0</td>\n",
       "    </tr>\n",
       "    <tr>\n",
       "      <th>3</th>\n",
       "      <td>0.0</td>\n",
       "      <td>0.000000</td>\n",
       "      <td>0.0</td>\n",
       "      <td>0.0</td>\n",
       "      <td>0.0</td>\n",
       "      <td>0.0</td>\n",
       "      <td>0.0</td>\n",
       "      <td>0.0</td>\n",
       "      <td>0.0</td>\n",
       "      <td>0.0</td>\n",
       "      <td>...</td>\n",
       "      <td>0.0</td>\n",
       "      <td>0.0</td>\n",
       "      <td>0.0</td>\n",
       "      <td>0.0</td>\n",
       "      <td>0.0</td>\n",
       "      <td>0.0</td>\n",
       "      <td>0.0</td>\n",
       "      <td>0.0</td>\n",
       "      <td>0.0</td>\n",
       "      <td>0.0</td>\n",
       "    </tr>\n",
       "    <tr>\n",
       "      <th>4</th>\n",
       "      <td>0.0</td>\n",
       "      <td>0.000000</td>\n",
       "      <td>0.0</td>\n",
       "      <td>0.0</td>\n",
       "      <td>0.0</td>\n",
       "      <td>0.0</td>\n",
       "      <td>0.0</td>\n",
       "      <td>0.0</td>\n",
       "      <td>0.0</td>\n",
       "      <td>0.0</td>\n",
       "      <td>...</td>\n",
       "      <td>0.0</td>\n",
       "      <td>0.0</td>\n",
       "      <td>0.0</td>\n",
       "      <td>0.0</td>\n",
       "      <td>0.0</td>\n",
       "      <td>0.0</td>\n",
       "      <td>0.0</td>\n",
       "      <td>0.0</td>\n",
       "      <td>0.0</td>\n",
       "      <td>0.0</td>\n",
       "    </tr>\n",
       "    <tr>\n",
       "      <th>...</th>\n",
       "      <td>...</td>\n",
       "      <td>...</td>\n",
       "      <td>...</td>\n",
       "      <td>...</td>\n",
       "      <td>...</td>\n",
       "      <td>...</td>\n",
       "      <td>...</td>\n",
       "      <td>...</td>\n",
       "      <td>...</td>\n",
       "      <td>...</td>\n",
       "      <td>...</td>\n",
       "      <td>...</td>\n",
       "      <td>...</td>\n",
       "      <td>...</td>\n",
       "      <td>...</td>\n",
       "      <td>...</td>\n",
       "      <td>...</td>\n",
       "      <td>...</td>\n",
       "      <td>...</td>\n",
       "      <td>...</td>\n",
       "      <td>...</td>\n",
       "    </tr>\n",
       "    <tr>\n",
       "      <th>38895</th>\n",
       "      <td>0.0</td>\n",
       "      <td>0.000000</td>\n",
       "      <td>0.0</td>\n",
       "      <td>0.0</td>\n",
       "      <td>0.0</td>\n",
       "      <td>0.0</td>\n",
       "      <td>0.0</td>\n",
       "      <td>0.0</td>\n",
       "      <td>0.0</td>\n",
       "      <td>0.0</td>\n",
       "      <td>...</td>\n",
       "      <td>0.0</td>\n",
       "      <td>0.0</td>\n",
       "      <td>0.0</td>\n",
       "      <td>0.0</td>\n",
       "      <td>0.0</td>\n",
       "      <td>0.0</td>\n",
       "      <td>0.0</td>\n",
       "      <td>0.0</td>\n",
       "      <td>0.0</td>\n",
       "      <td>0.0</td>\n",
       "    </tr>\n",
       "    <tr>\n",
       "      <th>38896</th>\n",
       "      <td>0.0</td>\n",
       "      <td>0.000000</td>\n",
       "      <td>0.0</td>\n",
       "      <td>0.0</td>\n",
       "      <td>0.0</td>\n",
       "      <td>0.0</td>\n",
       "      <td>0.0</td>\n",
       "      <td>0.0</td>\n",
       "      <td>0.0</td>\n",
       "      <td>0.0</td>\n",
       "      <td>...</td>\n",
       "      <td>0.0</td>\n",
       "      <td>0.0</td>\n",
       "      <td>0.0</td>\n",
       "      <td>0.0</td>\n",
       "      <td>0.0</td>\n",
       "      <td>0.0</td>\n",
       "      <td>0.0</td>\n",
       "      <td>0.0</td>\n",
       "      <td>0.0</td>\n",
       "      <td>0.0</td>\n",
       "    </tr>\n",
       "    <tr>\n",
       "      <th>38897</th>\n",
       "      <td>0.0</td>\n",
       "      <td>0.178806</td>\n",
       "      <td>0.0</td>\n",
       "      <td>0.0</td>\n",
       "      <td>0.0</td>\n",
       "      <td>0.0</td>\n",
       "      <td>0.0</td>\n",
       "      <td>0.0</td>\n",
       "      <td>0.0</td>\n",
       "      <td>0.0</td>\n",
       "      <td>...</td>\n",
       "      <td>0.0</td>\n",
       "      <td>0.0</td>\n",
       "      <td>0.0</td>\n",
       "      <td>0.0</td>\n",
       "      <td>0.0</td>\n",
       "      <td>0.0</td>\n",
       "      <td>0.0</td>\n",
       "      <td>0.0</td>\n",
       "      <td>0.0</td>\n",
       "      <td>0.0</td>\n",
       "    </tr>\n",
       "    <tr>\n",
       "      <th>38898</th>\n",
       "      <td>0.0</td>\n",
       "      <td>0.000000</td>\n",
       "      <td>0.0</td>\n",
       "      <td>0.0</td>\n",
       "      <td>0.0</td>\n",
       "      <td>0.0</td>\n",
       "      <td>0.0</td>\n",
       "      <td>0.0</td>\n",
       "      <td>0.0</td>\n",
       "      <td>0.0</td>\n",
       "      <td>...</td>\n",
       "      <td>0.0</td>\n",
       "      <td>0.0</td>\n",
       "      <td>0.0</td>\n",
       "      <td>0.0</td>\n",
       "      <td>0.0</td>\n",
       "      <td>0.0</td>\n",
       "      <td>0.0</td>\n",
       "      <td>0.0</td>\n",
       "      <td>0.0</td>\n",
       "      <td>0.0</td>\n",
       "    </tr>\n",
       "    <tr>\n",
       "      <th>38901</th>\n",
       "      <td>0.0</td>\n",
       "      <td>0.000000</td>\n",
       "      <td>0.0</td>\n",
       "      <td>0.0</td>\n",
       "      <td>0.0</td>\n",
       "      <td>0.0</td>\n",
       "      <td>0.0</td>\n",
       "      <td>0.0</td>\n",
       "      <td>0.0</td>\n",
       "      <td>0.0</td>\n",
       "      <td>...</td>\n",
       "      <td>0.0</td>\n",
       "      <td>0.0</td>\n",
       "      <td>0.0</td>\n",
       "      <td>0.0</td>\n",
       "      <td>0.0</td>\n",
       "      <td>0.0</td>\n",
       "      <td>0.0</td>\n",
       "      <td>0.0</td>\n",
       "      <td>0.0</td>\n",
       "      <td>0.0</td>\n",
       "    </tr>\n",
       "  </tbody>\n",
       "</table>\n",
       "<p>32455 rows × 3439 columns</p>\n",
       "</div>"
      ],
      "text/plain": [
       "       0         1     2     3     4     5     6     7     8     9     ...  \\\n",
       "0       0.0  0.000000   0.0   0.0   0.0   0.0   0.0   0.0   0.0   0.0  ...   \n",
       "1       0.0  0.000000   0.0   0.0   0.0   0.0   0.0   0.0   0.0   0.0  ...   \n",
       "2       0.0  0.000000   0.0   0.0   0.0   0.0   0.0   0.0   0.0   0.0  ...   \n",
       "3       0.0  0.000000   0.0   0.0   0.0   0.0   0.0   0.0   0.0   0.0  ...   \n",
       "4       0.0  0.000000   0.0   0.0   0.0   0.0   0.0   0.0   0.0   0.0  ...   \n",
       "...     ...       ...   ...   ...   ...   ...   ...   ...   ...   ...  ...   \n",
       "38895   0.0  0.000000   0.0   0.0   0.0   0.0   0.0   0.0   0.0   0.0  ...   \n",
       "38896   0.0  0.000000   0.0   0.0   0.0   0.0   0.0   0.0   0.0   0.0  ...   \n",
       "38897   0.0  0.178806   0.0   0.0   0.0   0.0   0.0   0.0   0.0   0.0  ...   \n",
       "38898   0.0  0.000000   0.0   0.0   0.0   0.0   0.0   0.0   0.0   0.0  ...   \n",
       "38901   0.0  0.000000   0.0   0.0   0.0   0.0   0.0   0.0   0.0   0.0  ...   \n",
       "\n",
       "       3429  3430  3431  3432  3433  3434  3435  3436  3437  3438  \n",
       "0       0.0   0.0   0.0   0.0   0.0   0.0   0.0   0.0   0.0   0.0  \n",
       "1       0.0   0.0   0.0   0.0   0.0   0.0   0.0   0.0   0.0   0.0  \n",
       "2       0.0   0.0   0.0   0.0   0.0   0.0   0.0   0.0   0.0   0.0  \n",
       "3       0.0   0.0   0.0   0.0   0.0   0.0   0.0   0.0   0.0   0.0  \n",
       "4       0.0   0.0   0.0   0.0   0.0   0.0   0.0   0.0   0.0   0.0  \n",
       "...     ...   ...   ...   ...   ...   ...   ...   ...   ...   ...  \n",
       "38895   0.0   0.0   0.0   0.0   0.0   0.0   0.0   0.0   0.0   0.0  \n",
       "38896   0.0   0.0   0.0   0.0   0.0   0.0   0.0   0.0   0.0   0.0  \n",
       "38897   0.0   0.0   0.0   0.0   0.0   0.0   0.0   0.0   0.0   0.0  \n",
       "38898   0.0   0.0   0.0   0.0   0.0   0.0   0.0   0.0   0.0   0.0  \n",
       "38901   0.0   0.0   0.0   0.0   0.0   0.0   0.0   0.0   0.0   0.0  \n",
       "\n",
       "[32455 rows x 3439 columns]"
      ]
     },
     "execution_count": 35,
     "metadata": {},
     "output_type": "execute_result"
    },
    {
     "name": "stdout",
     "output_type": "stream",
     "text": [
      "time: 6.67 s (started: 2022-01-02 18:01:20 +01:00)\n"
     ]
    }
   ],
   "source": [
    "x_feat = 3439\n",
    "vetorizar = TfidfVectorizer(max_features=x_feat) \n",
    "X = pd.DataFrame(vetorizar.fit_transform(new_df.Txt_Clean).toarray())\n",
    "print(X.shape)\n",
    "X = X.drop(mask)\n",
    "X"
   ]
  },
  {
   "cell_type": "markdown",
   "metadata": {},
   "source": [
    "# Reduc Dim"
   ]
  },
  {
   "cell_type": "code",
   "execution_count": 36,
   "metadata": {},
   "outputs": [
    {
     "name": "stdout",
     "output_type": "stream",
     "text": [
      "X before TruncatedSVD (32455, 3439)\n",
      "X after TruncatedSVD (32455, 1000)\n",
      "time: 1min 21s (started: 2022-01-02 18:01:31 +01:00)\n"
     ]
    }
   ],
   "source": [
    "i = 1000\n",
    "print('X before TruncatedSVD', X.shape)\n",
    "svd = TruncatedSVD(n_components=i, random_state=42)\n",
    "X_svd = svd.fit_transform(X)\n",
    "print('X after TruncatedSVD', X_svd.shape)"
   ]
  },
  {
   "cell_type": "code",
   "execution_count": 38,
   "metadata": {},
   "outputs": [
    {
     "name": "stdout",
     "output_type": "stream",
     "text": [
      "time: 1min 13s (started: 2022-01-02 18:04:43 +01:00)\n"
     ]
    }
   ],
   "source": [
    "X_svd_df = pd.DataFrame(X_svd)\n",
    "\n",
    "X_svd_df.to_csv('X_svd_df_.csv', index=False) \n",
    "y.to_csv('y_.csv', index=False) "
   ]
  },
  {
   "cell_type": "code",
   "execution_count": null,
   "metadata": {},
   "outputs": [],
   "source": []
  },
  {
   "cell_type": "markdown",
   "metadata": {},
   "source": [
    "# Metrics"
   ]
  },
  {
   "cell_type": "code",
   "execution_count": 39,
   "metadata": {},
   "outputs": [
    {
     "name": "stdout",
     "output_type": "stream",
     "text": [
      "time: 5.69 ms (started: 2022-01-02 18:17:14 +01:00)\n"
     ]
    }
   ],
   "source": [
    "def avg_jacard(y_true,y_pred):\n",
    "    jacard = np.minimum(y_true,y_pred).sum(axis=1) / np.maximum(y_true,y_pred).sum(axis=1)    \n",
    "    return jacard.mean()*100\n",
    "\n",
    "    \n",
    "def print_score(y_pred, y_test):\n",
    "    print(\"Accuracy :\",metrics.accuracy_score(y_test,y_pred))\n",
    "    print(\"Macro f1 score :\",metrics.f1_score(y_test, y_pred, average = 'macro'))\n",
    "    print(\"Micro f1 score :\",metrics.f1_score(y_test, y_pred, average = 'micro'))\n",
    "    print(\"Jacard score: {}\".format(avg_jacard(y_test, y_pred)))\n",
    "    print(\"Hamming loss: {}\".format(hamming_loss(y_pred, y_test)*100))\n",
    "    print(\"---\")"
   ]
  },
  {
   "cell_type": "code",
   "execution_count": 40,
   "metadata": {},
   "outputs": [
    {
     "name": "stdout",
     "output_type": "stream",
     "text": [
      "X_svd_df :  (32455, 1000)\n",
      "y : (32455, 100)\n",
      "time: 5.74 ms (started: 2022-01-02 18:17:15 +01:00)\n"
     ]
    }
   ],
   "source": [
    "X_svd_df = pd.DataFrame(X_svd)\n",
    "\n",
    "print('X_svd_df : ', X_svd_df.shape)\n",
    "print('y :', y.shape)"
   ]
  },
  {
   "cell_type": "code",
   "execution_count": 41,
   "metadata": {},
   "outputs": [
    {
     "name": "stdout",
     "output_type": "stream",
     "text": [
      "X_train : (10000, 1000)\n",
      "X_test : (10000, 1000)\n",
      "y_train : (10000, 100)\n",
      "y_test : (10000, 100)\n",
      "time: 3.87 ms (started: 2022-01-02 18:17:17 +01:00)\n"
     ]
    }
   ],
   "source": [
    "\n",
    "\n",
    "X_train =  X_svd_df.iloc[0:10000]\n",
    "X_test =  X_svd_df.iloc[10000:20000]\n",
    "y_train = y.iloc[0:10000]\n",
    "y_test = y.iloc[10000:20000]\n",
    "\n",
    "\n",
    "print('X_train :', X_train.shape)\n",
    "print('X_test :', X_test.shape)\n",
    "print('y_train :', y_train.shape)\n",
    "print('y_test :', y_test.shape)"
   ]
  },
  {
   "cell_type": "code",
   "execution_count": 42,
   "metadata": {},
   "outputs": [
    {
     "name": "stdout",
     "output_type": "stream",
     "text": [
      "time: 3.85 ms (started: 2022-01-02 18:17:17 +01:00)\n"
     ]
    }
   ],
   "source": [
    "model_1 = SGDClassifier(alpha=1e-05, loss='log')\n",
    "model_2 = LogisticRegression(max_iter=10000)\n",
    "model_3 = ExtraTreesClassifier()\n",
    "model_4 = RandomForestClassifier(n_estimators=50, random_state=0)\n",
    "model_5 = LGBMClassifier() \n",
    "model_6 = LinearSVC(class_weight='balanced', max_iter=10000)"
   ]
  },
  {
   "cell_type": "code",
   "execution_count": 43,
   "metadata": {},
   "outputs": [
    {
     "name": "stdout",
     "output_type": "stream",
     "text": [
      "SGDClassifier(alpha=1e-05, loss='log')    18:17:18\n",
      "Accuracy : 0.2705\n",
      "Macro f1 score : 0.41190256608262893\n",
      "Micro f1 score : 0.5751148470335256\n",
      "Jacard score: 44.348369047619194\n",
      "Hamming loss: 1.3041\n",
      "---\n",
      "time: 37.2 s (started: 2022-01-02 18:17:18 +01:00)\n"
     ]
    }
   ],
   "source": [
    "# y= 100 // jacard : 42\n",
    "print(str(model_1),'  ', datetime.now().strftime(\"%H:%M:%S\"))\n",
    "clf_1 = OneVsRestClassifier(model_1)\n",
    "clf_1.fit(X_train, y_train)\n",
    "y_pred = clf_1.predict(X_test)\n",
    "print_score(y_pred,y_test)"
   ]
  },
  {
   "cell_type": "code",
   "execution_count": 44,
   "metadata": {},
   "outputs": [
    {
     "name": "stdout",
     "output_type": "stream",
     "text": [
      "LogisticRegression(max_iter=10000)    18:18:18\n",
      "Accuracy : 0.1545\n",
      "Macro f1 score : 0.1580993795945937\n",
      "Micro f1 score : 0.37683785676042997\n",
      "Jacard score: 24.761630952380955\n",
      "Hamming loss: 1.5131000000000001\n",
      "---\n",
      "time: 37 s (started: 2022-01-02 18:18:18 +01:00)\n"
     ]
    }
   ],
   "source": [
    "print(str(model_2),'  ', datetime.now().strftime(\"%H:%M:%S\"))\n",
    "clf_2 = OneVsRestClassifier(model_2)\n",
    "clf_2.fit(X_train, y_train)\n",
    "y_pred = clf_2.predict(X_test)\n",
    "print_score(y_pred,y_test)"
   ]
  },
  {
   "cell_type": "code",
   "execution_count": null,
   "metadata": {},
   "outputs": [],
   "source": [
    "print(str(model_3),'  ', datetime.now().strftime(\"%H:%M:%S\"))\n",
    "clf_3 = OneVsRestClassifier(model_3)\n",
    "clf_3.fit(X_train, y_train)\n",
    "y_pred = clf_3.predict(X_test)\n",
    "print_score(y_pred,y_test)\n"
   ]
  },
  {
   "cell_type": "code",
   "execution_count": null,
   "metadata": {},
   "outputs": [],
   "source": [
    "print(str(model_4),'  ', datetime.now().strftime(\"%H:%M:%S\"))\n",
    "clf_4 = OneVsRestClassifier(model_4)\n",
    "clf_4.fit(X_train, y_train)\n",
    "y_pred = clf_4.predict(X_test)\n",
    "print_score(y_pred,y_test)\n"
   ]
  },
  {
   "cell_type": "code",
   "execution_count": null,
   "metadata": {},
   "outputs": [],
   "source": [
    "print(str(model_5),'  ', datetime.now().strftime(\"%H:%M:%S\"))\n",
    "clf_5 = OneVsRestClassifier(model_5)\n",
    "clf_5.fit(X_train, y_train)\n",
    "y_pred = clf_5.predict(X_test)\n",
    "print_score(y_pred,y_test)\n"
   ]
  },
  {
   "cell_type": "code",
   "execution_count": null,
   "metadata": {},
   "outputs": [],
   "source": [
    "print(str(model_6),'  ', datetime.now().strftime(\"%H:%M:%S\"))\n",
    "clf_6 = OneVsRestClassifier(model_6)\n",
    "clf_6.fit(X_train, y_train)\n",
    "y_pred = clf_6.predict(X_test)\n",
    "print_score(y_pred,y_test)\n"
   ]
  },
  {
   "cell_type": "code",
   "execution_count": 45,
   "metadata": {},
   "outputs": [
    {
     "data": {
      "text/plain": [
       "model        object\n",
       "Acc         float64\n",
       "f1_Macro    float64\n",
       "f1_Micro    float64\n",
       "Jaccard     float64\n",
       "Hamming     float64\n",
       "Timing        int64\n",
       "dtype: object"
      ]
     },
     "execution_count": 45,
     "metadata": {},
     "output_type": "execute_result"
    },
    {
     "name": "stdout",
     "output_type": "stream",
     "text": [
      "time: 11.4 ms (started: 2022-01-02 18:19:04 +01:00)\n"
     ]
    }
   ],
   "source": [
    "data = [[\"SGDClassifier\",0.35,0.10,0.30,18.85,1.3, 5],\n",
    "[\"LogisticRegression\",0.25,0.10,0.310,19,1.34, 5],\n",
    "[\"ExtraTreesClassifier\",0.16,0.00,0.01,0.04,1.60, 10],\n",
    "[\"RandomForestClassifier\",0.17,0.01,0.05,2.55,1.55, 60],\n",
    "[\"LGBMClassifier\",0.27,0.17,0.37,24.31,1.29, 30],\n",
    "[\"LinearSVC\",0.17,0.47,0.52,37.98,1.88, 75]]\n",
    "\n",
    "\n",
    "df = pd.DataFrame(data, columns=['model','Acc','f1_Macro','f1_Micro','Jaccard','Hamming','Timing'])\n",
    "df.dtypes"
   ]
  },
  {
   "cell_type": "code",
   "execution_count": 46,
   "metadata": {},
   "outputs": [
    {
     "name": "stdout",
     "output_type": "stream",
     "text": [
      "time: 889 µs (started: 2022-01-02 18:19:08 +01:00)\n"
     ]
    }
   ],
   "source": [
    "import seaborn as sns\n",
    "\n",
    "def _graph_(xXx,yYy):\n",
    "    sns.set_theme(style=\"whitegrid\")\n",
    "    sns.set(rc={'figure.figsize':(11.7,8.27)})\n",
    "    ax = sns.barplot(x=\"model\", y=xXx, data=df).set_title(yYy , \" - Model Comparaison\")"
   ]
  },
  {
   "cell_type": "code",
   "execution_count": 47,
   "metadata": {},
   "outputs": [
    {
     "ename": "AttributeError",
     "evalue": "'str' object has no attribute 'pop'",
     "output_type": "error",
     "traceback": [
      "\u001b[0;31m---------------------------------------------------------------------------\u001b[0m",
      "\u001b[0;31mAttributeError\u001b[0m                            Traceback (most recent call last)",
      "\u001b[0;32m/var/folders/nk/77tzydc5271b4jt6909jb9m80000gn/T/ipykernel_4405/3909175421.py\u001b[0m in \u001b[0;36m<module>\u001b[0;34m\u001b[0m\n\u001b[0;32m----> 1\u001b[0;31m \u001b[0m_graph_\u001b[0m\u001b[0;34m(\u001b[0m\u001b[0;34m'Acc'\u001b[0m\u001b[0;34m,\u001b[0m \u001b[0;34m'ACCURACY'\u001b[0m\u001b[0;34m)\u001b[0m\u001b[0;34m\u001b[0m\u001b[0;34m\u001b[0m\u001b[0m\n\u001b[0m",
      "\u001b[0;32m/var/folders/nk/77tzydc5271b4jt6909jb9m80000gn/T/ipykernel_4405/1683949289.py\u001b[0m in \u001b[0;36m_graph_\u001b[0;34m(xXx, yYy)\u001b[0m\n\u001b[1;32m      4\u001b[0m     \u001b[0msns\u001b[0m\u001b[0;34m.\u001b[0m\u001b[0mset_theme\u001b[0m\u001b[0;34m(\u001b[0m\u001b[0mstyle\u001b[0m\u001b[0;34m=\u001b[0m\u001b[0;34m\"whitegrid\"\u001b[0m\u001b[0;34m)\u001b[0m\u001b[0;34m\u001b[0m\u001b[0;34m\u001b[0m\u001b[0m\n\u001b[1;32m      5\u001b[0m     \u001b[0msns\u001b[0m\u001b[0;34m.\u001b[0m\u001b[0mset\u001b[0m\u001b[0;34m(\u001b[0m\u001b[0mrc\u001b[0m\u001b[0;34m=\u001b[0m\u001b[0;34m{\u001b[0m\u001b[0;34m'figure.figsize'\u001b[0m\u001b[0;34m:\u001b[0m\u001b[0;34m(\u001b[0m\u001b[0;36m11.7\u001b[0m\u001b[0;34m,\u001b[0m\u001b[0;36m8.27\u001b[0m\u001b[0;34m)\u001b[0m\u001b[0;34m}\u001b[0m\u001b[0;34m)\u001b[0m\u001b[0;34m\u001b[0m\u001b[0;34m\u001b[0m\u001b[0m\n\u001b[0;32m----> 6\u001b[0;31m     \u001b[0max\u001b[0m \u001b[0;34m=\u001b[0m \u001b[0msns\u001b[0m\u001b[0;34m.\u001b[0m\u001b[0mbarplot\u001b[0m\u001b[0;34m(\u001b[0m\u001b[0mx\u001b[0m\u001b[0;34m=\u001b[0m\u001b[0;34m\"model\"\u001b[0m\u001b[0;34m,\u001b[0m \u001b[0my\u001b[0m\u001b[0;34m=\u001b[0m\u001b[0mxXx\u001b[0m\u001b[0;34m,\u001b[0m \u001b[0mdata\u001b[0m\u001b[0;34m=\u001b[0m\u001b[0mdf\u001b[0m\u001b[0;34m)\u001b[0m\u001b[0;34m.\u001b[0m\u001b[0mset_title\u001b[0m\u001b[0;34m(\u001b[0m\u001b[0myYy\u001b[0m \u001b[0;34m,\u001b[0m \u001b[0;34m\" - Model Comparaison\"\u001b[0m\u001b[0;34m)\u001b[0m\u001b[0;34m\u001b[0m\u001b[0;34m\u001b[0m\u001b[0m\n\u001b[0m",
      "\u001b[0;32m~/opt/anaconda3/lib/python3.8/site-packages/matplotlib/axes/_axes.py\u001b[0m in \u001b[0;36mset_title\u001b[0;34m(self, label, fontdict, loc, pad, y, **kwargs)\u001b[0m\n\u001b[1;32m    190\u001b[0m         \u001b[0mtitle\u001b[0m\u001b[0;34m.\u001b[0m\u001b[0mupdate\u001b[0m\u001b[0;34m(\u001b[0m\u001b[0mdefault\u001b[0m\u001b[0;34m)\u001b[0m\u001b[0;34m\u001b[0m\u001b[0;34m\u001b[0m\u001b[0m\n\u001b[1;32m    191\u001b[0m         \u001b[0;32mif\u001b[0m \u001b[0mfontdict\u001b[0m \u001b[0;32mis\u001b[0m \u001b[0;32mnot\u001b[0m \u001b[0;32mNone\u001b[0m\u001b[0;34m:\u001b[0m\u001b[0;34m\u001b[0m\u001b[0;34m\u001b[0m\u001b[0m\n\u001b[0;32m--> 192\u001b[0;31m             \u001b[0mtitle\u001b[0m\u001b[0;34m.\u001b[0m\u001b[0mupdate\u001b[0m\u001b[0;34m(\u001b[0m\u001b[0mfontdict\u001b[0m\u001b[0;34m)\u001b[0m\u001b[0;34m\u001b[0m\u001b[0;34m\u001b[0m\u001b[0m\n\u001b[0m\u001b[1;32m    193\u001b[0m         \u001b[0mtitle\u001b[0m\u001b[0;34m.\u001b[0m\u001b[0mupdate\u001b[0m\u001b[0;34m(\u001b[0m\u001b[0mkwargs\u001b[0m\u001b[0;34m)\u001b[0m\u001b[0;34m\u001b[0m\u001b[0;34m\u001b[0m\u001b[0m\n\u001b[1;32m    194\u001b[0m         \u001b[0;32mreturn\u001b[0m \u001b[0mtitle\u001b[0m\u001b[0;34m\u001b[0m\u001b[0;34m\u001b[0m\u001b[0m\n",
      "\u001b[0;32m~/opt/anaconda3/lib/python3.8/site-packages/matplotlib/text.py\u001b[0m in \u001b[0;36mupdate\u001b[0;34m(self, kwargs)\u001b[0m\n\u001b[1;32m    170\u001b[0m         \u001b[0msentinel\u001b[0m \u001b[0;34m=\u001b[0m \u001b[0mobject\u001b[0m\u001b[0;34m(\u001b[0m\u001b[0;34m)\u001b[0m  \u001b[0;31m# bbox can be None, so use another sentinel.\u001b[0m\u001b[0;34m\u001b[0m\u001b[0;34m\u001b[0m\u001b[0m\n\u001b[1;32m    171\u001b[0m         \u001b[0;31m# Update fontproperties first, as it has lowest priority.\u001b[0m\u001b[0;34m\u001b[0m\u001b[0;34m\u001b[0m\u001b[0;34m\u001b[0m\u001b[0m\n\u001b[0;32m--> 172\u001b[0;31m         \u001b[0mfontproperties\u001b[0m \u001b[0;34m=\u001b[0m \u001b[0mkwargs\u001b[0m\u001b[0;34m.\u001b[0m\u001b[0mpop\u001b[0m\u001b[0;34m(\u001b[0m\u001b[0;34m\"fontproperties\"\u001b[0m\u001b[0;34m,\u001b[0m \u001b[0msentinel\u001b[0m\u001b[0;34m)\u001b[0m\u001b[0;34m\u001b[0m\u001b[0;34m\u001b[0m\u001b[0m\n\u001b[0m\u001b[1;32m    173\u001b[0m         \u001b[0;32mif\u001b[0m \u001b[0mfontproperties\u001b[0m \u001b[0;32mis\u001b[0m \u001b[0;32mnot\u001b[0m \u001b[0msentinel\u001b[0m\u001b[0;34m:\u001b[0m\u001b[0;34m\u001b[0m\u001b[0;34m\u001b[0m\u001b[0m\n\u001b[1;32m    174\u001b[0m             \u001b[0mself\u001b[0m\u001b[0;34m.\u001b[0m\u001b[0mset_fontproperties\u001b[0m\u001b[0;34m(\u001b[0m\u001b[0mfontproperties\u001b[0m\u001b[0;34m)\u001b[0m\u001b[0;34m\u001b[0m\u001b[0;34m\u001b[0m\u001b[0m\n",
      "\u001b[0;31mAttributeError\u001b[0m: 'str' object has no attribute 'pop'"
     ]
    },
    {
     "data": {
      "image/png": "[encoded data removed]",
      "text/plain": [
       "<Figure size 842.4x595.44 with 1 Axes>"
      ]
     },
     "metadata": {},
     "output_type": "display_data"
    },
    {
     "name": "stdout",
     "output_type": "stream",
     "text": [
      "time: 413 ms (started: 2022-01-02 18:19:11 +01:00)\n"
     ]
    }
   ],
   "source": [
    "_graph_('Acc', 'ACCURACY')"
   ]
  },
  {
   "cell_type": "code",
   "execution_count": 48,
   "metadata": {},
   "outputs": [
    {
     "ename": "AttributeError",
     "evalue": "'str' object has no attribute 'pop'",
     "output_type": "error",
     "traceback": [
      "\u001b[0;31m---------------------------------------------------------------------------\u001b[0m",
      "\u001b[0;31mAttributeError\u001b[0m                            Traceback (most recent call last)",
      "\u001b[0;32m/var/folders/nk/77tzydc5271b4jt6909jb9m80000gn/T/ipykernel_4405/3834058168.py\u001b[0m in \u001b[0;36m<module>\u001b[0;34m\u001b[0m\n\u001b[0;32m----> 1\u001b[0;31m \u001b[0m_graph_\u001b[0m\u001b[0;34m(\u001b[0m\u001b[0;34m'f1_Macro'\u001b[0m\u001b[0;34m,\u001b[0m \u001b[0;34m'F1 SCORE - MACRO'\u001b[0m\u001b[0;34m)\u001b[0m\u001b[0;34m\u001b[0m\u001b[0;34m\u001b[0m\u001b[0m\n\u001b[0m",
      "\u001b[0;32m/var/folders/nk/77tzydc5271b4jt6909jb9m80000gn/T/ipykernel_4405/1683949289.py\u001b[0m in \u001b[0;36m_graph_\u001b[0;34m(xXx, yYy)\u001b[0m\n\u001b[1;32m      4\u001b[0m     \u001b[0msns\u001b[0m\u001b[0;34m.\u001b[0m\u001b[0mset_theme\u001b[0m\u001b[0;34m(\u001b[0m\u001b[0mstyle\u001b[0m\u001b[0;34m=\u001b[0m\u001b[0;34m\"whitegrid\"\u001b[0m\u001b[0;34m)\u001b[0m\u001b[0;34m\u001b[0m\u001b[0;34m\u001b[0m\u001b[0m\n\u001b[1;32m      5\u001b[0m     \u001b[0msns\u001b[0m\u001b[0;34m.\u001b[0m\u001b[0mset\u001b[0m\u001b[0;34m(\u001b[0m\u001b[0mrc\u001b[0m\u001b[0;34m=\u001b[0m\u001b[0;34m{\u001b[0m\u001b[0;34m'figure.figsize'\u001b[0m\u001b[0;34m:\u001b[0m\u001b[0;34m(\u001b[0m\u001b[0;36m11.7\u001b[0m\u001b[0;34m,\u001b[0m\u001b[0;36m8.27\u001b[0m\u001b[0;34m)\u001b[0m\u001b[0;34m}\u001b[0m\u001b[0;34m)\u001b[0m\u001b[0;34m\u001b[0m\u001b[0;34m\u001b[0m\u001b[0m\n\u001b[0;32m----> 6\u001b[0;31m     \u001b[0max\u001b[0m \u001b[0;34m=\u001b[0m \u001b[0msns\u001b[0m\u001b[0;34m.\u001b[0m\u001b[0mbarplot\u001b[0m\u001b[0;34m(\u001b[0m\u001b[0mx\u001b[0m\u001b[0;34m=\u001b[0m\u001b[0;34m\"model\"\u001b[0m\u001b[0;34m,\u001b[0m \u001b[0my\u001b[0m\u001b[0;34m=\u001b[0m\u001b[0mxXx\u001b[0m\u001b[0;34m,\u001b[0m \u001b[0mdata\u001b[0m\u001b[0;34m=\u001b[0m\u001b[0mdf\u001b[0m\u001b[0;34m)\u001b[0m\u001b[0;34m.\u001b[0m\u001b[0mset_title\u001b[0m\u001b[0;34m(\u001b[0m\u001b[0myYy\u001b[0m \u001b[0;34m,\u001b[0m \u001b[0;34m\" - Model Comparaison\"\u001b[0m\u001b[0;34m)\u001b[0m\u001b[0;34m\u001b[0m\u001b[0;34m\u001b[0m\u001b[0m\n\u001b[0m",
      "\u001b[0;32m~/opt/anaconda3/lib/python3.8/site-packages/matplotlib/axes/_axes.py\u001b[0m in \u001b[0;36mset_title\u001b[0;34m(self, label, fontdict, loc, pad, y, **kwargs)\u001b[0m\n\u001b[1;32m    190\u001b[0m         \u001b[0mtitle\u001b[0m\u001b[0;34m.\u001b[0m\u001b[0mupdate\u001b[0m\u001b[0;34m(\u001b[0m\u001b[0mdefault\u001b[0m\u001b[0;34m)\u001b[0m\u001b[0;34m\u001b[0m\u001b[0;34m\u001b[0m\u001b[0m\n\u001b[1;32m    191\u001b[0m         \u001b[0;32mif\u001b[0m \u001b[0mfontdict\u001b[0m \u001b[0;32mis\u001b[0m \u001b[0;32mnot\u001b[0m \u001b[0;32mNone\u001b[0m\u001b[0;34m:\u001b[0m\u001b[0;34m\u001b[0m\u001b[0;34m\u001b[0m\u001b[0m\n\u001b[0;32m--> 192\u001b[0;31m             \u001b[0mtitle\u001b[0m\u001b[0;34m.\u001b[0m\u001b[0mupdate\u001b[0m\u001b[0;34m(\u001b[0m\u001b[0mfontdict\u001b[0m\u001b[0;34m)\u001b[0m\u001b[0;34m\u001b[0m\u001b[0;34m\u001b[0m\u001b[0m\n\u001b[0m\u001b[1;32m    193\u001b[0m         \u001b[0mtitle\u001b[0m\u001b[0;34m.\u001b[0m\u001b[0mupdate\u001b[0m\u001b[0;34m(\u001b[0m\u001b[0mkwargs\u001b[0m\u001b[0;34m)\u001b[0m\u001b[0;34m\u001b[0m\u001b[0;34m\u001b[0m\u001b[0m\n\u001b[1;32m    194\u001b[0m         \u001b[0;32mreturn\u001b[0m \u001b[0mtitle\u001b[0m\u001b[0;34m\u001b[0m\u001b[0;34m\u001b[0m\u001b[0m\n",
      "\u001b[0;32m~/opt/anaconda3/lib/python3.8/site-packages/matplotlib/text.py\u001b[0m in \u001b[0;36mupdate\u001b[0;34m(self, kwargs)\u001b[0m\n\u001b[1;32m    170\u001b[0m         \u001b[0msentinel\u001b[0m \u001b[0;34m=\u001b[0m \u001b[0mobject\u001b[0m\u001b[0;34m(\u001b[0m\u001b[0;34m)\u001b[0m  \u001b[0;31m# bbox can be None, so use another sentinel.\u001b[0m\u001b[0;34m\u001b[0m\u001b[0;34m\u001b[0m\u001b[0m\n\u001b[1;32m    171\u001b[0m         \u001b[0;31m# Update fontproperties first, as it has lowest priority.\u001b[0m\u001b[0;34m\u001b[0m\u001b[0;34m\u001b[0m\u001b[0;34m\u001b[0m\u001b[0m\n\u001b[0;32m--> 172\u001b[0;31m         \u001b[0mfontproperties\u001b[0m \u001b[0;34m=\u001b[0m \u001b[0mkwargs\u001b[0m\u001b[0;34m.\u001b[0m\u001b[0mpop\u001b[0m\u001b[0;34m(\u001b[0m\u001b[0;34m\"fontproperties\"\u001b[0m\u001b[0;34m,\u001b[0m \u001b[0msentinel\u001b[0m\u001b[0;34m)\u001b[0m\u001b[0;34m\u001b[0m\u001b[0;34m\u001b[0m\u001b[0m\n\u001b[0m\u001b[1;32m    173\u001b[0m         \u001b[0;32mif\u001b[0m \u001b[0mfontproperties\u001b[0m \u001b[0;32mis\u001b[0m \u001b[0;32mnot\u001b[0m \u001b[0msentinel\u001b[0m\u001b[0;34m:\u001b[0m\u001b[0;34m\u001b[0m\u001b[0;34m\u001b[0m\u001b[0m\n\u001b[1;32m    174\u001b[0m             \u001b[0mself\u001b[0m\u001b[0;34m.\u001b[0m\u001b[0mset_fontproperties\u001b[0m\u001b[0;34m(\u001b[0m\u001b[0mfontproperties\u001b[0m\u001b[0;34m)\u001b[0m\u001b[0;34m\u001b[0m\u001b[0;34m\u001b[0m\u001b[0m\n",
      "\u001b[0;31mAttributeError\u001b[0m: 'str' object has no attribute 'pop'"
     ]
    },
    {
     "data": {
      "image/png": "[encoded data removed]",
      "text/plain": [
       "<Figure size 842.4x595.44 with 1 Axes>"
      ]
     },
     "metadata": {},
     "output_type": "display_data"
    },
    {
     "name": "stdout",
     "output_type": "stream",
     "text": [
      "time: 273 ms (started: 2022-01-02 18:19:12 +01:00)\n"
     ]
    }
   ],
   "source": [
    "_graph_('f1_Macro', 'F1 SCORE - MACRO')"
   ]
  },
  {
   "cell_type": "code",
   "execution_count": 49,
   "metadata": {},
   "outputs": [
    {
     "ename": "AttributeError",
     "evalue": "'str' object has no attribute 'pop'",
     "output_type": "error",
     "traceback": [
      "\u001b[0;31m---------------------------------------------------------------------------\u001b[0m",
      "\u001b[0;31mAttributeError\u001b[0m                            Traceback (most recent call last)",
      "\u001b[0;32m/var/folders/nk/77tzydc5271b4jt6909jb9m80000gn/T/ipykernel_4405/456602042.py\u001b[0m in \u001b[0;36m<module>\u001b[0;34m\u001b[0m\n\u001b[0;32m----> 1\u001b[0;31m \u001b[0m_graph_\u001b[0m\u001b[0;34m(\u001b[0m\u001b[0;34m'f1_Micro'\u001b[0m\u001b[0;34m,\u001b[0m \u001b[0;34m'F1 SCORE MICRO'\u001b[0m\u001b[0;34m)\u001b[0m\u001b[0;34m\u001b[0m\u001b[0;34m\u001b[0m\u001b[0m\n\u001b[0m",
      "\u001b[0;32m/var/folders/nk/77tzydc5271b4jt6909jb9m80000gn/T/ipykernel_4405/1683949289.py\u001b[0m in \u001b[0;36m_graph_\u001b[0;34m(xXx, yYy)\u001b[0m\n\u001b[1;32m      4\u001b[0m     \u001b[0msns\u001b[0m\u001b[0;34m.\u001b[0m\u001b[0mset_theme\u001b[0m\u001b[0;34m(\u001b[0m\u001b[0mstyle\u001b[0m\u001b[0;34m=\u001b[0m\u001b[0;34m\"whitegrid\"\u001b[0m\u001b[0;34m)\u001b[0m\u001b[0;34m\u001b[0m\u001b[0;34m\u001b[0m\u001b[0m\n\u001b[1;32m      5\u001b[0m     \u001b[0msns\u001b[0m\u001b[0;34m.\u001b[0m\u001b[0mset\u001b[0m\u001b[0;34m(\u001b[0m\u001b[0mrc\u001b[0m\u001b[0;34m=\u001b[0m\u001b[0;34m{\u001b[0m\u001b[0;34m'figure.figsize'\u001b[0m\u001b[0;34m:\u001b[0m\u001b[0;34m(\u001b[0m\u001b[0;36m11.7\u001b[0m\u001b[0;34m,\u001b[0m\u001b[0;36m8.27\u001b[0m\u001b[0;34m)\u001b[0m\u001b[0;34m}\u001b[0m\u001b[0;34m)\u001b[0m\u001b[0;34m\u001b[0m\u001b[0;34m\u001b[0m\u001b[0m\n\u001b[0;32m----> 6\u001b[0;31m     \u001b[0max\u001b[0m \u001b[0;34m=\u001b[0m \u001b[0msns\u001b[0m\u001b[0;34m.\u001b[0m\u001b[0mbarplot\u001b[0m\u001b[0;34m(\u001b[0m\u001b[0mx\u001b[0m\u001b[0;34m=\u001b[0m\u001b[0;34m\"model\"\u001b[0m\u001b[0;34m,\u001b[0m \u001b[0my\u001b[0m\u001b[0;34m=\u001b[0m\u001b[0mxXx\u001b[0m\u001b[0;34m,\u001b[0m \u001b[0mdata\u001b[0m\u001b[0;34m=\u001b[0m\u001b[0mdf\u001b[0m\u001b[0;34m)\u001b[0m\u001b[0;34m.\u001b[0m\u001b[0mset_title\u001b[0m\u001b[0;34m(\u001b[0m\u001b[0myYy\u001b[0m \u001b[0;34m,\u001b[0m \u001b[0;34m\" - Model Comparaison\"\u001b[0m\u001b[0;34m)\u001b[0m\u001b[0;34m\u001b[0m\u001b[0;34m\u001b[0m\u001b[0m\n\u001b[0m",
      "\u001b[0;32m~/opt/anaconda3/lib/python3.8/site-packages/matplotlib/axes/_axes.py\u001b[0m in \u001b[0;36mset_title\u001b[0;34m(self, label, fontdict, loc, pad, y, **kwargs)\u001b[0m\n\u001b[1;32m    190\u001b[0m         \u001b[0mtitle\u001b[0m\u001b[0;34m.\u001b[0m\u001b[0mupdate\u001b[0m\u001b[0;34m(\u001b[0m\u001b[0mdefault\u001b[0m\u001b[0;34m)\u001b[0m\u001b[0;34m\u001b[0m\u001b[0;34m\u001b[0m\u001b[0m\n\u001b[1;32m    191\u001b[0m         \u001b[0;32mif\u001b[0m \u001b[0mfontdict\u001b[0m \u001b[0;32mis\u001b[0m \u001b[0;32mnot\u001b[0m \u001b[0;32mNone\u001b[0m\u001b[0;34m:\u001b[0m\u001b[0;34m\u001b[0m\u001b[0;34m\u001b[0m\u001b[0m\n\u001b[0;32m--> 192\u001b[0;31m             \u001b[0mtitle\u001b[0m\u001b[0;34m.\u001b[0m\u001b[0mupdate\u001b[0m\u001b[0;34m(\u001b[0m\u001b[0mfontdict\u001b[0m\u001b[0;34m)\u001b[0m\u001b[0;34m\u001b[0m\u001b[0;34m\u001b[0m\u001b[0m\n\u001b[0m\u001b[1;32m    193\u001b[0m         \u001b[0mtitle\u001b[0m\u001b[0;34m.\u001b[0m\u001b[0mupdate\u001b[0m\u001b[0;34m(\u001b[0m\u001b[0mkwargs\u001b[0m\u001b[0;34m)\u001b[0m\u001b[0;34m\u001b[0m\u001b[0;34m\u001b[0m\u001b[0m\n\u001b[1;32m    194\u001b[0m         \u001b[0;32mreturn\u001b[0m \u001b[0mtitle\u001b[0m\u001b[0;34m\u001b[0m\u001b[0;34m\u001b[0m\u001b[0m\n",
      "\u001b[0;32m~/opt/anaconda3/lib/python3.8/site-packages/matplotlib/text.py\u001b[0m in \u001b[0;36mupdate\u001b[0;34m(self, kwargs)\u001b[0m\n\u001b[1;32m    170\u001b[0m         \u001b[0msentinel\u001b[0m \u001b[0;34m=\u001b[0m \u001b[0mobject\u001b[0m\u001b[0;34m(\u001b[0m\u001b[0;34m)\u001b[0m  \u001b[0;31m# bbox can be None, so use another sentinel.\u001b[0m\u001b[0;34m\u001b[0m\u001b[0;34m\u001b[0m\u001b[0m\n\u001b[1;32m    171\u001b[0m         \u001b[0;31m# Update fontproperties first, as it has lowest priority.\u001b[0m\u001b[0;34m\u001b[0m\u001b[0;34m\u001b[0m\u001b[0;34m\u001b[0m\u001b[0m\n\u001b[0;32m--> 172\u001b[0;31m         \u001b[0mfontproperties\u001b[0m \u001b[0;34m=\u001b[0m \u001b[0mkwargs\u001b[0m\u001b[0;34m.\u001b[0m\u001b[0mpop\u001b[0m\u001b[0;34m(\u001b[0m\u001b[0;34m\"fontproperties\"\u001b[0m\u001b[0;34m,\u001b[0m \u001b[0msentinel\u001b[0m\u001b[0;34m)\u001b[0m\u001b[0;34m\u001b[0m\u001b[0;34m\u001b[0m\u001b[0m\n\u001b[0m\u001b[1;32m    173\u001b[0m         \u001b[0;32mif\u001b[0m \u001b[0mfontproperties\u001b[0m \u001b[0;32mis\u001b[0m \u001b[0;32mnot\u001b[0m \u001b[0msentinel\u001b[0m\u001b[0;34m:\u001b[0m\u001b[0;34m\u001b[0m\u001b[0;34m\u001b[0m\u001b[0m\n\u001b[1;32m    174\u001b[0m             \u001b[0mself\u001b[0m\u001b[0;34m.\u001b[0m\u001b[0mset_fontproperties\u001b[0m\u001b[0;34m(\u001b[0m\u001b[0mfontproperties\u001b[0m\u001b[0;34m)\u001b[0m\u001b[0;34m\u001b[0m\u001b[0;34m\u001b[0m\u001b[0m\n",
      "\u001b[0;31mAttributeError\u001b[0m: 'str' object has no attribute 'pop'"
     ]
    },
    {
     "data": {
      "image/png": "[encoded data removed]",
      "text/plain": [
       "<Figure size 842.4x595.44 with 1 Axes>"
      ]
     },
     "metadata": {},
     "output_type": "display_data"
    },
    {
     "name": "stdout",
     "output_type": "stream",
     "text": [
      "time: 266 ms (started: 2022-01-02 18:19:13 +01:00)\n"
     ]
    }
   ],
   "source": [
    "_graph_('f1_Micro', 'F1 SCORE MICRO')"
   ]
  },
  {
   "cell_type": "code",
   "execution_count": 50,
   "metadata": {},
   "outputs": [
    {
     "ename": "AttributeError",
     "evalue": "'str' object has no attribute 'pop'",
     "output_type": "error",
     "traceback": [
      "\u001b[0;31m---------------------------------------------------------------------------\u001b[0m",
      "\u001b[0;31mAttributeError\u001b[0m                            Traceback (most recent call last)",
      "\u001b[0;32m/var/folders/nk/77tzydc5271b4jt6909jb9m80000gn/T/ipykernel_4405/232710423.py\u001b[0m in \u001b[0;36m<module>\u001b[0;34m\u001b[0m\n\u001b[0;32m----> 1\u001b[0;31m \u001b[0m_graph_\u001b[0m\u001b[0;34m(\u001b[0m\u001b[0;34m'Jaccard'\u001b[0m\u001b[0;34m,\u001b[0m \u001b[0;34m'JACCARD INDEX'\u001b[0m\u001b[0;34m)\u001b[0m\u001b[0;34m\u001b[0m\u001b[0;34m\u001b[0m\u001b[0m\n\u001b[0m",
      "\u001b[0;32m/var/folders/nk/77tzydc5271b4jt6909jb9m80000gn/T/ipykernel_4405/1683949289.py\u001b[0m in \u001b[0;36m_graph_\u001b[0;34m(xXx, yYy)\u001b[0m\n\u001b[1;32m      4\u001b[0m     \u001b[0msns\u001b[0m\u001b[0;34m.\u001b[0m\u001b[0mset_theme\u001b[0m\u001b[0;34m(\u001b[0m\u001b[0mstyle\u001b[0m\u001b[0;34m=\u001b[0m\u001b[0;34m\"whitegrid\"\u001b[0m\u001b[0;34m)\u001b[0m\u001b[0;34m\u001b[0m\u001b[0;34m\u001b[0m\u001b[0m\n\u001b[1;32m      5\u001b[0m     \u001b[0msns\u001b[0m\u001b[0;34m.\u001b[0m\u001b[0mset\u001b[0m\u001b[0;34m(\u001b[0m\u001b[0mrc\u001b[0m\u001b[0;34m=\u001b[0m\u001b[0;34m{\u001b[0m\u001b[0;34m'figure.figsize'\u001b[0m\u001b[0;34m:\u001b[0m\u001b[0;34m(\u001b[0m\u001b[0;36m11.7\u001b[0m\u001b[0;34m,\u001b[0m\u001b[0;36m8.27\u001b[0m\u001b[0;34m)\u001b[0m\u001b[0;34m}\u001b[0m\u001b[0;34m)\u001b[0m\u001b[0;34m\u001b[0m\u001b[0;34m\u001b[0m\u001b[0m\n\u001b[0;32m----> 6\u001b[0;31m     \u001b[0max\u001b[0m \u001b[0;34m=\u001b[0m \u001b[0msns\u001b[0m\u001b[0;34m.\u001b[0m\u001b[0mbarplot\u001b[0m\u001b[0;34m(\u001b[0m\u001b[0mx\u001b[0m\u001b[0;34m=\u001b[0m\u001b[0;34m\"model\"\u001b[0m\u001b[0;34m,\u001b[0m \u001b[0my\u001b[0m\u001b[0;34m=\u001b[0m\u001b[0mxXx\u001b[0m\u001b[0;34m,\u001b[0m \u001b[0mdata\u001b[0m\u001b[0;34m=\u001b[0m\u001b[0mdf\u001b[0m\u001b[0;34m)\u001b[0m\u001b[0;34m.\u001b[0m\u001b[0mset_title\u001b[0m\u001b[0;34m(\u001b[0m\u001b[0myYy\u001b[0m \u001b[0;34m,\u001b[0m \u001b[0;34m\" - Model Comparaison\"\u001b[0m\u001b[0;34m)\u001b[0m\u001b[0;34m\u001b[0m\u001b[0;34m\u001b[0m\u001b[0m\n\u001b[0m",
      "\u001b[0;32m~/opt/anaconda3/lib/python3.8/site-packages/matplotlib/axes/_axes.py\u001b[0m in \u001b[0;36mset_title\u001b[0;34m(self, label, fontdict, loc, pad, y, **kwargs)\u001b[0m\n\u001b[1;32m    190\u001b[0m         \u001b[0mtitle\u001b[0m\u001b[0;34m.\u001b[0m\u001b[0mupdate\u001b[0m\u001b[0;34m(\u001b[0m\u001b[0mdefault\u001b[0m\u001b[0;34m)\u001b[0m\u001b[0;34m\u001b[0m\u001b[0;34m\u001b[0m\u001b[0m\n\u001b[1;32m    191\u001b[0m         \u001b[0;32mif\u001b[0m \u001b[0mfontdict\u001b[0m \u001b[0;32mis\u001b[0m \u001b[0;32mnot\u001b[0m \u001b[0;32mNone\u001b[0m\u001b[0;34m:\u001b[0m\u001b[0;34m\u001b[0m\u001b[0;34m\u001b[0m\u001b[0m\n\u001b[0;32m--> 192\u001b[0;31m             \u001b[0mtitle\u001b[0m\u001b[0;34m.\u001b[0m\u001b[0mupdate\u001b[0m\u001b[0;34m(\u001b[0m\u001b[0mfontdict\u001b[0m\u001b[0;34m)\u001b[0m\u001b[0;34m\u001b[0m\u001b[0;34m\u001b[0m\u001b[0m\n\u001b[0m\u001b[1;32m    193\u001b[0m         \u001b[0mtitle\u001b[0m\u001b[0;34m.\u001b[0m\u001b[0mupdate\u001b[0m\u001b[0;34m(\u001b[0m\u001b[0mkwargs\u001b[0m\u001b[0;34m)\u001b[0m\u001b[0;34m\u001b[0m\u001b[0;34m\u001b[0m\u001b[0m\n\u001b[1;32m    194\u001b[0m         \u001b[0;32mreturn\u001b[0m \u001b[0mtitle\u001b[0m\u001b[0;34m\u001b[0m\u001b[0;34m\u001b[0m\u001b[0m\n",
      "\u001b[0;32m~/opt/anaconda3/lib/python3.8/site-packages/matplotlib/text.py\u001b[0m in \u001b[0;36mupdate\u001b[0;34m(self, kwargs)\u001b[0m\n\u001b[1;32m    170\u001b[0m         \u001b[0msentinel\u001b[0m \u001b[0;34m=\u001b[0m \u001b[0mobject\u001b[0m\u001b[0;34m(\u001b[0m\u001b[0;34m)\u001b[0m  \u001b[0;31m# bbox can be None, so use another sentinel.\u001b[0m\u001b[0;34m\u001b[0m\u001b[0;34m\u001b[0m\u001b[0m\n\u001b[1;32m    171\u001b[0m         \u001b[0;31m# Update fontproperties first, as it has lowest priority.\u001b[0m\u001b[0;34m\u001b[0m\u001b[0;34m\u001b[0m\u001b[0;34m\u001b[0m\u001b[0m\n\u001b[0;32m--> 172\u001b[0;31m         \u001b[0mfontproperties\u001b[0m \u001b[0;34m=\u001b[0m \u001b[0mkwargs\u001b[0m\u001b[0;34m.\u001b[0m\u001b[0mpop\u001b[0m\u001b[0;34m(\u001b[0m\u001b[0;34m\"fontproperties\"\u001b[0m\u001b[0;34m,\u001b[0m \u001b[0msentinel\u001b[0m\u001b[0;34m)\u001b[0m\u001b[0;34m\u001b[0m\u001b[0;34m\u001b[0m\u001b[0m\n\u001b[0m\u001b[1;32m    173\u001b[0m         \u001b[0;32mif\u001b[0m \u001b[0mfontproperties\u001b[0m \u001b[0;32mis\u001b[0m \u001b[0;32mnot\u001b[0m \u001b[0msentinel\u001b[0m\u001b[0;34m:\u001b[0m\u001b[0;34m\u001b[0m\u001b[0;34m\u001b[0m\u001b[0m\n\u001b[1;32m    174\u001b[0m             \u001b[0mself\u001b[0m\u001b[0;34m.\u001b[0m\u001b[0mset_fontproperties\u001b[0m\u001b[0;34m(\u001b[0m\u001b[0mfontproperties\u001b[0m\u001b[0;34m)\u001b[0m\u001b[0;34m\u001b[0m\u001b[0;34m\u001b[0m\u001b[0m\n",
      "\u001b[0;31mAttributeError\u001b[0m: 'str' object has no attribute 'pop'"
     ]
    },
    {
     "data": {
      "image/png": "[encoded data removed]",
      "text/plain": [
       "<Figure size 842.4x595.44 with 1 Axes>"
      ]
     },
     "metadata": {},
     "output_type": "display_data"
    },
    {
     "name": "stdout",
     "output_type": "stream",
     "text": [
      "time: 266 ms (started: 2022-01-02 18:19:14 +01:00)\n"
     ]
    }
   ],
   "source": [
    "_graph_('Jaccard', 'JACCARD INDEX')"
   ]
  },
  {
   "cell_type": "code",
   "execution_count": 51,
   "metadata": {},
   "outputs": [
    {
     "ename": "AttributeError",
     "evalue": "'str' object has no attribute 'pop'",
     "output_type": "error",
     "traceback": [
      "\u001b[0;31m---------------------------------------------------------------------------\u001b[0m",
      "\u001b[0;31mAttributeError\u001b[0m                            Traceback (most recent call last)",
      "\u001b[0;32m/var/folders/nk/77tzydc5271b4jt6909jb9m80000gn/T/ipykernel_4405/1712978388.py\u001b[0m in \u001b[0;36m<module>\u001b[0;34m\u001b[0m\n\u001b[0;32m----> 1\u001b[0;31m \u001b[0m_graph_\u001b[0m\u001b[0;34m(\u001b[0m\u001b[0;34m'Hamming'\u001b[0m\u001b[0;34m,\u001b[0m \u001b[0;34m'HAMMING LOSS'\u001b[0m\u001b[0;34m)\u001b[0m\u001b[0;34m\u001b[0m\u001b[0;34m\u001b[0m\u001b[0m\n\u001b[0m",
      "\u001b[0;32m/var/folders/nk/77tzydc5271b4jt6909jb9m80000gn/T/ipykernel_4405/1683949289.py\u001b[0m in \u001b[0;36m_graph_\u001b[0;34m(xXx, yYy)\u001b[0m\n\u001b[1;32m      4\u001b[0m     \u001b[0msns\u001b[0m\u001b[0;34m.\u001b[0m\u001b[0mset_theme\u001b[0m\u001b[0;34m(\u001b[0m\u001b[0mstyle\u001b[0m\u001b[0;34m=\u001b[0m\u001b[0;34m\"whitegrid\"\u001b[0m\u001b[0;34m)\u001b[0m\u001b[0;34m\u001b[0m\u001b[0;34m\u001b[0m\u001b[0m\n\u001b[1;32m      5\u001b[0m     \u001b[0msns\u001b[0m\u001b[0;34m.\u001b[0m\u001b[0mset\u001b[0m\u001b[0;34m(\u001b[0m\u001b[0mrc\u001b[0m\u001b[0;34m=\u001b[0m\u001b[0;34m{\u001b[0m\u001b[0;34m'figure.figsize'\u001b[0m\u001b[0;34m:\u001b[0m\u001b[0;34m(\u001b[0m\u001b[0;36m11.7\u001b[0m\u001b[0;34m,\u001b[0m\u001b[0;36m8.27\u001b[0m\u001b[0;34m)\u001b[0m\u001b[0;34m}\u001b[0m\u001b[0;34m)\u001b[0m\u001b[0;34m\u001b[0m\u001b[0;34m\u001b[0m\u001b[0m\n\u001b[0;32m----> 6\u001b[0;31m     \u001b[0max\u001b[0m \u001b[0;34m=\u001b[0m \u001b[0msns\u001b[0m\u001b[0;34m.\u001b[0m\u001b[0mbarplot\u001b[0m\u001b[0;34m(\u001b[0m\u001b[0mx\u001b[0m\u001b[0;34m=\u001b[0m\u001b[0;34m\"model\"\u001b[0m\u001b[0;34m,\u001b[0m \u001b[0my\u001b[0m\u001b[0;34m=\u001b[0m\u001b[0mxXx\u001b[0m\u001b[0;34m,\u001b[0m \u001b[0mdata\u001b[0m\u001b[0;34m=\u001b[0m\u001b[0mdf\u001b[0m\u001b[0;34m)\u001b[0m\u001b[0;34m.\u001b[0m\u001b[0mset_title\u001b[0m\u001b[0;34m(\u001b[0m\u001b[0myYy\u001b[0m \u001b[0;34m,\u001b[0m \u001b[0;34m\" - Model Comparaison\"\u001b[0m\u001b[0;34m)\u001b[0m\u001b[0;34m\u001b[0m\u001b[0;34m\u001b[0m\u001b[0m\n\u001b[0m",
      "\u001b[0;32m~/opt/anaconda3/lib/python3.8/site-packages/matplotlib/axes/_axes.py\u001b[0m in \u001b[0;36mset_title\u001b[0;34m(self, label, fontdict, loc, pad, y, **kwargs)\u001b[0m\n\u001b[1;32m    190\u001b[0m         \u001b[0mtitle\u001b[0m\u001b[0;34m.\u001b[0m\u001b[0mupdate\u001b[0m\u001b[0;34m(\u001b[0m\u001b[0mdefault\u001b[0m\u001b[0;34m)\u001b[0m\u001b[0;34m\u001b[0m\u001b[0;34m\u001b[0m\u001b[0m\n\u001b[1;32m    191\u001b[0m         \u001b[0;32mif\u001b[0m \u001b[0mfontdict\u001b[0m \u001b[0;32mis\u001b[0m \u001b[0;32mnot\u001b[0m \u001b[0;32mNone\u001b[0m\u001b[0;34m:\u001b[0m\u001b[0;34m\u001b[0m\u001b[0;34m\u001b[0m\u001b[0m\n\u001b[0;32m--> 192\u001b[0;31m             \u001b[0mtitle\u001b[0m\u001b[0;34m.\u001b[0m\u001b[0mupdate\u001b[0m\u001b[0;34m(\u001b[0m\u001b[0mfontdict\u001b[0m\u001b[0;34m)\u001b[0m\u001b[0;34m\u001b[0m\u001b[0;34m\u001b[0m\u001b[0m\n\u001b[0m\u001b[1;32m    193\u001b[0m         \u001b[0mtitle\u001b[0m\u001b[0;34m.\u001b[0m\u001b[0mupdate\u001b[0m\u001b[0;34m(\u001b[0m\u001b[0mkwargs\u001b[0m\u001b[0;34m)\u001b[0m\u001b[0;34m\u001b[0m\u001b[0;34m\u001b[0m\u001b[0m\n\u001b[1;32m    194\u001b[0m         \u001b[0;32mreturn\u001b[0m \u001b[0mtitle\u001b[0m\u001b[0;34m\u001b[0m\u001b[0;34m\u001b[0m\u001b[0m\n",
      "\u001b[0;32m~/opt/anaconda3/lib/python3.8/site-packages/matplotlib/text.py\u001b[0m in \u001b[0;36mupdate\u001b[0;34m(self, kwargs)\u001b[0m\n\u001b[1;32m    170\u001b[0m         \u001b[0msentinel\u001b[0m \u001b[0;34m=\u001b[0m \u001b[0mobject\u001b[0m\u001b[0;34m(\u001b[0m\u001b[0;34m)\u001b[0m  \u001b[0;31m# bbox can be None, so use another sentinel.\u001b[0m\u001b[0;34m\u001b[0m\u001b[0;34m\u001b[0m\u001b[0m\n\u001b[1;32m    171\u001b[0m         \u001b[0;31m# Update fontproperties first, as it has lowest priority.\u001b[0m\u001b[0;34m\u001b[0m\u001b[0;34m\u001b[0m\u001b[0;34m\u001b[0m\u001b[0m\n\u001b[0;32m--> 172\u001b[0;31m         \u001b[0mfontproperties\u001b[0m \u001b[0;34m=\u001b[0m \u001b[0mkwargs\u001b[0m\u001b[0;34m.\u001b[0m\u001b[0mpop\u001b[0m\u001b[0;34m(\u001b[0m\u001b[0;34m\"fontproperties\"\u001b[0m\u001b[0;34m,\u001b[0m \u001b[0msentinel\u001b[0m\u001b[0;34m)\u001b[0m\u001b[0;34m\u001b[0m\u001b[0;34m\u001b[0m\u001b[0m\n\u001b[0m\u001b[1;32m    173\u001b[0m         \u001b[0;32mif\u001b[0m \u001b[0mfontproperties\u001b[0m \u001b[0;32mis\u001b[0m \u001b[0;32mnot\u001b[0m \u001b[0msentinel\u001b[0m\u001b[0;34m:\u001b[0m\u001b[0;34m\u001b[0m\u001b[0;34m\u001b[0m\u001b[0m\n\u001b[1;32m    174\u001b[0m             \u001b[0mself\u001b[0m\u001b[0;34m.\u001b[0m\u001b[0mset_fontproperties\u001b[0m\u001b[0;34m(\u001b[0m\u001b[0mfontproperties\u001b[0m\u001b[0;34m)\u001b[0m\u001b[0;34m\u001b[0m\u001b[0;34m\u001b[0m\u001b[0m\n",
      "\u001b[0;31mAttributeError\u001b[0m: 'str' object has no attribute 'pop'"
     ]
    },
    {
     "data": {
      "image/png": "[encoded data removed]",
      "text/plain": [
       "<Figure size 842.4x595.44 with 1 Axes>"
      ]
     },
     "metadata": {},
     "output_type": "display_data"
    },
    {
     "name": "stdout",
     "output_type": "stream",
     "text": [
      "time: 270 ms (started: 2022-01-02 18:19:14 +01:00)\n"
     ]
    }
   ],
   "source": [
    "_graph_('Hamming', 'HAMMING LOSS')"
   ]
  },
  {
   "cell_type": "code",
   "execution_count": 52,
   "metadata": {},
   "outputs": [
    {
     "ename": "AttributeError",
     "evalue": "'str' object has no attribute 'pop'",
     "output_type": "error",
     "traceback": [
      "\u001b[0;31m---------------------------------------------------------------------------\u001b[0m",
      "\u001b[0;31mAttributeError\u001b[0m                            Traceback (most recent call last)",
      "\u001b[0;32m/var/folders/nk/77tzydc5271b4jt6909jb9m80000gn/T/ipykernel_4405/1238520660.py\u001b[0m in \u001b[0;36m<module>\u001b[0;34m\u001b[0m\n\u001b[0;32m----> 1\u001b[0;31m \u001b[0m_graph_\u001b[0m\u001b[0;34m(\u001b[0m\u001b[0;34m'Timing'\u001b[0m\u001b[0;34m,\u001b[0m \u001b[0;34m'EXECUTION TIME'\u001b[0m\u001b[0;34m)\u001b[0m\u001b[0;34m\u001b[0m\u001b[0;34m\u001b[0m\u001b[0m\n\u001b[0m",
      "\u001b[0;32m/var/folders/nk/77tzydc5271b4jt6909jb9m80000gn/T/ipykernel_4405/1683949289.py\u001b[0m in \u001b[0;36m_graph_\u001b[0;34m(xXx, yYy)\u001b[0m\n\u001b[1;32m      4\u001b[0m     \u001b[0msns\u001b[0m\u001b[0;34m.\u001b[0m\u001b[0mset_theme\u001b[0m\u001b[0;34m(\u001b[0m\u001b[0mstyle\u001b[0m\u001b[0;34m=\u001b[0m\u001b[0;34m\"whitegrid\"\u001b[0m\u001b[0;34m)\u001b[0m\u001b[0;34m\u001b[0m\u001b[0;34m\u001b[0m\u001b[0m\n\u001b[1;32m      5\u001b[0m     \u001b[0msns\u001b[0m\u001b[0;34m.\u001b[0m\u001b[0mset\u001b[0m\u001b[0;34m(\u001b[0m\u001b[0mrc\u001b[0m\u001b[0;34m=\u001b[0m\u001b[0;34m{\u001b[0m\u001b[0;34m'figure.figsize'\u001b[0m\u001b[0;34m:\u001b[0m\u001b[0;34m(\u001b[0m\u001b[0;36m11.7\u001b[0m\u001b[0;34m,\u001b[0m\u001b[0;36m8.27\u001b[0m\u001b[0;34m)\u001b[0m\u001b[0;34m}\u001b[0m\u001b[0;34m)\u001b[0m\u001b[0;34m\u001b[0m\u001b[0;34m\u001b[0m\u001b[0m\n\u001b[0;32m----> 6\u001b[0;31m     \u001b[0max\u001b[0m \u001b[0;34m=\u001b[0m \u001b[0msns\u001b[0m\u001b[0;34m.\u001b[0m\u001b[0mbarplot\u001b[0m\u001b[0;34m(\u001b[0m\u001b[0mx\u001b[0m\u001b[0;34m=\u001b[0m\u001b[0;34m\"model\"\u001b[0m\u001b[0;34m,\u001b[0m \u001b[0my\u001b[0m\u001b[0;34m=\u001b[0m\u001b[0mxXx\u001b[0m\u001b[0;34m,\u001b[0m \u001b[0mdata\u001b[0m\u001b[0;34m=\u001b[0m\u001b[0mdf\u001b[0m\u001b[0;34m)\u001b[0m\u001b[0;34m.\u001b[0m\u001b[0mset_title\u001b[0m\u001b[0;34m(\u001b[0m\u001b[0myYy\u001b[0m \u001b[0;34m,\u001b[0m \u001b[0;34m\" - Model Comparaison\"\u001b[0m\u001b[0;34m)\u001b[0m\u001b[0;34m\u001b[0m\u001b[0;34m\u001b[0m\u001b[0m\n\u001b[0m",
      "\u001b[0;32m~/opt/anaconda3/lib/python3.8/site-packages/matplotlib/axes/_axes.py\u001b[0m in \u001b[0;36mset_title\u001b[0;34m(self, label, fontdict, loc, pad, y, **kwargs)\u001b[0m\n\u001b[1;32m    190\u001b[0m         \u001b[0mtitle\u001b[0m\u001b[0;34m.\u001b[0m\u001b[0mupdate\u001b[0m\u001b[0;34m(\u001b[0m\u001b[0mdefault\u001b[0m\u001b[0;34m)\u001b[0m\u001b[0;34m\u001b[0m\u001b[0;34m\u001b[0m\u001b[0m\n\u001b[1;32m    191\u001b[0m         \u001b[0;32mif\u001b[0m \u001b[0mfontdict\u001b[0m \u001b[0;32mis\u001b[0m \u001b[0;32mnot\u001b[0m \u001b[0;32mNone\u001b[0m\u001b[0;34m:\u001b[0m\u001b[0;34m\u001b[0m\u001b[0;34m\u001b[0m\u001b[0m\n\u001b[0;32m--> 192\u001b[0;31m             \u001b[0mtitle\u001b[0m\u001b[0;34m.\u001b[0m\u001b[0mupdate\u001b[0m\u001b[0;34m(\u001b[0m\u001b[0mfontdict\u001b[0m\u001b[0;34m)\u001b[0m\u001b[0;34m\u001b[0m\u001b[0;34m\u001b[0m\u001b[0m\n\u001b[0m\u001b[1;32m    193\u001b[0m         \u001b[0mtitle\u001b[0m\u001b[0;34m.\u001b[0m\u001b[0mupdate\u001b[0m\u001b[0;34m(\u001b[0m\u001b[0mkwargs\u001b[0m\u001b[0;34m)\u001b[0m\u001b[0;34m\u001b[0m\u001b[0;34m\u001b[0m\u001b[0m\n\u001b[1;32m    194\u001b[0m         \u001b[0;32mreturn\u001b[0m \u001b[0mtitle\u001b[0m\u001b[0;34m\u001b[0m\u001b[0;34m\u001b[0m\u001b[0m\n",
      "\u001b[0;32m~/opt/anaconda3/lib/python3.8/site-packages/matplotlib/text.py\u001b[0m in \u001b[0;36mupdate\u001b[0;34m(self, kwargs)\u001b[0m\n\u001b[1;32m    170\u001b[0m         \u001b[0msentinel\u001b[0m \u001b[0;34m=\u001b[0m \u001b[0mobject\u001b[0m\u001b[0;34m(\u001b[0m\u001b[0;34m)\u001b[0m  \u001b[0;31m# bbox can be None, so use another sentinel.\u001b[0m\u001b[0;34m\u001b[0m\u001b[0;34m\u001b[0m\u001b[0m\n\u001b[1;32m    171\u001b[0m         \u001b[0;31m# Update fontproperties first, as it has lowest priority.\u001b[0m\u001b[0;34m\u001b[0m\u001b[0;34m\u001b[0m\u001b[0;34m\u001b[0m\u001b[0m\n\u001b[0;32m--> 172\u001b[0;31m         \u001b[0mfontproperties\u001b[0m \u001b[0;34m=\u001b[0m \u001b[0mkwargs\u001b[0m\u001b[0;34m.\u001b[0m\u001b[0mpop\u001b[0m\u001b[0;34m(\u001b[0m\u001b[0;34m\"fontproperties\"\u001b[0m\u001b[0;34m,\u001b[0m \u001b[0msentinel\u001b[0m\u001b[0;34m)\u001b[0m\u001b[0;34m\u001b[0m\u001b[0;34m\u001b[0m\u001b[0m\n\u001b[0m\u001b[1;32m    173\u001b[0m         \u001b[0;32mif\u001b[0m \u001b[0mfontproperties\u001b[0m \u001b[0;32mis\u001b[0m \u001b[0;32mnot\u001b[0m \u001b[0msentinel\u001b[0m\u001b[0;34m:\u001b[0m\u001b[0;34m\u001b[0m\u001b[0;34m\u001b[0m\u001b[0m\n\u001b[1;32m    174\u001b[0m             \u001b[0mself\u001b[0m\u001b[0;34m.\u001b[0m\u001b[0mset_fontproperties\u001b[0m\u001b[0;34m(\u001b[0m\u001b[0mfontproperties\u001b[0m\u001b[0;34m)\u001b[0m\u001b[0;34m\u001b[0m\u001b[0;34m\u001b[0m\u001b[0m\n",
      "\u001b[0;31mAttributeError\u001b[0m: 'str' object has no attribute 'pop'"
     ]
    },
    {
     "data": {
      "image/png": "[encoded data removed]",
      "text/plain": [
       "<Figure size 842.4x595.44 with 1 Axes>"
      ]
     },
     "metadata": {},
     "output_type": "display_data"
    },
    {
     "name": "stdout",
     "output_type": "stream",
     "text": [
      "time: 268 ms (started: 2022-01-02 18:19:15 +01:00)\n"
     ]
    }
   ],
   "source": [
    "_graph_('Timing', 'EXECUTION TIME')"
   ]
  },
  {
   "cell_type": "code",
   "execution_count": 53,
   "metadata": {},
   "outputs": [
    {
     "name": "stdout",
     "output_type": "stream",
     "text": [
      "OneVsRestClassifier(estimator=SGDClassifier(alpha=1e-05, loss='log'))\n",
      "time: 1.72 ms (started: 2022-01-02 18:19:34 +01:00)\n"
     ]
    }
   ],
   "source": [
    "print(clf_1)"
   ]
  },
  {
   "cell_type": "code",
   "execution_count": null,
   "metadata": {},
   "outputs": [],
   "source": [
    "_len_ = y_test.shape[0]\n",
    "\n",
    "\n",
    "lst_mod = [clf_1, clf_2,clf_3,clf_4,clf_5]\n",
    "for xXx in lst_mod:\n",
    "    print(xXx)\n",
    "    y_proba_df = xXx.predict_proba(X_test)\n",
    "    y_pred_df = pd.DataFrame(y_proba_df, columns=[y.columns])\n",
    "    row = []\n",
    "    for i in tqdm(range(_len_)):\n",
    "        _my_score_(i)\n",
    "    eval_df = pd.DataFrame(row, columns=['Pred','Real','Match'])\n",
    "    eval_df['Eval'] = eval_df['Match'] / eval_df['Real']\n",
    "    _eval_val = eval_df.Eval.mean(axis = 0)\n",
    "\n",
    "    print('My Score : ' , _eval_val)\n",
    "\n"
   ]
  },
  {
   "cell_type": "code",
   "execution_count": 54,
   "metadata": {},
   "outputs": [
    {
     "name": "stdout",
     "output_type": "stream",
     "text": [
      "time: 1.52 ms (started: 2022-01-02 18:19:48 +01:00)\n"
     ]
    }
   ],
   "source": [
    "data_my_score = [[\"SGDClassifier - Supervisé\",0.73,0.25, 0.40,0.56, 42, 1.32, 1],\n",
    "[\"LogisticRegression - Supervisé\",0.70,0.14, 0.14, 0.35,23, 1.55, 1],\n",
    "[\"ExtraTreesClassifier - Supervisé\",0.42,0.01,0.01, 0.01,0.11, 1.92, 20],\n",
    "[\"RandomForestClassifier - Supervisé\",0.47,0.02, 0.021, 0.07,3.88, 1.85, 60],\n",
    "[\"LGBMClassifier - Supervisé\",0.58, 0.17, 0.20,0.42, 29,1.48, 20],\n",
    "[\"SGDClassifier - Semi - NMF\", 0.30, 0.17,0.01,0.10,4,1.54, 1],\n",
    "[\"LogisticRegression - Semi - NMF\",0.29,  0.17,0.00,0.00,0.30,1.58, 1],\n",
    "[\"ExtraTreesClassifier - Semi - NMF\", 0.29, 0.17,0.03, 0.18,8,1.56, 1],\n",
    "[\"RandomForestClassifier - Semi - NMF\", 0.31, 0.18,0.03, 0.19,9,1.52, 1],\n",
    "[\"LGBMClassifier - Semi - NMF\",0.32, 0.17,0.04,0.19,9,1.57, 1],\n",
    "[\"SGDClassifier - Semi - LDA\",0.21,0.16,0.00,0.03,1, 1.60,1],\n",
    "[\"LogisticRegression - Semi - LDA\", 0.26,0.16,0.00,0.03,1, 1.6,1],\n",
    "[\"ExtraTreesClassifier - Semi - LDA\",0.15,0.09,0.03,0.07,4,2.33,1],\n",
    "[\"RandomForestClassifier - Semi - LDA\",0.16,0.13,0.02,0.07,3,1.91,1],\n",
    "[\"LGBMClassifier - Semi - LDA\",0.20,0.14,0.01,0.05,2,1.77,1]]"
   ]
  },
  {
   "cell_type": "code",
   "execution_count": 55,
   "metadata": {},
   "outputs": [
    {
     "data": {
      "text/html": [
       "<div>\n",
       "<style scoped>\n",
       "    .dataframe tbody tr th:only-of-type {\n",
       "        vertical-align: middle;\n",
       "    }\n",
       "\n",
       "    .dataframe tbody tr th {\n",
       "        vertical-align: top;\n",
       "    }\n",
       "\n",
       "    .dataframe thead th {\n",
       "        text-align: right;\n",
       "    }\n",
       "</style>\n",
       "<table border=\"1\" class=\"dataframe\">\n",
       "  <thead>\n",
       "    <tr style=\"text-align: right;\">\n",
       "      <th></th>\n",
       "      <th>model</th>\n",
       "      <th>My_score</th>\n",
       "      <th>Acc</th>\n",
       "      <th>f1_Macro</th>\n",
       "      <th>f1_Micro</th>\n",
       "      <th>Jaccard</th>\n",
       "      <th>Hamming</th>\n",
       "      <th>Timing</th>\n",
       "    </tr>\n",
       "  </thead>\n",
       "  <tbody>\n",
       "    <tr>\n",
       "      <th>0</th>\n",
       "      <td>SGDClassifier - Supervisé</td>\n",
       "      <td>0.73</td>\n",
       "      <td>0.25</td>\n",
       "      <td>0.400</td>\n",
       "      <td>0.56</td>\n",
       "      <td>42.00</td>\n",
       "      <td>1.32</td>\n",
       "      <td>1</td>\n",
       "    </tr>\n",
       "    <tr>\n",
       "      <th>1</th>\n",
       "      <td>LogisticRegression - Supervisé</td>\n",
       "      <td>0.70</td>\n",
       "      <td>0.14</td>\n",
       "      <td>0.140</td>\n",
       "      <td>0.35</td>\n",
       "      <td>23.00</td>\n",
       "      <td>1.55</td>\n",
       "      <td>1</td>\n",
       "    </tr>\n",
       "    <tr>\n",
       "      <th>2</th>\n",
       "      <td>ExtraTreesClassifier - Supervisé</td>\n",
       "      <td>0.42</td>\n",
       "      <td>0.01</td>\n",
       "      <td>0.010</td>\n",
       "      <td>0.01</td>\n",
       "      <td>0.11</td>\n",
       "      <td>1.92</td>\n",
       "      <td>20</td>\n",
       "    </tr>\n",
       "    <tr>\n",
       "      <th>3</th>\n",
       "      <td>RandomForestClassifier - Supervisé</td>\n",
       "      <td>0.47</td>\n",
       "      <td>0.02</td>\n",
       "      <td>0.021</td>\n",
       "      <td>0.07</td>\n",
       "      <td>3.88</td>\n",
       "      <td>1.85</td>\n",
       "      <td>60</td>\n",
       "    </tr>\n",
       "    <tr>\n",
       "      <th>4</th>\n",
       "      <td>LGBMClassifier - Supervisé</td>\n",
       "      <td>0.58</td>\n",
       "      <td>0.17</td>\n",
       "      <td>0.200</td>\n",
       "      <td>0.42</td>\n",
       "      <td>29.00</td>\n",
       "      <td>1.48</td>\n",
       "      <td>20</td>\n",
       "    </tr>\n",
       "    <tr>\n",
       "      <th>5</th>\n",
       "      <td>SGDClassifier - Semi - NMF</td>\n",
       "      <td>0.30</td>\n",
       "      <td>0.17</td>\n",
       "      <td>0.010</td>\n",
       "      <td>0.10</td>\n",
       "      <td>4.00</td>\n",
       "      <td>1.54</td>\n",
       "      <td>1</td>\n",
       "    </tr>\n",
       "    <tr>\n",
       "      <th>6</th>\n",
       "      <td>LogisticRegression - Semi - NMF</td>\n",
       "      <td>0.29</td>\n",
       "      <td>0.17</td>\n",
       "      <td>0.000</td>\n",
       "      <td>0.00</td>\n",
       "      <td>0.30</td>\n",
       "      <td>1.58</td>\n",
       "      <td>1</td>\n",
       "    </tr>\n",
       "    <tr>\n",
       "      <th>7</th>\n",
       "      <td>ExtraTreesClassifier - Semi - NMF</td>\n",
       "      <td>0.29</td>\n",
       "      <td>0.17</td>\n",
       "      <td>0.030</td>\n",
       "      <td>0.18</td>\n",
       "      <td>8.00</td>\n",
       "      <td>1.56</td>\n",
       "      <td>1</td>\n",
       "    </tr>\n",
       "    <tr>\n",
       "      <th>8</th>\n",
       "      <td>RandomForestClassifier - Semi - NMF</td>\n",
       "      <td>0.31</td>\n",
       "      <td>0.18</td>\n",
       "      <td>0.030</td>\n",
       "      <td>0.19</td>\n",
       "      <td>9.00</td>\n",
       "      <td>1.52</td>\n",
       "      <td>1</td>\n",
       "    </tr>\n",
       "    <tr>\n",
       "      <th>9</th>\n",
       "      <td>LGBMClassifier - Semi - NMF</td>\n",
       "      <td>0.32</td>\n",
       "      <td>0.17</td>\n",
       "      <td>0.040</td>\n",
       "      <td>0.19</td>\n",
       "      <td>9.00</td>\n",
       "      <td>1.57</td>\n",
       "      <td>1</td>\n",
       "    </tr>\n",
       "    <tr>\n",
       "      <th>10</th>\n",
       "      <td>SGDClassifier - Semi - LDA</td>\n",
       "      <td>0.21</td>\n",
       "      <td>0.16</td>\n",
       "      <td>0.000</td>\n",
       "      <td>0.03</td>\n",
       "      <td>1.00</td>\n",
       "      <td>1.60</td>\n",
       "      <td>1</td>\n",
       "    </tr>\n",
       "    <tr>\n",
       "      <th>11</th>\n",
       "      <td>LogisticRegression - Semi - LDA</td>\n",
       "      <td>0.26</td>\n",
       "      <td>0.16</td>\n",
       "      <td>0.000</td>\n",
       "      <td>0.03</td>\n",
       "      <td>1.00</td>\n",
       "      <td>1.60</td>\n",
       "      <td>1</td>\n",
       "    </tr>\n",
       "    <tr>\n",
       "      <th>12</th>\n",
       "      <td>ExtraTreesClassifier - Semi - LDA</td>\n",
       "      <td>0.15</td>\n",
       "      <td>0.09</td>\n",
       "      <td>0.030</td>\n",
       "      <td>0.07</td>\n",
       "      <td>4.00</td>\n",
       "      <td>2.33</td>\n",
       "      <td>1</td>\n",
       "    </tr>\n",
       "    <tr>\n",
       "      <th>13</th>\n",
       "      <td>RandomForestClassifier - Semi - LDA</td>\n",
       "      <td>0.16</td>\n",
       "      <td>0.13</td>\n",
       "      <td>0.020</td>\n",
       "      <td>0.07</td>\n",
       "      <td>3.00</td>\n",
       "      <td>1.91</td>\n",
       "      <td>1</td>\n",
       "    </tr>\n",
       "    <tr>\n",
       "      <th>14</th>\n",
       "      <td>LGBMClassifier - Semi - LDA</td>\n",
       "      <td>0.20</td>\n",
       "      <td>0.14</td>\n",
       "      <td>0.010</td>\n",
       "      <td>0.05</td>\n",
       "      <td>2.00</td>\n",
       "      <td>1.77</td>\n",
       "      <td>1</td>\n",
       "    </tr>\n",
       "  </tbody>\n",
       "</table>\n",
       "</div>"
      ],
      "text/plain": [
       "                                  model  My_score   Acc  f1_Macro  f1_Micro  \\\n",
       "0             SGDClassifier - Supervisé      0.73  0.25     0.400      0.56   \n",
       "1        LogisticRegression - Supervisé      0.70  0.14     0.140      0.35   \n",
       "2      ExtraTreesClassifier - Supervisé      0.42  0.01     0.010      0.01   \n",
       "3    RandomForestClassifier - Supervisé      0.47  0.02     0.021      0.07   \n",
       "4            LGBMClassifier - Supervisé      0.58  0.17     0.200      0.42   \n",
       "5            SGDClassifier - Semi - NMF      0.30  0.17     0.010      0.10   \n",
       "6       LogisticRegression - Semi - NMF      0.29  0.17     0.000      0.00   \n",
       "7     ExtraTreesClassifier - Semi - NMF      0.29  0.17     0.030      0.18   \n",
       "8   RandomForestClassifier - Semi - NMF      0.31  0.18     0.030      0.19   \n",
       "9           LGBMClassifier - Semi - NMF      0.32  0.17     0.040      0.19   \n",
       "10           SGDClassifier - Semi - LDA      0.21  0.16     0.000      0.03   \n",
       "11      LogisticRegression - Semi - LDA      0.26  0.16     0.000      0.03   \n",
       "12    ExtraTreesClassifier - Semi - LDA      0.15  0.09     0.030      0.07   \n",
       "13  RandomForestClassifier - Semi - LDA      0.16  0.13     0.020      0.07   \n",
       "14          LGBMClassifier - Semi - LDA      0.20  0.14     0.010      0.05   \n",
       "\n",
       "    Jaccard  Hamming  Timing  \n",
       "0     42.00     1.32       1  \n",
       "1     23.00     1.55       1  \n",
       "2      0.11     1.92      20  \n",
       "3      3.88     1.85      60  \n",
       "4     29.00     1.48      20  \n",
       "5      4.00     1.54       1  \n",
       "6      0.30     1.58       1  \n",
       "7      8.00     1.56       1  \n",
       "8      9.00     1.52       1  \n",
       "9      9.00     1.57       1  \n",
       "10     1.00     1.60       1  \n",
       "11     1.00     1.60       1  \n",
       "12     4.00     2.33       1  \n",
       "13     3.00     1.91       1  \n",
       "14     2.00     1.77       1  "
      ]
     },
     "execution_count": 55,
     "metadata": {},
     "output_type": "execute_result"
    },
    {
     "name": "stdout",
     "output_type": "stream",
     "text": [
      "time: 26 ms (started: 2022-01-02 18:19:49 +01:00)\n"
     ]
    }
   ],
   "source": [
    "df = pd.DataFrame(data_my_score, columns=['model',\"My_score\",'Acc','f1_Macro','f1_Micro','Jaccard','Hamming','Timing'])\n",
    "df"
   ]
  },
  {
   "cell_type": "code",
   "execution_count": 56,
   "metadata": {},
   "outputs": [
    {
     "name": "stdout",
     "output_type": "stream",
     "text": [
      "time: 866 µs (started: 2022-01-02 18:19:52 +01:00)\n"
     ]
    }
   ],
   "source": [
    "import seaborn as sns\n",
    "\n",
    "def _graph_(xXx,yYy, df):\n",
    "    df = df.sort_values([xXx], ascending=False)\n",
    "    sns.set_theme(style=\"whitegrid\")\n",
    "    sns.set(rc={'figure.figsize':(11.7,8.27)})\n",
    "    plt.xticks(rotation=90)\n",
    "    ax = sns.barplot(x=\"model\", y=xXx, data=df).set_title(yYy , \" - Model Comparaison\")"
   ]
  },
  {
   "cell_type": "code",
   "execution_count": 57,
   "metadata": {},
   "outputs": [
    {
     "ename": "AttributeError",
     "evalue": "'str' object has no attribute 'pop'",
     "output_type": "error",
     "traceback": [
      "\u001b[0;31m---------------------------------------------------------------------------\u001b[0m",
      "\u001b[0;31mAttributeError\u001b[0m                            Traceback (most recent call last)",
      "\u001b[0;32m/var/folders/nk/77tzydc5271b4jt6909jb9m80000gn/T/ipykernel_4405/1244384677.py\u001b[0m in \u001b[0;36m<module>\u001b[0;34m\u001b[0m\n\u001b[0;32m----> 1\u001b[0;31m \u001b[0m_graph_\u001b[0m\u001b[0;34m(\u001b[0m\u001b[0;34m'My_score'\u001b[0m\u001b[0;34m,\u001b[0m \u001b[0;34m'MY_SCORE'\u001b[0m\u001b[0;34m,\u001b[0m \u001b[0mdf\u001b[0m\u001b[0;34m)\u001b[0m\u001b[0;34m\u001b[0m\u001b[0;34m\u001b[0m\u001b[0m\n\u001b[0m",
      "\u001b[0;32m/var/folders/nk/77tzydc5271b4jt6909jb9m80000gn/T/ipykernel_4405/4140445630.py\u001b[0m in \u001b[0;36m_graph_\u001b[0;34m(xXx, yYy, df)\u001b[0m\n\u001b[1;32m      6\u001b[0m     \u001b[0msns\u001b[0m\u001b[0;34m.\u001b[0m\u001b[0mset\u001b[0m\u001b[0;34m(\u001b[0m\u001b[0mrc\u001b[0m\u001b[0;34m=\u001b[0m\u001b[0;34m{\u001b[0m\u001b[0;34m'figure.figsize'\u001b[0m\u001b[0;34m:\u001b[0m\u001b[0;34m(\u001b[0m\u001b[0;36m11.7\u001b[0m\u001b[0;34m,\u001b[0m\u001b[0;36m8.27\u001b[0m\u001b[0;34m)\u001b[0m\u001b[0;34m}\u001b[0m\u001b[0;34m)\u001b[0m\u001b[0;34m\u001b[0m\u001b[0;34m\u001b[0m\u001b[0m\n\u001b[1;32m      7\u001b[0m     \u001b[0mplt\u001b[0m\u001b[0;34m.\u001b[0m\u001b[0mxticks\u001b[0m\u001b[0;34m(\u001b[0m\u001b[0mrotation\u001b[0m\u001b[0;34m=\u001b[0m\u001b[0;36m90\u001b[0m\u001b[0;34m)\u001b[0m\u001b[0;34m\u001b[0m\u001b[0;34m\u001b[0m\u001b[0m\n\u001b[0;32m----> 8\u001b[0;31m     \u001b[0max\u001b[0m \u001b[0;34m=\u001b[0m \u001b[0msns\u001b[0m\u001b[0;34m.\u001b[0m\u001b[0mbarplot\u001b[0m\u001b[0;34m(\u001b[0m\u001b[0mx\u001b[0m\u001b[0;34m=\u001b[0m\u001b[0;34m\"model\"\u001b[0m\u001b[0;34m,\u001b[0m \u001b[0my\u001b[0m\u001b[0;34m=\u001b[0m\u001b[0mxXx\u001b[0m\u001b[0;34m,\u001b[0m \u001b[0mdata\u001b[0m\u001b[0;34m=\u001b[0m\u001b[0mdf\u001b[0m\u001b[0;34m)\u001b[0m\u001b[0;34m.\u001b[0m\u001b[0mset_title\u001b[0m\u001b[0;34m(\u001b[0m\u001b[0myYy\u001b[0m \u001b[0;34m,\u001b[0m \u001b[0;34m\" - Model Comparaison\"\u001b[0m\u001b[0;34m)\u001b[0m\u001b[0;34m\u001b[0m\u001b[0;34m\u001b[0m\u001b[0m\n\u001b[0m",
      "\u001b[0;32m~/opt/anaconda3/lib/python3.8/site-packages/matplotlib/axes/_axes.py\u001b[0m in \u001b[0;36mset_title\u001b[0;34m(self, label, fontdict, loc, pad, y, **kwargs)\u001b[0m\n\u001b[1;32m    190\u001b[0m         \u001b[0mtitle\u001b[0m\u001b[0;34m.\u001b[0m\u001b[0mupdate\u001b[0m\u001b[0;34m(\u001b[0m\u001b[0mdefault\u001b[0m\u001b[0;34m)\u001b[0m\u001b[0;34m\u001b[0m\u001b[0;34m\u001b[0m\u001b[0m\n\u001b[1;32m    191\u001b[0m         \u001b[0;32mif\u001b[0m \u001b[0mfontdict\u001b[0m \u001b[0;32mis\u001b[0m \u001b[0;32mnot\u001b[0m \u001b[0;32mNone\u001b[0m\u001b[0;34m:\u001b[0m\u001b[0;34m\u001b[0m\u001b[0;34m\u001b[0m\u001b[0m\n\u001b[0;32m--> 192\u001b[0;31m             \u001b[0mtitle\u001b[0m\u001b[0;34m.\u001b[0m\u001b[0mupdate\u001b[0m\u001b[0;34m(\u001b[0m\u001b[0mfontdict\u001b[0m\u001b[0;34m)\u001b[0m\u001b[0;34m\u001b[0m\u001b[0;34m\u001b[0m\u001b[0m\n\u001b[0m\u001b[1;32m    193\u001b[0m         \u001b[0mtitle\u001b[0m\u001b[0;34m.\u001b[0m\u001b[0mupdate\u001b[0m\u001b[0;34m(\u001b[0m\u001b[0mkwargs\u001b[0m\u001b[0;34m)\u001b[0m\u001b[0;34m\u001b[0m\u001b[0;34m\u001b[0m\u001b[0m\n\u001b[1;32m    194\u001b[0m         \u001b[0;32mreturn\u001b[0m \u001b[0mtitle\u001b[0m\u001b[0;34m\u001b[0m\u001b[0;34m\u001b[0m\u001b[0m\n",
      "\u001b[0;32m~/opt/anaconda3/lib/python3.8/site-packages/matplotlib/text.py\u001b[0m in \u001b[0;36mupdate\u001b[0;34m(self, kwargs)\u001b[0m\n\u001b[1;32m    170\u001b[0m         \u001b[0msentinel\u001b[0m \u001b[0;34m=\u001b[0m \u001b[0mobject\u001b[0m\u001b[0;34m(\u001b[0m\u001b[0;34m)\u001b[0m  \u001b[0;31m# bbox can be None, so use another sentinel.\u001b[0m\u001b[0;34m\u001b[0m\u001b[0;34m\u001b[0m\u001b[0m\n\u001b[1;32m    171\u001b[0m         \u001b[0;31m# Update fontproperties first, as it has lowest priority.\u001b[0m\u001b[0;34m\u001b[0m\u001b[0;34m\u001b[0m\u001b[0;34m\u001b[0m\u001b[0m\n\u001b[0;32m--> 172\u001b[0;31m         \u001b[0mfontproperties\u001b[0m \u001b[0;34m=\u001b[0m \u001b[0mkwargs\u001b[0m\u001b[0;34m.\u001b[0m\u001b[0mpop\u001b[0m\u001b[0;34m(\u001b[0m\u001b[0;34m\"fontproperties\"\u001b[0m\u001b[0;34m,\u001b[0m \u001b[0msentinel\u001b[0m\u001b[0;34m)\u001b[0m\u001b[0;34m\u001b[0m\u001b[0;34m\u001b[0m\u001b[0m\n\u001b[0m\u001b[1;32m    173\u001b[0m         \u001b[0;32mif\u001b[0m \u001b[0mfontproperties\u001b[0m \u001b[0;32mis\u001b[0m \u001b[0;32mnot\u001b[0m \u001b[0msentinel\u001b[0m\u001b[0;34m:\u001b[0m\u001b[0;34m\u001b[0m\u001b[0;34m\u001b[0m\u001b[0m\n\u001b[1;32m    174\u001b[0m             \u001b[0mself\u001b[0m\u001b[0;34m.\u001b[0m\u001b[0mset_fontproperties\u001b[0m\u001b[0;34m(\u001b[0m\u001b[0mfontproperties\u001b[0m\u001b[0;34m)\u001b[0m\u001b[0;34m\u001b[0m\u001b[0;34m\u001b[0m\u001b[0m\n",
      "\u001b[0;31mAttributeError\u001b[0m: 'str' object has no attribute 'pop'"
     ]
    },
    {
     "data": {
      "image/png": "[encoded data removed]",
      "text/plain": [
       "<Figure size 842.4x595.44 with 1 Axes>"
      ]
     },
     "metadata": {},
     "output_type": "display_data"
    },
    {
     "name": "stdout",
     "output_type": "stream",
     "text": [
      "time: 435 ms (started: 2022-01-02 18:19:54 +01:00)\n"
     ]
    }
   ],
   "source": [
    "_graph_('My_score', 'MY_SCORE', df)"
   ]
  },
  {
   "cell_type": "code",
   "execution_count": 58,
   "metadata": {},
   "outputs": [
    {
     "ename": "AttributeError",
     "evalue": "'str' object has no attribute 'pop'",
     "output_type": "error",
     "traceback": [
      "\u001b[0;31m---------------------------------------------------------------------------\u001b[0m",
      "\u001b[0;31mAttributeError\u001b[0m                            Traceback (most recent call last)",
      "\u001b[0;32m/var/folders/nk/77tzydc5271b4jt6909jb9m80000gn/T/ipykernel_4405/2332394045.py\u001b[0m in \u001b[0;36m<module>\u001b[0;34m\u001b[0m\n\u001b[0;32m----> 1\u001b[0;31m \u001b[0m_graph_\u001b[0m\u001b[0;34m(\u001b[0m\u001b[0;34m'Acc'\u001b[0m\u001b[0;34m,\u001b[0m \u001b[0;34m'ACCURACY'\u001b[0m\u001b[0;34m,\u001b[0m \u001b[0mdf\u001b[0m\u001b[0;34m)\u001b[0m\u001b[0;34m\u001b[0m\u001b[0;34m\u001b[0m\u001b[0m\n\u001b[0m",
      "\u001b[0;32m/var/folders/nk/77tzydc5271b4jt6909jb9m80000gn/T/ipykernel_4405/4140445630.py\u001b[0m in \u001b[0;36m_graph_\u001b[0;34m(xXx, yYy, df)\u001b[0m\n\u001b[1;32m      6\u001b[0m     \u001b[0msns\u001b[0m\u001b[0;34m.\u001b[0m\u001b[0mset\u001b[0m\u001b[0;34m(\u001b[0m\u001b[0mrc\u001b[0m\u001b[0;34m=\u001b[0m\u001b[0;34m{\u001b[0m\u001b[0;34m'figure.figsize'\u001b[0m\u001b[0;34m:\u001b[0m\u001b[0;34m(\u001b[0m\u001b[0;36m11.7\u001b[0m\u001b[0;34m,\u001b[0m\u001b[0;36m8.27\u001b[0m\u001b[0;34m)\u001b[0m\u001b[0;34m}\u001b[0m\u001b[0;34m)\u001b[0m\u001b[0;34m\u001b[0m\u001b[0;34m\u001b[0m\u001b[0m\n\u001b[1;32m      7\u001b[0m     \u001b[0mplt\u001b[0m\u001b[0;34m.\u001b[0m\u001b[0mxticks\u001b[0m\u001b[0;34m(\u001b[0m\u001b[0mrotation\u001b[0m\u001b[0;34m=\u001b[0m\u001b[0;36m90\u001b[0m\u001b[0;34m)\u001b[0m\u001b[0;34m\u001b[0m\u001b[0;34m\u001b[0m\u001b[0m\n\u001b[0;32m----> 8\u001b[0;31m     \u001b[0max\u001b[0m \u001b[0;34m=\u001b[0m \u001b[0msns\u001b[0m\u001b[0;34m.\u001b[0m\u001b[0mbarplot\u001b[0m\u001b[0;34m(\u001b[0m\u001b[0mx\u001b[0m\u001b[0;34m=\u001b[0m\u001b[0;34m\"model\"\u001b[0m\u001b[0;34m,\u001b[0m \u001b[0my\u001b[0m\u001b[0;34m=\u001b[0m\u001b[0mxXx\u001b[0m\u001b[0;34m,\u001b[0m \u001b[0mdata\u001b[0m\u001b[0;34m=\u001b[0m\u001b[0mdf\u001b[0m\u001b[0;34m)\u001b[0m\u001b[0;34m.\u001b[0m\u001b[0mset_title\u001b[0m\u001b[0;34m(\u001b[0m\u001b[0myYy\u001b[0m \u001b[0;34m,\u001b[0m \u001b[0;34m\" - Model Comparaison\"\u001b[0m\u001b[0;34m)\u001b[0m\u001b[0;34m\u001b[0m\u001b[0;34m\u001b[0m\u001b[0m\n\u001b[0m",
      "\u001b[0;32m~/opt/anaconda3/lib/python3.8/site-packages/matplotlib/axes/_axes.py\u001b[0m in \u001b[0;36mset_title\u001b[0;34m(self, label, fontdict, loc, pad, y, **kwargs)\u001b[0m\n\u001b[1;32m    190\u001b[0m         \u001b[0mtitle\u001b[0m\u001b[0;34m.\u001b[0m\u001b[0mupdate\u001b[0m\u001b[0;34m(\u001b[0m\u001b[0mdefault\u001b[0m\u001b[0;34m)\u001b[0m\u001b[0;34m\u001b[0m\u001b[0;34m\u001b[0m\u001b[0m\n\u001b[1;32m    191\u001b[0m         \u001b[0;32mif\u001b[0m \u001b[0mfontdict\u001b[0m \u001b[0;32mis\u001b[0m \u001b[0;32mnot\u001b[0m \u001b[0;32mNone\u001b[0m\u001b[0;34m:\u001b[0m\u001b[0;34m\u001b[0m\u001b[0;34m\u001b[0m\u001b[0m\n\u001b[0;32m--> 192\u001b[0;31m             \u001b[0mtitle\u001b[0m\u001b[0;34m.\u001b[0m\u001b[0mupdate\u001b[0m\u001b[0;34m(\u001b[0m\u001b[0mfontdict\u001b[0m\u001b[0;34m)\u001b[0m\u001b[0;34m\u001b[0m\u001b[0;34m\u001b[0m\u001b[0m\n\u001b[0m\u001b[1;32m    193\u001b[0m         \u001b[0mtitle\u001b[0m\u001b[0;34m.\u001b[0m\u001b[0mupdate\u001b[0m\u001b[0;34m(\u001b[0m\u001b[0mkwargs\u001b[0m\u001b[0;34m)\u001b[0m\u001b[0;34m\u001b[0m\u001b[0;34m\u001b[0m\u001b[0m\n\u001b[1;32m    194\u001b[0m         \u001b[0;32mreturn\u001b[0m \u001b[0mtitle\u001b[0m\u001b[0;34m\u001b[0m\u001b[0;34m\u001b[0m\u001b[0m\n",
      "\u001b[0;32m~/opt/anaconda3/lib/python3.8/site-packages/matplotlib/text.py\u001b[0m in \u001b[0;36mupdate\u001b[0;34m(self, kwargs)\u001b[0m\n\u001b[1;32m    170\u001b[0m         \u001b[0msentinel\u001b[0m \u001b[0;34m=\u001b[0m \u001b[0mobject\u001b[0m\u001b[0;34m(\u001b[0m\u001b[0;34m)\u001b[0m  \u001b[0;31m# bbox can be None, so use another sentinel.\u001b[0m\u001b[0;34m\u001b[0m\u001b[0;34m\u001b[0m\u001b[0m\n\u001b[1;32m    171\u001b[0m         \u001b[0;31m# Update fontproperties first, as it has lowest priority.\u001b[0m\u001b[0;34m\u001b[0m\u001b[0;34m\u001b[0m\u001b[0;34m\u001b[0m\u001b[0m\n\u001b[0;32m--> 172\u001b[0;31m         \u001b[0mfontproperties\u001b[0m \u001b[0;34m=\u001b[0m \u001b[0mkwargs\u001b[0m\u001b[0;34m.\u001b[0m\u001b[0mpop\u001b[0m\u001b[0;34m(\u001b[0m\u001b[0;34m\"fontproperties\"\u001b[0m\u001b[0;34m,\u001b[0m \u001b[0msentinel\u001b[0m\u001b[0;34m)\u001b[0m\u001b[0;34m\u001b[0m\u001b[0;34m\u001b[0m\u001b[0m\n\u001b[0m\u001b[1;32m    173\u001b[0m         \u001b[0;32mif\u001b[0m \u001b[0mfontproperties\u001b[0m \u001b[0;32mis\u001b[0m \u001b[0;32mnot\u001b[0m \u001b[0msentinel\u001b[0m\u001b[0;34m:\u001b[0m\u001b[0;34m\u001b[0m\u001b[0;34m\u001b[0m\u001b[0m\n\u001b[1;32m    174\u001b[0m             \u001b[0mself\u001b[0m\u001b[0;34m.\u001b[0m\u001b[0mset_fontproperties\u001b[0m\u001b[0;34m(\u001b[0m\u001b[0mfontproperties\u001b[0m\u001b[0;34m)\u001b[0m\u001b[0;34m\u001b[0m\u001b[0;34m\u001b[0m\u001b[0m\n",
      "\u001b[0;31mAttributeError\u001b[0m: 'str' object has no attribute 'pop'"
     ]
    },
    {
     "data": {
      "image/png": "[encoded data removed]",
      "text/plain": [
       "<Figure size 842.4x595.44 with 1 Axes>"
      ]
     },
     "metadata": {},
     "output_type": "display_data"
    },
    {
     "name": "stdout",
     "output_type": "stream",
     "text": [
      "time: 480 ms (started: 2022-01-02 18:19:54 +01:00)\n"
     ]
    }
   ],
   "source": [
    "_graph_('Acc', 'ACCURACY', df)"
   ]
  },
  {
   "cell_type": "code",
   "execution_count": 59,
   "metadata": {},
   "outputs": [
    {
     "ename": "AttributeError",
     "evalue": "'str' object has no attribute 'pop'",
     "output_type": "error",
     "traceback": [
      "\u001b[0;31m---------------------------------------------------------------------------\u001b[0m",
      "\u001b[0;31mAttributeError\u001b[0m                            Traceback (most recent call last)",
      "\u001b[0;32m/var/folders/nk/77tzydc5271b4jt6909jb9m80000gn/T/ipykernel_4405/3648758146.py\u001b[0m in \u001b[0;36m<module>\u001b[0;34m\u001b[0m\n\u001b[0;32m----> 1\u001b[0;31m \u001b[0m_graph_\u001b[0m\u001b[0;34m(\u001b[0m\u001b[0;34m'Jaccard'\u001b[0m\u001b[0;34m,\u001b[0m \u001b[0;34m'JACCARD INDEX'\u001b[0m\u001b[0;34m,\u001b[0m \u001b[0mdf\u001b[0m\u001b[0;34m)\u001b[0m\u001b[0;34m\u001b[0m\u001b[0;34m\u001b[0m\u001b[0m\n\u001b[0m",
      "\u001b[0;32m/var/folders/nk/77tzydc5271b4jt6909jb9m80000gn/T/ipykernel_4405/4140445630.py\u001b[0m in \u001b[0;36m_graph_\u001b[0;34m(xXx, yYy, df)\u001b[0m\n\u001b[1;32m      6\u001b[0m     \u001b[0msns\u001b[0m\u001b[0;34m.\u001b[0m\u001b[0mset\u001b[0m\u001b[0;34m(\u001b[0m\u001b[0mrc\u001b[0m\u001b[0;34m=\u001b[0m\u001b[0;34m{\u001b[0m\u001b[0;34m'figure.figsize'\u001b[0m\u001b[0;34m:\u001b[0m\u001b[0;34m(\u001b[0m\u001b[0;36m11.7\u001b[0m\u001b[0;34m,\u001b[0m\u001b[0;36m8.27\u001b[0m\u001b[0;34m)\u001b[0m\u001b[0;34m}\u001b[0m\u001b[0;34m)\u001b[0m\u001b[0;34m\u001b[0m\u001b[0;34m\u001b[0m\u001b[0m\n\u001b[1;32m      7\u001b[0m     \u001b[0mplt\u001b[0m\u001b[0;34m.\u001b[0m\u001b[0mxticks\u001b[0m\u001b[0;34m(\u001b[0m\u001b[0mrotation\u001b[0m\u001b[0;34m=\u001b[0m\u001b[0;36m90\u001b[0m\u001b[0;34m)\u001b[0m\u001b[0;34m\u001b[0m\u001b[0;34m\u001b[0m\u001b[0m\n\u001b[0;32m----> 8\u001b[0;31m     \u001b[0max\u001b[0m \u001b[0;34m=\u001b[0m \u001b[0msns\u001b[0m\u001b[0;34m.\u001b[0m\u001b[0mbarplot\u001b[0m\u001b[0;34m(\u001b[0m\u001b[0mx\u001b[0m\u001b[0;34m=\u001b[0m\u001b[0;34m\"model\"\u001b[0m\u001b[0;34m,\u001b[0m \u001b[0my\u001b[0m\u001b[0;34m=\u001b[0m\u001b[0mxXx\u001b[0m\u001b[0;34m,\u001b[0m \u001b[0mdata\u001b[0m\u001b[0;34m=\u001b[0m\u001b[0mdf\u001b[0m\u001b[0;34m)\u001b[0m\u001b[0;34m.\u001b[0m\u001b[0mset_title\u001b[0m\u001b[0;34m(\u001b[0m\u001b[0myYy\u001b[0m \u001b[0;34m,\u001b[0m \u001b[0;34m\" - Model Comparaison\"\u001b[0m\u001b[0;34m)\u001b[0m\u001b[0;34m\u001b[0m\u001b[0;34m\u001b[0m\u001b[0m\n\u001b[0m",
      "\u001b[0;32m~/opt/anaconda3/lib/python3.8/site-packages/matplotlib/axes/_axes.py\u001b[0m in \u001b[0;36mset_title\u001b[0;34m(self, label, fontdict, loc, pad, y, **kwargs)\u001b[0m\n\u001b[1;32m    190\u001b[0m         \u001b[0mtitle\u001b[0m\u001b[0;34m.\u001b[0m\u001b[0mupdate\u001b[0m\u001b[0;34m(\u001b[0m\u001b[0mdefault\u001b[0m\u001b[0;34m)\u001b[0m\u001b[0;34m\u001b[0m\u001b[0;34m\u001b[0m\u001b[0m\n\u001b[1;32m    191\u001b[0m         \u001b[0;32mif\u001b[0m \u001b[0mfontdict\u001b[0m \u001b[0;32mis\u001b[0m \u001b[0;32mnot\u001b[0m \u001b[0;32mNone\u001b[0m\u001b[0;34m:\u001b[0m\u001b[0;34m\u001b[0m\u001b[0;34m\u001b[0m\u001b[0m\n\u001b[0;32m--> 192\u001b[0;31m             \u001b[0mtitle\u001b[0m\u001b[0;34m.\u001b[0m\u001b[0mupdate\u001b[0m\u001b[0;34m(\u001b[0m\u001b[0mfontdict\u001b[0m\u001b[0;34m)\u001b[0m\u001b[0;34m\u001b[0m\u001b[0;34m\u001b[0m\u001b[0m\n\u001b[0m\u001b[1;32m    193\u001b[0m         \u001b[0mtitle\u001b[0m\u001b[0;34m.\u001b[0m\u001b[0mupdate\u001b[0m\u001b[0;34m(\u001b[0m\u001b[0mkwargs\u001b[0m\u001b[0;34m)\u001b[0m\u001b[0;34m\u001b[0m\u001b[0;34m\u001b[0m\u001b[0m\n\u001b[1;32m    194\u001b[0m         \u001b[0;32mreturn\u001b[0m \u001b[0mtitle\u001b[0m\u001b[0;34m\u001b[0m\u001b[0;34m\u001b[0m\u001b[0m\n",
      "\u001b[0;32m~/opt/anaconda3/lib/python3.8/site-packages/matplotlib/text.py\u001b[0m in \u001b[0;36mupdate\u001b[0;34m(self, kwargs)\u001b[0m\n\u001b[1;32m    170\u001b[0m         \u001b[0msentinel\u001b[0m \u001b[0;34m=\u001b[0m \u001b[0mobject\u001b[0m\u001b[0;34m(\u001b[0m\u001b[0;34m)\u001b[0m  \u001b[0;31m# bbox can be None, so use another sentinel.\u001b[0m\u001b[0;34m\u001b[0m\u001b[0;34m\u001b[0m\u001b[0m\n\u001b[1;32m    171\u001b[0m         \u001b[0;31m# Update fontproperties first, as it has lowest priority.\u001b[0m\u001b[0;34m\u001b[0m\u001b[0;34m\u001b[0m\u001b[0;34m\u001b[0m\u001b[0m\n\u001b[0;32m--> 172\u001b[0;31m         \u001b[0mfontproperties\u001b[0m \u001b[0;34m=\u001b[0m \u001b[0mkwargs\u001b[0m\u001b[0;34m.\u001b[0m\u001b[0mpop\u001b[0m\u001b[0;34m(\u001b[0m\u001b[0;34m\"fontproperties\"\u001b[0m\u001b[0;34m,\u001b[0m \u001b[0msentinel\u001b[0m\u001b[0;34m)\u001b[0m\u001b[0;34m\u001b[0m\u001b[0;34m\u001b[0m\u001b[0m\n\u001b[0m\u001b[1;32m    173\u001b[0m         \u001b[0;32mif\u001b[0m \u001b[0mfontproperties\u001b[0m \u001b[0;32mis\u001b[0m \u001b[0;32mnot\u001b[0m \u001b[0msentinel\u001b[0m\u001b[0;34m:\u001b[0m\u001b[0;34m\u001b[0m\u001b[0;34m\u001b[0m\u001b[0m\n\u001b[1;32m    174\u001b[0m             \u001b[0mself\u001b[0m\u001b[0;34m.\u001b[0m\u001b[0mset_fontproperties\u001b[0m\u001b[0;34m(\u001b[0m\u001b[0mfontproperties\u001b[0m\u001b[0;34m)\u001b[0m\u001b[0;34m\u001b[0m\u001b[0;34m\u001b[0m\u001b[0m\n",
      "\u001b[0;31mAttributeError\u001b[0m: 'str' object has no attribute 'pop'"
     ]
    },
    {
     "data": {
      "image/png": "[encoded data removed]",
      "text/plain": [
       "<Figure size 842.4x595.44 with 1 Axes>"
      ]
     },
     "metadata": {},
     "output_type": "display_data"
    },
    {
     "name": "stdout",
     "output_type": "stream",
     "text": [
      "time: 429 ms (started: 2022-01-02 18:19:55 +01:00)\n"
     ]
    }
   ],
   "source": [
    "_graph_('Jaccard', 'JACCARD INDEX', df)"
   ]
  },
  {
   "cell_type": "code",
   "execution_count": 60,
   "metadata": {},
   "outputs": [
    {
     "ename": "AttributeError",
     "evalue": "'str' object has no attribute 'pop'",
     "output_type": "error",
     "traceback": [
      "\u001b[0;31m---------------------------------------------------------------------------\u001b[0m",
      "\u001b[0;31mAttributeError\u001b[0m                            Traceback (most recent call last)",
      "\u001b[0;32m/var/folders/nk/77tzydc5271b4jt6909jb9m80000gn/T/ipykernel_4405/3648758146.py\u001b[0m in \u001b[0;36m<module>\u001b[0;34m\u001b[0m\n\u001b[0;32m----> 1\u001b[0;31m \u001b[0m_graph_\u001b[0m\u001b[0;34m(\u001b[0m\u001b[0;34m'Jaccard'\u001b[0m\u001b[0;34m,\u001b[0m \u001b[0;34m'JACCARD INDEX'\u001b[0m\u001b[0;34m,\u001b[0m \u001b[0mdf\u001b[0m\u001b[0;34m)\u001b[0m\u001b[0;34m\u001b[0m\u001b[0;34m\u001b[0m\u001b[0m\n\u001b[0m",
      "\u001b[0;32m/var/folders/nk/77tzydc5271b4jt6909jb9m80000gn/T/ipykernel_4405/4140445630.py\u001b[0m in \u001b[0;36m_graph_\u001b[0;34m(xXx, yYy, df)\u001b[0m\n\u001b[1;32m      6\u001b[0m     \u001b[0msns\u001b[0m\u001b[0;34m.\u001b[0m\u001b[0mset\u001b[0m\u001b[0;34m(\u001b[0m\u001b[0mrc\u001b[0m\u001b[0;34m=\u001b[0m\u001b[0;34m{\u001b[0m\u001b[0;34m'figure.figsize'\u001b[0m\u001b[0;34m:\u001b[0m\u001b[0;34m(\u001b[0m\u001b[0;36m11.7\u001b[0m\u001b[0;34m,\u001b[0m\u001b[0;36m8.27\u001b[0m\u001b[0;34m)\u001b[0m\u001b[0;34m}\u001b[0m\u001b[0;34m)\u001b[0m\u001b[0;34m\u001b[0m\u001b[0;34m\u001b[0m\u001b[0m\n\u001b[1;32m      7\u001b[0m     \u001b[0mplt\u001b[0m\u001b[0;34m.\u001b[0m\u001b[0mxticks\u001b[0m\u001b[0;34m(\u001b[0m\u001b[0mrotation\u001b[0m\u001b[0;34m=\u001b[0m\u001b[0;36m90\u001b[0m\u001b[0;34m)\u001b[0m\u001b[0;34m\u001b[0m\u001b[0;34m\u001b[0m\u001b[0m\n\u001b[0;32m----> 8\u001b[0;31m     \u001b[0max\u001b[0m \u001b[0;34m=\u001b[0m \u001b[0msns\u001b[0m\u001b[0;34m.\u001b[0m\u001b[0mbarplot\u001b[0m\u001b[0;34m(\u001b[0m\u001b[0mx\u001b[0m\u001b[0;34m=\u001b[0m\u001b[0;34m\"model\"\u001b[0m\u001b[0;34m,\u001b[0m \u001b[0my\u001b[0m\u001b[0;34m=\u001b[0m\u001b[0mxXx\u001b[0m\u001b[0;34m,\u001b[0m \u001b[0mdata\u001b[0m\u001b[0;34m=\u001b[0m\u001b[0mdf\u001b[0m\u001b[0;34m)\u001b[0m\u001b[0;34m.\u001b[0m\u001b[0mset_title\u001b[0m\u001b[0;34m(\u001b[0m\u001b[0myYy\u001b[0m \u001b[0;34m,\u001b[0m \u001b[0;34m\" - Model Comparaison\"\u001b[0m\u001b[0;34m)\u001b[0m\u001b[0;34m\u001b[0m\u001b[0;34m\u001b[0m\u001b[0m\n\u001b[0m",
      "\u001b[0;32m~/opt/anaconda3/lib/python3.8/site-packages/matplotlib/axes/_axes.py\u001b[0m in \u001b[0;36mset_title\u001b[0;34m(self, label, fontdict, loc, pad, y, **kwargs)\u001b[0m\n\u001b[1;32m    190\u001b[0m         \u001b[0mtitle\u001b[0m\u001b[0;34m.\u001b[0m\u001b[0mupdate\u001b[0m\u001b[0;34m(\u001b[0m\u001b[0mdefault\u001b[0m\u001b[0;34m)\u001b[0m\u001b[0;34m\u001b[0m\u001b[0;34m\u001b[0m\u001b[0m\n\u001b[1;32m    191\u001b[0m         \u001b[0;32mif\u001b[0m \u001b[0mfontdict\u001b[0m \u001b[0;32mis\u001b[0m \u001b[0;32mnot\u001b[0m \u001b[0;32mNone\u001b[0m\u001b[0;34m:\u001b[0m\u001b[0;34m\u001b[0m\u001b[0;34m\u001b[0m\u001b[0m\n\u001b[0;32m--> 192\u001b[0;31m             \u001b[0mtitle\u001b[0m\u001b[0;34m.\u001b[0m\u001b[0mupdate\u001b[0m\u001b[0;34m(\u001b[0m\u001b[0mfontdict\u001b[0m\u001b[0;34m)\u001b[0m\u001b[0;34m\u001b[0m\u001b[0;34m\u001b[0m\u001b[0m\n\u001b[0m\u001b[1;32m    193\u001b[0m         \u001b[0mtitle\u001b[0m\u001b[0;34m.\u001b[0m\u001b[0mupdate\u001b[0m\u001b[0;34m(\u001b[0m\u001b[0mkwargs\u001b[0m\u001b[0;34m)\u001b[0m\u001b[0;34m\u001b[0m\u001b[0;34m\u001b[0m\u001b[0m\n\u001b[1;32m    194\u001b[0m         \u001b[0;32mreturn\u001b[0m \u001b[0mtitle\u001b[0m\u001b[0;34m\u001b[0m\u001b[0;34m\u001b[0m\u001b[0m\n",
      "\u001b[0;32m~/opt/anaconda3/lib/python3.8/site-packages/matplotlib/text.py\u001b[0m in \u001b[0;36mupdate\u001b[0;34m(self, kwargs)\u001b[0m\n\u001b[1;32m    170\u001b[0m         \u001b[0msentinel\u001b[0m \u001b[0;34m=\u001b[0m \u001b[0mobject\u001b[0m\u001b[0;34m(\u001b[0m\u001b[0;34m)\u001b[0m  \u001b[0;31m# bbox can be None, so use another sentinel.\u001b[0m\u001b[0;34m\u001b[0m\u001b[0;34m\u001b[0m\u001b[0m\n\u001b[1;32m    171\u001b[0m         \u001b[0;31m# Update fontproperties first, as it has lowest priority.\u001b[0m\u001b[0;34m\u001b[0m\u001b[0;34m\u001b[0m\u001b[0;34m\u001b[0m\u001b[0m\n\u001b[0;32m--> 172\u001b[0;31m         \u001b[0mfontproperties\u001b[0m \u001b[0;34m=\u001b[0m \u001b[0mkwargs\u001b[0m\u001b[0;34m.\u001b[0m\u001b[0mpop\u001b[0m\u001b[0;34m(\u001b[0m\u001b[0;34m\"fontproperties\"\u001b[0m\u001b[0;34m,\u001b[0m \u001b[0msentinel\u001b[0m\u001b[0;34m)\u001b[0m\u001b[0;34m\u001b[0m\u001b[0;34m\u001b[0m\u001b[0m\n\u001b[0m\u001b[1;32m    173\u001b[0m         \u001b[0;32mif\u001b[0m \u001b[0mfontproperties\u001b[0m \u001b[0;32mis\u001b[0m \u001b[0;32mnot\u001b[0m \u001b[0msentinel\u001b[0m\u001b[0;34m:\u001b[0m\u001b[0;34m\u001b[0m\u001b[0;34m\u001b[0m\u001b[0m\n\u001b[1;32m    174\u001b[0m             \u001b[0mself\u001b[0m\u001b[0;34m.\u001b[0m\u001b[0mset_fontproperties\u001b[0m\u001b[0;34m(\u001b[0m\u001b[0mfontproperties\u001b[0m\u001b[0;34m)\u001b[0m\u001b[0;34m\u001b[0m\u001b[0;34m\u001b[0m\u001b[0m\n",
      "\u001b[0;31mAttributeError\u001b[0m: 'str' object has no attribute 'pop'"
     ]
    },
    {
     "data": {
      "image/png": "[encoded data removed]",
      "text/plain": [
       "<Figure size 842.4x595.44 with 1 Axes>"
      ]
     },
     "metadata": {},
     "output_type": "display_data"
    },
    {
     "name": "stdout",
     "output_type": "stream",
     "text": [
      "time: 412 ms (started: 2022-01-02 18:19:56 +01:00)\n"
     ]
    }
   ],
   "source": [
    "_graph_('Jaccard', 'JACCARD INDEX', df)"
   ]
  },
  {
   "cell_type": "code",
   "execution_count": 75,
   "metadata": {},
   "outputs": [
    {
     "ename": "AttributeError",
     "evalue": "'str' object has no attribute 'pop'",
     "output_type": "error",
     "traceback": [
      "\u001b[0;31m---------------------------------------------------------------------------\u001b[0m",
      "\u001b[0;31mAttributeError\u001b[0m                            Traceback (most recent call last)",
      "\u001b[0;32m/var/folders/nk/77tzydc5271b4jt6909jb9m80000gn/T/ipykernel_4405/2657505281.py\u001b[0m in \u001b[0;36m<module>\u001b[0;34m\u001b[0m\n\u001b[0;32m----> 1\u001b[0;31m \u001b[0m_graph_\u001b[0m\u001b[0;34m(\u001b[0m\u001b[0;34m'Hamming'\u001b[0m\u001b[0;34m,\u001b[0m \u001b[0;34m'HAMMING SCORE'\u001b[0m\u001b[0;34m,\u001b[0m \u001b[0mdf\u001b[0m\u001b[0;34m)\u001b[0m\u001b[0;34m\u001b[0m\u001b[0;34m\u001b[0m\u001b[0m\n\u001b[0m",
      "\u001b[0;32m/var/folders/nk/77tzydc5271b4jt6909jb9m80000gn/T/ipykernel_4405/4140445630.py\u001b[0m in \u001b[0;36m_graph_\u001b[0;34m(xXx, yYy, df)\u001b[0m\n\u001b[1;32m      6\u001b[0m     \u001b[0msns\u001b[0m\u001b[0;34m.\u001b[0m\u001b[0mset\u001b[0m\u001b[0;34m(\u001b[0m\u001b[0mrc\u001b[0m\u001b[0;34m=\u001b[0m\u001b[0;34m{\u001b[0m\u001b[0;34m'figure.figsize'\u001b[0m\u001b[0;34m:\u001b[0m\u001b[0;34m(\u001b[0m\u001b[0;36m11.7\u001b[0m\u001b[0;34m,\u001b[0m\u001b[0;36m8.27\u001b[0m\u001b[0;34m)\u001b[0m\u001b[0;34m}\u001b[0m\u001b[0;34m)\u001b[0m\u001b[0;34m\u001b[0m\u001b[0;34m\u001b[0m\u001b[0m\n\u001b[1;32m      7\u001b[0m     \u001b[0mplt\u001b[0m\u001b[0;34m.\u001b[0m\u001b[0mxticks\u001b[0m\u001b[0;34m(\u001b[0m\u001b[0mrotation\u001b[0m\u001b[0;34m=\u001b[0m\u001b[0;36m90\u001b[0m\u001b[0;34m)\u001b[0m\u001b[0;34m\u001b[0m\u001b[0;34m\u001b[0m\u001b[0m\n\u001b[0;32m----> 8\u001b[0;31m     \u001b[0max\u001b[0m \u001b[0;34m=\u001b[0m \u001b[0msns\u001b[0m\u001b[0;34m.\u001b[0m\u001b[0mbarplot\u001b[0m\u001b[0;34m(\u001b[0m\u001b[0mx\u001b[0m\u001b[0;34m=\u001b[0m\u001b[0;34m\"model\"\u001b[0m\u001b[0;34m,\u001b[0m \u001b[0my\u001b[0m\u001b[0;34m=\u001b[0m\u001b[0mxXx\u001b[0m\u001b[0;34m,\u001b[0m \u001b[0mdata\u001b[0m\u001b[0;34m=\u001b[0m\u001b[0mdf\u001b[0m\u001b[0;34m)\u001b[0m\u001b[0;34m.\u001b[0m\u001b[0mset_title\u001b[0m\u001b[0;34m(\u001b[0m\u001b[0myYy\u001b[0m \u001b[0;34m,\u001b[0m \u001b[0;34m\" - Model Comparaison\"\u001b[0m\u001b[0;34m)\u001b[0m\u001b[0;34m\u001b[0m\u001b[0;34m\u001b[0m\u001b[0m\n\u001b[0m",
      "\u001b[0;32m~/opt/anaconda3/lib/python3.8/site-packages/matplotlib/axes/_axes.py\u001b[0m in \u001b[0;36mset_title\u001b[0;34m(self, label, fontdict, loc, pad, y, **kwargs)\u001b[0m\n\u001b[1;32m    190\u001b[0m         \u001b[0mtitle\u001b[0m\u001b[0;34m.\u001b[0m\u001b[0mupdate\u001b[0m\u001b[0;34m(\u001b[0m\u001b[0mdefault\u001b[0m\u001b[0;34m)\u001b[0m\u001b[0;34m\u001b[0m\u001b[0;34m\u001b[0m\u001b[0m\n\u001b[1;32m    191\u001b[0m         \u001b[0;32mif\u001b[0m \u001b[0mfontdict\u001b[0m \u001b[0;32mis\u001b[0m \u001b[0;32mnot\u001b[0m \u001b[0;32mNone\u001b[0m\u001b[0;34m:\u001b[0m\u001b[0;34m\u001b[0m\u001b[0;34m\u001b[0m\u001b[0m\n\u001b[0;32m--> 192\u001b[0;31m             \u001b[0mtitle\u001b[0m\u001b[0;34m.\u001b[0m\u001b[0mupdate\u001b[0m\u001b[0;34m(\u001b[0m\u001b[0mfontdict\u001b[0m\u001b[0;34m)\u001b[0m\u001b[0;34m\u001b[0m\u001b[0;34m\u001b[0m\u001b[0m\n\u001b[0m\u001b[1;32m    193\u001b[0m         \u001b[0mtitle\u001b[0m\u001b[0;34m.\u001b[0m\u001b[0mupdate\u001b[0m\u001b[0;34m(\u001b[0m\u001b[0mkwargs\u001b[0m\u001b[0;34m)\u001b[0m\u001b[0;34m\u001b[0m\u001b[0;34m\u001b[0m\u001b[0m\n\u001b[1;32m    194\u001b[0m         \u001b[0;32mreturn\u001b[0m \u001b[0mtitle\u001b[0m\u001b[0;34m\u001b[0m\u001b[0;34m\u001b[0m\u001b[0m\n",
      "\u001b[0;32m~/opt/anaconda3/lib/python3.8/site-packages/matplotlib/text.py\u001b[0m in \u001b[0;36mupdate\u001b[0;34m(self, kwargs)\u001b[0m\n\u001b[1;32m    170\u001b[0m         \u001b[0msentinel\u001b[0m \u001b[0;34m=\u001b[0m \u001b[0mobject\u001b[0m\u001b[0;34m(\u001b[0m\u001b[0;34m)\u001b[0m  \u001b[0;31m# bbox can be None, so use another sentinel.\u001b[0m\u001b[0;34m\u001b[0m\u001b[0;34m\u001b[0m\u001b[0m\n\u001b[1;32m    171\u001b[0m         \u001b[0;31m# Update fontproperties first, as it has lowest priority.\u001b[0m\u001b[0;34m\u001b[0m\u001b[0;34m\u001b[0m\u001b[0;34m\u001b[0m\u001b[0m\n\u001b[0;32m--> 172\u001b[0;31m         \u001b[0mfontproperties\u001b[0m \u001b[0;34m=\u001b[0m \u001b[0mkwargs\u001b[0m\u001b[0;34m.\u001b[0m\u001b[0mpop\u001b[0m\u001b[0;34m(\u001b[0m\u001b[0;34m\"fontproperties\"\u001b[0m\u001b[0;34m,\u001b[0m \u001b[0msentinel\u001b[0m\u001b[0;34m)\u001b[0m\u001b[0;34m\u001b[0m\u001b[0;34m\u001b[0m\u001b[0m\n\u001b[0m\u001b[1;32m    173\u001b[0m         \u001b[0;32mif\u001b[0m \u001b[0mfontproperties\u001b[0m \u001b[0;32mis\u001b[0m \u001b[0;32mnot\u001b[0m \u001b[0msentinel\u001b[0m\u001b[0;34m:\u001b[0m\u001b[0;34m\u001b[0m\u001b[0;34m\u001b[0m\u001b[0m\n\u001b[1;32m    174\u001b[0m             \u001b[0mself\u001b[0m\u001b[0;34m.\u001b[0m\u001b[0mset_fontproperties\u001b[0m\u001b[0;34m(\u001b[0m\u001b[0mfontproperties\u001b[0m\u001b[0;34m)\u001b[0m\u001b[0;34m\u001b[0m\u001b[0;34m\u001b[0m\u001b[0m\n",
      "\u001b[0;31mAttributeError\u001b[0m: 'str' object has no attribute 'pop'"
     ]
    },
    {
     "data": {
      "image/png": "[encoded data removed]",
      "text/plain": [
       "<Figure size 842.4x595.44 with 1 Axes>"
      ]
     },
     "metadata": {},
     "output_type": "display_data"
    },
    {
     "name": "stdout",
     "output_type": "stream",
     "text": [
      "time: 912 ms (started: 2022-01-03 15:20:19 +01:00)\n"
     ]
    }
   ],
   "source": [
    "_graph_('Hamming', 'HAMMING SCORE', df)"
   ]
  },
  {
   "cell_type": "code",
   "execution_count": 76,
   "metadata": {},
   "outputs": [
    {
     "ename": "AttributeError",
     "evalue": "'str' object has no attribute 'pop'",
     "output_type": "error",
     "traceback": [
      "\u001b[0;31m---------------------------------------------------------------------------\u001b[0m",
      "\u001b[0;31mAttributeError\u001b[0m                            Traceback (most recent call last)",
      "\u001b[0;32m/var/folders/nk/77tzydc5271b4jt6909jb9m80000gn/T/ipykernel_4405/854488436.py\u001b[0m in \u001b[0;36m<module>\u001b[0;34m\u001b[0m\n\u001b[0;32m----> 1\u001b[0;31m \u001b[0m_graph_\u001b[0m\u001b[0;34m(\u001b[0m\u001b[0;34m'Timing'\u001b[0m\u001b[0;34m,\u001b[0m \u001b[0;34m'TIMING'\u001b[0m\u001b[0;34m,\u001b[0m \u001b[0mdf\u001b[0m\u001b[0;34m)\u001b[0m\u001b[0;34m\u001b[0m\u001b[0;34m\u001b[0m\u001b[0m\n\u001b[0m",
      "\u001b[0;32m/var/folders/nk/77tzydc5271b4jt6909jb9m80000gn/T/ipykernel_4405/4140445630.py\u001b[0m in \u001b[0;36m_graph_\u001b[0;34m(xXx, yYy, df)\u001b[0m\n\u001b[1;32m      6\u001b[0m     \u001b[0msns\u001b[0m\u001b[0;34m.\u001b[0m\u001b[0mset\u001b[0m\u001b[0;34m(\u001b[0m\u001b[0mrc\u001b[0m\u001b[0;34m=\u001b[0m\u001b[0;34m{\u001b[0m\u001b[0;34m'figure.figsize'\u001b[0m\u001b[0;34m:\u001b[0m\u001b[0;34m(\u001b[0m\u001b[0;36m11.7\u001b[0m\u001b[0;34m,\u001b[0m\u001b[0;36m8.27\u001b[0m\u001b[0;34m)\u001b[0m\u001b[0;34m}\u001b[0m\u001b[0;34m)\u001b[0m\u001b[0;34m\u001b[0m\u001b[0;34m\u001b[0m\u001b[0m\n\u001b[1;32m      7\u001b[0m     \u001b[0mplt\u001b[0m\u001b[0;34m.\u001b[0m\u001b[0mxticks\u001b[0m\u001b[0;34m(\u001b[0m\u001b[0mrotation\u001b[0m\u001b[0;34m=\u001b[0m\u001b[0;36m90\u001b[0m\u001b[0;34m)\u001b[0m\u001b[0;34m\u001b[0m\u001b[0;34m\u001b[0m\u001b[0m\n\u001b[0;32m----> 8\u001b[0;31m     \u001b[0max\u001b[0m \u001b[0;34m=\u001b[0m \u001b[0msns\u001b[0m\u001b[0;34m.\u001b[0m\u001b[0mbarplot\u001b[0m\u001b[0;34m(\u001b[0m\u001b[0mx\u001b[0m\u001b[0;34m=\u001b[0m\u001b[0;34m\"model\"\u001b[0m\u001b[0;34m,\u001b[0m \u001b[0my\u001b[0m\u001b[0;34m=\u001b[0m\u001b[0mxXx\u001b[0m\u001b[0;34m,\u001b[0m \u001b[0mdata\u001b[0m\u001b[0;34m=\u001b[0m\u001b[0mdf\u001b[0m\u001b[0;34m)\u001b[0m\u001b[0;34m.\u001b[0m\u001b[0mset_title\u001b[0m\u001b[0;34m(\u001b[0m\u001b[0myYy\u001b[0m \u001b[0;34m,\u001b[0m \u001b[0;34m\" - Model Comparaison\"\u001b[0m\u001b[0;34m)\u001b[0m\u001b[0;34m\u001b[0m\u001b[0;34m\u001b[0m\u001b[0m\n\u001b[0m",
      "\u001b[0;32m~/opt/anaconda3/lib/python3.8/site-packages/matplotlib/axes/_axes.py\u001b[0m in \u001b[0;36mset_title\u001b[0;34m(self, label, fontdict, loc, pad, y, **kwargs)\u001b[0m\n\u001b[1;32m    190\u001b[0m         \u001b[0mtitle\u001b[0m\u001b[0;34m.\u001b[0m\u001b[0mupdate\u001b[0m\u001b[0;34m(\u001b[0m\u001b[0mdefault\u001b[0m\u001b[0;34m)\u001b[0m\u001b[0;34m\u001b[0m\u001b[0;34m\u001b[0m\u001b[0m\n\u001b[1;32m    191\u001b[0m         \u001b[0;32mif\u001b[0m \u001b[0mfontdict\u001b[0m \u001b[0;32mis\u001b[0m \u001b[0;32mnot\u001b[0m \u001b[0;32mNone\u001b[0m\u001b[0;34m:\u001b[0m\u001b[0;34m\u001b[0m\u001b[0;34m\u001b[0m\u001b[0m\n\u001b[0;32m--> 192\u001b[0;31m             \u001b[0mtitle\u001b[0m\u001b[0;34m.\u001b[0m\u001b[0mupdate\u001b[0m\u001b[0;34m(\u001b[0m\u001b[0mfontdict\u001b[0m\u001b[0;34m)\u001b[0m\u001b[0;34m\u001b[0m\u001b[0;34m\u001b[0m\u001b[0m\n\u001b[0m\u001b[1;32m    193\u001b[0m         \u001b[0mtitle\u001b[0m\u001b[0;34m.\u001b[0m\u001b[0mupdate\u001b[0m\u001b[0;34m(\u001b[0m\u001b[0mkwargs\u001b[0m\u001b[0;34m)\u001b[0m\u001b[0;34m\u001b[0m\u001b[0;34m\u001b[0m\u001b[0m\n\u001b[1;32m    194\u001b[0m         \u001b[0;32mreturn\u001b[0m \u001b[0mtitle\u001b[0m\u001b[0;34m\u001b[0m\u001b[0;34m\u001b[0m\u001b[0m\n",
      "\u001b[0;32m~/opt/anaconda3/lib/python3.8/site-packages/matplotlib/text.py\u001b[0m in \u001b[0;36mupdate\u001b[0;34m(self, kwargs)\u001b[0m\n\u001b[1;32m    170\u001b[0m         \u001b[0msentinel\u001b[0m \u001b[0;34m=\u001b[0m \u001b[0mobject\u001b[0m\u001b[0;34m(\u001b[0m\u001b[0;34m)\u001b[0m  \u001b[0;31m# bbox can be None, so use another sentinel.\u001b[0m\u001b[0;34m\u001b[0m\u001b[0;34m\u001b[0m\u001b[0m\n\u001b[1;32m    171\u001b[0m         \u001b[0;31m# Update fontproperties first, as it has lowest priority.\u001b[0m\u001b[0;34m\u001b[0m\u001b[0;34m\u001b[0m\u001b[0;34m\u001b[0m\u001b[0m\n\u001b[0;32m--> 172\u001b[0;31m         \u001b[0mfontproperties\u001b[0m \u001b[0;34m=\u001b[0m \u001b[0mkwargs\u001b[0m\u001b[0;34m.\u001b[0m\u001b[0mpop\u001b[0m\u001b[0;34m(\u001b[0m\u001b[0;34m\"fontproperties\"\u001b[0m\u001b[0;34m,\u001b[0m \u001b[0msentinel\u001b[0m\u001b[0;34m)\u001b[0m\u001b[0;34m\u001b[0m\u001b[0;34m\u001b[0m\u001b[0m\n\u001b[0m\u001b[1;32m    173\u001b[0m         \u001b[0;32mif\u001b[0m \u001b[0mfontproperties\u001b[0m \u001b[0;32mis\u001b[0m \u001b[0;32mnot\u001b[0m \u001b[0msentinel\u001b[0m\u001b[0;34m:\u001b[0m\u001b[0;34m\u001b[0m\u001b[0;34m\u001b[0m\u001b[0m\n\u001b[1;32m    174\u001b[0m             \u001b[0mself\u001b[0m\u001b[0;34m.\u001b[0m\u001b[0mset_fontproperties\u001b[0m\u001b[0;34m(\u001b[0m\u001b[0mfontproperties\u001b[0m\u001b[0;34m)\u001b[0m\u001b[0;34m\u001b[0m\u001b[0;34m\u001b[0m\u001b[0m\n",
      "\u001b[0;31mAttributeError\u001b[0m: 'str' object has no attribute 'pop'"
     ]
    },
    {
     "data": {
      "image/png": "[encoded data removed]",
      "text/plain": [
       "<Figure size 842.4x595.44 with 1 Axes>"
      ]
     },
     "metadata": {},
     "output_type": "display_data"
    },
    {
     "name": "stdout",
     "output_type": "stream",
     "text": [
      "time: 546 ms (started: 2022-01-03 15:21:21 +01:00)\n"
     ]
    }
   ],
   "source": [
    "_graph_('Timing', 'TIMING', df)"
   ]
  },
  {
   "cell_type": "code",
   "execution_count": null,
   "metadata": {},
   "outputs": [],
   "source": [
    "_graph_('f1_Micro', 'HAMMING SCORE', df)"
   ]
  },
  {
   "cell_type": "code",
   "execution_count": 62,
   "metadata": {},
   "outputs": [
    {
     "name": "stdout",
     "output_type": "stream",
     "text": [
      "time: 345 µs (started: 2022-01-02 18:19:57 +01:00)\n"
     ]
    }
   ],
   "source": [
    "# Determiner le meilleurs model\n",
    "# Faire un GridSearch\n",
    "# Creer un model avec un max de données\n",
    "# Export\n"
   ]
  },
  {
   "cell_type": "markdown",
   "metadata": {},
   "source": [
    "# My Score"
   ]
  },
  {
   "cell_type": "code",
   "execution_count": 64,
   "metadata": {},
   "outputs": [
    {
     "name": "stdout",
     "output_type": "stream",
     "text": [
      "time: 2.26 ms (started: 2022-01-02 18:25:31 +01:00)\n"
     ]
    }
   ],
   "source": [
    "row = []\n",
    "\n",
    "def _eval_(index):\n",
    "    # ---------------------------------------------\n",
    "    y_pred_df = pd.DataFrame(y_proba_df, columns=[y.columns])\n",
    "    row_pred_1 = pd.DataFrame(y_pred_df.iloc[index])\n",
    "    row_pred_1 = row_pred_1.sort_values(by=[index], ascending=False)\n",
    "    row_pred_2 = row_pred_1.head(3)\n",
    "    row_pred_2 = row_pred_2.reset_index()\n",
    "    row_pred_2.pop(index)\n",
    "    row_pred_2 = row_pred_2.rename(columns={'level_0': \"Find_tag\"})\n",
    "    row_pred_val = row_pred_2.Find_tag.values\n",
    "    row_pred_val = row_pred_val.tolist()\n",
    "    len_pred_val = len(row_pred_val)\n",
    "    # ---------------------------------------------\n",
    "    y_test_1 = pd.DataFrame(y_test).reset_index()\n",
    "    y_test_1.pop('index')\n",
    "    row_test_1 = pd.DataFrame(y_test_1.iloc[index])\n",
    "    row_test_1 = row_test_1[row_test_1[index] > 0]\n",
    "    row_test_1 = row_test_1.reset_index()\n",
    "    row_test_1.pop(index)\n",
    "    row_test_1 = row_test_1.rename(columns={'index': \"Real_tag\"})\n",
    "    row_real_val = row_test_1.Real_tag.values\n",
    "    row_real_val = row_real_val.tolist()\n",
    "    len_real_val = len(row_real_val)\n",
    "    # -------------------------------------------\n",
    "    compare = set(row_pred_val) & set(row_real_val)\n",
    "    len_compare_ok  = len(compare)\n",
    "    # -------------------------------------------\n",
    "    row.append([len_pred_val,len_real_val,len_compare_ok])\n"
   ]
  },
  {
   "cell_type": "code",
   "execution_count": 65,
   "metadata": {},
   "outputs": [
    {
     "name": "stdout",
     "output_type": "stream",
     "text": [
      "OneVsRestClassifier(estimator=SGDClassifier(alpha=1e-05, loss='log'))\n"
     ]
    },
    {
     "name": "stderr",
     "output_type": "stream",
     "text": [
      "100%|████████████████████████████████████| 10000/10000 [01:38<00:00, 101.15it/s]"
     ]
    },
    {
     "name": "stdout",
     "output_type": "stream",
     "text": [
      "My Score :  0.738725952380955\n",
      "time: 1min 41s (started: 2022-01-02 18:25:37 +01:00)\n"
     ]
    },
    {
     "name": "stderr",
     "output_type": "stream",
     "text": [
      "\n"
     ]
    }
   ],
   "source": [
    "_len_ = y_test.shape[0]\n",
    "\n",
    "xXx = clf_1\n",
    "print(xXx)\n",
    "y_proba_df = xXx.predict_proba(X_test)\n",
    "y_pred_df = pd.DataFrame(y_proba_df, columns=[y.columns])\n",
    "row = []\n",
    "for i in tqdm(range(_len_)):\n",
    "    _eval_(i)\n",
    "eval_df = pd.DataFrame(row, columns=['Pred','Real','Match'])\n",
    "eval_df['Eval'] = eval_df['Match'] / eval_df['Real']\n",
    "_eval_val = eval_df.Eval.mean(axis = 0)\n",
    "\n",
    "print('My Score : ' , _eval_val)\n",
    "\n"
   ]
  },
  {
   "cell_type": "code",
   "execution_count": 66,
   "metadata": {},
   "outputs": [
    {
     "data": {
      "image/png": "[encoded data removed]",
      "text/plain": [
       "<Figure size 842.4x595.44 with 1 Axes>"
      ]
     },
     "metadata": {},
     "output_type": "display_data"
    },
    {
     "name": "stdout",
     "output_type": "stream",
     "text": [
      "time: 200 ms (started: 2022-01-02 18:27:25 +01:00)\n"
     ]
    }
   ],
   "source": [
    "sns.set_theme(style=\"whitegrid\")\n",
    "ax = sns.boxplot(x=eval_df[\"Eval\"])"
   ]
  },
  {
   "cell_type": "code",
   "execution_count": 67,
   "metadata": {},
   "outputs": [
    {
     "data": {
      "text/plain": [
       "count    10000.000000\n",
       "mean         0.738726\n",
       "std          0.354591\n",
       "min          0.000000\n",
       "25%          0.500000\n",
       "50%          1.000000\n",
       "75%          1.000000\n",
       "max          1.000000\n",
       "Name: Eval, dtype: float64"
      ]
     },
     "execution_count": 67,
     "metadata": {},
     "output_type": "execute_result"
    },
    {
     "name": "stdout",
     "output_type": "stream",
     "text": [
      "time: 13.7 ms (started: 2022-01-02 18:27:25 +01:00)\n"
     ]
    }
   ],
   "source": [
    "eval_df[\"Eval\"].describe()"
   ]
  },
  {
   "cell_type": "markdown",
   "metadata": {},
   "source": [
    "# GridSearchCV"
   ]
  },
  {
   "cell_type": "code",
   "execution_count": 69,
   "metadata": {},
   "outputs": [
    {
     "name": "stdout",
     "output_type": "stream",
     "text": [
      "(10000, 1000)\n",
      "(10000, 1000)\n",
      "(10000, 100)\n",
      "(10000, 100)\n",
      "Fitting 2 folds for each of 6 candidates, totalling 12 fits\n",
      "[CV] estimator__alpha=1e-06 ..........................................\n"
     ]
    },
    {
     "name": "stderr",
     "output_type": "stream",
     "text": [
      "[Parallel(n_jobs=1)]: Using backend SequentialBackend with 1 concurrent workers.\n"
     ]
    },
    {
     "name": "stdout",
     "output_type": "stream",
     "text": [
      "[CV] .............. estimator__alpha=1e-06, score=0.224, total=  42.3s\n",
      "[CV] estimator__alpha=1e-06 ..........................................\n"
     ]
    },
    {
     "name": "stderr",
     "output_type": "stream",
     "text": [
      "[Parallel(n_jobs=1)]: Done   1 out of   1 | elapsed:   42.4s remaining:    0.0s\n"
     ]
    },
    {
     "name": "stdout",
     "output_type": "stream",
     "text": [
      "[CV] .............. estimator__alpha=1e-06, score=0.229, total=  50.5s\n",
      "[CV] estimator__alpha=1e-05 ..........................................\n"
     ]
    },
    {
     "name": "stderr",
     "output_type": "stream",
     "text": [
      "[Parallel(n_jobs=1)]: Done   2 out of   2 | elapsed:  1.5min remaining:    0.0s\n"
     ]
    },
    {
     "name": "stdout",
     "output_type": "stream",
     "text": [
      "[CV] .............. estimator__alpha=1e-05, score=0.229, total=  35.8s\n",
      "[CV] estimator__alpha=1e-05 ..........................................\n"
     ]
    },
    {
     "name": "stderr",
     "output_type": "stream",
     "text": [
      "[Parallel(n_jobs=1)]: Done   3 out of   3 | elapsed:  2.1min remaining:    0.0s\n"
     ]
    },
    {
     "name": "stdout",
     "output_type": "stream",
     "text": [
      "[CV] .............. estimator__alpha=1e-05, score=0.241, total=  37.4s\n",
      "[CV] estimator__alpha=0.0001 .........................................\n"
     ]
    },
    {
     "name": "stderr",
     "output_type": "stream",
     "text": [
      "[Parallel(n_jobs=1)]: Done   4 out of   4 | elapsed:  2.8min remaining:    0.0s\n"
     ]
    },
    {
     "name": "stdout",
     "output_type": "stream",
     "text": [
      "[CV] ............. estimator__alpha=0.0001, score=0.152, total=  30.2s\n",
      "[CV] estimator__alpha=0.0001 .........................................\n"
     ]
    },
    {
     "name": "stderr",
     "output_type": "stream",
     "text": [
      "[Parallel(n_jobs=1)]: Done   5 out of   5 | elapsed:  3.3min remaining:    0.0s\n"
     ]
    },
    {
     "name": "stdout",
     "output_type": "stream",
     "text": [
      "[CV] ............. estimator__alpha=0.0001, score=0.153, total=  31.2s\n",
      "[CV] estimator__alpha=0.001 ..........................................\n"
     ]
    },
    {
     "name": "stderr",
     "output_type": "stream",
     "text": [
      "[Parallel(n_jobs=1)]: Done   6 out of   6 | elapsed:  3.8min remaining:    0.0s\n"
     ]
    },
    {
     "name": "stdout",
     "output_type": "stream",
     "text": [
      "[CV] .............. estimator__alpha=0.001, score=0.003, total=  25.7s\n",
      "[CV] estimator__alpha=0.001 ..........................................\n"
     ]
    },
    {
     "name": "stderr",
     "output_type": "stream",
     "text": [
      "[Parallel(n_jobs=1)]: Done   7 out of   7 | elapsed:  4.2min remaining:    0.0s\n"
     ]
    },
    {
     "name": "stdout",
     "output_type": "stream",
     "text": [
      "[CV] .............. estimator__alpha=0.001, score=0.004, total=  27.4s\n",
      "[CV] estimator__alpha=0.01 ...........................................\n",
      "[CV] ............... estimator__alpha=0.01, score=0.000, total=  23.2s\n",
      "[CV] estimator__alpha=0.01 ...........................................\n",
      "[CV] ............... estimator__alpha=0.01, score=0.000, total=  23.5s\n",
      "[CV] estimator__alpha=0.1 ............................................\n",
      "[CV] ................ estimator__alpha=0.1, score=0.000, total=  24.7s\n",
      "[CV] estimator__alpha=0.1 ............................................\n",
      "[CV] ................ estimator__alpha=0.1, score=0.000, total=  24.6s\n"
     ]
    },
    {
     "name": "stderr",
     "output_type": "stream",
     "text": [
      "[Parallel(n_jobs=1)]: Done  12 out of  12 | elapsed:  6.3min finished\n"
     ]
    },
    {
     "name": "stdout",
     "output_type": "stream",
     "text": [
      "OneVsRestClassifier(estimator=SGDClassifier(alpha=1e-05, loss='log'))\n",
      "0.23509999999999998\n",
      "time: 7min 26s (started: 2022-01-02 18:31:34 +01:00)\n"
     ]
    }
   ],
   "source": [
    "from sklearn.model_selection import GridSearchCV\n",
    "from sklearn.linear_model import LogisticRegression\n",
    "from sklearn.multiclass import OneVsRestClassifier\n",
    "\n",
    "print(X_train.shape)\n",
    "print(X_test.shape)\n",
    "\n",
    "print(y_train.shape)\n",
    "print(y_test.shape)\n",
    "\n",
    "params = {\"estimator__alpha\":[1e-06, 1e-05,1e-04,1e-03,1e-02,1e-01]}\n",
    "\n",
    "log_reg_clf = OneVsRestClassifier(SGDClassifier(loss='log'))\n",
    "\n",
    "logistic_gs = GridSearchCV(log_reg_clf, params ,scoring = 'accuracy', cv=2, verbose = 8, n_jobs=1)\n",
    "\n",
    "logistic_gs.fit(X_train, y_train)\n",
    "\n",
    "print(logistic_gs.best_estimator_)\n",
    "print(logistic_gs.best_score_)"
   ]
  },
  {
   "cell_type": "code",
   "execution_count": 74,
   "metadata": {},
   "outputs": [
    {
     "name": "stdout",
     "output_type": "stream",
     "text": [
      "(10000, 1000)\n",
      "(10000, 1000)\n",
      "(10000, 100)\n",
      "(10000, 100)\n",
      "Fitting 2 folds for each of 7 candidates, totalling 14 fits\n",
      "[CV] estimator__alpha=6e-06 ..........................................\n"
     ]
    },
    {
     "name": "stderr",
     "output_type": "stream",
     "text": [
      "[Parallel(n_jobs=1)]: Using backend SequentialBackend with 1 concurrent workers.\n"
     ]
    },
    {
     "name": "stdout",
     "output_type": "stream",
     "text": [
      "[CV] .............. estimator__alpha=6e-06, score=0.232, total=  18.9s\n",
      "[CV] estimator__alpha=6e-06 ..........................................\n"
     ]
    },
    {
     "name": "stderr",
     "output_type": "stream",
     "text": [
      "[Parallel(n_jobs=1)]: Done   1 out of   1 | elapsed:   18.9s remaining:    0.0s\n"
     ]
    },
    {
     "name": "stdout",
     "output_type": "stream",
     "text": [
      "[CV] .............. estimator__alpha=6e-06, score=0.238, total=  18.1s\n",
      "[CV] estimator__alpha=7e-06 ..........................................\n"
     ]
    },
    {
     "name": "stderr",
     "output_type": "stream",
     "text": [
      "[Parallel(n_jobs=1)]: Done   2 out of   2 | elapsed:   37.0s remaining:    0.0s\n"
     ]
    },
    {
     "name": "stdout",
     "output_type": "stream",
     "text": [
      "[CV] .............. estimator__alpha=7e-06, score=0.235, total=  17.3s\n",
      "[CV] estimator__alpha=7e-06 ..........................................\n"
     ]
    },
    {
     "name": "stderr",
     "output_type": "stream",
     "text": [
      "[Parallel(n_jobs=1)]: Done   3 out of   3 | elapsed:   54.3s remaining:    0.0s\n"
     ]
    },
    {
     "name": "stdout",
     "output_type": "stream",
     "text": [
      "[CV] .............. estimator__alpha=7e-06, score=0.236, total=  17.9s\n",
      "[CV] estimator__alpha=8e-06 ..........................................\n"
     ]
    },
    {
     "name": "stderr",
     "output_type": "stream",
     "text": [
      "[Parallel(n_jobs=1)]: Done   4 out of   4 | elapsed:  1.2min remaining:    0.0s\n"
     ]
    },
    {
     "name": "stdout",
     "output_type": "stream",
     "text": [
      "[CV] .............. estimator__alpha=8e-06, score=0.233, total=  18.1s\n",
      "[CV] estimator__alpha=8e-06 ..........................................\n"
     ]
    },
    {
     "name": "stderr",
     "output_type": "stream",
     "text": [
      "[Parallel(n_jobs=1)]: Done   5 out of   5 | elapsed:  1.5min remaining:    0.0s\n"
     ]
    },
    {
     "name": "stdout",
     "output_type": "stream",
     "text": [
      "[CV] .............. estimator__alpha=8e-06, score=0.246, total=  17.8s\n",
      "[CV] estimator__alpha=9e-06 ..........................................\n"
     ]
    },
    {
     "name": "stderr",
     "output_type": "stream",
     "text": [
      "[Parallel(n_jobs=1)]: Done   6 out of   6 | elapsed:  1.8min remaining:    0.0s\n"
     ]
    },
    {
     "name": "stdout",
     "output_type": "stream",
     "text": [
      "[CV] .............. estimator__alpha=9e-06, score=0.227, total=  17.5s\n",
      "[CV] estimator__alpha=9e-06 ..........................................\n"
     ]
    },
    {
     "name": "stderr",
     "output_type": "stream",
     "text": [
      "[Parallel(n_jobs=1)]: Done   7 out of   7 | elapsed:  2.1min remaining:    0.0s\n"
     ]
    },
    {
     "name": "stdout",
     "output_type": "stream",
     "text": [
      "[CV] .............. estimator__alpha=9e-06, score=0.240, total=  17.4s\n",
      "[CV] estimator__alpha=1e-05 ..........................................\n",
      "[CV] .............. estimator__alpha=1e-05, score=0.236, total=  17.3s\n",
      "[CV] estimator__alpha=1e-05 ..........................................\n",
      "[CV] .............. estimator__alpha=1e-05, score=0.236, total=  17.9s\n",
      "[CV] estimator__alpha=2e-05 ..........................................\n",
      "[CV] .............. estimator__alpha=2e-05, score=0.223, total=  17.3s\n",
      "[CV] estimator__alpha=2e-05 ..........................................\n",
      "[CV] .............. estimator__alpha=2e-05, score=0.227, total=  17.3s\n",
      "[CV] estimator__alpha=3e-05 ..........................................\n",
      "[CV] .............. estimator__alpha=3e-05, score=0.219, total=  16.8s\n",
      "[CV] estimator__alpha=3e-05 ..........................................\n",
      "[CV] .............. estimator__alpha=3e-05, score=0.225, total=  16.8s\n"
     ]
    },
    {
     "name": "stderr",
     "output_type": "stream",
     "text": [
      "[Parallel(n_jobs=1)]: Done  14 out of  14 | elapsed:  4.1min finished\n"
     ]
    },
    {
     "name": "stdout",
     "output_type": "stream",
     "text": [
      "OneVsRestClassifier(estimator=SGDClassifier(alpha=8e-06, loss='log'))\n",
      "0.2395\n",
      "time: 4min 40s (started: 2022-01-02 18:50:38 +01:00)\n"
     ]
    }
   ],
   "source": [
    "from sklearn.model_selection import GridSearchCV\n",
    "from sklearn.linear_model import LogisticRegression\n",
    "from sklearn.multiclass import OneVsRestClassifier\n",
    "\n",
    "print(X_train.shape)\n",
    "print(X_test.shape)\n",
    "\n",
    "print(y_train.shape)\n",
    "print(y_test.shape)\n",
    "\n",
    "params = {\"estimator__alpha\":[6e-06,7e-06,8e-06, 9e-06, 1e-05,2e-05, 3e-05]}\n",
    "\n",
    "log_reg_clf = OneVsRestClassifier(SGDClassifier(loss='log'))\n",
    "\n",
    "logistic_gs = GridSearchCV(log_reg_clf, params ,scoring = 'accuracy', cv=2, verbose = 8, n_jobs=1)\n",
    "\n",
    "logistic_gs.fit(X_train, y_train)\n",
    "\n",
    "print(logistic_gs.best_estimator_)\n",
    "print(logistic_gs.best_score_)"
   ]
  },
  {
   "cell_type": "markdown",
   "metadata": {},
   "source": [
    "# Export"
   ]
  },
  {
   "cell_type": "code",
   "execution_count": null,
   "metadata": {},
   "outputs": [],
   "source": [
    "with open('model.pk', 'wb') as f:\n",
    "    pickle.dump(clf_1, f)"
   ]
  },
  {
   "cell_type": "code",
   "execution_count": null,
   "metadata": {},
   "outputs": [],
   "source": [
    "with open('vect.pk', 'wb') as f:\n",
    "    pickle.dump(clf_1, f)"
   ]
  },
  {
   "cell_type": "code",
   "execution_count": null,
   "metadata": {},
   "outputs": [],
   "source": [
    "with open('svd.pk', 'wb') as f:\n",
    "    pickle.dump(svd, f)"
   ]
  }
 ],
 "metadata": {
  "kernelspec": {
   "display_name": "Python 3 (ipykernel)",
   "language": "python",
   "name": "python3"
  },
  "language_info": {
   "codemirror_mode": {
    "name": "ipython",
    "version": 3
   },
   "file_extension": ".py",
   "mimetype": "text/x-python",
   "name": "python",
   "nbconvert_exporter": "python",
   "pygments_lexer": "ipython3",
   "version": "3.8.5"
  }
 },
 "nbformat": 4,
 "nbformat_minor": 5
}
