{
 "cells": [
  {
   "cell_type": "code",
   "execution_count": 1,
   "id": "d3a1fd20",
   "metadata": {},
   "outputs": [
    {
     "name": "stdout",
     "output_type": "stream",
     "text": [
      "time: 339 µs (started: 2021-12-06 13:49:48 +01:00)\n"
     ]
    }
   ],
   "source": [
    "%load_ext autotime"
   ]
  },
  {
   "cell_type": "code",
   "execution_count": 2,
   "id": "c917f9f8",
   "metadata": {},
   "outputs": [
    {
     "name": "stdout",
     "output_type": "stream",
     "text": [
      "time: 2.63 s (started: 2021-12-06 13:49:48 +01:00)\n"
     ]
    }
   ],
   "source": [
    "import numpy as np\n",
    "import pandas as pd\n",
    "import seaborn as sns\n",
    "import os\n",
    "from bs4 import BeautifulSoup\n",
    "from sklearn.multiclass import OneVsOneClassifier\n",
    "from sklearn.metrics import accuracy_score, classification_report\n",
    "import warnings\n",
    "from sklearn.metrics import confusion_matrix\n",
    "warnings.simplefilter(action='ignore', category=Warning)\n",
    "from sklearn.feature_extraction.text import CountVectorizer\n",
    "import matplotlib.pyplot as plt\n",
    "from sklearn.feature_extraction.text import TfidfVectorizer\n",
    "from sklearn.multiclass import OneVsRestClassifier\n",
    "from sklearn.linear_model import SGDClassifier\n",
    "from sklearn import metrics\n",
    "from tqdm import tqdm\n",
    "from sklearn.metrics import f1_score,precision_score,recall_score\n",
    "from sklearn import svm\n",
    "from sklearn.linear_model import LogisticRegression\n",
    "from sklearn.metrics import f1_score\n",
    "from sklearn.decomposition import LatentDirichletAllocation\n",
    "from sklearn.preprocessing import MultiLabelBinarizer\n",
    "from sklearn.model_selection import train_test_split\n",
    "from sklearn.metrics import hamming_loss\n",
    "from sklearn.ensemble import RandomForestClassifier\n",
    "from sklearn.naive_bayes import GaussianNB"
   ]
  },
  {
   "cell_type": "markdown",
   "id": "a73a7daa",
   "metadata": {},
   "source": [
    "# 1 - Import ----------------------------------------"
   ]
  },
  {
   "cell_type": "code",
   "execution_count": 3,
   "id": "7f0750b2",
   "metadata": {},
   "outputs": [
    {
     "name": "stdout",
     "output_type": "stream",
     "text": [
      "time: 1.54 s (started: 2021-12-06 13:49:51 +01:00)\n"
     ]
    }
   ],
   "source": [
    "lst = []\n",
    "#for i in range (1,11):\n",
    "for i in range (1,3):\n",
    "    path = 'Data/Query_'+ str(i) + '.csv'\n",
    "    mDf = pd.read_csv(path, dtype=str) \n",
    "    mDf = mDf[['Tags', 'Body']]\n",
    "    lst.append(mDf)"
   ]
  },
  {
   "cell_type": "code",
   "execution_count": 4,
   "id": "43ccb1f7",
   "metadata": {},
   "outputs": [
    {
     "name": "stdout",
     "output_type": "stream",
     "text": [
      "(20732, 2)\n",
      "time: 27.3 ms (started: 2021-12-06 13:49:53 +01:00)\n"
     ]
    }
   ],
   "source": [
    "mDf = pd.concat(lst, ignore_index=True)\n",
    "mDf = mDf[mDf['Tags'].notna()]\n",
    "print(mDf.shape)\n",
    "mDf_Body = pd.DataFrame(mDf['Body'])\n",
    "mDf_Tags = pd.DataFrame(mDf['Tags'])"
   ]
  },
  {
   "cell_type": "markdown",
   "id": "2396f64a",
   "metadata": {},
   "source": [
    "# 2 - Cleaning ----------------------------------------"
   ]
  },
  {
   "cell_type": "markdown",
   "id": "bc325bdf",
   "metadata": {},
   "source": [
    "# 2.1 Body\n",
    "### 2.1.1 HTML ---> To String\n",
    "### 2.1.2 Minuscule \n",
    "### 2.1.3 - Caractere non viable \n",
    "### 2.1.4 - Chiffre\n",
    "### 2.1.5 - Ponctuation \n",
    "### 2.1.6 - Lemmatize\n",
    "### 2.1.7 - StopWord"
   ]
  },
  {
   "cell_type": "code",
   "execution_count": 5,
   "id": "ed98f295",
   "metadata": {},
   "outputs": [
    {
     "data": {
      "text/html": [
       "<div>\n",
       "<style scoped>\n",
       "    .dataframe tbody tr th:only-of-type {\n",
       "        vertical-align: middle;\n",
       "    }\n",
       "\n",
       "    .dataframe tbody tr th {\n",
       "        vertical-align: top;\n",
       "    }\n",
       "\n",
       "    .dataframe thead th {\n",
       "        text-align: right;\n",
       "    }\n",
       "</style>\n",
       "<table border=\"1\" class=\"dataframe\">\n",
       "  <thead>\n",
       "    <tr style=\"text-align: right;\">\n",
       "      <th></th>\n",
       "      <th>string_in_HTML</th>\n",
       "    </tr>\n",
       "  </thead>\n",
       "  <tbody>\n",
       "    <tr>\n",
       "      <th>0</th>\n",
       "      <td>This question intends to be technology-agnosti...</td>\n",
       "    </tr>\n",
       "    <tr>\n",
       "      <th>1</th>\n",
       "      <td>In Python, what are metaclasses and what do we...</td>\n",
       "    </tr>\n",
       "  </tbody>\n",
       "</table>\n",
       "</div>"
      ],
      "text/plain": [
       "                                      string_in_HTML\n",
       "0  This question intends to be technology-agnosti...\n",
       "1  In Python, what are metaclasses and what do we..."
      ]
     },
     "execution_count": 5,
     "metadata": {},
     "output_type": "execute_result"
    },
    {
     "name": "stdout",
     "output_type": "stream",
     "text": [
      "time: 10 s (started: 2021-12-06 13:49:53 +01:00)\n"
     ]
    }
   ],
   "source": [
    "mDf_Body['string_in_HTML']=mDf_Body.apply(lambda x: BeautifulSoup(x['Body']).get_text().replace('\\n',' '),axis=1)\n",
    "mDf_Body = pd.DataFrame(mDf_Body['string_in_HTML'])\n",
    "mDf_Body.head(2)"
   ]
  },
  {
   "cell_type": "code",
   "execution_count": 6,
   "id": "c51a8e74",
   "metadata": {},
   "outputs": [
    {
     "name": "stdout",
     "output_type": "stream",
     "text": [
      "time: 345 ms (started: 2021-12-06 13:50:03 +01:00)\n"
     ]
    }
   ],
   "source": [
    "import pandas as pd\n",
    "import numpy as np\n",
    "import string\n",
    "\n",
    "import sys\n",
    "import re\n",
    "from nltk.corpus import stopwords\n",
    "from nltk.stem import WordNetLemmatizer\n",
    "import nltk\n",
    "\n",
    "def data_preprocess(dataframe,xXx, lower=True, ascii_chars=True, no_numbers=True, no_punctuation=True, remove_stopwords=True, lemmatize=True, custom_blank_text='non ascii symbols punctuations numbers'):\n",
    "    # Minuscule\n",
    "    if lower == True:\n",
    "        dataframe['Query_Modified'] = dataframe[xXx].str.lower()\n",
    "    \n",
    "    # Caractere non viable\n",
    "    if ascii_chars == True:                            \n",
    "        dataframe[\"Query_Modified\"] = dataframe[\"Query_Modified\"].apply(lambda x: ''.join([\" \" if i not in string.printable else i for i in x]))\n",
    "    \n",
    "    # Retire chiffre\n",
    "    if no_numbers == True:\n",
    "        dataframe['Query_Modified'] = dataframe['Query_Modified'].str.replace(r'\\d', '')\n",
    "    \n",
    "    #Ponctuation\n",
    "    if no_punctuation == True:\n",
    "        dataframe['Query_Modified'] = dataframe['Query_Modified'].str.replace(r'[^\\w\\s]+', ' ')\n",
    "    \n",
    "    # Retire Stopwords\n",
    "    if remove_stopwords == True:\n",
    "        stop = stopwords.words('english')\n",
    "        \n",
    "        dataframe['Query_Modified'] = dataframe['Query_Modified'].apply(lambda x: ' '.join([word for word in x.split() if word not in (stop)]))\n",
    "    \n",
    "    #Lemmatize\n",
    "    if lemmatize == True:\n",
    "        wnl = WordNetLemmatizer()\n",
    "        def lemmatize_all(sentence):\n",
    "            text = list()\n",
    "            for word, tag in nltk.pos_tag(str.split(sentence)):\n",
    "                if tag.startswith(\"NN\"):\n",
    "                    text.append( wnl.lemmatize(word, pos='n'))\n",
    "                elif tag.startswith('VB'):\n",
    "                    text.append( wnl.lemmatize(word, pos='v'))\n",
    "                elif tag.startswith('JJ'):\n",
    "                    text.append( wnl.lemmatize(word, pos='a'))\n",
    "                else:\n",
    "                    text.append( word)\n",
    "            return ' '.join(text)            \n",
    "\n",
    "        dataframe['Query_Modified'] = dataframe['Query_Modified'].apply(lambda sentence: ' '.join([lemmatize_all(sentence)]))\n",
    "    \n",
    "    #Replacing blanks from ascii characters, punctuations and numbers with custom text\n",
    "    dataframe['Query_Modified'].replace(r'^\\s*$', custom_blank_text, regex=True, inplace = True)\n",
    "    \n",
    "    #Extra Spaces\n",
    "    dataframe['Query_Modified'] = dataframe['Query_Modified'].apply(lambda x: re.sub(\"\\s\\s+\", \" \", str(x.strip())))\n",
    "    \n",
    "    print('Done')\n",
    "    \n",
    "    return dataframe\n"
   ]
  },
  {
   "cell_type": "code",
   "execution_count": 7,
   "id": "9a406387",
   "metadata": {},
   "outputs": [
    {
     "name": "stdout",
     "output_type": "stream",
     "text": [
      "Done\n"
     ]
    },
    {
     "data": {
      "text/html": [
       "<div>\n",
       "<style scoped>\n",
       "    .dataframe tbody tr th:only-of-type {\n",
       "        vertical-align: middle;\n",
       "    }\n",
       "\n",
       "    .dataframe tbody tr th {\n",
       "        vertical-align: top;\n",
       "    }\n",
       "\n",
       "    .dataframe thead th {\n",
       "        text-align: right;\n",
       "    }\n",
       "</style>\n",
       "<table border=\"1\" class=\"dataframe\">\n",
       "  <thead>\n",
       "    <tr style=\"text-align: right;\">\n",
       "      <th></th>\n",
       "      <th>string_in_HTML</th>\n",
       "      <th>Query_Modified</th>\n",
       "    </tr>\n",
       "  </thead>\n",
       "  <tbody>\n",
       "    <tr>\n",
       "      <th>0</th>\n",
       "      <td>This question intends to be technology-agnosti...</td>\n",
       "      <td>question intends technology agnostic kind web ...</td>\n",
       "    </tr>\n",
       "    <tr>\n",
       "      <th>1</th>\n",
       "      <td>In Python, what are metaclasses and what do we...</td>\n",
       "      <td>python metaclasses use</td>\n",
       "    </tr>\n",
       "    <tr>\n",
       "      <th>3</th>\n",
       "      <td>When logging with Log4Net it's very easy to pu...</td>\n",
       "      <td>logging lognet easy put class called log log f...</td>\n",
       "    </tr>\n",
       "    <tr>\n",
       "      <th>19</th>\n",
       "      <td>How can I make a Facebook RSS application that...</td>\n",
       "      <td>make facebook rss application autoupdates prov...</td>\n",
       "    </tr>\n",
       "    <tr>\n",
       "      <th>22</th>\n",
       "      <td>What is a good regular expression that can val...</td>\n",
       "      <td>good regular expression validate text string m...</td>\n",
       "    </tr>\n",
       "    <tr>\n",
       "      <th>...</th>\n",
       "      <td>...</td>\n",
       "      <td>...</td>\n",
       "    </tr>\n",
       "    <tr>\n",
       "      <th>99979</th>\n",
       "      <td>I have a DataTrigger defined in my XAML which ...</td>\n",
       "      <td>datatrigger defined xaml want use several plac...</td>\n",
       "    </tr>\n",
       "    <tr>\n",
       "      <th>99983</th>\n",
       "      <td>I'm starting a new application and looking at ...</td>\n",
       "      <td>starting new application looking using orm par...</td>\n",
       "    </tr>\n",
       "    <tr>\n",
       "      <th>99987</th>\n",
       "      <td>I've been doing some socket programming to tra...</td>\n",
       "      <td>socket programming transmit information across...</td>\n",
       "    </tr>\n",
       "    <tr>\n",
       "      <th>99991</th>\n",
       "      <td>I'm not looking for the whole ACO-ARO implemen...</td>\n",
       "      <td>looking whole aco aro implementation want use ...</td>\n",
       "    </tr>\n",
       "    <tr>\n",
       "      <th>99996</th>\n",
       "      <td>This fails: my @a = (\"a\", \"b\", \"c\", \"d\", \"e\");...</td>\n",
       "      <td>fails b c e h map prefix _ error enough argume...</td>\n",
       "    </tr>\n",
       "  </tbody>\n",
       "</table>\n",
       "<p>20732 rows × 2 columns</p>\n",
       "</div>"
      ],
      "text/plain": [
       "                                          string_in_HTML  \\\n",
       "0      This question intends to be technology-agnosti...   \n",
       "1      In Python, what are metaclasses and what do we...   \n",
       "3      When logging with Log4Net it's very easy to pu...   \n",
       "19     How can I make a Facebook RSS application that...   \n",
       "22     What is a good regular expression that can val...   \n",
       "...                                                  ...   \n",
       "99979  I have a DataTrigger defined in my XAML which ...   \n",
       "99983  I'm starting a new application and looking at ...   \n",
       "99987  I've been doing some socket programming to tra...   \n",
       "99991  I'm not looking for the whole ACO-ARO implemen...   \n",
       "99996  This fails: my @a = (\"a\", \"b\", \"c\", \"d\", \"e\");...   \n",
       "\n",
       "                                          Query_Modified  \n",
       "0      question intends technology agnostic kind web ...  \n",
       "1                                 python metaclasses use  \n",
       "3      logging lognet easy put class called log log f...  \n",
       "19     make facebook rss application autoupdates prov...  \n",
       "22     good regular expression validate text string m...  \n",
       "...                                                  ...  \n",
       "99979  datatrigger defined xaml want use several plac...  \n",
       "99983  starting new application looking using orm par...  \n",
       "99987  socket programming transmit information across...  \n",
       "99991  looking whole aco aro implementation want use ...  \n",
       "99996  fails b c e h map prefix _ error enough argume...  \n",
       "\n",
       "[20732 rows x 2 columns]"
      ]
     },
     "execution_count": 7,
     "metadata": {},
     "output_type": "execute_result"
    },
    {
     "name": "stdout",
     "output_type": "stream",
     "text": [
      "time: 8.74 s (started: 2021-12-06 13:50:03 +01:00)\n"
     ]
    }
   ],
   "source": [
    "data = data_preprocess(mDf_Body, 'string_in_HTML', lower=True, ascii_chars=True, no_numbers=True, no_punctuation=True, remove_stopwords=True, lemmatize=False, custom_blank_text='non ascii symbols punctuations numbers')\n",
    "data"
   ]
  },
  {
   "cell_type": "markdown",
   "id": "14f46c58",
   "metadata": {},
   "source": [
    "# 2.2 Tags\n",
    "### 2.2.1 HTML ---> To String\n",
    "### 2.2.2 Minuscule \n",
    "### 2.2.3 - Caractere non viable \n",
    "### 2.2.4 - Chiffre\n",
    "### 2.2.5 - Ponctuation \n",
    "### 2.2.6 - Lemmatize\n",
    "### 2.2.7 - StopWord"
   ]
  },
  {
   "cell_type": "code",
   "execution_count": 8,
   "id": "6d4587b7",
   "metadata": {},
   "outputs": [
    {
     "name": "stdout",
     "output_type": "stream",
     "text": [
      "Done\n"
     ]
    },
    {
     "data": {
      "text/html": [
       "<div>\n",
       "<style scoped>\n",
       "    .dataframe tbody tr th:only-of-type {\n",
       "        vertical-align: middle;\n",
       "    }\n",
       "\n",
       "    .dataframe tbody tr th {\n",
       "        vertical-align: top;\n",
       "    }\n",
       "\n",
       "    .dataframe thead th {\n",
       "        text-align: right;\n",
       "    }\n",
       "</style>\n",
       "<table border=\"1\" class=\"dataframe\">\n",
       "  <thead>\n",
       "    <tr style=\"text-align: right;\">\n",
       "      <th></th>\n",
       "      <th>Tags</th>\n",
       "    </tr>\n",
       "  </thead>\n",
       "  <tbody>\n",
       "    <tr>\n",
       "      <th>0</th>\n",
       "      <td>web framework</td>\n",
       "    </tr>\n",
       "    <tr>\n",
       "      <th>1</th>\n",
       "      <td>python oop metaclass python class python datam...</td>\n",
       "    </tr>\n",
       "    <tr>\n",
       "      <th>2</th>\n",
       "      <td>c log enterprise library application block</td>\n",
       "    </tr>\n",
       "    <tr>\n",
       "      <th>3</th>\n",
       "      <td>php facebook r</td>\n",
       "    </tr>\n",
       "    <tr>\n",
       "      <th>4</th>\n",
       "      <td>c regex</td>\n",
       "    </tr>\n",
       "    <tr>\n",
       "      <th>...</th>\n",
       "      <td>...</td>\n",
       "    </tr>\n",
       "    <tr>\n",
       "      <th>20727</th>\n",
       "      <td>net wpf xaml datatrigger</td>\n",
       "    </tr>\n",
       "    <tr>\n",
       "      <th>20728</th>\n",
       "      <td>python orm sqlalchemy</td>\n",
       "    </tr>\n",
       "    <tr>\n",
       "      <th>20729</th>\n",
       "      <td>java dataoutputstream</td>\n",
       "    </tr>\n",
       "    <tr>\n",
       "      <th>20730</th>\n",
       "      <td>php authentication cakephp cakephp</td>\n",
       "    </tr>\n",
       "    <tr>\n",
       "      <th>20731</th>\n",
       "      <td>perl hash map</td>\n",
       "    </tr>\n",
       "  </tbody>\n",
       "</table>\n",
       "<p>20732 rows × 1 columns</p>\n",
       "</div>"
      ],
      "text/plain": [
       "                                                    Tags\n",
       "0                                          web framework\n",
       "1      python oop metaclass python class python datam...\n",
       "2             c log enterprise library application block\n",
       "3                                         php facebook r\n",
       "4                                                c regex\n",
       "...                                                  ...\n",
       "20727                           net wpf xaml datatrigger\n",
       "20728                              python orm sqlalchemy\n",
       "20729                              java dataoutputstream\n",
       "20730                 php authentication cakephp cakephp\n",
       "20731                                      perl hash map\n",
       "\n",
       "[20732 rows x 1 columns]"
      ]
     },
     "execution_count": 8,
     "metadata": {},
     "output_type": "execute_result"
    },
    {
     "name": "stdout",
     "output_type": "stream",
     "text": [
      "time: 13.4 s (started: 2021-12-06 13:50:12 +01:00)\n"
     ]
    }
   ],
   "source": [
    "mDf_Tags_1 = mDf_Tags.copy()\n",
    "mDf_Tags_1['Tags'] = mDf_Tags_1['Tags'].str.replace(r'><', ' ')\n",
    "mDf_Tags_1['Tags'] = mDf_Tags_1['Tags'].str.replace(r'<', '')\n",
    "mDf_Tags_1['Tags'] = mDf_Tags_1['Tags'].str.replace(r'>', '')\n",
    "mDf_Tags_2 = data_preprocess(mDf_Tags_1, 'Tags', lower=True, ascii_chars=True, no_numbers=True, no_punctuation=True, remove_stopwords=True, lemmatize=True, custom_blank_text='non ascii symbols punctuations numbers')\n",
    "mDf_Tags_2.pop('Tags')\n",
    "mDf_Tags_2= mDf_Tags_2.rename(columns={'Query_Modified': \"Tags\"})\n",
    "mDf_Tags_2 = mDf_Tags_2.reset_index()\n",
    "mDf_Tags_2.pop('index')\n",
    "mDf_Tags_2"
   ]
  },
  {
   "cell_type": "markdown",
   "id": "0a3cc316",
   "metadata": {},
   "source": [
    "# 3 Concat Body + Tags"
   ]
  },
  {
   "cell_type": "code",
   "execution_count": 75,
   "id": "6720436c",
   "metadata": {},
   "outputs": [
    {
     "data": {
      "text/html": [
       "<div>\n",
       "<style scoped>\n",
       "    .dataframe tbody tr th:only-of-type {\n",
       "        vertical-align: middle;\n",
       "    }\n",
       "\n",
       "    .dataframe tbody tr th {\n",
       "        vertical-align: top;\n",
       "    }\n",
       "\n",
       "    .dataframe thead th {\n",
       "        text-align: right;\n",
       "    }\n",
       "</style>\n",
       "<table border=\"1\" class=\"dataframe\">\n",
       "  <thead>\n",
       "    <tr style=\"text-align: right;\">\n",
       "      <th></th>\n",
       "      <th>Sentence</th>\n",
       "      <th>Labels</th>\n",
       "    </tr>\n",
       "  </thead>\n",
       "  <tbody>\n",
       "    <tr>\n",
       "      <th>0</th>\n",
       "      <td>question intends technology agnostic kind web ...</td>\n",
       "      <td>web framework</td>\n",
       "    </tr>\n",
       "    <tr>\n",
       "      <th>1</th>\n",
       "      <td>python metaclasses use</td>\n",
       "      <td>python oop metaclass python class python datam...</td>\n",
       "    </tr>\n",
       "    <tr>\n",
       "      <th>3</th>\n",
       "      <td>logging lognet easy put class called log log f...</td>\n",
       "      <td>c log enterprise library application block</td>\n",
       "    </tr>\n",
       "    <tr>\n",
       "      <th>19</th>\n",
       "      <td>make facebook rss application autoupdates prov...</td>\n",
       "      <td>php facebook r</td>\n",
       "    </tr>\n",
       "    <tr>\n",
       "      <th>22</th>\n",
       "      <td>good regular expression validate text string m...</td>\n",
       "      <td>c regex</td>\n",
       "    </tr>\n",
       "    <tr>\n",
       "      <th>...</th>\n",
       "      <td>...</td>\n",
       "      <td>...</td>\n",
       "    </tr>\n",
       "    <tr>\n",
       "      <th>99979</th>\n",
       "      <td>datatrigger defined xaml want use several plac...</td>\n",
       "      <td>net wpf xaml datatrigger</td>\n",
       "    </tr>\n",
       "    <tr>\n",
       "      <th>99983</th>\n",
       "      <td>starting new application looking using orm par...</td>\n",
       "      <td>python orm sqlalchemy</td>\n",
       "    </tr>\n",
       "    <tr>\n",
       "      <th>99987</th>\n",
       "      <td>socket programming transmit information across...</td>\n",
       "      <td>java dataoutputstream</td>\n",
       "    </tr>\n",
       "    <tr>\n",
       "      <th>99991</th>\n",
       "      <td>looking whole aco aro implementation want use ...</td>\n",
       "      <td>php authentication cakephp cakephp</td>\n",
       "    </tr>\n",
       "    <tr>\n",
       "      <th>99996</th>\n",
       "      <td>fails b c e h map prefix _ error enough argume...</td>\n",
       "      <td>perl hash map</td>\n",
       "    </tr>\n",
       "  </tbody>\n",
       "</table>\n",
       "<p>20732 rows × 2 columns</p>\n",
       "</div>"
      ],
      "text/plain": [
       "                                                Sentence  \\\n",
       "0      question intends technology agnostic kind web ...   \n",
       "1                                 python metaclasses use   \n",
       "3      logging lognet easy put class called log log f...   \n",
       "19     make facebook rss application autoupdates prov...   \n",
       "22     good regular expression validate text string m...   \n",
       "...                                                  ...   \n",
       "99979  datatrigger defined xaml want use several plac...   \n",
       "99983  starting new application looking using orm par...   \n",
       "99987  socket programming transmit information across...   \n",
       "99991  looking whole aco aro implementation want use ...   \n",
       "99996  fails b c e h map prefix _ error enough argume...   \n",
       "\n",
       "                                                  Labels  \n",
       "0                                          web framework  \n",
       "1      python oop metaclass python class python datam...  \n",
       "3             c log enterprise library application block  \n",
       "19                                        php facebook r  \n",
       "22                                               c regex  \n",
       "...                                                  ...  \n",
       "99979                           net wpf xaml datatrigger  \n",
       "99983                              python orm sqlalchemy  \n",
       "99987                              java dataoutputstream  \n",
       "99991                 php authentication cakephp cakephp  \n",
       "99996                                      perl hash map  \n",
       "\n",
       "[20732 rows x 2 columns]"
      ]
     },
     "execution_count": 75,
     "metadata": {},
     "output_type": "execute_result"
    },
    {
     "name": "stdout",
     "output_type": "stream",
     "text": [
      "time: 1.3 s (started: 2021-12-06 14:35:23 +01:00)\n"
     ]
    }
   ],
   "source": [
    "result = pd.concat([data, mDf_Tags_1], axis=1, ignore_index=True)\n",
    "result_1 = result[[1,2]]\n",
    "result_1 = result_1.rename(columns={1: \"Sentence\", 2:'Labels'})\n",
    "new_df = result_1.copy()\n",
    "new_df"
   ]
  },
  {
   "cell_type": "code",
   "execution_count": 76,
   "id": "bde34ca9",
   "metadata": {},
   "outputs": [
    {
     "name": "stderr",
     "output_type": "stream",
     "text": [
      "100%|██████████| 20732/20732 [00:01<00:00, 13796.09it/s]\n"
     ]
    },
    {
     "data": {
      "text/html": [
       "<div>\n",
       "<style scoped>\n",
       "    .dataframe tbody tr th:only-of-type {\n",
       "        vertical-align: middle;\n",
       "    }\n",
       "\n",
       "    .dataframe tbody tr th {\n",
       "        vertical-align: top;\n",
       "    }\n",
       "\n",
       "    .dataframe thead th {\n",
       "        text-align: right;\n",
       "    }\n",
       "</style>\n",
       "<table border=\"1\" class=\"dataframe\">\n",
       "  <thead>\n",
       "    <tr style=\"text-align: right;\">\n",
       "      <th></th>\n",
       "      <th>New_Tags</th>\n",
       "    </tr>\n",
       "  </thead>\n",
       "  <tbody>\n",
       "    <tr>\n",
       "      <th>0</th>\n",
       "      <td>web framework</td>\n",
       "    </tr>\n",
       "    <tr>\n",
       "      <th>1</th>\n",
       "      <td>python oop metaclass class datamodel</td>\n",
       "    </tr>\n",
       "    <tr>\n",
       "      <th>2</th>\n",
       "      <td>c log enterprise library application block</td>\n",
       "    </tr>\n",
       "    <tr>\n",
       "      <th>3</th>\n",
       "      <td>php facebook r</td>\n",
       "    </tr>\n",
       "    <tr>\n",
       "      <th>4</th>\n",
       "      <td>c regex</td>\n",
       "    </tr>\n",
       "    <tr>\n",
       "      <th>...</th>\n",
       "      <td>...</td>\n",
       "    </tr>\n",
       "    <tr>\n",
       "      <th>20727</th>\n",
       "      <td>net wpf xaml datatrigger</td>\n",
       "    </tr>\n",
       "    <tr>\n",
       "      <th>20728</th>\n",
       "      <td>python orm sqlalchemy</td>\n",
       "    </tr>\n",
       "    <tr>\n",
       "      <th>20729</th>\n",
       "      <td>java dataoutputstream</td>\n",
       "    </tr>\n",
       "    <tr>\n",
       "      <th>20730</th>\n",
       "      <td>php authentication cakephp</td>\n",
       "    </tr>\n",
       "    <tr>\n",
       "      <th>20731</th>\n",
       "      <td>perl hash map</td>\n",
       "    </tr>\n",
       "  </tbody>\n",
       "</table>\n",
       "<p>20732 rows × 1 columns</p>\n",
       "</div>"
      ],
      "text/plain": [
       "                                         New_Tags\n",
       "0                                   web framework\n",
       "1            python oop metaclass class datamodel\n",
       "2      c log enterprise library application block\n",
       "3                                  php facebook r\n",
       "4                                         c regex\n",
       "...                                           ...\n",
       "20727                    net wpf xaml datatrigger\n",
       "20728                       python orm sqlalchemy\n",
       "20729                       java dataoutputstream\n",
       "20730                  php authentication cakephp\n",
       "20731                               perl hash map\n",
       "\n",
       "[20732 rows x 1 columns]"
      ]
     },
     "execution_count": 76,
     "metadata": {},
     "output_type": "execute_result"
    },
    {
     "name": "stdout",
     "output_type": "stream",
     "text": [
      "time: 2.46 s (started: 2021-12-06 14:35:24 +01:00)\n"
     ]
    }
   ],
   "source": [
    "df_lab = pd.DataFrame(new_df['Labels'])\n",
    "df_lab = df_lab.T\n",
    "\n",
    "from collections import OrderedDict\n",
    "\n",
    "new_r = []\n",
    "for i in tqdm(df_lab.columns):\n",
    "    s = df_lab[i].values[0]\n",
    "    t = ' '.join(OrderedDict((w,w) for w in s.split()).keys())\n",
    "    new_r.append(t)\n",
    "    \n",
    "    \n",
    "new_r_df = pd.DataFrame(new_r)\n",
    "\n",
    "new_r_df = new_r_df.rename(columns={0: \"New_Tags\"})\n",
    "new_r_df"
   ]
  },
  {
   "cell_type": "code",
   "execution_count": 77,
   "id": "4fac7676",
   "metadata": {},
   "outputs": [
    {
     "data": {
      "text/html": [
       "<div>\n",
       "<style scoped>\n",
       "    .dataframe tbody tr th:only-of-type {\n",
       "        vertical-align: middle;\n",
       "    }\n",
       "\n",
       "    .dataframe tbody tr th {\n",
       "        vertical-align: top;\n",
       "    }\n",
       "\n",
       "    .dataframe thead th {\n",
       "        text-align: right;\n",
       "    }\n",
       "</style>\n",
       "<table border=\"1\" class=\"dataframe\">\n",
       "  <thead>\n",
       "    <tr style=\"text-align: right;\">\n",
       "      <th></th>\n",
       "      <th>New_Tags</th>\n",
       "      <th>tag_count</th>\n",
       "    </tr>\n",
       "  </thead>\n",
       "  <tbody>\n",
       "    <tr>\n",
       "      <th>0</th>\n",
       "      <td>web framework</td>\n",
       "      <td>2</td>\n",
       "    </tr>\n",
       "    <tr>\n",
       "      <th>1</th>\n",
       "      <td>python oop metaclass class datamodel</td>\n",
       "      <td>5</td>\n",
       "    </tr>\n",
       "    <tr>\n",
       "      <th>2</th>\n",
       "      <td>c log enterprise library application block</td>\n",
       "      <td>6</td>\n",
       "    </tr>\n",
       "    <tr>\n",
       "      <th>3</th>\n",
       "      <td>php facebook r</td>\n",
       "      <td>3</td>\n",
       "    </tr>\n",
       "    <tr>\n",
       "      <th>4</th>\n",
       "      <td>c regex</td>\n",
       "      <td>2</td>\n",
       "    </tr>\n",
       "    <tr>\n",
       "      <th>...</th>\n",
       "      <td>...</td>\n",
       "      <td>...</td>\n",
       "    </tr>\n",
       "    <tr>\n",
       "      <th>20727</th>\n",
       "      <td>net wpf xaml datatrigger</td>\n",
       "      <td>4</td>\n",
       "    </tr>\n",
       "    <tr>\n",
       "      <th>20728</th>\n",
       "      <td>python orm sqlalchemy</td>\n",
       "      <td>3</td>\n",
       "    </tr>\n",
       "    <tr>\n",
       "      <th>20729</th>\n",
       "      <td>java dataoutputstream</td>\n",
       "      <td>2</td>\n",
       "    </tr>\n",
       "    <tr>\n",
       "      <th>20730</th>\n",
       "      <td>php authentication cakephp</td>\n",
       "      <td>3</td>\n",
       "    </tr>\n",
       "    <tr>\n",
       "      <th>20731</th>\n",
       "      <td>perl hash map</td>\n",
       "      <td>3</td>\n",
       "    </tr>\n",
       "  </tbody>\n",
       "</table>\n",
       "<p>20732 rows × 2 columns</p>\n",
       "</div>"
      ],
      "text/plain": [
       "                                         New_Tags  tag_count\n",
       "0                                   web framework          2\n",
       "1            python oop metaclass class datamodel          5\n",
       "2      c log enterprise library application block          6\n",
       "3                                  php facebook r          3\n",
       "4                                         c regex          2\n",
       "...                                           ...        ...\n",
       "20727                    net wpf xaml datatrigger          4\n",
       "20728                       python orm sqlalchemy          3\n",
       "20729                       java dataoutputstream          2\n",
       "20730                  php authentication cakephp          3\n",
       "20731                               perl hash map          3\n",
       "\n",
       "[20732 rows x 2 columns]"
      ]
     },
     "execution_count": 77,
     "metadata": {},
     "output_type": "execute_result"
    },
    {
     "name": "stdout",
     "output_type": "stream",
     "text": [
      "time: 52.9 ms (started: 2021-12-06 14:35:27 +01:00)\n"
     ]
    }
   ],
   "source": [
    "new_r_df[\"tag_count\"] = new_r_df[\"New_Tags\"].apply(lambda x : len(x.split()))\n",
    "new_r_df"
   ]
  },
  {
   "cell_type": "code",
   "execution_count": 82,
   "id": "3f27c53a",
   "metadata": {},
   "outputs": [
    {
     "name": "stdout",
     "output_type": "stream",
     "text": [
      "Maximum number of tags in a question:  10\n",
      "Minimum number of tags in a question:  1\n",
      "Average number of tags in a question:  3.4789697086629365\n",
      "time: 3.24 ms (started: 2021-12-06 14:37:23 +01:00)\n"
     ]
    }
   ],
   "source": [
    "print( \"Maximum number of tags in a question: \", new_r_df[\"tag_count\"].max())\n",
    "print( \"Minimum number of tags in a question: \", new_r_df[\"tag_count\"].min())\n",
    "print( \"Average number of tags in a question: \", new_r_df[\"tag_count\"].mean())"
   ]
  },
  {
   "cell_type": "code",
   "execution_count": 94,
   "id": "e1e220ff",
   "metadata": {},
   "outputs": [
    {
     "name": "stdout",
     "output_type": "stream",
     "text": [
      "20732\n"
     ]
    },
    {
     "data": {
      "text/html": [
       "<div>\n",
       "<style scoped>\n",
       "    .dataframe tbody tr th:only-of-type {\n",
       "        vertical-align: middle;\n",
       "    }\n",
       "\n",
       "    .dataframe tbody tr th {\n",
       "        vertical-align: top;\n",
       "    }\n",
       "\n",
       "    .dataframe thead th {\n",
       "        text-align: right;\n",
       "    }\n",
       "</style>\n",
       "<table border=\"1\" class=\"dataframe\">\n",
       "  <thead>\n",
       "    <tr style=\"text-align: right;\">\n",
       "      <th></th>\n",
       "      <th>Nb_Words</th>\n",
       "      <th>tag_count</th>\n",
       "      <th>Sum</th>\n",
       "      <th>Perc</th>\n",
       "    </tr>\n",
       "  </thead>\n",
       "  <tbody>\n",
       "    <tr>\n",
       "      <th>4</th>\n",
       "      <td>1</td>\n",
       "      <td>1441</td>\n",
       "      <td>20732</td>\n",
       "      <td>6.950608</td>\n",
       "    </tr>\n",
       "    <tr>\n",
       "      <th>2</th>\n",
       "      <td>2</td>\n",
       "      <td>4191</td>\n",
       "      <td>20732</td>\n",
       "      <td>20.215126</td>\n",
       "    </tr>\n",
       "    <tr>\n",
       "      <th>0</th>\n",
       "      <td>3</td>\n",
       "      <td>5550</td>\n",
       "      <td>20732</td>\n",
       "      <td>26.770210</td>\n",
       "    </tr>\n",
       "    <tr>\n",
       "      <th>1</th>\n",
       "      <td>4</td>\n",
       "      <td>4671</td>\n",
       "      <td>20732</td>\n",
       "      <td>22.530388</td>\n",
       "    </tr>\n",
       "    <tr>\n",
       "      <th>3</th>\n",
       "      <td>5</td>\n",
       "      <td>3025</td>\n",
       "      <td>20732</td>\n",
       "      <td>14.590970</td>\n",
       "    </tr>\n",
       "    <tr>\n",
       "      <th>5</th>\n",
       "      <td>6</td>\n",
       "      <td>1301</td>\n",
       "      <td>20732</td>\n",
       "      <td>6.275323</td>\n",
       "    </tr>\n",
       "    <tr>\n",
       "      <th>6</th>\n",
       "      <td>7</td>\n",
       "      <td>414</td>\n",
       "      <td>20732</td>\n",
       "      <td>1.996913</td>\n",
       "    </tr>\n",
       "    <tr>\n",
       "      <th>7</th>\n",
       "      <td>8</td>\n",
       "      <td>113</td>\n",
       "      <td>20732</td>\n",
       "      <td>0.545051</td>\n",
       "    </tr>\n",
       "    <tr>\n",
       "      <th>8</th>\n",
       "      <td>9</td>\n",
       "      <td>24</td>\n",
       "      <td>20732</td>\n",
       "      <td>0.115763</td>\n",
       "    </tr>\n",
       "    <tr>\n",
       "      <th>9</th>\n",
       "      <td>10</td>\n",
       "      <td>2</td>\n",
       "      <td>20732</td>\n",
       "      <td>0.009647</td>\n",
       "    </tr>\n",
       "  </tbody>\n",
       "</table>\n",
       "</div>"
      ],
      "text/plain": [
       "   Nb_Words  tag_count    Sum       Perc\n",
       "4         1       1441  20732   6.950608\n",
       "2         2       4191  20732  20.215126\n",
       "0         3       5550  20732  26.770210\n",
       "1         4       4671  20732  22.530388\n",
       "3         5       3025  20732  14.590970\n",
       "5         6       1301  20732   6.275323\n",
       "6         7        414  20732   1.996913\n",
       "7         8        113  20732   0.545051\n",
       "8         9         24  20732   0.115763\n",
       "9        10          2  20732   0.009647"
      ]
     },
     "execution_count": 94,
     "metadata": {},
     "output_type": "execute_result"
    },
    {
     "name": "stdout",
     "output_type": "stream",
     "text": [
      "time: 24.4 ms (started: 2021-12-06 14:45:40 +01:00)\n"
     ]
    }
   ],
   "source": [
    "val_count = pd.DataFrame(new_r_df['tag_count'].value_counts())\n",
    "sum_ = val_count['tag_count'].sum()\n",
    "print(sum_)\n",
    "val_count['Sum'] = sum_\n",
    "val_count['Perc'] = val_count['tag_count'] / val_count['Sum']*100\n",
    "val_count = val_count.reset_index()\n",
    "val_count = val_count.rename(columns={'index': \"Nb_Words\"})\n",
    "val_count = val_count.sort_values(by=['Nb_Words'])\n",
    "val_count"
   ]
  },
  {
   "cell_type": "code",
   "execution_count": 95,
   "id": "e43fee76",
   "metadata": {},
   "outputs": [
    {
     "data": {
      "text/plain": [
       "Text(0.5, 1.0, 'Nb Tags / Question')"
      ]
     },
     "execution_count": 95,
     "metadata": {},
     "output_type": "execute_result"
    },
    {
     "data": {
      "image/png": "[encoded data removed]",
      "text/plain": [
       "<Figure size 540x540 with 1 Axes>"
      ]
     },
     "metadata": {},
     "output_type": "display_data"
    },
    {
     "name": "stdout",
     "output_type": "stream",
     "text": [
      "time: 328 ms (started: 2021-12-06 14:45:53 +01:00)\n"
     ]
    }
   ],
   "source": [
    "plt.figure(figsize=(7.5, 7.5))\n",
    "ax = sns.barplot(x='Perc', y='Nb_Words', data=val_count, orient='h')\n",
    "plt.xticks(fontsize=15, rotation=10)\n",
    "plt.yticks(fontsize=15, rotation=10)\n",
    "plt.title('Nb Tags / Question', fontsize=20)"
   ]
  },
  {
   "cell_type": "markdown",
   "id": "19d3b53d",
   "metadata": {},
   "source": [
    "# Nombre de Tags unique"
   ]
  },
  {
   "cell_type": "code",
   "execution_count": 101,
   "id": "9271c11b",
   "metadata": {},
   "outputs": [
    {
     "name": "stdout",
     "output_type": "stream",
     "text": [
      "time: 148 ms (started: 2021-12-06 14:49:28 +01:00)\n"
     ]
    }
   ],
   "source": [
    "vectorizer = CountVectorizer(tokenizer = lambda x: x.split())\n",
    "tag_bow = vectorizer.fit_transform(new_r_df['New_Tags'])"
   ]
  },
  {
   "cell_type": "code",
   "execution_count": 102,
   "id": "29d90051",
   "metadata": {},
   "outputs": [
    {
     "name": "stdout",
     "output_type": "stream",
     "text": [
      "Number of questions : 20732\n",
      "Number of unique tags : 4812\n",
      "time: 1.41 ms (started: 2021-12-06 14:49:29 +01:00)\n"
     ]
    }
   ],
   "source": [
    "print(\"Number of questions :\", tag_bow.shape[0])\n",
    "print(\"Number of unique tags :\", tag_bow.shape[1])"
   ]
  },
  {
   "cell_type": "code",
   "execution_count": 103,
   "id": "1eb82fa3",
   "metadata": {},
   "outputs": [
    {
     "name": "stdout",
     "output_type": "stream",
     "text": [
      "Few tags : ['actionmailer', 'actionscript', 'actionview', 'activation', 'activator', 'active', 'activemq', 'activeperl', 'activerecord', 'activereports', 'activeresource', 'activescaffold', 'activestate', 'activesync', 'activetcl', 'activex', 'activity', 'actor', 'acyclic', 'ad']\n",
      "time: 4.67 ms (started: 2021-12-06 14:49:31 +01:00)\n"
     ]
    }
   ],
   "source": [
    "tags = vectorizer.get_feature_names()\n",
    "print(\"Few tags :\", tags[30:50])"
   ]
  },
  {
   "cell_type": "markdown",
   "id": "02f33d1f",
   "metadata": {},
   "source": [
    "# Frequence des mots"
   ]
  },
  {
   "cell_type": "code",
   "execution_count": 105,
   "id": "1879015c",
   "metadata": {},
   "outputs": [
    {
     "data": {
      "text/html": [
       "<div>\n",
       "<style scoped>\n",
       "    .dataframe tbody tr th:only-of-type {\n",
       "        vertical-align: middle;\n",
       "    }\n",
       "\n",
       "    .dataframe tbody tr th {\n",
       "        vertical-align: top;\n",
       "    }\n",
       "\n",
       "    .dataframe thead th {\n",
       "        text-align: right;\n",
       "    }\n",
       "</style>\n",
       "<table border=\"1\" class=\"dataframe\">\n",
       "  <thead>\n",
       "    <tr style=\"text-align: right;\">\n",
       "      <th></th>\n",
       "      <th>Tags</th>\n",
       "      <th>Counts</th>\n",
       "    </tr>\n",
       "  </thead>\n",
       "  <tbody>\n",
       "    <tr>\n",
       "      <th>455</th>\n",
       "      <td>c</td>\n",
       "      <td>4256</td>\n",
       "    </tr>\n",
       "    <tr>\n",
       "      <th>2660</th>\n",
       "      <td>net</td>\n",
       "      <td>3928</td>\n",
       "    </tr>\n",
       "    <tr>\n",
       "      <th>2028</th>\n",
       "      <td>java</td>\n",
       "      <td>1645</td>\n",
       "    </tr>\n",
       "    <tr>\n",
       "      <th>195</th>\n",
       "      <td>asp</td>\n",
       "      <td>1612</td>\n",
       "    </tr>\n",
       "    <tr>\n",
       "      <th>3880</th>\n",
       "      <td>sql</td>\n",
       "      <td>1497</td>\n",
       "    </tr>\n",
       "    <tr>\n",
       "      <th>...</th>\n",
       "      <td>...</td>\n",
       "      <td>...</td>\n",
       "    </tr>\n",
       "    <tr>\n",
       "      <th>2285</th>\n",
       "      <td>localsystem</td>\n",
       "      <td>1</td>\n",
       "    </tr>\n",
       "    <tr>\n",
       "      <th>2287</th>\n",
       "      <td>locbaml</td>\n",
       "      <td>1</td>\n",
       "    </tr>\n",
       "    <tr>\n",
       "      <th>2291</th>\n",
       "      <td>logarithm</td>\n",
       "      <td>1</td>\n",
       "    </tr>\n",
       "    <tr>\n",
       "      <th>2292</th>\n",
       "      <td>logcxx</td>\n",
       "      <td>1</td>\n",
       "    </tr>\n",
       "    <tr>\n",
       "      <th>4811</th>\n",
       "      <td>zxspectrum</td>\n",
       "      <td>1</td>\n",
       "    </tr>\n",
       "  </tbody>\n",
       "</table>\n",
       "<p>4812 rows × 2 columns</p>\n",
       "</div>"
      ],
      "text/plain": [
       "             Tags  Counts\n",
       "455             c    4256\n",
       "2660          net    3928\n",
       "2028         java    1645\n",
       "195           asp    1612\n",
       "3880          sql    1497\n",
       "...           ...     ...\n",
       "2285  localsystem       1\n",
       "2287      locbaml       1\n",
       "2291    logarithm       1\n",
       "2292       logcxx       1\n",
       "4811   zxspectrum       1\n",
       "\n",
       "[4812 rows x 2 columns]"
      ]
     },
     "execution_count": 105,
     "metadata": {},
     "output_type": "execute_result"
    },
    {
     "name": "stdout",
     "output_type": "stream",
     "text": [
      "time: 27.7 ms (started: 2021-12-06 14:50:38 +01:00)\n"
     ]
    }
   ],
   "source": [
    "freq = tag_bow.sum(axis=0).A1\n",
    "tag_to_count_map = dict(zip(tags, freq))\n",
    "list = []\n",
    "for key, value in tag_to_count_map.items():\n",
    "    list.append([key, value]) \n",
    "    \n",
    "tag_df = pd.DataFrame(list, columns=['Tags', 'Counts'])\n",
    "tag_df_sorted = tag_df.sort_values(['Counts'], ascending=False)\n",
    "tag_df_sorted"
   ]
  },
  {
   "cell_type": "markdown",
   "id": "e2c05632",
   "metadata": {},
   "source": [
    "# Distribution Totale"
   ]
  },
  {
   "cell_type": "code",
   "execution_count": 106,
   "id": "c4a791e0",
   "metadata": {},
   "outputs": [
    {
     "data": {
      "text/plain": [
       "Text(0, 0.5, 'Frequency')"
      ]
     },
     "execution_count": 106,
     "metadata": {},
     "output_type": "execute_result"
    },
    {
     "data": {
      "image/png": "[encoded data removed]",
      "text/plain": [
       "<Figure size 432x288 with 1 Axes>"
      ]
     },
     "metadata": {},
     "output_type": "display_data"
    },
    {
     "name": "stdout",
     "output_type": "stream",
     "text": [
      "time: 268 ms (started: 2021-12-06 14:51:03 +01:00)\n"
     ]
    }
   ],
   "source": [
    "plt.plot(tag_df_sorted['Counts'].values)\n",
    "plt.grid()\n",
    "plt.title(\"Distribution of frequency of tags based on appeareance\")\n",
    "plt.xlabel(\"Tag numbers for most frequent tags\")\n",
    "plt.ylabel(\"Frequency\")"
   ]
  },
  {
   "cell_type": "markdown",
   "id": "9bf6c180",
   "metadata": {},
   "source": [
    "# Distribution des 100 premiers mots"
   ]
  },
  {
   "cell_type": "code",
   "execution_count": 107,
   "id": "19b97eaf",
   "metadata": {},
   "outputs": [
    {
     "data": {
      "text/plain": [
       "Text(0, 0.5, 'Frequency')"
      ]
     },
     "execution_count": 107,
     "metadata": {},
     "output_type": "execute_result"
    },
    {
     "data": {
      "image/png": "[encoded data removed]",
      "text/plain": [
       "<Figure size 432x288 with 1 Axes>"
      ]
     },
     "metadata": {},
     "output_type": "display_data"
    },
    {
     "name": "stdout",
     "output_type": "stream",
     "text": [
      "time: 259 ms (started: 2021-12-06 14:52:06 +01:00)\n"
     ]
    }
   ],
   "source": [
    "plt.plot(tag_df_sorted['Counts'][0:100].values)\n",
    "plt.grid()\n",
    "plt.title(\"Top 100 tags : Distribution of frequency of tags based on appeareance\")\n",
    "plt.xlabel(\"Tag numbers for most frequent tags\")\n",
    "plt.ylabel(\"Frequency\")"
   ]
  },
  {
   "cell_type": "markdown",
   "id": "ce01319c",
   "metadata": {},
   "source": [
    "# Distribution en quantiles"
   ]
  },
  {
   "cell_type": "code",
   "execution_count": 108,
   "id": "8b3d9a1d",
   "metadata": {},
   "outputs": [
    {
     "data": {
      "text/plain": [
       "<matplotlib.legend.Legend at 0x7fed8bb71590>"
      ]
     },
     "execution_count": 108,
     "metadata": {},
     "output_type": "execute_result"
    },
    {
     "data": {
      "image/png": "[encoded data removed]",
      "text/plain": [
       "<Figure size 432x288 with 1 Axes>"
      ]
     },
     "metadata": {},
     "output_type": "display_data"
    },
    {
     "name": "stdout",
     "output_type": "stream",
     "text": [
      "time: 370 ms (started: 2021-12-06 14:53:03 +01:00)\n"
     ]
    }
   ],
   "source": [
    "plt.plot(tag_df_sorted['Counts'][0:100].values)\n",
    "plt.scatter(x=np.arange(0,100,5), y=tag_df_sorted['Counts'][0:100:5], c='g', label=\"quantiles with 0.05 intervals\")\n",
    "plt.scatter(x=np.arange(0,100,25), y=tag_df_sorted['Counts'][0:100:25], c='r', label = \"quantiles with 0.25 intervals\")\n",
    "for x,y in zip(np.arange(0,100,25), tag_df_sorted['Counts'][0:100:25]):\n",
    "    plt.annotate(s=\"({} , {})\".format(x,y), xy=(x,y), xytext=(x-0.01, y+30))\n",
    "\n",
    "plt.title('first 100 tags: Distribution of frequency of tags based on appeareance')\n",
    "plt.grid()\n",
    "plt.xlabel(\"Tag numbers for most frequent tags\")\n",
    "plt.ylabel(\"Frequency\")\n",
    "plt.legend()"
   ]
  },
  {
   "cell_type": "markdown",
   "id": "e9546c8a",
   "metadata": {},
   "source": [
    "# Distrib"
   ]
  },
  {
   "cell_type": "code",
   "execution_count": 133,
   "id": "70b1b3eb",
   "metadata": {},
   "outputs": [
    {
     "data": {
      "text/plain": [
       "Text(0.5, 1.0, 'Distribution')"
      ]
     },
     "execution_count": 133,
     "metadata": {},
     "output_type": "execute_result"
    },
    {
     "data": {
      "image/png": "[encoded data removed]",
      "text/plain": [
       "<Figure size 540x540 with 1 Axes>"
      ]
     },
     "metadata": {},
     "output_type": "display_data"
    },
    {
     "name": "stdout",
     "output_type": "stream",
     "text": [
      "time: 322 ms (started: 2021-12-06 15:09:46 +01:00)\n"
     ]
    }
   ],
   "source": [
    "_5_fois   = tag_df_sorted[tag_df_sorted[\"Counts\"]>5].shape[0]\n",
    "_10_fois  = tag_df_sorted[tag_df_sorted[\"Counts\"]>10].shape[0]\n",
    "_25_fois  = tag_df_sorted[tag_df_sorted[\"Counts\"]>25].shape[0]\n",
    "_50_fois  = tag_df_sorted[tag_df_sorted[\"Counts\"]>50].shape[0]\n",
    "_75_fois  = tag_df_sorted[tag_df_sorted[\"Counts\"]>75].shape[0]\n",
    "_100_fois = tag_df_sorted[tag_df_sorted[\"Counts\"]>100].shape[0]\n",
    "_250_fois = tag_df_sorted[tag_df_sorted[\"Counts\"]>250].shape[0]\n",
    "_500_fois = tag_df_sorted[tag_df_sorted[\"Counts\"]>500].shape[0]\n",
    "\n",
    "lst = [['x5', _5_fois], ['x10', _10_fois], ['x25', _25_fois], ['x50', _50_fois],['x75', _75_fois],['x100', _100_fois], ['x250', _250_fois],['x500', _500_fois]]\n",
    "\n",
    "lst_Df = pd.DataFrame(lst)\n",
    "lst_Df= lst_Df.rename(columns={0: \"Distrib\", 1:'Val'})\n",
    "\n",
    "plt.figure(figsize=(7.5, 7.5))\n",
    "ax = sns.barplot(x='Val', y='Distrib', data=lst_Df, orient='h')\n",
    "plt.xticks(fontsize=15, rotation=10)\n",
    "plt.yticks(fontsize=15, rotation=10)\n",
    "plt.title('Distribution', fontsize=20)"
   ]
  },
  {
   "cell_type": "markdown",
   "id": "fa6c3549",
   "metadata": {},
   "source": [
    "# Nb de Tags reprente 50% - 75%"
   ]
  },
  {
   "cell_type": "code",
   "execution_count": 174,
   "id": "9700ebbb",
   "metadata": {},
   "outputs": [
    {
     "name": "stdout",
     "output_type": "stream",
     "text": [
      "10 tags couvrent 25% des questions\n",
      "77 tags couvrent 50% des questions\n",
      "366 tags couvrent 75% des questions\n",
      "  \n",
      "time: 17 ms (started: 2021-12-06 16:12:16 +01:00)\n"
     ]
    }
   ],
   "source": [
    "tag_df_sorted_1 = tag_df_sorted.copy()\n",
    "_sum_ = tag_df_sorted_1['Counts'].sum()\n",
    "tag_df_sorted_1['_sum_'] = _sum_\n",
    "tag_df_sorted_1['Perc'] = tag_df_sorted_1['Counts'] / tag_df_sorted_1['_sum_']*100\n",
    "tag_df_sorted_1['Perc_cumsum'] = tag_df_sorted_1['Perc'].cumsum()\n",
    "tag_df_sorted_1 = tag_df_sorted_1.reset_index()\n",
    "tag_df_sorted_1.pop('index')\n",
    "tag_df_sorted_25 = tag_df_sorted_1[tag_df_sorted_1.Perc_cumsum < 25]\n",
    "tag_df_sorted_50 = tag_df_sorted_1[tag_df_sorted_1.Perc_cumsum < 50]\n",
    "tag_df_sorted_75 = tag_df_sorted_1[tag_df_sorted_1.Perc_cumsum < 75]\n",
    "print(tag_df_sorted_25.shape[0], \"tags couvrent 25% des questions\")\n",
    "print(tag_df_sorted_50.shape[0], \"tags couvrent 50% des questions\")\n",
    "print(tag_df_sorted_75.shape[0], \"tags couvrent 75% des questions\")\n",
    "print(\"  \")"
   ]
  },
  {
   "cell_type": "markdown",
   "id": "15165f2c",
   "metadata": {},
   "source": [
    "# WordCloud - Visu"
   ]
  },
  {
   "cell_type": "code",
   "execution_count": 135,
   "id": "b9890d6b",
   "metadata": {},
   "outputs": [
    {
     "data": {
      "image/png": "[encoded data removed]",
      "text/plain": [
       "<Figure size 864x576 with 1 Axes>"
      ]
     },
     "metadata": {},
     "output_type": "display_data"
    },
    {
     "name": "stdout",
     "output_type": "stream",
     "text": [
      "time: 4.13 s (started: 2021-12-06 15:10:10 +01:00)\n"
     ]
    }
   ],
   "source": [
    "from wordcloud import WordCloud\n",
    "tag_to_count_map\n",
    "tupl = dict(tag_to_count_map.items())\n",
    "word_cloud = WordCloud(width=1600,height=800,).generate_from_frequencies(tupl)\n",
    "plt.figure(figsize = (12,8))\n",
    "plt.imshow(word_cloud)\n",
    "plt.axis('off')\n",
    "plt.tight_layout(pad=0)"
   ]
  },
  {
   "cell_type": "markdown",
   "id": "3cccfde5",
   "metadata": {},
   "source": [
    "# Zoom 15 tags + présent"
   ]
  },
  {
   "cell_type": "code",
   "execution_count": 136,
   "id": "c9eb2aa2",
   "metadata": {},
   "outputs": [
    {
     "data": {
      "text/plain": [
       "Text(0.5, 1.0, '#15 premiers')"
      ]
     },
     "execution_count": 136,
     "metadata": {},
     "output_type": "execute_result"
    },
    {
     "data": {
      "image/png": "[encoded data removed]",
      "text/plain": [
       "<Figure size 720x720 with 1 Axes>"
      ]
     },
     "metadata": {},
     "output_type": "display_data"
    },
    {
     "name": "stdout",
     "output_type": "stream",
     "text": [
      "time: 428 ms (started: 2021-12-06 15:10:14 +01:00)\n"
     ]
    }
   ],
   "source": [
    "tag_df_sorted_Top_15 = tag_df_sorted.head(15)\n",
    "plt.figure(figsize=(10, 10))\n",
    "ax = sns.barplot(x='Counts', y='Tags', data=tag_df_sorted_Top_15, orient='h')\n",
    "plt.xticks(fontsize=15, rotation=10)\n",
    "plt.yticks(fontsize=20, rotation=10)\n",
    "plt.title('#15 premiers', fontsize=20)"
   ]
  },
  {
   "cell_type": "markdown",
   "id": "1d92a03c",
   "metadata": {},
   "source": [
    "# TEST"
   ]
  },
  {
   "cell_type": "code",
   "execution_count": 139,
   "id": "db842a9d",
   "metadata": {},
   "outputs": [
    {
     "data": {
      "text/html": [
       "<div>\n",
       "<style scoped>\n",
       "    .dataframe tbody tr th:only-of-type {\n",
       "        vertical-align: middle;\n",
       "    }\n",
       "\n",
       "    .dataframe tbody tr th {\n",
       "        vertical-align: top;\n",
       "    }\n",
       "\n",
       "    .dataframe thead th {\n",
       "        text-align: right;\n",
       "    }\n",
       "</style>\n",
       "<table border=\"1\" class=\"dataframe\">\n",
       "  <thead>\n",
       "    <tr style=\"text-align: right;\">\n",
       "      <th></th>\n",
       "      <th>New_Tags</th>\n",
       "    </tr>\n",
       "  </thead>\n",
       "  <tbody>\n",
       "    <tr>\n",
       "      <th>0</th>\n",
       "      <td>web framework</td>\n",
       "    </tr>\n",
       "    <tr>\n",
       "      <th>1</th>\n",
       "      <td>python oop metaclass class datamodel</td>\n",
       "    </tr>\n",
       "    <tr>\n",
       "      <th>2</th>\n",
       "      <td>c log enterprise library application block</td>\n",
       "    </tr>\n",
       "    <tr>\n",
       "      <th>3</th>\n",
       "      <td>php facebook r</td>\n",
       "    </tr>\n",
       "    <tr>\n",
       "      <th>4</th>\n",
       "      <td>c regex</td>\n",
       "    </tr>\n",
       "    <tr>\n",
       "      <th>...</th>\n",
       "      <td>...</td>\n",
       "    </tr>\n",
       "    <tr>\n",
       "      <th>20727</th>\n",
       "      <td>net wpf xaml datatrigger</td>\n",
       "    </tr>\n",
       "    <tr>\n",
       "      <th>20728</th>\n",
       "      <td>python orm sqlalchemy</td>\n",
       "    </tr>\n",
       "    <tr>\n",
       "      <th>20729</th>\n",
       "      <td>java dataoutputstream</td>\n",
       "    </tr>\n",
       "    <tr>\n",
       "      <th>20730</th>\n",
       "      <td>php authentication cakephp</td>\n",
       "    </tr>\n",
       "    <tr>\n",
       "      <th>20731</th>\n",
       "      <td>perl hash map</td>\n",
       "    </tr>\n",
       "  </tbody>\n",
       "</table>\n",
       "<p>20732 rows × 1 columns</p>\n",
       "</div>"
      ],
      "text/plain": [
       "                                         New_Tags\n",
       "0                                   web framework\n",
       "1            python oop metaclass class datamodel\n",
       "2      c log enterprise library application block\n",
       "3                                  php facebook r\n",
       "4                                         c regex\n",
       "...                                           ...\n",
       "20727                    net wpf xaml datatrigger\n",
       "20728                       python orm sqlalchemy\n",
       "20729                       java dataoutputstream\n",
       "20730                  php authentication cakephp\n",
       "20731                               perl hash map\n",
       "\n",
       "[20732 rows x 1 columns]"
      ]
     },
     "execution_count": 139,
     "metadata": {},
     "output_type": "execute_result"
    },
    {
     "name": "stdout",
     "output_type": "stream",
     "text": [
      "time: 11.2 ms (started: 2021-12-06 15:11:40 +01:00)\n"
     ]
    }
   ],
   "source": [
    "y = pd.DataFrame(new_r_df['New_Tags'])\n",
    "y"
   ]
  },
  {
   "cell_type": "code",
   "execution_count": 145,
   "id": "aa95a0e6",
   "metadata": {},
   "outputs": [
    {
     "data": {
      "text/html": [
       "<div>\n",
       "<style scoped>\n",
       "    .dataframe tbody tr th:only-of-type {\n",
       "        vertical-align: middle;\n",
       "    }\n",
       "\n",
       "    .dataframe tbody tr th {\n",
       "        vertical-align: top;\n",
       "    }\n",
       "\n",
       "    .dataframe thead th {\n",
       "        text-align: right;\n",
       "    }\n",
       "</style>\n",
       "<table border=\"1\" class=\"dataframe\">\n",
       "  <thead>\n",
       "    <tr style=\"text-align: right;\">\n",
       "      <th></th>\n",
       "      <th>Sentence</th>\n",
       "    </tr>\n",
       "  </thead>\n",
       "  <tbody>\n",
       "    <tr>\n",
       "      <th>0</th>\n",
       "      <td>question intends technology agnostic kind web ...</td>\n",
       "    </tr>\n",
       "    <tr>\n",
       "      <th>1</th>\n",
       "      <td>python metaclasses use</td>\n",
       "    </tr>\n",
       "    <tr>\n",
       "      <th>2</th>\n",
       "      <td>logging lognet easy put class called log log f...</td>\n",
       "    </tr>\n",
       "    <tr>\n",
       "      <th>3</th>\n",
       "      <td>make facebook rss application autoupdates prov...</td>\n",
       "    </tr>\n",
       "    <tr>\n",
       "      <th>4</th>\n",
       "      <td>good regular expression validate text string m...</td>\n",
       "    </tr>\n",
       "    <tr>\n",
       "      <th>...</th>\n",
       "      <td>...</td>\n",
       "    </tr>\n",
       "    <tr>\n",
       "      <th>20727</th>\n",
       "      <td>datatrigger defined xaml want use several plac...</td>\n",
       "    </tr>\n",
       "    <tr>\n",
       "      <th>20728</th>\n",
       "      <td>starting new application looking using orm par...</td>\n",
       "    </tr>\n",
       "    <tr>\n",
       "      <th>20729</th>\n",
       "      <td>socket programming transmit information across...</td>\n",
       "    </tr>\n",
       "    <tr>\n",
       "      <th>20730</th>\n",
       "      <td>looking whole aco aro implementation want use ...</td>\n",
       "    </tr>\n",
       "    <tr>\n",
       "      <th>20731</th>\n",
       "      <td>fails b c e h map prefix _ error enough argume...</td>\n",
       "    </tr>\n",
       "  </tbody>\n",
       "</table>\n",
       "<p>20732 rows × 1 columns</p>\n",
       "</div>"
      ],
      "text/plain": [
       "                                                Sentence\n",
       "0      question intends technology agnostic kind web ...\n",
       "1                                 python metaclasses use\n",
       "2      logging lognet easy put class called log log f...\n",
       "3      make facebook rss application autoupdates prov...\n",
       "4      good regular expression validate text string m...\n",
       "...                                                  ...\n",
       "20727  datatrigger defined xaml want use several plac...\n",
       "20728  starting new application looking using orm par...\n",
       "20729  socket programming transmit information across...\n",
       "20730  looking whole aco aro implementation want use ...\n",
       "20731  fails b c e h map prefix _ error enough argume...\n",
       "\n",
       "[20732 rows x 1 columns]"
      ]
     },
     "execution_count": 145,
     "metadata": {},
     "output_type": "execute_result"
    },
    {
     "name": "stdout",
     "output_type": "stream",
     "text": [
      "time: 15.1 ms (started: 2021-12-06 15:14:12 +01:00)\n"
     ]
    }
   ],
   "source": [
    "X = pd.DataFrame(new_df['Sentence'])\n",
    "X = X.reset_index()\n",
    "X.pop('index')\n",
    "X"
   ]
  },
  {
   "cell_type": "code",
   "execution_count": null,
   "id": "c92390bb",
   "metadata": {},
   "outputs": [],
   "source": []
  },
  {
   "cell_type": "code",
   "execution_count": 152,
   "id": "a6d2263e",
   "metadata": {},
   "outputs": [
    {
     "data": {
      "text/plain": [
       "array([0.12672625, 0.1837562 , 0.23599462, ..., 0.18020199, 0.23805401,\n",
       "       0.17417344])"
      ]
     },
     "execution_count": 152,
     "metadata": {},
     "output_type": "execute_result"
    },
    {
     "name": "stdout",
     "output_type": "stream",
     "text": [
      "time: 6.02 s (started: 2021-12-06 15:32:19 +01:00)\n"
     ]
    }
   ],
   "source": [
    "n_topics = 50\n",
    "text = X['Sentence']\n",
    "\n",
    "# vectorize\n",
    "vectorizer_train = TfidfVectorizer(analyzer = 'word',\n",
    "                                       min_df=0.0,\n",
    "                                       max_df = 1.0,\n",
    "                                       strip_accents = None,\n",
    "                                       encoding = 'utf-8', \n",
    "                                       preprocessor=None,\n",
    "                                       token_pattern=r\"(?u)\\S\\S+\",\n",
    "                                       max_features=1000)\n",
    "\n",
    "\n",
    "TF_IDF_matrix = vectorizer_train.fit_transform(text)\n",
    "TF_IDF_matrix.data\n"
   ]
  },
  {
   "cell_type": "code",
   "execution_count": 180,
   "id": "f2548c52",
   "metadata": {},
   "outputs": [
    {
     "name": "stdout",
     "output_type": "stream",
     "text": [
      "time: 40.5 s (started: 2021-12-06 16:36:56 +01:00)\n"
     ]
    }
   ],
   "source": [
    "lda = LatentDirichletAllocation(n_components=77, \n",
    "                                max_iter=5, \n",
    "                                learning_method='online', \n",
    "                                learning_offset=50,\n",
    "                                random_state=11).fit(TF_IDF_matrix)"
   ]
  },
  {
   "cell_type": "code",
   "execution_count": 195,
   "id": "cde15ceb",
   "metadata": {},
   "outputs": [
    {
     "name": "stdout",
     "output_type": "stream",
     "text": [
      "Topic 0:\n",
      "['jsp', 'implementing', 'returned']\n",
      "--------------------------------------------\n",
      "Topic 1:\n",
      "['var', 'private', 'string']\n",
      "--------------------------------------------\n",
      "Topic 2:\n",
      "['dll', 'runtime', 'bytes']\n",
      "--------------------------------------------\n",
      "Topic 3:\n",
      "['wondering', 'none', 'approach']\n",
      "--------------------------------------------\n",
      "Topic 4:\n",
      "['svn', 'kind', 'changes']\n",
      "--------------------------------------------\n",
      "Topic 5:\n",
      "['console', 'template', 'designer']\n",
      "--------------------------------------------\n",
      "Topic 6:\n",
      "['test', 'unit', 'tests']\n",
      "--------------------------------------------\n",
      "Topic 7:\n",
      "['requires', 'features', 'numbers']\n",
      "--------------------------------------------\n",
      "Topic 8:\n",
      "['date', 'way', 'want']\n",
      "--------------------------------------------\n",
      "Topic 9:\n",
      "['list', 'task', 'li']\n",
      "--------------------------------------------\n",
      "Topic 10:\n",
      "['image', 'images', 'img']\n",
      "--------------------------------------------\n",
      "Topic 11:\n",
      "['asp', 'net', 'mvc']\n",
      "--------------------------------------------\n",
      "Topic 12:\n",
      "['folder', 'select', 'file']\n",
      "--------------------------------------------\n",
      "Topic 13:\n",
      "['email', 'cache', 'mysql']\n",
      "--------------------------------------------\n",
      "Topic 14:\n",
      "['good', 'use', 'would']\n",
      "--------------------------------------------\n",
      "Topic 15:\n",
      "['api', 'lib', 'assembly']\n",
      "--------------------------------------------\n",
      "Topic 16:\n",
      "['issues', 'application', 'core']\n",
      "--------------------------------------------\n",
      "Topic 17:\n",
      "['jsp', 'servlet', 'customer']\n",
      "--------------------------------------------\n",
      "Topic 18:\n",
      "['menu', 'context', 'equivalent']\n",
      "--------------------------------------------\n",
      "Topic 19:\n",
      "['xml', 'document', 'flash']\n",
      "--------------------------------------------\n",
      "Topic 20:\n",
      "['tags', 'yes', 'aspx']\n",
      "--------------------------------------------\n",
      "Topic 21:\n",
      "['delphi', 'fields', 'nothing']\n",
      "--------------------------------------------\n",
      "Topic 22:\n",
      "['service', 'server', 'web']\n",
      "--------------------------------------------\n",
      "Topic 23:\n",
      "['xmlns', 'org', 'http']\n",
      "--------------------------------------------\n",
      "Topic 24:\n",
      "['references', 'char', 'yes']\n",
      "--------------------------------------------\n",
      "Topic 25:\n",
      "['tostring', 'feel', 'characters']\n",
      "--------------------------------------------\n",
      "Topic 26:\n",
      "['javascript', 'browser', 'site']\n",
      "--------------------------------------------\n",
      "Topic 27:\n",
      "['item', 'items', 'input']\n",
      "--------------------------------------------\n",
      "Topic 28:\n",
      "['report', 'hibernate', 'status']\n",
      "--------------------------------------------\n",
      "Topic 29:\n",
      "['log', 'logging', 'debug']\n",
      "--------------------------------------------\n",
      "Topic 30:\n",
      "['thread', 'threads', 'message']\n",
      "--------------------------------------------\n",
      "Topic 31:\n",
      "['http', 'com', 'www']\n",
      "--------------------------------------------\n",
      "Topic 32:\n",
      "['class', 'string', 'public']\n",
      "--------------------------------------------\n",
      "Topic 33:\n",
      "['configure', 'large', 'much']\n",
      "--------------------------------------------\n",
      "Topic 34:\n",
      "['project', 'files', 'eclipse']\n",
      "--------------------------------------------\n",
      "Topic 35:\n",
      "['ruby', 'rails', 'install']\n",
      "--------------------------------------------\n",
      "Topic 36:\n",
      "['foo', 'bar', 'python']\n",
      "--------------------------------------------\n",
      "Topic 37:\n",
      "['languages', 'came', 'done']\n",
      "--------------------------------------------\n",
      "Topic 38:\n",
      "['keys', 'varchar', 'iis']\n",
      "--------------------------------------------\n",
      "Topic 39:\n",
      "['difference', 'svn', 'git']\n",
      "--------------------------------------------\n",
      "Topic 40:\n",
      "['comments', 'sharepoint', 'list']\n",
      "--------------------------------------------\n",
      "Topic 41:\n",
      "['core', 'os', 'java']\n",
      "--------------------------------------------\n",
      "Topic 42:\n",
      "['div', 'element', 'width']\n",
      "--------------------------------------------\n",
      "Topic 43:\n",
      "['std', 'component', 'vector']\n",
      "--------------------------------------------\n",
      "Topic 44:\n",
      "['address', 'ip', 'info']\n",
      "--------------------------------------------\n",
      "Topic 45:\n",
      "['page', 'url', 'user']\n",
      "--------------------------------------------\n",
      "Topic 46:\n",
      "['datetime', 'perl', 'convert']\n",
      "--------------------------------------------\n",
      "Topic 47:\n",
      "['expression', 'regular', 'strings']\n",
      "--------------------------------------------\n",
      "Topic 48:\n",
      "['datetime', 'time', 'type']\n",
      "--------------------------------------------\n",
      "Topic 49:\n",
      "['file', 'directory', 'path']\n",
      "--------------------------------------------\n",
      "Topic 50:\n",
      "['element', 'row', 'starting']\n",
      "--------------------------------------------\n",
      "Topic 51:\n",
      "['excel', 'node', 'module']\n",
      "--------------------------------------------\n",
      "Topic 52:\n",
      "['visual', 'studio', 'project']\n",
      "--------------------------------------------\n",
      "Topic 53:\n",
      "['memory', 'cpu', 'usage']\n",
      "--------------------------------------------\n",
      "Topic 54:\n",
      "['java', 'sun', 'native']\n",
      "--------------------------------------------\n",
      "Topic 55:\n",
      "['procedure', 'columns', 'wondering']\n",
      "--------------------------------------------\n",
      "Topic 56:\n",
      "['bit', 'range', 'integer']\n",
      "--------------------------------------------\n",
      "Topic 57:\n",
      "['client', 'dim', 'app']\n",
      "--------------------------------------------\n",
      "Topic 58:\n",
      "['sql', 'server', 'anyone']\n",
      "--------------------------------------------\n",
      "Topic 59:\n",
      "['algorithm', 'tags', 'tag']\n",
      "--------------------------------------------\n",
      "Topic 60:\n",
      "['share', 'systems', 'end']\n",
      "--------------------------------------------\n",
      "Topic 61:\n",
      "['module', 'functionality', 'report']\n",
      "--------------------------------------------\n",
      "Topic 62:\n",
      "['table', 'sql', 'database']\n",
      "--------------------------------------------\n",
      "Topic 63:\n",
      "['update', 'files', 'control']\n",
      "--------------------------------------------\n",
      "Topic 64:\n",
      "['event', 'events', 'oracle']\n",
      "--------------------------------------------\n",
      "Topic 65:\n",
      "['would', 'application', 'like']\n",
      "--------------------------------------------\n",
      "Topic 66:\n",
      "['device', 'mode', 'upload']\n",
      "--------------------------------------------\n",
      "Topic 67:\n",
      "['instead', 'encoding', 'ip']\n",
      "--------------------------------------------\n",
      "Topic 68:\n",
      "['string', 'utf', 'encoding']\n",
      "--------------------------------------------\n",
      "Topic 69:\n",
      "['means', 'sites', 'great']\n",
      "--------------------------------------------\n",
      "Topic 70:\n",
      "['root', 'runs', 'every']\n",
      "--------------------------------------------\n",
      "Topic 71:\n",
      "['cs', 'developers', 'reference']\n",
      "--------------------------------------------\n",
      "Topic 72:\n",
      "['sample', 'namespace', 'use']\n",
      "--------------------------------------------\n",
      "Topic 73:\n",
      "['random', 'title', 'characters']\n",
      "--------------------------------------------\n",
      "Topic 74:\n",
      "['command', 'line', 'os']\n",
      "--------------------------------------------\n",
      "Topic 75:\n",
      "['comments', 'needs', 'returns']\n",
      "--------------------------------------------\n",
      "Topic 76:\n",
      "['side', 'javascript', 'tools']\n",
      "--------------------------------------------\n",
      "time: 28.8 ms (started: 2021-12-06 16:44:57 +01:00)\n"
     ]
    }
   ],
   "source": [
    "\n",
    "dis_top = []\n",
    "def display_topics(model, feature_names, no_top_words):\n",
    "    for topic_idx, topic in enumerate(model.components_):\n",
    "        print(\"Topic %d:\" % (topic_idx))\n",
    "        dis_one = []\n",
    "        for i in topic.argsort()[:-no_top_words - 1:-1]:\n",
    "            dis_one.append(feature_names[i])\n",
    "        print(dis_one)\n",
    "        dis_top.append([topic_idx,dis_one ])\n",
    "        print(\"--------------------------------------------\")\n",
    "        \n",
    "\n",
    "display_topics(lda, vectorizer_train.get_feature_names(), 3)"
   ]
  },
  {
   "cell_type": "code",
   "execution_count": 204,
   "id": "44334f9a",
   "metadata": {},
   "outputs": [
    {
     "data": {
      "text/html": [
       "<div>\n",
       "<style scoped>\n",
       "    .dataframe tbody tr th:only-of-type {\n",
       "        vertical-align: middle;\n",
       "    }\n",
       "\n",
       "    .dataframe tbody tr th {\n",
       "        vertical-align: top;\n",
       "    }\n",
       "\n",
       "    .dataframe thead th {\n",
       "        text-align: right;\n",
       "    }\n",
       "</style>\n",
       "<table border=\"1\" class=\"dataframe\">\n",
       "  <thead>\n",
       "    <tr style=\"text-align: right;\">\n",
       "      <th></th>\n",
       "      <th>Topic_ID</th>\n",
       "      <th>Topic_Word</th>\n",
       "    </tr>\n",
       "  </thead>\n",
       "  <tbody>\n",
       "    <tr>\n",
       "      <th>0</th>\n",
       "      <td>0</td>\n",
       "      <td>[jsp, implementing, returned]</td>\n",
       "    </tr>\n",
       "    <tr>\n",
       "      <th>1</th>\n",
       "      <td>1</td>\n",
       "      <td>[var, private, string]</td>\n",
       "    </tr>\n",
       "    <tr>\n",
       "      <th>2</th>\n",
       "      <td>2</td>\n",
       "      <td>[dll, runtime, bytes]</td>\n",
       "    </tr>\n",
       "    <tr>\n",
       "      <th>3</th>\n",
       "      <td>3</td>\n",
       "      <td>[wondering, none, approach]</td>\n",
       "    </tr>\n",
       "    <tr>\n",
       "      <th>4</th>\n",
       "      <td>4</td>\n",
       "      <td>[svn, kind, changes]</td>\n",
       "    </tr>\n",
       "    <tr>\n",
       "      <th>...</th>\n",
       "      <td>...</td>\n",
       "      <td>...</td>\n",
       "    </tr>\n",
       "    <tr>\n",
       "      <th>72</th>\n",
       "      <td>72</td>\n",
       "      <td>[sample, namespace, use]</td>\n",
       "    </tr>\n",
       "    <tr>\n",
       "      <th>73</th>\n",
       "      <td>73</td>\n",
       "      <td>[random, title, characters]</td>\n",
       "    </tr>\n",
       "    <tr>\n",
       "      <th>74</th>\n",
       "      <td>74</td>\n",
       "      <td>[command, line, os]</td>\n",
       "    </tr>\n",
       "    <tr>\n",
       "      <th>75</th>\n",
       "      <td>75</td>\n",
       "      <td>[comments, needs, returns]</td>\n",
       "    </tr>\n",
       "    <tr>\n",
       "      <th>76</th>\n",
       "      <td>76</td>\n",
       "      <td>[side, javascript, tools]</td>\n",
       "    </tr>\n",
       "  </tbody>\n",
       "</table>\n",
       "<p>77 rows × 2 columns</p>\n",
       "</div>"
      ],
      "text/plain": [
       "    Topic_ID                     Topic_Word\n",
       "0          0  [jsp, implementing, returned]\n",
       "1          1         [var, private, string]\n",
       "2          2          [dll, runtime, bytes]\n",
       "3          3    [wondering, none, approach]\n",
       "4          4           [svn, kind, changes]\n",
       "..       ...                            ...\n",
       "72        72       [sample, namespace, use]\n",
       "73        73    [random, title, characters]\n",
       "74        74            [command, line, os]\n",
       "75        75     [comments, needs, returns]\n",
       "76        76      [side, javascript, tools]\n",
       "\n",
       "[77 rows x 2 columns]"
      ]
     },
     "execution_count": 204,
     "metadata": {},
     "output_type": "execute_result"
    },
    {
     "name": "stdout",
     "output_type": "stream",
     "text": [
      "time: 16.8 ms (started: 2021-12-06 16:52:27 +01:00)\n"
     ]
    }
   ],
   "source": [
    "dis_top_df = pd.DataFrame(dis_top)\n",
    "dis_top_df = dis_top_df.rename(columns={0: \"Topic_ID\", 1: \"Topic_Word\"})\n",
    "dis_top_df"
   ]
  },
  {
   "cell_type": "code",
   "execution_count": 201,
   "id": "6f4c7886",
   "metadata": {},
   "outputs": [
    {
     "name": "stderr",
     "output_type": "stream",
     "text": [
      "100%|██████████| 20732/20732 [00:00<00:00, 335691.99it/s]"
     ]
    },
    {
     "name": "stdout",
     "output_type": "stream",
     "text": [
      "time: 4.7 s (started: 2021-12-06 16:48:52 +01:00)\n"
     ]
    },
    {
     "name": "stderr",
     "output_type": "stream",
     "text": [
      "\n"
     ]
    }
   ],
   "source": [
    "doc_topic = lda.transform(TF_IDF_matrix)\n",
    "lst_app = []\n",
    "for n in tqdm(range(doc_topic.shape[0])):\n",
    "    topic_doc = doc_topic[n].argmax()\n",
    "    lst_app.append([n,topic_doc])"
   ]
  },
  {
   "cell_type": "code",
   "execution_count": 202,
   "id": "66131e02",
   "metadata": {},
   "outputs": [
    {
     "data": {
      "text/html": [
       "<div>\n",
       "<style scoped>\n",
       "    .dataframe tbody tr th:only-of-type {\n",
       "        vertical-align: middle;\n",
       "    }\n",
       "\n",
       "    .dataframe tbody tr th {\n",
       "        vertical-align: top;\n",
       "    }\n",
       "\n",
       "    .dataframe thead th {\n",
       "        text-align: right;\n",
       "    }\n",
       "</style>\n",
       "<table border=\"1\" class=\"dataframe\">\n",
       "  <thead>\n",
       "    <tr style=\"text-align: right;\">\n",
       "      <th></th>\n",
       "      <th>Doc_ID</th>\n",
       "      <th>Topic_ID</th>\n",
       "    </tr>\n",
       "  </thead>\n",
       "  <tbody>\n",
       "    <tr>\n",
       "      <th>0</th>\n",
       "      <td>0</td>\n",
       "      <td>52</td>\n",
       "    </tr>\n",
       "    <tr>\n",
       "      <th>1</th>\n",
       "      <td>1</td>\n",
       "      <td>36</td>\n",
       "    </tr>\n",
       "    <tr>\n",
       "      <th>2</th>\n",
       "      <td>2</td>\n",
       "      <td>32</td>\n",
       "    </tr>\n",
       "    <tr>\n",
       "      <th>3</th>\n",
       "      <td>3</td>\n",
       "      <td>65</td>\n",
       "    </tr>\n",
       "    <tr>\n",
       "      <th>4</th>\n",
       "      <td>4</td>\n",
       "      <td>32</td>\n",
       "    </tr>\n",
       "    <tr>\n",
       "      <th>...</th>\n",
       "      <td>...</td>\n",
       "      <td>...</td>\n",
       "    </tr>\n",
       "    <tr>\n",
       "      <th>20727</th>\n",
       "      <td>20727</td>\n",
       "      <td>42</td>\n",
       "    </tr>\n",
       "    <tr>\n",
       "      <th>20728</th>\n",
       "      <td>20728</td>\n",
       "      <td>62</td>\n",
       "    </tr>\n",
       "    <tr>\n",
       "      <th>20729</th>\n",
       "      <td>20729</td>\n",
       "      <td>22</td>\n",
       "    </tr>\n",
       "    <tr>\n",
       "      <th>20730</th>\n",
       "      <td>20730</td>\n",
       "      <td>8</td>\n",
       "    </tr>\n",
       "    <tr>\n",
       "      <th>20731</th>\n",
       "      <td>20731</td>\n",
       "      <td>32</td>\n",
       "    </tr>\n",
       "  </tbody>\n",
       "</table>\n",
       "<p>20732 rows × 2 columns</p>\n",
       "</div>"
      ],
      "text/plain": [
       "       Doc_ID  Topic_ID\n",
       "0           0        52\n",
       "1           1        36\n",
       "2           2        32\n",
       "3           3        65\n",
       "4           4        32\n",
       "...       ...       ...\n",
       "20727   20727        42\n",
       "20728   20728        62\n",
       "20729   20729        22\n",
       "20730   20730         8\n",
       "20731   20731        32\n",
       "\n",
       "[20732 rows x 2 columns]"
      ]
     },
     "execution_count": 202,
     "metadata": {},
     "output_type": "execute_result"
    },
    {
     "name": "stdout",
     "output_type": "stream",
     "text": [
      "time: 35.6 ms (started: 2021-12-06 16:49:31 +01:00)\n"
     ]
    }
   ],
   "source": [
    "doc_top_df = pd.DataFrame(lst_app)\n",
    "doc_top_df = doc_top_df.rename(columns={0: \"Doc_ID\", 1: \"Topic_ID\"})\n",
    "doc_top_df"
   ]
  },
  {
   "cell_type": "code",
   "execution_count": 203,
   "id": "cdf0a784",
   "metadata": {},
   "outputs": [
    {
     "data": {
      "text/html": [
       "<div>\n",
       "<style scoped>\n",
       "    .dataframe tbody tr th:only-of-type {\n",
       "        vertical-align: middle;\n",
       "    }\n",
       "\n",
       "    .dataframe tbody tr th {\n",
       "        vertical-align: top;\n",
       "    }\n",
       "\n",
       "    .dataframe thead th {\n",
       "        text-align: right;\n",
       "    }\n",
       "</style>\n",
       "<table border=\"1\" class=\"dataframe\">\n",
       "  <thead>\n",
       "    <tr style=\"text-align: right;\">\n",
       "      <th></th>\n",
       "      <th>Doc_ID</th>\n",
       "      <th>Topic_ID</th>\n",
       "      <th>New_Tags</th>\n",
       "    </tr>\n",
       "  </thead>\n",
       "  <tbody>\n",
       "    <tr>\n",
       "      <th>0</th>\n",
       "      <td>0</td>\n",
       "      <td>52</td>\n",
       "      <td>web framework</td>\n",
       "    </tr>\n",
       "    <tr>\n",
       "      <th>1</th>\n",
       "      <td>1</td>\n",
       "      <td>36</td>\n",
       "      <td>python oop metaclass class datamodel</td>\n",
       "    </tr>\n",
       "    <tr>\n",
       "      <th>2</th>\n",
       "      <td>2</td>\n",
       "      <td>32</td>\n",
       "      <td>c log enterprise library application block</td>\n",
       "    </tr>\n",
       "    <tr>\n",
       "      <th>3</th>\n",
       "      <td>3</td>\n",
       "      <td>65</td>\n",
       "      <td>php facebook r</td>\n",
       "    </tr>\n",
       "    <tr>\n",
       "      <th>4</th>\n",
       "      <td>4</td>\n",
       "      <td>32</td>\n",
       "      <td>c regex</td>\n",
       "    </tr>\n",
       "    <tr>\n",
       "      <th>...</th>\n",
       "      <td>...</td>\n",
       "      <td>...</td>\n",
       "      <td>...</td>\n",
       "    </tr>\n",
       "    <tr>\n",
       "      <th>20727</th>\n",
       "      <td>20727</td>\n",
       "      <td>42</td>\n",
       "      <td>net wpf xaml datatrigger</td>\n",
       "    </tr>\n",
       "    <tr>\n",
       "      <th>20728</th>\n",
       "      <td>20728</td>\n",
       "      <td>62</td>\n",
       "      <td>python orm sqlalchemy</td>\n",
       "    </tr>\n",
       "    <tr>\n",
       "      <th>20729</th>\n",
       "      <td>20729</td>\n",
       "      <td>22</td>\n",
       "      <td>java dataoutputstream</td>\n",
       "    </tr>\n",
       "    <tr>\n",
       "      <th>20730</th>\n",
       "      <td>20730</td>\n",
       "      <td>8</td>\n",
       "      <td>php authentication cakephp</td>\n",
       "    </tr>\n",
       "    <tr>\n",
       "      <th>20731</th>\n",
       "      <td>20731</td>\n",
       "      <td>32</td>\n",
       "      <td>perl hash map</td>\n",
       "    </tr>\n",
       "  </tbody>\n",
       "</table>\n",
       "<p>20732 rows × 3 columns</p>\n",
       "</div>"
      ],
      "text/plain": [
       "       Doc_ID  Topic_ID                                    New_Tags\n",
       "0           0        52                               web framework\n",
       "1           1        36        python oop metaclass class datamodel\n",
       "2           2        32  c log enterprise library application block\n",
       "3           3        65                              php facebook r\n",
       "4           4        32                                     c regex\n",
       "...       ...       ...                                         ...\n",
       "20727   20727        42                    net wpf xaml datatrigger\n",
       "20728   20728        62                       python orm sqlalchemy\n",
       "20729   20729        22                       java dataoutputstream\n",
       "20730   20730         8                  php authentication cakephp\n",
       "20731   20731        32                               perl hash map\n",
       "\n",
       "[20732 rows x 3 columns]"
      ]
     },
     "execution_count": 203,
     "metadata": {},
     "output_type": "execute_result"
    },
    {
     "name": "stdout",
     "output_type": "stream",
     "text": [
      "time: 15.4 ms (started: 2021-12-06 16:51:49 +01:00)\n"
     ]
    }
   ],
   "source": [
    "count_Df = pd.concat([doc_top_df, y], axis=1)\n",
    "count_Df"
   ]
  },
  {
   "cell_type": "code",
   "execution_count": 291,
   "id": "65ae2e81",
   "metadata": {},
   "outputs": [
    {
     "data": {
      "text/html": [
       "<div>\n",
       "<style scoped>\n",
       "    .dataframe tbody tr th:only-of-type {\n",
       "        vertical-align: middle;\n",
       "    }\n",
       "\n",
       "    .dataframe tbody tr th {\n",
       "        vertical-align: top;\n",
       "    }\n",
       "\n",
       "    .dataframe thead th {\n",
       "        text-align: right;\n",
       "    }\n",
       "</style>\n",
       "<table border=\"1\" class=\"dataframe\">\n",
       "  <thead>\n",
       "    <tr style=\"text-align: right;\">\n",
       "      <th></th>\n",
       "      <th>Doc_ID</th>\n",
       "      <th>Topic_ID</th>\n",
       "      <th>New_Tags</th>\n",
       "      <th>Topic_W</th>\n",
       "    </tr>\n",
       "  </thead>\n",
       "  <tbody>\n",
       "    <tr>\n",
       "      <th>0</th>\n",
       "      <td>0</td>\n",
       "      <td>52</td>\n",
       "      <td>web framework</td>\n",
       "      <td>visual studio project</td>\n",
       "    </tr>\n",
       "    <tr>\n",
       "      <th>1</th>\n",
       "      <td>9</td>\n",
       "      <td>52</td>\n",
       "      <td>c unit test resharper</td>\n",
       "      <td>visual studio project</td>\n",
       "    </tr>\n",
       "    <tr>\n",
       "      <th>2</th>\n",
       "      <td>16</td>\n",
       "      <td>52</td>\n",
       "      <td>java swing shortcut keystroke</td>\n",
       "      <td>visual studio project</td>\n",
       "    </tr>\n",
       "    <tr>\n",
       "      <th>3</th>\n",
       "      <td>21</td>\n",
       "      <td>52</td>\n",
       "      <td>visual studio asp classic solution</td>\n",
       "      <td>visual studio project</td>\n",
       "    </tr>\n",
       "    <tr>\n",
       "      <th>4</th>\n",
       "      <td>27</td>\n",
       "      <td>52</td>\n",
       "      <td>c function header</td>\n",
       "      <td>visual studio project</td>\n",
       "    </tr>\n",
       "    <tr>\n",
       "      <th>...</th>\n",
       "      <td>...</td>\n",
       "      <td>...</td>\n",
       "      <td>...</td>\n",
       "      <td>...</td>\n",
       "    </tr>\n",
       "    <tr>\n",
       "      <th>20727</th>\n",
       "      <td>7859</td>\n",
       "      <td>28</td>\n",
       "      <td>java hibernate spring strut</td>\n",
       "      <td>report hibernate status</td>\n",
       "    </tr>\n",
       "    <tr>\n",
       "      <th>20728</th>\n",
       "      <td>10592</td>\n",
       "      <td>5</td>\n",
       "      <td>c class template syntax friend</td>\n",
       "      <td>console template designer</td>\n",
       "    </tr>\n",
       "    <tr>\n",
       "      <th>20729</th>\n",
       "      <td>12811</td>\n",
       "      <td>15</td>\n",
       "      <td>c keyboard</td>\n",
       "      <td>api lib assembly</td>\n",
       "    </tr>\n",
       "    <tr>\n",
       "      <th>20730</th>\n",
       "      <td>20075</td>\n",
       "      <td>15</td>\n",
       "      <td>documentation assembly doxygen</td>\n",
       "      <td>api lib assembly</td>\n",
       "    </tr>\n",
       "    <tr>\n",
       "      <th>20731</th>\n",
       "      <td>19099</td>\n",
       "      <td>17</td>\n",
       "      <td>java web service jax w</td>\n",
       "      <td>jsp servlet customer</td>\n",
       "    </tr>\n",
       "  </tbody>\n",
       "</table>\n",
       "<p>20732 rows × 4 columns</p>\n",
       "</div>"
      ],
      "text/plain": [
       "       Doc_ID  Topic_ID                            New_Tags  \\\n",
       "0           0        52                       web framework   \n",
       "1           9        52               c unit test resharper   \n",
       "2          16        52       java swing shortcut keystroke   \n",
       "3          21        52  visual studio asp classic solution   \n",
       "4          27        52                   c function header   \n",
       "...       ...       ...                                 ...   \n",
       "20727    7859        28         java hibernate spring strut   \n",
       "20728   10592         5      c class template syntax friend   \n",
       "20729   12811        15                          c keyboard   \n",
       "20730   20075        15      documentation assembly doxygen   \n",
       "20731   19099        17              java web service jax w   \n",
       "\n",
       "                         Topic_W  \n",
       "0          visual studio project  \n",
       "1          visual studio project  \n",
       "2          visual studio project  \n",
       "3          visual studio project  \n",
       "4          visual studio project  \n",
       "...                          ...  \n",
       "20727    report hibernate status  \n",
       "20728  console template designer  \n",
       "20729           api lib assembly  \n",
       "20730           api lib assembly  \n",
       "20731       jsp servlet customer  \n",
       "\n",
       "[20732 rows x 4 columns]"
      ]
     },
     "execution_count": 291,
     "metadata": {},
     "output_type": "execute_result"
    },
    {
     "name": "stdout",
     "output_type": "stream",
     "text": [
      "time: 72.9 ms (started: 2021-12-06 17:53:06 +01:00)\n"
     ]
    }
   ],
   "source": [
    "result = pd.merge(count_Df, dis_top_df, on=\"Topic_ID\")\n",
    "result['Topic_W'] = [','.join(map(str, l)) for l in result['Topic_Word']]\n",
    "result.pop('Topic_Word')\n",
    "result['Topic_W'] = result['Topic_W'].str.replace(r',', ' ')\n",
    "result"
   ]
  },
  {
   "cell_type": "code",
   "execution_count": 292,
   "id": "c8525cad",
   "metadata": {},
   "outputs": [
    {
     "data": {
      "text/html": [
       "<div>\n",
       "<style scoped>\n",
       "    .dataframe tbody tr th:only-of-type {\n",
       "        vertical-align: middle;\n",
       "    }\n",
       "\n",
       "    .dataframe tbody tr th {\n",
       "        vertical-align: top;\n",
       "    }\n",
       "\n",
       "    .dataframe thead th {\n",
       "        text-align: right;\n",
       "    }\n",
       "</style>\n",
       "<table border=\"1\" class=\"dataframe\">\n",
       "  <thead>\n",
       "    <tr style=\"text-align: right;\">\n",
       "      <th></th>\n",
       "      <th>0</th>\n",
       "      <th>1</th>\n",
       "    </tr>\n",
       "  </thead>\n",
       "  <tbody>\n",
       "    <tr>\n",
       "      <th>0</th>\n",
       "      <td>[web, framework]</td>\n",
       "      <td>[visual, studio, project]</td>\n",
       "    </tr>\n",
       "    <tr>\n",
       "      <th>1</th>\n",
       "      <td>[c, unit, test, resharper]</td>\n",
       "      <td>[visual, studio, project]</td>\n",
       "    </tr>\n",
       "    <tr>\n",
       "      <th>2</th>\n",
       "      <td>[java, swing, shortcut, keystroke]</td>\n",
       "      <td>[visual, studio, project]</td>\n",
       "    </tr>\n",
       "    <tr>\n",
       "      <th>3</th>\n",
       "      <td>[visual, studio, asp, classic, solution]</td>\n",
       "      <td>[visual, studio, project]</td>\n",
       "    </tr>\n",
       "    <tr>\n",
       "      <th>4</th>\n",
       "      <td>[c, function, header]</td>\n",
       "      <td>[visual, studio, project]</td>\n",
       "    </tr>\n",
       "    <tr>\n",
       "      <th>...</th>\n",
       "      <td>...</td>\n",
       "      <td>...</td>\n",
       "    </tr>\n",
       "    <tr>\n",
       "      <th>20727</th>\n",
       "      <td>[java, hibernate, spring, strut]</td>\n",
       "      <td>[report, hibernate, status]</td>\n",
       "    </tr>\n",
       "    <tr>\n",
       "      <th>20728</th>\n",
       "      <td>[c, class, template, syntax, friend]</td>\n",
       "      <td>[console, template, designer]</td>\n",
       "    </tr>\n",
       "    <tr>\n",
       "      <th>20729</th>\n",
       "      <td>[c, keyboard]</td>\n",
       "      <td>[api, lib, assembly]</td>\n",
       "    </tr>\n",
       "    <tr>\n",
       "      <th>20730</th>\n",
       "      <td>[documentation, assembly, doxygen]</td>\n",
       "      <td>[api, lib, assembly]</td>\n",
       "    </tr>\n",
       "    <tr>\n",
       "      <th>20731</th>\n",
       "      <td>[java, web, service, jax, w]</td>\n",
       "      <td>[jsp, servlet, customer]</td>\n",
       "    </tr>\n",
       "  </tbody>\n",
       "</table>\n",
       "<p>20732 rows × 2 columns</p>\n",
       "</div>"
      ],
      "text/plain": [
       "                                              0                              1\n",
       "0                              [web, framework]      [visual, studio, project]\n",
       "1                    [c, unit, test, resharper]      [visual, studio, project]\n",
       "2            [java, swing, shortcut, keystroke]      [visual, studio, project]\n",
       "3      [visual, studio, asp, classic, solution]      [visual, studio, project]\n",
       "4                         [c, function, header]      [visual, studio, project]\n",
       "...                                         ...                            ...\n",
       "20727          [java, hibernate, spring, strut]    [report, hibernate, status]\n",
       "20728      [c, class, template, syntax, friend]  [console, template, designer]\n",
       "20729                             [c, keyboard]           [api, lib, assembly]\n",
       "20730        [documentation, assembly, doxygen]           [api, lib, assembly]\n",
       "20731              [java, web, service, jax, w]       [jsp, servlet, customer]\n",
       "\n",
       "[20732 rows x 2 columns]"
      ]
     },
     "execution_count": 292,
     "metadata": {},
     "output_type": "execute_result"
    },
    {
     "name": "stdout",
     "output_type": "stream",
     "text": [
      "time: 65.4 ms (started: 2021-12-06 17:53:06 +01:00)\n"
     ]
    }
   ],
   "source": [
    "list_tst = result.New_Tags.apply(lambda txt: txt.split(' '))\n",
    "\n",
    "list_tst_2 = result.Topic_W.apply(lambda txt: txt.split(' '))\n",
    "\n",
    "result = pd.concat([list_tst,list_tst_2 ], axis=1, ignore_index=True)\n",
    "result"
   ]
  },
  {
   "cell_type": "code",
   "execution_count": 273,
   "id": "30cc54df",
   "metadata": {},
   "outputs": [
    {
     "name": "stderr",
     "output_type": "stream",
     "text": [
      "100%|██████████| 20732/20732 [00:08<00:00, 2365.98it/s]"
     ]
    },
    {
     "name": "stdout",
     "output_type": "stream",
     "text": [
      "Nb de comparaison ------>  216378\n",
      "Match ------>  3791\n",
      "time: 8.77 s (started: 2021-12-06 17:43:55 +01:00)\n"
     ]
    },
    {
     "name": "stderr",
     "output_type": "stream",
     "text": [
      "\n"
     ]
    }
   ],
   "source": [
    "l = 0\n",
    "m = 0\n",
    "check_App = []\n",
    "for i in tqdm(range(len(result))):\n",
    "    for j in result.iloc[i][0]:\n",
    "        for k in result.iloc[i][1]:\n",
    "            l = l+1\n",
    "            if j==k:\n",
    "                m = m+1\n",
    "            else:\n",
    "                continue\n",
    "            check_App.append([i,1])\n",
    "print(\"Nb de comparaison ------> \", l)\n",
    "print(\"Match ------> \", m)"
   ]
  },
  {
   "cell_type": "code",
   "execution_count": 269,
   "id": "b4db152a",
   "metadata": {},
   "outputs": [
    {
     "name": "stdout",
     "output_type": "stream",
     "text": [
      "0.01752026546136853\n",
      "time: 585 µs (started: 2021-12-06 17:40:05 +01:00)\n"
     ]
    }
   ],
   "source": [
    "print(m/l)"
   ]
  },
  {
   "cell_type": "code",
   "execution_count": 286,
   "id": "3a3e5a57",
   "metadata": {},
   "outputs": [
    {
     "data": {
      "text/html": [
       "<div>\n",
       "<style scoped>\n",
       "    .dataframe tbody tr th:only-of-type {\n",
       "        vertical-align: middle;\n",
       "    }\n",
       "\n",
       "    .dataframe tbody tr th {\n",
       "        vertical-align: top;\n",
       "    }\n",
       "\n",
       "    .dataframe thead th {\n",
       "        text-align: right;\n",
       "    }\n",
       "</style>\n",
       "<table border=\"1\" class=\"dataframe\">\n",
       "  <thead>\n",
       "    <tr style=\"text-align: right;\">\n",
       "      <th></th>\n",
       "      <th>Doc_ID</th>\n",
       "      <th>Count_same</th>\n",
       "    </tr>\n",
       "  </thead>\n",
       "  <tbody>\n",
       "    <tr>\n",
       "      <th>0</th>\n",
       "      <td>3</td>\n",
       "      <td>2</td>\n",
       "    </tr>\n",
       "    <tr>\n",
       "      <th>1</th>\n",
       "      <td>8</td>\n",
       "      <td>2</td>\n",
       "    </tr>\n",
       "    <tr>\n",
       "      <th>2</th>\n",
       "      <td>10</td>\n",
       "      <td>2</td>\n",
       "    </tr>\n",
       "    <tr>\n",
       "      <th>3</th>\n",
       "      <td>16</td>\n",
       "      <td>2</td>\n",
       "    </tr>\n",
       "    <tr>\n",
       "      <th>4</th>\n",
       "      <td>25</td>\n",
       "      <td>2</td>\n",
       "    </tr>\n",
       "    <tr>\n",
       "      <th>...</th>\n",
       "      <td>...</td>\n",
       "      <td>...</td>\n",
       "    </tr>\n",
       "    <tr>\n",
       "      <th>2895</th>\n",
       "      <td>20724</td>\n",
       "      <td>2</td>\n",
       "    </tr>\n",
       "    <tr>\n",
       "      <th>2896</th>\n",
       "      <td>20726</td>\n",
       "      <td>1</td>\n",
       "    </tr>\n",
       "    <tr>\n",
       "      <th>2897</th>\n",
       "      <td>20727</td>\n",
       "      <td>1</td>\n",
       "    </tr>\n",
       "    <tr>\n",
       "      <th>2898</th>\n",
       "      <td>20728</td>\n",
       "      <td>1</td>\n",
       "    </tr>\n",
       "    <tr>\n",
       "      <th>2899</th>\n",
       "      <td>20730</td>\n",
       "      <td>1</td>\n",
       "    </tr>\n",
       "  </tbody>\n",
       "</table>\n",
       "<p>2900 rows × 2 columns</p>\n",
       "</div>"
      ],
      "text/plain": [
       "      Doc_ID  Count_same\n",
       "0          3           2\n",
       "1          8           2\n",
       "2         10           2\n",
       "3         16           2\n",
       "4         25           2\n",
       "...      ...         ...\n",
       "2895   20724           2\n",
       "2896   20726           1\n",
       "2897   20727           1\n",
       "2898   20728           1\n",
       "2899   20730           1\n",
       "\n",
       "[2900 rows x 2 columns]"
      ]
     },
     "execution_count": 286,
     "metadata": {},
     "output_type": "execute_result"
    },
    {
     "name": "stdout",
     "output_type": "stream",
     "text": [
      "time: 22.9 ms (started: 2021-12-06 17:52:13 +01:00)\n"
     ]
    }
   ],
   "source": [
    "check_App_df = pd.DataFrame(check_App)\n",
    "check_App_df_1 = check_App_df.groupby([0]).sum()\n",
    "check_App_df_1 = check_App_df_1.reset_index()\n",
    "check_App_df_1 = check_App_df_1.rename(columns={0: \"Doc_ID\", 1: \"Count_same\"})\n",
    "check_App_df_1"
   ]
  },
  {
   "cell_type": "code",
   "execution_count": 294,
   "id": "72e36421",
   "metadata": {},
   "outputs": [
    {
     "data": {
      "text/html": [
       "<div>\n",
       "<style scoped>\n",
       "    .dataframe tbody tr th:only-of-type {\n",
       "        vertical-align: middle;\n",
       "    }\n",
       "\n",
       "    .dataframe tbody tr th {\n",
       "        vertical-align: top;\n",
       "    }\n",
       "\n",
       "    .dataframe thead th {\n",
       "        text-align: right;\n",
       "    }\n",
       "</style>\n",
       "<table border=\"1\" class=\"dataframe\">\n",
       "  <thead>\n",
       "    <tr style=\"text-align: right;\">\n",
       "      <th></th>\n",
       "      <th>Doc_ID</th>\n",
       "      <th>0</th>\n",
       "      <th>1</th>\n",
       "    </tr>\n",
       "  </thead>\n",
       "  <tbody>\n",
       "    <tr>\n",
       "      <th>0</th>\n",
       "      <td>0</td>\n",
       "      <td>[web, framework]</td>\n",
       "      <td>[visual, studio, project]</td>\n",
       "    </tr>\n",
       "    <tr>\n",
       "      <th>1</th>\n",
       "      <td>1</td>\n",
       "      <td>[c, unit, test, resharper]</td>\n",
       "      <td>[visual, studio, project]</td>\n",
       "    </tr>\n",
       "    <tr>\n",
       "      <th>2</th>\n",
       "      <td>2</td>\n",
       "      <td>[java, swing, shortcut, keystroke]</td>\n",
       "      <td>[visual, studio, project]</td>\n",
       "    </tr>\n",
       "    <tr>\n",
       "      <th>3</th>\n",
       "      <td>3</td>\n",
       "      <td>[visual, studio, asp, classic, solution]</td>\n",
       "      <td>[visual, studio, project]</td>\n",
       "    </tr>\n",
       "    <tr>\n",
       "      <th>4</th>\n",
       "      <td>4</td>\n",
       "      <td>[c, function, header]</td>\n",
       "      <td>[visual, studio, project]</td>\n",
       "    </tr>\n",
       "    <tr>\n",
       "      <th>...</th>\n",
       "      <td>...</td>\n",
       "      <td>...</td>\n",
       "      <td>...</td>\n",
       "    </tr>\n",
       "    <tr>\n",
       "      <th>20727</th>\n",
       "      <td>20727</td>\n",
       "      <td>[java, hibernate, spring, strut]</td>\n",
       "      <td>[report, hibernate, status]</td>\n",
       "    </tr>\n",
       "    <tr>\n",
       "      <th>20728</th>\n",
       "      <td>20728</td>\n",
       "      <td>[c, class, template, syntax, friend]</td>\n",
       "      <td>[console, template, designer]</td>\n",
       "    </tr>\n",
       "    <tr>\n",
       "      <th>20729</th>\n",
       "      <td>20729</td>\n",
       "      <td>[c, keyboard]</td>\n",
       "      <td>[api, lib, assembly]</td>\n",
       "    </tr>\n",
       "    <tr>\n",
       "      <th>20730</th>\n",
       "      <td>20730</td>\n",
       "      <td>[documentation, assembly, doxygen]</td>\n",
       "      <td>[api, lib, assembly]</td>\n",
       "    </tr>\n",
       "    <tr>\n",
       "      <th>20731</th>\n",
       "      <td>20731</td>\n",
       "      <td>[java, web, service, jax, w]</td>\n",
       "      <td>[jsp, servlet, customer]</td>\n",
       "    </tr>\n",
       "  </tbody>\n",
       "</table>\n",
       "<p>20732 rows × 3 columns</p>\n",
       "</div>"
      ],
      "text/plain": [
       "       Doc_ID                                         0  \\\n",
       "0           0                          [web, framework]   \n",
       "1           1                [c, unit, test, resharper]   \n",
       "2           2        [java, swing, shortcut, keystroke]   \n",
       "3           3  [visual, studio, asp, classic, solution]   \n",
       "4           4                     [c, function, header]   \n",
       "...       ...                                       ...   \n",
       "20727   20727          [java, hibernate, spring, strut]   \n",
       "20728   20728      [c, class, template, syntax, friend]   \n",
       "20729   20729                             [c, keyboard]   \n",
       "20730   20730        [documentation, assembly, doxygen]   \n",
       "20731   20731              [java, web, service, jax, w]   \n",
       "\n",
       "                                   1  \n",
       "0          [visual, studio, project]  \n",
       "1          [visual, studio, project]  \n",
       "2          [visual, studio, project]  \n",
       "3          [visual, studio, project]  \n",
       "4          [visual, studio, project]  \n",
       "...                              ...  \n",
       "20727    [report, hibernate, status]  \n",
       "20728  [console, template, designer]  \n",
       "20729           [api, lib, assembly]  \n",
       "20730           [api, lib, assembly]  \n",
       "20731       [jsp, servlet, customer]  \n",
       "\n",
       "[20732 rows x 3 columns]"
      ]
     },
     "execution_count": 294,
     "metadata": {},
     "output_type": "execute_result"
    },
    {
     "name": "stdout",
     "output_type": "stream",
     "text": [
      "time: 26.5 ms (started: 2021-12-06 17:53:57 +01:00)\n"
     ]
    }
   ],
   "source": [
    "result_1 = result.reset_index()\n",
    "result_1 = result_1.rename(columns={\"index\": \"Doc_ID\"})\n",
    "result_1"
   ]
  },
  {
   "cell_type": "code",
   "execution_count": 297,
   "id": "28d0211b",
   "metadata": {},
   "outputs": [
    {
     "data": {
      "text/html": [
       "<div>\n",
       "<style scoped>\n",
       "    .dataframe tbody tr th:only-of-type {\n",
       "        vertical-align: middle;\n",
       "    }\n",
       "\n",
       "    .dataframe tbody tr th {\n",
       "        vertical-align: top;\n",
       "    }\n",
       "\n",
       "    .dataframe thead th {\n",
       "        text-align: right;\n",
       "    }\n",
       "</style>\n",
       "<table border=\"1\" class=\"dataframe\">\n",
       "  <thead>\n",
       "    <tr style=\"text-align: right;\">\n",
       "      <th></th>\n",
       "      <th>Doc_ID</th>\n",
       "      <th>0</th>\n",
       "      <th>1</th>\n",
       "      <th>Count_same</th>\n",
       "    </tr>\n",
       "  </thead>\n",
       "  <tbody>\n",
       "    <tr>\n",
       "      <th>0</th>\n",
       "      <td>0</td>\n",
       "      <td>[web, framework]</td>\n",
       "      <td>[visual, studio, project]</td>\n",
       "      <td>0.0</td>\n",
       "    </tr>\n",
       "    <tr>\n",
       "      <th>1</th>\n",
       "      <td>1</td>\n",
       "      <td>[c, unit, test, resharper]</td>\n",
       "      <td>[visual, studio, project]</td>\n",
       "      <td>0.0</td>\n",
       "    </tr>\n",
       "    <tr>\n",
       "      <th>2</th>\n",
       "      <td>2</td>\n",
       "      <td>[java, swing, shortcut, keystroke]</td>\n",
       "      <td>[visual, studio, project]</td>\n",
       "      <td>0.0</td>\n",
       "    </tr>\n",
       "    <tr>\n",
       "      <th>3</th>\n",
       "      <td>3</td>\n",
       "      <td>[visual, studio, asp, classic, solution]</td>\n",
       "      <td>[visual, studio, project]</td>\n",
       "      <td>2.0</td>\n",
       "    </tr>\n",
       "    <tr>\n",
       "      <th>4</th>\n",
       "      <td>4</td>\n",
       "      <td>[c, function, header]</td>\n",
       "      <td>[visual, studio, project]</td>\n",
       "      <td>0.0</td>\n",
       "    </tr>\n",
       "    <tr>\n",
       "      <th>...</th>\n",
       "      <td>...</td>\n",
       "      <td>...</td>\n",
       "      <td>...</td>\n",
       "      <td>...</td>\n",
       "    </tr>\n",
       "    <tr>\n",
       "      <th>20727</th>\n",
       "      <td>20727</td>\n",
       "      <td>[java, hibernate, spring, strut]</td>\n",
       "      <td>[report, hibernate, status]</td>\n",
       "      <td>1.0</td>\n",
       "    </tr>\n",
       "    <tr>\n",
       "      <th>20728</th>\n",
       "      <td>20728</td>\n",
       "      <td>[c, class, template, syntax, friend]</td>\n",
       "      <td>[console, template, designer]</td>\n",
       "      <td>1.0</td>\n",
       "    </tr>\n",
       "    <tr>\n",
       "      <th>20729</th>\n",
       "      <td>20729</td>\n",
       "      <td>[c, keyboard]</td>\n",
       "      <td>[api, lib, assembly]</td>\n",
       "      <td>0.0</td>\n",
       "    </tr>\n",
       "    <tr>\n",
       "      <th>20730</th>\n",
       "      <td>20730</td>\n",
       "      <td>[documentation, assembly, doxygen]</td>\n",
       "      <td>[api, lib, assembly]</td>\n",
       "      <td>1.0</td>\n",
       "    </tr>\n",
       "    <tr>\n",
       "      <th>20731</th>\n",
       "      <td>20731</td>\n",
       "      <td>[java, web, service, jax, w]</td>\n",
       "      <td>[jsp, servlet, customer]</td>\n",
       "      <td>0.0</td>\n",
       "    </tr>\n",
       "  </tbody>\n",
       "</table>\n",
       "<p>20732 rows × 4 columns</p>\n",
       "</div>"
      ],
      "text/plain": [
       "       Doc_ID                                         0  \\\n",
       "0           0                          [web, framework]   \n",
       "1           1                [c, unit, test, resharper]   \n",
       "2           2        [java, swing, shortcut, keystroke]   \n",
       "3           3  [visual, studio, asp, classic, solution]   \n",
       "4           4                     [c, function, header]   \n",
       "...       ...                                       ...   \n",
       "20727   20727          [java, hibernate, spring, strut]   \n",
       "20728   20728      [c, class, template, syntax, friend]   \n",
       "20729   20729                             [c, keyboard]   \n",
       "20730   20730        [documentation, assembly, doxygen]   \n",
       "20731   20731              [java, web, service, jax, w]   \n",
       "\n",
       "                                   1  Count_same  \n",
       "0          [visual, studio, project]         0.0  \n",
       "1          [visual, studio, project]         0.0  \n",
       "2          [visual, studio, project]         0.0  \n",
       "3          [visual, studio, project]         2.0  \n",
       "4          [visual, studio, project]         0.0  \n",
       "...                              ...         ...  \n",
       "20727    [report, hibernate, status]         1.0  \n",
       "20728  [console, template, designer]         1.0  \n",
       "20729           [api, lib, assembly]         0.0  \n",
       "20730           [api, lib, assembly]         1.0  \n",
       "20731       [jsp, servlet, customer]         0.0  \n",
       "\n",
       "[20732 rows x 4 columns]"
      ]
     },
     "execution_count": 297,
     "metadata": {},
     "output_type": "execute_result"
    },
    {
     "name": "stdout",
     "output_type": "stream",
     "text": [
      "time: 45.4 ms (started: 2021-12-06 17:54:25 +01:00)\n"
     ]
    }
   ],
   "source": [
    "result_2 = pd.merge(result_1, check_App_df_1, on=\"Doc_ID\",how='outer')\n",
    "result_2 = result_2.fillna(0)\n",
    "result_2"
   ]
  },
  {
   "cell_type": "code",
   "execution_count": 315,
   "id": "50def297",
   "metadata": {},
   "outputs": [
    {
     "name": "stdout",
     "output_type": "stream",
     "text": [
      "accuracy / 3 tags pred 6.1  %\n",
      "\n",
      "time: 1.24 ms (started: 2021-12-06 18:50:48 +01:00)\n"
     ]
    }
   ],
   "source": [
    "_sum_ = result_2.Count_same.sum()\n",
    "total = 20732*3\n",
    "print('accuracy / 3 tags pred', round(_sum_/total*100,2) , ' %')\n",
    "print('')"
   ]
  },
  {
   "cell_type": "code",
   "execution_count": 314,
   "id": "99e12153",
   "metadata": {},
   "outputs": [
    {
     "name": "stdout",
     "output_type": "stream",
     "text": [
      "accuracy / total 5.26  %\n",
      "\n",
      "time: 847 µs (started: 2021-12-06 18:50:46 +01:00)\n"
     ]
    }
   ],
   "source": [
    "val_count['Nb_tag'] = val_count['Nb_Words'] * val_count['tag_count']\n",
    "_s_u_m_ = val_count.Nb_tag.sum()\n",
    "print('accuracy / total', round(_sum_/_s_u_m_*100,2) , ' %')\n",
    "print('')"
   ]
  },
  {
   "cell_type": "code",
   "execution_count": null,
   "id": "c8ce1ad3",
   "metadata": {},
   "outputs": [],
   "source": []
  }
 ],
 "metadata": {
  "kernelspec": {
   "display_name": "Python 3 (ipykernel)",
   "language": "python",
   "name": "python3"
  },
  "language_info": {
   "codemirror_mode": {
    "name": "ipython",
    "version": 3
   },
   "file_extension": ".py",
   "mimetype": "text/x-python",
   "name": "python",
   "nbconvert_exporter": "python",
   "pygments_lexer": "ipython3",
   "version": "3.8.5"
  }
 },
 "nbformat": 4,
 "nbformat_minor": 5
}
