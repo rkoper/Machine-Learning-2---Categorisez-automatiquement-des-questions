{
 "cells": [
  {
   "cell_type": "code",
   "execution_count": 1,
   "id": "d3a1fd20",
   "metadata": {},
   "outputs": [
    {
     "name": "stdout",
     "output_type": "stream",
     "text": [
      "time: 494 µs (started: 2021-12-30 12:26:53 +01:00)\n"
     ]
    }
   ],
   "source": [
    "%load_ext autotime"
   ]
  },
  {
   "cell_type": "code",
   "execution_count": 2,
   "id": "c917f9f8",
   "metadata": {},
   "outputs": [
    {
     "name": "stdout",
     "output_type": "stream",
     "text": [
      "time: 5.92 s (started: 2021-12-30 12:26:53 +01:00)\n"
     ]
    }
   ],
   "source": [
    "import numpy as np\n",
    "import pandas as pd\n",
    "import seaborn as sns\n",
    "import os\n",
    "from bs4 import BeautifulSoup\n",
    "from sklearn.multiclass import OneVsOneClassifier\n",
    "from sklearn.metrics import accuracy_score, classification_report\n",
    "import warnings\n",
    "from sklearn.metrics import confusion_matrix\n",
    "warnings.simplefilter(action='ignore', category=Warning)\n",
    "from sklearn.feature_extraction.text import CountVectorizer\n",
    "from tqdm import tqdm\n",
    "import matplotlib.pyplot as plt\n",
    "from sklearn.feature_extraction.text import TfidfVectorizer\n",
    "from sklearn.multiclass import OneVsRestClassifier\n",
    "from sklearn.linear_model import SGDClassifier\n",
    "from sklearn import metrics\n",
    "from sklearn.metrics import f1_score,precision_score,recall_score\n",
    "from sklearn import svm\n",
    "from sklearn.linear_model import LogisticRegression\n",
    "from sklearn.metrics import f1_score\n",
    "from sklearn.decomposition import LatentDirichletAllocation\n",
    "from sklearn.preprocessing import MultiLabelBinarizer\n",
    "from sklearn.model_selection import train_test_split\n",
    "from sklearn.metrics import hamming_loss\n",
    "from sklearn.ensemble import RandomForestClassifier\n",
    "from sklearn.naive_bayes import GaussianNB\n",
    "from sklearn.feature_extraction.text import CountVectorizer\n"
   ]
  },
  {
   "cell_type": "markdown",
   "id": "a73a7daa",
   "metadata": {},
   "source": [
    "# 1 - Import data"
   ]
  },
  {
   "cell_type": "code",
   "execution_count": 3,
   "metadata": {},
   "outputs": [
    {
     "name": "stdout",
     "output_type": "stream",
     "text": [
      "time: 9.95 s (started: 2021-12-30 12:26:59 +01:00)\n"
     ]
    }
   ],
   "source": [
    "lst = []\n",
    "for i in range (1,11):\n",
    "#for i in range (1,3):\n",
    "    path = 'Data/Query_'+ str(i) + '.csv'\n",
    "    mDf = pd.read_csv(path, dtype=str) \n",
    "    lst.append(mDf)"
   ]
  },
  {
   "cell_type": "code",
   "execution_count": 5,
   "metadata": {},
   "outputs": [
    {
     "name": "stdout",
     "output_type": "stream",
     "text": [
      "time: 13.7 s (started: 2021-12-30 12:28:08 +01:00)\n"
     ]
    }
   ],
   "source": [
    "mDataBrut  = pd.concat(lst, ignore_index=True)\n",
    "mDataBrut.to_csv('mDataBrut.csv', index=False)"
   ]
  },
  {
   "cell_type": "code",
   "execution_count": 6,
   "metadata": {},
   "outputs": [
    {
     "data": {
      "text/html": [
       "<div>\n",
       "<style scoped>\n",
       "    .dataframe tbody tr th:only-of-type {\n",
       "        vertical-align: middle;\n",
       "    }\n",
       "\n",
       "    .dataframe tbody tr th {\n",
       "        vertical-align: top;\n",
       "    }\n",
       "\n",
       "    .dataframe thead th {\n",
       "        text-align: right;\n",
       "    }\n",
       "</style>\n",
       "<table border=\"1\" class=\"dataframe\">\n",
       "  <thead>\n",
       "    <tr style=\"text-align: right;\">\n",
       "      <th></th>\n",
       "      <th>Id</th>\n",
       "      <th>PostTypeId</th>\n",
       "      <th>AcceptedAnswerId</th>\n",
       "      <th>ParentId</th>\n",
       "      <th>CreationDate</th>\n",
       "      <th>DeletionDate</th>\n",
       "      <th>Score</th>\n",
       "      <th>ViewCount</th>\n",
       "      <th>Body</th>\n",
       "      <th>OwnerUserId</th>\n",
       "      <th>...</th>\n",
       "      <th>LastEditDate</th>\n",
       "      <th>LastActivityDate</th>\n",
       "      <th>Title</th>\n",
       "      <th>Tags</th>\n",
       "      <th>AnswerCount</th>\n",
       "      <th>CommentCount</th>\n",
       "      <th>FavoriteCount</th>\n",
       "      <th>ClosedDate</th>\n",
       "      <th>CommunityOwnedDate</th>\n",
       "      <th>ContentLicense</th>\n",
       "    </tr>\n",
       "  </thead>\n",
       "  <tbody>\n",
       "    <tr>\n",
       "      <th>0</th>\n",
       "      <td>100001</td>\n",
       "      <td>1</td>\n",
       "      <td>NaN</td>\n",
       "      <td>NaN</td>\n",
       "      <td>2008-09-19 06:10:16</td>\n",
       "      <td>NaN</td>\n",
       "      <td>5</td>\n",
       "      <td>6715</td>\n",
       "      <td>&lt;p&gt;This question intends to be technology-agno...</td>\n",
       "      <td>18552</td>\n",
       "      <td>...</td>\n",
       "      <td>NaN</td>\n",
       "      <td>2009-02-27 00:27:14</td>\n",
       "      <td>MVC or event-driven component-oriented web fra...</td>\n",
       "      <td>&lt;web-frameworks&gt;</td>\n",
       "      <td>6</td>\n",
       "      <td>0</td>\n",
       "      <td>1</td>\n",
       "      <td>2012-08-15 13:39:14</td>\n",
       "      <td>NaN</td>\n",
       "      <td>CC BY-SA 2.5</td>\n",
       "    </tr>\n",
       "    <tr>\n",
       "      <th>1</th>\n",
       "      <td>100003</td>\n",
       "      <td>1</td>\n",
       "      <td>100146</td>\n",
       "      <td>NaN</td>\n",
       "      <td>2008-09-19 06:10:46</td>\n",
       "      <td>NaN</td>\n",
       "      <td>6435</td>\n",
       "      <td>939655</td>\n",
       "      <td>&lt;p&gt;In Python, what are metaclasses and what do...</td>\n",
       "      <td>9951</td>\n",
       "      <td>...</td>\n",
       "      <td>2021-01-13 03:43:24</td>\n",
       "      <td>2021-10-03 16:06:40</td>\n",
       "      <td>What are metaclasses in Python?</td>\n",
       "      <td>&lt;python&gt;&lt;oop&gt;&lt;metaclass&gt;&lt;python-class&gt;&lt;python-...</td>\n",
       "      <td>24</td>\n",
       "      <td>0</td>\n",
       "      <td>4115</td>\n",
       "      <td>NaN</td>\n",
       "      <td>NaN</td>\n",
       "      <td>CC BY-SA 4.0</td>\n",
       "    </tr>\n",
       "    <tr>\n",
       "      <th>2</th>\n",
       "      <td>100004</td>\n",
       "      <td>2</td>\n",
       "      <td>NaN</td>\n",
       "      <td>99830</td>\n",
       "      <td>2008-09-19 06:11:42</td>\n",
       "      <td>NaN</td>\n",
       "      <td>5</td>\n",
       "      <td>NaN</td>\n",
       "      <td>&lt;p&gt;Yes, that's actually very annoying.  We use...</td>\n",
       "      <td>14860</td>\n",
       "      <td>...</td>\n",
       "      <td>NaN</td>\n",
       "      <td>2008-09-19 06:11:42</td>\n",
       "      <td>NaN</td>\n",
       "      <td>NaN</td>\n",
       "      <td>NaN</td>\n",
       "      <td>0</td>\n",
       "      <td>NaN</td>\n",
       "      <td>NaN</td>\n",
       "      <td>NaN</td>\n",
       "      <td>CC BY-SA 2.5</td>\n",
       "    </tr>\n",
       "    <tr>\n",
       "      <th>3</th>\n",
       "      <td>100007</td>\n",
       "      <td>1</td>\n",
       "      <td>100961</td>\n",
       "      <td>NaN</td>\n",
       "      <td>2008-09-19 06:12:37</td>\n",
       "      <td>NaN</td>\n",
       "      <td>2</td>\n",
       "      <td>1899</td>\n",
       "      <td>&lt;p&gt;When logging with Log4Net it's very easy to...</td>\n",
       "      <td>11908</td>\n",
       "      <td>...</td>\n",
       "      <td>2014-12-04 10:01:14</td>\n",
       "      <td>2014-12-04 10:01:14</td>\n",
       "      <td>Logging Application Block - Logging the caller</td>\n",
       "      <td>&lt;c#&gt;&lt;logging&gt;&lt;enterprise-library&gt;&lt;application-...</td>\n",
       "      <td>2</td>\n",
       "      <td>0</td>\n",
       "      <td>NaN</td>\n",
       "      <td>NaN</td>\n",
       "      <td>NaN</td>\n",
       "      <td>CC BY-SA 3.0</td>\n",
       "    </tr>\n",
       "    <tr>\n",
       "      <th>4</th>\n",
       "      <td>100008</td>\n",
       "      <td>2</td>\n",
       "      <td>NaN</td>\n",
       "      <td>99743</td>\n",
       "      <td>2008-09-19 06:12:48</td>\n",
       "      <td>NaN</td>\n",
       "      <td>0</td>\n",
       "      <td>NaN</td>\n",
       "      <td>&lt;p&gt;I use &lt;a href=\"http://devguard.com/\" rel=\"n...</td>\n",
       "      <td>16549</td>\n",
       "      <td>...</td>\n",
       "      <td>NaN</td>\n",
       "      <td>2008-09-19 06:12:48</td>\n",
       "      <td>NaN</td>\n",
       "      <td>NaN</td>\n",
       "      <td>NaN</td>\n",
       "      <td>0</td>\n",
       "      <td>NaN</td>\n",
       "      <td>NaN</td>\n",
       "      <td>NaN</td>\n",
       "      <td>CC BY-SA 2.5</td>\n",
       "    </tr>\n",
       "    <tr>\n",
       "      <th>...</th>\n",
       "      <td>...</td>\n",
       "      <td>...</td>\n",
       "      <td>...</td>\n",
       "      <td>...</td>\n",
       "      <td>...</td>\n",
       "      <td>...</td>\n",
       "      <td>...</td>\n",
       "      <td>...</td>\n",
       "      <td>...</td>\n",
       "      <td>...</td>\n",
       "      <td>...</td>\n",
       "      <td>...</td>\n",
       "      <td>...</td>\n",
       "      <td>...</td>\n",
       "      <td>...</td>\n",
       "      <td>...</td>\n",
       "      <td>...</td>\n",
       "      <td>...</td>\n",
       "      <td>...</td>\n",
       "      <td>...</td>\n",
       "      <td>...</td>\n",
       "    </tr>\n",
       "    <tr>\n",
       "      <th>499995</th>\n",
       "      <td>69847370</td>\n",
       "      <td>2</td>\n",
       "      <td>NaN</td>\n",
       "      <td>69846609</td>\n",
       "      <td>2021-11-05 00:28:43</td>\n",
       "      <td>NaN</td>\n",
       "      <td>2</td>\n",
       "      <td>NaN</td>\n",
       "      <td>&lt;p&gt;You can use &lt;code&gt;tf.gather&lt;/code&gt; with the...</td>\n",
       "      <td>17289463</td>\n",
       "      <td>...</td>\n",
       "      <td>NaN</td>\n",
       "      <td>2021-11-05 00:28:43</td>\n",
       "      <td>NaN</td>\n",
       "      <td>NaN</td>\n",
       "      <td>NaN</td>\n",
       "      <td>1</td>\n",
       "      <td>NaN</td>\n",
       "      <td>NaN</td>\n",
       "      <td>NaN</td>\n",
       "      <td>CC BY-SA 4.0</td>\n",
       "    </tr>\n",
       "    <tr>\n",
       "      <th>499996</th>\n",
       "      <td>69850769</td>\n",
       "      <td>2</td>\n",
       "      <td>NaN</td>\n",
       "      <td>69849359</td>\n",
       "      <td>2021-11-05 09:04:35</td>\n",
       "      <td>NaN</td>\n",
       "      <td>0</td>\n",
       "      <td>NaN</td>\n",
       "      <td>&lt;pre&gt;&lt;code&gt;std::vector&amp;lt;T&amp;gt; v(100, t);\\nf(...</td>\n",
       "      <td>2684539</td>\n",
       "      <td>...</td>\n",
       "      <td>NaN</td>\n",
       "      <td>2021-11-05 09:04:35</td>\n",
       "      <td>NaN</td>\n",
       "      <td>NaN</td>\n",
       "      <td>NaN</td>\n",
       "      <td>0</td>\n",
       "      <td>NaN</td>\n",
       "      <td>NaN</td>\n",
       "      <td>NaN</td>\n",
       "      <td>CC BY-SA 4.0</td>\n",
       "    </tr>\n",
       "    <tr>\n",
       "      <th>499997</th>\n",
       "      <td>69850770</td>\n",
       "      <td>2</td>\n",
       "      <td>NaN</td>\n",
       "      <td>69849405</td>\n",
       "      <td>2021-11-05 09:04:36</td>\n",
       "      <td>NaN</td>\n",
       "      <td>0</td>\n",
       "      <td>NaN</td>\n",
       "      <td>&lt;p&gt;I was able to solve it by changing the arro...</td>\n",
       "      <td>14212342</td>\n",
       "      <td>...</td>\n",
       "      <td>2021-11-05 10:38:44</td>\n",
       "      <td>2021-11-05 10:38:44</td>\n",
       "      <td>NaN</td>\n",
       "      <td>NaN</td>\n",
       "      <td>NaN</td>\n",
       "      <td>1</td>\n",
       "      <td>NaN</td>\n",
       "      <td>NaN</td>\n",
       "      <td>NaN</td>\n",
       "      <td>CC BY-SA 4.0</td>\n",
       "    </tr>\n",
       "    <tr>\n",
       "      <th>499998</th>\n",
       "      <td>69850771</td>\n",
       "      <td>2</td>\n",
       "      <td>NaN</td>\n",
       "      <td>69828586</td>\n",
       "      <td>2021-11-05 09:04:39</td>\n",
       "      <td>NaN</td>\n",
       "      <td>0</td>\n",
       "      <td>NaN</td>\n",
       "      <td>&lt;p&gt;After some traces, I did some changes and i...</td>\n",
       "      <td>6587821</td>\n",
       "      <td>...</td>\n",
       "      <td>2021-11-05 09:15:51</td>\n",
       "      <td>2021-11-05 09:15:51</td>\n",
       "      <td>NaN</td>\n",
       "      <td>NaN</td>\n",
       "      <td>NaN</td>\n",
       "      <td>0</td>\n",
       "      <td>NaN</td>\n",
       "      <td>NaN</td>\n",
       "      <td>NaN</td>\n",
       "      <td>CC BY-SA 4.0</td>\n",
       "    </tr>\n",
       "    <tr>\n",
       "      <th>499999</th>\n",
       "      <td>69850772</td>\n",
       "      <td>2</td>\n",
       "      <td>NaN</td>\n",
       "      <td>69850749</td>\n",
       "      <td>2021-11-05 09:04:44</td>\n",
       "      <td>NaN</td>\n",
       "      <td>0</td>\n",
       "      <td>NaN</td>\n",
       "      <td>&lt;p&gt;Try this&lt;/p&gt;\\n&lt;pre&gt;&lt;code&gt;UIView.animate(wit...</td>\n",
       "      <td>17304430</td>\n",
       "      <td>...</td>\n",
       "      <td>NaN</td>\n",
       "      <td>2021-11-05 09:04:44</td>\n",
       "      <td>NaN</td>\n",
       "      <td>NaN</td>\n",
       "      <td>NaN</td>\n",
       "      <td>0</td>\n",
       "      <td>NaN</td>\n",
       "      <td>NaN</td>\n",
       "      <td>NaN</td>\n",
       "      <td>CC BY-SA 4.0</td>\n",
       "    </tr>\n",
       "  </tbody>\n",
       "</table>\n",
       "<p>500000 rows × 23 columns</p>\n",
       "</div>"
      ],
      "text/plain": [
       "              Id PostTypeId AcceptedAnswerId  ParentId         CreationDate  \\\n",
       "0         100001          1              NaN       NaN  2008-09-19 06:10:16   \n",
       "1         100003          1           100146       NaN  2008-09-19 06:10:46   \n",
       "2         100004          2              NaN     99830  2008-09-19 06:11:42   \n",
       "3         100007          1           100961       NaN  2008-09-19 06:12:37   \n",
       "4         100008          2              NaN     99743  2008-09-19 06:12:48   \n",
       "...          ...        ...              ...       ...                  ...   \n",
       "499995  69847370          2              NaN  69846609  2021-11-05 00:28:43   \n",
       "499996  69850769          2              NaN  69849359  2021-11-05 09:04:35   \n",
       "499997  69850770          2              NaN  69849405  2021-11-05 09:04:36   \n",
       "499998  69850771          2              NaN  69828586  2021-11-05 09:04:39   \n",
       "499999  69850772          2              NaN  69850749  2021-11-05 09:04:44   \n",
       "\n",
       "       DeletionDate Score ViewCount  \\\n",
       "0               NaN     5      6715   \n",
       "1               NaN  6435    939655   \n",
       "2               NaN     5       NaN   \n",
       "3               NaN     2      1899   \n",
       "4               NaN     0       NaN   \n",
       "...             ...   ...       ...   \n",
       "499995          NaN     2       NaN   \n",
       "499996          NaN     0       NaN   \n",
       "499997          NaN     0       NaN   \n",
       "499998          NaN     0       NaN   \n",
       "499999          NaN     0       NaN   \n",
       "\n",
       "                                                     Body OwnerUserId  ...  \\\n",
       "0       <p>This question intends to be technology-agno...       18552  ...   \n",
       "1       <p>In Python, what are metaclasses and what do...        9951  ...   \n",
       "2       <p>Yes, that's actually very annoying.  We use...       14860  ...   \n",
       "3       <p>When logging with Log4Net it's very easy to...       11908  ...   \n",
       "4       <p>I use <a href=\"http://devguard.com/\" rel=\"n...       16549  ...   \n",
       "...                                                   ...         ...  ...   \n",
       "499995  <p>You can use <code>tf.gather</code> with the...    17289463  ...   \n",
       "499996  <pre><code>std::vector&lt;T&gt; v(100, t);\\nf(...     2684539  ...   \n",
       "499997  <p>I was able to solve it by changing the arro...    14212342  ...   \n",
       "499998  <p>After some traces, I did some changes and i...     6587821  ...   \n",
       "499999  <p>Try this</p>\\n<pre><code>UIView.animate(wit...    17304430  ...   \n",
       "\n",
       "               LastEditDate     LastActivityDate  \\\n",
       "0                       NaN  2009-02-27 00:27:14   \n",
       "1       2021-01-13 03:43:24  2021-10-03 16:06:40   \n",
       "2                       NaN  2008-09-19 06:11:42   \n",
       "3       2014-12-04 10:01:14  2014-12-04 10:01:14   \n",
       "4                       NaN  2008-09-19 06:12:48   \n",
       "...                     ...                  ...   \n",
       "499995                  NaN  2021-11-05 00:28:43   \n",
       "499996                  NaN  2021-11-05 09:04:35   \n",
       "499997  2021-11-05 10:38:44  2021-11-05 10:38:44   \n",
       "499998  2021-11-05 09:15:51  2021-11-05 09:15:51   \n",
       "499999                  NaN  2021-11-05 09:04:44   \n",
       "\n",
       "                                                    Title  \\\n",
       "0       MVC or event-driven component-oriented web fra...   \n",
       "1                         What are metaclasses in Python?   \n",
       "2                                                     NaN   \n",
       "3          Logging Application Block - Logging the caller   \n",
       "4                                                     NaN   \n",
       "...                                                   ...   \n",
       "499995                                                NaN   \n",
       "499996                                                NaN   \n",
       "499997                                                NaN   \n",
       "499998                                                NaN   \n",
       "499999                                                NaN   \n",
       "\n",
       "                                                     Tags AnswerCount  \\\n",
       "0                                        <web-frameworks>           6   \n",
       "1       <python><oop><metaclass><python-class><python-...          24   \n",
       "2                                                     NaN         NaN   \n",
       "3       <c#><logging><enterprise-library><application-...           2   \n",
       "4                                                     NaN         NaN   \n",
       "...                                                   ...         ...   \n",
       "499995                                                NaN         NaN   \n",
       "499996                                                NaN         NaN   \n",
       "499997                                                NaN         NaN   \n",
       "499998                                                NaN         NaN   \n",
       "499999                                                NaN         NaN   \n",
       "\n",
       "       CommentCount FavoriteCount           ClosedDate CommunityOwnedDate  \\\n",
       "0                 0             1  2012-08-15 13:39:14                NaN   \n",
       "1                 0          4115                  NaN                NaN   \n",
       "2                 0           NaN                  NaN                NaN   \n",
       "3                 0           NaN                  NaN                NaN   \n",
       "4                 0           NaN                  NaN                NaN   \n",
       "...             ...           ...                  ...                ...   \n",
       "499995            1           NaN                  NaN                NaN   \n",
       "499996            0           NaN                  NaN                NaN   \n",
       "499997            1           NaN                  NaN                NaN   \n",
       "499998            0           NaN                  NaN                NaN   \n",
       "499999            0           NaN                  NaN                NaN   \n",
       "\n",
       "       ContentLicense  \n",
       "0        CC BY-SA 2.5  \n",
       "1        CC BY-SA 4.0  \n",
       "2        CC BY-SA 2.5  \n",
       "3        CC BY-SA 3.0  \n",
       "4        CC BY-SA 2.5  \n",
       "...               ...  \n",
       "499995   CC BY-SA 4.0  \n",
       "499996   CC BY-SA 4.0  \n",
       "499997   CC BY-SA 4.0  \n",
       "499998   CC BY-SA 4.0  \n",
       "499999   CC BY-SA 4.0  \n",
       "\n",
       "[500000 rows x 23 columns]"
      ]
     },
     "execution_count": 6,
     "metadata": {},
     "output_type": "execute_result"
    },
    {
     "name": "stdout",
     "output_type": "stream",
     "text": [
      "time: 280 ms (started: 2021-12-30 12:36:52 +01:00)\n"
     ]
    }
   ],
   "source": [
    "mDataBrut"
   ]
  },
  {
   "cell_type": "code",
   "execution_count": 3,
   "id": "7f0750b2",
   "metadata": {
    "scrolled": true
   },
   "outputs": [
    {
     "name": "stdout",
     "output_type": "stream",
     "text": [
      "(50000, 23)\n",
      "Index(['Id', 'PostTypeId', 'AcceptedAnswerId', 'ParentId', 'CreationDate',\n",
      "       'DeletionDate', 'Score', 'ViewCount', 'Body', 'OwnerUserId',\n",
      "       'OwnerDisplayName', 'LastEditorUserId', 'LastEditorDisplayName',\n",
      "       'LastEditDate', 'LastActivityDate', 'Title', 'Tags', 'AnswerCount',\n",
      "       'CommentCount', 'FavoriteCount', 'ClosedDate', 'CommunityOwnedDate',\n",
      "       'ContentLicense'],\n",
      "      dtype='object')\n",
      "(50000, 23)\n",
      "Index(['Id', 'PostTypeId', 'AcceptedAnswerId', 'ParentId', 'CreationDate',\n",
      "       'DeletionDate', 'Score', 'ViewCount', 'Body', 'OwnerUserId',\n",
      "       'OwnerDisplayName', 'LastEditorUserId', 'LastEditorDisplayName',\n",
      "       'LastEditDate', 'LastActivityDate', 'Title', 'Tags', 'AnswerCount',\n",
      "       'CommentCount', 'FavoriteCount', 'ClosedDate', 'CommunityOwnedDate',\n",
      "       'ContentLicense'],\n",
      "      dtype='object')\n",
      "(50000, 23)\n",
      "Index(['Id', 'PostTypeId', 'AcceptedAnswerId', 'ParentId', 'CreationDate',\n",
      "       'DeletionDate', 'Score', 'ViewCount', 'Body', 'OwnerUserId',\n",
      "       'OwnerDisplayName', 'LastEditorUserId', 'LastEditorDisplayName',\n",
      "       'LastEditDate', 'LastActivityDate', 'Title', 'Tags', 'AnswerCount',\n",
      "       'CommentCount', 'FavoriteCount', 'ClosedDate', 'CommunityOwnedDate',\n",
      "       'ContentLicense'],\n",
      "      dtype='object')\n",
      "(50000, 23)\n",
      "Index(['Id', 'PostTypeId', 'AcceptedAnswerId', 'ParentId', 'CreationDate',\n",
      "       'DeletionDate', 'Score', 'ViewCount', 'Body', 'OwnerUserId',\n",
      "       'OwnerDisplayName', 'LastEditorUserId', 'LastEditorDisplayName',\n",
      "       'LastEditDate', 'LastActivityDate', 'Title', 'Tags', 'AnswerCount',\n",
      "       'CommentCount', 'FavoriteCount', 'ClosedDate', 'CommunityOwnedDate',\n",
      "       'ContentLicense'],\n",
      "      dtype='object')\n",
      "(50000, 23)\n",
      "Index(['Id', 'PostTypeId', 'AcceptedAnswerId', 'ParentId', 'CreationDate',\n",
      "       'DeletionDate', 'Score', 'ViewCount', 'Body', 'OwnerUserId',\n",
      "       'OwnerDisplayName', 'LastEditorUserId', 'LastEditorDisplayName',\n",
      "       'LastEditDate', 'LastActivityDate', 'Title', 'Tags', 'AnswerCount',\n",
      "       'CommentCount', 'FavoriteCount', 'ClosedDate', 'CommunityOwnedDate',\n",
      "       'ContentLicense'],\n",
      "      dtype='object')\n",
      "(50000, 23)\n",
      "Index(['Id', 'PostTypeId', 'AcceptedAnswerId', 'ParentId', 'CreationDate',\n",
      "       'DeletionDate', 'Score', 'ViewCount', 'Body', 'OwnerUserId',\n",
      "       'OwnerDisplayName', 'LastEditorUserId', 'LastEditorDisplayName',\n",
      "       'LastEditDate', 'LastActivityDate', 'Title', 'Tags', 'AnswerCount',\n",
      "       'CommentCount', 'FavoriteCount', 'ClosedDate', 'CommunityOwnedDate',\n",
      "       'ContentLicense'],\n",
      "      dtype='object')\n",
      "(50000, 23)\n",
      "Index(['Id', 'PostTypeId', 'AcceptedAnswerId', 'ParentId', 'CreationDate',\n",
      "       'DeletionDate', 'Score', 'ViewCount', 'Body', 'OwnerUserId',\n",
      "       'OwnerDisplayName', 'LastEditorUserId', 'LastEditorDisplayName',\n",
      "       'LastEditDate', 'LastActivityDate', 'Title', 'Tags', 'AnswerCount',\n",
      "       'CommentCount', 'FavoriteCount', 'ClosedDate', 'CommunityOwnedDate',\n",
      "       'ContentLicense'],\n",
      "      dtype='object')\n",
      "(50000, 23)\n",
      "Index(['Id', 'PostTypeId', 'AcceptedAnswerId', 'ParentId', 'CreationDate',\n",
      "       'DeletionDate', 'Score', 'ViewCount', 'Body', 'OwnerUserId',\n",
      "       'OwnerDisplayName', 'LastEditorUserId', 'LastEditorDisplayName',\n",
      "       'LastEditDate', 'LastActivityDate', 'Title', 'Tags', 'AnswerCount',\n",
      "       'CommentCount', 'FavoriteCount', 'ClosedDate', 'CommunityOwnedDate',\n",
      "       'ContentLicense'],\n",
      "      dtype='object')\n",
      "(50000, 23)\n",
      "Index(['Id', 'PostTypeId', 'AcceptedAnswerId', 'ParentId', 'CreationDate',\n",
      "       'DeletionDate', 'Score', 'ViewCount', 'Body', 'OwnerUserId',\n",
      "       'OwnerDisplayName', 'LastEditorUserId', 'LastEditorDisplayName',\n",
      "       'LastEditDate', 'LastActivityDate', 'Title', 'Tags', 'AnswerCount',\n",
      "       'CommentCount', 'FavoriteCount', 'ClosedDate', 'CommunityOwnedDate',\n",
      "       'ContentLicense'],\n",
      "      dtype='object')\n",
      "(50000, 23)\n",
      "Index(['Id', 'PostTypeId', 'AcceptedAnswerId', 'ParentId', 'CreationDate',\n",
      "       'DeletionDate', 'Score', 'ViewCount', 'Body', 'OwnerUserId',\n",
      "       'OwnerDisplayName', 'LastEditorUserId', 'LastEditorDisplayName',\n",
      "       'LastEditDate', 'LastActivityDate', 'Title', 'Tags', 'AnswerCount',\n",
      "       'CommentCount', 'FavoriteCount', 'ClosedDate', 'CommunityOwnedDate',\n",
      "       'ContentLicense'],\n",
      "      dtype='object')\n",
      "time: 11.8 s (started: 2021-12-29 15:14:50 +01:00)\n"
     ]
    }
   ],
   "source": [
    "lst = []\n",
    "for i in range (1,11):\n",
    "#for i in range (1,3):\n",
    "    path = 'Data/Query_'+ str(i) + '.csv'\n",
    "    mDf = pd.read_csv(path, dtype=str) \n",
    "    print(mDf.shape)\n",
    "    print(mDf.columns)\n",
    "    mDf = mDf[['Tags', 'Body', 'Title']]\n",
    "    lst.append(mDf)"
   ]
  },
  {
   "cell_type": "code",
   "execution_count": 4,
   "id": "65d66c4c",
   "metadata": {},
   "outputs": [
    {
     "data": {
      "text/html": [
       "<div>\n",
       "<style scoped>\n",
       "    .dataframe tbody tr th:only-of-type {\n",
       "        vertical-align: middle;\n",
       "    }\n",
       "\n",
       "    .dataframe tbody tr th {\n",
       "        vertical-align: top;\n",
       "    }\n",
       "\n",
       "    .dataframe thead th {\n",
       "        text-align: right;\n",
       "    }\n",
       "</style>\n",
       "<table border=\"1\" class=\"dataframe\">\n",
       "  <thead>\n",
       "    <tr style=\"text-align: right;\">\n",
       "      <th></th>\n",
       "      <th>Tags</th>\n",
       "      <th>Txt</th>\n",
       "      <th>Title</th>\n",
       "    </tr>\n",
       "  </thead>\n",
       "  <tbody>\n",
       "    <tr>\n",
       "      <th>0</th>\n",
       "      <td>&lt;web-frameworks&gt;</td>\n",
       "      <td>&lt;p&gt;This question intends to be technology-agno...</td>\n",
       "      <td>MVC or event-driven component-oriented web fra...</td>\n",
       "    </tr>\n",
       "    <tr>\n",
       "      <th>1</th>\n",
       "      <td>&lt;python&gt;&lt;oop&gt;&lt;metaclass&gt;&lt;python-class&gt;&lt;python-...</td>\n",
       "      <td>&lt;p&gt;In Python, what are metaclasses and what do...</td>\n",
       "      <td>What are metaclasses in Python?</td>\n",
       "    </tr>\n",
       "    <tr>\n",
       "      <th>3</th>\n",
       "      <td>&lt;c#&gt;&lt;logging&gt;&lt;enterprise-library&gt;&lt;application-...</td>\n",
       "      <td>&lt;p&gt;When logging with Log4Net it's very easy to...</td>\n",
       "      <td>Logging Application Block - Logging the caller</td>\n",
       "    </tr>\n",
       "    <tr>\n",
       "      <th>19</th>\n",
       "      <td>&lt;php&gt;&lt;facebook&gt;&lt;rss&gt;</td>\n",
       "      <td>&lt;p&gt;How can I make a Facebook RSS application t...</td>\n",
       "      <td>Facebook RSS application</td>\n",
       "    </tr>\n",
       "    <tr>\n",
       "      <th>22</th>\n",
       "      <td>&lt;c#&gt;&lt;regex&gt;</td>\n",
       "      <td>&lt;p&gt;What is a good regular expression that can ...</td>\n",
       "      <td>Regular expressions in C# for file name valida...</td>\n",
       "    </tr>\n",
       "    <tr>\n",
       "      <th>...</th>\n",
       "      <td>...</td>\n",
       "      <td>...</td>\n",
       "      <td>...</td>\n",
       "    </tr>\n",
       "    <tr>\n",
       "      <th>499987</th>\n",
       "      <td>&lt;java&gt;&lt;spring&gt;&lt;ubuntu&gt;&lt;tomcat&gt;&lt;mariadb&gt;</td>\n",
       "      <td>&lt;p&gt;I got an error while trying to build war fi...</td>\n",
       "      <td>Build war file: java.sql.SQLInvalidAuthorizati...</td>\n",
       "    </tr>\n",
       "    <tr>\n",
       "      <th>499988</th>\n",
       "      <td>&lt;apache-iotdb&gt;</td>\n",
       "      <td>&lt;p&gt;When I finish the configuration ”Example of...</td>\n",
       "      <td>I can't start IoTDB cluster</td>\n",
       "    </tr>\n",
       "    <tr>\n",
       "      <th>499989</th>\n",
       "      <td>&lt;node.js&gt;&lt;linux&gt;&lt;docker&gt;&lt;selenium-webdriver&gt;</td>\n",
       "      <td>&lt;p&gt;My knowledge of docker and Linux is limited...</td>\n",
       "      <td>EACCESS error when attempting to run Selenium ...</td>\n",
       "    </tr>\n",
       "    <tr>\n",
       "      <th>499992</th>\n",
       "      <td>&lt;ruby-on-rails&gt;&lt;amazon-s3&gt;&lt;rails-activestorage&gt;</td>\n",
       "      <td>&lt;p&gt;I'm writing a system test for an app that u...</td>\n",
       "      <td>how to stub active storage urls?</td>\n",
       "    </tr>\n",
       "    <tr>\n",
       "      <th>499993</th>\n",
       "      <td>&lt;javascript&gt;&lt;typescript&gt;&lt;iot&gt;</td>\n",
       "      <td>&lt;p&gt;I want to to change the colors of my IKEA T...</td>\n",
       "      <td>How to get started with \"node-tradfri-client\" ...</td>\n",
       "    </tr>\n",
       "  </tbody>\n",
       "</table>\n",
       "<p>129665 rows × 3 columns</p>\n",
       "</div>"
      ],
      "text/plain": [
       "                                                     Tags  \\\n",
       "0                                        <web-frameworks>   \n",
       "1       <python><oop><metaclass><python-class><python-...   \n",
       "3       <c#><logging><enterprise-library><application-...   \n",
       "19                                   <php><facebook><rss>   \n",
       "22                                            <c#><regex>   \n",
       "...                                                   ...   \n",
       "499987            <java><spring><ubuntu><tomcat><mariadb>   \n",
       "499988                                     <apache-iotdb>   \n",
       "499989       <node.js><linux><docker><selenium-webdriver>   \n",
       "499992    <ruby-on-rails><amazon-s3><rails-activestorage>   \n",
       "499993                      <javascript><typescript><iot>   \n",
       "\n",
       "                                                      Txt  \\\n",
       "0       <p>This question intends to be technology-agno...   \n",
       "1       <p>In Python, what are metaclasses and what do...   \n",
       "3       <p>When logging with Log4Net it's very easy to...   \n",
       "19      <p>How can I make a Facebook RSS application t...   \n",
       "22      <p>What is a good regular expression that can ...   \n",
       "...                                                   ...   \n",
       "499987  <p>I got an error while trying to build war fi...   \n",
       "499988  <p>When I finish the configuration ”Example of...   \n",
       "499989  <p>My knowledge of docker and Linux is limited...   \n",
       "499992  <p>I'm writing a system test for an app that u...   \n",
       "499993  <p>I want to to change the colors of my IKEA T...   \n",
       "\n",
       "                                                    Title  \n",
       "0       MVC or event-driven component-oriented web fra...  \n",
       "1                         What are metaclasses in Python?  \n",
       "3          Logging Application Block - Logging the caller  \n",
       "19                               Facebook RSS application  \n",
       "22      Regular expressions in C# for file name valida...  \n",
       "...                                                   ...  \n",
       "499987  Build war file: java.sql.SQLInvalidAuthorizati...  \n",
       "499988                        I can't start IoTDB cluster  \n",
       "499989  EACCESS error when attempting to run Selenium ...  \n",
       "499992                   how to stub active storage urls?  \n",
       "499993  How to get started with \"node-tradfri-client\" ...  \n",
       "\n",
       "[129665 rows x 3 columns]"
      ]
     },
     "execution_count": 4,
     "metadata": {},
     "output_type": "execute_result"
    },
    {
     "name": "stdout",
     "output_type": "stream",
     "text": [
      "time: 148 ms (started: 2021-12-29 15:15:01 +01:00)\n"
     ]
    }
   ],
   "source": [
    "mDf = pd.concat(lst, ignore_index=True)\n",
    "mDf = mDf[mDf['Tags'].notna()]\n",
    "mDf = mDf[mDf['Title'].notna()]\n",
    "mDf = mDf.rename(columns={'Body': \"Txt\"})\n",
    "mDf"
   ]
  },
  {
   "cell_type": "code",
   "execution_count": 5,
   "id": "906902b4",
   "metadata": {},
   "outputs": [
    {
     "data": {
      "text/html": [
       "<div>\n",
       "<style scoped>\n",
       "    .dataframe tbody tr th:only-of-type {\n",
       "        vertical-align: middle;\n",
       "    }\n",
       "\n",
       "    .dataframe tbody tr th {\n",
       "        vertical-align: top;\n",
       "    }\n",
       "\n",
       "    .dataframe thead th {\n",
       "        text-align: right;\n",
       "    }\n",
       "</style>\n",
       "<table border=\"1\" class=\"dataframe\">\n",
       "  <thead>\n",
       "    <tr style=\"text-align: right;\">\n",
       "      <th></th>\n",
       "      <th>Tags</th>\n",
       "      <th>Txt</th>\n",
       "      <th>Title</th>\n",
       "      <th>Body</th>\n",
       "    </tr>\n",
       "  </thead>\n",
       "  <tbody>\n",
       "    <tr>\n",
       "      <th>0</th>\n",
       "      <td>&lt;web-frameworks&gt;</td>\n",
       "      <td>&lt;p&gt;This question intends to be technology-agno...</td>\n",
       "      <td>MVC or event-driven component-oriented web fra...</td>\n",
       "      <td>&lt;p&gt;This question intends to be technology-agno...</td>\n",
       "    </tr>\n",
       "    <tr>\n",
       "      <th>1</th>\n",
       "      <td>&lt;python&gt;&lt;oop&gt;&lt;metaclass&gt;&lt;python-class&gt;&lt;python-...</td>\n",
       "      <td>&lt;p&gt;In Python, what are metaclasses and what do...</td>\n",
       "      <td>What are metaclasses in Python?</td>\n",
       "      <td>&lt;p&gt;In Python, what are metaclasses and what do...</td>\n",
       "    </tr>\n",
       "    <tr>\n",
       "      <th>3</th>\n",
       "      <td>&lt;c#&gt;&lt;logging&gt;&lt;enterprise-library&gt;&lt;application-...</td>\n",
       "      <td>&lt;p&gt;When logging with Log4Net it's very easy to...</td>\n",
       "      <td>Logging Application Block - Logging the caller</td>\n",
       "      <td>&lt;p&gt;When logging with Log4Net it's very easy to...</td>\n",
       "    </tr>\n",
       "    <tr>\n",
       "      <th>19</th>\n",
       "      <td>&lt;php&gt;&lt;facebook&gt;&lt;rss&gt;</td>\n",
       "      <td>&lt;p&gt;How can I make a Facebook RSS application t...</td>\n",
       "      <td>Facebook RSS application</td>\n",
       "      <td>&lt;p&gt;How can I make a Facebook RSS application t...</td>\n",
       "    </tr>\n",
       "    <tr>\n",
       "      <th>22</th>\n",
       "      <td>&lt;c#&gt;&lt;regex&gt;</td>\n",
       "      <td>&lt;p&gt;What is a good regular expression that can ...</td>\n",
       "      <td>Regular expressions in C# for file name valida...</td>\n",
       "      <td>&lt;p&gt;What is a good regular expression that can ...</td>\n",
       "    </tr>\n",
       "    <tr>\n",
       "      <th>...</th>\n",
       "      <td>...</td>\n",
       "      <td>...</td>\n",
       "      <td>...</td>\n",
       "      <td>...</td>\n",
       "    </tr>\n",
       "    <tr>\n",
       "      <th>499987</th>\n",
       "      <td>&lt;java&gt;&lt;spring&gt;&lt;ubuntu&gt;&lt;tomcat&gt;&lt;mariadb&gt;</td>\n",
       "      <td>&lt;p&gt;I got an error while trying to build war fi...</td>\n",
       "      <td>Build war file: java.sql.SQLInvalidAuthorizati...</td>\n",
       "      <td>&lt;p&gt;I got an error while trying to build war fi...</td>\n",
       "    </tr>\n",
       "    <tr>\n",
       "      <th>499988</th>\n",
       "      <td>&lt;apache-iotdb&gt;</td>\n",
       "      <td>&lt;p&gt;When I finish the configuration ”Example of...</td>\n",
       "      <td>I can't start IoTDB cluster</td>\n",
       "      <td>&lt;p&gt;When I finish the configuration ”Example of...</td>\n",
       "    </tr>\n",
       "    <tr>\n",
       "      <th>499989</th>\n",
       "      <td>&lt;node.js&gt;&lt;linux&gt;&lt;docker&gt;&lt;selenium-webdriver&gt;</td>\n",
       "      <td>&lt;p&gt;My knowledge of docker and Linux is limited...</td>\n",
       "      <td>EACCESS error when attempting to run Selenium ...</td>\n",
       "      <td>&lt;p&gt;My knowledge of docker and Linux is limited...</td>\n",
       "    </tr>\n",
       "    <tr>\n",
       "      <th>499992</th>\n",
       "      <td>&lt;ruby-on-rails&gt;&lt;amazon-s3&gt;&lt;rails-activestorage&gt;</td>\n",
       "      <td>&lt;p&gt;I'm writing a system test for an app that u...</td>\n",
       "      <td>how to stub active storage urls?</td>\n",
       "      <td>&lt;p&gt;I'm writing a system test for an app that u...</td>\n",
       "    </tr>\n",
       "    <tr>\n",
       "      <th>499993</th>\n",
       "      <td>&lt;javascript&gt;&lt;typescript&gt;&lt;iot&gt;</td>\n",
       "      <td>&lt;p&gt;I want to to change the colors of my IKEA T...</td>\n",
       "      <td>How to get started with \"node-tradfri-client\" ...</td>\n",
       "      <td>&lt;p&gt;I want to to change the colors of my IKEA T...</td>\n",
       "    </tr>\n",
       "  </tbody>\n",
       "</table>\n",
       "<p>129665 rows × 4 columns</p>\n",
       "</div>"
      ],
      "text/plain": [
       "                                                     Tags  \\\n",
       "0                                        <web-frameworks>   \n",
       "1       <python><oop><metaclass><python-class><python-...   \n",
       "3       <c#><logging><enterprise-library><application-...   \n",
       "19                                   <php><facebook><rss>   \n",
       "22                                            <c#><regex>   \n",
       "...                                                   ...   \n",
       "499987            <java><spring><ubuntu><tomcat><mariadb>   \n",
       "499988                                     <apache-iotdb>   \n",
       "499989       <node.js><linux><docker><selenium-webdriver>   \n",
       "499992    <ruby-on-rails><amazon-s3><rails-activestorage>   \n",
       "499993                      <javascript><typescript><iot>   \n",
       "\n",
       "                                                      Txt  \\\n",
       "0       <p>This question intends to be technology-agno...   \n",
       "1       <p>In Python, what are metaclasses and what do...   \n",
       "3       <p>When logging with Log4Net it's very easy to...   \n",
       "19      <p>How can I make a Facebook RSS application t...   \n",
       "22      <p>What is a good regular expression that can ...   \n",
       "...                                                   ...   \n",
       "499987  <p>I got an error while trying to build war fi...   \n",
       "499988  <p>When I finish the configuration ”Example of...   \n",
       "499989  <p>My knowledge of docker and Linux is limited...   \n",
       "499992  <p>I'm writing a system test for an app that u...   \n",
       "499993  <p>I want to to change the colors of my IKEA T...   \n",
       "\n",
       "                                                    Title  \\\n",
       "0       MVC or event-driven component-oriented web fra...   \n",
       "1                         What are metaclasses in Python?   \n",
       "3          Logging Application Block - Logging the caller   \n",
       "19                               Facebook RSS application   \n",
       "22      Regular expressions in C# for file name valida...   \n",
       "...                                                   ...   \n",
       "499987  Build war file: java.sql.SQLInvalidAuthorizati...   \n",
       "499988                        I can't start IoTDB cluster   \n",
       "499989  EACCESS error when attempting to run Selenium ...   \n",
       "499992                   how to stub active storage urls?   \n",
       "499993  How to get started with \"node-tradfri-client\" ...   \n",
       "\n",
       "                                                     Body  \n",
       "0       <p>This question intends to be technology-agno...  \n",
       "1       <p>In Python, what are metaclasses and what do...  \n",
       "3       <p>When logging with Log4Net it's very easy to...  \n",
       "19      <p>How can I make a Facebook RSS application t...  \n",
       "22      <p>What is a good regular expression that can ...  \n",
       "...                                                   ...  \n",
       "499987  <p>I got an error while trying to build war fi...  \n",
       "499988  <p>When I finish the configuration ”Example of...  \n",
       "499989  <p>My knowledge of docker and Linux is limited...  \n",
       "499992  <p>I'm writing a system test for an app that u...  \n",
       "499993  <p>I want to to change the colors of my IKEA T...  \n",
       "\n",
       "[129665 rows x 4 columns]"
      ]
     },
     "execution_count": 5,
     "metadata": {},
     "output_type": "execute_result"
    },
    {
     "name": "stdout",
     "output_type": "stream",
     "text": [
      "time: 260 ms (started: 2021-12-29 15:15:02 +01:00)\n"
     ]
    }
   ],
   "source": [
    "mDf['Body'] = mDf[\"Txt\"] + mDf[\"Title\"]\n",
    "mDf"
   ]
  },
  {
   "cell_type": "code",
   "execution_count": 6,
   "id": "43ccb1f7",
   "metadata": {},
   "outputs": [
    {
     "name": "stdout",
     "output_type": "stream",
     "text": [
      "time: 30.2 ms (started: 2021-12-29 15:15:02 +01:00)\n"
     ]
    }
   ],
   "source": [
    "\n",
    "mDf_Body = pd.DataFrame(mDf['Body'])\n",
    "mDf_Tags = pd.DataFrame(mDf['Tags'])"
   ]
  },
  {
   "cell_type": "markdown",
   "id": "2396f64a",
   "metadata": {},
   "source": [
    "# 2 - Cleaning ----------------------------------------"
   ]
  },
  {
   "cell_type": "markdown",
   "id": "bc325bdf",
   "metadata": {},
   "source": [
    "## 2.1 Body\n",
    "#### 2.1.1 HTML -> String / 2.1.2 Minus / 2.1.3 - Caract pb / 2.1.4 - Chiffre /  2.1.5 - Ponct / 2.1.6 - Lem /  2.1.7 -StopWord\n"
   ]
  },
  {
   "cell_type": "code",
   "execution_count": 7,
   "id": "ed98f295",
   "metadata": {},
   "outputs": [
    {
     "data": {
      "text/html": [
       "<div>\n",
       "<style scoped>\n",
       "    .dataframe tbody tr th:only-of-type {\n",
       "        vertical-align: middle;\n",
       "    }\n",
       "\n",
       "    .dataframe tbody tr th {\n",
       "        vertical-align: top;\n",
       "    }\n",
       "\n",
       "    .dataframe thead th {\n",
       "        text-align: right;\n",
       "    }\n",
       "</style>\n",
       "<table border=\"1\" class=\"dataframe\">\n",
       "  <thead>\n",
       "    <tr style=\"text-align: right;\">\n",
       "      <th></th>\n",
       "      <th>string_in_HTML</th>\n",
       "    </tr>\n",
       "  </thead>\n",
       "  <tbody>\n",
       "    <tr>\n",
       "      <th>0</th>\n",
       "      <td>This question intends to be technology-agnosti...</td>\n",
       "    </tr>\n",
       "    <tr>\n",
       "      <th>1</th>\n",
       "      <td>In Python, what are metaclasses and what do we...</td>\n",
       "    </tr>\n",
       "  </tbody>\n",
       "</table>\n",
       "</div>"
      ],
      "text/plain": [
       "                                      string_in_HTML\n",
       "0  This question intends to be technology-agnosti...\n",
       "1  In Python, what are metaclasses and what do we..."
      ]
     },
     "execution_count": 7,
     "metadata": {},
     "output_type": "execute_result"
    },
    {
     "name": "stdout",
     "output_type": "stream",
     "text": [
      "time: 1min 42s (started: 2021-12-29 15:15:02 +01:00)\n"
     ]
    }
   ],
   "source": [
    "mDf_Body['string_in_HTML']=mDf_Body.apply(lambda x: BeautifulSoup(x['Body']).get_text().replace('\\n',' '),axis=1)\n",
    "mDf_Body = pd.DataFrame(mDf_Body['string_in_HTML'])\n",
    "mDf_Body.head(2)"
   ]
  },
  {
   "cell_type": "code",
   "execution_count": 8,
   "id": "c51a8e74",
   "metadata": {},
   "outputs": [
    {
     "name": "stdout",
     "output_type": "stream",
     "text": [
      "time: 1.19 s (started: 2021-12-29 15:16:44 +01:00)\n"
     ]
    }
   ],
   "source": [
    "import pandas as pd\n",
    "import numpy as np\n",
    "import string\n",
    "\n",
    "import sys\n",
    "import re\n",
    "from nltk.corpus import stopwords\n",
    "from nltk.stem import WordNetLemmatizer\n",
    "import nltk\n",
    "\n",
    "def data_preprocess(dataframe,xXx, lower=True, ascii_chars=True, no_numbers=True, no_punctuation=True, remove_stopwords=True, lemmatize=True, custom_blank_text='non ascii symbols punctuations numbers'):\n",
    "    # Minuscule\n",
    "    if lower == True:\n",
    "        dataframe['Query_Modified'] = dataframe[xXx].str.lower()\n",
    "    \n",
    "    # Caractere non viable\n",
    "    if ascii_chars == True:                            \n",
    "        dataframe[\"Query_Modified\"] = dataframe[\"Query_Modified\"].apply(lambda x: ''.join([\" \" if i not in string.printable else i for i in x]))\n",
    "    \n",
    "    # Retire chiffre\n",
    "    if no_numbers == True:\n",
    "        dataframe['Query_Modified'] = dataframe['Query_Modified'].str.replace(r'\\d', '')\n",
    "    \n",
    "    #Ponctuation\n",
    "    if no_punctuation == True:\n",
    "        dataframe['Query_Modified'] = dataframe['Query_Modified'].str.replace(r'[^\\w\\s]+', ' ')\n",
    "    \n",
    "    # Retire Stopwords\n",
    "    if remove_stopwords == True:\n",
    "        stop = stopwords.words('english')\n",
    "        \n",
    "        dataframe['Query_Modified'] = dataframe['Query_Modified'].apply(lambda x: ' '.join([word for word in x.split() if word not in (stop)]))\n",
    "    \n",
    "    #Lemmatize\n",
    "    if lemmatize == True:\n",
    "        wnl = WordNetLemmatizer()\n",
    "        def lemmatize_all(sentence):\n",
    "            text = list()\n",
    "            for word, tag in nltk.pos_tag(str.split(sentence)):\n",
    "                if tag.startswith(\"NN\"):\n",
    "                    text.append( wnl.lemmatize(word, pos='n'))\n",
    "                elif tag.startswith('VB'):\n",
    "                    text.append( wnl.lemmatize(word, pos='v'))\n",
    "                elif tag.startswith('JJ'):\n",
    "                    text.append( wnl.lemmatize(word, pos='a'))\n",
    "                else:\n",
    "                    text.append( word)\n",
    "            return ' '.join(text)            \n",
    "\n",
    "        dataframe['Query_Modified'] = dataframe['Query_Modified'].apply(lambda sentence: ' '.join([lemmatize_all(sentence)]))\n",
    "    \n",
    "    #Replacing blanks from ascii characters, punctuations and numbers with custom text\n",
    "    dataframe['Query_Modified'].replace(r'^\\s*$', custom_blank_text, regex=True, inplace = True)\n",
    "    \n",
    "    #Extra Spaces\n",
    "    dataframe['Query_Modified'] = dataframe['Query_Modified'].apply(lambda x: re.sub(\"\\s\\s+\", \" \", str(x.strip())))\n",
    "    \n",
    "    print('Done')\n",
    "    \n",
    "    return dataframe\n"
   ]
  },
  {
   "cell_type": "code",
   "execution_count": 9,
   "id": "9a406387",
   "metadata": {},
   "outputs": [
    {
     "name": "stdout",
     "output_type": "stream",
     "text": [
      "Done\n"
     ]
    },
    {
     "data": {
      "text/html": [
       "<div>\n",
       "<style scoped>\n",
       "    .dataframe tbody tr th:only-of-type {\n",
       "        vertical-align: middle;\n",
       "    }\n",
       "\n",
       "    .dataframe tbody tr th {\n",
       "        vertical-align: top;\n",
       "    }\n",
       "\n",
       "    .dataframe thead th {\n",
       "        text-align: right;\n",
       "    }\n",
       "</style>\n",
       "<table border=\"1\" class=\"dataframe\">\n",
       "  <thead>\n",
       "    <tr style=\"text-align: right;\">\n",
       "      <th></th>\n",
       "      <th>string_in_HTML</th>\n",
       "      <th>Query_Modified</th>\n",
       "    </tr>\n",
       "  </thead>\n",
       "  <tbody>\n",
       "    <tr>\n",
       "      <th>0</th>\n",
       "      <td>This question intends to be technology-agnosti...</td>\n",
       "      <td>question intends technology agnostic kind web ...</td>\n",
       "    </tr>\n",
       "    <tr>\n",
       "      <th>1</th>\n",
       "      <td>In Python, what are metaclasses and what do we...</td>\n",
       "      <td>python metaclasses use metaclasses python</td>\n",
       "    </tr>\n",
       "    <tr>\n",
       "      <th>3</th>\n",
       "      <td>When logging with Log4Net it's very easy to pu...</td>\n",
       "      <td>logging lognet easy put class called log log f...</td>\n",
       "    </tr>\n",
       "    <tr>\n",
       "      <th>19</th>\n",
       "      <td>How can I make a Facebook RSS application that...</td>\n",
       "      <td>make facebook rss application autoupdates prov...</td>\n",
       "    </tr>\n",
       "    <tr>\n",
       "      <th>22</th>\n",
       "      <td>What is a good regular expression that can val...</td>\n",
       "      <td>good regular expression validate text string m...</td>\n",
       "    </tr>\n",
       "    <tr>\n",
       "      <th>...</th>\n",
       "      <td>...</td>\n",
       "      <td>...</td>\n",
       "    </tr>\n",
       "    <tr>\n",
       "      <th>499987</th>\n",
       "      <td>I got an error while trying to build war file ...</td>\n",
       "      <td>got error trying build war file tomcat server ...</td>\n",
       "    </tr>\n",
       "    <tr>\n",
       "      <th>499988</th>\n",
       "      <td>When I finish the configuration ”Example of di...</td>\n",
       "      <td>finish configuration example distributed confi...</td>\n",
       "    </tr>\n",
       "    <tr>\n",
       "      <th>499989</th>\n",
       "      <td>My knowledge of docker and Linux is limited, b...</td>\n",
       "      <td>knowledge docker linux limited certain get pas...</td>\n",
       "    </tr>\n",
       "    <tr>\n",
       "      <th>499992</th>\n",
       "      <td>I'm writing a system test for an app that uses...</td>\n",
       "      <td>writing system test app uses active storage vi...</td>\n",
       "    </tr>\n",
       "    <tr>\n",
       "      <th>499993</th>\n",
       "      <td>I want to to change the colors of my IKEA Trad...</td>\n",
       "      <td>want change colors ikea tradfri rgb lightbulb ...</td>\n",
       "    </tr>\n",
       "  </tbody>\n",
       "</table>\n",
       "<p>129665 rows × 2 columns</p>\n",
       "</div>"
      ],
      "text/plain": [
       "                                           string_in_HTML  \\\n",
       "0       This question intends to be technology-agnosti...   \n",
       "1       In Python, what are metaclasses and what do we...   \n",
       "3       When logging with Log4Net it's very easy to pu...   \n",
       "19      How can I make a Facebook RSS application that...   \n",
       "22      What is a good regular expression that can val...   \n",
       "...                                                   ...   \n",
       "499987  I got an error while trying to build war file ...   \n",
       "499988  When I finish the configuration ”Example of di...   \n",
       "499989  My knowledge of docker and Linux is limited, b...   \n",
       "499992  I'm writing a system test for an app that uses...   \n",
       "499993  I want to to change the colors of my IKEA Trad...   \n",
       "\n",
       "                                           Query_Modified  \n",
       "0       question intends technology agnostic kind web ...  \n",
       "1               python metaclasses use metaclasses python  \n",
       "3       logging lognet easy put class called log log f...  \n",
       "19      make facebook rss application autoupdates prov...  \n",
       "22      good regular expression validate text string m...  \n",
       "...                                                   ...  \n",
       "499987  got error trying build war file tomcat server ...  \n",
       "499988  finish configuration example distributed confi...  \n",
       "499989  knowledge docker linux limited certain get pas...  \n",
       "499992  writing system test app uses active storage vi...  \n",
       "499993  want change colors ikea tradfri rgb lightbulb ...  \n",
       "\n",
       "[129665 rows x 2 columns]"
      ]
     },
     "execution_count": 9,
     "metadata": {},
     "output_type": "execute_result"
    },
    {
     "name": "stdout",
     "output_type": "stream",
     "text": [
      "time: 1min 14s (started: 2021-12-29 15:16:46 +01:00)\n"
     ]
    }
   ],
   "source": [
    "data = data_preprocess(mDf_Body, 'string_in_HTML', lower=True, ascii_chars=True, no_numbers=True, no_punctuation=True, remove_stopwords=True, lemmatize=False, custom_blank_text='non ascii symbols punctuations numbers')\n",
    "data"
   ]
  },
  {
   "cell_type": "markdown",
   "id": "14f46c58",
   "metadata": {},
   "source": [
    "## 2.2 -  Tags\n",
    "#### 2.2.1 HTML -> String / 2.2.2 Minus / 2.2.3 - Caract pb / 2.2.4 - Chiffre /  2.2.5 - Ponct / 2.2.6 - Lem /  2.2.7 -StopWord\n"
   ]
  },
  {
   "cell_type": "code",
   "execution_count": 10,
   "id": "6d4587b7",
   "metadata": {},
   "outputs": [
    {
     "name": "stdout",
     "output_type": "stream",
     "text": [
      "Done\n"
     ]
    },
    {
     "data": {
      "text/html": [
       "<div>\n",
       "<style scoped>\n",
       "    .dataframe tbody tr th:only-of-type {\n",
       "        vertical-align: middle;\n",
       "    }\n",
       "\n",
       "    .dataframe tbody tr th {\n",
       "        vertical-align: top;\n",
       "    }\n",
       "\n",
       "    .dataframe thead th {\n",
       "        text-align: right;\n",
       "    }\n",
       "</style>\n",
       "<table border=\"1\" class=\"dataframe\">\n",
       "  <thead>\n",
       "    <tr style=\"text-align: right;\">\n",
       "      <th></th>\n",
       "      <th>Tags</th>\n",
       "    </tr>\n",
       "  </thead>\n",
       "  <tbody>\n",
       "    <tr>\n",
       "      <th>0</th>\n",
       "      <td>web framework</td>\n",
       "    </tr>\n",
       "    <tr>\n",
       "      <th>1</th>\n",
       "      <td>python oop metaclass python class python datam...</td>\n",
       "    </tr>\n",
       "    <tr>\n",
       "      <th>2</th>\n",
       "      <td>c log enterprise library application block</td>\n",
       "    </tr>\n",
       "    <tr>\n",
       "      <th>3</th>\n",
       "      <td>php facebook r</td>\n",
       "    </tr>\n",
       "    <tr>\n",
       "      <th>4</th>\n",
       "      <td>c regex</td>\n",
       "    </tr>\n",
       "    <tr>\n",
       "      <th>...</th>\n",
       "      <td>...</td>\n",
       "    </tr>\n",
       "    <tr>\n",
       "      <th>129660</th>\n",
       "      <td>java spring ubuntu tomcat mariadb</td>\n",
       "    </tr>\n",
       "    <tr>\n",
       "      <th>129661</th>\n",
       "      <td>apache iotdb</td>\n",
       "    </tr>\n",
       "    <tr>\n",
       "      <th>129662</th>\n",
       "      <td>node j linux docker selenium webdriver</td>\n",
       "    </tr>\n",
       "    <tr>\n",
       "      <th>129663</th>\n",
       "      <td>ruby rail amazon rail activestorage</td>\n",
       "    </tr>\n",
       "    <tr>\n",
       "      <th>129664</th>\n",
       "      <td>javascript typescript iot</td>\n",
       "    </tr>\n",
       "  </tbody>\n",
       "</table>\n",
       "<p>129665 rows × 1 columns</p>\n",
       "</div>"
      ],
      "text/plain": [
       "                                                     Tags\n",
       "0                                           web framework\n",
       "1       python oop metaclass python class python datam...\n",
       "2              c log enterprise library application block\n",
       "3                                          php facebook r\n",
       "4                                                 c regex\n",
       "...                                                   ...\n",
       "129660                  java spring ubuntu tomcat mariadb\n",
       "129661                                       apache iotdb\n",
       "129662             node j linux docker selenium webdriver\n",
       "129663                ruby rail amazon rail activestorage\n",
       "129664                          javascript typescript iot\n",
       "\n",
       "[129665 rows x 1 columns]"
      ]
     },
     "execution_count": 10,
     "metadata": {},
     "output_type": "execute_result"
    },
    {
     "name": "stdout",
     "output_type": "stream",
     "text": [
      "time: 1min 13s (started: 2021-12-29 15:18:00 +01:00)\n"
     ]
    }
   ],
   "source": [
    "mDf_Tags_1 = mDf_Tags.copy()\n",
    "mDf_Tags_1['Tags'] = mDf_Tags_1['Tags'].str.replace(r'><', ' ')\n",
    "mDf_Tags_1['Tags'] = mDf_Tags_1['Tags'].str.replace(r'<', '')\n",
    "mDf_Tags_1['Tags'] = mDf_Tags_1['Tags'].str.replace(r'>', '')\n",
    "mDf_Tags_2 = data_preprocess(mDf_Tags_1, 'Tags', lower=True, ascii_chars=True, no_numbers=True, no_punctuation=True, remove_stopwords=True, lemmatize=True, custom_blank_text='non ascii symbols punctuations numbers')\n",
    "mDf_Tags_2.pop('Tags')\n",
    "mDf_Tags_2= mDf_Tags_2.rename(columns={'Query_Modified': \"Tags\"})\n",
    "mDf_Tags_2 = mDf_Tags_2.reset_index()\n",
    "mDf_Tags_2.pop('index')\n",
    "mDf_Tags_2"
   ]
  },
  {
   "cell_type": "markdown",
   "id": "0a3cc316",
   "metadata": {},
   "source": [
    "## 2.3 -  Concat Body + Tags"
   ]
  },
  {
   "cell_type": "code",
   "execution_count": 11,
   "id": "6720436c",
   "metadata": {},
   "outputs": [
    {
     "data": {
      "text/html": [
       "<div>\n",
       "<style scoped>\n",
       "    .dataframe tbody tr th:only-of-type {\n",
       "        vertical-align: middle;\n",
       "    }\n",
       "\n",
       "    .dataframe tbody tr th {\n",
       "        vertical-align: top;\n",
       "    }\n",
       "\n",
       "    .dataframe thead th {\n",
       "        text-align: right;\n",
       "    }\n",
       "</style>\n",
       "<table border=\"1\" class=\"dataframe\">\n",
       "  <thead>\n",
       "    <tr style=\"text-align: right;\">\n",
       "      <th></th>\n",
       "      <th>Sentence</th>\n",
       "      <th>Labels</th>\n",
       "    </tr>\n",
       "  </thead>\n",
       "  <tbody>\n",
       "    <tr>\n",
       "      <th>0</th>\n",
       "      <td>question intends technology agnostic kind web ...</td>\n",
       "      <td>web framework</td>\n",
       "    </tr>\n",
       "    <tr>\n",
       "      <th>1</th>\n",
       "      <td>python metaclasses use metaclasses python</td>\n",
       "      <td>python oop metaclass python class python datam...</td>\n",
       "    </tr>\n",
       "    <tr>\n",
       "      <th>3</th>\n",
       "      <td>logging lognet easy put class called log log f...</td>\n",
       "      <td>c log enterprise library application block</td>\n",
       "    </tr>\n",
       "    <tr>\n",
       "      <th>19</th>\n",
       "      <td>make facebook rss application autoupdates prov...</td>\n",
       "      <td>php facebook r</td>\n",
       "    </tr>\n",
       "    <tr>\n",
       "      <th>22</th>\n",
       "      <td>good regular expression validate text string m...</td>\n",
       "      <td>c regex</td>\n",
       "    </tr>\n",
       "    <tr>\n",
       "      <th>...</th>\n",
       "      <td>...</td>\n",
       "      <td>...</td>\n",
       "    </tr>\n",
       "    <tr>\n",
       "      <th>499987</th>\n",
       "      <td>got error trying build war file tomcat server ...</td>\n",
       "      <td>java spring ubuntu tomcat mariadb</td>\n",
       "    </tr>\n",
       "    <tr>\n",
       "      <th>499988</th>\n",
       "      <td>finish configuration example distributed confi...</td>\n",
       "      <td>apache iotdb</td>\n",
       "    </tr>\n",
       "    <tr>\n",
       "      <th>499989</th>\n",
       "      <td>knowledge docker linux limited certain get pas...</td>\n",
       "      <td>node j linux docker selenium webdriver</td>\n",
       "    </tr>\n",
       "    <tr>\n",
       "      <th>499992</th>\n",
       "      <td>writing system test app uses active storage vi...</td>\n",
       "      <td>ruby rail amazon rail activestorage</td>\n",
       "    </tr>\n",
       "    <tr>\n",
       "      <th>499993</th>\n",
       "      <td>want change colors ikea tradfri rgb lightbulb ...</td>\n",
       "      <td>javascript typescript iot</td>\n",
       "    </tr>\n",
       "  </tbody>\n",
       "</table>\n",
       "<p>129665 rows × 2 columns</p>\n",
       "</div>"
      ],
      "text/plain": [
       "                                                 Sentence  \\\n",
       "0       question intends technology agnostic kind web ...   \n",
       "1               python metaclasses use metaclasses python   \n",
       "3       logging lognet easy put class called log log f...   \n",
       "19      make facebook rss application autoupdates prov...   \n",
       "22      good regular expression validate text string m...   \n",
       "...                                                   ...   \n",
       "499987  got error trying build war file tomcat server ...   \n",
       "499988  finish configuration example distributed confi...   \n",
       "499989  knowledge docker linux limited certain get pas...   \n",
       "499992  writing system test app uses active storage vi...   \n",
       "499993  want change colors ikea tradfri rgb lightbulb ...   \n",
       "\n",
       "                                                   Labels  \n",
       "0                                           web framework  \n",
       "1       python oop metaclass python class python datam...  \n",
       "3              c log enterprise library application block  \n",
       "19                                         php facebook r  \n",
       "22                                                c regex  \n",
       "...                                                   ...  \n",
       "499987                  java spring ubuntu tomcat mariadb  \n",
       "499988                                       apache iotdb  \n",
       "499989             node j linux docker selenium webdriver  \n",
       "499992                ruby rail amazon rail activestorage  \n",
       "499993                          javascript typescript iot  \n",
       "\n",
       "[129665 rows x 2 columns]"
      ]
     },
     "execution_count": 11,
     "metadata": {},
     "output_type": "execute_result"
    },
    {
     "name": "stdout",
     "output_type": "stream",
     "text": [
      "time: 173 ms (started: 2021-12-29 15:19:13 +01:00)\n"
     ]
    }
   ],
   "source": [
    "result = pd.concat([data, mDf_Tags_1], axis=1, ignore_index=True)\n",
    "result_1 = result[[1,2]]\n",
    "result_1 = result_1.rename(columns={1: \"Sentence\", 2:'Labels'})\n",
    "new_df = result_1.copy()\n",
    "new_df"
   ]
  },
  {
   "cell_type": "code",
   "execution_count": 12,
   "id": "51a04a8e",
   "metadata": {},
   "outputs": [
    {
     "name": "stderr",
     "output_type": "stream",
     "text": [
      "100%|█████████████████████████████████| 129665/129665 [00:16<00:00, 7766.27it/s]\n"
     ]
    },
    {
     "data": {
      "text/html": [
       "<div>\n",
       "<style scoped>\n",
       "    .dataframe tbody tr th:only-of-type {\n",
       "        vertical-align: middle;\n",
       "    }\n",
       "\n",
       "    .dataframe tbody tr th {\n",
       "        vertical-align: top;\n",
       "    }\n",
       "\n",
       "    .dataframe thead th {\n",
       "        text-align: right;\n",
       "    }\n",
       "</style>\n",
       "<table border=\"1\" class=\"dataframe\">\n",
       "  <thead>\n",
       "    <tr style=\"text-align: right;\">\n",
       "      <th></th>\n",
       "      <th>New_Sentence</th>\n",
       "    </tr>\n",
       "  </thead>\n",
       "  <tbody>\n",
       "    <tr>\n",
       "      <th>0</th>\n",
       "      <td>question intends technology agnostic kind web ...</td>\n",
       "    </tr>\n",
       "    <tr>\n",
       "      <th>1</th>\n",
       "      <td>python metaclasses use</td>\n",
       "    </tr>\n",
       "    <tr>\n",
       "      <th>2</th>\n",
       "      <td>logging lognet easy put class called log file ...</td>\n",
       "    </tr>\n",
       "    <tr>\n",
       "      <th>3</th>\n",
       "      <td>make facebook rss application autoupdates prov...</td>\n",
       "    </tr>\n",
       "    <tr>\n",
       "      <th>4</th>\n",
       "      <td>good regular expression validate text string m...</td>\n",
       "    </tr>\n",
       "    <tr>\n",
       "      <th>...</th>\n",
       "      <td>...</td>\n",
       "    </tr>\n",
       "    <tr>\n",
       "      <th>129660</th>\n",
       "      <td>got error trying build war file tomcat server ...</td>\n",
       "    </tr>\n",
       "    <tr>\n",
       "      <th>129661</th>\n",
       "      <td>finish configuration example distributed confi...</td>\n",
       "    </tr>\n",
       "    <tr>\n",
       "      <th>129662</th>\n",
       "      <td>knowledge docker linux limited certain get pas...</td>\n",
       "    </tr>\n",
       "    <tr>\n",
       "      <th>129663</th>\n",
       "      <td>writing system test app uses active storage vi...</td>\n",
       "    </tr>\n",
       "    <tr>\n",
       "      <th>129664</th>\n",
       "      <td>want change colors ikea tradfri rgb lightbulb ...</td>\n",
       "    </tr>\n",
       "  </tbody>\n",
       "</table>\n",
       "<p>129665 rows × 1 columns</p>\n",
       "</div>"
      ],
      "text/plain": [
       "                                             New_Sentence\n",
       "0       question intends technology agnostic kind web ...\n",
       "1                                  python metaclasses use\n",
       "2       logging lognet easy put class called log file ...\n",
       "3       make facebook rss application autoupdates prov...\n",
       "4       good regular expression validate text string m...\n",
       "...                                                   ...\n",
       "129660  got error trying build war file tomcat server ...\n",
       "129661  finish configuration example distributed confi...\n",
       "129662  knowledge docker linux limited certain get pas...\n",
       "129663  writing system test app uses active storage vi...\n",
       "129664  want change colors ikea tradfri rgb lightbulb ...\n",
       "\n",
       "[129665 rows x 1 columns]"
      ]
     },
     "execution_count": 12,
     "metadata": {},
     "output_type": "execute_result"
    },
    {
     "name": "stdout",
     "output_type": "stream",
     "text": [
      "time: 20.4 s (started: 2021-12-29 15:19:14 +01:00)\n"
     ]
    }
   ],
   "source": [
    "df_lab = pd.DataFrame(new_df['Sentence'])\n",
    "df_lab = df_lab.T\n",
    "\n",
    "from collections import OrderedDict\n",
    "\n",
    "new_r = []\n",
    "for i in tqdm(df_lab.columns):\n",
    "    s = df_lab[i].values[0]\n",
    "    t = ' '.join(OrderedDict((w,w) for w in s.split()).keys())\n",
    "    new_r.append(t)\n",
    "    \n",
    "    \n",
    "new_r_df = pd.DataFrame(new_r)\n",
    "\n",
    "new_r_df = new_r_df.rename(columns={0: \"New_Sentence\"})\n",
    "new_r_df"
   ]
  },
  {
   "cell_type": "code",
   "execution_count": 13,
   "id": "be249cee",
   "metadata": {},
   "outputs": [
    {
     "data": {
      "text/html": [
       "<div>\n",
       "<style scoped>\n",
       "    .dataframe tbody tr th:only-of-type {\n",
       "        vertical-align: middle;\n",
       "    }\n",
       "\n",
       "    .dataframe tbody tr th {\n",
       "        vertical-align: top;\n",
       "    }\n",
       "\n",
       "    .dataframe thead th {\n",
       "        text-align: right;\n",
       "    }\n",
       "</style>\n",
       "<table border=\"1\" class=\"dataframe\">\n",
       "  <thead>\n",
       "    <tr style=\"text-align: right;\">\n",
       "      <th></th>\n",
       "      <th>New_Sentence</th>\n",
       "      <th>Sentence_count</th>\n",
       "    </tr>\n",
       "  </thead>\n",
       "  <tbody>\n",
       "    <tr>\n",
       "      <th>0</th>\n",
       "      <td>question intends technology agnostic kind web ...</td>\n",
       "      <td>35</td>\n",
       "    </tr>\n",
       "    <tr>\n",
       "      <th>1</th>\n",
       "      <td>python metaclasses use</td>\n",
       "      <td>3</td>\n",
       "    </tr>\n",
       "    <tr>\n",
       "      <th>2</th>\n",
       "      <td>logging lognet easy put class called log file ...</td>\n",
       "      <td>58</td>\n",
       "    </tr>\n",
       "    <tr>\n",
       "      <th>3</th>\n",
       "      <td>make facebook rss application autoupdates prov...</td>\n",
       "      <td>30</td>\n",
       "    </tr>\n",
       "    <tr>\n",
       "      <th>4</th>\n",
       "      <td>good regular expression validate text string m...</td>\n",
       "      <td>30</td>\n",
       "    </tr>\n",
       "    <tr>\n",
       "      <th>...</th>\n",
       "      <td>...</td>\n",
       "      <td>...</td>\n",
       "    </tr>\n",
       "    <tr>\n",
       "      <th>129660</th>\n",
       "      <td>got error trying build war file tomcat server ...</td>\n",
       "      <td>218</td>\n",
       "    </tr>\n",
       "    <tr>\n",
       "      <th>129661</th>\n",
       "      <td>finish configuration example distributed confi...</td>\n",
       "      <td>22</td>\n",
       "    </tr>\n",
       "    <tr>\n",
       "      <th>129662</th>\n",
       "      <td>knowledge docker linux limited certain get pas...</td>\n",
       "      <td>131</td>\n",
       "    </tr>\n",
       "    <tr>\n",
       "      <th>129663</th>\n",
       "      <td>writing system test app uses active storage vi...</td>\n",
       "      <td>75</td>\n",
       "    </tr>\n",
       "    <tr>\n",
       "      <th>129664</th>\n",
       "      <td>want change colors ikea tradfri rgb lightbulb ...</td>\n",
       "      <td>49</td>\n",
       "    </tr>\n",
       "  </tbody>\n",
       "</table>\n",
       "<p>129665 rows × 2 columns</p>\n",
       "</div>"
      ],
      "text/plain": [
       "                                             New_Sentence  Sentence_count\n",
       "0       question intends technology agnostic kind web ...              35\n",
       "1                                  python metaclasses use               3\n",
       "2       logging lognet easy put class called log file ...              58\n",
       "3       make facebook rss application autoupdates prov...              30\n",
       "4       good regular expression validate text string m...              30\n",
       "...                                                   ...             ...\n",
       "129660  got error trying build war file tomcat server ...             218\n",
       "129661  finish configuration example distributed confi...              22\n",
       "129662  knowledge docker linux limited certain get pas...             131\n",
       "129663  writing system test app uses active storage vi...              75\n",
       "129664  want change colors ikea tradfri rgb lightbulb ...              49\n",
       "\n",
       "[129665 rows x 2 columns]"
      ]
     },
     "execution_count": 13,
     "metadata": {},
     "output_type": "execute_result"
    },
    {
     "name": "stdout",
     "output_type": "stream",
     "text": [
      "time: 642 ms (started: 2021-12-29 15:19:34 +01:00)\n"
     ]
    }
   ],
   "source": [
    "new_r_df[\"Sentence_count\"] = new_r_df[\"New_Sentence\"].apply(lambda x : len(x.split()))\n",
    "new_r_df"
   ]
  },
  {
   "cell_type": "markdown",
   "metadata": {},
   "source": [
    "# 3 - Explore Y"
   ]
  },
  {
   "cell_type": "markdown",
   "metadata": {},
   "source": [
    "## 3.1 - Tags in question"
   ]
  },
  {
   "cell_type": "code",
   "execution_count": 14,
   "id": "544fb8e2",
   "metadata": {},
   "outputs": [
    {
     "name": "stdout",
     "output_type": "stream",
     "text": [
      "Maximum number of words in a question:  736\n",
      "Minimum number of words in a question:  1\n",
      "Average number of words in a question:  49.509111942312884\n",
      "time: 14.9 ms (started: 2021-12-29 15:19:35 +01:00)\n"
     ]
    }
   ],
   "source": [
    "print( \"Maximum number of words in a question: \", new_r_df[\"Sentence_count\"].max())\n",
    "print( \"Minimum number of words in a question: \", new_r_df[\"Sentence_count\"].min())\n",
    "print( \"Average number of words in a question: \", new_r_df[\"Sentence_count\"].mean())"
   ]
  },
  {
   "cell_type": "code",
   "execution_count": 15,
   "id": "0c326958",
   "metadata": {},
   "outputs": [
    {
     "name": "stdout",
     "output_type": "stream",
     "text": [
      "129665\n"
     ]
    },
    {
     "data": {
      "text/html": [
       "<div>\n",
       "<style scoped>\n",
       "    .dataframe tbody tr th:only-of-type {\n",
       "        vertical-align: middle;\n",
       "    }\n",
       "\n",
       "    .dataframe tbody tr th {\n",
       "        vertical-align: top;\n",
       "    }\n",
       "\n",
       "    .dataframe thead th {\n",
       "        text-align: right;\n",
       "    }\n",
       "</style>\n",
       "<table border=\"1\" class=\"dataframe\">\n",
       "  <thead>\n",
       "    <tr style=\"text-align: right;\">\n",
       "      <th></th>\n",
       "      <th>Nb_Words</th>\n",
       "      <th>Perc</th>\n",
       "    </tr>\n",
       "  </thead>\n",
       "  <tbody>\n",
       "    <tr>\n",
       "      <th>338</th>\n",
       "      <td>1</td>\n",
       "      <td>0.000771</td>\n",
       "    </tr>\n",
       "    <tr>\n",
       "      <th>235</th>\n",
       "      <td>2</td>\n",
       "      <td>0.006941</td>\n",
       "    </tr>\n",
       "    <tr>\n",
       "      <th>160</th>\n",
       "      <td>3</td>\n",
       "      <td>0.037790</td>\n",
       "    </tr>\n",
       "    <tr>\n",
       "      <th>116</th>\n",
       "      <td>4</td>\n",
       "      <td>0.122624</td>\n",
       "    </tr>\n",
       "    <tr>\n",
       "      <th>96</th>\n",
       "      <td>5</td>\n",
       "      <td>0.229052</td>\n",
       "    </tr>\n",
       "  </tbody>\n",
       "</table>\n",
       "</div>"
      ],
      "text/plain": [
       "     Nb_Words      Perc\n",
       "338         1  0.000771\n",
       "235         2  0.006941\n",
       "160         3  0.037790\n",
       "116         4  0.122624\n",
       "96          5  0.229052"
      ]
     },
     "execution_count": 15,
     "metadata": {},
     "output_type": "execute_result"
    },
    {
     "name": "stdout",
     "output_type": "stream",
     "text": [
      "time: 43.1 ms (started: 2021-12-29 15:19:35 +01:00)\n"
     ]
    }
   ],
   "source": [
    "val_count = pd.DataFrame(new_r_df['Sentence_count'].value_counts())\n",
    "sum_ = val_count['Sentence_count'].sum()\n",
    "print(sum_)\n",
    "val_count['Sum'] = sum_\n",
    "val_count['Perc'] = val_count['Sentence_count'] / val_count['Sum']*100\n",
    "val_count = val_count.reset_index()\n",
    "val_count = val_count.rename(columns={'index': \"Nb_Words\"})\n",
    "val_count = val_count.sort_values(by=['Nb_Words'])\n",
    "val_count = val_count[['Nb_Words', 'Perc']]\n",
    "val_count.head(5)\n"
   ]
  },
  {
   "cell_type": "code",
   "execution_count": 16,
   "metadata": {},
   "outputs": [
    {
     "name": "stdout",
     "output_type": "stream",
     "text": [
      "time: 502 ms (started: 2021-12-29 15:19:35 +01:00)\n"
     ]
    }
   ],
   "source": [
    "val_count['Test'] = 1\n",
    "val_count['inter'] = 'inter'\n",
    "for j in range(382):\n",
    "    i = val_count.Nb_Words.iloc[j]\n",
    "    if i < 1000 :\n",
    "        val_count[\"Test\"].iloc[j] = 3\n",
    "        val_count[\"inter\"].iloc[j] = 'Entre 100 et 1000 mots'\n",
    "    if i < 100 :\n",
    "        val_count[\"Test\"].iloc[j] = 2\n",
    "        val_count[\"inter\"].iloc[j] = 'Entre 50 et 100 mots'\n",
    "    if i < 50 :\n",
    "        val_count[\"Test\"].iloc[j] = 1\n",
    "        val_count[\"inter\"].iloc[j] = 'Entre 25 et 50 mots'\n",
    "    if i < 25 :\n",
    "        val_count[\"Test\"].iloc[j] = 0\n",
    "        val_count[\"inter\"].iloc[j] = 'Entre 1 et 25 mots'\n",
    "    \n",
    "   "
   ]
  },
  {
   "cell_type": "code",
   "execution_count": 17,
   "metadata": {},
   "outputs": [
    {
     "data": {
      "text/html": [
       "<div>\n",
       "<style scoped>\n",
       "    .dataframe tbody tr th:only-of-type {\n",
       "        vertical-align: middle;\n",
       "    }\n",
       "\n",
       "    .dataframe tbody tr th {\n",
       "        vertical-align: top;\n",
       "    }\n",
       "\n",
       "    .dataframe thead th {\n",
       "        text-align: right;\n",
       "    }\n",
       "</style>\n",
       "<table border=\"1\" class=\"dataframe\">\n",
       "  <thead>\n",
       "    <tr style=\"text-align: right;\">\n",
       "      <th></th>\n",
       "      <th>Nb_Words</th>\n",
       "      <th>Perc</th>\n",
       "      <th>Test</th>\n",
       "      <th>inter</th>\n",
       "    </tr>\n",
       "  </thead>\n",
       "  <tbody>\n",
       "    <tr>\n",
       "      <th>338</th>\n",
       "      <td>1</td>\n",
       "      <td>0.000771</td>\n",
       "      <td>0</td>\n",
       "      <td>Entre 1 et 25 mots</td>\n",
       "    </tr>\n",
       "    <tr>\n",
       "      <th>235</th>\n",
       "      <td>2</td>\n",
       "      <td>0.006941</td>\n",
       "      <td>0</td>\n",
       "      <td>Entre 1 et 25 mots</td>\n",
       "    </tr>\n",
       "    <tr>\n",
       "      <th>160</th>\n",
       "      <td>3</td>\n",
       "      <td>0.037790</td>\n",
       "      <td>0</td>\n",
       "      <td>Entre 1 et 25 mots</td>\n",
       "    </tr>\n",
       "    <tr>\n",
       "      <th>116</th>\n",
       "      <td>4</td>\n",
       "      <td>0.122624</td>\n",
       "      <td>0</td>\n",
       "      <td>Entre 1 et 25 mots</td>\n",
       "    </tr>\n",
       "    <tr>\n",
       "      <th>96</th>\n",
       "      <td>5</td>\n",
       "      <td>0.229052</td>\n",
       "      <td>0</td>\n",
       "      <td>Entre 1 et 25 mots</td>\n",
       "    </tr>\n",
       "    <tr>\n",
       "      <th>...</th>\n",
       "      <td>...</td>\n",
       "      <td>...</td>\n",
       "      <td>...</td>\n",
       "      <td>...</td>\n",
       "    </tr>\n",
       "    <tr>\n",
       "      <th>378</th>\n",
       "      <td>499</td>\n",
       "      <td>0.000771</td>\n",
       "      <td>3</td>\n",
       "      <td>Entre 100 et 1000 mots</td>\n",
       "    </tr>\n",
       "    <tr>\n",
       "      <th>358</th>\n",
       "      <td>543</td>\n",
       "      <td>0.000771</td>\n",
       "      <td>3</td>\n",
       "      <td>Entre 100 et 1000 mots</td>\n",
       "    </tr>\n",
       "    <tr>\n",
       "      <th>380</th>\n",
       "      <td>682</td>\n",
       "      <td>0.000771</td>\n",
       "      <td>3</td>\n",
       "      <td>Entre 100 et 1000 mots</td>\n",
       "    </tr>\n",
       "    <tr>\n",
       "      <th>330</th>\n",
       "      <td>711</td>\n",
       "      <td>0.000771</td>\n",
       "      <td>3</td>\n",
       "      <td>Entre 100 et 1000 mots</td>\n",
       "    </tr>\n",
       "    <tr>\n",
       "      <th>357</th>\n",
       "      <td>736</td>\n",
       "      <td>0.000771</td>\n",
       "      <td>3</td>\n",
       "      <td>Entre 100 et 1000 mots</td>\n",
       "    </tr>\n",
       "  </tbody>\n",
       "</table>\n",
       "<p>382 rows × 4 columns</p>\n",
       "</div>"
      ],
      "text/plain": [
       "     Nb_Words      Perc  Test                   inter\n",
       "338         1  0.000771     0      Entre 1 et 25 mots\n",
       "235         2  0.006941     0      Entre 1 et 25 mots\n",
       "160         3  0.037790     0      Entre 1 et 25 mots\n",
       "116         4  0.122624     0      Entre 1 et 25 mots\n",
       "96          5  0.229052     0      Entre 1 et 25 mots\n",
       "..        ...       ...   ...                     ...\n",
       "378       499  0.000771     3  Entre 100 et 1000 mots\n",
       "358       543  0.000771     3  Entre 100 et 1000 mots\n",
       "380       682  0.000771     3  Entre 100 et 1000 mots\n",
       "330       711  0.000771     3  Entre 100 et 1000 mots\n",
       "357       736  0.000771     3  Entre 100 et 1000 mots\n",
       "\n",
       "[382 rows x 4 columns]"
      ]
     },
     "execution_count": 17,
     "metadata": {},
     "output_type": "execute_result"
    },
    {
     "name": "stdout",
     "output_type": "stream",
     "text": [
      "time: 36.2 ms (started: 2021-12-29 15:19:35 +01:00)\n"
     ]
    }
   ],
   "source": [
    "val_count"
   ]
  },
  {
   "cell_type": "code",
   "execution_count": 18,
   "metadata": {},
   "outputs": [
    {
     "ename": "KeyError",
     "evalue": "'index'",
     "output_type": "error",
     "traceback": [
      "\u001b[0;31m---------------------------------------------------------------------------\u001b[0m",
      "\u001b[0;31mKeyError\u001b[0m                                  Traceback (most recent call last)",
      "\u001b[0;32m~/opt/anaconda3/lib/python3.8/site-packages/pandas/core/indexes/base.py\u001b[0m in \u001b[0;36mget_loc\u001b[0;34m(self, key, method, tolerance)\u001b[0m\n\u001b[1;32m   3360\u001b[0m             \u001b[0;32mtry\u001b[0m\u001b[0;34m:\u001b[0m\u001b[0;34m\u001b[0m\u001b[0;34m\u001b[0m\u001b[0m\n\u001b[0;32m-> 3361\u001b[0;31m                 \u001b[0;32mreturn\u001b[0m \u001b[0mself\u001b[0m\u001b[0;34m.\u001b[0m\u001b[0m_engine\u001b[0m\u001b[0;34m.\u001b[0m\u001b[0mget_loc\u001b[0m\u001b[0;34m(\u001b[0m\u001b[0mcasted_key\u001b[0m\u001b[0;34m)\u001b[0m\u001b[0;34m\u001b[0m\u001b[0;34m\u001b[0m\u001b[0m\n\u001b[0m\u001b[1;32m   3362\u001b[0m             \u001b[0;32mexcept\u001b[0m \u001b[0mKeyError\u001b[0m \u001b[0;32mas\u001b[0m \u001b[0merr\u001b[0m\u001b[0;34m:\u001b[0m\u001b[0;34m\u001b[0m\u001b[0;34m\u001b[0m\u001b[0m\n",
      "\u001b[0;32m~/opt/anaconda3/lib/python3.8/site-packages/pandas/_libs/index.pyx\u001b[0m in \u001b[0;36mpandas._libs.index.IndexEngine.get_loc\u001b[0;34m()\u001b[0m\n",
      "\u001b[0;32m~/opt/anaconda3/lib/python3.8/site-packages/pandas/_libs/index.pyx\u001b[0m in \u001b[0;36mpandas._libs.index.IndexEngine.get_loc\u001b[0;34m()\u001b[0m\n",
      "\u001b[0;32mpandas/_libs/hashtable_class_helper.pxi\u001b[0m in \u001b[0;36mpandas._libs.hashtable.PyObjectHashTable.get_item\u001b[0;34m()\u001b[0m\n",
      "\u001b[0;32mpandas/_libs/hashtable_class_helper.pxi\u001b[0m in \u001b[0;36mpandas._libs.hashtable.PyObjectHashTable.get_item\u001b[0;34m()\u001b[0m\n",
      "\u001b[0;31mKeyError\u001b[0m: 'index'",
      "\nThe above exception was the direct cause of the following exception:\n",
      "\u001b[0;31mKeyError\u001b[0m                                  Traceback (most recent call last)",
      "\u001b[0;32m/var/folders/nk/77tzydc5271b4jt6909jb9m80000gn/T/ipykernel_13521/567054171.py\u001b[0m in \u001b[0;36m<module>\u001b[0;34m\u001b[0m\n\u001b[1;32m      1\u001b[0m \u001b[0mval_count\u001b[0m \u001b[0;34m=\u001b[0m \u001b[0mval_count\u001b[0m\u001b[0;34m.\u001b[0m\u001b[0mgroupby\u001b[0m\u001b[0;34m(\u001b[0m\u001b[0;34m[\u001b[0m\u001b[0;34m'inter'\u001b[0m\u001b[0;34m]\u001b[0m\u001b[0;34m)\u001b[0m\u001b[0;34m.\u001b[0m\u001b[0msum\u001b[0m\u001b[0;34m(\u001b[0m\u001b[0;34m)\u001b[0m\u001b[0;34m\u001b[0m\u001b[0;34m\u001b[0m\u001b[0m\n\u001b[1;32m      2\u001b[0m \u001b[0mval_count\u001b[0m \u001b[0;34m=\u001b[0m \u001b[0mval_count\u001b[0m\u001b[0;34m.\u001b[0m\u001b[0mreset_index\u001b[0m\u001b[0;34m(\u001b[0m\u001b[0;34m)\u001b[0m\u001b[0;34m\u001b[0m\u001b[0;34m\u001b[0m\u001b[0m\n\u001b[0;32m----> 3\u001b[0;31m \u001b[0mval_count\u001b[0m\u001b[0;34m.\u001b[0m\u001b[0mpop\u001b[0m\u001b[0;34m(\u001b[0m\u001b[0;34m'index'\u001b[0m\u001b[0;34m)\u001b[0m\u001b[0;34m\u001b[0m\u001b[0;34m\u001b[0m\u001b[0m\n\u001b[0m\u001b[1;32m      4\u001b[0m \u001b[0mval_count\u001b[0m\u001b[0;34m.\u001b[0m\u001b[0mpop\u001b[0m\u001b[0;34m(\u001b[0m\u001b[0;34m'Nb_Words'\u001b[0m\u001b[0;34m)\u001b[0m\u001b[0;34m\u001b[0m\u001b[0;34m\u001b[0m\u001b[0m\n\u001b[1;32m      5\u001b[0m \u001b[0mval_count\u001b[0m\u001b[0;34m.\u001b[0m\u001b[0mpop\u001b[0m\u001b[0;34m(\u001b[0m\u001b[0;34m'Test'\u001b[0m\u001b[0;34m)\u001b[0m\u001b[0;34m\u001b[0m\u001b[0;34m\u001b[0m\u001b[0m\n",
      "\u001b[0;32m~/opt/anaconda3/lib/python3.8/site-packages/pandas/core/frame.py\u001b[0m in \u001b[0;36mpop\u001b[0;34m(self, item)\u001b[0m\n\u001b[1;32m   5224\u001b[0m         \u001b[0;36m3\u001b[0m  \u001b[0mmonkey\u001b[0m        \u001b[0mNaN\u001b[0m\u001b[0;34m\u001b[0m\u001b[0;34m\u001b[0m\u001b[0m\n\u001b[1;32m   5225\u001b[0m         \"\"\"\n\u001b[0;32m-> 5226\u001b[0;31m         \u001b[0;32mreturn\u001b[0m \u001b[0msuper\u001b[0m\u001b[0;34m(\u001b[0m\u001b[0;34m)\u001b[0m\u001b[0;34m.\u001b[0m\u001b[0mpop\u001b[0m\u001b[0;34m(\u001b[0m\u001b[0mitem\u001b[0m\u001b[0;34m=\u001b[0m\u001b[0mitem\u001b[0m\u001b[0;34m)\u001b[0m\u001b[0;34m\u001b[0m\u001b[0;34m\u001b[0m\u001b[0m\n\u001b[0m\u001b[1;32m   5227\u001b[0m \u001b[0;34m\u001b[0m\u001b[0m\n\u001b[1;32m   5228\u001b[0m     \u001b[0;34m@\u001b[0m\u001b[0mdoc\u001b[0m\u001b[0;34m(\u001b[0m\u001b[0mNDFrame\u001b[0m\u001b[0;34m.\u001b[0m\u001b[0mreplace\u001b[0m\u001b[0;34m,\u001b[0m \u001b[0;34m**\u001b[0m\u001b[0m_shared_doc_kwargs\u001b[0m\u001b[0;34m)\u001b[0m\u001b[0;34m\u001b[0m\u001b[0;34m\u001b[0m\u001b[0m\n",
      "\u001b[0;32m~/opt/anaconda3/lib/python3.8/site-packages/pandas/core/generic.py\u001b[0m in \u001b[0;36mpop\u001b[0;34m(self, item)\u001b[0m\n\u001b[1;32m    868\u001b[0m \u001b[0;34m\u001b[0m\u001b[0m\n\u001b[1;32m    869\u001b[0m     \u001b[0;32mdef\u001b[0m \u001b[0mpop\u001b[0m\u001b[0;34m(\u001b[0m\u001b[0mself\u001b[0m\u001b[0;34m,\u001b[0m \u001b[0mitem\u001b[0m\u001b[0;34m:\u001b[0m \u001b[0mHashable\u001b[0m\u001b[0;34m)\u001b[0m \u001b[0;34m->\u001b[0m \u001b[0mSeries\u001b[0m \u001b[0;34m|\u001b[0m \u001b[0mAny\u001b[0m\u001b[0;34m:\u001b[0m\u001b[0;34m\u001b[0m\u001b[0;34m\u001b[0m\u001b[0m\n\u001b[0;32m--> 870\u001b[0;31m         \u001b[0mresult\u001b[0m \u001b[0;34m=\u001b[0m \u001b[0mself\u001b[0m\u001b[0;34m[\u001b[0m\u001b[0mitem\u001b[0m\u001b[0;34m]\u001b[0m\u001b[0;34m\u001b[0m\u001b[0;34m\u001b[0m\u001b[0m\n\u001b[0m\u001b[1;32m    871\u001b[0m         \u001b[0;32mdel\u001b[0m \u001b[0mself\u001b[0m\u001b[0;34m[\u001b[0m\u001b[0mitem\u001b[0m\u001b[0;34m]\u001b[0m\u001b[0;34m\u001b[0m\u001b[0;34m\u001b[0m\u001b[0m\n\u001b[1;32m    872\u001b[0m \u001b[0;34m\u001b[0m\u001b[0m\n",
      "\u001b[0;32m~/opt/anaconda3/lib/python3.8/site-packages/pandas/core/frame.py\u001b[0m in \u001b[0;36m__getitem__\u001b[0;34m(self, key)\u001b[0m\n\u001b[1;32m   3456\u001b[0m             \u001b[0;32mif\u001b[0m \u001b[0mself\u001b[0m\u001b[0;34m.\u001b[0m\u001b[0mcolumns\u001b[0m\u001b[0;34m.\u001b[0m\u001b[0mnlevels\u001b[0m \u001b[0;34m>\u001b[0m \u001b[0;36m1\u001b[0m\u001b[0;34m:\u001b[0m\u001b[0;34m\u001b[0m\u001b[0;34m\u001b[0m\u001b[0m\n\u001b[1;32m   3457\u001b[0m                 \u001b[0;32mreturn\u001b[0m \u001b[0mself\u001b[0m\u001b[0;34m.\u001b[0m\u001b[0m_getitem_multilevel\u001b[0m\u001b[0;34m(\u001b[0m\u001b[0mkey\u001b[0m\u001b[0;34m)\u001b[0m\u001b[0;34m\u001b[0m\u001b[0;34m\u001b[0m\u001b[0m\n\u001b[0;32m-> 3458\u001b[0;31m             \u001b[0mindexer\u001b[0m \u001b[0;34m=\u001b[0m \u001b[0mself\u001b[0m\u001b[0;34m.\u001b[0m\u001b[0mcolumns\u001b[0m\u001b[0;34m.\u001b[0m\u001b[0mget_loc\u001b[0m\u001b[0;34m(\u001b[0m\u001b[0mkey\u001b[0m\u001b[0;34m)\u001b[0m\u001b[0;34m\u001b[0m\u001b[0;34m\u001b[0m\u001b[0m\n\u001b[0m\u001b[1;32m   3459\u001b[0m             \u001b[0;32mif\u001b[0m \u001b[0mis_integer\u001b[0m\u001b[0;34m(\u001b[0m\u001b[0mindexer\u001b[0m\u001b[0;34m)\u001b[0m\u001b[0;34m:\u001b[0m\u001b[0;34m\u001b[0m\u001b[0;34m\u001b[0m\u001b[0m\n\u001b[1;32m   3460\u001b[0m                 \u001b[0mindexer\u001b[0m \u001b[0;34m=\u001b[0m \u001b[0;34m[\u001b[0m\u001b[0mindexer\u001b[0m\u001b[0;34m]\u001b[0m\u001b[0;34m\u001b[0m\u001b[0;34m\u001b[0m\u001b[0m\n",
      "\u001b[0;32m~/opt/anaconda3/lib/python3.8/site-packages/pandas/core/indexes/base.py\u001b[0m in \u001b[0;36mget_loc\u001b[0;34m(self, key, method, tolerance)\u001b[0m\n\u001b[1;32m   3361\u001b[0m                 \u001b[0;32mreturn\u001b[0m \u001b[0mself\u001b[0m\u001b[0;34m.\u001b[0m\u001b[0m_engine\u001b[0m\u001b[0;34m.\u001b[0m\u001b[0mget_loc\u001b[0m\u001b[0;34m(\u001b[0m\u001b[0mcasted_key\u001b[0m\u001b[0;34m)\u001b[0m\u001b[0;34m\u001b[0m\u001b[0;34m\u001b[0m\u001b[0m\n\u001b[1;32m   3362\u001b[0m             \u001b[0;32mexcept\u001b[0m \u001b[0mKeyError\u001b[0m \u001b[0;32mas\u001b[0m \u001b[0merr\u001b[0m\u001b[0;34m:\u001b[0m\u001b[0;34m\u001b[0m\u001b[0;34m\u001b[0m\u001b[0m\n\u001b[0;32m-> 3363\u001b[0;31m                 \u001b[0;32mraise\u001b[0m \u001b[0mKeyError\u001b[0m\u001b[0;34m(\u001b[0m\u001b[0mkey\u001b[0m\u001b[0;34m)\u001b[0m \u001b[0;32mfrom\u001b[0m \u001b[0merr\u001b[0m\u001b[0;34m\u001b[0m\u001b[0;34m\u001b[0m\u001b[0m\n\u001b[0m\u001b[1;32m   3364\u001b[0m \u001b[0;34m\u001b[0m\u001b[0m\n\u001b[1;32m   3365\u001b[0m         \u001b[0;32mif\u001b[0m \u001b[0mis_scalar\u001b[0m\u001b[0;34m(\u001b[0m\u001b[0mkey\u001b[0m\u001b[0;34m)\u001b[0m \u001b[0;32mand\u001b[0m \u001b[0misna\u001b[0m\u001b[0;34m(\u001b[0m\u001b[0mkey\u001b[0m\u001b[0;34m)\u001b[0m \u001b[0;32mand\u001b[0m \u001b[0;32mnot\u001b[0m \u001b[0mself\u001b[0m\u001b[0;34m.\u001b[0m\u001b[0mhasnans\u001b[0m\u001b[0;34m:\u001b[0m\u001b[0;34m\u001b[0m\u001b[0;34m\u001b[0m\u001b[0m\n",
      "\u001b[0;31mKeyError\u001b[0m: 'index'"
     ]
    },
    {
     "name": "stdout",
     "output_type": "stream",
     "text": [
      "time: 636 ms (started: 2021-12-29 15:19:35 +01:00)\n"
     ]
    }
   ],
   "source": [
    "val_count = val_count.groupby(['inter']).sum()\n",
    "val_count = val_count.reset_index()\n",
    "val_count.pop('index')\n",
    "val_count.pop('Nb_Words')\n",
    "val_count.pop('Test')\n",
    "val_count"
   ]
  },
  {
   "cell_type": "code",
   "execution_count": null,
   "metadata": {},
   "outputs": [],
   "source": [
    "plt.figure(figsize=(7.5, 7.5))\n",
    "ax = sns.barplot(x='Perc', y='inter', data=val_count, orient='h')\n",
    "plt.xticks(fontsize=10, rotation=10)\n",
    "plt.yticks(fontsize=10, rotation=10)\n",
    "plt.title('Nb Words / Question', fontsize=20)"
   ]
  },
  {
   "cell_type": "markdown",
   "id": "bb5a592e",
   "metadata": {},
   "source": [
    "## 3.2 - Nombre de Tags unique"
   ]
  },
  {
   "cell_type": "code",
   "execution_count": 19,
   "metadata": {},
   "outputs": [
    {
     "data": {
      "text/plain": [
       "0         question intends technology agnostic kind web ...\n",
       "1                                    python metaclasses use\n",
       "2         logging lognet easy put class called log file ...\n",
       "3         make facebook rss application autoupdates prov...\n",
       "4         good regular expression validate text string m...\n",
       "                                ...                        \n",
       "129660    got error trying build war file tomcat server ...\n",
       "129661    finish configuration example distributed confi...\n",
       "129662    knowledge docker linux limited certain get pas...\n",
       "129663    writing system test app uses active storage vi...\n",
       "129664    want change colors ikea tradfri rgb lightbulb ...\n",
       "Name: New_Sentence, Length: 129665, dtype: object"
      ]
     },
     "execution_count": 19,
     "metadata": {},
     "output_type": "execute_result"
    },
    {
     "name": "stdout",
     "output_type": "stream",
     "text": [
      "time: 15.4 ms (started: 2021-12-29 15:20:59 +01:00)\n"
     ]
    }
   ],
   "source": [
    "new_r_df['New_Sentence']"
   ]
  },
  {
   "cell_type": "code",
   "execution_count": 20,
   "id": "33c599ed",
   "metadata": {},
   "outputs": [
    {
     "name": "stdout",
     "output_type": "stream",
     "text": [
      "time: 7.05 s (started: 2021-12-29 15:20:59 +01:00)\n"
     ]
    }
   ],
   "source": [
    "vectorizer = CountVectorizer(tokenizer = lambda x: x.split())\n",
    "tag_bow = vectorizer.fit_transform(new_r_df['New_Sentence'])"
   ]
  },
  {
   "cell_type": "code",
   "execution_count": 21,
   "id": "1bc31b1e",
   "metadata": {},
   "outputs": [
    {
     "name": "stdout",
     "output_type": "stream",
     "text": [
      "Number of questions : 129665\n",
      "Number of unique tags : 321724\n",
      "time: 5.08 ms (started: 2021-12-29 15:21:06 +01:00)\n"
     ]
    }
   ],
   "source": [
    "print(\"Number of questions :\", tag_bow.shape[0])\n",
    "print(\"Number of unique tags :\", tag_bow.shape[1])"
   ]
  },
  {
   "cell_type": "code",
   "execution_count": 22,
   "id": "1ae810d8",
   "metadata": {},
   "outputs": [
    {
     "name": "stdout",
     "output_type": "stream",
     "text": [
      "Few tags : ['_____________________________________________________', '_______________________________________________________', '__________________________________________________________', '_________________________________________________________________', '________________________________________________________________________', '_____________________________________________________________________________', '______________________________________________________________________________importerror', '__________________________i', '__________exception_received_from_server__________', '_______cm', '____add_unique_to_streams', '____chkstk_darwin', '___asan_init', '___asan_version_mismatch_check_apple_clang_', '___copyright___', '___cps', '___fndword', '___freea', '___gcov_flush', '___go_build_clusterupgradenotification']\n",
      "time: 410 ms (started: 2021-12-29 15:21:06 +01:00)\n"
     ]
    }
   ],
   "source": [
    "tags = vectorizer.get_feature_names()"
   ]
  },
  {
   "cell_type": "markdown",
   "id": "95055c22",
   "metadata": {},
   "source": [
    "# 3.3 - Frequence des mots"
   ]
  },
  {
   "cell_type": "code",
   "execution_count": 23,
   "id": "0da21191",
   "metadata": {},
   "outputs": [
    {
     "data": {
      "text/html": [
       "<div>\n",
       "<style scoped>\n",
       "    .dataframe tbody tr th:only-of-type {\n",
       "        vertical-align: middle;\n",
       "    }\n",
       "\n",
       "    .dataframe tbody tr th {\n",
       "        vertical-align: top;\n",
       "    }\n",
       "\n",
       "    .dataframe thead th {\n",
       "        text-align: right;\n",
       "    }\n",
       "</style>\n",
       "<table border=\"1\" class=\"dataframe\">\n",
       "  <thead>\n",
       "    <tr style=\"text-align: right;\">\n",
       "      <th></th>\n",
       "      <th>Tags</th>\n",
       "      <th>Counts</th>\n",
       "    </tr>\n",
       "  </thead>\n",
       "  <tbody>\n",
       "    <tr>\n",
       "      <th>302126</th>\n",
       "      <td>using</td>\n",
       "      <td>43959</td>\n",
       "    </tr>\n",
       "    <tr>\n",
       "      <th>159372</th>\n",
       "      <td>like</td>\n",
       "      <td>41024</td>\n",
       "    </tr>\n",
       "    <tr>\n",
       "      <th>300161</th>\n",
       "      <td>use</td>\n",
       "      <td>34372</td>\n",
       "    </tr>\n",
       "    <tr>\n",
       "      <th>50978</th>\n",
       "      <td>code</td>\n",
       "      <td>34294</td>\n",
       "    </tr>\n",
       "    <tr>\n",
       "      <th>314362</th>\n",
       "      <td>would</td>\n",
       "      <td>33186</td>\n",
       "    </tr>\n",
       "    <tr>\n",
       "      <th>...</th>\n",
       "      <td>...</td>\n",
       "      <td>...</td>\n",
       "    </tr>\n",
       "    <tr>\n",
       "      <th>124281</th>\n",
       "      <td>guildines</td>\n",
       "      <td>1</td>\n",
       "    </tr>\n",
       "    <tr>\n",
       "      <th>124282</th>\n",
       "      <td>guildline</td>\n",
       "      <td>1</td>\n",
       "    </tr>\n",
       "    <tr>\n",
       "      <th>124283</th>\n",
       "      <td>guildlines</td>\n",
       "      <td>1</td>\n",
       "    </tr>\n",
       "    <tr>\n",
       "      <th>124284</th>\n",
       "      <td>guildmember</td>\n",
       "      <td>1</td>\n",
       "    </tr>\n",
       "    <tr>\n",
       "      <th>321723</th>\n",
       "      <td>zzzzzzzzzzzzzzzzzzzzzzzzzzzzz</td>\n",
       "      <td>1</td>\n",
       "    </tr>\n",
       "  </tbody>\n",
       "</table>\n",
       "<p>321724 rows × 2 columns</p>\n",
       "</div>"
      ],
      "text/plain": [
       "                                 Tags  Counts\n",
       "302126                          using   43959\n",
       "159372                           like   41024\n",
       "300161                            use   34372\n",
       "50978                            code   34294\n",
       "314362                          would   33186\n",
       "...                               ...     ...\n",
       "124281                      guildines       1\n",
       "124282                      guildline       1\n",
       "124283                     guildlines       1\n",
       "124284                    guildmember       1\n",
       "321723  zzzzzzzzzzzzzzzzzzzzzzzzzzzzz       1\n",
       "\n",
       "[321724 rows x 2 columns]"
      ]
     },
     "execution_count": 23,
     "metadata": {},
     "output_type": "execute_result"
    },
    {
     "name": "stdout",
     "output_type": "stream",
     "text": [
      "time: 1.12 s (started: 2021-12-29 15:21:17 +01:00)\n"
     ]
    }
   ],
   "source": [
    "freq = tag_bow.sum(axis=0).A1\n",
    "tag_to_count_map = dict(zip(tags, freq))\n",
    "\n",
    "list = []\n",
    "for key, value in tag_to_count_map.items():\n",
    "    list.append([key, value]) \n",
    "    \n",
    "tag_df = pd.DataFrame(list, columns=['Tags', 'Counts'])\n",
    "tag_df_sorted = tag_df.sort_values(['Counts'], ascending=False)\n",
    "tag_df_sorted"
   ]
  },
  {
   "cell_type": "markdown",
   "id": "19fbaf74",
   "metadata": {},
   "source": [
    "### 3.3.1 - Frequence des mots  : Distribution Totale"
   ]
  },
  {
   "cell_type": "code",
   "execution_count": 24,
   "id": "bf8a197a",
   "metadata": {},
   "outputs": [
    {
     "data": {
      "text/plain": [
       "Text(0, 0.5, 'Frequency')"
      ]
     },
     "execution_count": 24,
     "metadata": {},
     "output_type": "execute_result"
    },
    {
     "data": {
      "image/png": "[encoded data removed]",
      "text/plain": [
       "<Figure size 432x288 with 1 Axes>"
      ]
     },
     "metadata": {
      "needs_background": "light"
     },
     "output_type": "display_data"
    },
    {
     "name": "stdout",
     "output_type": "stream",
     "text": [
      "time: 398 ms (started: 2021-12-29 15:21:25 +01:00)\n"
     ]
    }
   ],
   "source": [
    "plt.plot(tag_df_sorted['Counts'].values)\n",
    "plt.grid()\n",
    "plt.title(\"Distribution of frequency of tags based on appeareance\")\n",
    "plt.xlabel(\"Tag numbers for most frequent tags\")\n",
    "plt.ylabel(\"Frequency\")"
   ]
  },
  {
   "cell_type": "markdown",
   "metadata": {},
   "source": [
    "### 3.3.2 - Frequence des mots  : Distribution des 100 premiers mots"
   ]
  },
  {
   "cell_type": "code",
   "execution_count": 25,
   "id": "819392d4",
   "metadata": {},
   "outputs": [
    {
     "data": {
      "text/plain": [
       "Text(0, 0.5, 'Frequency')"
      ]
     },
     "execution_count": 25,
     "metadata": {},
     "output_type": "execute_result"
    },
    {
     "data": {
      "image/png": "[encoded data removed]",
      "text/plain": [
       "<Figure size 432x288 with 1 Axes>"
      ]
     },
     "metadata": {
      "needs_background": "light"
     },
     "output_type": "display_data"
    },
    {
     "name": "stdout",
     "output_type": "stream",
     "text": [
      "time: 264 ms (started: 2021-12-29 15:21:28 +01:00)\n"
     ]
    }
   ],
   "source": [
    "plt.plot(tag_df_sorted['Counts'][0:100].values)\n",
    "plt.grid()\n",
    "plt.title(\"Top 100 tags : Distribution of frequency of words based on appeareance\")\n",
    "plt.xlabel(\"Tag numbers for most frequent words\")\n",
    "plt.ylabel(\"Frequency\")"
   ]
  },
  {
   "cell_type": "markdown",
   "id": "9a10f6bc",
   "metadata": {},
   "source": [
    "### 3.3.3 - Frequence des mots  : Distribution en quantiles"
   ]
  },
  {
   "cell_type": "code",
   "execution_count": 26,
   "id": "a43f8d38",
   "metadata": {},
   "outputs": [
    {
     "data": {
      "text/plain": [
       "<matplotlib.legend.Legend at 0x7fe1803ffa00>"
      ]
     },
     "execution_count": 26,
     "metadata": {},
     "output_type": "execute_result"
    },
    {
     "data": {
      "image/png": "[encoded data removed]",
      "text/plain": [
       "<Figure size 432x288 with 1 Axes>"
      ]
     },
     "metadata": {
      "needs_background": "light"
     },
     "output_type": "display_data"
    },
    {
     "name": "stdout",
     "output_type": "stream",
     "text": [
      "time: 422 ms (started: 2021-12-29 15:21:34 +01:00)\n"
     ]
    }
   ],
   "source": [
    "plt.plot(tag_df_sorted['Counts'][0:100].values)\n",
    "plt.scatter(x=np.arange(0,100,5), y=tag_df_sorted['Counts'][0:100:5], c='g', label=\"quantiles with 0.05 intervals\")\n",
    "plt.scatter(x=np.arange(0,100,25), y=tag_df_sorted['Counts'][0:100:25], c='r', label = \"quantiles with 0.25 intervals\")\n",
    "for x,y in zip(np.arange(0,100,25), tag_df_sorted['Counts'][0:100:25]):\n",
    "    plt.annotate(s=\"({} , {})\".format(x,y), xy=(x,y), xytext=(x-0.01, y+30))\n",
    "\n",
    "plt.title('first 100 tags: Distribution of frequency of tags based on appeareance')\n",
    "plt.grid()\n",
    "plt.xlabel(\"Tag numbers for most frequent tags\")\n",
    "plt.ylabel(\"Frequency\")\n",
    "plt.legend()"
   ]
  },
  {
   "cell_type": "markdown",
   "id": "1e42206b",
   "metadata": {},
   "source": [
    "### 3.3.4 - Frequence des mots  : Frequence de distribution"
   ]
  },
  {
   "cell_type": "code",
   "execution_count": 27,
   "id": "22314729",
   "metadata": {},
   "outputs": [
    {
     "data": {
      "text/plain": [
       "Text(0.5, 1.0, 'Distribution des mots')"
      ]
     },
     "execution_count": 27,
     "metadata": {},
     "output_type": "execute_result"
    },
    {
     "data": {
      "image/png": "[encoded data removed]",
      "text/plain": [
       "<Figure size 540x540 with 1 Axes>"
      ]
     },
     "metadata": {
      "needs_background": "light"
     },
     "output_type": "display_data"
    },
    {
     "name": "stdout",
     "output_type": "stream",
     "text": [
      "time: 860 ms (started: 2021-12-29 15:21:39 +01:00)\n"
     ]
    }
   ],
   "source": [
    "_5_fois   = tag_df_sorted[tag_df_sorted[\"Counts\"]>5].shape[0]\n",
    "_10_fois  = tag_df_sorted[tag_df_sorted[\"Counts\"]>10].shape[0]\n",
    "_25_fois  = tag_df_sorted[tag_df_sorted[\"Counts\"]>25].shape[0]\n",
    "_50_fois  = tag_df_sorted[tag_df_sorted[\"Counts\"]>50].shape[0]\n",
    "_75_fois  = tag_df_sorted[tag_df_sorted[\"Counts\"]>75].shape[0]\n",
    "_100_fois = tag_df_sorted[tag_df_sorted[\"Counts\"]>100].shape[0]\n",
    "_250_fois = tag_df_sorted[tag_df_sorted[\"Counts\"]>250].shape[0]\n",
    "_500_fois = tag_df_sorted[tag_df_sorted[\"Counts\"]>500].shape[0]\n",
    "\n",
    "lst = [['x5', _5_fois], ['x10', _10_fois], ['x25', _25_fois], ['x50', _50_fois],['x75', _75_fois],['x100', _100_fois], ['x250', _250_fois],['x500', _500_fois]]\n",
    "\n",
    "lst_Df = pd.DataFrame(lst)\n",
    "lst_Df= lst_Df.rename(columns={0: \"Distrib\", 1:'Val'})\n",
    "\n",
    "plt.figure(figsize=(7.5, 7.5))\n",
    "ax = sns.barplot(x='Val', y='Distrib', data=lst_Df, orient='h')\n",
    "plt.xticks(fontsize=15, rotation=10)\n",
    "plt.yticks(fontsize=15, rotation=10)\n",
    "plt.title('Distribution des mots', fontsize=20)"
   ]
  },
  {
   "cell_type": "markdown",
   "id": "2cc4720f",
   "metadata": {},
   "source": [
    "### 3.3.5 - Frequence des mots  :  n tags couvrent % des questions"
   ]
  },
  {
   "cell_type": "code",
   "execution_count": 28,
   "id": "a3f195ec",
   "metadata": {},
   "outputs": [
    {
     "data": {
      "text/plain": [
       "Text(0, 0.5, 'Nb Words')"
      ]
     },
     "execution_count": 28,
     "metadata": {},
     "output_type": "execute_result"
    },
    {
     "data": {
      "image/png": "[encoded data removed]",
      "text/plain": [
       "<Figure size 720x360 with 1 Axes>"
      ]
     },
     "metadata": {
      "needs_background": "light"
     },
     "output_type": "display_data"
    },
    {
     "name": "stdout",
     "output_type": "stream",
     "text": [
      "time: 352 ms (started: 2021-12-29 15:21:43 +01:00)\n"
     ]
    }
   ],
   "source": [
    "tag_df_sorted_1 = tag_df_sorted.copy()\n",
    "_sum_ = tag_df_sorted_1['Counts'].sum()\n",
    "tag_df_sorted_1['_sum_'] = _sum_\n",
    "tag_df_sorted_1['Perc'] = tag_df_sorted_1['Counts'] / tag_df_sorted_1['_sum_']*100\n",
    "tag_df_sorted_1['Perc_cumsum'] = tag_df_sorted_1['Perc'].cumsum()\n",
    "tag_df_sorted_1 = tag_df_sorted_1.reset_index()\n",
    "tag_df_sorted_1.pop('index')\n",
    "\n",
    "tag_df_sorted_05 = tag_df_sorted_1[tag_df_sorted_1.Perc_cumsum < 5]\n",
    "tag_df_sorted_10 = tag_df_sorted_1[tag_df_sorted_1.Perc_cumsum < 10]\n",
    "tag_df_sorted_15 = tag_df_sorted_1[tag_df_sorted_1.Perc_cumsum < 15]\n",
    "tag_df_sorted_20 = tag_df_sorted_1[tag_df_sorted_1.Perc_cumsum < 20]\n",
    "tag_df_sorted_25 = tag_df_sorted_1[tag_df_sorted_1.Perc_cumsum < 25]\n",
    "tag_df_sorted_30 = tag_df_sorted_1[tag_df_sorted_1.Perc_cumsum < 30]\n",
    "tag_df_sorted_35 = tag_df_sorted_1[tag_df_sorted_1.Perc_cumsum < 35]\n",
    "tag_df_sorted_40 = tag_df_sorted_1[tag_df_sorted_1.Perc_cumsum < 40]\n",
    "tag_df_sorted_45 = tag_df_sorted_1[tag_df_sorted_1.Perc_cumsum < 45]\n",
    "tag_df_sorted_50 = tag_df_sorted_1[tag_df_sorted_1.Perc_cumsum < 50]\n",
    "tag_df_sorted_55 = tag_df_sorted_1[tag_df_sorted_1.Perc_cumsum < 55]\n",
    "tag_df_sorted_60 = tag_df_sorted_1[tag_df_sorted_1.Perc_cumsum < 60]\n",
    "tag_df_sorted_65 = tag_df_sorted_1[tag_df_sorted_1.Perc_cumsum < 65]\n",
    "tag_df_sorted_70 = tag_df_sorted_1[tag_df_sorted_1.Perc_cumsum < 70]\n",
    "tag_df_sorted_75 = tag_df_sorted_1[tag_df_sorted_1.Perc_cumsum < 75]\n",
    "tag_df_sorted_80 = tag_df_sorted_1[tag_df_sorted_1.Perc_cumsum < 80]\n",
    "tag_df_sorted_85 = tag_df_sorted_1[tag_df_sorted_1.Perc_cumsum < 85]\n",
    "tag_df_sorted_90 = tag_df_sorted_1[tag_df_sorted_1.Perc_cumsum < 90]\n",
    "tag_df_sorted_95 = tag_df_sorted_1[tag_df_sorted_1.Perc_cumsum < 95]\n",
    "\n",
    "lst = [[5,  tag_df_sorted_05.shape[0]],\n",
    "[10, tag_df_sorted_10.shape[0]],\n",
    "[15, tag_df_sorted_15.shape[0]],\n",
    "[20, tag_df_sorted_20.shape[0]],\n",
    "[25, tag_df_sorted_25.shape[0]],\n",
    "[30, tag_df_sorted_30.shape[0]],\n",
    "[35, tag_df_sorted_35.shape[0]],\n",
    "[40, tag_df_sorted_40.shape[0]],\n",
    "[45, tag_df_sorted_45.shape[0]],\n",
    "[50, tag_df_sorted_50.shape[0]],\n",
    "[55, tag_df_sorted_55.shape[0]],\n",
    "[60, tag_df_sorted_60.shape[0]],\n",
    "[65, tag_df_sorted_65.shape[0]],\n",
    "[70, tag_df_sorted_70.shape[0]],\n",
    "[75, tag_df_sorted_75.shape[0]],\n",
    "[80, tag_df_sorted_80.shape[0]],\n",
    "[85, tag_df_sorted_85.shape[0]],\n",
    "[90, tag_df_sorted_90.shape[0]],\n",
    "[95, tag_df_sorted_95.shape[0]]]\n",
    "       \n",
    "lst_df_ = pd.DataFrame(lst)\n",
    "lst_df_ = lst_df_.rename(columns={0: \"perc\", 1: \"nb_tags\"})\n",
    "lst_df_ = lst_df_.set_index('perc')\n",
    "\n",
    "plt.figure(figsize=(10, 5))\n",
    "plt.plot(lst_df_)\n",
    "plt.grid()\n",
    "plt.title(\"Variance\")\n",
    "plt.xlabel(\"Percentage % \")\n",
    "plt.ylabel(\"Nb Words\")"
   ]
  },
  {
   "cell_type": "code",
   "execution_count": 29,
   "metadata": {},
   "outputs": [
    {
     "name": "stdout",
     "output_type": "stream",
     "text": [
      "514 tags couvrent 50% des questions\n",
      "2088 tags couvrent 75% des questions\n",
      "10584 tags couvrent 90% des questions\n",
      "time: 10.4 ms (started: 2021-12-29 15:21:50 +01:00)\n"
     ]
    }
   ],
   "source": [
    "_50_most_important = tag_df_sorted_50.shape[0]\n",
    "_75_most_important = tag_df_sorted_75.shape[0]\n",
    "_90_most_important = tag_df_sorted_90.shape[0]\n",
    "\n",
    "print(_50_most_important, \"tags couvrent 50% des questions\")\n",
    "print(_75_most_important, \"tags couvrent 75% des questions\")\n",
    "print(_90_most_important, \"tags couvrent 90% des questions\")"
   ]
  },
  {
   "cell_type": "markdown",
   "id": "93466d16",
   "metadata": {},
   "source": [
    "### 3.3.6 - Wordcloud"
   ]
  },
  {
   "cell_type": "code",
   "execution_count": null,
   "id": "83da20c6",
   "metadata": {},
   "outputs": [],
   "source": [
    "from wordcloud import WordCloud\n",
    "tag_to_count_map\n",
    "tupl = dict(tag_to_count_map.items())\n",
    "word_cloud = WordCloud(width=1600,height=800,).generate_from_frequencies(tupl)\n",
    "plt.figure(figsize = (12,8))\n",
    "plt.imshow(word_cloud)\n",
    "plt.axis('off')\n",
    "plt.tight_layout(pad=0)"
   ]
  },
  {
   "cell_type": "markdown",
   "id": "1ab88734",
   "metadata": {},
   "source": [
    "### 3.3.7 - 15 tags + présent"
   ]
  },
  {
   "cell_type": "code",
   "execution_count": null,
   "id": "677aae32",
   "metadata": {},
   "outputs": [],
   "source": [
    "tag_df_sorted_Top_15 = tag_df_sorted.head(15)\n",
    "plt.figure(figsize=(10, 10))\n",
    "ax = sns.barplot(x='Counts', y='Tags', data=tag_df_sorted_Top_15, orient='h')\n",
    "plt.xticks(fontsize=15, rotation=10)\n",
    "plt.yticks(fontsize=20, rotation=10)\n",
    "plt.title('#15 premiers', fontsize=20)"
   ]
  },
  {
   "cell_type": "markdown",
   "id": "68626c3f",
   "metadata": {},
   "source": [
    "# 4 - Export"
   ]
  },
  {
   "cell_type": "code",
   "execution_count": null,
   "id": "8b4ae367",
   "metadata": {},
   "outputs": [],
   "source": [
    "## y ----\n",
    "#y_export = pd.DataFrame(new_r_df['New_Tags'])\n",
    "#y_export.to_csv('y_export_v2.csv', index=False)"
   ]
  },
  {
   "cell_type": "code",
   "execution_count": null,
   "metadata": {},
   "outputs": [],
   "source": [
    "# X ----\n",
    "#X_export = pd.DataFrame(new_df['Sentence'])\n",
    "#X_export = X_export.reset_index()\n",
    "#X_export.pop('index')\n",
    "#X_export.to_csv('X_export_v2.csv', index=False)"
   ]
  }
 ],
 "metadata": {
  "kernelspec": {
   "display_name": "Python 3 (ipykernel)",
   "language": "python",
   "name": "python3"
  },
  "language_info": {
   "codemirror_mode": {
    "name": "ipython",
    "version": 3
   },
   "file_extension": ".py",
   "mimetype": "text/x-python",
   "name": "python",
   "nbconvert_exporter": "python",
   "pygments_lexer": "ipython3",
   "version": "3.8.5"
  }
 },
 "nbformat": 4,
 "nbformat_minor": 5
}
