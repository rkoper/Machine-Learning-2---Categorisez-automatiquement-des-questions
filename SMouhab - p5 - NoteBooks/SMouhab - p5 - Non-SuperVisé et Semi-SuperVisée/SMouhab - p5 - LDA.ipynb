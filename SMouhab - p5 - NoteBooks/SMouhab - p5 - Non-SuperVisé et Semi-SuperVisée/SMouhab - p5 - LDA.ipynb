{
 "cells": [
  {
   "cell_type": "code",
   "execution_count": 1,
   "id": "d3a1fd20",
   "metadata": {},
   "outputs": [
    {
     "name": "stdout",
     "output_type": "stream",
     "text": [
      "time: 610 µs (started: 2021-12-31 19:43:26 +01:00)\n"
     ]
    }
   ],
   "source": [
    "%load_ext autotime"
   ]
  },
  {
   "cell_type": "code",
   "execution_count": 2,
   "id": "c917f9f8",
   "metadata": {},
   "outputs": [
    {
     "name": "stdout",
     "output_type": "stream",
     "text": [
      "time: 7.92 s (started: 2021-12-31 19:43:26 +01:00)\n"
     ]
    }
   ],
   "source": [
    "import numpy as np\n",
    "import pandas as pd\n",
    "import seaborn as sns\n",
    "import os\n",
    "from bs4 import BeautifulSoup\n",
    "from sklearn.multiclass import OneVsOneClassifier\n",
    "from sklearn.metrics import accuracy_score, classification_report\n",
    "import warnings\n",
    "from sklearn.metrics import confusion_matrix\n",
    "warnings.simplefilter(action='ignore', category=Warning)\n",
    "from sklearn.feature_extraction.text import CountVectorizer\n",
    "from tqdm import tqdm\n",
    "import matplotlib.pyplot as plt\n",
    "from sklearn.feature_extraction.text import TfidfVectorizer\n",
    "from sklearn.multiclass import OneVsRestClassifier\n",
    "from sklearn.linear_model import SGDClassifier\n",
    "from sklearn import metrics\n",
    "from sklearn.metrics import f1_score,precision_score,recall_score\n",
    "from sklearn import svm\n",
    "from sklearn.linear_model import LogisticRegression\n",
    "from sklearn.metrics import f1_score\n",
    "from sklearn.decomposition import LatentDirichletAllocation\n",
    "from sklearn.preprocessing import MultiLabelBinarizer\n",
    "from sklearn.model_selection import train_test_split\n",
    "from sklearn.metrics import hamming_loss\n",
    "from sklearn.ensemble import RandomForestClassifier\n",
    "from sklearn.naive_bayes import GaussianNB\n",
    "from sklearn.feature_extraction.text import CountVectorizer\n"
   ]
  },
  {
   "cell_type": "code",
   "execution_count": 3,
   "metadata": {},
   "outputs": [
    {
     "name": "stdout",
     "output_type": "stream",
     "text": [
      "time: 3.11 s (started: 2021-12-31 19:43:34 +01:00)\n"
     ]
    }
   ],
   "source": [
    "import re\n",
    "import numpy as np\n",
    "import pandas as pd\n",
    "from pprint import pprint\n",
    "\n",
    "# Gensim\n",
    "import gensim\n",
    "import gensim.corpora as corpora\n",
    "from gensim.utils import simple_preprocess\n",
    "from gensim.models import CoherenceModel\n",
    "\n",
    "# spacy for lemmatization\n",
    "import spacy\n",
    "\n",
    "# Plotting tools\n",
    "import pyLDAvis\n",
    "import pyLDAvis.gensim  # don't skip this\n",
    "import matplotlib.pyplot as plt\n",
    "%matplotlib inline\n",
    "\n",
    "# Enable logging for gensim - optional\n",
    "import logging\n",
    "logging.basicConfig(format='%(asctime)s : %(levelname)s : %(message)s', level=logging.ERROR)\n",
    "\n",
    "import warnings\n",
    "warnings.filterwarnings(\"ignore\",category=DeprecationWarning)"
   ]
  },
  {
   "cell_type": "code",
   "execution_count": 4,
   "metadata": {},
   "outputs": [
    {
     "name": "stdout",
     "output_type": "stream",
     "text": [
      "time: 1.46 s (started: 2021-12-31 19:43:37 +01:00)\n"
     ]
    }
   ],
   "source": [
    "# NLTK Stop words\n",
    "from nltk.corpus import stopwords\n",
    "stop_words = stopwords.words('english')\n",
    "stop_words.extend(['from', 'subject', 're', 'edu', 'use', 'vs'])"
   ]
  },
  {
   "cell_type": "markdown",
   "id": "a73a7daa",
   "metadata": {},
   "source": [
    "# 1 - Import Data"
   ]
  },
  {
   "cell_type": "code",
   "execution_count": 5,
   "id": "7f0750b2",
   "metadata": {
    "scrolled": true
   },
   "outputs": [
    {
     "data": {
      "text/html": [
       "<div>\n",
       "<style scoped>\n",
       "    .dataframe tbody tr th:only-of-type {\n",
       "        vertical-align: middle;\n",
       "    }\n",
       "\n",
       "    .dataframe tbody tr th {\n",
       "        vertical-align: top;\n",
       "    }\n",
       "\n",
       "    .dataframe thead th {\n",
       "        text-align: right;\n",
       "    }\n",
       "</style>\n",
       "<table border=\"1\" class=\"dataframe\">\n",
       "  <thead>\n",
       "    <tr style=\"text-align: right;\">\n",
       "      <th></th>\n",
       "      <th>Sentence</th>\n",
       "    </tr>\n",
       "  </thead>\n",
       "  <tbody>\n",
       "    <tr>\n",
       "      <th>0</th>\n",
       "      <td>question intends technology agnostic kind web ...</td>\n",
       "    </tr>\n",
       "    <tr>\n",
       "      <th>1</th>\n",
       "      <td>python metaclasses use metaclasses python</td>\n",
       "    </tr>\n",
       "    <tr>\n",
       "      <th>2</th>\n",
       "      <td>logging lognet easy put class called log log f...</td>\n",
       "    </tr>\n",
       "    <tr>\n",
       "      <th>3</th>\n",
       "      <td>make facebook rss application autoupdates prov...</td>\n",
       "    </tr>\n",
       "    <tr>\n",
       "      <th>4</th>\n",
       "      <td>good regular expression validate text string m...</td>\n",
       "    </tr>\n",
       "    <tr>\n",
       "      <th>...</th>\n",
       "      <td>...</td>\n",
       "    </tr>\n",
       "    <tr>\n",
       "      <th>9995</th>\n",
       "      <td>one responses question asked yesterday suggest...</td>\n",
       "    </tr>\n",
       "    <tr>\n",
       "      <th>9996</th>\n",
       "      <td>building enterprise application net sql server...</td>\n",
       "    </tr>\n",
       "    <tr>\n",
       "      <th>9997</th>\n",
       "      <td>created vsto c supposed hook outlook newmailex...</td>\n",
       "    </tr>\n",
       "    <tr>\n",
       "      <th>9998</th>\n",
       "      <td>looking ideas elements user interface device m...</td>\n",
       "    </tr>\n",
       "    <tr>\n",
       "      <th>9999</th>\n",
       "      <td>need detect device resolution automatically ri...</td>\n",
       "    </tr>\n",
       "  </tbody>\n",
       "</table>\n",
       "<p>10000 rows × 1 columns</p>\n",
       "</div>"
      ],
      "text/plain": [
       "                                               Sentence\n",
       "0     question intends technology agnostic kind web ...\n",
       "1             python metaclasses use metaclasses python\n",
       "2     logging lognet easy put class called log log f...\n",
       "3     make facebook rss application autoupdates prov...\n",
       "4     good regular expression validate text string m...\n",
       "...                                                 ...\n",
       "9995  one responses question asked yesterday suggest...\n",
       "9996  building enterprise application net sql server...\n",
       "9997  created vsto c supposed hook outlook newmailex...\n",
       "9998  looking ideas elements user interface device m...\n",
       "9999  need detect device resolution automatically ri...\n",
       "\n",
       "[10000 rows x 1 columns]"
      ]
     },
     "execution_count": 5,
     "metadata": {},
     "output_type": "execute_result"
    },
    {
     "name": "stdout",
     "output_type": "stream",
     "text": [
      "time: 1.78 s (started: 2021-12-31 19:43:38 +01:00)\n"
     ]
    }
   ],
   "source": [
    "y = pd.read_csv('/Users/soso/Desktop/IML_P5/y_export_v2.csv', dtype=str) \n",
    "X = pd.read_csv('/Users/soso/Desktop/IML_P5/X_export_v2.csv', dtype=str) \n",
    "\n",
    "X = X.head(10000)\n",
    "X"
   ]
  },
  {
   "cell_type": "markdown",
   "metadata": {},
   "source": [
    "# 2 - Cleaning"
   ]
  },
  {
   "cell_type": "code",
   "execution_count": 6,
   "metadata": {},
   "outputs": [
    {
     "name": "stdout",
     "output_type": "stream",
     "text": [
      "['question intends technology agnostic kind web framework prefer pure mvc '\n",
      " 'event driven component oriented make point technology agnosticism name mvc '\n",
      " 'vs component web frameworks diverse technologies languages struts vs java '\n",
      " 'server faces tapestry new asp net mvc vs classic asp net cake php vs prado '\n",
      " 'mvc event driven component oriented web frameworks']\n",
      "time: 1.72 s (started: 2021-12-31 19:43:40 +01:00)\n"
     ]
    }
   ],
   "source": [
    "# Convert to list\n",
    "data = X.Sentence.values.tolist()\n",
    "\n",
    "# Remove Emails\n",
    "data = [re.sub('\\S*@\\S*\\s?', '', sent) for sent in data]\n",
    "\n",
    "# Remove new line characters\n",
    "data = [re.sub('\\s+', ' ', sent) for sent in data]\n",
    "\n",
    "# Remove distracting single quotes\n",
    "data = [re.sub(\"\\'\", \"\", sent) for sent in data]\n",
    "\n",
    "pprint(data[:1])"
   ]
  },
  {
   "cell_type": "code",
   "execution_count": 7,
   "metadata": {},
   "outputs": [
    {
     "name": "stdout",
     "output_type": "stream",
     "text": [
      "[['question', 'intends', 'technology', 'agnostic', 'kind', 'web', 'framework', 'prefer', 'pure', 'mvc', 'event', 'driven', 'component', 'oriented', 'make', 'point', 'technology', 'agnosticism', 'name', 'mvc', 'vs', 'component', 'web', 'frameworks', 'diverse', 'technologies', 'languages', 'struts', 'vs', 'java', 'server', 'faces', 'tapestry', 'new', 'asp', 'net', 'mvc', 'vs', 'classic', 'asp', 'net', 'cake', 'php', 'vs', 'prado', 'mvc', 'event', 'driven', 'component', 'oriented', 'web', 'frameworks']]\n",
      "time: 6.07 s (started: 2021-12-31 19:43:42 +01:00)\n"
     ]
    }
   ],
   "source": [
    "def sent_to_words(sentences):\n",
    "    for sentence in sentences:\n",
    "        yield(gensim.utils.simple_preprocess(str(sentence), deacc=True))  # deacc=True removes punctuations\n",
    "\n",
    "data_words = list(sent_to_words(data))\n",
    "\n",
    "print(data_words[:1])"
   ]
  },
  {
   "cell_type": "code",
   "execution_count": 8,
   "metadata": {},
   "outputs": [
    {
     "name": "stdout",
     "output_type": "stream",
     "text": [
      "['question', 'intends', 'technology', 'agnostic', 'kind', 'web', 'framework', 'prefer', 'pure', 'mvc', 'event', 'driven', 'component', 'oriented', 'make', 'point', 'technology', 'agnosticism', 'name', 'mvc', 'vs', 'component', 'web', 'frameworks', 'diverse', 'technologies', 'languages', 'struts', 'vs', 'java', 'server', 'faces', 'tapestry', 'new', 'asp_net_mvc', 'vs', 'classic_asp', 'net', 'cake', 'php', 'vs', 'prado', 'mvc', 'event', 'driven', 'component', 'oriented', 'web', 'frameworks']\n",
      "time: 38.9 s (started: 2021-12-31 19:43:48 +01:00)\n"
     ]
    }
   ],
   "source": [
    "# Build the bigram and trigram models\n",
    "bigram = gensim.models.Phrases(data_words, min_count=5, threshold=100) # higher threshold fewer phrases.\n",
    "trigram = gensim.models.Phrases(bigram[data_words], threshold=100)  \n",
    "\n",
    "# Faster way to get a sentence clubbed as a trigram/bigram\n",
    "bigram_mod = gensim.models.phrases.Phraser(bigram)\n",
    "trigram_mod = gensim.models.phrases.Phraser(trigram)\n",
    "\n",
    "# See trigram example\n",
    "print(trigram_mod[bigram_mod[data_words[0]]])"
   ]
  },
  {
   "cell_type": "code",
   "execution_count": 9,
   "metadata": {},
   "outputs": [
    {
     "name": "stdout",
     "output_type": "stream",
     "text": [
      "time: 4.27 ms (started: 2021-12-31 19:44:27 +01:00)\n"
     ]
    }
   ],
   "source": [
    "# Define functions for stopwords, bigrams, trigrams and lemmatization\n",
    "def remove_stopwords(texts):\n",
    "    return [[word for word in simple_preprocess(str(doc)) if word not in stop_words] for doc in texts]\n",
    "\n",
    "def make_bigrams(texts):\n",
    "    return [bigram_mod[doc] for doc in texts]\n",
    "\n",
    "def make_trigrams(texts):\n",
    "    return [trigram_mod[bigram_mod[doc]] for doc in texts]\n",
    "\n",
    "def lemmatization(texts, allowed_postags=['NOUN', 'ADJ', 'VERB', 'ADV']):\n",
    "    \"\"\"https://spacy.io/api/annotation\"\"\"\n",
    "    texts_out = []\n",
    "    for sent in texts:\n",
    "        doc = nlp(\" \".join(sent)) \n",
    "        texts_out.append([token.lemma_ for token in doc if token.pos_ in allowed_postags])\n",
    "    return texts_out"
   ]
  },
  {
   "cell_type": "code",
   "execution_count": 10,
   "metadata": {},
   "outputs": [
    {
     "name": "stdout",
     "output_type": "stream",
     "text": [
      "[['question', 'intend', 'technology', 'agnostic', 'kind', 'web', 'framework', 'prefer', 'pure', 'mvc', 'event', 'drive', 'orient', 'make', 'point', 'technology', 'agnosticism', 'name', 'framework', 'diverse', 'technology', 'language', 'strut', 'face', 'new', 'net', 'event', 'drive', 'orient', 'web', 'framework']]\n",
      "time: 2min 7s (started: 2021-12-31 19:44:27 +01:00)\n"
     ]
    }
   ],
   "source": [
    "# Remove Stop Words\n",
    "data_words_nostops = remove_stopwords(data_words)\n",
    "\n",
    "# Form Bigrams\n",
    "data_words_bigrams = make_bigrams(data_words_nostops)\n",
    "\n",
    "# Initialize spacy 'en' model, keeping only tagger component (for efficiency)\n",
    "# python3 -m spacy download en\n",
    "nlp = spacy.load('en', disable=['parser', 'ner'])\n",
    "\n",
    "# Do lemmatization keeping only noun, adj, vb, adv\n",
    "data_lemmatized = lemmatization(data_words_bigrams, allowed_postags=['NOUN', 'ADJ', 'VERB', 'ADV'])\n",
    "\n",
    "print(data_lemmatized[:1])"
   ]
  },
  {
   "cell_type": "markdown",
   "metadata": {},
   "source": [
    "# 3 - Prepare"
   ]
  },
  {
   "cell_type": "code",
   "execution_count": 11,
   "metadata": {},
   "outputs": [
    {
     "name": "stdout",
     "output_type": "stream",
     "text": [
      "[[(0, 1), (1, 1), (2, 1), (3, 2), (4, 2), (5, 1), (6, 3), (7, 1), (8, 1), (9, 1), (10, 1), (11, 1), (12, 1), (13, 1), (14, 1), (15, 2), (16, 1), (17, 1), (18, 1), (19, 1), (20, 1), (21, 3), (22, 2)]]\n",
      "time: 2.28 s (started: 2021-12-31 19:46:34 +01:00)\n"
     ]
    }
   ],
   "source": [
    "# Create Dictionary\n",
    "id2word = corpora.Dictionary(data_lemmatized)\n",
    "\n",
    "# Create Corpus\n",
    "texts = data_lemmatized\n",
    "\n",
    "# Term Document Frequency\n",
    "corpus = [id2word.doc2bow(text) for text in texts]\n",
    "\n",
    "# View\n",
    "print(corpus[:1])"
   ]
  },
  {
   "cell_type": "code",
   "execution_count": 12,
   "metadata": {},
   "outputs": [
    {
     "data": {
      "text/plain": [
       "[[('agnostic', 1),\n",
       "  ('agnosticism', 1),\n",
       "  ('diverse', 1),\n",
       "  ('drive', 2),\n",
       "  ('event', 2),\n",
       "  ('face', 1),\n",
       "  ('framework', 3),\n",
       "  ('intend', 1),\n",
       "  ('kind', 1),\n",
       "  ('language', 1),\n",
       "  ('make', 1),\n",
       "  ('mvc', 1),\n",
       "  ('name', 1),\n",
       "  ('net', 1),\n",
       "  ('new', 1),\n",
       "  ('orient', 2),\n",
       "  ('point', 1),\n",
       "  ('prefer', 1),\n",
       "  ('pure', 1),\n",
       "  ('question', 1),\n",
       "  ('strut', 1),\n",
       "  ('technology', 3),\n",
       "  ('web', 2)]]"
      ]
     },
     "execution_count": 12,
     "metadata": {},
     "output_type": "execute_result"
    },
    {
     "name": "stdout",
     "output_type": "stream",
     "text": [
      "time: 18.2 ms (started: 2021-12-31 19:46:36 +01:00)\n"
     ]
    }
   ],
   "source": [
    "# Human readable format of corpus (term-frequency)\n",
    "[[(id2word[id], freq) for id, freq in cp] for cp in corpus[:1]]"
   ]
  },
  {
   "cell_type": "markdown",
   "metadata": {},
   "source": [
    "# 4 - Non-SuperVisée"
   ]
  },
  {
   "cell_type": "code",
   "execution_count": 13,
   "metadata": {},
   "outputs": [
    {
     "name": "stdout",
     "output_type": "stream",
     "text": [
      "time: 2min 12s (started: 2021-12-31 19:46:36 +01:00)\n"
     ]
    }
   ],
   "source": [
    "# Build LDA model\n",
    "lda_model = gensim.models.ldamodel.LdaModel(corpus=corpus,\n",
    "                                           id2word=id2word,\n",
    "                                           num_topics=20, \n",
    "                                           random_state=100,\n",
    "                                           update_every=1,\n",
    "                                           chunksize=100,\n",
    "                                           passes=10,\n",
    "                                           alpha='auto',\n",
    "                                           per_word_topics=True)"
   ]
  },
  {
   "cell_type": "code",
   "execution_count": 14,
   "metadata": {},
   "outputs": [
    {
     "name": "stdout",
     "output_type": "stream",
     "text": [
      "[(0,\n",
      "  '0.052*\"service\" + 0.046*\"number\" + 0.035*\"request\" + 0.033*\"option\" + '\n",
      "  '0.033*\"simple\" + 0.032*\"answer\" + 0.030*\"store\" + 0.029*\"format\" + '\n",
      "  '0.027*\"handle\" + 0.026*\"long\"'),\n",
      " (1,\n",
      "  '0.211*\"string\" + 0.129*\"text\" + 0.089*\"size\" + 0.073*\"item\" + 0.049*\"style\" '\n",
      "  '+ 0.042*\"character\" + 0.025*\"clear\" + 0.024*\"actual\" + 0.023*\"mouse\" + '\n",
      "  '0.023*\"render\"'),\n",
      " (2,\n",
      "  '0.288*\"project\" + 0.155*\"key\" + 0.085*\"bit\" + 0.077*\"resource\" + '\n",
      "  '0.072*\"visual_studio\" + 0.041*\"learn\" + 0.036*\"hope\" + 0.032*\"lock\" + '\n",
      "  '0.020*\"sql\" + 0.018*\"range\"'),\n",
      " (3,\n",
      "  '0.156*\"script\" + 0.143*\"library\" + 0.111*\"default\" + 0.088*\"framework\" + '\n",
      "  '0.079*\"directory\" + 0.064*\"share\" + 0.064*\"copy\" + 0.041*\"determine\" + '\n",
      "  '0.033*\"commit\" + 0.022*\"later\"'),\n",
      " (4,\n",
      "  '0.134*\"form\" + 0.108*\"int\" + 0.075*\"main\" + 0.066*\"import\" + 0.049*\"state\" '\n",
      "  '+ 0.032*\"become\" + 0.031*\"properly\" + 0.031*\"dependency\" + 0.030*\"socket\" + '\n",
      "  '0.030*\"arg\"'),\n",
      " (5,\n",
      "  '0.300*\"user\" + 0.050*\"click\" + 0.049*\"task\" + 0.046*\"button\" + '\n",
      "  '0.042*\"website\" + 0.036*\"move\" + 0.030*\"permission\" + 0.030*\"delete\" + '\n",
      "  '0.024*\"setup\" + 0.024*\"cookie\"'),\n",
      " (6,\n",
      "  '0.219*\"error\" + 0.086*\"order\" + 0.065*\"fail\" + 0.064*\"development\" + '\n",
      "  '0.058*\"cause\" + 0.052*\"performance\" + 0.047*\"compile\" + 0.033*\"collection\" '\n",
      "  '+ 0.027*\"testing\" + 0.025*\"deploy\"'),\n",
      " (7,\n",
      "  '0.195*\"file\" + 0.090*\"run\" + 0.067*\"system\" + 0.067*\"window\" + 0.054*\"test\" '\n",
      "  '+ 0.052*\"build\" + 0.048*\"process\" + 0.040*\"version\" + 0.038*\"open\" + '\n",
      "  '0.035*\"include\"'),\n",
      " (8,\n",
      "  '0.104*\"select\" + 0.088*\"generate\" + 0.083*\"image\" + 0.066*\"model\" + '\n",
      "  '0.042*\"bind\" + 0.032*\"product\" + 0.030*\"statement\" + 0.029*\"full\" + '\n",
      "  '0.028*\"programming\" + 0.026*\"member\"'),\n",
      " (9,\n",
      "  '0.121*\"true\" + 0.096*\"print\" + 0.077*\"child\" + 0.046*\"mysql\" + '\n",
      "  '0.042*\"parent\" + 0.031*\"drive\" + 0.029*\"validate\" + 0.029*\"effect\" + '\n",
      "  '0.029*\"wait\" + 0.026*\"html\"'),\n",
      " (10,\n",
      "  '0.257*\"table\" + 0.135*\"d\" + 0.100*\"column\" + 0.092*\"row\" + 0.048*\"record\" + '\n",
      "  '0.046*\"insert\" + 0.027*\"often\" + 0.027*\"guess\" + 0.022*\"necessary\" + '\n",
      "  '0.014*\"special\"'),\n",
      " (11,\n",
      "  '0.076*\"currently\" + 0.070*\"custom\" + 0.060*\"second\" + 0.052*\"reason\" + '\n",
      "  '0.050*\"actually\" + 0.040*\"package\" + 0.037*\"word\" + 0.032*\"enable\" + '\n",
      "  '0.030*\"disable\" + 0.030*\"little\"'),\n",
      " (12,\n",
      "  '0.119*\"list\" + 0.066*\"result\" + 0.058*\"query\" + 0.044*\"search\" + '\n",
      "  '0.043*\"variable\" + 0.043*\"interface\" + 0.036*\"parameter\" + 0.035*\"sort\" + '\n",
      "  '0.029*\"last\" + 0.027*\"note\"'),\n",
      " (13,\n",
      "  '0.178*\"message\" + 0.170*\"line\" + 0.079*\"send\" + 0.075*\"thread\" + '\n",
      "  '0.064*\"connection\" + 0.043*\"device\" + 0.039*\"receive\" + 0.039*\"computer\" + '\n",
      "  '0.035*\"driver\" + 0.024*\"drop\"'),\n",
      " (14,\n",
      "  '0.055*\"problem\" + 0.053*\"change\" + 0.053*\"try\" + 0.046*\"see\" + '\n",
      "  '0.043*\"control\" + 0.035*\"solution\" + 0.032*\"start\" + 0.030*\"access\" + '\n",
      "  '0.030*\"think\" + 0.027*\"thank\"'),\n",
      " (15,\n",
      "  '0.225*\"function\" + 0.163*\"end\" + 0.083*\"input\" + 0.079*\"load\" + '\n",
      "  '0.064*\"session\" + 0.057*\"define\" + 0.042*\"break\" + 0.036*\"command\" + '\n",
      "  '0.033*\"external\" + 0.020*\"redirect\"'),\n",
      " (16,\n",
      "  '0.057*\"use\" + 0.039*\"would\" + 0.036*\"way\" + 0.029*\"work\" + '\n",
      "  '0.026*\"application\" + 0.025*\"want\" + 0.025*\"need\" + 0.023*\"code\" + '\n",
      "  '0.021*\"find\" + 0.020*\"good\"'),\n",
      " (17,\n",
      "  '0.185*\"page\" + 0.065*\"tag\" + 0.063*\"link\" + 0.052*\"document\" + 0.051*\"view\" '\n",
      "  '+ 0.039*\"comment\" + 0.033*\"xml\" + 0.031*\"map\" + 0.026*\"internal\" + '\n",
      "  '0.026*\"node\"'),\n",
      " (18,\n",
      "  '0.046*\"set\" + 0.045*\"new\" + 0.045*\"class\" + 0.043*\"create\" + 0.041*\"value\" '\n",
      "  '+ 0.041*\"object\" + 0.035*\"return\" + 0.034*\"name\" + 0.032*\"call\" + '\n",
      "  '0.032*\"method\"'),\n",
      " (19,\n",
      "  '0.207*\"type\" + 0.107*\"content\" + 0.096*\"event\" + 0.058*\"element\" + '\n",
      "  '0.040*\"report\" + 0.033*\"match\" + 0.032*\"day\" + 0.032*\"suggest\" + '\n",
      "  '0.031*\"sub\" + 0.028*\"certain\"')]\n",
      "time: 100 ms (started: 2021-12-31 19:48:49 +01:00)\n"
     ]
    }
   ],
   "source": [
    "# Print the Keyword in the 10 topics\n",
    "pprint(lda_model.print_topics())\n",
    "doc_lda = lda_model[corpus]"
   ]
  },
  {
   "cell_type": "markdown",
   "metadata": {},
   "source": [
    "# 5 - Scoring"
   ]
  },
  {
   "cell_type": "code",
   "execution_count": 15,
   "metadata": {},
   "outputs": [
    {
     "name": "stdout",
     "output_type": "stream",
     "text": [
      "\n",
      "Perplexity:  -12.93372149791851\n",
      "\n",
      "Coherence Score:  0.31615973371482037\n",
      "time: 44.2 s (started: 2021-12-31 19:48:49 +01:00)\n"
     ]
    }
   ],
   "source": [
    "# Compute Perplexity\n",
    "print('\\nPerplexity: ', lda_model.log_perplexity(corpus))  # a measure of how good the model is. lower the better.\n",
    "\n",
    "# Compute Coherence Score\n",
    "coherence_model_lda = CoherenceModel(model=lda_model, texts=data_lemmatized, dictionary=id2word, coherence='c_v')\n",
    "coherence_lda = coherence_model_lda.get_coherence()\n",
    "print('\\nCoherence Score: ', coherence_lda)"
   ]
  },
  {
   "cell_type": "code",
   "execution_count": 16,
   "metadata": {},
   "outputs": [
    {
     "data": {
      "text/html": [
       "\n",
       "<link rel=\"stylesheet\" type=\"text/css\" href=\"https://cdn.jsdelivr.net/gh/bmabey/pyLDAvis@3.2.2/pyLDAvis/js/ldavis.v1.0.0.css\">\n",
       "\n",
       "\n",
       "<div id=\"ldavis_el53881402467083618082844227753\"></div>\n",
       "<script type=\"text/javascript\">\n",
       "\n",
       "var ldavis_el53881402467083618082844227753_data = {\"mdsDat\": {\"x\": [0.3227742695984965, 0.29870953305800785, 0.2368987943676198, 0.06609043580291973, 0.07301269582024039, -0.011723902661109814, -0.04778033393430405, -0.029959946787470475, -0.05007125710671444, -0.05901834774034261, -0.05277154244764323, -0.062275902297051884, -0.07409357675161374, -0.05182405430953581, -0.08119340459906706, -0.09131594635333097, -0.09824118984718683, -0.08517230827710039, -0.09183519329157619, -0.1102088222432376], \"y\": [0.09207660300665968, 0.10568856354917275, 0.05316920481105097, -0.2997510602660941, -0.31718439150133493, -0.04007506415486545, 0.007380895170271969, 0.036421605886360044, 0.009485473361702863, 0.017539982791084006, 0.012033590777704651, 0.0203444700462556, 0.028910051308887436, 0.03159164900095507, 0.03337621987834688, 0.03913177719082576, 0.04240077710412196, 0.04084318302486941, 0.03930103766109482, 0.04731543135293033], \"topics\": [1, 2, 3, 4, 5, 6, 7, 8, 9, 10, 11, 12, 13, 14, 15, 16, 17, 18, 19, 20], \"cluster\": [1, 1, 1, 1, 1, 1, 1, 1, 1, 1, 1, 1, 1, 1, 1, 1, 1, 1, 1, 1], \"Freq\": [31.627283466230782, 14.699896137894337, 9.921586300972084, 6.476635216929502, 6.332523104339543, 3.4637485630506766, 2.470018270383346, 2.4492566430584635, 2.382104682523896, 2.3447768103898894, 2.322206025723237, 2.266612926381094, 2.1048888394306466, 1.9085017094607133, 1.8408019704902345, 1.6836898281144093, 1.5006586941257802, 1.5002735099512559, 1.4789153544881057, 1.2256219460620015]}, \"tinfo\": {\"Term\": [\"file\", \"user\", \"use\", \"table\", \"string\", \"type\", \"project\", \"error\", \"page\", \"function\", \"run\", \"would\", \"list\", \"way\", \"set\", \"new\", \"problem\", \"class\", \"try\", \"change\", \"end\", \"create\", \"system\", \"window\", \"value\", \"object\", \"text\", \"message\", \"line\", \"see\", \"would\", \"way\", \"application\", \"need\", \"find\", \"good\", \"know\", \"make\", \"server\", \"look\", \"web\", \"database\", \"net\", \"could\", \"question\", \"write\", \"go\", \"possible\", \"well\", \"thing\", \"update\", \"give\", \"read\", \"idea\", \"take\", \"able\", \"client\", \"different\", \"app\", \"really\", \"use\", \"work\", \"want\", \"time\", \"datum\", \"code\", \"also\", \"seem\", \"get\", \"example\", \"set\", \"new\", \"class\", \"value\", \"object\", \"return\", \"name\", \"call\", \"method\", \"public\", \"follow\", \"property\", \"base\", \"log\", \"field\", \"contain\", \"easy\", \"else\", \"private\", \"output\", \"already\", \"specific\", \"instance\", \"false\", \"wonder\", \"null\", \"design\", \"pass\", \"foo\", \"non\", \"create\", \"add\", \"display\", \"get\", \"try\", \"case\", \"problem\", \"change\", \"see\", \"control\", \"solution\", \"start\", \"access\", \"think\", \"thank\", \"help\", \"check\", \"http\", \"issue\", \"point\", \"source\", \"even\", \"still\", \"much\", \"support\", \"require\", \"lot\", \"com\", \"browser\", \"approach\", \"fast\", \"never\", \"kind\", \"consider\", \"let\", \"fix\", \"put\", \"try\", \"however\", \"service\", \"number\", \"request\", \"option\", \"simple\", \"answer\", \"store\", \"format\", \"handle\", \"group\", \"sure\", \"date\", \"exception\", \"post\", \"keep\", \"back\", \"part\", \"remove\", \"data\", \"develop\", \"void\", \"tree\", \"several\", \"count\", \"convert\", \"turn\", \"throw\", \"old\", \"account\", \"header\", \"similar\", \"long\", \"file\", \"system\", \"window\", \"test\", \"build\", \"process\", \"version\", \"open\", \"program\", \"machine\", \"path\", \"instal\", \"local\", \"environment\", \"extension\", \"configuration\", \"byte\", \"running\", \"runtime\", \"detect\", \"run\", \"unit\", \"visual\", \"self\", \"buffer\", \"namespace\", \"win\", \"executable\", \"integrate\", \"command_line\", \"include\", \"folder\", \"list\", \"result\", \"query\", \"search\", \"variable\", \"interface\", \"parameter\", \"sort\", \"last\", \"note\", \"index\", \"merge\", \"perform\", \"separate\", \"job\", \"loop\", \"var\", \"clean\", \"prefer\", \"platform\", \"unique\", \"achieve\", \"focus\", \"depend\", \"produce\", \"feel\", \"sample\", \"val\", \"join\", \"hibernate\", \"user\", \"click\", \"task\", \"button\", \"website\", \"move\", \"permission\", \"delete\", \"setup\", \"cookie\", \"security\", \"correctly\", \"enter\", \"action\", \"location\", \"manager\", \"hear\", \"resolve\", \"provider\", \"backup\", \"exe\", \"factor\", \"especially\", \"office\", \"restore\", \"administrator\", \"license\", \"webpage\", \"authenticate\", \"datatable\", \"page\", \"tag\", \"link\", \"document\", \"view\", \"comment\", \"xml\", \"map\", \"internal\", \"node\", \"root\", \"person\", \"apply\", \"force\", \"book\", \"suppose\", \"title\", \"term\", \"programmer\", \"designer\", \"area\", \"lead\", \"body\", \"validation\", \"menu\", \"div\", \"sharepoint\", \"typically\", \"enterprise\", \"canvas\", \"display\", \"show\", \"type\", \"content\", \"event\", \"element\", \"report\", \"match\", \"day\", \"suggest\", \"sub\", \"certain\", \"various\", \"valid\", \"syntax\", \"split\", \"week\", \"continue\", \"sequence\", \"repeat\", \"choice\", \"schema\", \"multi\", \"likely\", \"possibly\", \"thus\", \"scheme\", \"routine\", \"occasionally\", \"flexible\", \"clarification\", \"maintenance\", \"select\", \"generate\", \"image\", \"model\", \"bind\", \"product\", \"statement\", \"full\", \"programming\", \"member\", \"assembly\", \"target\", \"dialog\", \"space\", \"editor\", \"usually\", \"auto\", \"filter\", \"matter\", \"normal\", \"expression\", \"refactore\", \"tab\", \"popup\", \"pop\", \"moment\", \"construct\", \"selection\", \"perspective\", \"refer\", \"original\", \"string\", \"text\", \"size\", \"item\", \"style\", \"character\", \"clear\", \"actual\", \"mouse\", \"render\", \"top\", \"game\", \"replace\", \"live\", \"benefit\", \"tostring\", \"creation\", \"additional\", \"worry\", \"sound\", \"fall\", \"pc\", \"highlight\", \"chunk\", \"exclude\", \"representation\", \"methodology\", \"recursively\", \"paper\", \"selenium\", \"currently\", \"custom\", \"second\", \"reason\", \"actually\", \"package\", \"word\", \"enable\", \"disable\", \"little\", \"recommend\", \"grid\", \"monitor\", \"eclipse\", \"hour\", \"integer\", \"compare\", \"high\", \"notice\", \"datetime\", \"decide\", \"video\", \"unfortunately\", \"maintain\", \"interesting\", \"waste\", \"upgrade\", \"love\", \"reduce\", \"anyway\", \"error\", \"order\", \"fail\", \"development\", \"cause\", \"performance\", \"compile\", \"collection\", \"testing\", \"deploy\", \"play\", \"java\", \"debug\", \"occur\", \"automate\", \"rest\", \"realize\", \"month\", \"etc\", \"compilation\", \"pick\", \"signature\", \"servlet\", \"startup\", \"ubuntu\", \"locale\", \"recompile\", \"colleague\", \"memory_usage\", \"enumerator\", \"install\", \"table\", \"d\", \"column\", \"row\", \"record\", \"insert\", \"often\", \"guess\", \"necessary\", \"special\", \"warn\", \"proper\", \"register\", \"worth\", \"topic\", \"blog\", \"today\", \"obtain\", \"effective\", \"debugging\", \"injection\", \"okay\", \"daily\", \"pause\", \"uint\", \"german\", \"deadlock\", \"rating\", \"entry\", \"partition\", \"duplicate\", \"datum\", \"function\", \"end\", \"input\", \"load\", \"session\", \"define\", \"break\", \"command\", \"external\", \"redirect\", \"configure\", \"symbol\", \"home\", \"silverlight\", \"breakpoint\", \"terminal\", \"querystring\", \"save\", \"response\", \"enumerator\", \"byval\", \"comma\", \"iaddress\", \"ibaserepository\", \"ajax\", \"jquery\", \"aspx\", \"misvisible\", \"box\", \"url\", \"stop\", \"current\", \"warning\", \"setting\", \"reference\", \"array\", \"width\", \"form\", \"int\", \"main\", \"import\", \"state\", \"become\", \"properly\", \"dependency\", \"socket\", \"arg\", \"binary\", \"flash\", \"hide\", \"disk\", \"execution\", \"crash\", \"successfully\", \"hash\", \"native\", \"away\", \"therefore\", \"behaviour\", \"dictionary\", \"meaning\", \"underlie\", \"succeed\", \"wiki\", \"actionscript\", \"inside\", \"fundamental\", \"script\", \"library\", \"default\", \"framework\", \"directory\", \"share\", \"copy\", \"determine\", \"commit\", \"later\", \"repository\", \"best\", \"copying\", \"copyright\", \"branch\", \"svn\", \"trunk\", \"sqlstream\", \"theme\", \"clearcase\", \"policy\", \"memorystream\", \"rail\", \"subversion\", \"rspec\", \"swf\", \"ruby\", \"gem\", \"smalldatetime\", \"indexcomment\", \"production\", \"module\", \"install\", \"revision\", \"jquery\", \"current\", \"reference\", \"setting\", \"save\", \"url\", \"directly\", \"response\", \"message\", \"line\", \"send\", \"thread\", \"connection\", \"device\", \"receive\", \"computer\", \"driver\", \"drop\", \"declare\", \"msg\", \"communication\", \"sleep\", \"significant\", \"consume\", \"impact\", \"plug\", \"cluster\", \"comfortable\", \"scan\", \"going\", \"connect\", \"py\", \"queue\", \"close\", \"req\", \"response\", \"dlgc_wantarrows_dlgc_wantchar\", \"fudlgcode_dlgc_wantarrow\", \"email\", \"transaction\", \"length\", \"save\", \"project\", \"key\", \"bit\", \"resource\", \"visual_studio\", \"learn\", \"hope\", \"lock\", \"sql\", \"range\", \"modification\", \"nunit\", \"circumstance\", \"resharper\", \"reference\", \"mysolution\", \"maven\", \"release\", \"embed\", \"certificate\", \"team\", \"material\", \"macro\", \"limited\", \"keyedcollection\", \"architecture\", \"installer\", \"press\", \"install\", \"smtp\", \"setting\", \"nest\", \"mode\", \"save\", \"current\", \"avoid\", \"common\", \"domain\", \"array\", \"memory\", \"true\", \"print\", \"child\", \"mysql\", \"parent\", \"drive\", \"validate\", \"effect\", \"wait\", \"html\", \"active\", \"filename\", \"none\", \"finish\", \"technology\", \"almost\", \"widget\", \"restart\", \"picture\", \"face\", \"advantage\", \"python\", \"mvc\", \"intend\", \"strip\", \"agnostic\", \"ruby_rail\", \"poll\", \"proc\", \"finished\"], \"Freq\": [5788.0, 3475.0, 8449.0, 2306.0, 2299.0, 2311.0, 1998.0, 2166.0, 2130.0, 1943.0, 2679.0, 5813.0, 1937.0, 5311.0, 3142.0, 3113.0, 2574.0, 3082.0, 3603.0, 2478.0, 1407.0, 3051.0, 1998.0, 1981.0, 2855.0, 2806.0, 1404.0, 1252.0, 1195.0, 2143.0, 5812.214953982843, 5310.38701244498, 3865.754053685808, 3682.7829464379897, 3157.2978742362925, 2959.1891003130877, 2880.4357501709414, 2862.783431843936, 2812.652937579397, 2735.2350037425135, 2750.6394219671815, 2492.610233707573, 2277.48851589621, 2196.5942426979145, 1934.283070112769, 1871.4524378376766, 1711.3004743918832, 1678.3563816291548, 1632.523904425758, 1625.4028819790865, 1567.6550415303275, 1450.062251173096, 1372.3403864259171, 1337.3787950285462, 1308.3577468123478, 1249.1094634521905, 1239.1101503248012, 1232.6983000021519, 1178.5880937635156, 1120.6298236599478, 8421.709082350102, 4358.781958362144, 3741.248804658001, 2892.682272334479, 2092.3814612688097, 3474.351302197309, 1742.0493262959399, 1813.280006321875, 2739.308700718431, 1668.4687447980452, 3141.4840175947434, 3112.5446457798066, 3080.9807057708267, 2854.101252126658, 2805.545198789334, 2414.6628666732763, 2355.0905133932233, 2191.5863902438955, 2188.745463481281, 1733.7255352009454, 1528.3043804912174, 1246.8843235548318, 1012.0279324842055, 956.2459012413844, 947.7648766155274, 848.9979609366065, 832.5294636095754, 810.9803942899235, 773.9839784169951, 726.7826714729591, 708.444227123204, 707.8026031971685, 690.3382654514947, 686.1925706110161, 679.2822655101385, 669.0219357678087, 655.5399318650257, 619.8163570484115, 576.6851993163983, 518.0001538535626, 2981.297478149478, 2114.6634673372123, 804.8761019443491, 920.8526458308249, 895.8883487975417, 723.5599052413463, 2573.8167535261414, 2477.7580549104655, 2142.021742909148, 1995.543110368814, 1608.0998266859153, 1494.779976361134, 1403.6393714244696, 1400.2681164132923, 1262.874277741981, 1123.838906612877, 1071.266856864791, 1018.384624253444, 907.2622421807976, 894.0051115866468, 884.1129924570828, 867.8643358867612, 815.904066988634, 815.0333523870127, 809.6865351754432, 749.9502758623586, 748.0356749571503, 688.9879400875348, 499.8124239653661, 469.1602089161478, 436.957122908589, 435.7552835478509, 423.2800704482545, 414.1383475745545, 395.7217061665539, 369.95788459207887, 642.9388356400319, 2449.365006493927, 1191.5679461530945, 1578.2568359690472, 1385.6374324768344, 1070.1460129335017, 1007.3262562117706, 1004.8329612610016, 962.2076143310071, 922.4963193187948, 884.3355926962539, 831.1026190257041, 738.6799802973384, 711.6013570597097, 656.187104098579, 630.4700397641616, 624.415339649981, 599.772499042593, 593.9271867961619, 590.2645690056792, 587.168696641503, 576.5593150958922, 472.85390253352745, 444.4319194193112, 442.1602959716801, 438.22469278184025, 429.5866082896067, 407.9175395785022, 392.37109891920994, 367.5559477766965, 357.53224657000715, 354.0470056066649, 351.7452108334025, 577.7961696269348, 800.1207432785327, 5787.669595070885, 1997.3220691053482, 1980.11931838645, 1602.2619747926287, 1532.5205878969573, 1440.471016400882, 1184.266170952697, 1117.8214761315019, 1009.1726582208076, 822.5451509927726, 575.7402282354875, 550.9483444738096, 454.0717624640457, 444.29705717992965, 407.4930633743695, 383.46364066329244, 343.63885986000133, 320.7207783702903, 261.1859421672217, 251.93293823785035, 2665.79518359669, 214.32569260103517, 205.8473122379346, 176.08309042891426, 169.25085605755527, 160.38847781632836, 147.16125082010765, 136.0325766556119, 135.76637115052137, 96.15853697201923, 1026.2279643811403, 477.60707432805265, 1936.7682533144095, 1080.7617978609896, 940.9755573216213, 716.6448324631655, 698.37114105, 695.821134961524, 580.1145178761145, 569.4703192258605, 475.54634627589644, 446.75675574000775, 432.4937414638852, 405.8540913590121, 397.71021981547926, 394.11026464398805, 333.43566826051796, 323.5395000552274, 298.63092481673704, 275.9875718877041, 269.62436337150143, 245.63469792746633, 234.41658745721188, 228.2249545833593, 228.0230902016759, 226.81968422742605, 210.18892608687142, 199.42252803999705, 198.32426228734087, 163.2638279965746, 162.93573782913398, 146.43066054949097, 3474.704122510815, 576.1707702998168, 566.0142647891198, 537.3744839670187, 490.12694984842915, 419.1318830984866, 352.06022600051114, 350.2490562057437, 283.8323009731023, 277.95467762606114, 268.71569532800135, 256.87433301087003, 250.19345318290365, 249.46955519541748, 236.5169364991304, 160.91179108741022, 158.02828857063366, 151.00851602503764, 150.73983916701368, 139.30589074764683, 128.69200528013621, 119.46016870060969, 118.23860703793191, 117.04790581224304, 97.98562221104488, 85.4716232618874, 80.91341042722824, 70.72670831895296, 69.51662622071649, 56.69261426682329, 2129.354480560018, 750.9638881092123, 724.9651409435497, 595.2422869428034, 589.5912733024767, 444.2685459233565, 381.1660526297691, 356.81909806555245, 297.525240943545, 295.4817250480702, 291.9271663548677, 266.2567354994145, 238.28669902956918, 216.94292784382176, 215.43036516228207, 214.8709408853895, 205.17241243322553, 202.42512611234525, 194.93096435795857, 185.78045035068996, 167.57070099213058, 163.20103503258906, 134.69027313810176, 121.21020954120307, 108.92450703536957, 90.31694414412613, 85.96332259186775, 71.43147263853724, 62.95208901664071, 54.34480503128173, 173.9809929272227, 74.4879589844983, 2309.8926855992318, 1200.440650532355, 1074.472941529623, 650.2107315225327, 445.28793310120676, 369.6740624871014, 362.7061840822119, 358.6493021180822, 340.959238915799, 313.20731478797813, 261.9625929816221, 218.10935121645207, 184.8314515109975, 178.74650332295946, 168.03039793566117, 146.44614985893858, 142.514353839509, 122.35505078345801, 122.24643337774886, 116.4888572593621, 115.22962821353086, 105.59707357622828, 89.93054827012838, 87.89698559325723, 86.89211323624116, 82.91040151234775, 79.6930194587039, 65.70120507467296, 60.4690971464994, 47.709883159286484, 1143.5938810767339, 969.7906197807011, 909.166476460416, 725.5084760027133, 458.1568384615716, 348.64272238388423, 330.034039828468, 319.2880729355647, 310.26183045092216, 290.2680232657552, 270.5936300664925, 233.01629404186505, 216.96997318833354, 205.61413584717388, 203.41869240549886, 181.7084397956298, 173.04653337164459, 172.76068797992176, 170.14759425429094, 168.70957552101024, 158.64685658031107, 126.25380874516024, 120.32427932057432, 119.29925881332562, 115.94825033147428, 111.24779665971951, 107.0472240314766, 101.37226669292315, 98.14989683480599, 92.41403237665114, 263.9284811741771, 2298.108449640948, 1403.4183911057044, 973.9115217125456, 796.8499992444607, 529.3854154753174, 460.5962488231019, 272.9895819809516, 260.88624425044503, 249.4380735280393, 245.47015237200773, 236.15645000173708, 204.10427139697117, 186.24737796772266, 178.14530833854846, 161.1310290953225, 133.01556596892536, 130.2306596642312, 126.34283815496143, 108.68116541553375, 101.59915103707611, 77.78229284215149, 74.66984362615837, 72.78737507490864, 62.911036873424784, 62.640689148892484, 59.83569958042771, 58.22381216203101, 41.04386628907313, 37.49767591289593, 33.292959478436984, 805.0549220771584, 743.585443734199, 635.9565845219892, 550.4817114030096, 536.9069727911715, 422.8196973758687, 392.33179684703964, 336.0071410701844, 319.02107656852627, 316.00800085793634, 296.50457841094084, 295.6351358468436, 255.06274756809256, 232.90115424863606, 230.69985278041335, 225.24281697127748, 190.50297224415374, 185.90325498231718, 179.66725109391436, 170.96735775909184, 164.89729639798944, 163.29567812011007, 154.4908387411911, 141.6483451798324, 131.20178119622457, 126.26702901267792, 115.93836713033296, 110.80019098193414, 108.00367358772748, 104.62091441722553, 2165.773390363442, 848.025273651456, 638.179719200561, 630.4493015250905, 577.3534741118997, 512.3955213029546, 465.9663236745479, 323.3372476307578, 268.76059082691575, 243.18793866675543, 228.24190645197035, 217.92275549900384, 206.98557586590942, 189.51435359745284, 145.424297203222, 135.2560476090919, 127.5659377516294, 125.92232254279304, 115.79492347804984, 93.01631506958415, 68.59377410410288, 66.17963291690823, 46.3413979654934, 39.688565927631224, 35.75453392824931, 33.11521811053742, 31.14387651718643, 28.334399985559614, 26.49305616445825, 0.06445525848925197, 0.06446081441794417, 2305.180395220556, 1206.0991252041454, 895.876572696747, 825.2078321864047, 433.2612394721443, 411.8587626785086, 242.31762858091253, 238.8795175478357, 195.6173334750214, 122.71535957367952, 111.0215785632665, 109.37131362432025, 106.75428585782845, 100.57450166760573, 97.91177754143553, 95.24041289169773, 74.86261378627684, 69.78460894461698, 65.20887623669185, 44.82143994499455, 34.93687072489866, 26.263753367634845, 25.79260088019506, 21.387727019572683, 16.167750911152343, 12.628554718128951, 3.959749021741665, 0.05243585468552709, 0.052431741562259986, 0.052426589977177925, 10.543327824455915, 40.813975956702166, 1942.647232304589, 1406.628503698664, 712.9691665981439, 685.2821339159334, 550.8435678435291, 496.3206344571811, 363.0460640059183, 310.5389661278817, 284.5562245960488, 171.74112801549967, 139.41154703271766, 120.74021131823649, 91.61603468102678, 75.16567526889918, 58.3928471743679, 33.637274106138214, 21.164468875735857, 0.06084855454420236, 0.06083651540745322, 0.060826616998119504, 0.06082609851001154, 0.06082577249097396, 0.060825363985191935, 0.060825363985191935, 0.060827288675895715, 0.06083344768614781, 0.060827343667058685, 0.06082367497090087, 0.06082933906068627, 0.06083489316814575, 0.06082998717082122, 0.06083073347946146, 0.060827284747955505, 0.06082812925510104, 0.060829248718061404, 0.060828121399220614, 0.060827331883238044, 1060.1060042100935, 853.9771196571314, 594.426434540047, 518.7089329327232, 386.2608139309927, 253.12364872396427, 245.67976001608923, 244.02571949252254, 238.02064002086823, 237.10439869418823, 220.85977828524472, 192.72422523478915, 183.84351390520123, 156.625835620021, 154.08009949569347, 150.77279837870023, 130.831235527292, 110.94442965798508, 109.20472190214133, 98.44156824323696, 86.50821034523518, 83.97562266581696, 67.01527655451835, 66.43043195907254, 60.8538689156756, 49.420630183275925, 42.18191460707196, 34.28745437098672, 30.49896394941011, 24.178062436371516, 1098.6097181777056, 1006.5053366428474, 781.2281805955513, 621.5071016524033, 555.7123143009387, 452.13840378854167, 447.2164083440414, 285.6535880312144, 233.2007361125845, 156.16807365105916, 152.6102810380764, 70.31498229753562, 27.040114759413367, 4.636922781464612, 0.0595861408560499, 0.059577584749572, 0.05957752070685884, 0.05957517674355726, 0.05957564425536331, 0.05957479248727831, 0.059577290153091475, 0.059573998357635154, 0.05957773204781226, 0.05957520876491384, 0.059572736716185945, 0.05957399195336384, 0.05957278795035647, 0.059573710165425946, 0.059572717503371994, 0.05957271109910068, 0.05957718768475042, 0.05957638074656463, 0.059579409966897, 0.05957416486868936, 0.059579493222424104, 0.05958061396990437, 0.05958186280281095, 0.059578353262129895, 0.059580761268144634, 0.05957893605081963, 0.05957679061992884, 0.05957668815158779, 1251.042514702214, 1194.1587741988199, 556.9353249742933, 529.0089889609711, 450.06249155816806, 302.69176612862856, 277.89160057443195, 271.20087984497553, 243.4910587707125, 170.23833255662805, 159.6215476960207, 137.57477503296806, 80.16700989493914, 64.47819999086674, 56.389966593348234, 50.92216123651378, 41.52483986155487, 28.977188096800848, 21.9671612660002, 19.873500028472584, 12.248052233724641, 3.0941913324410337, 86.18285230054057, 0.053441707224766696, 0.053438140961255695, 0.05344475807676489, 0.053435538293181685, 0.05344261959918378, 0.053434046480976896, 0.053434046480976896, 0.053438691587219686, 0.0534356119233978, 0.05343736304201586, 0.05343836185190404, 1997.484217127853, 1077.2564527527866, 592.2649541998462, 531.3227616343539, 497.8046410343266, 285.3364225781166, 250.68446717105044, 219.06255143801718, 136.57387828451775, 126.36335447389995, 67.62456390739376, 48.880507446144826, 33.862214736701404, 20.67689819902436, 0.05468271972426585, 0.054668234880956304, 0.05466913111091271, 0.054669774881726474, 0.0546703681607117, 0.0546667390605361, 0.054668323241656235, 0.05466562824030845, 0.05466615840450801, 0.054665950125715325, 0.054664466928252255, 0.05466586807649396, 0.05466620258485797, 0.05466673274905754, 0.054671283325103806, 0.054664018813274054, 0.05467151684981076, 0.054667363896914165, 0.05466702307707159, 0.05467279807995971, 0.054669333078226835, 0.05466743963465696, 0.05466674537201467, 0.05466713668368578, 0.05466709881481438, 0.054666840044193164, 698.691628216905, 553.438109406296, 442.1220391087385, 261.89478405031815, 239.70140854275562, 180.91327882428223, 165.88908840719958, 165.4297539223278, 164.92824593309638, 147.43574324904517, 144.0199786223878, 135.2391379368069, 133.84398442364957, 132.09324303210326, 131.53894585580449, 131.13256123937302, 114.88435368344068, 105.2689446587302, 96.8718753643577, 90.23594890240864, 87.9206427948306, 79.17168129364751, 57.604041900807445, 54.381389504234654, 46.21098806666923, 34.52292323175282, 32.17797676690705, 20.090753960308632, 12.241780880249587, 9.349438504074248], \"Total\": [5788.0, 3475.0, 8449.0, 2306.0, 2299.0, 2311.0, 1998.0, 2166.0, 2130.0, 1943.0, 2679.0, 5813.0, 1937.0, 5311.0, 3142.0, 3113.0, 2574.0, 3082.0, 3603.0, 2478.0, 1407.0, 3051.0, 1998.0, 1981.0, 2855.0, 2806.0, 1404.0, 1252.0, 1195.0, 2143.0, 5813.356503899785, 5311.528563330376, 3866.8956036027485, 3683.9244963549304, 3158.439424259097, 2960.3306502300284, 2881.577300087882, 2863.9249817608766, 2813.7944874963378, 2736.376553659454, 2751.788414140667, 2493.751783624514, 2278.630065813151, 2197.7358066299776, 1935.4246200297098, 1872.5939877546173, 1712.4420243882146, 1679.4979315460955, 1633.6654543426987, 1626.5444318960272, 1568.7965914472682, 1451.2038010900367, 1373.4819363428578, 1338.5203449454868, 1309.4992967292885, 1250.2510133691312, 1240.251700241742, 1233.8398499190926, 1179.7296436804563, 1121.7713735768884, 8449.046425240767, 4426.377419113613, 3857.0753988630786, 3017.8012537526893, 2165.6087959612696, 3774.1626979900216, 1811.049376108298, 1986.914552961841, 3887.8533681378076, 2123.673001560991, 3142.628300257369, 3113.6889284424324, 3082.1249884334525, 2855.2455347892837, 2806.6894814519596, 2415.807149335902, 2356.234796055849, 2192.7306729065212, 2189.889746143907, 1734.8698178635707, 1529.4486631538427, 1248.028606217457, 1013.172215146831, 957.39018390401, 948.909159278153, 850.1422435992321, 833.6737462722009, 812.1246769525491, 775.1282610796206, 727.9269541355847, 709.5885097858295, 708.9468858597941, 691.4825481141203, 687.3368532736416, 680.426548172764, 670.1662188295294, 656.6842145276512, 620.9606397110371, 577.8294819790239, 519.1444365161881, 3051.1440354887463, 2418.56320892306, 979.9412146914079, 3887.8533681378076, 3603.429653719009, 1307.628002443869, 2574.957910517614, 2478.8992118892843, 2143.1628998918877, 1996.6842673476326, 1609.240983664734, 1495.9211333399526, 1404.7805284032881, 1401.409273392111, 1264.0154347207995, 1124.9800635916956, 1072.4080138436095, 1019.5257812322628, 908.4033991596164, 895.1462685654656, 885.2541494359016, 869.00549286558, 817.0452239674528, 816.1745093658315, 810.827692154262, 751.0914328411774, 749.1768319359691, 690.1290970663536, 500.953580944185, 470.30136589496664, 438.09827988740784, 436.8964405266698, 424.42122742707335, 415.27950455337333, 396.8628631453727, 371.0990415708977, 654.690782867376, 3603.429653719009, 1659.9624235995136, 1579.4015324614265, 1386.7821289692138, 1071.290709425881, 1008.47095270415, 1005.9776720135733, 963.3523108233866, 923.6410158111743, 885.4802891886334, 832.2473155180836, 739.8246767897178, 712.7460535520892, 657.3318005909584, 631.614736256541, 625.5600361423604, 600.9171955349725, 595.0718832885414, 591.4092654980586, 588.3133931338824, 577.7040115882717, 473.9985990259069, 445.5766159116907, 443.3049924640596, 439.3693892742197, 430.7313047819862, 409.0622360708817, 393.5157954115894, 368.70064426907595, 358.6769430623866, 355.1917021043149, 352.88990732578196, 581.192056495893, 823.7531091370026, 5788.814657500328, 1998.4671315347898, 1981.2643808158916, 1603.4070372220704, 1533.665650326399, 1441.6160987684943, 1185.4448227125038, 1118.9665385609435, 1010.3177206502494, 823.6902134222144, 576.8852906649292, 552.0934069032513, 455.2168248934875, 445.44211960937145, 408.6381258038113, 384.60870309273423, 344.7839222894431, 321.8658407997321, 262.3310046005843, 253.07800066729214, 2679.2591483340248, 215.47075503047697, 206.99237467368786, 177.22815285835605, 170.39591848699706, 161.53354024577015, 148.30631324954945, 137.1776390850537, 136.91143358945166, 97.30359940146096, 1067.6258254783227, 528.9602605150266, 1937.9147890694555, 1081.9083336160356, 942.1220930766676, 717.7913682182118, 699.5176768050463, 696.9676707165703, 581.2610536311608, 570.6168549809069, 476.69288203094266, 447.90329149505396, 433.64027721893143, 407.0006271140583, 398.8567555705255, 395.25680039903426, 334.5822040155642, 324.6860358102736, 299.77746057178325, 277.13410764275034, 270.77089912654765, 246.78123368251258, 235.56312321225812, 229.37149033840555, 229.16962595672214, 227.9662199824723, 211.33546184191766, 200.5690637950433, 199.47079804238712, 164.41036375162085, 164.08227358825263, 147.5771963045372, 3475.853079268886, 577.3197270578878, 567.1632215471908, 538.5234407250897, 491.27590660650003, 420.28083985655746, 353.209182758582, 351.39801296788704, 284.9812577311732, 279.103634384132, 269.8646520860722, 258.0232897797718, 251.34240994097456, 250.6185119534884, 237.6658932572013, 162.06074785863998, 159.17724532870457, 152.15747278951116, 151.8887959250846, 140.45484750571774, 129.84096203820712, 120.60912548516404, 119.38756380095796, 118.19686257031393, 99.13457896911576, 86.6205800267145, 82.06236718529912, 71.87566507702384, 70.66558297878737, 57.84157102489419, 2130.50253972533, 752.111947274524, 726.1132001088614, 596.3903461081151, 590.7393324677884, 445.4166050886681, 382.31411179508075, 357.9671572308641, 298.67330011773265, 296.6297842133818, 293.07522552017934, 267.4047946697295, 239.4347581989532, 218.09098700913339, 216.5784243275937, 216.01900005070112, 206.32047159853715, 203.57318527765688, 196.0790235232702, 186.92850951600158, 168.7187601574422, 164.34909419790068, 135.83833230341338, 122.35826870651466, 110.07256620068117, 91.46500331846528, 87.11138175717934, 72.57953182605884, 64.10014819658802, 55.492864196593345, 979.9412146914079, 851.7332284019097, 2311.0423137110697, 1201.590278644193, 1075.622569641461, 651.3603596343708, 446.43756121304483, 370.8236905989395, 363.85581219405, 359.79893022992024, 342.10886703548584, 314.3569428998162, 263.11222109346016, 219.25897932829017, 185.9810796228356, 179.89613143479755, 169.18002604749927, 147.5957779775329, 143.6639819513471, 123.50467889529605, 123.3960614895869, 117.63848537527254, 116.3792563253689, 106.74670170311511, 91.08017638196642, 89.04661370509527, 88.04174137211622, 84.06002962788129, 80.84264758178963, 66.85083321576145, 61.61872525833746, 48.85951128443717, 1144.7404126886295, 970.937151392597, 910.3130080723118, 726.6550076146092, 459.3033700734674, 349.78925399578003, 331.1805714403638, 320.4346045474605, 311.40836206281796, 291.41455487765097, 271.7401616783883, 234.16282565376088, 218.11650480022936, 206.7606674590697, 204.56522401739468, 182.85497140752562, 174.1930649835404, 173.90721959181758, 171.29412586618676, 169.85610713290606, 159.7933881922069, 127.40034036097688, 121.47081093247009, 120.44579045590599, 117.09478194337005, 112.39432828039378, 108.19375564706789, 102.51879830481892, 99.29642844670175, 93.5605639885469, 276.3273282281338, 2299.2582383784084, 1404.5681798431647, 975.0613104500061, 797.9997879819213, 530.5352042127779, 461.74603756056246, 274.1393707184121, 262.03603300295435, 250.58786226549984, 246.61994110946827, 237.30623873919762, 205.2540601344317, 187.3971667051832, 179.295097076009, 162.28081783278304, 134.16535472156454, 131.38044845046966, 127.49262689242192, 109.83095418288659, 102.74893977453661, 78.93208157961199, 75.81963236361887, 73.93716381236914, 64.06082562826211, 63.79047790532973, 60.98548831788823, 59.37360093161367, 42.19365506804316, 38.647464650356454, 34.44274821589751, 806.2015985430505, 744.7321202000911, 637.1032609878813, 551.6283878689018, 538.0536492570636, 423.96637384176074, 393.47847331293167, 337.1538175360764, 320.1677530344183, 317.15467732382837, 297.65125487683287, 296.7818123127356, 256.2094240339846, 234.0478307145281, 231.84652924630538, 226.3894934371695, 191.64964871004577, 187.0499314482092, 180.8139275598064, 172.11403422498387, 166.04397286388146, 164.4423545860021, 155.63751520708314, 142.79502164572443, 132.34845766604454, 127.41370548917544, 117.08504360262761, 111.94686744782615, 109.15035005361949, 105.76759088311755, 2166.9171684988896, 849.1690517869039, 639.3234973360088, 631.5930796605384, 578.4972522473475, 513.5392994384025, 467.11010180999574, 324.4810257662057, 269.9043689623636, 244.3317168022033, 229.3856845874182, 219.0665336344517, 208.12935400135729, 190.6581317369731, 146.56807533866987, 136.39982574453975, 128.70971588707727, 127.06610067824087, 116.9387016226448, 94.16009320503198, 69.73755223955071, 67.32341105235606, 47.48517610094124, 40.83234406307906, 36.89831206369715, 34.258996267185175, 32.287654659036896, 29.478178146619538, 27.63683429990609, 1.2082654317135202, 1.208400097144718, 2306.3362026685472, 1207.2549326521364, 897.0323801447383, 826.3636396343961, 434.41704692013565, 413.0145701264999, 243.47343602890382, 240.03532500004493, 196.77314092723066, 123.8711670216708, 112.17738605418778, 110.52712108123572, 107.91009330581973, 101.73030911559701, 99.0675849894268, 96.39622033968901, 76.01842123426812, 70.94041639260826, 66.36468368468313, 45.97724744410774, 36.09267835150123, 27.419560889368707, 26.948408333456925, 22.543534541712447, 17.323558395100243, 13.784362218287255, 5.11555651148255, 1.2082790815326583, 1.2083701349112368, 1.2082692026380302, 266.94603163826883, 2165.6087959612696, 1943.7946367535217, 1407.7759081475967, 714.1165710470771, 686.4295383648665, 551.9909722924622, 497.46803890611415, 364.19346845485137, 311.68637057681474, 285.7036290449819, 172.88853246965897, 140.5589514816507, 121.88761576716949, 92.76343912995978, 76.31307971783218, 59.540251640861996, 34.78467855507123, 22.31187334242417, 1.2085684158190797, 1.208457524494354, 1.2082654317135202, 1.208262486401177, 1.20826820009923, 1.2082633654667525, 1.2082633654667525, 1.2083088355959652, 1.2084423576631682, 1.2083230113126329, 1.208250191988112, 1.2083691682736326, 1.208481762427594, 1.2084146056630938, 1.2084819644577092, 1.2083510792732486, 1.2084131595136836, 1.2085359718019968, 1.2084661114645272, 1.208390272895296, 1061.252989443933, 855.1241048909711, 595.5734197738867, 519.8559181665629, 387.40779916483234, 254.2706339578039, 246.82674524992888, 245.17270472636218, 239.16762525470787, 238.25138392802788, 222.00676351908436, 193.8712104686288, 184.99049914399606, 157.77282085386065, 155.22708472953312, 151.91978361253987, 131.97822076113164, 112.09141489182473, 110.35170713598097, 99.58855348114899, 87.65519557907483, 85.12260790372899, 68.162261788358, 67.57741720299849, 62.00085421994221, 50.5676154308206, 43.328899840911596, 35.43443960482636, 31.645949183249755, 25.325047684348622, 1099.7583711763762, 1007.6539896415181, 782.376833594222, 622.6557546510741, 556.8609672996095, 453.2870567872124, 448.3650613427121, 286.8022410298851, 234.34938911125525, 157.3167266497299, 153.75893403674715, 71.46363534344512, 28.188767758084097, 5.785575784063282, 1.2083540816179124, 1.2082891315889226, 1.2082973266139962, 1.2082521314638897, 1.2082654414534704, 1.208250492368342, 1.2083136490716697, 1.2082480739989838, 1.20832811990476, 1.208279635842614, 1.2082339501178725, 1.2082599231465403, 1.208236964264845, 1.2082561930516555, 1.2082391084177286, 1.2082400800343958, 1.2083419079069917, 1.2083259676049578, 1.208400097144718, 1.208277702346733, 1.2084423576631682, 1.2084819644577092, 1.2085359718019968, 1.2084131595136836, 1.2085684158190797, 1.208481762427594, 1.2083835437509292, 1.208457524494354, 1252.1973125847053, 1195.3135720813111, 558.0901228567847, 530.1637868434625, 451.2172894406594, 303.8465640111199, 279.04639845692327, 272.35567772746685, 244.64585665320382, 171.39313043911937, 160.77634557851204, 138.72957291545939, 81.32180777743046, 65.6329978801143, 57.54476448067611, 52.076959140696324, 42.679637769542566, 30.131985985603652, 23.121959148491527, 21.028297935760857, 13.40285017726905, 4.248989305328768, 361.6648210469417, 1.2082926398088516, 1.2082766821225366, 1.2084673746163133, 1.2082757145328893, 1.208457524494354, 1.2082657265813948, 1.2082657265813948, 1.2083878062575932, 1.2083354715958625, 1.2084235647906973, 1.2085684158190797, 1998.6377787399294, 1078.410014364863, 593.4185158119226, 532.4763232464303, 498.95820264640304, 286.489984190193, 251.83802881392012, 220.2161130500936, 137.72743990066658, 127.51691608597638, 68.7781255194702, 50.034069058221256, 35.01577636344751, 21.830459811100795, 1.2085359718019968, 1.2082420830942606, 1.2083066210888145, 1.2083333669988316, 1.20835260406085, 1.208272716010095, 1.2083108444284816, 1.2082545544610646, 1.208275173608984, 1.2082736017676154, 1.2082412140155758, 1.2082768556301553, 1.208284509464726, 1.2082974931233055, 1.208400097144718, 1.208240000425265, 1.2084131595136836, 1.208328473781668, 1.2083240091247618, 1.2085684158190797, 1.2084819644577092, 1.2083729217539514, 1.2083325227310864, 1.2083965356321995, 1.2084661114645272, 1.2084070257362511, 699.8439335256525, 554.5904147150435, 443.274344417486, 263.0470893590657, 240.85371385150313, 182.06558413302974, 167.0413937159471, 166.5820592310753, 166.0805512418439, 148.58804856810195, 145.17228393113533, 136.39144324555443, 134.9962897323971, 133.24554834085077, 132.691251164552, 132.28486655452318, 116.03665899218821, 106.42124996747773, 98.0241806783315, 91.38825421115617, 89.07294810357813, 80.32398660239504, 58.75634720955497, 55.533694812982176, 47.363293405056936, 35.67522856174074, 33.33028208088085, 21.243059275458783, 13.3940862137531, 10.50174384068453], \"Category\": [\"Default\", \"Default\", \"Default\", \"Default\", \"Default\", \"Default\", \"Default\", \"Default\", \"Default\", \"Default\", \"Default\", \"Default\", \"Default\", \"Default\", \"Default\", \"Default\", \"Default\", \"Default\", \"Default\", \"Default\", \"Default\", \"Default\", \"Default\", \"Default\", \"Default\", \"Default\", \"Default\", \"Default\", \"Default\", \"Default\", \"Topic1\", \"Topic1\", \"Topic1\", \"Topic1\", \"Topic1\", \"Topic1\", \"Topic1\", \"Topic1\", \"Topic1\", \"Topic1\", \"Topic1\", \"Topic1\", \"Topic1\", \"Topic1\", \"Topic1\", \"Topic1\", \"Topic1\", \"Topic1\", \"Topic1\", \"Topic1\", \"Topic1\", \"Topic1\", \"Topic1\", \"Topic1\", \"Topic1\", \"Topic1\", \"Topic1\", \"Topic1\", \"Topic1\", \"Topic1\", \"Topic1\", \"Topic1\", \"Topic1\", \"Topic1\", \"Topic1\", \"Topic1\", \"Topic1\", \"Topic1\", \"Topic1\", \"Topic1\", \"Topic2\", \"Topic2\", \"Topic2\", \"Topic2\", \"Topic2\", \"Topic2\", \"Topic2\", \"Topic2\", \"Topic2\", \"Topic2\", \"Topic2\", \"Topic2\", \"Topic2\", \"Topic2\", \"Topic2\", \"Topic2\", \"Topic2\", \"Topic2\", \"Topic2\", \"Topic2\", \"Topic2\", \"Topic2\", \"Topic2\", \"Topic2\", \"Topic2\", \"Topic2\", \"Topic2\", \"Topic2\", \"Topic2\", \"Topic2\", \"Topic2\", \"Topic2\", \"Topic2\", \"Topic2\", \"Topic2\", \"Topic2\", \"Topic3\", \"Topic3\", \"Topic3\", \"Topic3\", \"Topic3\", \"Topic3\", \"Topic3\", \"Topic3\", \"Topic3\", \"Topic3\", \"Topic3\", \"Topic3\", \"Topic3\", \"Topic3\", \"Topic3\", \"Topic3\", \"Topic3\", \"Topic3\", \"Topic3\", \"Topic3\", \"Topic3\", \"Topic3\", \"Topic3\", \"Topic3\", \"Topic3\", \"Topic3\", \"Topic3\", \"Topic3\", \"Topic3\", \"Topic3\", \"Topic3\", \"Topic3\", \"Topic3\", \"Topic4\", \"Topic4\", \"Topic4\", \"Topic4\", \"Topic4\", \"Topic4\", \"Topic4\", \"Topic4\", \"Topic4\", \"Topic4\", \"Topic4\", \"Topic4\", \"Topic4\", \"Topic4\", \"Topic4\", \"Topic4\", \"Topic4\", \"Topic4\", \"Topic4\", \"Topic4\", \"Topic4\", \"Topic4\", \"Topic4\", \"Topic4\", \"Topic4\", \"Topic4\", \"Topic4\", \"Topic4\", \"Topic4\", \"Topic4\", \"Topic4\", \"Topic4\", \"Topic5\", \"Topic5\", \"Topic5\", \"Topic5\", \"Topic5\", \"Topic5\", \"Topic5\", \"Topic5\", \"Topic5\", \"Topic5\", \"Topic5\", \"Topic5\", \"Topic5\", \"Topic5\", \"Topic5\", \"Topic5\", \"Topic5\", \"Topic5\", \"Topic5\", \"Topic5\", \"Topic5\", \"Topic5\", \"Topic5\", \"Topic5\", \"Topic5\", \"Topic5\", \"Topic5\", \"Topic5\", \"Topic5\", \"Topic5\", \"Topic5\", \"Topic5\", \"Topic6\", \"Topic6\", \"Topic6\", \"Topic6\", \"Topic6\", \"Topic6\", \"Topic6\", \"Topic6\", \"Topic6\", \"Topic6\", \"Topic6\", \"Topic6\", \"Topic6\", \"Topic6\", \"Topic6\", \"Topic6\", \"Topic6\", \"Topic6\", \"Topic6\", \"Topic6\", \"Topic6\", \"Topic6\", \"Topic6\", \"Topic6\", \"Topic6\", \"Topic6\", \"Topic6\", \"Topic6\", \"Topic6\", \"Topic6\", \"Topic7\", \"Topic7\", \"Topic7\", \"Topic7\", \"Topic7\", \"Topic7\", \"Topic7\", \"Topic7\", \"Topic7\", \"Topic7\", \"Topic7\", \"Topic7\", \"Topic7\", \"Topic7\", \"Topic7\", \"Topic7\", \"Topic7\", \"Topic7\", \"Topic7\", \"Topic7\", \"Topic7\", \"Topic7\", \"Topic7\", \"Topic7\", \"Topic7\", \"Topic7\", \"Topic7\", \"Topic7\", \"Topic7\", \"Topic7\", \"Topic8\", \"Topic8\", \"Topic8\", \"Topic8\", \"Topic8\", \"Topic8\", \"Topic8\", \"Topic8\", \"Topic8\", \"Topic8\", \"Topic8\", \"Topic8\", \"Topic8\", \"Topic8\", \"Topic8\", \"Topic8\", \"Topic8\", \"Topic8\", \"Topic8\", \"Topic8\", \"Topic8\", \"Topic8\", \"Topic8\", \"Topic8\", \"Topic8\", \"Topic8\", \"Topic8\", \"Topic8\", \"Topic8\", \"Topic8\", \"Topic8\", \"Topic8\", \"Topic9\", \"Topic9\", \"Topic9\", \"Topic9\", \"Topic9\", \"Topic9\", \"Topic9\", \"Topic9\", \"Topic9\", \"Topic9\", \"Topic9\", \"Topic9\", \"Topic9\", \"Topic9\", \"Topic9\", \"Topic9\", \"Topic9\", \"Topic9\", \"Topic9\", \"Topic9\", \"Topic9\", \"Topic9\", \"Topic9\", \"Topic9\", \"Topic9\", \"Topic9\", \"Topic9\", \"Topic9\", \"Topic9\", \"Topic9\", \"Topic10\", \"Topic10\", \"Topic10\", \"Topic10\", \"Topic10\", \"Topic10\", \"Topic10\", \"Topic10\", \"Topic10\", \"Topic10\", \"Topic10\", \"Topic10\", \"Topic10\", \"Topic10\", \"Topic10\", \"Topic10\", \"Topic10\", \"Topic10\", \"Topic10\", \"Topic10\", \"Topic10\", \"Topic10\", \"Topic10\", \"Topic10\", \"Topic10\", \"Topic10\", \"Topic10\", \"Topic10\", \"Topic10\", \"Topic10\", \"Topic10\", \"Topic11\", \"Topic11\", \"Topic11\", \"Topic11\", \"Topic11\", \"Topic11\", \"Topic11\", \"Topic11\", \"Topic11\", \"Topic11\", \"Topic11\", \"Topic11\", \"Topic11\", \"Topic11\", \"Topic11\", \"Topic11\", \"Topic11\", \"Topic11\", \"Topic11\", \"Topic11\", \"Topic11\", \"Topic11\", \"Topic11\", \"Topic11\", \"Topic11\", \"Topic11\", \"Topic11\", \"Topic11\", \"Topic11\", \"Topic11\", \"Topic12\", \"Topic12\", \"Topic12\", \"Topic12\", \"Topic12\", \"Topic12\", \"Topic12\", \"Topic12\", \"Topic12\", \"Topic12\", \"Topic12\", \"Topic12\", \"Topic12\", \"Topic12\", \"Topic12\", \"Topic12\", \"Topic12\", \"Topic12\", \"Topic12\", \"Topic12\", \"Topic12\", \"Topic12\", \"Topic12\", \"Topic12\", \"Topic12\", \"Topic12\", \"Topic12\", \"Topic12\", \"Topic12\", \"Topic12\", \"Topic13\", \"Topic13\", \"Topic13\", \"Topic13\", \"Topic13\", \"Topic13\", \"Topic13\", \"Topic13\", \"Topic13\", \"Topic13\", \"Topic13\", \"Topic13\", \"Topic13\", \"Topic13\", \"Topic13\", \"Topic13\", \"Topic13\", \"Topic13\", \"Topic13\", \"Topic13\", \"Topic13\", \"Topic13\", \"Topic13\", \"Topic13\", \"Topic13\", \"Topic13\", \"Topic13\", \"Topic13\", \"Topic13\", \"Topic13\", \"Topic13\", \"Topic14\", \"Topic14\", \"Topic14\", \"Topic14\", \"Topic14\", \"Topic14\", \"Topic14\", \"Topic14\", \"Topic14\", \"Topic14\", \"Topic14\", \"Topic14\", \"Topic14\", \"Topic14\", \"Topic14\", \"Topic14\", \"Topic14\", \"Topic14\", \"Topic14\", \"Topic14\", \"Topic14\", \"Topic14\", \"Topic14\", \"Topic14\", \"Topic14\", \"Topic14\", \"Topic14\", \"Topic14\", \"Topic14\", \"Topic14\", \"Topic14\", \"Topic14\", \"Topic15\", \"Topic15\", \"Topic15\", \"Topic15\", \"Topic15\", \"Topic15\", \"Topic15\", \"Topic15\", \"Topic15\", \"Topic15\", \"Topic15\", \"Topic15\", \"Topic15\", \"Topic15\", \"Topic15\", \"Topic15\", \"Topic15\", \"Topic15\", \"Topic15\", \"Topic15\", \"Topic15\", \"Topic15\", \"Topic15\", \"Topic15\", \"Topic15\", \"Topic15\", \"Topic15\", \"Topic15\", \"Topic15\", \"Topic15\", \"Topic15\", \"Topic15\", \"Topic15\", \"Topic15\", \"Topic15\", \"Topic15\", \"Topic15\", \"Topic16\", \"Topic16\", \"Topic16\", \"Topic16\", \"Topic16\", \"Topic16\", \"Topic16\", \"Topic16\", \"Topic16\", \"Topic16\", \"Topic16\", \"Topic16\", \"Topic16\", \"Topic16\", \"Topic16\", \"Topic16\", \"Topic16\", \"Topic16\", \"Topic16\", \"Topic16\", \"Topic16\", \"Topic16\", \"Topic16\", \"Topic16\", \"Topic16\", \"Topic16\", \"Topic16\", \"Topic16\", \"Topic16\", \"Topic16\", \"Topic17\", \"Topic17\", \"Topic17\", \"Topic17\", \"Topic17\", \"Topic17\", \"Topic17\", \"Topic17\", \"Topic17\", \"Topic17\", \"Topic17\", \"Topic17\", \"Topic17\", \"Topic17\", \"Topic17\", \"Topic17\", \"Topic17\", \"Topic17\", \"Topic17\", \"Topic17\", \"Topic17\", \"Topic17\", \"Topic17\", \"Topic17\", \"Topic17\", \"Topic17\", \"Topic17\", \"Topic17\", \"Topic17\", \"Topic17\", \"Topic17\", \"Topic17\", \"Topic17\", \"Topic17\", \"Topic17\", \"Topic17\", \"Topic17\", \"Topic17\", \"Topic17\", \"Topic17\", \"Topic17\", \"Topic17\", \"Topic18\", \"Topic18\", \"Topic18\", \"Topic18\", \"Topic18\", \"Topic18\", \"Topic18\", \"Topic18\", \"Topic18\", \"Topic18\", \"Topic18\", \"Topic18\", \"Topic18\", \"Topic18\", \"Topic18\", \"Topic18\", \"Topic18\", \"Topic18\", \"Topic18\", \"Topic18\", \"Topic18\", \"Topic18\", \"Topic18\", \"Topic18\", \"Topic18\", \"Topic18\", \"Topic18\", \"Topic18\", \"Topic18\", \"Topic18\", \"Topic18\", \"Topic18\", \"Topic18\", \"Topic18\", \"Topic19\", \"Topic19\", \"Topic19\", \"Topic19\", \"Topic19\", \"Topic19\", \"Topic19\", \"Topic19\", \"Topic19\", \"Topic19\", \"Topic19\", \"Topic19\", \"Topic19\", \"Topic19\", \"Topic19\", \"Topic19\", \"Topic19\", \"Topic19\", \"Topic19\", \"Topic19\", \"Topic19\", \"Topic19\", \"Topic19\", \"Topic19\", \"Topic19\", \"Topic19\", \"Topic19\", \"Topic19\", \"Topic19\", \"Topic19\", \"Topic19\", \"Topic19\", \"Topic19\", \"Topic19\", \"Topic19\", \"Topic19\", \"Topic19\", \"Topic19\", \"Topic19\", \"Topic19\", \"Topic20\", \"Topic20\", \"Topic20\", \"Topic20\", \"Topic20\", \"Topic20\", \"Topic20\", \"Topic20\", \"Topic20\", \"Topic20\", \"Topic20\", \"Topic20\", \"Topic20\", \"Topic20\", \"Topic20\", \"Topic20\", \"Topic20\", \"Topic20\", \"Topic20\", \"Topic20\", \"Topic20\", \"Topic20\", \"Topic20\", \"Topic20\", \"Topic20\", \"Topic20\", \"Topic20\", \"Topic20\", \"Topic20\", \"Topic20\"], \"logprob\": [30.0, 29.0, 28.0, 27.0, 26.0, 25.0, 24.0, 23.0, 22.0, 21.0, 20.0, 19.0, 18.0, 17.0, 16.0, 15.0, 14.0, 13.0, 12.0, 11.0, 10.0, 9.0, 8.0, 7.0, 6.0, 5.0, 4.0, 3.0, 2.0, 1.0, -3.24, -3.3303, -3.6478, -3.6963, -3.8502, -3.915, -3.942, -3.9482, -3.9658, -3.9937, -3.9881, -4.0866, -4.1769, -4.213, -4.3402, -4.3732, -4.4627, -4.4821, -4.5098, -4.5142, -4.5504, -4.6283, -4.6834, -4.7092, -4.7312, -4.7775, -4.7856, -4.7907, -4.8356, -4.8861, -2.8691, -3.5278, -3.6805, -3.9378, -4.2616, -3.7545, -4.4449, -4.4048, -3.9922, -4.488, -3.0891, -3.0983, -3.1085, -3.185, -3.2022, -3.3522, -3.3772, -3.4491, -3.4504, -3.6835, -3.8096, -4.0131, -4.2218, -4.2785, -4.2874, -4.3975, -4.4171, -4.4433, -4.49, -4.5529, -4.5785, -4.5794, -4.6043, -4.6104, -4.6205, -4.6357, -4.6561, -4.7121, -4.7842, -4.8915, -3.1414, -3.4849, -4.4508, -4.3162, -4.3437, -4.5573, -2.8953, -2.9333, -3.0789, -3.1497, -3.3656, -3.4387, -3.5016, -3.504, -3.6072, -3.7239, -3.7718, -3.8224, -3.938, -3.9527, -3.9638, -3.9824, -4.0441, -4.0452, -4.0517, -4.1284, -4.1309, -4.2132, -4.5342, -4.5975, -4.6686, -4.6713, -4.7004, -4.7222, -4.7677, -4.835, -4.2823, -2.9448, -3.6654, -2.9578, -3.088, -3.3463, -3.4068, -3.4093, -3.4527, -3.4948, -3.537, -3.5991, -3.717, -3.7544, -3.8354, -3.8754, -3.8851, -3.9253, -3.9351, -3.9413, -3.9466, -3.9648, -4.1631, -4.2251, -4.2302, -4.2392, -4.2591, -4.3108, -4.3497, -4.415, -4.4427, -4.4525, -4.459, -3.9627, -3.6371, -1.6359, -2.6998, -2.7085, -2.9202, -2.9647, -3.0267, -3.2225, -3.2802, -3.3825, -3.587, -3.9437, -3.9877, -4.1811, -4.2029, -4.2894, -4.3501, -4.4598, -4.5288, -4.7341, -4.7702, -2.4111, -4.9319, -4.9722, -5.1284, -5.168, -5.2218, -5.3079, -5.3865, -5.3884, -5.7334, -3.3657, -4.1306, -2.1273, -2.7106, -2.8491, -3.1215, -3.1473, -3.1509, -3.3328, -3.3513, -3.5316, -3.594, -3.6265, -3.69, -3.7103, -3.7194, -3.8866, -3.9167, -3.9968, -4.0757, -4.099, -4.1922, -4.2389, -4.2657, -4.2666, -4.2719, -4.348, -4.4006, -4.4061, -4.6007, -4.6027, -4.7095, -1.2046, -3.0015, -3.0193, -3.0712, -3.1632, -3.3197, -3.4941, -3.4993, -3.7095, -3.7304, -3.7643, -3.8093, -3.8357, -3.8386, -3.8919, -4.2771, -4.2951, -4.3406, -4.3424, -4.4212, -4.5005, -4.5749, -4.5852, -4.5953, -4.7731, -4.9097, -4.9645, -5.0991, -5.1163, -5.3203, -1.6859, -2.7281, -2.7633, -2.9605, -2.97, -3.253, -3.4062, -3.4722, -3.654, -3.6609, -3.673, -3.765, -3.876, -3.9698, -3.9768, -3.9794, -4.0256, -4.0391, -4.0768, -4.1249, -4.2281, -4.2545, -4.4465, -4.5519, -4.6588, -4.8461, -4.8955, -5.0807, -5.2071, -5.3541, -4.1905, -5.0388, -1.5767, -2.2312, -2.3421, -2.8444, -3.2229, -3.409, -3.4281, -3.4393, -3.4899, -3.5748, -3.7535, -3.9367, -4.1022, -4.1357, -4.1975, -4.335, -4.3622, -4.5147, -4.5156, -4.5639, -4.5747, -4.662, -4.8226, -4.8455, -4.857, -4.9039, -4.9435, -5.1365, -5.2195, -5.4565, -2.2639, -2.4288, -2.4933, -2.719, -3.1787, -3.4518, -3.5067, -3.5398, -3.5685, -3.6351, -3.7053, -3.8548, -3.9261, -3.9799, -3.9906, -4.1035, -4.1523, -4.154, -4.1692, -4.1777, -4.2392, -4.4676, -4.5157, -4.5242, -4.5527, -4.5941, -4.6326, -4.6871, -4.7194, -4.7796, -3.7302, -1.5564, -2.0495, -2.4149, -2.6155, -3.0245, -3.1637, -3.6868, -3.7321, -3.777, -3.793, -3.8317, -3.9776, -4.0691, -4.1136, -4.214, -4.4057, -4.4269, -4.4572, -4.6078, -4.6752, -4.9423, -4.9831, -5.0087, -5.1545, -5.1588, -5.2046, -5.2319, -5.5816, -5.6719, -5.7909, -2.5811, -2.6605, -2.8168, -2.9612, -2.9861, -3.225, -3.2999, -3.4548, -3.5067, -3.5162, -3.5799, -3.5828, -3.7305, -3.8214, -3.8309, -3.8548, -4.0223, -4.0467, -4.0809, -4.1305, -4.1666, -4.1764, -4.2318, -4.3186, -4.3952, -4.4336, -4.5189, -4.5642, -4.5898, -4.6216, -1.5174, -2.455, -2.7393, -2.7515, -2.8395, -2.9588, -3.0538, -3.4192, -3.6041, -3.7041, -3.7675, -3.8138, -3.8653, -3.9535, -4.2183, -4.2908, -4.3493, -4.3623, -4.4461, -4.6652, -4.9697, -5.0056, -5.3619, -5.5169, -5.6213, -5.698, -5.7593, -5.8539, -5.9211, -11.9397, -11.9396, -1.3571, -2.0049, -2.3022, -2.3844, -3.0287, -3.0793, -3.6098, -3.624, -3.8238, -4.2901, -4.3903, -4.4053, -4.4295, -4.4891, -4.5159, -4.5436, -4.7843, -4.8546, -4.9224, -5.2973, -5.5465, -5.8318, -5.8499, -6.0372, -6.317, -6.564, -7.7238, -12.0482, -12.0482, -12.0483, -6.7445, -5.391, -1.4921, -1.8149, -2.4944, -2.5341, -2.7524, -2.8567, -3.1694, -3.3256, -3.413, -3.9179, -4.1265, -4.2702, -4.5463, -4.7442, -4.9967, -5.5482, -6.0116, -11.8633, -11.8634, -11.8636, -11.8636, -11.8636, -11.8636, -11.8636, -11.8636, -11.8635, -11.8636, -11.8637, -11.8636, -11.8635, -11.8636, -11.8635, -11.8636, -11.8636, -11.8636, -11.8636, -11.8636, -2.0085, -2.2248, -2.5871, -2.7233, -3.0182, -3.4408, -3.4706, -3.4774, -3.5023, -3.5062, -3.5771, -3.7134, -3.7606, -3.9208, -3.9372, -3.9589, -4.1008, -4.2656, -4.2814, -4.3852, -4.5144, -4.5441, -4.7697, -4.7785, -4.8662, -5.0743, -5.2327, -5.4399, -5.557, -5.7892, -1.8578, -1.9453, -2.1987, -2.4274, -2.5393, -2.7456, -2.7565, -3.2048, -3.4077, -3.8087, -3.8317, -4.6066, -5.5623, -7.3255, -11.6799, -11.6801, -11.6801, -11.6801, -11.6801, -11.6801, -11.6801, -11.6801, -11.6801, -11.6801, -11.6801, -11.6801, -11.6801, -11.6801, -11.6801, -11.6801, -11.6801, -11.6801, -11.68, -11.6801, -11.68, -11.68, -11.68, -11.68, -11.68, -11.68, -11.6801, -11.6801, -1.7276, -1.7741, -2.5369, -2.5883, -2.7499, -3.1466, -3.2321, -3.2565, -3.3642, -3.7221, -3.7865, -3.9352, -4.4752, -4.693, -4.827, -4.929, -5.133, -5.4928, -5.7698, -5.8699, -6.354, -7.7298, -4.4029, -11.7885, -11.7886, -11.7884, -11.7886, -11.7885, -11.7886, -11.7886, -11.7886, -11.7886, -11.7886, -11.7886, -1.2453, -1.8628, -2.461, -2.5696, -2.6348, -3.1913, -3.3208, -3.4556, -3.9281, -4.0058, -4.631, -4.9556, -5.3227, -5.816, -11.7512, -11.7515, -11.7514, -11.7514, -11.7514, -11.7515, -11.7515, -11.7515, -11.7515, -11.7515, -11.7515, -11.7515, -11.7515, -11.7515, -11.7514, -11.7515, -11.7514, -11.7515, -11.7515, -11.7514, -11.7514, -11.7515, -11.7515, -11.7515, -11.7515, -11.7515, -2.1079, -2.341, -2.5655, -3.0892, -3.1777, -3.4591, -3.5458, -3.5486, -3.5516, -3.6637, -3.6872, -3.7501, -3.7605, -3.7736, -3.7778, -3.7809, -3.9132, -4.0006, -4.0837, -4.1547, -4.1807, -4.2855, -4.6035, -4.6611, -4.8239, -5.1155, -5.1858, -5.6569, -6.1523, -6.4218], \"loglift\": [30.0, 29.0, 28.0, 27.0, 26.0, 25.0, 24.0, 23.0, 22.0, 21.0, 20.0, 19.0, 18.0, 17.0, 16.0, 15.0, 14.0, 13.0, 12.0, 11.0, 10.0, 9.0, 8.0, 7.0, 6.0, 5.0, 4.0, 3.0, 2.0, 1.0, 1.151, 1.1509, 1.1509, 1.1508, 1.1508, 1.1508, 1.1508, 1.1508, 1.1507, 1.1507, 1.1507, 1.1507, 1.1506, 1.1506, 1.1506, 1.1505, 1.1505, 1.1505, 1.1505, 1.1504, 1.1504, 1.1504, 1.1503, 1.1503, 1.1503, 1.1502, 1.1502, 1.1502, 1.1502, 1.1501, 1.1479, 1.1358, 1.1207, 1.1088, 1.1168, 1.0684, 1.1123, 1.0597, 0.801, 0.9099, 1.917, 1.917, 1.917, 1.9169, 1.9169, 1.9169, 1.9168, 1.9168, 1.9168, 1.9167, 1.9166, 1.9164, 1.9162, 1.9161, 1.9161, 1.916, 1.916, 1.9159, 1.9159, 1.9158, 1.9157, 1.9157, 1.9157, 1.9157, 1.9156, 1.9156, 1.9156, 1.9155, 1.9153, 1.9151, 1.8942, 1.7831, 1.7205, 0.477, 0.5255, 1.3255, 2.31, 2.31, 2.3099, 2.3099, 2.3097, 2.3097, 2.3096, 2.3096, 2.3096, 2.3094, 2.3094, 2.3093, 2.3092, 2.3092, 2.3092, 2.3091, 2.3091, 2.3091, 2.309, 2.3089, 2.3089, 2.3088, 2.3082, 2.308, 2.3078, 2.3078, 2.3078, 2.3077, 2.3076, 2.3074, 2.2923, 1.9244, 1.9789, 2.7362, 2.7361, 2.7359, 2.7358, 2.7358, 2.7358, 2.7357, 2.7357, 2.7356, 2.7354, 2.7354, 2.7352, 2.7352, 2.7351, 2.7351, 2.735, 2.735, 2.735, 2.735, 2.7346, 2.7344, 2.7344, 2.7344, 2.7343, 2.7342, 2.7341, 2.7339, 2.7338, 2.7337, 2.7337, 2.7311, 2.7079, 2.7593, 2.7589, 2.7589, 2.7588, 2.7587, 2.7587, 2.7585, 2.7584, 2.7583, 2.7581, 2.7575, 2.7574, 2.757, 2.7569, 2.7567, 2.7565, 2.7561, 2.7559, 2.7551, 2.7549, 2.7544, 2.7541, 2.7539, 2.753, 2.7527, 2.7524, 2.7517, 2.7511, 2.7511, 2.7476, 2.7199, 2.6573, 3.3622, 3.3618, 3.3616, 3.3612, 3.3612, 3.3612, 3.3608, 3.3608, 3.3604, 3.3603, 3.3602, 3.36, 3.3599, 3.3599, 3.3594, 3.3593, 3.359, 3.3587, 3.3586, 3.3582, 3.3579, 3.3578, 3.3578, 3.3578, 3.3574, 3.3571, 3.3571, 3.3558, 3.3558, 3.355, 3.7006, 3.699, 3.6989, 3.6988, 3.6986, 3.6982, 3.6977, 3.6977, 3.6969, 3.6968, 3.6967, 3.6965, 3.6964, 3.6963, 3.6961, 3.6938, 3.6937, 3.6934, 3.6934, 3.6927, 3.6921, 3.6914, 3.6913, 3.6912, 3.6893, 3.6876, 3.6868, 3.6848, 3.6846, 3.6809, 3.7088, 3.7079, 3.7078, 3.7075, 3.7074, 3.7068, 3.7064, 3.7062, 3.7055, 3.7055, 3.7055, 3.7051, 3.7046, 3.7041, 3.7041, 3.7041, 3.7038, 3.7037, 3.7035, 3.7032, 3.7026, 3.7024, 3.7009, 3.7, 3.6989, 3.6968, 3.6961, 3.6934, 3.6913, 3.6885, 1.9808, 1.2727, 3.7367, 3.7362, 3.7361, 3.7354, 3.7346, 3.7341, 3.734, 3.734, 3.7338, 3.7335, 3.7328, 3.7319, 3.731, 3.7308, 3.7304, 3.7294, 3.7292, 3.7278, 3.7278, 3.7274, 3.7273, 3.7264, 3.7245, 3.7242, 3.724, 3.7234, 3.7229, 3.7198, 3.7184, 3.7134, 3.752, 3.7518, 3.7517, 3.7514, 3.7505, 3.7497, 3.7495, 3.7494, 3.7493, 3.749, 3.7488, 3.7481, 3.7477, 3.7474, 3.7474, 3.7467, 3.7464, 3.7464, 3.7463, 3.7462, 3.7458, 3.7439, 3.7435, 3.7434, 3.7431, 3.7427, 3.7423, 3.7417, 3.7414, 3.7406, 3.7071, 3.7622, 3.7618, 3.7615, 3.7612, 3.7605, 3.7602, 3.7584, 3.7583, 3.7581, 3.758, 3.7578, 3.757, 3.7565, 3.7562, 3.7555, 3.754, 3.7539, 3.7536, 3.7521, 3.7514, 3.748, 3.7474, 3.747, 3.7445, 3.7445, 3.7436, 3.7431, 3.735, 3.7325, 3.7287, 3.7855, 3.7853, 3.7851, 3.7848, 3.7848, 3.7842, 3.784, 3.7835, 3.7833, 3.7833, 3.783, 3.783, 3.7824, 3.782, 3.7819, 3.7818, 3.7809, 3.7807, 3.7805, 3.7802, 3.78, 3.7799, 3.7795, 3.7788, 3.7782, 3.7778, 3.777, 3.7766, 3.7763, 3.776, 3.8604, 3.8596, 3.8591, 3.8591, 3.8589, 3.8587, 3.8585, 3.8574, 3.8567, 3.8562, 3.8559, 3.8557, 3.8554, 3.8549, 3.8531, 3.8525, 3.852, 3.8519, 3.8511, 3.8487, 3.8444, 3.8438, 3.8365, 3.8325, 3.8294, 3.827, 3.8248, 3.8213, 3.8186, 0.9299, 0.9299, 3.9584, 3.9579, 3.9576, 3.9575, 3.9562, 3.956, 3.9541, 3.954, 3.953, 3.9495, 3.9485, 3.9483, 3.9481, 3.9474, 3.9471, 3.9468, 3.9435, 3.9424, 3.9413, 3.9334, 3.9263, 3.9158, 3.915, 3.9062, 3.8898, 3.8713, 3.7027, 0.8215, 0.8213, 0.8213, 0.7273, -0.0126, 3.9944, 3.9942, 3.9934, 3.9933, 3.9929, 3.9927, 3.9918, 3.9913, 3.9909, 3.9883, 3.9868, 3.9855, 3.9825, 3.9798, 3.9755, 3.9614, 3.9422, 1.0062, 1.0061, 1.0061, 1.006, 1.006, 1.006, 1.006, 1.006, 1.006, 1.006, 1.006, 1.006, 1.006, 1.006, 1.0059, 1.006, 1.006, 1.0059, 1.0059, 1.006, 4.0831, 4.0828, 4.0823, 4.082, 4.0812, 4.0797, 4.0795, 4.0795, 4.0794, 4.0794, 4.079, 4.0782, 4.078, 4.0769, 4.0768, 4.0766, 4.0755, 4.0739, 4.0737, 4.0726, 4.071, 4.0706, 4.0672, 4.0671, 4.0655, 4.0612, 4.0574, 4.0513, 4.0473, 4.0378, 4.1982, 4.1981, 4.1978, 4.1974, 4.1972, 4.1967, 4.1967, 4.1953, 4.1944, 4.1919, 4.1918, 4.1831, 4.1577, 3.9779, 1.1897, 1.1896, 1.1896, 1.1896, 1.1896, 1.1896, 1.1896, 1.1896, 1.1896, 1.1896, 1.1895, 1.1895, 1.1895, 1.1895, 1.1895, 1.1895, 1.1895, 1.1895, 1.1895, 1.1895, 1.1895, 1.1895, 1.1895, 1.1895, 1.1894, 1.1894, 1.1895, 1.1894, 4.1986, 4.1986, 4.1975, 4.1973, 4.197, 4.1957, 4.1954, 4.1953, 4.1948, 4.1928, 4.1923, 4.1912, 4.1852, 4.1818, 4.1793, 4.1771, 4.1721, 4.1604, 4.1483, 4.143, 4.1094, 3.8824, 2.7653, 1.0812, 1.0811, 1.0811, 1.081, 1.081, 1.081, 1.081, 1.081, 1.081, 1.081, 1.0809, 4.2133, 4.2128, 4.2119, 4.2117, 4.2115, 4.2098, 4.2093, 4.2086, 4.2055, 4.2048, 4.1969, 4.1905, 4.1804, 4.1596, 1.1182, 1.1182, 1.1182, 1.1182, 1.1182, 1.1182, 1.1182, 1.1182, 1.1182, 1.1182, 1.1182, 1.1182, 1.1182, 1.1181, 1.1181, 1.1181, 1.1181, 1.1181, 1.1181, 1.118, 1.118, 1.1181, 1.1181, 1.1181, 1.118, 1.1181, 4.4001, 4.3996, 4.3991, 4.3973, 4.3969, 4.3954, 4.3948, 4.3948, 4.3948, 4.3939, 4.3938, 4.3932, 4.3931, 4.393, 4.393, 4.393, 4.3917, 4.3908, 4.3899, 4.389, 4.3887, 4.3873, 4.3819, 4.3808, 4.3771, 4.3689, 4.3665, 4.346, 4.3118, 4.2855]}, \"token.table\": {\"Topic\": [1, 3, 4, 6, 7, 16, 20, 11, 12, 2, 3, 11, 7, 20, 20, 20, 2, 1, 3, 4, 12, 1, 1, 8, 3, 8, 16, 10, 7, 10, 13, 16, 4, 7, 2, 16, 16, 11, 17, 16, 10, 19, 14, 8, 8, 15, 15, 3, 5, 5, 7, 5, 2, 8, 1, 2, 13, 9, 3, 11, 3, 20, 9, 11, 19, 9, 2, 6, 11, 7, 1, 18, 1, 2, 13, 13, 14, 3, 18, 15, 5, 8, 17, 18, 12, 13, 13, 18, 5, 15, 1, 18, 18, 3, 10, 18, 2, 9, 9, 3, 4, 7, 17, 17, 17, 7, 1, 4, 16, 1, 2, 11, 12, 12, 14, 14, 4, 1, 7, 4, 12, 1, 2, 14, 9, 14, 13, 14, 12, 18, 17, 15, 7, 6, 16, 13, 2, 8, 5, 17, 4, 13, 18, 10, 16, 1, 17, 12, 16, 2, 8, 8, 8, 20, 18, 18, 2, 14, 2, 12, 10, 20, 14, 9, 2, 12, 15, 7, 8, 5, 13, 7, 13, 3, 9, 1, 2, 4, 11, 7, 5, 16, 10, 5, 15, 20, 7, 13, 11, 2, 3, 6, 2, 5, 20, 10, 1, 20, 20, 3, 16, 9, 6, 3, 5, 2, 2, 8, 16, 4, 17, 10, 15, 16, 11, 10, 14, 1, 2, 3, 1, 1, 18, 1, 12, 4, 14, 4, 16, 4, 7, 3, 6, 16, 12, 11, 15, 19, 12, 2, 3, 20, 3, 1, 10, 18, 16, 1, 5, 6, 14, 15, 14, 16, 5, 2, 16, 12, 5, 20, 12, 6, 8, 3, 11, 13, 6, 6, 4, 19, 3, 1, 6, 17, 8, 19, 3, 17, 7, 9, 18, 8, 6, 12, 11, 15, 5, 13, 7, 19, 2, 2, 4, 1, 6, 3, 12, 5, 16, 12, 9, 1, 7, 8, 9, 10, 16, 10, 13, 8, 6, 18, 2, 11, 10, 19, 10, 12, 13, 11, 7, 18, 3, 9, 20, 20, 2, 5, 16, 14, 1, 1, 3, 2, 8, 2, 20, 10, 6, 12, 2, 4, 19, 2, 14, 9, 13, 7, 14, 14, 4, 5, 4, 13, 7, 10, 2, 12, 8, 11, 6, 20, 4, 2, 5, 14, 11, 6, 13, 7, 8, 10, 13, 20, 6, 13, 18, 3, 20, 10, 10, 1, 9, 4, 6, 20, 2, 3, 20, 5, 6, 10, 5, 8, 10, 19, 14, 16, 2, 7, 2, 2, 3, 20, 6, 15, 1, 19, 1, 13, 1, 12, 18, 12, 13, 14, 11, 15, 12, 10, 10, 14, 4, 11, 9, 11, 9, 17, 11, 4, 3, 19, 7, 19, 13, 20, 7, 6, 2, 8, 9, 14, 20, 1, 5, 5, 5, 6, 18, 9, 9, 17, 6, 12, 7, 3, 1, 3, 10, 10, 11, 5, 18, 6, 9, 1, 4, 13, 15, 2, 7, 4, 17, 8, 1, 3, 8, 13, 18, 15, 3, 4, 4, 11, 18, 16, 3, 6, 11, 3, 10, 14, 2, 9, 19, 3, 13, 16, 10, 3, 4, 11, 20, 11, 9, 16, 16, 9, 3, 8, 4, 15, 9, 5, 10, 14, 8, 1, 10, 7, 20, 8, 15, 5, 13, 11, 3, 16, 1, 3, 18, 4, 9, 1, 3, 8, 14, 11, 14, 11, 4, 20, 1, 2, 3, 4, 9, 8, 13, 14, 16, 12, 6, 5, 1, 12, 1, 2, 7, 10, 6, 9, 20, 8, 2, 6, 6, 9, 5, 12, 8, 5, 19, 4, 20, 1, 2, 14, 12, 1, 1, 7, 7, 9, 1, 20, 16, 5, 5, 2, 12, 1, 3, 11, 14, 1, 1, 8], \"Freq\": [0.9989993902378371, 0.999444376977395, 0.9966449044353943, 0.9940206590785013, 0.9935419297606045, 0.9595184904622851, 0.9919248778114463, 0.9960462193268562, 0.9980417394092235, 0.8744861379669169, 0.1252809928151186, 0.9882924453844582, 0.9812910508540268, 0.9879542765068194, 0.9810729015913054, 0.9902871236295681, 0.9977613648418449, 0.9618732779905339, 0.03754729213740316, 0.9985962447920733, 0.9927426645846004, 0.9993815161936763, 0.9997683920916008, 0.9940077279934394, 0.9972329106625276, 0.995739891896008, 0.9947476320708135, 0.9972762153602297, 0.9905812285028885, 0.9931509042357505, 0.989301385482162, 0.9840488346740603, 0.9981987330965499, 0.9896418846942359, 0.9988430247796904, 0.9950028285294842, 0.9868118713538637, 0.9921073984597316, 0.9795191591302195, 0.9954651673528955, 0.9971622893312128, 0.9976095861957024, 0.9855158186205965, 0.9938284555677491, 0.9927119964396537, 0.9967229822656763, 0.9741309181870348, 0.998096468454447, 0.9918077938756287, 0.9995659742876439, 0.9971710781557838, 0.9977263374572756, 0.9996667748960009, 0.9730980871467616, 0.44584545368439044, 0.5536742855360183, 0.9974118247899518, 0.9956834327013777, 0.9996372535498936, 0.9983843119379999, 0.9986870539706589, 0.9971251563878333, 0.9886863367214949, 0.9834403378686069, 0.9709908941357113, 0.9737299781592214, 0.9996349958429089, 0.9959077298265564, 0.9958438267534273, 0.9977140447553848, 0.9989907691789514, 0.9514764669686425, 0.9204690624095572, 0.07922286979287783, 0.9498551728920517, 0.9954357091829684, 0.9988491160769785, 0.9983639335435164, 0.9510993263029563, 0.9977978806851755, 0.9866027628013792, 0.9968195952452511, 0.994241977261504, 0.9837459617099497, 0.9966102274936666, 0.9876795660927619, 0.9976234686304273, 0.9950223996107641, 0.9958172992971863, 0.988908913553939, 0.7576075527800272, 0.2377892318944611, 0.997302210112187, 0.9969189316126992, 0.988966501440601, 0.9793198535692781, 0.9986564088447174, 0.9986765217125531, 0.9891881868207923, 0.9996572981723637, 0.9974032409320287, 0.9960457899927843, 0.9969554689684691, 0.957828317708454, 0.8642182190012621, 0.9960341185454802, 0.999665197869663, 0.9983021787042938, 0.9939455968757452, 0.022614468277289065, 0.9770105787623001, 0.989492740611324, 0.9985095557423577, 0.9990169348410883, 0.9989605073309749, 0.9648065176346813, 0.9987813628187623, 0.999698533098021, 0.9854504120482482, 0.9979739294679474, 0.9935273481328801, 0.9660101140619, 0.014314681422523375, 0.018932320591079303, 0.997647935898318, 0.7819286114856644, 0.9945737879849955, 0.9787449771695069, 0.9937126723368798, 0.9951712699046706, 0.9982401912542619, 0.9970489784442389, 0.9960215683746203, 0.9957615651014147, 0.995216821841277, 0.9945495541076995, 0.9989580767855927, 0.995032809503453, 0.9957404410322123, 0.9972028076663406, 0.9978932447733831, 0.9974776803105655, 0.9972138437244632, 0.9948811539903779, 0.9829486029679181, 0.9993193201539506, 0.9984538918147118, 0.9963526837935713, 0.9951016857676869, 0.821477847784473, 0.17756167144658175, 0.9839829085954943, 0.9976687313649725, 0.9941472511781735, 0.9932724932450546, 0.991871725339574, 0.955249263062818, 0.041206830955650975, 0.9991918346053075, 0.9955230060824356, 0.9923485332127537, 0.990502823423015, 0.9794365977668618, 0.9979115099433832, 0.9986151424966307, 0.9965777711060533, 0.9994488411521278, 0.9946590392712085, 0.9828370412933526, 0.9967624983227089, 0.9995767403977306, 0.9883776521039386, 0.9919727035650358, 0.9988429384234796, 0.9984915065123616, 0.7854316548611525, 0.21378055833750792, 0.9974434791276225, 0.9876082147165779, 0.9935231376523561, 0.9914152255942856, 0.9920949057848301, 0.9950349122627492, 0.9959912555868617, 0.9975372064844472, 0.984809270916276, 0.9866583438136115, 0.9979298471876543, 0.9881913467761283, 0.9980550245963468, 0.9974930741848835, 0.9921769401254887, 0.9990418900805589, 0.999859270412247, 0.9897981631952576, 0.9947833126540293, 0.9995442609258101, 0.9906522329911948, 0.8570005264395554, 0.9970384144183035, 0.9955062411457437, 0.9872726610150784, 0.9948962435495574, 0.09452505931412897, 0.903659567043073, 0.9990528200202186, 0.9985644865745117, 0.9949975603114323, 0.9988193301160079, 0.9983282640994868, 0.9989468423825272, 0.9955229412582124, 0.9995911930517265, 0.9476783735665963, 0.9938902054672616, 0.9990347970604968, 0.9430976779435855, 0.7045018781950406, 0.23689165017073105, 0.058386975666401685, 0.9991704810246965, 0.9991579134547753, 0.706050259114002, 0.999550506214593, 0.9973657000520242, 0.9988853078092822, 0.9956867806851148, 0.9985012681989762, 0.9902631714223787, 0.9974782295914164, 0.9926041858164241, 0.9991288169244825, 0.9893127370350461, 0.9946456755964258, 0.9943868920983812, 0.987324861219354, 0.991770042841014, 0.9966723500105724, 0.9963487516976971, 0.2813316695370386, 0.7180885440859742, 0.9893124071322997, 0.9985034402657099, 0.998864160002328, 0.9985576301111062, 0.9840758308865598, 0.9983535473259946, 0.03746630986757839, 0.9610108481033856, 0.9962174241990365, 0.9697257615281472, 0.9984364302799473, 0.99754350039954, 0.947988629643602, 0.9980195255194508, 0.9978559862166245, 0.9986854482471705, 0.9938623766674263, 0.9933428964582701, 0.972382626112901, 0.9898113080437468, 0.9986115988485156, 0.9977456969957902, 0.9984550925713018, 0.9987471325218649, 0.9951314624979122, 0.995271105287206, 0.9934040797669071, 0.9984736740073548, 0.9986925062396668, 0.9966513752488557, 0.9994526261406091, 0.9985464812732453, 0.9916300912320555, 0.9917912891185383, 0.9947991752856398, 0.9978257901519583, 0.9993509779664042, 0.9870541489145656, 0.9930049201408411, 0.9989010648653275, 0.9984669055614269, 0.9995279518611369, 0.9963592612488908, 0.9927767289952164, 0.9979174288328678, 0.9973269333931754, 0.9632506376612353, 0.9971981959713476, 0.9944776382016289, 0.9985479442683012, 0.027920987180364926, 0.9711647714909539, 0.9994969428978576, 0.9978870794102322, 0.9984291666722689, 0.9915418138138841, 0.9991620473195296, 0.9973581430573513, 0.9944324274294598, 0.982408516543821, 0.9996770230481709, 0.9934546281400278, 0.9972981956268119, 0.9977787541092397, 0.9924450073250164, 0.9766576281206483, 0.9951459017609986, 0.9407734517584869, 0.9902558263361854, 0.9975414605103842, 0.999043830734444, 0.9995937027672404, 0.9768651233871467, 0.9990985989118009, 0.9886864389863327, 0.987594318132181, 0.9952795489918272, 0.9916098733450516, 0.993663451010179, 0.996952419108626, 0.9947410425900757, 0.9985609580397897, 0.9881486068143207, 0.9871273956691445, 0.9960193843557934, 0.9994759452419953, 0.9905063663964964, 0.9877509177604717, 0.9960709021384347, 0.9997490457918329, 0.9992846290244269, 0.9979481624396181, 0.9997787420457647, 0.9945056622762823, 0.9977955335053419, 0.9926198732248713, 0.9949598095272713, 0.9979832889996435, 0.9954985350365935, 0.9982598066020603, 0.9994360116467645, 0.979332701143735, 0.9997543435223184, 0.9867435738267496, 0.9895766948882133, 0.9965481056014908, 0.9898739903556921, 0.9939482678154306, 0.9482281683832833, 0.9981126663548349, 0.9991362221052772, 0.9985414030020342, 0.998623299112887, 0.039807861461022345, 0.9553886750645363, 0.9987265835805113, 0.997720635641445, 0.9992947486814432, 0.9573719863576805, 0.9978304866233804, 0.9964554673546389, 0.9976171061559683, 0.9984529780961896, 0.9984653956700666, 0.9315309434349598, 0.9891897080206346, 0.9978519717704167, 0.9970025673982773, 0.9965765817605923, 0.9947465614015465, 0.9869438562193843, 0.9894238869036126, 0.9895517547686282, 0.9968343067628973, 0.9939591496744422, 0.9624324136436115, 0.9987194622759222, 0.9414839802808046, 0.990650463451911, 0.9879963388472652, 0.9991081075374016, 0.9881403788961008, 0.9975061767820388, 0.9971529469044332, 0.9971322715415832, 0.9985444201479002, 0.9996279898348236, 0.8959177810635826, 0.9988789673132293, 0.9936808435731594, 0.9977436299521382, 0.9986957363774622, 0.9944969966502197, 0.9954774430156957, 0.9991805524956293, 0.9861832908855619, 0.9966505037811371, 0.9991758151917891, 0.9941483773067569, 0.9994986264360505, 0.016801825056743352, 0.9821430464987251, 0.9835169211788654, 0.9988089727595675, 0.9412029047363875, 0.9992639237844934, 0.9881041972113439, 0.998921036889059, 0.994485918314823, 0.9993123611503574, 0.9970480346829272, 0.9962500915162866, 0.997812020389088, 0.9601192879249129, 0.9967380494614979, 0.9717100813826576, 0.9948606627810037, 0.9894608670237486, 0.9890083467829901, 0.9833202802332622, 0.991566189241997, 0.997767528073964, 0.993431426906597, 0.9878168267894395, 0.9925443552336026, 0.9967799277257524, 0.9950641304747484, 0.9838406095438418, 0.9987951828439054, 0.998546870868905, 0.9619586660891812, 0.9923929284031132, 0.9972274387010687, 0.989737334803041, 0.9866450547431826, 0.9885551642936898, 0.9991604338484021, 0.9996658883404149, 0.9963312302557443, 0.9873896115362575, 0.9983498310320146, 0.9600878841153302, 0.004478850061018417, 0.9950511885562584, 0.997309932617948, 0.9949262398372969, 0.9926264994333929, 0.8953319511361655, 0.9860718593065383, 0.9881676423491761, 0.9993104201829671, 0.998897495493466, 0.9982683168405533, 0.9967959787271568, 0.9994573908068555, 0.9124700391858366, 0.08706967279600095, 0.9993532047262221, 0.9851851725738817, 0.9581116986700965, 0.9930702157724478, 0.99804669028865, 0.9968202940524604, 0.9953782295163449, 0.9997176455139605, 0.999112618018521, 0.9687233738423096, 0.9982047309789387, 0.9994818667364398, 0.9965567639816553, 0.996883284753902, 0.9971606142996123, 0.987241830691226, 0.9040389341680796, 0.007044459227283737, 0.08688166380316609, 0.9803424836669836, 0.9731554296100239, 0.9827935168822003, 0.0034412032608606945, 0.9945077423887407, 0.9990281374619217, 0.9989115449063236, 0.9751192550567758, 0.9951179627532598, 0.9992288391376238, 0.9971664787557651, 0.9927109732112076, 0.9985832888366569, 0.9963210243591408, 0.9929671525455283, 0.9986643768684509, 0.9950186175341833, 0.994718264557947, 0.9993842366957568, 0.9796155699071982, 0.9963661052568707, 0.9964352635928211, 0.9987207269110793, 0.9982233186020512, 0.9994527633488896, 0.9712162455976641, 0.9971063103813141, 0.996758730502677, 0.9689996172952788, 0.9925880137230966, 0.9977795091569347, 0.9989792009297772, 0.9952828221107312, 0.998953268771716, 0.992717752647939, 0.9947248417697907, 0.9992658715714463, 0.9878916513261136, 0.9994206383843772, 0.9985215667979302, 0.9988550610656811, 0.9950341150414701, 0.9979490532830786, 0.9947905294547659, 0.9922721390073492, 0.9774418339433861, 0.999122470346327, 0.9966492985428861, 0.9988835146163287, 0.9991966595558038, 0.9925253081149791, 0.999050482811449, 0.9989943884210929, 0.9978048541368856, 0.9980996933963462, 0.988246451363536, 0.9586449725284272, 0.04108951835241098, 0.993599900250778, 0.9866029678368402, 0.9944955566860035, 0.9892236699871028, 0.9913140413634874, 0.9970562197894368, 0.9987941118223302, 0.07132094273985806, 0.24865200270394094, 0.6796303064977136, 0.9961480697108892, 0.999548985449169, 0.9782372276822578, 0.9756543859744478, 0.9235977756466827, 0.983857412409323, 0.9894786600460412, 0.9933643127542946, 0.9931742243615894, 0.9994922277039541, 0.9907328590463688, 0.9967988783728341, 0.0030772703440624183, 0.9997545698136742, 0.9953243195908512, 0.9914216858387862, 0.9942580261380989, 0.9937656547710685, 0.9888992487318321, 0.9995637731417114, 0.9974065409377331, 0.9978303953490094, 0.9957728261772185, 0.9987811978382952, 0.9912288133453614, 0.9987484624314757, 0.9952057428431734, 0.9980795933580792, 0.9964616277978036, 0.9934938122870847, 0.9699058517504497, 0.029815336260706156, 0.9895042477311867, 0.9889046042280315, 0.9997122178084613, 0.9997134902754093, 0.9878169464437587, 0.9974028716056658, 0.9930250273920164, 0.9995926618017601, 0.9910661078904556, 0.9693299426989643, 0.9911917893383854, 0.9993618313496501, 0.9979034501569716, 0.9962425560400204, 0.9847782028656957, 0.0151365312209226, 0.9924342441612325, 0.9928211255628138, 0.9997666573693055, 0.9991487809076389, 0.9965627431618713], \"Term\": [\"able\", \"access\", \"account\", \"achieve\", \"action\", \"actionscript\", \"active\", \"actual\", \"actually\", \"add\", \"add\", \"additional\", \"administrator\", \"advantage\", \"agnostic\", \"almost\", \"already\", \"also\", \"also\", \"answer\", \"anyway\", \"app\", \"application\", \"apply\", \"approach\", \"area\", \"arg\", \"assembly\", \"authenticate\", \"auto\", \"automate\", \"away\", \"back\", \"backup\", \"base\", \"become\", \"behaviour\", \"benefit\", \"best\", \"binary\", \"bind\", \"bit\", \"blog\", \"body\", \"book\", \"break\", \"breakpoint\", \"browser\", \"buffer\", \"build\", \"button\", \"byte\", \"call\", \"canvas\", \"case\", \"case\", \"cause\", \"certain\", \"change\", \"character\", \"check\", \"child\", \"choice\", \"chunk\", \"circumstance\", \"clarification\", \"class\", \"clean\", \"clear\", \"click\", \"client\", \"cluster\", \"code\", \"code\", \"colleague\", \"collection\", \"column\", \"com\", \"comfortable\", \"command\", \"command_line\", \"comment\", \"commit\", \"communication\", \"compare\", \"compilation\", \"compile\", \"computer\", \"configuration\", \"configure\", \"connect\", \"connect\", \"connection\", \"consider\", \"construct\", \"consume\", \"contain\", \"content\", \"continue\", \"control\", \"convert\", \"cookie\", \"copy\", \"copying\", \"copyright\", \"correctly\", \"could\", \"count\", \"crash\", \"create\", \"create\", \"creation\", \"currently\", \"custom\", \"d\", \"daily\", \"data\", \"database\", \"datatable\", \"date\", \"datetime\", \"datum\", \"datum\", \"datum\", \"day\", \"deadlock\", \"debug\", \"debugging\", \"decide\", \"declare\", \"default\", \"define\", \"delete\", \"depend\", \"dependency\", \"deploy\", \"design\", \"designer\", \"detect\", \"determine\", \"develop\", \"development\", \"device\", \"dialog\", \"dictionary\", \"different\", \"directory\", \"disable\", \"disk\", \"display\", \"display\", \"div\", \"document\", \"drive\", \"driver\", \"drop\", \"duplicate\", \"duplicate\", \"easy\", \"eclipse\", \"editor\", \"effect\", \"effective\", \"element\", \"else\", \"enable\", \"end\", \"enter\", \"enterprise\", \"environment\", \"error\", \"especially\", \"etc\", \"even\", \"event\", \"example\", \"example\", \"exception\", \"exclude\", \"exe\", \"executable\", \"execution\", \"expression\", \"extension\", \"external\", \"face\", \"factor\", \"fail\", \"fall\", \"false\", \"fast\", \"feel\", \"field\", \"file\", \"filename\", \"filter\", \"find\", \"finish\", \"finished\", \"fix\", \"flash\", \"flexible\", \"focus\", \"folder\", \"folder\", \"follow\", \"foo\", \"force\", \"form\", \"format\", \"framework\", \"full\", \"function\", \"fundamental\", \"game\", \"generate\", \"german\", \"get\", \"get\", \"get\", \"give\", \"go\", \"going\", \"good\", \"grid\", \"group\", \"guess\", \"handle\", \"hash\", \"header\", \"hear\", \"help\", \"hibernate\", \"hide\", \"high\", \"highlight\", \"home\", \"hope\", \"hour\", \"however\", \"however\", \"html\", \"http\", \"idea\", \"image\", \"impact\", \"import\", \"include\", \"include\", \"index\", \"injection\", \"input\", \"insert\", \"inside\", \"instal\", \"instance\", \"int\", \"integer\", \"integrate\", \"intend\", \"interesting\", \"interface\", \"internal\", \"issue\", \"item\", \"java\", \"job\", \"join\", \"keep\", \"key\", \"kind\", \"know\", \"last\", \"later\", \"lead\", \"learn\", \"let\", \"library\", \"license\", \"likely\", \"line\", \"link\", \"list\", \"little\", \"live\", \"load\", \"local\", \"locale\", \"location\", \"lock\", \"log\", \"long\", \"long\", \"look\", \"loop\", \"lot\", \"love\", \"machine\", \"main\", \"maintain\", \"maintenance\", \"make\", \"manager\", \"map\", \"match\", \"matter\", \"meaning\", \"member\", \"memory_usage\", \"menu\", \"merge\", \"message\", \"method\", \"methodology\", \"model\", \"modification\", \"moment\", \"monitor\", \"month\", \"mouse\", \"move\", \"msg\", \"much\", \"multi\", \"mvc\", \"mysql\", \"name\", \"namespace\", \"native\", \"necessary\", \"need\", \"net\", \"never\", \"new\", \"node\", \"non\", \"none\", \"normal\", \"note\", \"notice\", \"null\", \"number\", \"nunit\", \"object\", \"obtain\", \"occasionally\", \"occur\", \"office\", \"often\", \"okay\", \"old\", \"open\", \"option\", \"order\", \"original\", \"original\", \"output\", \"package\", \"page\", \"paper\", \"parameter\", \"parent\", \"part\", \"pass\", \"path\", \"pause\", \"pc\", \"perform\", \"performance\", \"permission\", \"person\", \"perspective\", \"pick\", \"picture\", \"platform\", \"play\", \"plug\", \"point\", \"poll\", \"pop\", \"popup\", \"possible\", \"possibly\", \"post\", \"prefer\", \"print\", \"private\", \"problem\", \"proc\", \"process\", \"produce\", \"product\", \"program\", \"programmer\", \"programming\", \"project\", \"proper\", \"properly\", \"property\", \"provider\", \"public\", \"put\", \"put\", \"python\", \"query\", \"querystring\", \"question\", \"range\", \"read\", \"realize\", \"really\", \"reason\", \"receive\", \"recommend\", \"recompile\", \"record\", \"recursively\", \"redirect\", \"reduce\", \"refactore\", \"refer\", \"register\", \"remove\", \"render\", \"repeat\", \"replace\", \"report\", \"repository\", \"representation\", \"request\", \"require\", \"resharper\", \"resolve\", \"resource\", \"rest\", \"restart\", \"restore\", \"result\", \"return\", \"root\", \"routine\", \"row\", \"ruby_rail\", \"run\", \"run\", \"running\", \"runtime\", \"sample\", \"scan\", \"schema\", \"scheme\", \"script\", \"search\", \"second\", \"security\", \"see\", \"seem\", \"seem\", \"select\", \"selection\", \"selenium\", \"self\", \"send\", \"separate\", \"sequence\", \"server\", \"service\", \"servlet\", \"session\", \"set\", \"setup\", \"several\", \"share\", \"sharepoint\", \"show\", \"show\", \"show\", \"signature\", \"significant\", \"silverlight\", \"similar\", \"similar\", \"simple\", \"size\", \"sleep\", \"socket\", \"solution\", \"sort\", \"sound\", \"source\", \"space\", \"special\", \"specific\", \"split\", \"sql\", \"start\", \"startup\", \"state\", \"statement\", \"still\", \"store\", \"string\", \"strip\", \"style\", \"sub\", \"succeed\", \"successfully\", \"suggest\", \"support\", \"suppose\", \"sure\", \"symbol\", \"syntax\", \"system\", \"tab\", \"table\", \"tag\", \"take\", \"target\", \"task\", \"technology\", \"term\", \"terminal\", \"test\", \"testing\", \"text\", \"thank\", \"therefore\", \"thing\", \"think\", \"thread\", \"throw\", \"thus\", \"time\", \"time\", \"title\", \"today\", \"top\", \"topic\", \"tostring\", \"tree\", \"true\", \"try\", \"try\", \"try\", \"turn\", \"type\", \"typically\", \"ubuntu\", \"uint\", \"underlie\", \"unfortunately\", \"unique\", \"unit\", \"update\", \"upgrade\", \"use\", \"use\", \"user\", \"usually\", \"val\", \"valid\", \"validate\", \"validation\", \"value\", \"var\", \"variable\", \"various\", \"version\", \"video\", \"view\", \"visual\", \"visual_studio\", \"void\", \"wait\", \"want\", \"want\", \"warn\", \"waste\", \"way\", \"web\", \"webpage\", \"website\", \"week\", \"well\", \"widget\", \"wiki\", \"win\", \"window\", \"wonder\", \"word\", \"work\", \"work\", \"worry\", \"worth\", \"would\", \"write\", \"xml\"]}, \"R\": 30, \"lambda.step\": 0.01, \"plot.opts\": {\"xlab\": \"PC1\", \"ylab\": \"PC2\"}, \"topic.order\": [17, 19, 15, 1, 8, 13, 6, 18, 20, 9, 2, 12, 7, 11, 16, 5, 4, 14, 3, 10]};\n",
       "\n",
       "function LDAvis_load_lib(url, callback){\n",
       "  var s = document.createElement('script');\n",
       "  s.src = url;\n",
       "  s.async = true;\n",
       "  s.onreadystatechange = s.onload = callback;\n",
       "  s.onerror = function(){console.warn(\"failed to load library \" + url);};\n",
       "  document.getElementsByTagName(\"head\")[0].appendChild(s);\n",
       "}\n",
       "\n",
       "if(typeof(LDAvis) !== \"undefined\"){\n",
       "   // already loaded: just create the visualization\n",
       "   !function(LDAvis){\n",
       "       new LDAvis(\"#\" + \"ldavis_el53881402467083618082844227753\", ldavis_el53881402467083618082844227753_data);\n",
       "   }(LDAvis);\n",
       "}else if(typeof define === \"function\" && define.amd){\n",
       "   // require.js is available: use it to load d3/LDAvis\n",
       "   require.config({paths: {d3: \"https://d3js.org/d3.v5\"}});\n",
       "   require([\"d3\"], function(d3){\n",
       "      window.d3 = d3;\n",
       "      LDAvis_load_lib(\"https://cdn.jsdelivr.net/gh/bmabey/pyLDAvis@3.2.2/pyLDAvis/js/ldavis.v3.0.0.js\", function(){\n",
       "        new LDAvis(\"#\" + \"ldavis_el53881402467083618082844227753\", ldavis_el53881402467083618082844227753_data);\n",
       "      });\n",
       "    });\n",
       "}else{\n",
       "    // require.js not available: dynamically load d3 & LDAvis\n",
       "    LDAvis_load_lib(\"https://d3js.org/d3.v5.js\", function(){\n",
       "         LDAvis_load_lib(\"https://cdn.jsdelivr.net/gh/bmabey/pyLDAvis@3.2.2/pyLDAvis/js/ldavis.v3.0.0.js\", function(){\n",
       "                 new LDAvis(\"#\" + \"ldavis_el53881402467083618082844227753\", ldavis_el53881402467083618082844227753_data);\n",
       "            })\n",
       "         });\n",
       "}\n",
       "</script>"
      ],
      "text/plain": [
       "PreparedData(topic_coordinates=              x         y  topics  cluster       Freq\n",
       "topic                                                \n",
       "16     0.322774  0.092077       1        1  31.627283\n",
       "18     0.298710  0.105689       2        1  14.699896\n",
       "14     0.236899  0.053169       3        1   9.921586\n",
       "0      0.066090 -0.299751       4        1   6.476635\n",
       "7      0.073013 -0.317184       5        1   6.332523\n",
       "12    -0.011724 -0.040075       6        1   3.463749\n",
       "5     -0.047780  0.007381       7        1   2.470018\n",
       "17    -0.029960  0.036422       8        1   2.449257\n",
       "19    -0.050071  0.009485       9        1   2.382105\n",
       "8     -0.059018  0.017540      10        1   2.344777\n",
       "1     -0.052772  0.012034      11        1   2.322206\n",
       "11    -0.062276  0.020344      12        1   2.266613\n",
       "6     -0.074094  0.028910      13        1   2.104889\n",
       "10    -0.051824  0.031592      14        1   1.908502\n",
       "15    -0.081193  0.033376      15        1   1.840802\n",
       "4     -0.091316  0.039132      16        1   1.683690\n",
       "3     -0.098241  0.042401      17        1   1.500659\n",
       "13    -0.085172  0.040843      18        1   1.500274\n",
       "2     -0.091835  0.039301      19        1   1.478915\n",
       "9     -0.110209  0.047315      20        1   1.225622, topic_info=           Term         Freq        Total Category  logprob  loglift\n",
       "39         file  5788.000000  5788.000000  Default  30.0000  30.0000\n",
       "102        user  3475.000000  3475.000000  Default  29.0000  29.0000\n",
       "173         use  8449.000000  8449.000000  Default  28.0000  28.0000\n",
       "215       table  2306.000000  2306.000000  Default  27.0000  27.0000\n",
       "97       string  2299.000000  2299.000000  Default  26.0000  26.0000\n",
       "...         ...          ...          ...      ...      ...      ...\n",
       "0      agnostic    34.522923    35.675229  Topic20  -5.1155   4.3689\n",
       "1092  ruby_rail    32.177977    33.330282  Topic20  -5.1858   4.3665\n",
       "1076       poll    20.090754    21.243059  Topic20  -5.6569   4.3460\n",
       "1078       proc    12.241781    13.394086  Topic20  -6.1523   4.3118\n",
       "1074   finished     9.349439    10.501744  Topic20  -6.4218   4.2855\n",
       "\n",
       "[692 rows x 6 columns], token_table=      Topic      Freq     Term\n",
       "term                          \n",
       "398       1  0.998999     able\n",
       "488       3  0.999444   access\n",
       "137       4  0.996645  account\n",
       "107       6  0.994021  achieve\n",
       "1031      7  0.993542   action\n",
       "...     ...       ...      ...\n",
       "601      11  0.992434    worry\n",
       "759      14  0.992821    worth\n",
       "67        1  0.999767    would\n",
       "176       1  0.999149    write\n",
       "459       8  0.996563      xml\n",
       "\n",
       "[598 rows x 3 columns], R=30, lambda_step=0.01, plot_opts={'xlab': 'PC1', 'ylab': 'PC2'}, topic_order=[17, 19, 15, 1, 8, 13, 6, 18, 20, 9, 2, 12, 7, 11, 16, 5, 4, 14, 3, 10])"
      ]
     },
     "execution_count": 16,
     "metadata": {},
     "output_type": "execute_result"
    },
    {
     "name": "stdout",
     "output_type": "stream",
     "text": [
      "time: 15.9 s (started: 2021-12-31 19:49:34 +01:00)\n"
     ]
    }
   ],
   "source": [
    "# Visualize the topics\n",
    "pyLDAvis.enable_notebook()\n",
    "vis = pyLDAvis.gensim.prepare(lda_model, corpus, id2word)\n",
    "vis"
   ]
  },
  {
   "cell_type": "code",
   "execution_count": 17,
   "metadata": {},
   "outputs": [
    {
     "name": "stdout",
     "output_type": "stream",
     "text": [
      "time: 1.28 ms (started: 2021-12-31 19:49:50 +01:00)\n"
     ]
    }
   ],
   "source": [
    "#from tqdm import tqdm\n",
    "#\n",
    "#def compute_coherence_values(dictionary, corpus, texts, limit, start=2, step=3):\n",
    "#    coherence_values = []\n",
    "#    model_list = []\n",
    "#    for num_topics in range(start, limit, step):\n",
    "#        model = gensim.models.ldamodel.LdaModel(corpus=corpus,\n",
    "#                                           id2word=id2word,\n",
    "#                                           num_topics=num_topics)\n",
    "#        model_list.append(model)\n",
    "#        coherencemodel = CoherenceModel(model=model, texts=texts, dictionary=dictionary, coherence='c_v')\n",
    "#        coherence_values.append(coherencemodel.get_coherence())\n",
    "#        print('num_topics :' , num_topics ,\"   coherence_values :\",coherencemodel.get_coherence() )\n",
    "#\n",
    "#    return model_list, coherence_values"
   ]
  },
  {
   "cell_type": "code",
   "execution_count": 18,
   "metadata": {},
   "outputs": [
    {
     "name": "stdout",
     "output_type": "stream",
     "text": [
      "time: 643 µs (started: 2021-12-31 19:49:50 +01:00)\n"
     ]
    }
   ],
   "source": [
    "# Can take a long time to run.\n",
    "#model_list, coherence_values = compute_coherence_values(dictionary=id2word, corpus=corpus, texts=data_lemmatized, start=2, limit=20, step=1)"
   ]
  },
  {
   "cell_type": "code",
   "execution_count": 19,
   "metadata": {},
   "outputs": [
    {
     "name": "stdout",
     "output_type": "stream",
     "text": [
      "time: 23.5 ms (started: 2021-12-31 19:49:50 +01:00)\n"
     ]
    }
   ],
   "source": [
    "data = [[2 ,  0.3842037125943148  ],\n",
    "[3 ,  0.37529301525610065],\n",
    "[4 ,  0.36527094841598623],\n",
    "[5 ,  0.3786268856718328],\n",
    "[6 ,  0.37041288938196143],\n",
    "[7 ,  0.39334922220555985],\n",
    "[8 ,  0.3636774759058625],\n",
    "[9 ,  0.37541064100691635],\n",
    "[10,  0.3468006225561583],\n",
    "[11,  0.3951863472705606],\n",
    "[12,  0.39039081366178335],\n",
    "[13,  0.38642361599425884],\n",
    "[14,  0.3527335559298688],\n",
    "[15,  0.3856383217897125],\n",
    "[16,  0.3730077364356735],\n",
    "[17,  0.3736232396518417],\n",
    "[18,  0.38321713621364045],\n",
    "[19,  0.3687004828119065]]"
   ]
  },
  {
   "cell_type": "code",
   "execution_count": 20,
   "metadata": {},
   "outputs": [
    {
     "data": {
      "text/html": [
       "<div>\n",
       "<style scoped>\n",
       "    .dataframe tbody tr th:only-of-type {\n",
       "        vertical-align: middle;\n",
       "    }\n",
       "\n",
       "    .dataframe tbody tr th {\n",
       "        vertical-align: top;\n",
       "    }\n",
       "\n",
       "    .dataframe thead th {\n",
       "        text-align: right;\n",
       "    }\n",
       "</style>\n",
       "<table border=\"1\" class=\"dataframe\">\n",
       "  <thead>\n",
       "    <tr style=\"text-align: right;\">\n",
       "      <th></th>\n",
       "      <th>Nb Topics</th>\n",
       "      <th>Coherance_Score</th>\n",
       "    </tr>\n",
       "  </thead>\n",
       "  <tbody>\n",
       "    <tr>\n",
       "      <th>0</th>\n",
       "      <td>2</td>\n",
       "      <td>0.384204</td>\n",
       "    </tr>\n",
       "    <tr>\n",
       "      <th>1</th>\n",
       "      <td>3</td>\n",
       "      <td>0.375293</td>\n",
       "    </tr>\n",
       "    <tr>\n",
       "      <th>2</th>\n",
       "      <td>4</td>\n",
       "      <td>0.365271</td>\n",
       "    </tr>\n",
       "    <tr>\n",
       "      <th>3</th>\n",
       "      <td>5</td>\n",
       "      <td>0.378627</td>\n",
       "    </tr>\n",
       "    <tr>\n",
       "      <th>4</th>\n",
       "      <td>6</td>\n",
       "      <td>0.370413</td>\n",
       "    </tr>\n",
       "    <tr>\n",
       "      <th>5</th>\n",
       "      <td>7</td>\n",
       "      <td>0.393349</td>\n",
       "    </tr>\n",
       "    <tr>\n",
       "      <th>6</th>\n",
       "      <td>8</td>\n",
       "      <td>0.363677</td>\n",
       "    </tr>\n",
       "    <tr>\n",
       "      <th>7</th>\n",
       "      <td>9</td>\n",
       "      <td>0.375411</td>\n",
       "    </tr>\n",
       "    <tr>\n",
       "      <th>8</th>\n",
       "      <td>10</td>\n",
       "      <td>0.346801</td>\n",
       "    </tr>\n",
       "    <tr>\n",
       "      <th>9</th>\n",
       "      <td>11</td>\n",
       "      <td>0.395186</td>\n",
       "    </tr>\n",
       "    <tr>\n",
       "      <th>10</th>\n",
       "      <td>12</td>\n",
       "      <td>0.390391</td>\n",
       "    </tr>\n",
       "    <tr>\n",
       "      <th>11</th>\n",
       "      <td>13</td>\n",
       "      <td>0.386424</td>\n",
       "    </tr>\n",
       "    <tr>\n",
       "      <th>12</th>\n",
       "      <td>14</td>\n",
       "      <td>0.352734</td>\n",
       "    </tr>\n",
       "    <tr>\n",
       "      <th>13</th>\n",
       "      <td>15</td>\n",
       "      <td>0.385638</td>\n",
       "    </tr>\n",
       "    <tr>\n",
       "      <th>14</th>\n",
       "      <td>16</td>\n",
       "      <td>0.373008</td>\n",
       "    </tr>\n",
       "    <tr>\n",
       "      <th>15</th>\n",
       "      <td>17</td>\n",
       "      <td>0.373623</td>\n",
       "    </tr>\n",
       "    <tr>\n",
       "      <th>16</th>\n",
       "      <td>18</td>\n",
       "      <td>0.383217</td>\n",
       "    </tr>\n",
       "    <tr>\n",
       "      <th>17</th>\n",
       "      <td>19</td>\n",
       "      <td>0.368700</td>\n",
       "    </tr>\n",
       "  </tbody>\n",
       "</table>\n",
       "</div>"
      ],
      "text/plain": [
       "    Nb Topics  Coherance_Score\n",
       "0           2         0.384204\n",
       "1           3         0.375293\n",
       "2           4         0.365271\n",
       "3           5         0.378627\n",
       "4           6         0.370413\n",
       "5           7         0.393349\n",
       "6           8         0.363677\n",
       "7           9         0.375411\n",
       "8          10         0.346801\n",
       "9          11         0.395186\n",
       "10         12         0.390391\n",
       "11         13         0.386424\n",
       "12         14         0.352734\n",
       "13         15         0.385638\n",
       "14         16         0.373008\n",
       "15         17         0.373623\n",
       "16         18         0.383217\n",
       "17         19         0.368700"
      ]
     },
     "execution_count": 20,
     "metadata": {},
     "output_type": "execute_result"
    },
    {
     "name": "stdout",
     "output_type": "stream",
     "text": [
      "time: 20 ms (started: 2021-12-31 19:49:50 +01:00)\n"
     ]
    }
   ],
   "source": [
    "df = pd.DataFrame(data)\n",
    "df = df.rename(columns={0: \"Nb Topics\", 1: \"Coherance_Score\"})\n",
    "df"
   ]
  },
  {
   "cell_type": "markdown",
   "metadata": {},
   "source": [
    "# 6 - Visualisation"
   ]
  },
  {
   "cell_type": "code",
   "execution_count": 21,
   "metadata": {},
   "outputs": [
    {
     "data": {
      "image/png": "[encoded data removed]",
      "text/plain": [
       "<Figure size 1080x504 with 1 Axes>"
      ]
     },
     "metadata": {
      "needs_background": "light"
     },
     "output_type": "display_data"
    },
    {
     "name": "stdout",
     "output_type": "stream",
     "text": [
      "time: 500 ms (started: 2021-12-31 19:49:50 +01:00)\n"
     ]
    }
   ],
   "source": [
    "plt.figure(figsize=(15,7))\n",
    "plt.plot(df.Coherance_Score)\n",
    "plt.ylabel('Coherence score')\n",
    "plt.xlabel('Num Topics')\n",
    "plt.title('LDA - Coherence score')\n",
    "plt.show()"
   ]
  },
  {
   "cell_type": "code",
   "execution_count": 22,
   "metadata": {},
   "outputs": [
    {
     "data": {
      "image/png": "[encoded data removed]",
      "text/plain": [
       "<Figure size 432x288 with 1 Axes>"
      ]
     },
     "metadata": {
      "needs_background": "light"
     },
     "output_type": "display_data"
    },
    {
     "data": {
      "image/png": "[encoded data removed]",
      "text/plain": [
       "<Figure size 720x360 with 1 Axes>"
      ]
     },
     "metadata": {
      "needs_background": "light"
     },
     "output_type": "display_data"
    },
    {
     "name": "stdout",
     "output_type": "stream",
     "text": [
      "time: 709 ms (started: 2021-12-31 19:49:50 +01:00)\n"
     ]
    }
   ],
   "source": [
    "plt.title(\"LDA - Coherence score\")\n",
    "plt.figure(figsize=(10,5))\n",
    "plt.plot(df.Coherance_Score)\n",
    "plt.xlabel(\"Num Topics\")\n",
    "plt.ylabel(\"Coherence score\")\n",
    "plt.legend((\"coherence_values\"), loc='best')\n",
    "\n",
    "plt.show()"
   ]
  },
  {
   "cell_type": "code",
   "execution_count": 23,
   "metadata": {},
   "outputs": [
    {
     "name": "stdout",
     "output_type": "stream",
     "text": [
      "time: 457 µs (started: 2021-12-31 19:49:51 +01:00)\n"
     ]
    }
   ],
   "source": [
    "# Best Model 9 topics"
   ]
  },
  {
   "cell_type": "markdown",
   "metadata": {},
   "source": [
    "## 6.1 - Best Model"
   ]
  },
  {
   "cell_type": "code",
   "execution_count": 24,
   "metadata": {},
   "outputs": [
    {
     "name": "stdout",
     "output_type": "stream",
     "text": [
      "[(0, '0.063*\"would\" + 0.033*\"good\" + 0.027*\"look\" + 0.022*\"control\" + 0.022*\"question\" + 0.018*\"service\" + 0.013*\"think\" + 0.013*\"library\" + 0.013*\"request\" + 0.012*\"different\"'), (1, '0.046*\"user\" + 0.033*\"server\" + 0.032*\"web\" + 0.028*\"page\" + 0.026*\"error\" + 0.018*\"message\" + 0.018*\"system\" + 0.016*\"access\" + 0.016*\"content\" + 0.015*\"site\"'), (2, '0.071*\"application\" + 0.056*\"run\" + 0.048*\"project\" + 0.045*\"net\" + 0.032*\"build\" + 0.025*\"version\" + 0.017*\"machine\" + 0.014*\"feature\" + 0.013*\"thread\" + 0.013*\"development\"'), (3, '0.154*\"table\" + 0.060*\"column\" + 0.055*\"row\" + 0.028*\"performance\" + 0.027*\"setting\" + 0.017*\"css\" + 0.017*\"root\" + 0.015*\"duplicate\" + 0.013*\"windows_form\" + 0.013*\"focus\"'), (4, '0.049*\"class\" + 0.044*\"object\" + 0.035*\"call\" + 0.035*\"method\" + 0.028*\"function\" + 0.018*\"result\" + 0.015*\"query\" + 0.015*\"log\" + 0.013*\"contain\" + 0.013*\"implement\"'), (5, '0.117*\"window\" + 0.042*\"interface\" + 0.037*\"print\" + 0.036*\"click\" + 0.036*\"task\" + 0.035*\"parameter\" + 0.034*\"path\" + 0.034*\"button\" + 0.030*\"child\" + 0.017*\"security\"'), (6, '0.053*\"test\" + 0.047*\"process\" + 0.041*\"take\" + 0.033*\"tool\" + 0.027*\"order\" + 0.026*\"tag\" + 0.017*\"record\" + 0.017*\"software\" + 0.016*\"insert\" + 0.015*\"comment\"'), (7, '0.060*\"value\" + 0.053*\"type\" + 0.053*\"string\" + 0.051*\"return\" + 0.050*\"name\" + 0.036*\"public\" + 0.031*\"d\" + 0.027*\"key\" + 0.026*\"property\" + 0.025*\"select\"'), (8, '0.039*\"use\" + 0.028*\"file\" + 0.024*\"way\" + 0.020*\"work\" + 0.018*\"want\" + 0.017*\"code\" + 0.017*\"need\" + 0.015*\"set\" + 0.015*\"get\" + 0.014*\"create\"')]\n",
      "time: 1min 40s (started: 2021-12-31 19:49:51 +01:00)\n"
     ]
    }
   ],
   "source": [
    "# Build LDA model\n",
    "num_topics = 9\n",
    "lda_model = gensim.models.ldamodel.LdaModel(corpus=corpus,\n",
    "                                           id2word=id2word,\n",
    "                                           num_topics=num_topics, \n",
    "                                           random_state=100,\n",
    "                                           update_every=1,\n",
    "                                           chunksize=100,\n",
    "                                           passes=10,\n",
    "                                           alpha='auto',\n",
    "                                           per_word_topics=True)\n",
    "\n",
    "# Print the Keyword in the 9 topics\n",
    "print(lda_model.print_topics())"
   ]
  },
  {
   "cell_type": "code",
   "execution_count": 25,
   "metadata": {},
   "outputs": [
    {
     "data": {
      "text/html": [
       "<div>\n",
       "<style scoped>\n",
       "    .dataframe tbody tr th:only-of-type {\n",
       "        vertical-align: middle;\n",
       "    }\n",
       "\n",
       "    .dataframe tbody tr th {\n",
       "        vertical-align: top;\n",
       "    }\n",
       "\n",
       "    .dataframe thead th {\n",
       "        text-align: right;\n",
       "    }\n",
       "</style>\n",
       "<table border=\"1\" class=\"dataframe\">\n",
       "  <thead>\n",
       "    <tr style=\"text-align: right;\">\n",
       "      <th></th>\n",
       "      <th>0</th>\n",
       "      <th>1</th>\n",
       "    </tr>\n",
       "  </thead>\n",
       "  <tbody>\n",
       "    <tr>\n",
       "      <th>0</th>\n",
       "      <td>0</td>\n",
       "      <td>0.063*\"would\" + 0.033*\"good\" + 0.027*\"look\" + ...</td>\n",
       "    </tr>\n",
       "    <tr>\n",
       "      <th>1</th>\n",
       "      <td>1</td>\n",
       "      <td>0.046*\"user\" + 0.033*\"server\" + 0.032*\"web\" + ...</td>\n",
       "    </tr>\n",
       "    <tr>\n",
       "      <th>2</th>\n",
       "      <td>2</td>\n",
       "      <td>0.071*\"application\" + 0.056*\"run\" + 0.048*\"pro...</td>\n",
       "    </tr>\n",
       "    <tr>\n",
       "      <th>3</th>\n",
       "      <td>3</td>\n",
       "      <td>0.154*\"table\" + 0.060*\"column\" + 0.055*\"row\" +...</td>\n",
       "    </tr>\n",
       "    <tr>\n",
       "      <th>4</th>\n",
       "      <td>4</td>\n",
       "      <td>0.049*\"class\" + 0.044*\"object\" + 0.035*\"call\" ...</td>\n",
       "    </tr>\n",
       "    <tr>\n",
       "      <th>5</th>\n",
       "      <td>5</td>\n",
       "      <td>0.117*\"window\" + 0.042*\"interface\" + 0.037*\"pr...</td>\n",
       "    </tr>\n",
       "    <tr>\n",
       "      <th>6</th>\n",
       "      <td>6</td>\n",
       "      <td>0.053*\"test\" + 0.047*\"process\" + 0.041*\"take\" ...</td>\n",
       "    </tr>\n",
       "    <tr>\n",
       "      <th>7</th>\n",
       "      <td>7</td>\n",
       "      <td>0.060*\"value\" + 0.053*\"type\" + 0.053*\"string\" ...</td>\n",
       "    </tr>\n",
       "    <tr>\n",
       "      <th>8</th>\n",
       "      <td>8</td>\n",
       "      <td>0.039*\"use\" + 0.028*\"file\" + 0.024*\"way\" + 0.0...</td>\n",
       "    </tr>\n",
       "  </tbody>\n",
       "</table>\n",
       "</div>"
      ],
      "text/plain": [
       "   0                                                  1\n",
       "0  0  0.063*\"would\" + 0.033*\"good\" + 0.027*\"look\" + ...\n",
       "1  1  0.046*\"user\" + 0.033*\"server\" + 0.032*\"web\" + ...\n",
       "2  2  0.071*\"application\" + 0.056*\"run\" + 0.048*\"pro...\n",
       "3  3  0.154*\"table\" + 0.060*\"column\" + 0.055*\"row\" +...\n",
       "4  4  0.049*\"class\" + 0.044*\"object\" + 0.035*\"call\" ...\n",
       "5  5  0.117*\"window\" + 0.042*\"interface\" + 0.037*\"pr...\n",
       "6  6  0.053*\"test\" + 0.047*\"process\" + 0.041*\"take\" ...\n",
       "7  7  0.060*\"value\" + 0.053*\"type\" + 0.053*\"string\" ...\n",
       "8  8  0.039*\"use\" + 0.028*\"file\" + 0.024*\"way\" + 0.0..."
      ]
     },
     "execution_count": 25,
     "metadata": {},
     "output_type": "execute_result"
    },
    {
     "name": "stdout",
     "output_type": "stream",
     "text": [
      "time: 33 ms (started: 2021-12-31 19:51:31 +01:00)\n"
     ]
    }
   ],
   "source": [
    "a = lda_model.print_topics()\n",
    "b = pd.DataFrame(a)\n",
    "b"
   ]
  },
  {
   "cell_type": "code",
   "execution_count": 26,
   "metadata": {},
   "outputs": [
    {
     "data": {
      "text/html": [
       "<div>\n",
       "<style scoped>\n",
       "    .dataframe tbody tr th:only-of-type {\n",
       "        vertical-align: middle;\n",
       "    }\n",
       "\n",
       "    .dataframe tbody tr th {\n",
       "        vertical-align: top;\n",
       "    }\n",
       "\n",
       "    .dataframe thead th {\n",
       "        text-align: right;\n",
       "    }\n",
       "</style>\n",
       "<table border=\"1\" class=\"dataframe\">\n",
       "  <thead>\n",
       "    <tr style=\"text-align: right;\">\n",
       "      <th></th>\n",
       "      <th>0</th>\n",
       "      <th>1</th>\n",
       "      <th>2</th>\n",
       "      <th>3</th>\n",
       "      <th>4</th>\n",
       "      <th>5</th>\n",
       "      <th>6</th>\n",
       "      <th>7</th>\n",
       "      <th>8</th>\n",
       "      <th>9</th>\n",
       "      <th>...</th>\n",
       "      <th>11</th>\n",
       "      <th>12</th>\n",
       "      <th>13</th>\n",
       "      <th>14</th>\n",
       "      <th>15</th>\n",
       "      <th>16</th>\n",
       "      <th>17</th>\n",
       "      <th>18</th>\n",
       "      <th>19</th>\n",
       "      <th>20</th>\n",
       "    </tr>\n",
       "  </thead>\n",
       "  <tbody>\n",
       "    <tr>\n",
       "      <th>0</th>\n",
       "      <td>0.063*</td>\n",
       "      <td>would</td>\n",
       "      <td>+ 0.033*</td>\n",
       "      <td>good</td>\n",
       "      <td>+ 0.027*</td>\n",
       "      <td>look</td>\n",
       "      <td>+ 0.022*</td>\n",
       "      <td>control</td>\n",
       "      <td>+ 0.022*</td>\n",
       "      <td>question</td>\n",
       "      <td>...</td>\n",
       "      <td>service</td>\n",
       "      <td>+ 0.013*</td>\n",
       "      <td>think</td>\n",
       "      <td>+ 0.013*</td>\n",
       "      <td>library</td>\n",
       "      <td>+ 0.013*</td>\n",
       "      <td>request</td>\n",
       "      <td>+ 0.012*</td>\n",
       "      <td>different</td>\n",
       "      <td></td>\n",
       "    </tr>\n",
       "    <tr>\n",
       "      <th>1</th>\n",
       "      <td>0.046*</td>\n",
       "      <td>user</td>\n",
       "      <td>+ 0.033*</td>\n",
       "      <td>server</td>\n",
       "      <td>+ 0.032*</td>\n",
       "      <td>web</td>\n",
       "      <td>+ 0.028*</td>\n",
       "      <td>page</td>\n",
       "      <td>+ 0.026*</td>\n",
       "      <td>error</td>\n",
       "      <td>...</td>\n",
       "      <td>message</td>\n",
       "      <td>+ 0.018*</td>\n",
       "      <td>system</td>\n",
       "      <td>+ 0.016*</td>\n",
       "      <td>access</td>\n",
       "      <td>+ 0.016*</td>\n",
       "      <td>content</td>\n",
       "      <td>+ 0.015*</td>\n",
       "      <td>site</td>\n",
       "      <td></td>\n",
       "    </tr>\n",
       "    <tr>\n",
       "      <th>2</th>\n",
       "      <td>0.071*</td>\n",
       "      <td>application</td>\n",
       "      <td>+ 0.056*</td>\n",
       "      <td>run</td>\n",
       "      <td>+ 0.048*</td>\n",
       "      <td>project</td>\n",
       "      <td>+ 0.045*</td>\n",
       "      <td>net</td>\n",
       "      <td>+ 0.032*</td>\n",
       "      <td>build</td>\n",
       "      <td>...</td>\n",
       "      <td>version</td>\n",
       "      <td>+ 0.017*</td>\n",
       "      <td>machine</td>\n",
       "      <td>+ 0.014*</td>\n",
       "      <td>feature</td>\n",
       "      <td>+ 0.013*</td>\n",
       "      <td>thread</td>\n",
       "      <td>+ 0.013*</td>\n",
       "      <td>development</td>\n",
       "      <td></td>\n",
       "    </tr>\n",
       "    <tr>\n",
       "      <th>3</th>\n",
       "      <td>0.154*</td>\n",
       "      <td>table</td>\n",
       "      <td>+ 0.060*</td>\n",
       "      <td>column</td>\n",
       "      <td>+ 0.055*</td>\n",
       "      <td>row</td>\n",
       "      <td>+ 0.028*</td>\n",
       "      <td>performance</td>\n",
       "      <td>+ 0.027*</td>\n",
       "      <td>setting</td>\n",
       "      <td>...</td>\n",
       "      <td>css</td>\n",
       "      <td>+ 0.017*</td>\n",
       "      <td>root</td>\n",
       "      <td>+ 0.015*</td>\n",
       "      <td>duplicate</td>\n",
       "      <td>+ 0.013*</td>\n",
       "      <td>windows_form</td>\n",
       "      <td>+ 0.013*</td>\n",
       "      <td>focus</td>\n",
       "      <td></td>\n",
       "    </tr>\n",
       "    <tr>\n",
       "      <th>4</th>\n",
       "      <td>0.049*</td>\n",
       "      <td>class</td>\n",
       "      <td>+ 0.044*</td>\n",
       "      <td>object</td>\n",
       "      <td>+ 0.035*</td>\n",
       "      <td>call</td>\n",
       "      <td>+ 0.035*</td>\n",
       "      <td>method</td>\n",
       "      <td>+ 0.028*</td>\n",
       "      <td>function</td>\n",
       "      <td>...</td>\n",
       "      <td>result</td>\n",
       "      <td>+ 0.015*</td>\n",
       "      <td>query</td>\n",
       "      <td>+ 0.015*</td>\n",
       "      <td>log</td>\n",
       "      <td>+ 0.013*</td>\n",
       "      <td>contain</td>\n",
       "      <td>+ 0.013*</td>\n",
       "      <td>implement</td>\n",
       "      <td></td>\n",
       "    </tr>\n",
       "    <tr>\n",
       "      <th>5</th>\n",
       "      <td>0.117*</td>\n",
       "      <td>window</td>\n",
       "      <td>+ 0.042*</td>\n",
       "      <td>interface</td>\n",
       "      <td>+ 0.037*</td>\n",
       "      <td>print</td>\n",
       "      <td>+ 0.036*</td>\n",
       "      <td>click</td>\n",
       "      <td>+ 0.036*</td>\n",
       "      <td>task</td>\n",
       "      <td>...</td>\n",
       "      <td>parameter</td>\n",
       "      <td>+ 0.034*</td>\n",
       "      <td>path</td>\n",
       "      <td>+ 0.034*</td>\n",
       "      <td>button</td>\n",
       "      <td>+ 0.030*</td>\n",
       "      <td>child</td>\n",
       "      <td>+ 0.017*</td>\n",
       "      <td>security</td>\n",
       "      <td></td>\n",
       "    </tr>\n",
       "    <tr>\n",
       "      <th>6</th>\n",
       "      <td>0.053*</td>\n",
       "      <td>test</td>\n",
       "      <td>+ 0.047*</td>\n",
       "      <td>process</td>\n",
       "      <td>+ 0.041*</td>\n",
       "      <td>take</td>\n",
       "      <td>+ 0.033*</td>\n",
       "      <td>tool</td>\n",
       "      <td>+ 0.027*</td>\n",
       "      <td>order</td>\n",
       "      <td>...</td>\n",
       "      <td>tag</td>\n",
       "      <td>+ 0.017*</td>\n",
       "      <td>record</td>\n",
       "      <td>+ 0.017*</td>\n",
       "      <td>software</td>\n",
       "      <td>+ 0.016*</td>\n",
       "      <td>insert</td>\n",
       "      <td>+ 0.015*</td>\n",
       "      <td>comment</td>\n",
       "      <td></td>\n",
       "    </tr>\n",
       "    <tr>\n",
       "      <th>7</th>\n",
       "      <td>0.060*</td>\n",
       "      <td>value</td>\n",
       "      <td>+ 0.053*</td>\n",
       "      <td>type</td>\n",
       "      <td>+ 0.053*</td>\n",
       "      <td>string</td>\n",
       "      <td>+ 0.051*</td>\n",
       "      <td>return</td>\n",
       "      <td>+ 0.050*</td>\n",
       "      <td>name</td>\n",
       "      <td>...</td>\n",
       "      <td>public</td>\n",
       "      <td>+ 0.031*</td>\n",
       "      <td>d</td>\n",
       "      <td>+ 0.027*</td>\n",
       "      <td>key</td>\n",
       "      <td>+ 0.026*</td>\n",
       "      <td>property</td>\n",
       "      <td>+ 0.025*</td>\n",
       "      <td>select</td>\n",
       "      <td></td>\n",
       "    </tr>\n",
       "    <tr>\n",
       "      <th>8</th>\n",
       "      <td>0.039*</td>\n",
       "      <td>use</td>\n",
       "      <td>+ 0.028*</td>\n",
       "      <td>file</td>\n",
       "      <td>+ 0.024*</td>\n",
       "      <td>way</td>\n",
       "      <td>+ 0.020*</td>\n",
       "      <td>work</td>\n",
       "      <td>+ 0.018*</td>\n",
       "      <td>want</td>\n",
       "      <td>...</td>\n",
       "      <td>code</td>\n",
       "      <td>+ 0.017*</td>\n",
       "      <td>need</td>\n",
       "      <td>+ 0.015*</td>\n",
       "      <td>set</td>\n",
       "      <td>+ 0.015*</td>\n",
       "      <td>get</td>\n",
       "      <td>+ 0.014*</td>\n",
       "      <td>create</td>\n",
       "      <td></td>\n",
       "    </tr>\n",
       "  </tbody>\n",
       "</table>\n",
       "<p>9 rows × 21 columns</p>\n",
       "</div>"
      ],
      "text/plain": [
       "       0            1          2          3          4        5          6   \\\n",
       "0  0.063*        would   + 0.033*       good   + 0.027*     look   + 0.022*   \n",
       "1  0.046*         user   + 0.033*     server   + 0.032*      web   + 0.028*   \n",
       "2  0.071*  application   + 0.056*        run   + 0.048*  project   + 0.045*   \n",
       "3  0.154*        table   + 0.060*     column   + 0.055*      row   + 0.028*   \n",
       "4  0.049*        class   + 0.044*     object   + 0.035*     call   + 0.035*   \n",
       "5  0.117*       window   + 0.042*  interface   + 0.037*    print   + 0.036*   \n",
       "6  0.053*         test   + 0.047*    process   + 0.041*     take   + 0.033*   \n",
       "7  0.060*        value   + 0.053*       type   + 0.053*   string   + 0.051*   \n",
       "8  0.039*          use   + 0.028*       file   + 0.024*      way   + 0.020*   \n",
       "\n",
       "            7          8         9   ...         11         12       13  \\\n",
       "0      control   + 0.022*  question  ...    service   + 0.013*    think   \n",
       "1         page   + 0.026*     error  ...    message   + 0.018*   system   \n",
       "2          net   + 0.032*     build  ...    version   + 0.017*  machine   \n",
       "3  performance   + 0.027*   setting  ...        css   + 0.017*     root   \n",
       "4       method   + 0.028*  function  ...     result   + 0.015*    query   \n",
       "5        click   + 0.036*      task  ...  parameter   + 0.034*     path   \n",
       "6         tool   + 0.027*     order  ...        tag   + 0.017*   record   \n",
       "7       return   + 0.050*      name  ...     public   + 0.031*        d   \n",
       "8         work   + 0.018*      want  ...       code   + 0.017*     need   \n",
       "\n",
       "          14         15         16            17         18           19 20  \n",
       "0   + 0.013*    library   + 0.013*       request   + 0.012*    different     \n",
       "1   + 0.016*     access   + 0.016*       content   + 0.015*         site     \n",
       "2   + 0.014*    feature   + 0.013*        thread   + 0.013*  development     \n",
       "3   + 0.015*  duplicate   + 0.013*  windows_form   + 0.013*        focus     \n",
       "4   + 0.015*        log   + 0.013*       contain   + 0.013*    implement     \n",
       "5   + 0.034*     button   + 0.030*         child   + 0.017*     security     \n",
       "6   + 0.017*   software   + 0.016*        insert   + 0.015*      comment     \n",
       "7   + 0.027*        key   + 0.026*      property   + 0.025*       select     \n",
       "8   + 0.015*        set   + 0.015*           get   + 0.014*       create     \n",
       "\n",
       "[9 rows x 21 columns]"
      ]
     },
     "execution_count": 26,
     "metadata": {},
     "output_type": "execute_result"
    },
    {
     "name": "stdout",
     "output_type": "stream",
     "text": [
      "time: 73.8 ms (started: 2021-12-31 19:51:31 +01:00)\n"
     ]
    }
   ],
   "source": [
    "c = b[1].str.split('\"', expand=True)\n",
    "c"
   ]
  },
  {
   "cell_type": "code",
   "execution_count": 27,
   "metadata": {},
   "outputs": [
    {
     "name": "stdout",
     "output_type": "stream",
     "text": [
      "time: 22.4 ms (started: 2021-12-31 19:51:32 +01:00)\n"
     ]
    }
   ],
   "source": [
    "for i in range (0,21,2):\n",
    "    c.pop(i)"
   ]
  },
  {
   "cell_type": "code",
   "execution_count": 28,
   "metadata": {},
   "outputs": [
    {
     "name": "stdout",
     "output_type": "stream",
     "text": [
      "time: 19.9 ms (started: 2021-12-31 19:51:32 +01:00)\n"
     ]
    }
   ],
   "source": [
    "k=1\n",
    "for i in range (1,21,2):\n",
    "    new_col = \"Word_\" + str(k)\n",
    "    c = c.rename(columns={i: new_col})\n",
    "    k +=1"
   ]
  },
  {
   "cell_type": "markdown",
   "metadata": {},
   "source": [
    "# 7 - Result"
   ]
  },
  {
   "cell_type": "code",
   "execution_count": 29,
   "metadata": {},
   "outputs": [
    {
     "data": {
      "text/html": [
       "<div>\n",
       "<style scoped>\n",
       "    .dataframe tbody tr th:only-of-type {\n",
       "        vertical-align: middle;\n",
       "    }\n",
       "\n",
       "    .dataframe tbody tr th {\n",
       "        vertical-align: top;\n",
       "    }\n",
       "\n",
       "    .dataframe thead th {\n",
       "        text-align: right;\n",
       "    }\n",
       "</style>\n",
       "<table border=\"1\" class=\"dataframe\">\n",
       "  <thead>\n",
       "    <tr style=\"text-align: right;\">\n",
       "      <th></th>\n",
       "      <th>Word_1</th>\n",
       "      <th>Word_2</th>\n",
       "      <th>Word_3</th>\n",
       "      <th>Word_4</th>\n",
       "      <th>Word_5</th>\n",
       "      <th>Word_6</th>\n",
       "      <th>Word_7</th>\n",
       "      <th>Word_8</th>\n",
       "      <th>Word_9</th>\n",
       "      <th>Word_10</th>\n",
       "    </tr>\n",
       "    <tr>\n",
       "      <th>Topics</th>\n",
       "      <th></th>\n",
       "      <th></th>\n",
       "      <th></th>\n",
       "      <th></th>\n",
       "      <th></th>\n",
       "      <th></th>\n",
       "      <th></th>\n",
       "      <th></th>\n",
       "      <th></th>\n",
       "      <th></th>\n",
       "    </tr>\n",
       "  </thead>\n",
       "  <tbody>\n",
       "    <tr>\n",
       "      <th>Topic_1</th>\n",
       "      <td>would</td>\n",
       "      <td>good</td>\n",
       "      <td>look</td>\n",
       "      <td>control</td>\n",
       "      <td>question</td>\n",
       "      <td>service</td>\n",
       "      <td>think</td>\n",
       "      <td>library</td>\n",
       "      <td>request</td>\n",
       "      <td>different</td>\n",
       "    </tr>\n",
       "    <tr>\n",
       "      <th>Topic_2</th>\n",
       "      <td>user</td>\n",
       "      <td>server</td>\n",
       "      <td>web</td>\n",
       "      <td>page</td>\n",
       "      <td>error</td>\n",
       "      <td>message</td>\n",
       "      <td>system</td>\n",
       "      <td>access</td>\n",
       "      <td>content</td>\n",
       "      <td>site</td>\n",
       "    </tr>\n",
       "    <tr>\n",
       "      <th>Topic_3</th>\n",
       "      <td>application</td>\n",
       "      <td>run</td>\n",
       "      <td>project</td>\n",
       "      <td>net</td>\n",
       "      <td>build</td>\n",
       "      <td>version</td>\n",
       "      <td>machine</td>\n",
       "      <td>feature</td>\n",
       "      <td>thread</td>\n",
       "      <td>development</td>\n",
       "    </tr>\n",
       "    <tr>\n",
       "      <th>Topic_4</th>\n",
       "      <td>table</td>\n",
       "      <td>column</td>\n",
       "      <td>row</td>\n",
       "      <td>performance</td>\n",
       "      <td>setting</td>\n",
       "      <td>css</td>\n",
       "      <td>root</td>\n",
       "      <td>duplicate</td>\n",
       "      <td>windows_form</td>\n",
       "      <td>focus</td>\n",
       "    </tr>\n",
       "    <tr>\n",
       "      <th>Topic_5</th>\n",
       "      <td>class</td>\n",
       "      <td>object</td>\n",
       "      <td>call</td>\n",
       "      <td>method</td>\n",
       "      <td>function</td>\n",
       "      <td>result</td>\n",
       "      <td>query</td>\n",
       "      <td>log</td>\n",
       "      <td>contain</td>\n",
       "      <td>implement</td>\n",
       "    </tr>\n",
       "    <tr>\n",
       "      <th>Topic_6</th>\n",
       "      <td>window</td>\n",
       "      <td>interface</td>\n",
       "      <td>print</td>\n",
       "      <td>click</td>\n",
       "      <td>task</td>\n",
       "      <td>parameter</td>\n",
       "      <td>path</td>\n",
       "      <td>button</td>\n",
       "      <td>child</td>\n",
       "      <td>security</td>\n",
       "    </tr>\n",
       "    <tr>\n",
       "      <th>Topic_7</th>\n",
       "      <td>test</td>\n",
       "      <td>process</td>\n",
       "      <td>take</td>\n",
       "      <td>tool</td>\n",
       "      <td>order</td>\n",
       "      <td>tag</td>\n",
       "      <td>record</td>\n",
       "      <td>software</td>\n",
       "      <td>insert</td>\n",
       "      <td>comment</td>\n",
       "    </tr>\n",
       "    <tr>\n",
       "      <th>Topic_8</th>\n",
       "      <td>value</td>\n",
       "      <td>type</td>\n",
       "      <td>string</td>\n",
       "      <td>return</td>\n",
       "      <td>name</td>\n",
       "      <td>public</td>\n",
       "      <td>d</td>\n",
       "      <td>key</td>\n",
       "      <td>property</td>\n",
       "      <td>select</td>\n",
       "    </tr>\n",
       "    <tr>\n",
       "      <th>Topic_9</th>\n",
       "      <td>use</td>\n",
       "      <td>file</td>\n",
       "      <td>way</td>\n",
       "      <td>work</td>\n",
       "      <td>want</td>\n",
       "      <td>code</td>\n",
       "      <td>need</td>\n",
       "      <td>set</td>\n",
       "      <td>get</td>\n",
       "      <td>create</td>\n",
       "    </tr>\n",
       "  </tbody>\n",
       "</table>\n",
       "</div>"
      ],
      "text/plain": [
       "              Word_1     Word_2   Word_3       Word_4    Word_5     Word_6  \\\n",
       "Topics                                                                       \n",
       "Topic_1        would       good     look      control  question    service   \n",
       "Topic_2         user     server      web         page     error    message   \n",
       "Topic_3  application        run  project          net     build    version   \n",
       "Topic_4        table     column      row  performance   setting        css   \n",
       "Topic_5        class     object     call       method  function     result   \n",
       "Topic_6       window  interface    print        click      task  parameter   \n",
       "Topic_7         test    process     take         tool     order        tag   \n",
       "Topic_8        value       type   string       return      name     public   \n",
       "Topic_9          use       file      way         work      want       code   \n",
       "\n",
       "          Word_7     Word_8        Word_9      Word_10  \n",
       "Topics                                                  \n",
       "Topic_1    think    library       request    different  \n",
       "Topic_2   system     access       content         site  \n",
       "Topic_3  machine    feature        thread  development  \n",
       "Topic_4     root  duplicate  windows_form        focus  \n",
       "Topic_5    query        log       contain    implement  \n",
       "Topic_6     path     button         child     security  \n",
       "Topic_7   record   software        insert      comment  \n",
       "Topic_8        d        key      property       select  \n",
       "Topic_9     need        set           get       create  "
      ]
     },
     "execution_count": 29,
     "metadata": {},
     "output_type": "execute_result"
    },
    {
     "name": "stdout",
     "output_type": "stream",
     "text": [
      "time: 1.77 s (started: 2021-12-31 19:51:32 +01:00)\n"
     ]
    }
   ],
   "source": [
    "Topics = ['Topic_1', 'Topic_2', 'Topic_3', 'Topic_4', 'Topic_5', 'Topic_6','Topic_7', 'Topic_8', 'Topic_9']\n",
    " \n",
    "# Using 'Address' as the column name\n",
    "# and equating it to the list\n",
    "c['Topics'] = Topics\n",
    "c = c.set_index('Topics')\n",
    "c"
   ]
  },
  {
   "cell_type": "markdown",
   "metadata": {},
   "source": [
    "# 8 - Semi-SuperVisé"
   ]
  },
  {
   "cell_type": "code",
   "execution_count": 31,
   "metadata": {},
   "outputs": [
    {
     "data": {
      "text/html": [
       "<div>\n",
       "<style scoped>\n",
       "    .dataframe tbody tr th:only-of-type {\n",
       "        vertical-align: middle;\n",
       "    }\n",
       "\n",
       "    .dataframe tbody tr th {\n",
       "        vertical-align: top;\n",
       "    }\n",
       "\n",
       "    .dataframe thead th {\n",
       "        text-align: right;\n",
       "    }\n",
       "</style>\n",
       "<table border=\"1\" class=\"dataframe\">\n",
       "  <thead>\n",
       "    <tr style=\"text-align: right;\">\n",
       "      <th></th>\n",
       "      <th>Txt_Clean</th>\n",
       "      <th>Tags_Clean</th>\n",
       "    </tr>\n",
       "  </thead>\n",
       "  <tbody>\n",
       "    <tr>\n",
       "      <th>0</th>\n",
       "      <td>python metaclasses use</td>\n",
       "      <td>python oop metaclass class datamodel</td>\n",
       "    </tr>\n",
       "    <tr>\n",
       "      <th>1</th>\n",
       "      <td>good regular expression validate text string m...</td>\n",
       "      <td>c regex</td>\n",
       "    </tr>\n",
       "    <tr>\n",
       "      <th>2</th>\n",
       "      <td>two unsorted lists need produce another list s...</td>\n",
       "      <td>algorithm sort lisp list</td>\n",
       "    </tr>\n",
       "    <tr>\n",
       "      <th>3</th>\n",
       "      <td>tools like selenium good testing user interact...</td>\n",
       "      <td>test browser user interface</td>\n",
       "    </tr>\n",
       "    <tr>\n",
       "      <th>4</th>\n",
       "      <td>like know easier way insert record already exi...</td>\n",
       "      <td>c linq sql</td>\n",
       "    </tr>\n",
       "    <tr>\n",
       "      <th>...</th>\n",
       "      <td>...</td>\n",
       "      <td>...</td>\n",
       "    </tr>\n",
       "    <tr>\n",
       "      <th>38897</th>\n",
       "      <td>company perl application server ip new rule im...</td>\n",
       "      <td>mysql perl mariadb dbi</td>\n",
       "    </tr>\n",
       "    <tr>\n",
       "      <th>38898</th>\n",
       "      <td>typescript compiler compile optional chaining ...</td>\n",
       "      <td>typescript language design</td>\n",
       "    </tr>\n",
       "    <tr>\n",
       "      <th>38899</th>\n",
       "      <td>using mockk spy kotlin java class field anonym...</td>\n",
       "      <td>kotlin mockk</td>\n",
       "    </tr>\n",
       "    <tr>\n",
       "      <th>38900</th>\n",
       "      <td>hoping try cro library raku https services doc...</td>\n",
       "      <td>raku cro</td>\n",
       "    </tr>\n",
       "    <tr>\n",
       "      <th>38901</th>\n",
       "      <td>dataframe indexes numbers strings specifically...</td>\n",
       "      <td>python panda index</td>\n",
       "    </tr>\n",
       "  </tbody>\n",
       "</table>\n",
       "<p>38902 rows × 2 columns</p>\n",
       "</div>"
      ],
      "text/plain": [
       "                                               Txt_Clean  \\\n",
       "0                                 python metaclasses use   \n",
       "1      good regular expression validate text string m...   \n",
       "2      two unsorted lists need produce another list s...   \n",
       "3      tools like selenium good testing user interact...   \n",
       "4      like know easier way insert record already exi...   \n",
       "...                                                  ...   \n",
       "38897  company perl application server ip new rule im...   \n",
       "38898  typescript compiler compile optional chaining ...   \n",
       "38899  using mockk spy kotlin java class field anonym...   \n",
       "38900  hoping try cro library raku https services doc...   \n",
       "38901  dataframe indexes numbers strings specifically...   \n",
       "\n",
       "                                 Tags_Clean  \n",
       "0      python oop metaclass class datamodel  \n",
       "1                                   c regex  \n",
       "2                  algorithm sort lisp list  \n",
       "3               test browser user interface  \n",
       "4                                c linq sql  \n",
       "...                                     ...  \n",
       "38897                mysql perl mariadb dbi  \n",
       "38898            typescript language design  \n",
       "38899                          kotlin mockk  \n",
       "38900                              raku cro  \n",
       "38901                    python panda index  \n",
       "\n",
       "[38902 rows x 2 columns]"
      ]
     },
     "execution_count": 31,
     "metadata": {},
     "output_type": "execute_result"
    },
    {
     "name": "stdout",
     "output_type": "stream",
     "text": [
      "time: 385 ms (started: 2021-12-31 20:12:24 +01:00)\n"
     ]
    }
   ],
   "source": [
    "XY = pd.read_csv('/Users/soso/Desktop/IML_P5/export_clean_df.csv', dtype=str) \n",
    "XY"
   ]
  },
  {
   "cell_type": "code",
   "execution_count": 32,
   "metadata": {},
   "outputs": [
    {
     "name": "stdout",
     "output_type": "stream",
     "text": [
      "time: 95 ms (started: 2021-12-31 20:12:24 +01:00)\n"
     ]
    }
   ],
   "source": [
    "y = pd.DataFrame(XY.Tags_Clean)\n",
    "X = pd.DataFrame(XY.Txt_Clean)"
   ]
  },
  {
   "cell_type": "code",
   "execution_count": 33,
   "metadata": {},
   "outputs": [
    {
     "name": "stdout",
     "output_type": "stream",
     "text": [
      "(38902, 3439)\n",
      "time: 3.07 s (started: 2021-12-31 20:12:25 +01:00)\n"
     ]
    }
   ],
   "source": [
    "x_feat = 3439\n",
    "vetorizar = TfidfVectorizer(max_features=x_feat) \n",
    "X = pd.DataFrame(vetorizar.fit_transform(X.Txt_Clean).toarray())\n",
    "print(X.shape)"
   ]
  },
  {
   "cell_type": "code",
   "execution_count": 34,
   "metadata": {},
   "outputs": [
    {
     "name": "stdout",
     "output_type": "stream",
     "text": [
      "(38902, 100)\n",
      "time: 341 ms (started: 2021-12-31 20:12:28 +01:00)\n"
     ]
    }
   ],
   "source": [
    "from sklearn.feature_extraction.text import CountVectorizer\n",
    "y_feat = 100\n",
    "vectorizer = CountVectorizer(max_features=y_feat)\n",
    "y = pd.DataFrame(vectorizer.fit_transform(y.Tags_Clean).toarray(), columns=vectorizer.get_feature_names())\n",
    "print(y.shape)"
   ]
  },
  {
   "cell_type": "code",
   "execution_count": 44,
   "metadata": {},
   "outputs": [
    {
     "name": "stdout",
     "output_type": "stream",
     "text": [
      "time: 3min 8s (started: 2021-12-31 20:19:23 +01:00)\n"
     ]
    }
   ],
   "source": [
    "#Model\n",
    "from sklearn.decomposition import LatentDirichletAllocation as LDA\n",
    "\n",
    "model = LDA(n_components=9)\n",
    "# Fit the model to TF-IDF\n",
    "model.fit_transform(X)\n",
    "# Transform the TF-IDF: nmf_features\n",
    "lda_features = model.transform(X)"
   ]
  },
  {
   "cell_type": "code",
   "execution_count": 45,
   "metadata": {},
   "outputs": [
    {
     "name": "stdout",
     "output_type": "stream",
     "text": [
      "time: 2.54 ms (started: 2021-12-31 20:22:32 +01:00)\n"
     ]
    }
   ],
   "source": [
    "def avg_jacard(y_true,y_pred):\n",
    "    jacard = np.minimum(y_true,y_pred).sum(axis=1) / np.maximum(y_true,y_pred).sum(axis=1)    \n",
    "    return jacard.mean()*100\n",
    "\n",
    "    \n",
    "def print_score(y_pred, y_test):\n",
    "    print(\"Accuracy :\",metrics.accuracy_score(y_test,y_pred))\n",
    "    print(\"Macro f1 score :\",metrics.f1_score(y_test, y_pred, average = 'macro'))\n",
    "    print(\"Micro f1 score :\",metrics.f1_score(y_test, y_pred, average = 'micro'))\n",
    "    print(\"Jacard score: {}\".format(avg_jacard(y_test, y_pred)))\n",
    "    print(\"Hamming loss: {}\".format(metrics.hamming_loss(y_pred, y_test)*100))\n",
    "    print(\"---\")"
   ]
  },
  {
   "cell_type": "code",
   "execution_count": 46,
   "metadata": {},
   "outputs": [
    {
     "name": "stdout",
     "output_type": "stream",
     "text": [
      "(38902, 100)\n",
      "(38902, 9)\n",
      "X_train : (10000, 9)\n",
      "X_test : (10000, 9)\n",
      "y_train : (10000, 100)\n",
      "y_test : (10000, 100)\n",
      "time: 3.19 ms (started: 2021-12-31 20:22:32 +01:00)\n"
     ]
    }
   ],
   "source": [
    "lda_features_df = pd.DataFrame(lda_features)\n",
    "\n",
    "print(y.shape)\n",
    "print(lda_features_df.shape)\n",
    "\n",
    "X_train =  lda_features_df.iloc[0:10000]\n",
    "X_test =  lda_features_df.iloc[10000:20000]\n",
    "y_train = y.iloc[0:10000]\n",
    "y_test = y.iloc[10000:20000]\n",
    "\n",
    "\n",
    "print('X_train :', X_train.shape)\n",
    "print('X_test :', X_test.shape)\n",
    "print('y_train :', y_train.shape)\n",
    "print('y_test :', y_test.shape)"
   ]
  },
  {
   "cell_type": "code",
   "execution_count": 48,
   "metadata": {},
   "outputs": [
    {
     "name": "stdout",
     "output_type": "stream",
     "text": [
      "SGDClassifier(alpha=1e-05, loss='log')    21:25:23\n",
      "Accuracy : 0.1662\n",
      "Macro f1 score : 0.007473306083926854\n",
      "Micro f1 score : 0.039856801909307876\n",
      "Jacard score: 1.4721590380036431\n",
      "Hamming loss: 1.6092\n",
      "---\n",
      "LogisticRegression(max_iter=10000)    21:25:29\n",
      "Accuracy : 0.1695\n",
      "Macro f1 score : 0.004694793400363269\n",
      "Micro f1 score : 0.03649283391545225\n",
      "Jacard score: 1.2979519180767238\n",
      "Hamming loss: 1.6\n",
      "---\n",
      "ExtraTreesClassifier()    21:25:37\n",
      "Accuracy : 0.095\n",
      "Macro f1 score : 0.03558237924018305\n",
      "Micro f1 score : 0.07851974854702883\n",
      "Jacard score: 4.160572639591705\n",
      "Hamming loss: 2.3307\n",
      "---\n",
      "RandomForestClassifier(n_estimators=50, random_state=0)    21:28:09\n",
      "Accuracy : 0.1352\n",
      "Macro f1 score : 0.024201817639904206\n",
      "Micro f1 score : 0.07114126484128906\n",
      "Jacard score: 3.3790664511318265\n",
      "Hamming loss: 1.9167\n",
      "---\n",
      "LGBMClassifier()    21:31:24\n",
      "Accuracy : 0.1471\n",
      "Macro f1 score : 0.019619415193134256\n",
      "Micro f1 score : 0.05237001015336931\n",
      "Jacard score: 2.14650882513024\n",
      "Hamming loss: 1.7732999999999999\n",
      "---\n",
      "LinearSVC(class_weight='balanced', max_iter=10000)    21:32:11\n",
      "Accuracy : 0.0\n",
      "Macro f1 score : 0.07684163883762389\n",
      "Micro f1 score : 0.07068287754658845\n",
      "Jacard score: 3.850522250061552\n",
      "Hamming loss: 29.5271\n",
      "---\n",
      "time: 8min 56s (started: 2021-12-31 21:25:21 +01:00)\n"
     ]
    }
   ],
   "source": [
    "from sklearn.multiclass import OneVsRestClassifier\n",
    "from sklearn.linear_model import SGDClassifier,LogisticRegression\n",
    "from sklearn.ensemble import RandomForestClassifier,ExtraTreesClassifier\n",
    "from sklearn.ensemble import ExtraTreesClassifier\n",
    "from lightgbm import LGBMClassifier\n",
    "from sklearn.svm import LinearSVC\n",
    "from sklearn import metrics\n",
    "from datetime import datetime\n",
    "\n",
    "model_1 = SGDClassifier(alpha=1e-05, loss='log')\n",
    "model_2 = LogisticRegression(max_iter=10000)\n",
    "model_3 = ExtraTreesClassifier()\n",
    "model_4 = RandomForestClassifier(n_estimators=50, random_state=0)\n",
    "model_5 = LGBMClassifier() \n",
    "model_6 = LinearSVC(class_weight='balanced', max_iter=10000)\n",
    "\n",
    "\n",
    "print(str(model_1),'  ', datetime.now().strftime(\"%H:%M:%S\"))\n",
    "clf_1 = OneVsRestClassifier(model_1)\n",
    "clf_1.fit(X_train, y_train)\n",
    "y_pred = clf_1.predict(X_test)\n",
    "print_score(y_pred,y_test)\n",
    "\n",
    "print(str(model_2),'  ', datetime.now().strftime(\"%H:%M:%S\"))\n",
    "clf_2 = OneVsRestClassifier(model_2)\n",
    "clf_2.fit(X_train, y_train)\n",
    "y_pred = clf_2.predict(X_test)\n",
    "print_score(y_pred,y_test)\n",
    "\n",
    "print(str(model_3),'  ', datetime.now().strftime(\"%H:%M:%S\"))\n",
    "clf_3 = OneVsRestClassifier(model_3)\n",
    "clf_3.fit(X_train, y_train)\n",
    "y_pred = clf_3.predict(X_test)\n",
    "print_score(y_pred,y_test)\n",
    "\n",
    "print(str(model_4),'  ', datetime.now().strftime(\"%H:%M:%S\"))\n",
    "clf_4 = OneVsRestClassifier(model_4)\n",
    "clf_4.fit(X_train, y_train)\n",
    "y_pred = clf_4.predict(X_test)\n",
    "print_score(y_pred,y_test)\n",
    "\n",
    "print(str(model_5),'  ', datetime.now().strftime(\"%H:%M:%S\"))\n",
    "clf_5 = OneVsRestClassifier(model_5)\n",
    "clf_5.fit(X_train, y_train)\n",
    "y_pred = clf_5.predict(X_test)\n",
    "print_score(y_pred,y_test)\n",
    "\n",
    "print(str(model_6),'  ', datetime.now().strftime(\"%H:%M:%S\"))\n",
    "clf_6 = OneVsRestClassifier(model_6)\n",
    "clf_6.fit(X_train, y_train)\n",
    "y_pred = clf_6.predict(X_test)\n",
    "print_score(y_pred,y_test)\n",
    "\n"
   ]
  },
  {
   "cell_type": "code",
   "execution_count": 51,
   "metadata": {},
   "outputs": [
    {
     "name": "stdout",
     "output_type": "stream",
     "text": [
      "time: 19.1 ms (started: 2021-12-31 21:46:31 +01:00)\n"
     ]
    }
   ],
   "source": [
    "def _my_score_(idx):\n",
    "    row_pred_1 = pd.DataFrame(y_pred_df.iloc[idx])\n",
    "    row_pred_1 = row_pred_1.sort_values(by=[idx], ascending=False)\n",
    "    row_pred_2 = row_pred_1.head(3)\n",
    "    row_pred_2 = row_pred_2.reset_index()\n",
    "    row_pred_2.pop(idx)\n",
    "    row_pred_2 = row_pred_2.rename(columns={'level_0': \"Find_tag\"})\n",
    "    row_pred_val = row_pred_2.Find_tag.values\n",
    "    row_pred_val = row_pred_val.tolist()\n",
    "    len_pred_val = len(row_pred_val)\n",
    "    # ---\n",
    "    y_test_1 = pd.DataFrame(y_test).reset_index()\n",
    "    y_test_1.pop('index')\n",
    "    row_test_1 = pd.DataFrame(y_test_1.iloc[idx])\n",
    "    row_test_1 = row_test_1[row_test_1[idx] > 0]\n",
    "    row_test_1 = row_test_1.reset_index()\n",
    "    row_test_1.pop(idx)\n",
    "    row_test_1 = row_test_1.rename(columns={'index': \"Real_tag\"})\n",
    "    row_real_val = row_test_1.Real_tag.values\n",
    "    row_real_val = row_real_val.tolist()\n",
    "    len_real_val = len(row_real_val)\n",
    "    #----\n",
    "    compare = set(row_pred_val) & set(row_real_val)\n",
    "    len_compare_ok  = len(compare)\n",
    "    #----\n",
    "    row.append([len_pred_val,len_real_val,len_compare_ok])"
   ]
  },
  {
   "cell_type": "code",
   "execution_count": 52,
   "metadata": {},
   "outputs": [
    {
     "name": "stdout",
     "output_type": "stream",
     "text": [
      "OneVsRestClassifier(estimator=SGDClassifier(alpha=1e-05, loss='log'))\n",
      "My Score :  0.21952871367771312\n",
      "OneVsRestClassifier(estimator=LogisticRegression(max_iter=10000))\n",
      "My Score :  0.26434923885237055\n",
      "OneVsRestClassifier(estimator=ExtraTreesClassifier())\n",
      "My Score :  0.1535255417512706\n",
      "OneVsRestClassifier(estimator=RandomForestClassifier(n_estimators=50,\n",
      "                                                     random_state=0))\n",
      "My Score :  0.16628035699946084\n",
      "OneVsRestClassifier(estimator=LGBMClassifier())\n",
      "My Score :  0.20066077021027612\n",
      "time: 12min 20s (started: 2021-12-31 21:46:36 +01:00)\n"
     ]
    }
   ],
   "source": [
    "_len_ = y_test.shape[0]\n",
    "\n",
    "\n",
    "lst_mod = [clf_1, clf_2,clf_3,clf_4,clf_5]\n",
    "for xXx in lst_mod:\n",
    "    print(xXx)\n",
    "    y_proba_df = xXx.predict_proba(X_test)\n",
    "    y_pred_df = pd.DataFrame(y_proba_df, columns=[y.columns])\n",
    "    row = []\n",
    "    for i in range(_len_):\n",
    "        _my_score_(i)\n",
    "    eval_df = pd.DataFrame(row, columns=['Pred','Real','Match'])\n",
    "    eval_df['Eval'] = eval_df['Match'] / eval_df['Real']\n",
    "    _eval_val = eval_df.Eval.mean(axis = 0)\n",
    "\n",
    "    print('My Score : ' , _eval_val)"
   ]
  },
  {
   "cell_type": "code",
   "execution_count": null,
   "metadata": {},
   "outputs": [],
   "source": [
    "data = [[\"SGDClassifier - Semi - LDA\",0.21,0.16,0.00,0.03,1, 1.60,1],\n",
    "[\"LogisticRegression - Semi - LDA\", 0.26,0.16,0.00,0.03,1, 1.6,1],\n",
    "[\"ExtraTreesClassifier - Semi - LDA\",0.15,0.09,0.03,0.07,4,2.33,1],\n",
    "[\"RandomForestClassifier - Semi - LDA\",0.16,0.13,0.02,0.07,3,1.91,1],\n",
    "[\"LGBMClassifier - Semi - LDA\",0.20,0.14,0.01,0.05,2,1.77,1]]\n"
   ]
  }
 ],
 "metadata": {
  "kernelspec": {
   "display_name": "Python 3 (ipykernel)",
   "language": "python",
   "name": "python3"
  },
  "language_info": {
   "codemirror_mode": {
    "name": "ipython",
    "version": 3
   },
   "file_extension": ".py",
   "mimetype": "text/x-python",
   "name": "python",
   "nbconvert_exporter": "python",
   "pygments_lexer": "ipython3",
   "version": "3.8.5"
  }
 },
 "nbformat": 4,
 "nbformat_minor": 5
}
