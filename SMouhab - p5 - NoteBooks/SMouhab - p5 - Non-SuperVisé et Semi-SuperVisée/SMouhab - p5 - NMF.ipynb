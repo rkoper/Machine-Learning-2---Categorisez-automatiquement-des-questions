{
 "cells": [
  {
   "cell_type": "code",
   "execution_count": 1,
   "id": "d3a1fd20",
   "metadata": {},
   "outputs": [
    {
     "name": "stdout",
     "output_type": "stream",
     "text": [
      "time: 625 µs (started: 2021-12-31 19:20:41 +01:00)\n"
     ]
    }
   ],
   "source": [
    "%load_ext autotime"
   ]
  },
  {
   "cell_type": "code",
   "execution_count": 2,
   "id": "c917f9f8",
   "metadata": {},
   "outputs": [
    {
     "name": "stderr",
     "output_type": "stream",
     "text": [
      "/Users/soso/opt/anaconda3/lib/python3.8/site-packages/sklearn/utils/deprecation.py:143: FutureWarning: The sklearn.decomposition.nmf module is  deprecated in version 0.22 and will be removed in version 0.24. The corresponding classes / functions should instead be imported from sklearn.decomposition. Anything that cannot be imported from sklearn.decomposition is now part of the private API.\n",
      "  warnings.warn(message, FutureWarning)\n"
     ]
    },
    {
     "name": "stdout",
     "output_type": "stream",
     "text": [
      "time: 6.47 s (started: 2021-12-31 19:20:41 +01:00)\n"
     ]
    }
   ],
   "source": [
    "import logging\n",
    "import time\n",
    "from contextlib import contextmanager\n",
    "import os\n",
    "from multiprocessing import Process\n",
    "import psutil\n",
    "\n",
    "import numpy as np\n",
    "import pandas as pd\n",
    "from numpy.random import RandomState\n",
    "from sklearn import decomposition\n",
    "from sklearn.cluster import MiniBatchKMeans\n",
    "from sklearn.datasets import fetch_olivetti_faces\n",
    "from sklearn.decomposition.nmf import NMF as SklearnNmf\n",
    "from sklearn.linear_model import LogisticRegressionCV\n",
    "from sklearn.metrics import f1_score\n",
    "\n",
    "import gensim.downloader\n",
    "from gensim import matutils, utils\n",
    "from gensim.corpora import Dictionary\n",
    "from gensim.models import CoherenceModel, LdaModel, TfidfModel\n",
    "from gensim.models.basemodel import BaseTopicModel\n",
    "from gensim.models.nmf import Nmf as GensimNmf\n",
    "from gensim.parsing.preprocessing import preprocess_string\n",
    "import warnings\n",
    "warnings.simplefilter(action='ignore', category=Warning)"
   ]
  },
  {
   "cell_type": "code",
   "execution_count": 3,
   "metadata": {},
   "outputs": [
    {
     "name": "stdout",
     "output_type": "stream",
     "text": [
      "time: 3.93 s (started: 2021-12-31 19:20:48 +01:00)\n"
     ]
    }
   ],
   "source": [
    "import re\n",
    "import numpy as np\n",
    "import pandas as pd\n",
    "from pprint import pprint\n",
    "\n",
    "# Gensim\n",
    "import gensim\n",
    "import gensim.corpora as corpora\n",
    "from gensim.utils import simple_preprocess\n",
    "from gensim.models import CoherenceModel\n",
    "\n",
    "# spacy for lemmatization\n",
    "import spacy\n",
    "\n",
    "# Plotting tools\n",
    "import pyLDAvis\n",
    "import pyLDAvis.gensim  # don't skip this\n",
    "import matplotlib.pyplot as plt\n",
    "%matplotlib inline\n",
    "\n",
    "# Enable logging for gensim - optional\n",
    "import logging\n",
    "logging.basicConfig(format='%(asctime)s : %(levelname)s : %(message)s', level=logging.ERROR)\n",
    "\n",
    "import warnings\n",
    "warnings.filterwarnings(\"ignore\",category=DeprecationWarning)"
   ]
  },
  {
   "cell_type": "code",
   "execution_count": 4,
   "metadata": {},
   "outputs": [
    {
     "name": "stdout",
     "output_type": "stream",
     "text": [
      "time: 1.21 s (started: 2021-12-31 19:20:52 +01:00)\n"
     ]
    }
   ],
   "source": [
    "# NLTK Stop words\n",
    "from nltk.corpus import stopwords\n",
    "stop_words = stopwords.words('english')\n",
    "stop_words.extend(['from', 'subject', 're', 'edu', 'use', 'vs'])"
   ]
  },
  {
   "cell_type": "markdown",
   "id": "a73a7daa",
   "metadata": {},
   "source": [
    "# 1 - Import Data"
   ]
  },
  {
   "cell_type": "code",
   "execution_count": 5,
   "id": "7f0750b2",
   "metadata": {
    "scrolled": true
   },
   "outputs": [
    {
     "data": {
      "text/html": [
       "<div>\n",
       "<style scoped>\n",
       "    .dataframe tbody tr th:only-of-type {\n",
       "        vertical-align: middle;\n",
       "    }\n",
       "\n",
       "    .dataframe tbody tr th {\n",
       "        vertical-align: top;\n",
       "    }\n",
       "\n",
       "    .dataframe thead th {\n",
       "        text-align: right;\n",
       "    }\n",
       "</style>\n",
       "<table border=\"1\" class=\"dataframe\">\n",
       "  <thead>\n",
       "    <tr style=\"text-align: right;\">\n",
       "      <th></th>\n",
       "      <th>Sentence</th>\n",
       "    </tr>\n",
       "  </thead>\n",
       "  <tbody>\n",
       "    <tr>\n",
       "      <th>0</th>\n",
       "      <td>question intends technology agnostic kind web ...</td>\n",
       "    </tr>\n",
       "    <tr>\n",
       "      <th>1</th>\n",
       "      <td>python metaclasses use metaclasses python</td>\n",
       "    </tr>\n",
       "    <tr>\n",
       "      <th>2</th>\n",
       "      <td>logging lognet easy put class called log log f...</td>\n",
       "    </tr>\n",
       "    <tr>\n",
       "      <th>3</th>\n",
       "      <td>make facebook rss application autoupdates prov...</td>\n",
       "    </tr>\n",
       "    <tr>\n",
       "      <th>4</th>\n",
       "      <td>good regular expression validate text string m...</td>\n",
       "    </tr>\n",
       "    <tr>\n",
       "      <th>...</th>\n",
       "      <td>...</td>\n",
       "    </tr>\n",
       "    <tr>\n",
       "      <th>9995</th>\n",
       "      <td>one responses question asked yesterday suggest...</td>\n",
       "    </tr>\n",
       "    <tr>\n",
       "      <th>9996</th>\n",
       "      <td>building enterprise application net sql server...</td>\n",
       "    </tr>\n",
       "    <tr>\n",
       "      <th>9997</th>\n",
       "      <td>created vsto c supposed hook outlook newmailex...</td>\n",
       "    </tr>\n",
       "    <tr>\n",
       "      <th>9998</th>\n",
       "      <td>looking ideas elements user interface device m...</td>\n",
       "    </tr>\n",
       "    <tr>\n",
       "      <th>9999</th>\n",
       "      <td>need detect device resolution automatically ri...</td>\n",
       "    </tr>\n",
       "  </tbody>\n",
       "</table>\n",
       "<p>10000 rows × 1 columns</p>\n",
       "</div>"
      ],
      "text/plain": [
       "                                               Sentence\n",
       "0     question intends technology agnostic kind web ...\n",
       "1             python metaclasses use metaclasses python\n",
       "2     logging lognet easy put class called log log f...\n",
       "3     make facebook rss application autoupdates prov...\n",
       "4     good regular expression validate text string m...\n",
       "...                                                 ...\n",
       "9995  one responses question asked yesterday suggest...\n",
       "9996  building enterprise application net sql server...\n",
       "9997  created vsto c supposed hook outlook newmailex...\n",
       "9998  looking ideas elements user interface device m...\n",
       "9999  need detect device resolution automatically ri...\n",
       "\n",
       "[10000 rows x 1 columns]"
      ]
     },
     "execution_count": 5,
     "metadata": {},
     "output_type": "execute_result"
    },
    {
     "name": "stdout",
     "output_type": "stream",
     "text": [
      "time: 1.77 s (started: 2021-12-31 19:20:53 +01:00)\n"
     ]
    }
   ],
   "source": [
    "y = pd.read_csv('/Users/soso/Desktop/IML_P5/y_export_v2.csv', dtype=str) \n",
    "X = pd.read_csv('/Users/soso/Desktop/IML_P5/X_export_v2.csv', dtype=str) \n",
    "\n",
    "X = X.head(10000)\n",
    "X"
   ]
  },
  {
   "cell_type": "markdown",
   "metadata": {},
   "source": [
    "# 2 - Cleaning"
   ]
  },
  {
   "cell_type": "code",
   "execution_count": 6,
   "metadata": {},
   "outputs": [
    {
     "name": "stdout",
     "output_type": "stream",
     "text": [
      "['question intends technology agnostic kind web framework prefer pure mvc '\n",
      " 'event driven component oriented make point technology agnosticism name mvc '\n",
      " 'vs component web frameworks diverse technologies languages struts vs java '\n",
      " 'server faces tapestry new asp net mvc vs classic asp net cake php vs prado '\n",
      " 'mvc event driven component oriented web frameworks']\n",
      "time: 1.62 s (started: 2021-12-31 19:20:55 +01:00)\n"
     ]
    }
   ],
   "source": [
    "# Convert to list\n",
    "data = X.Sentence.values.tolist()\n",
    "\n",
    "# Remove Emails\n",
    "data = [re.sub('\\S*@\\S*\\s?', '', sent) for sent in data]\n",
    "\n",
    "# Remove new line characters\n",
    "data = [re.sub('\\s+', ' ', sent) for sent in data]\n",
    "\n",
    "# Remove distracting single quotes\n",
    "data = [re.sub(\"\\'\", \"\", sent) for sent in data]\n",
    "\n",
    "pprint(data[:1])"
   ]
  },
  {
   "cell_type": "code",
   "execution_count": 7,
   "metadata": {},
   "outputs": [
    {
     "name": "stdout",
     "output_type": "stream",
     "text": [
      "[['question', 'intends', 'technology', 'agnostic', 'kind', 'web', 'framework', 'prefer', 'pure', 'mvc', 'event', 'driven', 'component', 'oriented', 'make', 'point', 'technology', 'agnosticism', 'name', 'mvc', 'vs', 'component', 'web', 'frameworks', 'diverse', 'technologies', 'languages', 'struts', 'vs', 'java', 'server', 'faces', 'tapestry', 'new', 'asp', 'net', 'mvc', 'vs', 'classic', 'asp', 'net', 'cake', 'php', 'vs', 'prado', 'mvc', 'event', 'driven', 'component', 'oriented', 'web', 'frameworks']]\n",
      "time: 6.52 s (started: 2021-12-31 19:20:56 +01:00)\n"
     ]
    }
   ],
   "source": [
    "def sent_to_words(sentences):\n",
    "    for sentence in sentences:\n",
    "        yield(gensim.utils.simple_preprocess(str(sentence), deacc=True))  # deacc=True removes punctuations\n",
    "\n",
    "data_words = list(sent_to_words(data))\n",
    "\n",
    "print(data_words[:1])"
   ]
  },
  {
   "cell_type": "code",
   "execution_count": 8,
   "metadata": {},
   "outputs": [
    {
     "name": "stdout",
     "output_type": "stream",
     "text": [
      "['question', 'intends', 'technology', 'agnostic', 'kind', 'web', 'framework', 'prefer', 'pure', 'mvc', 'event', 'driven', 'component', 'oriented', 'make', 'point', 'technology', 'agnosticism', 'name', 'mvc', 'vs', 'component', 'web', 'frameworks', 'diverse', 'technologies', 'languages', 'struts', 'vs', 'java', 'server', 'faces', 'tapestry', 'new', 'asp_net_mvc', 'vs', 'classic_asp', 'net', 'cake', 'php', 'vs', 'prado', 'mvc', 'event', 'driven', 'component', 'oriented', 'web', 'frameworks']\n",
      "time: 37.2 s (started: 2021-12-31 19:21:03 +01:00)\n"
     ]
    }
   ],
   "source": [
    "# Build the bigram and trigram models\n",
    "bigram = gensim.models.Phrases(data_words, min_count=5, threshold=100) # higher threshold fewer phrases.\n",
    "trigram = gensim.models.Phrases(bigram[data_words], threshold=100)  \n",
    "\n",
    "# Faster way to get a sentence clubbed as a trigram/bigram\n",
    "bigram_mod = gensim.models.phrases.Phraser(bigram)\n",
    "trigram_mod = gensim.models.phrases.Phraser(trigram)\n",
    "\n",
    "# See trigram example\n",
    "print(trigram_mod[bigram_mod[data_words[0]]])"
   ]
  },
  {
   "cell_type": "code",
   "execution_count": 9,
   "metadata": {},
   "outputs": [
    {
     "name": "stdout",
     "output_type": "stream",
     "text": [
      "time: 3.32 ms (started: 2021-12-31 19:21:40 +01:00)\n"
     ]
    }
   ],
   "source": [
    "# Define functions for stopwords, bigrams, trigrams and lemmatization\n",
    "def remove_stopwords(texts):\n",
    "    return [[word for word in simple_preprocess(str(doc)) if word not in stop_words] for doc in texts]\n",
    "\n",
    "def make_bigrams(texts):\n",
    "    return [bigram_mod[doc] for doc in texts]\n",
    "\n",
    "def make_trigrams(texts):\n",
    "    return [trigram_mod[bigram_mod[doc]] for doc in texts]\n",
    "\n",
    "def lemmatization(texts, allowed_postags=['NOUN', 'ADJ', 'VERB', 'ADV']):\n",
    "    \"\"\"https://spacy.io/api/annotation\"\"\"\n",
    "    texts_out = []\n",
    "    for sent in texts:\n",
    "        doc = nlp(\" \".join(sent)) \n",
    "        texts_out.append([token.lemma_ for token in doc if token.pos_ in allowed_postags])\n",
    "    return texts_out"
   ]
  },
  {
   "cell_type": "code",
   "execution_count": 10,
   "metadata": {},
   "outputs": [
    {
     "name": "stdout",
     "output_type": "stream",
     "text": [
      "[['question', 'intend', 'technology', 'agnostic', 'kind', 'web', 'framework', 'prefer', 'pure', 'mvc', 'event', 'drive', 'orient', 'make', 'point', 'technology', 'agnosticism', 'name', 'framework', 'diverse', 'technology', 'language', 'strut', 'face', 'new', 'net', 'event', 'drive', 'orient', 'web', 'framework']]\n",
      "time: 2min 14s (started: 2021-12-31 19:21:40 +01:00)\n"
     ]
    }
   ],
   "source": [
    "# Remove Stop Words\n",
    "data_words_nostops = remove_stopwords(data_words)\n",
    "\n",
    "# Form Bigrams\n",
    "data_words_bigrams = make_bigrams(data_words_nostops)\n",
    "\n",
    "# Initialize spacy 'en' model, keeping only tagger component (for efficiency)\n",
    "# python3 -m spacy download en\n",
    "nlp = spacy.load('en', disable=['parser', 'ner'])\n",
    "\n",
    "# Do lemmatization keeping only noun, adj, vb, adv\n",
    "data_lemmatized = lemmatization(data_words_bigrams, allowed_postags=['NOUN', 'ADJ', 'VERB', 'ADV'])\n",
    "\n",
    "print(data_lemmatized[:1])"
   ]
  },
  {
   "cell_type": "markdown",
   "metadata": {},
   "source": [
    "# 3 - Prepare"
   ]
  },
  {
   "cell_type": "code",
   "execution_count": 11,
   "metadata": {},
   "outputs": [
    {
     "name": "stdout",
     "output_type": "stream",
     "text": [
      "[[(0, 1), (1, 1), (2, 1), (3, 2), (4, 2), (5, 1), (6, 3), (7, 1), (8, 1), (9, 1), (10, 1), (11, 1), (12, 1), (13, 1), (14, 1), (15, 2), (16, 1), (17, 1), (18, 1), (19, 1), (20, 1), (21, 3), (22, 2)]]\n",
      "time: 2.53 s (started: 2021-12-31 19:23:55 +01:00)\n"
     ]
    }
   ],
   "source": [
    "# Create Dictionary\n",
    "id2word = corpora.Dictionary(data_lemmatized)\n",
    "\n",
    "# Create Corpus\n",
    "texts = data_lemmatized\n",
    "\n",
    "# Term Document Frequency\n",
    "corpus = [id2word.doc2bow(text) for text in texts]\n",
    "\n",
    "# View\n",
    "print(corpus[:1])"
   ]
  },
  {
   "cell_type": "markdown",
   "metadata": {},
   "source": [
    "# 4 - Non-SuperVisée"
   ]
  },
  {
   "cell_type": "code",
   "execution_count": 12,
   "metadata": {},
   "outputs": [
    {
     "name": "stdout",
     "output_type": "stream",
     "text": [
      "time: 10.1 s (started: 2021-12-31 19:23:58 +01:00)\n"
     ]
    }
   ],
   "source": [
    "nmf = GensimNmf(\n",
    "    corpus=corpus,\n",
    "    num_topics=5,\n",
    "    id2word=id2word,\n",
    "    chunksize=1000,\n",
    "    passes=5,\n",
    "    eval_every=10,\n",
    "    minimum_probability=0,\n",
    "    random_state=0,\n",
    "    kappa=1,\n",
    ")"
   ]
  },
  {
   "cell_type": "code",
   "execution_count": 13,
   "metadata": {},
   "outputs": [
    {
     "data": {
      "text/plain": [
       "[(0,\n",
       "  '0.028*\"code\" + 0.014*\"function\" + 0.013*\"string\" + 0.013*\"would\" + 0.010*\"want\" + 0.008*\"work\" + 0.007*\"project\" + 0.007*\"example\" + 0.007*\"get\" + 0.007*\"make\"'),\n",
       " (1,\n",
       "  '0.105*\"file\" + 0.010*\"user\" + 0.009*\"use\" + 0.009*\"open\" + 0.008*\"server\" + 0.008*\"error\" + 0.007*\"directory\" + 0.007*\"want\" + 0.007*\"run\" + 0.007*\"change\"'),\n",
       " (2,\n",
       "  '0.042*\"class\" + 0.029*\"public\" + 0.021*\"return\" + 0.019*\"system\" + 0.017*\"error\" + 0.014*\"private\" + 0.014*\"new\" + 0.013*\"int\" + 0.012*\"value\" + 0.011*\"string\"'),\n",
       " (3,\n",
       "  '0.033*\"object\" + 0.032*\"table\" + 0.014*\"datum\" + 0.013*\"d\" + 0.013*\"name\" + 0.012*\"database\" + 0.012*\"user\" + 0.010*\"value\" + 0.010*\"use\" + 0.010*\"column\"'),\n",
       " (4,\n",
       "  '0.030*\"use\" + 0.017*\"application\" + 0.011*\"web\" + 0.011*\"server\" + 0.011*\"work\" + 0.010*\"way\" + 0.010*\"would\" + 0.008*\"window\" + 0.008*\"run\" + 0.007*\"build\"')]"
      ]
     },
     "execution_count": 13,
     "metadata": {},
     "output_type": "execute_result"
    },
    {
     "name": "stdout",
     "output_type": "stream",
     "text": [
      "time: 182 ms (started: 2021-12-31 19:24:08 +01:00)\n"
     ]
    }
   ],
   "source": [
    "nmf.show_topics()"
   ]
  },
  {
   "cell_type": "markdown",
   "metadata": {},
   "source": [
    "# 5 - Scoring"
   ]
  },
  {
   "cell_type": "code",
   "execution_count": 14,
   "metadata": {},
   "outputs": [
    {
     "data": {
      "text/plain": [
       "0.42378876538650206"
      ]
     },
     "execution_count": 14,
     "metadata": {},
     "output_type": "execute_result"
    },
    {
     "name": "stdout",
     "output_type": "stream",
     "text": [
      "time: 12.2 s (started: 2021-12-31 19:24:08 +01:00)\n"
     ]
    }
   ],
   "source": [
    "cm = CoherenceModel(\n",
    "        model=nmf,\n",
    "        texts=texts,\n",
    "        dictionary=id2word,\n",
    "        coherence='c_v'\n",
    "    )\n",
    "cm.get_coherence()"
   ]
  },
  {
   "cell_type": "code",
   "execution_count": null,
   "metadata": {},
   "outputs": [
    {
     "name": "stdout",
     "output_type": "stream",
     "text": [
      "nb topic:  2 coherence_values : 0.3898543276383245\n",
      "nb topic:  3 coherence_values : 0.4142821340203298\n"
     ]
    },
    {
     "name": "stderr",
     "output_type": "stream",
     "text": [
      "Traceback (most recent call last):\n",
      "  File \"<string>\", line 1, in <module>\n",
      "  File \"/Users/soso/opt/anaconda3/lib/python3.8/multiprocessing/spawn.py\", line 116, in spawn_main\n",
      "    exitcode = _main(fd, parent_sentinel)\n",
      "  File \"/Users/soso/opt/anaconda3/lib/python3.8/multiprocessing/spawn.py\", line 126, in _main\n",
      "    self = reduction.pickle.load(from_parent)\n",
      "  File \"/Users/soso/opt/anaconda3/lib/python3.8/site-packages/gensim/__init__.py\", line 5, in <module>\n",
      "    from gensim import parsing, corpora, matutils, interfaces, models, similarities, summarization, utils  # noqa:F401\n",
      "  File \"/Users/soso/opt/anaconda3/lib/python3.8/site-packages/gensim/parsing/__init__.py\", line 4, in <module>\n",
      "    from .preprocessing import (remove_stopwords, strip_punctuation, strip_punctuation2,  # noqa:F401\n",
      "  File \"/Users/soso/opt/anaconda3/lib/python3.8/site-packages/gensim/parsing/preprocessing.py\", line 42, in <module>\n",
      "    from gensim import utils\n",
      "  File \"/Users/soso/opt/anaconda3/lib/python3.8/site-packages/gensim/utils.py\", line 38, in <module>\n",
      "    import numpy as np\n",
      "  File \"/Users/soso/opt/anaconda3/lib/python3.8/site-packages/numpy/__init__.py\", line 140, in <module>\n",
      "    from . import core\n",
      "  File \"/Users/soso/opt/anaconda3/lib/python3.8/site-packages/numpy/core/__init__.py\", line 22, in <module>\n",
      "    from . import multiarray\n",
      "  File \"/Users/soso/opt/anaconda3/lib/python3.8/site-packages/numpy/core/multiarray.py\", line 12, in <module>\n",
      "    from . import overrides\n",
      "  File \"/Users/soso/opt/anaconda3/lib/python3.8/site-packages/numpy/core/overrides.py\", line 7, in <module>\n",
      "    from numpy.core._multiarray_umath import (\n",
      "KeyboardInterrupt\n",
      "2021-12-31 19:25:02,409 : ERROR : Internal Python error in the inspect module.\n",
      "Below is the traceback from this internal error.\n",
      "\n",
      "2021-12-31 19:25:02,580 : ERROR : Internal Python error in the inspect module.\n",
      "Below is the traceback from this internal error.\n",
      "\n"
     ]
    },
    {
     "name": "stdout",
     "output_type": "stream",
     "text": [
      "Traceback (most recent call last):\n",
      "  File \"/Users/soso/opt/anaconda3/lib/python3.8/site-packages/IPython/core/interactiveshell.py\", line 3457, in run_code\n",
      "    exec(code_obj, self.user_global_ns, self.user_ns)\n",
      "  File \"/var/folders/nk/77tzydc5271b4jt6909jb9m80000gn/T/ipykernel_5227/1447875184.py\", line 25, in <module>\n",
      "    sc_coh = cm.get_coherence()\n",
      "  File \"/Users/soso/opt/anaconda3/lib/python3.8/site-packages/gensim/models/coherencemodel.py\", line 609, in get_coherence\n",
      "    confirmed_measures = self.get_coherence_per_topic()\n",
      "  File \"/Users/soso/opt/anaconda3/lib/python3.8/site-packages/gensim/models/coherencemodel.py\", line 569, in get_coherence_per_topic\n",
      "    self.estimate_probabilities(segmented_topics)\n",
      "  File \"/Users/soso/opt/anaconda3/lib/python3.8/site-packages/gensim/models/coherencemodel.py\", line 541, in estimate_probabilities\n",
      "    self._accumulator = self.measure.prob(**kwargs)\n",
      "  File \"/Users/soso/opt/anaconda3/lib/python3.8/site-packages/gensim/topic_coherence/probability_estimation.py\", line 156, in p_boolean_sliding_window\n",
      "    return accumulator.accumulate(texts, window_size)\n",
      "  File \"/Users/soso/opt/anaconda3/lib/python3.8/site-packages/gensim/topic_coherence/text_analysis.py\", line 444, in accumulate\n",
      "    workers, input_q, output_q = self.start_workers(window_size)\n",
      "  File \"/Users/soso/opt/anaconda3/lib/python3.8/site-packages/gensim/topic_coherence/text_analysis.py\", line 478, in start_workers\n",
      "    worker.start()\n",
      "  File \"/Users/soso/opt/anaconda3/lib/python3.8/multiprocessing/process.py\", line 121, in start\n",
      "    self._popen = self._Popen(self)\n",
      "  File \"/Users/soso/opt/anaconda3/lib/python3.8/multiprocessing/context.py\", line 224, in _Popen\n",
      "    return _default_context.get_context().Process._Popen(process_obj)\n",
      "  File \"/Users/soso/opt/anaconda3/lib/python3.8/multiprocessing/context.py\", line 284, in _Popen\n",
      "    return Popen(process_obj)\n",
      "  File \"/Users/soso/opt/anaconda3/lib/python3.8/multiprocessing/popen_spawn_posix.py\", line 32, in __init__\n",
      "    super().__init__(process_obj)\n",
      "  File \"/Users/soso/opt/anaconda3/lib/python3.8/multiprocessing/popen_fork.py\", line 19, in __init__\n",
      "    self._launch(process_obj)\n",
      "  File \"/Users/soso/opt/anaconda3/lib/python3.8/multiprocessing/popen_spawn_posix.py\", line 62, in _launch\n",
      "    f.write(fp.getbuffer())\n",
      "KeyboardInterrupt\n",
      "\n",
      "During handling of the above exception, another exception occurred:\n",
      "\n",
      "Traceback (most recent call last):\n",
      "  File \"/Users/soso/opt/anaconda3/lib/python3.8/site-packages/IPython/core/interactiveshell.py\", line 2077, in showtraceback\n",
      "    stb = value._render_traceback_()\n",
      "AttributeError: 'KeyboardInterrupt' object has no attribute '_render_traceback_'\n",
      "\n",
      "During handling of the above exception, another exception occurred:\n",
      "\n",
      "Traceback (most recent call last):\n",
      "  File \"/Users/soso/opt/anaconda3/lib/python3.8/site-packages/IPython/core/ultratb.py\", line 1101, in get_records\n",
      "    return _fixed_getinnerframes(etb, number_of_lines_of_context, tb_offset)\n",
      "  File \"/Users/soso/opt/anaconda3/lib/python3.8/site-packages/IPython/core/ultratb.py\", line 248, in wrapped\n",
      "    return f(*args, **kwargs)\n",
      "  File \"/Users/soso/opt/anaconda3/lib/python3.8/site-packages/IPython/core/ultratb.py\", line 281, in _fixed_getinnerframes\n",
      "    records = fix_frame_records_filenames(inspect.getinnerframes(etb, context))\n",
      "  File \"/Users/soso/opt/anaconda3/lib/python3.8/inspect.py\", line 1503, in getinnerframes\n",
      "    frameinfo = (tb.tb_frame,) + getframeinfo(tb, context)\n",
      "  File \"/Users/soso/opt/anaconda3/lib/python3.8/inspect.py\", line 1461, in getframeinfo\n",
      "    filename = getsourcefile(frame) or getfile(frame)\n",
      "  File \"/Users/soso/opt/anaconda3/lib/python3.8/inspect.py\", line 708, in getsourcefile\n",
      "    if getattr(getmodule(object, filename), '__loader__', None) is not None:\n",
      "  File \"/Users/soso/opt/anaconda3/lib/python3.8/inspect.py\", line 754, in getmodule\n",
      "    os.path.realpath(f)] = module.__name__\n",
      "  File \"/Users/soso/opt/anaconda3/lib/python3.8/posixpath.py\", line 392, in realpath\n",
      "    return abspath(path)\n",
      "  File \"/Users/soso/opt/anaconda3/lib/python3.8/posixpath.py\", line 381, in abspath\n",
      "    return normpath(path)\n",
      "  File \"/Users/soso/opt/anaconda3/lib/python3.8/posixpath.py\", line 353, in normpath\n",
      "    path.startswith(sep*2) and not path.startswith(sep*3)):\n",
      "KeyboardInterrupt\n",
      "Traceback (most recent call last):\n",
      "  File \"/Users/soso/opt/anaconda3/lib/python3.8/site-packages/IPython/core/interactiveshell.py\", line 3457, in run_code\n",
      "    exec(code_obj, self.user_global_ns, self.user_ns)\n",
      "  File \"/var/folders/nk/77tzydc5271b4jt6909jb9m80000gn/T/ipykernel_5227/1447875184.py\", line 25, in <module>\n",
      "    sc_coh = cm.get_coherence()\n",
      "  File \"/Users/soso/opt/anaconda3/lib/python3.8/site-packages/gensim/models/coherencemodel.py\", line 609, in get_coherence\n",
      "    confirmed_measures = self.get_coherence_per_topic()\n",
      "  File \"/Users/soso/opt/anaconda3/lib/python3.8/site-packages/gensim/models/coherencemodel.py\", line 569, in get_coherence_per_topic\n",
      "    self.estimate_probabilities(segmented_topics)\n",
      "  File \"/Users/soso/opt/anaconda3/lib/python3.8/site-packages/gensim/models/coherencemodel.py\", line 541, in estimate_probabilities\n",
      "    self._accumulator = self.measure.prob(**kwargs)\n",
      "  File \"/Users/soso/opt/anaconda3/lib/python3.8/site-packages/gensim/topic_coherence/probability_estimation.py\", line 156, in p_boolean_sliding_window\n",
      "    return accumulator.accumulate(texts, window_size)\n",
      "  File \"/Users/soso/opt/anaconda3/lib/python3.8/site-packages/gensim/topic_coherence/text_analysis.py\", line 444, in accumulate\n",
      "    workers, input_q, output_q = self.start_workers(window_size)\n",
      "  File \"/Users/soso/opt/anaconda3/lib/python3.8/site-packages/gensim/topic_coherence/text_analysis.py\", line 478, in start_workers\n",
      "    worker.start()\n",
      "  File \"/Users/soso/opt/anaconda3/lib/python3.8/multiprocessing/process.py\", line 121, in start\n",
      "    self._popen = self._Popen(self)\n",
      "  File \"/Users/soso/opt/anaconda3/lib/python3.8/multiprocessing/context.py\", line 224, in _Popen\n",
      "    return _default_context.get_context().Process._Popen(process_obj)\n",
      "  File \"/Users/soso/opt/anaconda3/lib/python3.8/multiprocessing/context.py\", line 284, in _Popen\n",
      "    return Popen(process_obj)\n",
      "  File \"/Users/soso/opt/anaconda3/lib/python3.8/multiprocessing/popen_spawn_posix.py\", line 32, in __init__\n",
      "    super().__init__(process_obj)\n",
      "  File \"/Users/soso/opt/anaconda3/lib/python3.8/multiprocessing/popen_fork.py\", line 19, in __init__\n",
      "    self._launch(process_obj)\n",
      "  File \"/Users/soso/opt/anaconda3/lib/python3.8/multiprocessing/popen_spawn_posix.py\", line 62, in _launch\n",
      "    f.write(fp.getbuffer())\n",
      "KeyboardInterrupt\n",
      "\n",
      "During handling of the above exception, another exception occurred:\n",
      "\n",
      "Traceback (most recent call last):\n",
      "  File \"/Users/soso/opt/anaconda3/lib/python3.8/site-packages/IPython/core/interactiveshell.py\", line 2077, in showtraceback\n",
      "    stb = value._render_traceback_()\n",
      "AttributeError: 'KeyboardInterrupt' object has no attribute '_render_traceback_'\n",
      "\n",
      "During handling of the above exception, another exception occurred:\n",
      "\n",
      "Traceback (most recent call last):\n",
      "  File \"/Users/soso/opt/anaconda3/lib/python3.8/site-packages/IPython/core/interactiveshell.py\", line 3377, in run_ast_nodes\n",
      "    if (await self.run_code(code, result,  async_=asy)):\n",
      "  File \"/Users/soso/opt/anaconda3/lib/python3.8/site-packages/IPython/core/interactiveshell.py\", line 3474, in run_code\n",
      "    self.showtraceback(running_compiled_code=True)\n",
      "  File \"/Users/soso/opt/anaconda3/lib/python3.8/site-packages/IPython/core/interactiveshell.py\", line 2079, in showtraceback\n",
      "    stb = self.InteractiveTB.structured_traceback(etype,\n",
      "  File \"/Users/soso/opt/anaconda3/lib/python3.8/site-packages/IPython/core/ultratb.py\", line 1367, in structured_traceback\n",
      "    return FormattedTB.structured_traceback(\n",
      "  File \"/Users/soso/opt/anaconda3/lib/python3.8/site-packages/IPython/core/ultratb.py\", line 1267, in structured_traceback\n",
      "    return VerboseTB.structured_traceback(\n",
      "  File \"/Users/soso/opt/anaconda3/lib/python3.8/site-packages/IPython/core/ultratb.py\", line 1124, in structured_traceback\n",
      "    formatted_exception = self.format_exception_as_a_whole(etype, evalue, etb, number_of_lines_of_context,\n",
      "  File \"/Users/soso/opt/anaconda3/lib/python3.8/site-packages/IPython/core/ultratb.py\", line 1082, in format_exception_as_a_whole\n",
      "    last_unique, recursion_repeat = find_recursion(orig_etype, evalue, records)\n",
      "  File \"/Users/soso/opt/anaconda3/lib/python3.8/site-packages/IPython/core/ultratb.py\", line 382, in find_recursion\n",
      "    return len(records), 0\n",
      "TypeError: object of type 'NoneType' has no len()\n",
      "\n",
      "During handling of the above exception, another exception occurred:\n",
      "\n",
      "Traceback (most recent call last):\n",
      "  File \"/Users/soso/opt/anaconda3/lib/python3.8/site-packages/IPython/core/interactiveshell.py\", line 2077, in showtraceback\n",
      "    stb = value._render_traceback_()\n",
      "AttributeError: 'TypeError' object has no attribute '_render_traceback_'\n",
      "\n",
      "During handling of the above exception, another exception occurred:\n",
      "\n",
      "Traceback (most recent call last):\n",
      "  File \"/Users/soso/opt/anaconda3/lib/python3.8/site-packages/IPython/core/ultratb.py\", line 1101, in get_records\n",
      "    return _fixed_getinnerframes(etb, number_of_lines_of_context, tb_offset)\n",
      "  File \"/Users/soso/opt/anaconda3/lib/python3.8/site-packages/IPython/core/ultratb.py\", line 248, in wrapped\n",
      "    return f(*args, **kwargs)\n",
      "  File \"/Users/soso/opt/anaconda3/lib/python3.8/site-packages/IPython/core/ultratb.py\", line 281, in _fixed_getinnerframes\n",
      "    records = fix_frame_records_filenames(inspect.getinnerframes(etb, context))\n",
      "  File \"/Users/soso/opt/anaconda3/lib/python3.8/inspect.py\", line 1503, in getinnerframes\n",
      "    frameinfo = (tb.tb_frame,) + getframeinfo(tb, context)\n",
      "  File \"/Users/soso/opt/anaconda3/lib/python3.8/inspect.py\", line 1461, in getframeinfo\n",
      "    filename = getsourcefile(frame) or getfile(frame)\n",
      "  File \"/Users/soso/opt/anaconda3/lib/python3.8/inspect.py\", line 708, in getsourcefile\n",
      "    if getattr(getmodule(object, filename), '__loader__', None) is not None:\n",
      "  File \"/Users/soso/opt/anaconda3/lib/python3.8/inspect.py\", line 754, in getmodule\n",
      "    os.path.realpath(f)] = module.__name__\n",
      "  File \"/Users/soso/opt/anaconda3/lib/python3.8/posixpath.py\", line 391, in realpath\n",
      "    path, ok = _joinrealpath(filename[:0], filename, {})\n",
      "  File \"/Users/soso/opt/anaconda3/lib/python3.8/posixpath.py\", line 425, in _joinrealpath\n",
      "    if not islink(newpath):\n",
      "  File \"/Users/soso/opt/anaconda3/lib/python3.8/posixpath.py\", line 167, in islink\n",
      "    st = os.lstat(path)\n",
      "KeyboardInterrupt\n"
     ]
    },
    {
     "name": "stderr",
     "output_type": "stream",
     "text": [
      "2021-12-31 19:25:02,772 : ERROR : Internal Python error in the inspect module.\n",
      "Below is the traceback from this internal error.\n",
      "\n"
     ]
    },
    {
     "name": "stdout",
     "output_type": "stream",
     "text": [
      "Traceback (most recent call last):\n",
      "  File \"/Users/soso/opt/anaconda3/lib/python3.8/site-packages/IPython/core/interactiveshell.py\", line 3457, in run_code\n",
      "    exec(code_obj, self.user_global_ns, self.user_ns)\n",
      "  File \"/var/folders/nk/77tzydc5271b4jt6909jb9m80000gn/T/ipykernel_5227/1447875184.py\", line 25, in <module>\n",
      "    sc_coh = cm.get_coherence()\n",
      "  File \"/Users/soso/opt/anaconda3/lib/python3.8/site-packages/gensim/models/coherencemodel.py\", line 609, in get_coherence\n",
      "    confirmed_measures = self.get_coherence_per_topic()\n",
      "  File \"/Users/soso/opt/anaconda3/lib/python3.8/site-packages/gensim/models/coherencemodel.py\", line 569, in get_coherence_per_topic\n",
      "    self.estimate_probabilities(segmented_topics)\n",
      "  File \"/Users/soso/opt/anaconda3/lib/python3.8/site-packages/gensim/models/coherencemodel.py\", line 541, in estimate_probabilities\n",
      "    self._accumulator = self.measure.prob(**kwargs)\n",
      "  File \"/Users/soso/opt/anaconda3/lib/python3.8/site-packages/gensim/topic_coherence/probability_estimation.py\", line 156, in p_boolean_sliding_window\n",
      "    return accumulator.accumulate(texts, window_size)\n",
      "  File \"/Users/soso/opt/anaconda3/lib/python3.8/site-packages/gensim/topic_coherence/text_analysis.py\", line 444, in accumulate\n",
      "    workers, input_q, output_q = self.start_workers(window_size)\n",
      "  File \"/Users/soso/opt/anaconda3/lib/python3.8/site-packages/gensim/topic_coherence/text_analysis.py\", line 478, in start_workers\n",
      "    worker.start()\n",
      "  File \"/Users/soso/opt/anaconda3/lib/python3.8/multiprocessing/process.py\", line 121, in start\n",
      "    self._popen = self._Popen(self)\n",
      "  File \"/Users/soso/opt/anaconda3/lib/python3.8/multiprocessing/context.py\", line 224, in _Popen\n",
      "    return _default_context.get_context().Process._Popen(process_obj)\n",
      "  File \"/Users/soso/opt/anaconda3/lib/python3.8/multiprocessing/context.py\", line 284, in _Popen\n",
      "    return Popen(process_obj)\n",
      "  File \"/Users/soso/opt/anaconda3/lib/python3.8/multiprocessing/popen_spawn_posix.py\", line 32, in __init__\n",
      "    super().__init__(process_obj)\n",
      "  File \"/Users/soso/opt/anaconda3/lib/python3.8/multiprocessing/popen_fork.py\", line 19, in __init__\n",
      "    self._launch(process_obj)\n",
      "  File \"/Users/soso/opt/anaconda3/lib/python3.8/multiprocessing/popen_spawn_posix.py\", line 62, in _launch\n",
      "    f.write(fp.getbuffer())\n",
      "KeyboardInterrupt\n",
      "\n",
      "During handling of the above exception, another exception occurred:\n",
      "\n",
      "Traceback (most recent call last):\n",
      "  File \"/Users/soso/opt/anaconda3/lib/python3.8/site-packages/IPython/core/interactiveshell.py\", line 2077, in showtraceback\n",
      "    stb = value._render_traceback_()\n",
      "AttributeError: 'KeyboardInterrupt' object has no attribute '_render_traceback_'\n",
      "\n",
      "During handling of the above exception, another exception occurred:\n",
      "\n",
      "Traceback (most recent call last):\n",
      "  File \"/Users/soso/opt/anaconda3/lib/python3.8/site-packages/IPython/core/interactiveshell.py\", line 3377, in run_ast_nodes\n",
      "    if (await self.run_code(code, result,  async_=asy)):\n",
      "  File \"/Users/soso/opt/anaconda3/lib/python3.8/site-packages/IPython/core/interactiveshell.py\", line 3474, in run_code\n",
      "    self.showtraceback(running_compiled_code=True)\n",
      "  File \"/Users/soso/opt/anaconda3/lib/python3.8/site-packages/IPython/core/interactiveshell.py\", line 2079, in showtraceback\n",
      "    stb = self.InteractiveTB.structured_traceback(etype,\n",
      "  File \"/Users/soso/opt/anaconda3/lib/python3.8/site-packages/IPython/core/ultratb.py\", line 1367, in structured_traceback\n",
      "    return FormattedTB.structured_traceback(\n",
      "  File \"/Users/soso/opt/anaconda3/lib/python3.8/site-packages/IPython/core/ultratb.py\", line 1267, in structured_traceback\n",
      "    return VerboseTB.structured_traceback(\n",
      "  File \"/Users/soso/opt/anaconda3/lib/python3.8/site-packages/IPython/core/ultratb.py\", line 1124, in structured_traceback\n",
      "    formatted_exception = self.format_exception_as_a_whole(etype, evalue, etb, number_of_lines_of_context,\n",
      "  File \"/Users/soso/opt/anaconda3/lib/python3.8/site-packages/IPython/core/ultratb.py\", line 1082, in format_exception_as_a_whole\n",
      "    last_unique, recursion_repeat = find_recursion(orig_etype, evalue, records)\n",
      "  File \"/Users/soso/opt/anaconda3/lib/python3.8/site-packages/IPython/core/ultratb.py\", line 382, in find_recursion\n",
      "    return len(records), 0\n",
      "TypeError: object of type 'NoneType' has no len()\n",
      "\n",
      "During handling of the above exception, another exception occurred:\n",
      "\n",
      "Traceback (most recent call last):\n",
      "  File \"/Users/soso/opt/anaconda3/lib/python3.8/site-packages/IPython/core/interactiveshell.py\", line 2077, in showtraceback\n",
      "    stb = value._render_traceback_()\n",
      "AttributeError: 'TypeError' object has no attribute '_render_traceback_'\n",
      "\n",
      "During handling of the above exception, another exception occurred:\n",
      "\n",
      "Traceback (most recent call last):\n",
      "  File \"/Users/soso/opt/anaconda3/lib/python3.8/site-packages/IPython/core/interactiveshell.py\", line 2960, in _run_cell\n",
      "    return runner(coro)\n",
      "  File \"/Users/soso/opt/anaconda3/lib/python3.8/site-packages/IPython/core/async_helpers.py\", line 78, in _pseudo_sync_runner\n",
      "    coro.send(None)\n",
      "  File \"/Users/soso/opt/anaconda3/lib/python3.8/site-packages/IPython/core/interactiveshell.py\", line 3185, in run_cell_async\n",
      "    has_raised = await self.run_ast_nodes(code_ast.body, cell_name,\n",
      "  File \"/Users/soso/opt/anaconda3/lib/python3.8/site-packages/IPython/core/interactiveshell.py\", line 3396, in run_ast_nodes\n",
      "    self.showtraceback()\n",
      "  File \"/Users/soso/opt/anaconda3/lib/python3.8/site-packages/IPython/core/interactiveshell.py\", line 2079, in showtraceback\n",
      "    stb = self.InteractiveTB.structured_traceback(etype,\n",
      "  File \"/Users/soso/opt/anaconda3/lib/python3.8/site-packages/IPython/core/ultratb.py\", line 1367, in structured_traceback\n",
      "    return FormattedTB.structured_traceback(\n",
      "  File \"/Users/soso/opt/anaconda3/lib/python3.8/site-packages/IPython/core/ultratb.py\", line 1267, in structured_traceback\n",
      "    return VerboseTB.structured_traceback(\n",
      "  File \"/Users/soso/opt/anaconda3/lib/python3.8/site-packages/IPython/core/ultratb.py\", line 1142, in structured_traceback\n",
      "    formatted_exceptions += self.format_exception_as_a_whole(etype, evalue, etb, lines_of_context,\n",
      "  File \"/Users/soso/opt/anaconda3/lib/python3.8/site-packages/IPython/core/ultratb.py\", line 1082, in format_exception_as_a_whole\n",
      "    last_unique, recursion_repeat = find_recursion(orig_etype, evalue, records)\n",
      "  File \"/Users/soso/opt/anaconda3/lib/python3.8/site-packages/IPython/core/ultratb.py\", line 382, in find_recursion\n",
      "    return len(records), 0\n",
      "TypeError: object of type 'NoneType' has no len()\n",
      "\n",
      "During handling of the above exception, another exception occurred:\n",
      "\n",
      "Traceback (most recent call last):\n",
      "  File \"/Users/soso/opt/anaconda3/lib/python3.8/site-packages/IPython/core/interactiveshell.py\", line 2077, in showtraceback\n",
      "    stb = value._render_traceback_()\n",
      "AttributeError: 'TypeError' object has no attribute '_render_traceback_'\n",
      "\n",
      "During handling of the above exception, another exception occurred:\n",
      "\n",
      "Traceback (most recent call last):\n",
      "  File \"/Users/soso/opt/anaconda3/lib/python3.8/site-packages/IPython/core/ultratb.py\", line 1101, in get_records\n",
      "    return _fixed_getinnerframes(etb, number_of_lines_of_context, tb_offset)\n",
      "  File \"/Users/soso/opt/anaconda3/lib/python3.8/site-packages/IPython/core/ultratb.py\", line 248, in wrapped\n",
      "    return f(*args, **kwargs)\n",
      "  File \"/Users/soso/opt/anaconda3/lib/python3.8/site-packages/IPython/core/ultratb.py\", line 281, in _fixed_getinnerframes\n",
      "    records = fix_frame_records_filenames(inspect.getinnerframes(etb, context))\n",
      "  File \"/Users/soso/opt/anaconda3/lib/python3.8/inspect.py\", line 1503, in getinnerframes\n",
      "    frameinfo = (tb.tb_frame,) + getframeinfo(tb, context)\n",
      "  File \"/Users/soso/opt/anaconda3/lib/python3.8/inspect.py\", line 1461, in getframeinfo\n",
      "    filename = getsourcefile(frame) or getfile(frame)\n",
      "  File \"/Users/soso/opt/anaconda3/lib/python3.8/inspect.py\", line 708, in getsourcefile\n",
      "    if getattr(getmodule(object, filename), '__loader__', None) is not None:\n",
      "  File \"/Users/soso/opt/anaconda3/lib/python3.8/inspect.py\", line 754, in getmodule\n",
      "    os.path.realpath(f)] = module.__name__\n",
      "  File \"/Users/soso/opt/anaconda3/lib/python3.8/posixpath.py\", line 391, in realpath\n",
      "    path, ok = _joinrealpath(filename[:0], filename, {})\n",
      "  File \"/Users/soso/opt/anaconda3/lib/python3.8/posixpath.py\", line 424, in _joinrealpath\n",
      "    newpath = join(path, name)\n",
      "  File \"/Users/soso/opt/anaconda3/lib/python3.8/posixpath.py\", line 82, in join\n",
      "    for b in map(os.fspath, p):\n",
      "KeyboardInterrupt\n",
      "time: 42 s (started: 2021-12-31 19:24:20 +01:00)\n"
     ]
    }
   ],
   "source": [
    "coherence_values = []\n",
    "\n",
    "\n",
    "\n",
    "\n",
    "for i in range(2,20,1):\n",
    "    nmf = GensimNmf(\n",
    "        corpus=corpus,\n",
    "        num_topics=i,\n",
    "        id2word=id2word,\n",
    "        chunksize=1000,\n",
    "        passes=5,\n",
    "        eval_every=10,\n",
    "        minimum_probability=0,\n",
    "        random_state=0,\n",
    "        kappa=1,\n",
    "    )\n",
    "    \n",
    "    cm = CoherenceModel(\n",
    "            model=nmf,\n",
    "            texts=texts,\n",
    "            dictionary=id2word,\n",
    "            coherence='c_v'\n",
    "        )\n",
    "    sc_coh = cm.get_coherence()\n",
    "    coherence_values.append([i, sc_coh])\n",
    "    print('nb topic: ', i , 'coherence_values :' , sc_coh)\n",
    "\n"
   ]
  },
  {
   "cell_type": "code",
   "execution_count": 24,
   "metadata": {},
   "outputs": [
    {
     "data": {
      "text/html": [
       "<div>\n",
       "<style scoped>\n",
       "    .dataframe tbody tr th:only-of-type {\n",
       "        vertical-align: middle;\n",
       "    }\n",
       "\n",
       "    .dataframe tbody tr th {\n",
       "        vertical-align: top;\n",
       "    }\n",
       "\n",
       "    .dataframe thead th {\n",
       "        text-align: right;\n",
       "    }\n",
       "</style>\n",
       "<table border=\"1\" class=\"dataframe\">\n",
       "  <thead>\n",
       "    <tr style=\"text-align: right;\">\n",
       "      <th></th>\n",
       "      <th>Nb Topics</th>\n",
       "      <th>Coherance_Score</th>\n",
       "    </tr>\n",
       "  </thead>\n",
       "  <tbody>\n",
       "    <tr>\n",
       "      <th>0</th>\n",
       "      <td>2</td>\n",
       "      <td>0.389854</td>\n",
       "    </tr>\n",
       "    <tr>\n",
       "      <th>1</th>\n",
       "      <td>3</td>\n",
       "      <td>0.445199</td>\n",
       "    </tr>\n",
       "    <tr>\n",
       "      <th>2</th>\n",
       "      <td>4</td>\n",
       "      <td>0.423859</td>\n",
       "    </tr>\n",
       "    <tr>\n",
       "      <th>3</th>\n",
       "      <td>5</td>\n",
       "      <td>0.423789</td>\n",
       "    </tr>\n",
       "    <tr>\n",
       "      <th>4</th>\n",
       "      <td>6</td>\n",
       "      <td>0.447669</td>\n",
       "    </tr>\n",
       "    <tr>\n",
       "      <th>5</th>\n",
       "      <td>7</td>\n",
       "      <td>0.442041</td>\n",
       "    </tr>\n",
       "    <tr>\n",
       "      <th>6</th>\n",
       "      <td>8</td>\n",
       "      <td>0.447530</td>\n",
       "    </tr>\n",
       "    <tr>\n",
       "      <th>7</th>\n",
       "      <td>9</td>\n",
       "      <td>0.434703</td>\n",
       "    </tr>\n",
       "    <tr>\n",
       "      <th>8</th>\n",
       "      <td>10</td>\n",
       "      <td>0.414472</td>\n",
       "    </tr>\n",
       "    <tr>\n",
       "      <th>9</th>\n",
       "      <td>11</td>\n",
       "      <td>0.431843</td>\n",
       "    </tr>\n",
       "    <tr>\n",
       "      <th>10</th>\n",
       "      <td>12</td>\n",
       "      <td>0.445699</td>\n",
       "    </tr>\n",
       "    <tr>\n",
       "      <th>11</th>\n",
       "      <td>13</td>\n",
       "      <td>0.423750</td>\n",
       "    </tr>\n",
       "    <tr>\n",
       "      <th>12</th>\n",
       "      <td>14</td>\n",
       "      <td>0.415585</td>\n",
       "    </tr>\n",
       "    <tr>\n",
       "      <th>13</th>\n",
       "      <td>15</td>\n",
       "      <td>0.443043</td>\n",
       "    </tr>\n",
       "    <tr>\n",
       "      <th>14</th>\n",
       "      <td>16</td>\n",
       "      <td>0.422981</td>\n",
       "    </tr>\n",
       "    <tr>\n",
       "      <th>15</th>\n",
       "      <td>17</td>\n",
       "      <td>0.442008</td>\n",
       "    </tr>\n",
       "    <tr>\n",
       "      <th>16</th>\n",
       "      <td>18</td>\n",
       "      <td>0.422020</td>\n",
       "    </tr>\n",
       "    <tr>\n",
       "      <th>17</th>\n",
       "      <td>19</td>\n",
       "      <td>0.429249</td>\n",
       "    </tr>\n",
       "  </tbody>\n",
       "</table>\n",
       "</div>"
      ],
      "text/plain": [
       "    Nb Topics  Coherance_Score\n",
       "0           2         0.389854\n",
       "1           3         0.445199\n",
       "2           4         0.423859\n",
       "3           5         0.423789\n",
       "4           6         0.447669\n",
       "5           7         0.442041\n",
       "6           8         0.447530\n",
       "7           9         0.434703\n",
       "8          10         0.414472\n",
       "9          11         0.431843\n",
       "10         12         0.445699\n",
       "11         13         0.423750\n",
       "12         14         0.415585\n",
       "13         15         0.443043\n",
       "14         16         0.422981\n",
       "15         17         0.442008\n",
       "16         18         0.422020\n",
       "17         19         0.429249"
      ]
     },
     "execution_count": 24,
     "metadata": {},
     "output_type": "execute_result"
    },
    {
     "name": "stdout",
     "output_type": "stream",
     "text": [
      "time: 24.5 ms (started: 2021-12-31 19:25:15 +01:00)\n"
     ]
    }
   ],
   "source": [
    "data =[[2 , 0.3898543276383245],\n",
    "[3 , 0.44519887031885624],\n",
    "[4 , 0.42385926690509124],\n",
    "[5 , 0.42378876538650206],\n",
    "[6 , 0.4476689521785137],\n",
    "[7 , 0.44204125648982523],\n",
    "[8 , 0.44753046805684943],\n",
    "[9 , 0.43470293169319213],\n",
    "[10,  0.4144717495297610],\n",
    "[11,  0.4318431219708264],\n",
    "[12,  0.4456987105970827],\n",
    "[13,  0.4237495596567114],\n",
    "[14,  0.4155854954080072],\n",
    "[15,  0.4430434570962982],\n",
    "[16,  0.4229805071764896],\n",
    "[17,  0.4420075004198107],\n",
    "[18,  0.4220200164348506],\n",
    "[19,  0.429249256537426]]\n",
    "\n",
    "\n",
    "df = pd.DataFrame(data)\n",
    "df = df.rename(columns={0: \"Nb Topics\", 1: \"Coherance_Score\"})\n",
    "df"
   ]
  },
  {
   "cell_type": "markdown",
   "metadata": {},
   "source": [
    "# 6 - Visualisation"
   ]
  },
  {
   "cell_type": "code",
   "execution_count": 25,
   "metadata": {},
   "outputs": [
    {
     "data": {
      "image/png": "[encoded data removed]",
      "text/plain": [
       "<Figure size 1080x504 with 1 Axes>"
      ]
     },
     "metadata": {
      "needs_background": "light"
     },
     "output_type": "display_data"
    },
    {
     "name": "stdout",
     "output_type": "stream",
     "text": [
      "time: 447 ms (started: 2021-12-31 19:25:15 +01:00)\n"
     ]
    }
   ],
   "source": [
    "plt.figure(figsize=(15,7))\n",
    "plt.plot(df.Coherance_Score)\n",
    "plt.ylabel('Coherence score')\n",
    "plt.xlabel('Num Topics')\n",
    "plt.title('NMF - Coherence score')\n",
    "plt.show()"
   ]
  },
  {
   "cell_type": "markdown",
   "metadata": {},
   "source": [
    "## 6.1 - Best Model"
   ]
  },
  {
   "cell_type": "code",
   "execution_count": 31,
   "metadata": {},
   "outputs": [
    {
     "name": "stdout",
     "output_type": "stream",
     "text": [
      "time: 11.2 s (started: 2021-12-31 19:27:47 +01:00)\n"
     ]
    }
   ],
   "source": [
    "# Best 6 topics\n",
    "\n",
    "\n",
    "\n",
    "nmf = GensimNmf(\n",
    "    corpus=corpus,\n",
    "    num_topics=6,\n",
    "    id2word=id2word,\n",
    "    chunksize=1000,\n",
    "    passes=5,\n",
    "    eval_every=10,\n",
    "    minimum_probability=0,\n",
    "    random_state=0,\n",
    "    kappa=1,\n",
    ")"
   ]
  },
  {
   "cell_type": "markdown",
   "metadata": {},
   "source": [
    "# 7 - Result"
   ]
  },
  {
   "cell_type": "code",
   "execution_count": 36,
   "metadata": {},
   "outputs": [
    {
     "data": {
      "text/html": [
       "<div>\n",
       "<style scoped>\n",
       "    .dataframe tbody tr th:only-of-type {\n",
       "        vertical-align: middle;\n",
       "    }\n",
       "\n",
       "    .dataframe tbody tr th {\n",
       "        vertical-align: top;\n",
       "    }\n",
       "\n",
       "    .dataframe thead th {\n",
       "        text-align: right;\n",
       "    }\n",
       "</style>\n",
       "<table border=\"1\" class=\"dataframe\">\n",
       "  <thead>\n",
       "    <tr style=\"text-align: right;\">\n",
       "      <th></th>\n",
       "      <th>Word_1</th>\n",
       "      <th>Word_2</th>\n",
       "      <th>Word_3</th>\n",
       "      <th>Word_4</th>\n",
       "      <th>Word_5</th>\n",
       "      <th>Word_6</th>\n",
       "      <th>Word_7</th>\n",
       "      <th>Word_8</th>\n",
       "      <th>Word_9</th>\n",
       "      <th>Word_10</th>\n",
       "    </tr>\n",
       "    <tr>\n",
       "      <th>Topics</th>\n",
       "      <th></th>\n",
       "      <th></th>\n",
       "      <th></th>\n",
       "      <th></th>\n",
       "      <th></th>\n",
       "      <th></th>\n",
       "      <th></th>\n",
       "      <th></th>\n",
       "      <th></th>\n",
       "      <th></th>\n",
       "    </tr>\n",
       "  </thead>\n",
       "  <tbody>\n",
       "    <tr>\n",
       "      <th>Topic_1</th>\n",
       "      <td>class</td>\n",
       "      <td>object</td>\n",
       "      <td>public</td>\n",
       "      <td>return</td>\n",
       "      <td>method</td>\n",
       "      <td>code</td>\n",
       "      <td>private</td>\n",
       "      <td>function</td>\n",
       "      <td>string</td>\n",
       "      <td>call</td>\n",
       "    </tr>\n",
       "    <tr>\n",
       "      <th>Topic_2</th>\n",
       "      <td>use</td>\n",
       "      <td>run</td>\n",
       "      <td>work</td>\n",
       "      <td>code</td>\n",
       "      <td>server</td>\n",
       "      <td>test</td>\n",
       "      <td>try</td>\n",
       "      <td>project</td>\n",
       "      <td>application</td>\n",
       "      <td>get</td>\n",
       "    </tr>\n",
       "    <tr>\n",
       "      <th>Topic_3</th>\n",
       "      <td>user</td>\n",
       "      <td>would</td>\n",
       "      <td>way</td>\n",
       "      <td>want</td>\n",
       "      <td>good</td>\n",
       "      <td>page</td>\n",
       "      <td>control</td>\n",
       "      <td>application</td>\n",
       "      <td>need</td>\n",
       "      <td>list</td>\n",
       "    </tr>\n",
       "    <tr>\n",
       "      <th>Topic_4</th>\n",
       "      <td>table</td>\n",
       "      <td>database</td>\n",
       "      <td>row</td>\n",
       "      <td>d</td>\n",
       "      <td>column</td>\n",
       "      <td>datum</td>\n",
       "      <td>record</td>\n",
       "      <td>select</td>\n",
       "      <td>query</td>\n",
       "      <td>value</td>\n",
       "    </tr>\n",
       "    <tr>\n",
       "      <th>Topic_5</th>\n",
       "      <td>file</td>\n",
       "      <td>project</td>\n",
       "      <td>use</td>\n",
       "      <td>open</td>\n",
       "      <td>want</td>\n",
       "      <td>directory</td>\n",
       "      <td>way</td>\n",
       "      <td>read</td>\n",
       "      <td>line</td>\n",
       "      <td>include</td>\n",
       "    </tr>\n",
       "    <tr>\n",
       "      <th>Topic_6</th>\n",
       "      <td>name</td>\n",
       "      <td>value</td>\n",
       "      <td>false</td>\n",
       "      <td>type</td>\n",
       "      <td>error</td>\n",
       "      <td>system</td>\n",
       "      <td>web</td>\n",
       "      <td>property</td>\n",
       "      <td>new</td>\n",
       "      <td>right</td>\n",
       "    </tr>\n",
       "  </tbody>\n",
       "</table>\n",
       "</div>"
      ],
      "text/plain": [
       "        Word_1    Word_2  Word_3  Word_4  Word_5     Word_6   Word_7  \\\n",
       "Topics                                                                 \n",
       "Topic_1  class    object  public  return  method       code  private   \n",
       "Topic_2    use       run    work    code  server       test      try   \n",
       "Topic_3   user     would     way    want    good       page  control   \n",
       "Topic_4  table  database     row       d  column      datum   record   \n",
       "Topic_5   file   project     use    open    want  directory      way   \n",
       "Topic_6   name     value   false    type   error     system      web   \n",
       "\n",
       "              Word_8       Word_9  Word_10  \n",
       "Topics                                      \n",
       "Topic_1     function       string     call  \n",
       "Topic_2      project  application      get  \n",
       "Topic_3  application         need     list  \n",
       "Topic_4       select        query    value  \n",
       "Topic_5         read         line  include  \n",
       "Topic_6     property          new    right  "
      ]
     },
     "execution_count": 36,
     "metadata": {},
     "output_type": "execute_result"
    },
    {
     "name": "stdout",
     "output_type": "stream",
     "text": [
      "time: 191 ms (started: 2021-12-31 19:29:58 +01:00)\n"
     ]
    }
   ],
   "source": [
    "a = nmf.show_topics()\n",
    "b = pd.DataFrame(a)\n",
    "c = b[1].str.split('\"', expand=True)\n",
    "for i in range (0,21,2):\n",
    "    c.pop(i)\n",
    "k=1\n",
    "for i in range (1,21,2):\n",
    "    new_col = \"Word_\" + str(k)\n",
    "    c = c.rename(columns={i: new_col})\n",
    "    k +=1\n",
    "Topics = ['Topic_1', 'Topic_2', 'Topic_3', 'Topic_4', 'Topic_5', 'Topic_6']\n",
    " \n",
    "# Using 'Address' as the column name\n",
    "# and equating it to the list\n",
    "c['Topics'] = Topics\n",
    "c = c.set_index('Topics')\n",
    "c"
   ]
  },
  {
   "cell_type": "markdown",
   "metadata": {},
   "source": [
    "# Semi-SuperVisé"
   ]
  },
  {
   "cell_type": "code",
   "execution_count": 93,
   "metadata": {},
   "outputs": [
    {
     "data": {
      "text/html": [
       "<div>\n",
       "<style scoped>\n",
       "    .dataframe tbody tr th:only-of-type {\n",
       "        vertical-align: middle;\n",
       "    }\n",
       "\n",
       "    .dataframe tbody tr th {\n",
       "        vertical-align: top;\n",
       "    }\n",
       "\n",
       "    .dataframe thead th {\n",
       "        text-align: right;\n",
       "    }\n",
       "</style>\n",
       "<table border=\"1\" class=\"dataframe\">\n",
       "  <thead>\n",
       "    <tr style=\"text-align: right;\">\n",
       "      <th></th>\n",
       "      <th>Txt_Clean</th>\n",
       "      <th>Tags_Clean</th>\n",
       "    </tr>\n",
       "  </thead>\n",
       "  <tbody>\n",
       "    <tr>\n",
       "      <th>0</th>\n",
       "      <td>python metaclasses use</td>\n",
       "      <td>python oop metaclass class datamodel</td>\n",
       "    </tr>\n",
       "    <tr>\n",
       "      <th>1</th>\n",
       "      <td>good regular expression validate text string m...</td>\n",
       "      <td>c regex</td>\n",
       "    </tr>\n",
       "    <tr>\n",
       "      <th>2</th>\n",
       "      <td>two unsorted lists need produce another list s...</td>\n",
       "      <td>algorithm sort lisp list</td>\n",
       "    </tr>\n",
       "    <tr>\n",
       "      <th>3</th>\n",
       "      <td>tools like selenium good testing user interact...</td>\n",
       "      <td>test browser user interface</td>\n",
       "    </tr>\n",
       "    <tr>\n",
       "      <th>4</th>\n",
       "      <td>like know easier way insert record already exi...</td>\n",
       "      <td>c linq sql</td>\n",
       "    </tr>\n",
       "    <tr>\n",
       "      <th>...</th>\n",
       "      <td>...</td>\n",
       "      <td>...</td>\n",
       "    </tr>\n",
       "    <tr>\n",
       "      <th>38897</th>\n",
       "      <td>company perl application server ip new rule im...</td>\n",
       "      <td>mysql perl mariadb dbi</td>\n",
       "    </tr>\n",
       "    <tr>\n",
       "      <th>38898</th>\n",
       "      <td>typescript compiler compile optional chaining ...</td>\n",
       "      <td>typescript language design</td>\n",
       "    </tr>\n",
       "    <tr>\n",
       "      <th>38899</th>\n",
       "      <td>using mockk spy kotlin java class field anonym...</td>\n",
       "      <td>kotlin mockk</td>\n",
       "    </tr>\n",
       "    <tr>\n",
       "      <th>38900</th>\n",
       "      <td>hoping try cro library raku https services doc...</td>\n",
       "      <td>raku cro</td>\n",
       "    </tr>\n",
       "    <tr>\n",
       "      <th>38901</th>\n",
       "      <td>dataframe indexes numbers strings specifically...</td>\n",
       "      <td>python panda index</td>\n",
       "    </tr>\n",
       "  </tbody>\n",
       "</table>\n",
       "<p>38902 rows × 2 columns</p>\n",
       "</div>"
      ],
      "text/plain": [
       "                                               Txt_Clean  \\\n",
       "0                                 python metaclasses use   \n",
       "1      good regular expression validate text string m...   \n",
       "2      two unsorted lists need produce another list s...   \n",
       "3      tools like selenium good testing user interact...   \n",
       "4      like know easier way insert record already exi...   \n",
       "...                                                  ...   \n",
       "38897  company perl application server ip new rule im...   \n",
       "38898  typescript compiler compile optional chaining ...   \n",
       "38899  using mockk spy kotlin java class field anonym...   \n",
       "38900  hoping try cro library raku https services doc...   \n",
       "38901  dataframe indexes numbers strings specifically...   \n",
       "\n",
       "                                 Tags_Clean  \n",
       "0      python oop metaclass class datamodel  \n",
       "1                                   c regex  \n",
       "2                  algorithm sort lisp list  \n",
       "3               test browser user interface  \n",
       "4                                c linq sql  \n",
       "...                                     ...  \n",
       "38897                mysql perl mariadb dbi  \n",
       "38898            typescript language design  \n",
       "38899                          kotlin mockk  \n",
       "38900                              raku cro  \n",
       "38901                    python panda index  \n",
       "\n",
       "[38902 rows x 2 columns]"
      ]
     },
     "execution_count": 93,
     "metadata": {},
     "output_type": "execute_result"
    },
    {
     "name": "stdout",
     "output_type": "stream",
     "text": [
      "time: 258 ms (started: 2021-12-31 20:03:20 +01:00)\n"
     ]
    }
   ],
   "source": [
    "XY = pd.read_csv('/Users/soso/Desktop/IML_P5/export_clean_df.csv', dtype=str) \n",
    "XY"
   ]
  },
  {
   "cell_type": "code",
   "execution_count": 94,
   "metadata": {},
   "outputs": [
    {
     "name": "stdout",
     "output_type": "stream",
     "text": [
      "time: 5.94 ms (started: 2021-12-31 20:03:20 +01:00)\n"
     ]
    }
   ],
   "source": [
    "y = pd.DataFrame(XY.Tags_Clean)\n",
    "X = pd.DataFrame(XY.Txt_Clean)"
   ]
  },
  {
   "cell_type": "code",
   "execution_count": 95,
   "metadata": {},
   "outputs": [
    {
     "name": "stdout",
     "output_type": "stream",
     "text": [
      "(38902, 3439)\n",
      "time: 3.44 s (started: 2021-12-31 20:03:20 +01:00)\n"
     ]
    }
   ],
   "source": [
    "x_feat = 3439\n",
    "vetorizar = TfidfVectorizer(max_features=x_feat) \n",
    "X = pd.DataFrame(vetorizar.fit_transform(X.Txt_Clean).toarray())\n",
    "print(X.shape)"
   ]
  },
  {
   "cell_type": "code",
   "execution_count": 96,
   "metadata": {},
   "outputs": [
    {
     "name": "stdout",
     "output_type": "stream",
     "text": [
      "(38902, 100)\n",
      "time: 368 ms (started: 2021-12-31 20:03:24 +01:00)\n"
     ]
    }
   ],
   "source": [
    "from sklearn.feature_extraction.text import CountVectorizer\n",
    "y_feat = 100\n",
    "vectorizer = CountVectorizer(max_features=y_feat)\n",
    "y = pd.DataFrame(vectorizer.fit_transform(y.Tags_Clean).toarray(), columns=vectorizer.get_feature_names())\n",
    "print(y.shape)"
   ]
  },
  {
   "cell_type": "code",
   "execution_count": 97,
   "metadata": {},
   "outputs": [
    {
     "name": "stdout",
     "output_type": "stream",
     "text": [
      "time: 1min 14s (started: 2021-12-31 20:03:24 +01:00)\n"
     ]
    }
   ],
   "source": [
    "from sklearn.decomposition import NMF\n",
    "model = NMF(n_components=6, random_state=5)\n",
    "# Fit the model to TF-IDF\n",
    "model.fit(X)\n",
    "# Transform the TF-IDF: nmf_features\n",
    "nmf_features = model.transform(X)"
   ]
  },
  {
   "cell_type": "code",
   "execution_count": 104,
   "metadata": {},
   "outputs": [
    {
     "name": "stdout",
     "output_type": "stream",
     "text": [
      "time: 2.03 ms (started: 2021-12-31 20:06:21 +01:00)\n"
     ]
    }
   ],
   "source": [
    "def avg_jacard(y_true,y_pred):\n",
    "    jacard = np.minimum(y_true,y_pred).sum(axis=1) / np.maximum(y_true,y_pred).sum(axis=1)    \n",
    "    return jacard.mean()*100\n",
    "\n",
    "    \n",
    "def print_score(y_pred, y_test):\n",
    "    print(\"Accuracy :\",metrics.accuracy_score(y_test,y_pred))\n",
    "    print(\"Macro f1 score :\",metrics.f1_score(y_test, y_pred, average = 'macro'))\n",
    "    print(\"Micro f1 score :\",metrics.f1_score(y_test, y_pred, average = 'micro'))\n",
    "    print(\"Jacard score: {}\".format(avg_jacard(y_test, y_pred)))\n",
    "    print(\"Hamming loss: {}\".format(metrics.hamming_loss(y_pred, y_test)*100))\n",
    "    print(\"---\")"
   ]
  },
  {
   "cell_type": "code",
   "execution_count": 99,
   "metadata": {},
   "outputs": [
    {
     "name": "stdout",
     "output_type": "stream",
     "text": [
      "(38902, 100)\n",
      "(38902, 6)\n",
      "X_train : (10000, 6)\n",
      "X_test : (10000, 6)\n",
      "y_train : (10000, 100)\n",
      "y_test : (10000, 100)\n",
      "time: 217 ms (started: 2021-12-31 20:04:39 +01:00)\n"
     ]
    }
   ],
   "source": [
    "nmf_features_df = pd.DataFrame(nmf_features)\n",
    "\n",
    "print(y.shape)\n",
    "print(nmf_features_df.shape)\n",
    "\n",
    "X_train =  nmf_features_df.iloc[0:10000]\n",
    "X_test =  nmf_features_df.iloc[10000:20000]\n",
    "y_train = y.iloc[0:10000]\n",
    "y_test = y.iloc[10000:20000]\n",
    "\n",
    "\n",
    "print('X_train :', X_train.shape)\n",
    "print('X_test :', X_test.shape)\n",
    "print('y_train :', y_train.shape)\n",
    "print('y_test :', y_test.shape)"
   ]
  },
  {
   "cell_type": "code",
   "execution_count": 110,
   "metadata": {},
   "outputs": [
    {
     "name": "stdout",
     "output_type": "stream",
     "text": [
      "SGDClassifier(alpha=1e-05, loss='log')    21:25:01\n",
      "Accuracy : 0.1782\n",
      "Macro f1 score : 0.018446761552542677\n",
      "Micro f1 score : 0.10070516929891019\n",
      "Jacard score: 4.330432172869142\n",
      "Hamming loss: 1.5431\n",
      "---\n",
      "LogisticRegression(max_iter=10000)    21:25:04\n",
      "Accuracy : 0.17\n",
      "Macro f1 score : 0.0009236389075473511\n",
      "Micro f1 score : 0.008730901153726224\n",
      "Jacard score: 0.3001284830964425\n",
      "Hamming loss: 1.5895\n",
      "---\n",
      "ExtraTreesClassifier()    21:25:08\n",
      "Accuracy : 0.1791\n",
      "Macro f1 score : 0.036502280868447035\n",
      "Micro f1 score : 0.18087557603686638\n",
      "Jacard score: 8.632444855517276\n",
      "Hamming loss: 1.5642\n",
      "---\n",
      "RandomForestClassifier(n_estimators=50, random_state=0)    21:27:08\n",
      "Accuracy : 0.1871\n",
      "Macro f1 score : 0.03672386551699692\n",
      "Micro f1 score : 0.19100646940290594\n",
      "Jacard score: 9.107819905213297\n",
      "Hamming loss: 1.5256\n",
      "---\n",
      "LGBMClassifier()    21:29:11\n",
      "Accuracy : 0.1791\n",
      "Macro f1 score : 0.045543711583540494\n",
      "Micro f1 score : 0.197050869942344\n",
      "Jacard score: 9.246400343402131\n",
      "Hamming loss: 1.5737\n",
      "---\n",
      "LinearSVC(class_weight='balanced', max_iter=10000)    21:30:34\n",
      "Accuracy : 0.0001\n",
      "Macro f1 score : 0.09623296814765406\n",
      "Micro f1 score : 0.07974309328304369\n",
      "Jacard score: 4.496174340093153\n",
      "Hamming loss: 27.424300000000002\n",
      "---\n",
      "time: 6min 59s (started: 2021-12-31 21:25:01 +01:00)\n"
     ]
    }
   ],
   "source": [
    "from sklearn.multiclass import OneVsRestClassifier\n",
    "from sklearn.linear_model import SGDClassifier,LogisticRegression\n",
    "from sklearn.ensemble import RandomForestClassifier,ExtraTreesClassifier\n",
    "from sklearn.ensemble import ExtraTreesClassifier\n",
    "from lightgbm import LGBMClassifier\n",
    "from sklearn.svm import LinearSVC\n",
    "from sklearn import metrics\n",
    "from datetime import datetime\n",
    "\n",
    "model_1 = SGDClassifier(alpha=1e-05, loss='log')\n",
    "model_2 = LogisticRegression(max_iter=10000)\n",
    "model_3 = ExtraTreesClassifier()\n",
    "model_4 = RandomForestClassifier(n_estimators=50, random_state=0)\n",
    "model_5 = LGBMClassifier() \n",
    "model_6 = LinearSVC(class_weight='balanced', max_iter=10000)\n",
    "\n",
    "\n",
    "print(str(model_1),'  ', datetime.now().strftime(\"%H:%M:%S\"))\n",
    "clf_1 = OneVsRestClassifier(model_1)\n",
    "clf_1.fit(X_train, y_train)\n",
    "y_pred = clf_1.predict(X_test)\n",
    "print_score(y_pred,y_test)\n",
    "\n",
    "print(str(model_2),'  ', datetime.now().strftime(\"%H:%M:%S\"))\n",
    "clf_2 = OneVsRestClassifier(model_2)\n",
    "clf_2.fit(X_train, y_train)\n",
    "y_pred = clf_2.predict(X_test)\n",
    "print_score(y_pred,y_test)\n",
    "\n",
    "print(str(model_3),'  ', datetime.now().strftime(\"%H:%M:%S\"))\n",
    "clf_3 = OneVsRestClassifier(model_3)\n",
    "clf_3.fit(X_train, y_train)\n",
    "y_pred = clf_3.predict(X_test)\n",
    "print_score(y_pred,y_test)\n",
    "\n",
    "print(str(model_4),'  ', datetime.now().strftime(\"%H:%M:%S\"))\n",
    "clf_4 = OneVsRestClassifier(model_4)\n",
    "clf_4.fit(X_train, y_train)\n",
    "y_pred = clf_4.predict(X_test)\n",
    "print_score(y_pred,y_test)\n",
    "\n",
    "print(str(model_5),'  ', datetime.now().strftime(\"%H:%M:%S\"))\n",
    "clf_5 = OneVsRestClassifier(model_5)\n",
    "clf_5.fit(X_train, y_train)\n",
    "y_pred = clf_5.predict(X_test)\n",
    "print_score(y_pred,y_test)\n",
    "\n",
    "print(str(model_6),'  ', datetime.now().strftime(\"%H:%M:%S\"))\n",
    "clf_6 = OneVsRestClassifier(model_6)\n",
    "clf_6.fit(X_train, y_train)\n",
    "y_pred = clf_6.predict(X_test)\n",
    "print_score(y_pred,y_test)\n",
    "\n"
   ]
  },
  {
   "cell_type": "code",
   "execution_count": 114,
   "metadata": {},
   "outputs": [
    {
     "name": "stdout",
     "output_type": "stream",
     "text": [
      "time: 1.87 ms (started: 2021-12-31 21:41:31 +01:00)\n"
     ]
    }
   ],
   "source": [
    "def _my_score_(idx):\n",
    "    row_pred_1 = pd.DataFrame(y_pred_df.iloc[idx])\n",
    "    row_pred_1 = row_pred_1.sort_values(by=[idx], ascending=False)\n",
    "    row_pred_2 = row_pred_1.head(3)\n",
    "    row_pred_2 = row_pred_2.reset_index()\n",
    "    row_pred_2.pop(idx)\n",
    "    row_pred_2 = row_pred_2.rename(columns={'level_0': \"Find_tag\"})\n",
    "    row_pred_val = row_pred_2.Find_tag.values\n",
    "    row_pred_val = row_pred_val.tolist()\n",
    "    len_pred_val = len(row_pred_val)\n",
    "    # ---\n",
    "    y_test_1 = pd.DataFrame(y_test).reset_index()\n",
    "    y_test_1.pop('index')\n",
    "    row_test_1 = pd.DataFrame(y_test_1.iloc[idx])\n",
    "    row_test_1 = row_test_1[row_test_1[idx] > 0]\n",
    "    row_test_1 = row_test_1.reset_index()\n",
    "    row_test_1.pop(idx)\n",
    "    row_test_1 = row_test_1.rename(columns={'index': \"Real_tag\"})\n",
    "    row_real_val = row_test_1.Real_tag.values\n",
    "    row_real_val = row_real_val.tolist()\n",
    "    len_real_val = len(row_real_val)\n",
    "    #----\n",
    "    compare = set(row_pred_val) & set(row_real_val)\n",
    "    len_compare_ok  = len(compare)\n",
    "    #----\n",
    "    row.append([len_pred_val,len_real_val,len_compare_ok])"
   ]
  },
  {
   "cell_type": "code",
   "execution_count": 115,
   "metadata": {},
   "outputs": [
    {
     "name": "stdout",
     "output_type": "stream",
     "text": [
      "OneVsRestClassifier(estimator=SGDClassifier(alpha=1e-05, loss='log'))\n",
      "My Score :  0.3045212857487012\n",
      "OneVsRestClassifier(estimator=LogisticRegression(max_iter=10000))\n",
      "My Score :  0.29142231934932483\n",
      "OneVsRestClassifier(estimator=ExtraTreesClassifier())\n",
      "My Score :  0.2990849881267847\n",
      "OneVsRestClassifier(estimator=RandomForestClassifier(n_estimators=50,\n",
      "                                                     random_state=0))\n",
      "My Score :  0.310030141904991\n",
      "OneVsRestClassifier(estimator=LGBMClassifier())\n",
      "My Score :  0.323574927441466\n",
      "time: 12min 43s (started: 2021-12-31 21:41:33 +01:00)\n"
     ]
    }
   ],
   "source": [
    "_len_ = y_test.shape[0]\n",
    "\n",
    "\n",
    "lst_mod = [clf_1, clf_2,clf_3,clf_4,clf_5]\n",
    "for xXx in lst_mod:\n",
    "    print(xXx)\n",
    "    y_proba_df = xXx.predict_proba(X_test)\n",
    "    y_pred_df = pd.DataFrame(y_proba_df, columns=[y.columns])\n",
    "    row = []\n",
    "    for i in range(_len_):\n",
    "        _my_score_(i)\n",
    "    eval_df = pd.DataFrame(row, columns=['Pred','Real','Match'])\n",
    "    eval_df['Eval'] = eval_df['Match'] / eval_df['Real']\n",
    "    _eval_val = eval_df.Eval.mean(axis = 0)\n",
    "\n",
    "    print('My Score : ' , _eval_val)"
   ]
  },
  {
   "cell_type": "code",
   "execution_count": null,
   "metadata": {},
   "outputs": [],
   "source": [
    "data = [\n",
    "[\"SGDClassifier - Semi - NMF\", 0.30, 0.17,0.01,0.10,4,1.54, 1],\n",
    "[\"LogisticRegression - Semi - NMF\",0.29,  0.17,0.00,0.00,0.30,1.58, 1],\n",
    "[\"ExtraTreesClassifier - Semi - NMF\", 0.29, 0.17,0.03, 0.18,8,1.56, 1],\n",
    "[\"RandomForestClassifier - Semi - NMF\", 0.31, 0.18,0.03, 0.19,9,1.52, 1],\n",
    "[\"LGBMClassifier - Semi - NMF\",0.32, 0.17,0.04,0.19,9,1.57, 1]]"
   ]
  }
 ],
 "metadata": {
  "kernelspec": {
   "display_name": "Python 3 (ipykernel)",
   "language": "python",
   "name": "python3"
  },
  "language_info": {
   "codemirror_mode": {
    "name": "ipython",
    "version": 3
   },
   "file_extension": ".py",
   "mimetype": "text/x-python",
   "name": "python",
   "nbconvert_exporter": "python",
   "pygments_lexer": "ipython3",
   "version": "3.8.5"
  }
 },
 "nbformat": 4,
 "nbformat_minor": 5
}
